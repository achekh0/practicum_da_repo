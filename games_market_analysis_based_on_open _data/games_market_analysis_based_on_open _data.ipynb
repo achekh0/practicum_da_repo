{
 "cells": [
  {
   "cell_type": "markdown",
   "metadata": {},
   "source": [
    "\n",
    "\n",
    "<h1> Анализ данных о продажах и рейтинге компьтерных игр на данных из открытых источников.</h1>\n",
    "\n",
    "\n",
    "<b> Краткое описание проекта</b>\n",
    "\n",
    "Из открытых источников доступны исторические данные о продажах игр, оценки пользователей и экспертов, жанры и платформы (например, Xbox или PlayStation). \n",
    "\n",
    "В ходе исследования предстоит выявить определяющие успешность игры закономерности. Это позволит сделать ставку на потенциально популярный продукт и спланировать рекламные кампании.\n",
    "\n",
    "\n",
    "<b>Описание данных.</b>\n",
    "    \n",
    "Перед нами данные до 2016 года. Файл games.csv содержит столбцы следующего содержания:\n",
    "\n",
    "\n",
    "Name — название игры\n",
    "\n",
    "Platform — платформа\n",
    "\n",
    "Year_of_Release — год выпуска\n",
    "\n",
    "Genre — жанр игры\n",
    "\n",
    "NA_sales — продажи в Северной Америке (миллионы проданных копий)\n",
    "\n",
    "EU_sales — продажи в Европе (миллионы проданных копий)\n",
    "\n",
    "JP_sales — продажи в Японии (миллионы проданных копий)\n",
    "\n",
    "Other_sales — продажи в других странах (миллионы проданных копий)\n",
    "\n",
    "Critic_Score — оценка критиков (максимум 100)\n",
    "\n",
    "User_Score — оценка пользователей (максимум 10)\n",
    "\n",
    "Rating — рейтинг от организации ESRB (англ. Entertainment Software Rating Board). Эта ассоциация определяет рейтинг компьютерных игр и присваивает им подходящую возрастную категорию.\n",
    "\n",
    "Данные за 2016 год могут быть неполными.\n",
    "\n",
    "<b> План работы </b>\n",
    "\n",
    "1. Открыть файл и изучить общую информацию;\n",
    "2. Провести предварительную обработку данных: заменить названия столбцов, изменить типы данных там где требуется, заполнить пропуски, удалить дубликаты, если потребуется, посчитать и добавить информацию о суммарных продажах;\n",
    "3. Провести исследовательский анализ данных;\n",
    "4. Составить портреты пользователей;\n",
    "5. Выдвинуть и проверить статистические гипотезы;\n",
    "6. Написать общий вывод.\n",
    "\n",
    "\n",
    "\n",
    "\n"
   ]
  },
  {
   "cell_type": "code",
   "execution_count": 3,
   "metadata": {},
   "outputs": [],
   "source": [
    "import numpy as np\n",
    "import pandas as pd\n",
    "import matplotlib.pyplot as plt\n",
    "import seaborn as sns\n",
    "from scipy import stats as st\n",
    "import statistics"
   ]
  },
  {
   "cell_type": "markdown",
   "metadata": {},
   "source": [
    "**Шаг 1. Открываем файл с данными и изучаем общую информацию**"
   ]
  },
  {
   "cell_type": "code",
   "execution_count": 4,
   "metadata": {},
   "outputs": [],
   "source": [
    "games=pd.read_csv('games.csv')"
   ]
  },
  {
   "cell_type": "code",
   "execution_count": 5,
   "metadata": {},
   "outputs": [
    {
     "data": {
      "text/html": [
       "<div>\n",
       "<style scoped>\n",
       "    .dataframe tbody tr th:only-of-type {\n",
       "        vertical-align: middle;\n",
       "    }\n",
       "\n",
       "    .dataframe tbody tr th {\n",
       "        vertical-align: top;\n",
       "    }\n",
       "\n",
       "    .dataframe thead th {\n",
       "        text-align: right;\n",
       "    }\n",
       "</style>\n",
       "<table border=\"1\" class=\"dataframe\">\n",
       "  <thead>\n",
       "    <tr style=\"text-align: right;\">\n",
       "      <th></th>\n",
       "      <th>Name</th>\n",
       "      <th>Platform</th>\n",
       "      <th>Year_of_Release</th>\n",
       "      <th>Genre</th>\n",
       "      <th>NA_sales</th>\n",
       "      <th>EU_sales</th>\n",
       "      <th>JP_sales</th>\n",
       "      <th>Other_sales</th>\n",
       "      <th>Critic_Score</th>\n",
       "      <th>User_Score</th>\n",
       "      <th>Rating</th>\n",
       "    </tr>\n",
       "  </thead>\n",
       "  <tbody>\n",
       "    <tr>\n",
       "      <th>0</th>\n",
       "      <td>Wii Sports</td>\n",
       "      <td>Wii</td>\n",
       "      <td>2006.0</td>\n",
       "      <td>Sports</td>\n",
       "      <td>41.36</td>\n",
       "      <td>28.96</td>\n",
       "      <td>3.77</td>\n",
       "      <td>8.45</td>\n",
       "      <td>76.0</td>\n",
       "      <td>8</td>\n",
       "      <td>E</td>\n",
       "    </tr>\n",
       "    <tr>\n",
       "      <th>1</th>\n",
       "      <td>Super Mario Bros.</td>\n",
       "      <td>NES</td>\n",
       "      <td>1985.0</td>\n",
       "      <td>Platform</td>\n",
       "      <td>29.08</td>\n",
       "      <td>3.58</td>\n",
       "      <td>6.81</td>\n",
       "      <td>0.77</td>\n",
       "      <td>NaN</td>\n",
       "      <td>NaN</td>\n",
       "      <td>NaN</td>\n",
       "    </tr>\n",
       "    <tr>\n",
       "      <th>2</th>\n",
       "      <td>Mario Kart Wii</td>\n",
       "      <td>Wii</td>\n",
       "      <td>2008.0</td>\n",
       "      <td>Racing</td>\n",
       "      <td>15.68</td>\n",
       "      <td>12.76</td>\n",
       "      <td>3.79</td>\n",
       "      <td>3.29</td>\n",
       "      <td>82.0</td>\n",
       "      <td>8.3</td>\n",
       "      <td>E</td>\n",
       "    </tr>\n",
       "    <tr>\n",
       "      <th>3</th>\n",
       "      <td>Wii Sports Resort</td>\n",
       "      <td>Wii</td>\n",
       "      <td>2009.0</td>\n",
       "      <td>Sports</td>\n",
       "      <td>15.61</td>\n",
       "      <td>10.93</td>\n",
       "      <td>3.28</td>\n",
       "      <td>2.95</td>\n",
       "      <td>80.0</td>\n",
       "      <td>8</td>\n",
       "      <td>E</td>\n",
       "    </tr>\n",
       "    <tr>\n",
       "      <th>4</th>\n",
       "      <td>Pokemon Red/Pokemon Blue</td>\n",
       "      <td>GB</td>\n",
       "      <td>1996.0</td>\n",
       "      <td>Role-Playing</td>\n",
       "      <td>11.27</td>\n",
       "      <td>8.89</td>\n",
       "      <td>10.22</td>\n",
       "      <td>1.00</td>\n",
       "      <td>NaN</td>\n",
       "      <td>NaN</td>\n",
       "      <td>NaN</td>\n",
       "    </tr>\n",
       "  </tbody>\n",
       "</table>\n",
       "</div>"
      ],
      "text/plain": [
       "                       Name Platform  Year_of_Release         Genre  NA_sales  \\\n",
       "0                Wii Sports      Wii           2006.0        Sports     41.36   \n",
       "1         Super Mario Bros.      NES           1985.0      Platform     29.08   \n",
       "2            Mario Kart Wii      Wii           2008.0        Racing     15.68   \n",
       "3         Wii Sports Resort      Wii           2009.0        Sports     15.61   \n",
       "4  Pokemon Red/Pokemon Blue       GB           1996.0  Role-Playing     11.27   \n",
       "\n",
       "   EU_sales  JP_sales  Other_sales  Critic_Score User_Score Rating  \n",
       "0     28.96      3.77         8.45          76.0          8      E  \n",
       "1      3.58      6.81         0.77           NaN        NaN    NaN  \n",
       "2     12.76      3.79         3.29          82.0        8.3      E  \n",
       "3     10.93      3.28         2.95          80.0          8      E  \n",
       "4      8.89     10.22         1.00           NaN        NaN    NaN  "
      ]
     },
     "execution_count": 5,
     "metadata": {},
     "output_type": "execute_result"
    }
   ],
   "source": [
    "games.head()"
   ]
  },
  {
   "cell_type": "code",
   "execution_count": 6,
   "metadata": {
    "scrolled": true
   },
   "outputs": [
    {
     "name": "stdout",
     "output_type": "stream",
     "text": [
      "<class 'pandas.core.frame.DataFrame'>\n",
      "RangeIndex: 16715 entries, 0 to 16714\n",
      "Data columns (total 11 columns):\n",
      " #   Column           Non-Null Count  Dtype  \n",
      "---  ------           --------------  -----  \n",
      " 0   Name             16713 non-null  object \n",
      " 1   Platform         16715 non-null  object \n",
      " 2   Year_of_Release  16446 non-null  float64\n",
      " 3   Genre            16713 non-null  object \n",
      " 4   NA_sales         16715 non-null  float64\n",
      " 5   EU_sales         16715 non-null  float64\n",
      " 6   JP_sales         16715 non-null  float64\n",
      " 7   Other_sales      16715 non-null  float64\n",
      " 8   Critic_Score     8137 non-null   float64\n",
      " 9   User_Score       10014 non-null  object \n",
      " 10  Rating           9949 non-null   object \n",
      "dtypes: float64(6), object(5)\n",
      "memory usage: 1.4+ MB\n"
     ]
    }
   ],
   "source": [
    "games.info()"
   ]
  },
  {
   "cell_type": "code",
   "execution_count": 7,
   "metadata": {},
   "outputs": [
    {
     "name": "stdout",
     "output_type": "stream",
     "text": [
      "Процент пропущенных значений в столбце  Name 0.01\n",
      "Процент пропущенных значений в столбце  Platform 0.0\n",
      "Процент пропущенных значений в столбце  Year_of_Release 1.61\n",
      "Процент пропущенных значений в столбце  Genre 0.01\n",
      "Процент пропущенных значений в столбце  NA_sales 0.0\n",
      "Процент пропущенных значений в столбце  EU_sales 0.0\n",
      "Процент пропущенных значений в столбце  JP_sales 0.0\n",
      "Процент пропущенных значений в столбце  Other_sales 0.0\n",
      "Процент пропущенных значений в столбце  Critic_Score 51.32\n",
      "Процент пропущенных значений в столбце  User_Score 40.09\n",
      "Процент пропущенных значений в столбце  Rating 40.48\n"
     ]
    }
   ],
   "source": [
    "for column in games:\n",
    "    print ('Процент пропущенных значений в столбце ',column,round(games[column].isna().sum()/len(games)*100,2))"
   ]
  },
  {
   "cell_type": "code",
   "execution_count": 8,
   "metadata": {
    "scrolled": true
   },
   "outputs": [
    {
     "data": {
      "text/html": [
       "<div>\n",
       "<style scoped>\n",
       "    .dataframe tbody tr th:only-of-type {\n",
       "        vertical-align: middle;\n",
       "    }\n",
       "\n",
       "    .dataframe tbody tr th {\n",
       "        vertical-align: top;\n",
       "    }\n",
       "\n",
       "    .dataframe thead th {\n",
       "        text-align: right;\n",
       "    }\n",
       "</style>\n",
       "<table border=\"1\" class=\"dataframe\">\n",
       "  <thead>\n",
       "    <tr style=\"text-align: right;\">\n",
       "      <th></th>\n",
       "      <th>Year_of_Release</th>\n",
       "      <th>NA_sales</th>\n",
       "      <th>EU_sales</th>\n",
       "      <th>JP_sales</th>\n",
       "      <th>Other_sales</th>\n",
       "      <th>Critic_Score</th>\n",
       "    </tr>\n",
       "  </thead>\n",
       "  <tbody>\n",
       "    <tr>\n",
       "      <th>count</th>\n",
       "      <td>16446.000000</td>\n",
       "      <td>16715.000000</td>\n",
       "      <td>16715.000000</td>\n",
       "      <td>16715.000000</td>\n",
       "      <td>16715.000000</td>\n",
       "      <td>8137.000000</td>\n",
       "    </tr>\n",
       "    <tr>\n",
       "      <th>mean</th>\n",
       "      <td>2006.484616</td>\n",
       "      <td>0.263377</td>\n",
       "      <td>0.145060</td>\n",
       "      <td>0.077617</td>\n",
       "      <td>0.047342</td>\n",
       "      <td>68.967679</td>\n",
       "    </tr>\n",
       "    <tr>\n",
       "      <th>std</th>\n",
       "      <td>5.877050</td>\n",
       "      <td>0.813604</td>\n",
       "      <td>0.503339</td>\n",
       "      <td>0.308853</td>\n",
       "      <td>0.186731</td>\n",
       "      <td>13.938165</td>\n",
       "    </tr>\n",
       "    <tr>\n",
       "      <th>min</th>\n",
       "      <td>1980.000000</td>\n",
       "      <td>0.000000</td>\n",
       "      <td>0.000000</td>\n",
       "      <td>0.000000</td>\n",
       "      <td>0.000000</td>\n",
       "      <td>13.000000</td>\n",
       "    </tr>\n",
       "    <tr>\n",
       "      <th>25%</th>\n",
       "      <td>2003.000000</td>\n",
       "      <td>0.000000</td>\n",
       "      <td>0.000000</td>\n",
       "      <td>0.000000</td>\n",
       "      <td>0.000000</td>\n",
       "      <td>60.000000</td>\n",
       "    </tr>\n",
       "    <tr>\n",
       "      <th>50%</th>\n",
       "      <td>2007.000000</td>\n",
       "      <td>0.080000</td>\n",
       "      <td>0.020000</td>\n",
       "      <td>0.000000</td>\n",
       "      <td>0.010000</td>\n",
       "      <td>71.000000</td>\n",
       "    </tr>\n",
       "    <tr>\n",
       "      <th>75%</th>\n",
       "      <td>2010.000000</td>\n",
       "      <td>0.240000</td>\n",
       "      <td>0.110000</td>\n",
       "      <td>0.040000</td>\n",
       "      <td>0.030000</td>\n",
       "      <td>79.000000</td>\n",
       "    </tr>\n",
       "    <tr>\n",
       "      <th>max</th>\n",
       "      <td>2016.000000</td>\n",
       "      <td>41.360000</td>\n",
       "      <td>28.960000</td>\n",
       "      <td>10.220000</td>\n",
       "      <td>10.570000</td>\n",
       "      <td>98.000000</td>\n",
       "    </tr>\n",
       "  </tbody>\n",
       "</table>\n",
       "</div>"
      ],
      "text/plain": [
       "       Year_of_Release      NA_sales      EU_sales      JP_sales  \\\n",
       "count     16446.000000  16715.000000  16715.000000  16715.000000   \n",
       "mean       2006.484616      0.263377      0.145060      0.077617   \n",
       "std           5.877050      0.813604      0.503339      0.308853   \n",
       "min        1980.000000      0.000000      0.000000      0.000000   \n",
       "25%        2003.000000      0.000000      0.000000      0.000000   \n",
       "50%        2007.000000      0.080000      0.020000      0.000000   \n",
       "75%        2010.000000      0.240000      0.110000      0.040000   \n",
       "max        2016.000000     41.360000     28.960000     10.220000   \n",
       "\n",
       "        Other_sales  Critic_Score  \n",
       "count  16715.000000   8137.000000  \n",
       "mean       0.047342     68.967679  \n",
       "std        0.186731     13.938165  \n",
       "min        0.000000     13.000000  \n",
       "25%        0.000000     60.000000  \n",
       "50%        0.010000     71.000000  \n",
       "75%        0.030000     79.000000  \n",
       "max       10.570000     98.000000  "
      ]
     },
     "execution_count": 8,
     "metadata": {},
     "output_type": "execute_result"
    }
   ],
   "source": [
    "games.describe()"
   ]
  },
  {
   "cell_type": "code",
   "execution_count": 9,
   "metadata": {},
   "outputs": [
    {
     "data": {
      "text/plain": [
       "0"
      ]
     },
     "execution_count": 9,
     "metadata": {},
     "output_type": "execute_result"
    }
   ],
   "source": [
    "#Проверяем данные на дупликаты\n",
    "games.duplicated().sum()"
   ]
  },
  {
   "cell_type": "markdown",
   "metadata": {},
   "source": [
    "**Вывод к шагу 1:**\n",
    "\n",
    "Изучение общей информации показало, что \n",
    "\n",
    "в данных имеются пропуски в столбцах Name, Year_of_Release, Genre, Critic_Score, User_Score, Rating, которые нужно будет обработать, при необходимости на шаге предобработки. \n",
    "\n",
    "Также предстоит приветси названия столбцов к змениному регистру, изменить типы данных на числовой в столбце User_score.\n",
    "\n",
    "Явные дубликаты не выявлены.\n",
    "\n",
    "\n"
   ]
  },
  {
   "cell_type": "markdown",
   "metadata": {},
   "source": [
    "**Шаг 2. Подготовка данных**"
   ]
  },
  {
   "cell_type": "markdown",
   "metadata": {},
   "source": [
    "Замена названий столбцов (приведение к нижнему регистру)"
   ]
  },
  {
   "cell_type": "code",
   "execution_count": 10,
   "metadata": {},
   "outputs": [
    {
     "data": {
      "text/html": [
       "<div>\n",
       "<style scoped>\n",
       "    .dataframe tbody tr th:only-of-type {\n",
       "        vertical-align: middle;\n",
       "    }\n",
       "\n",
       "    .dataframe tbody tr th {\n",
       "        vertical-align: top;\n",
       "    }\n",
       "\n",
       "    .dataframe thead th {\n",
       "        text-align: right;\n",
       "    }\n",
       "</style>\n",
       "<table border=\"1\" class=\"dataframe\">\n",
       "  <thead>\n",
       "    <tr style=\"text-align: right;\">\n",
       "      <th></th>\n",
       "      <th>name</th>\n",
       "      <th>platform</th>\n",
       "      <th>year_of_release</th>\n",
       "      <th>genre</th>\n",
       "      <th>na_sales</th>\n",
       "      <th>eu_sales</th>\n",
       "      <th>jp_sales</th>\n",
       "      <th>other_sales</th>\n",
       "      <th>critic_score</th>\n",
       "      <th>user_score</th>\n",
       "      <th>rating</th>\n",
       "    </tr>\n",
       "  </thead>\n",
       "  <tbody>\n",
       "    <tr>\n",
       "      <th>0</th>\n",
       "      <td>Wii Sports</td>\n",
       "      <td>Wii</td>\n",
       "      <td>2006.0</td>\n",
       "      <td>Sports</td>\n",
       "      <td>41.36</td>\n",
       "      <td>28.96</td>\n",
       "      <td>3.77</td>\n",
       "      <td>8.45</td>\n",
       "      <td>76.0</td>\n",
       "      <td>8</td>\n",
       "      <td>E</td>\n",
       "    </tr>\n",
       "    <tr>\n",
       "      <th>1</th>\n",
       "      <td>Super Mario Bros.</td>\n",
       "      <td>NES</td>\n",
       "      <td>1985.0</td>\n",
       "      <td>Platform</td>\n",
       "      <td>29.08</td>\n",
       "      <td>3.58</td>\n",
       "      <td>6.81</td>\n",
       "      <td>0.77</td>\n",
       "      <td>NaN</td>\n",
       "      <td>NaN</td>\n",
       "      <td>NaN</td>\n",
       "    </tr>\n",
       "    <tr>\n",
       "      <th>2</th>\n",
       "      <td>Mario Kart Wii</td>\n",
       "      <td>Wii</td>\n",
       "      <td>2008.0</td>\n",
       "      <td>Racing</td>\n",
       "      <td>15.68</td>\n",
       "      <td>12.76</td>\n",
       "      <td>3.79</td>\n",
       "      <td>3.29</td>\n",
       "      <td>82.0</td>\n",
       "      <td>8.3</td>\n",
       "      <td>E</td>\n",
       "    </tr>\n",
       "    <tr>\n",
       "      <th>3</th>\n",
       "      <td>Wii Sports Resort</td>\n",
       "      <td>Wii</td>\n",
       "      <td>2009.0</td>\n",
       "      <td>Sports</td>\n",
       "      <td>15.61</td>\n",
       "      <td>10.93</td>\n",
       "      <td>3.28</td>\n",
       "      <td>2.95</td>\n",
       "      <td>80.0</td>\n",
       "      <td>8</td>\n",
       "      <td>E</td>\n",
       "    </tr>\n",
       "    <tr>\n",
       "      <th>4</th>\n",
       "      <td>Pokemon Red/Pokemon Blue</td>\n",
       "      <td>GB</td>\n",
       "      <td>1996.0</td>\n",
       "      <td>Role-Playing</td>\n",
       "      <td>11.27</td>\n",
       "      <td>8.89</td>\n",
       "      <td>10.22</td>\n",
       "      <td>1.00</td>\n",
       "      <td>NaN</td>\n",
       "      <td>NaN</td>\n",
       "      <td>NaN</td>\n",
       "    </tr>\n",
       "  </tbody>\n",
       "</table>\n",
       "</div>"
      ],
      "text/plain": [
       "                       name platform  year_of_release         genre  na_sales  \\\n",
       "0                Wii Sports      Wii           2006.0        Sports     41.36   \n",
       "1         Super Mario Bros.      NES           1985.0      Platform     29.08   \n",
       "2            Mario Kart Wii      Wii           2008.0        Racing     15.68   \n",
       "3         Wii Sports Resort      Wii           2009.0        Sports     15.61   \n",
       "4  Pokemon Red/Pokemon Blue       GB           1996.0  Role-Playing     11.27   \n",
       "\n",
       "   eu_sales  jp_sales  other_sales  critic_score user_score rating  \n",
       "0     28.96      3.77         8.45          76.0          8      E  \n",
       "1      3.58      6.81         0.77           NaN        NaN    NaN  \n",
       "2     12.76      3.79         3.29          82.0        8.3      E  \n",
       "3     10.93      3.28         2.95          80.0          8      E  \n",
       "4      8.89     10.22         1.00           NaN        NaN    NaN  "
      ]
     },
     "execution_count": 10,
     "metadata": {},
     "output_type": "execute_result"
    }
   ],
   "source": [
    "games.columns = games.columns.str.lower()\n",
    "games.head()"
   ]
  },
  {
   "cell_type": "markdown",
   "metadata": {},
   "source": [
    "Преобразование данных в нужные типы. Обработка пропусков."
   ]
  },
  {
   "cell_type": "markdown",
   "metadata": {},
   "source": [
    "Столбцы name и genre."
   ]
  },
  {
   "cell_type": "code",
   "execution_count": 11,
   "metadata": {},
   "outputs": [
    {
     "data": {
      "text/plain": [
       "2"
      ]
     },
     "execution_count": 11,
     "metadata": {},
     "output_type": "execute_result"
    }
   ],
   "source": [
    "len(games[games['name'].isna()])"
   ]
  },
  {
   "cell_type": "code",
   "execution_count": 12,
   "metadata": {},
   "outputs": [
    {
     "data": {
      "text/plain": [
       "2"
      ]
     },
     "execution_count": 12,
     "metadata": {},
     "output_type": "execute_result"
    }
   ],
   "source": [
    "len(games[games['genre'].isna()])"
   ]
  },
  {
   "cell_type": "code",
   "execution_count": 13,
   "metadata": {},
   "outputs": [
    {
     "data": {
      "text/html": [
       "<div>\n",
       "<style scoped>\n",
       "    .dataframe tbody tr th:only-of-type {\n",
       "        vertical-align: middle;\n",
       "    }\n",
       "\n",
       "    .dataframe tbody tr th {\n",
       "        vertical-align: top;\n",
       "    }\n",
       "\n",
       "    .dataframe thead th {\n",
       "        text-align: right;\n",
       "    }\n",
       "</style>\n",
       "<table border=\"1\" class=\"dataframe\">\n",
       "  <thead>\n",
       "    <tr style=\"text-align: right;\">\n",
       "      <th></th>\n",
       "      <th>name</th>\n",
       "      <th>platform</th>\n",
       "      <th>year_of_release</th>\n",
       "      <th>genre</th>\n",
       "      <th>na_sales</th>\n",
       "      <th>eu_sales</th>\n",
       "      <th>jp_sales</th>\n",
       "      <th>other_sales</th>\n",
       "      <th>critic_score</th>\n",
       "      <th>user_score</th>\n",
       "      <th>rating</th>\n",
       "    </tr>\n",
       "  </thead>\n",
       "  <tbody>\n",
       "    <tr>\n",
       "      <th>659</th>\n",
       "      <td>NaN</td>\n",
       "      <td>GEN</td>\n",
       "      <td>1993.0</td>\n",
       "      <td>NaN</td>\n",
       "      <td>1.78</td>\n",
       "      <td>0.53</td>\n",
       "      <td>0.00</td>\n",
       "      <td>0.08</td>\n",
       "      <td>NaN</td>\n",
       "      <td>NaN</td>\n",
       "      <td>NaN</td>\n",
       "    </tr>\n",
       "    <tr>\n",
       "      <th>14244</th>\n",
       "      <td>NaN</td>\n",
       "      <td>GEN</td>\n",
       "      <td>1993.0</td>\n",
       "      <td>NaN</td>\n",
       "      <td>0.00</td>\n",
       "      <td>0.00</td>\n",
       "      <td>0.03</td>\n",
       "      <td>0.00</td>\n",
       "      <td>NaN</td>\n",
       "      <td>NaN</td>\n",
       "      <td>NaN</td>\n",
       "    </tr>\n",
       "  </tbody>\n",
       "</table>\n",
       "</div>"
      ],
      "text/plain": [
       "      name platform  year_of_release genre  na_sales  eu_sales  jp_sales  \\\n",
       "659    NaN      GEN           1993.0   NaN      1.78      0.53      0.00   \n",
       "14244  NaN      GEN           1993.0   NaN      0.00      0.00      0.03   \n",
       "\n",
       "       other_sales  critic_score user_score rating  \n",
       "659           0.08           NaN        NaN    NaN  \n",
       "14244         0.00           NaN        NaN    NaN  "
      ]
     },
     "execution_count": 13,
     "metadata": {},
     "output_type": "execute_result"
    }
   ],
   "source": [
    "games[games['name'].isna()]"
   ]
  },
  {
   "cell_type": "markdown",
   "metadata": {},
   "source": [
    "Пропуски в колонках name  и  genre - в одних и тех же строках. Таких строк всего две. Можно удалить эти строки, поскольку корректно восстановить значения не получится."
   ]
  },
  {
   "cell_type": "code",
   "execution_count": 14,
   "metadata": {},
   "outputs": [
    {
     "data": {
      "text/plain": [
       "0"
      ]
     },
     "execution_count": 14,
     "metadata": {},
     "output_type": "execute_result"
    }
   ],
   "source": [
    "games.dropna(subset=['name'], inplace=True)\n",
    "games=games.reset_index(drop=True)\n",
    "len(games[games['genre'].isna()])"
   ]
  },
  {
   "cell_type": "markdown",
   "metadata": {},
   "source": [
    "year_of_release"
   ]
  },
  {
   "cell_type": "code",
   "execution_count": 15,
   "metadata": {},
   "outputs": [
    {
     "data": {
      "image/png": "[encoded data removed]",
      "text/plain": [
       "<Figure size 432x288 with 1 Axes>"
      ]
     },
     "metadata": {
      "needs_background": "light"
     },
     "output_type": "display_data"
    }
   ],
   "source": [
    "\n",
    "plt.hist(games['year_of_release'],bins=100)\n",
    "plt.grid()"
   ]
  },
  {
   "cell_type": "code",
   "execution_count": 16,
   "metadata": {},
   "outputs": [
    {
     "data": {
      "text/plain": [
       "269"
      ]
     },
     "execution_count": 16,
     "metadata": {},
     "output_type": "execute_result"
    }
   ],
   "source": [
    "len(games[games['year_of_release'].isna()])"
   ]
  },
  {
   "cell_type": "code",
   "execution_count": 17,
   "metadata": {},
   "outputs": [],
   "source": [
    "games.dropna(subset=['year_of_release'], inplace=True)\n",
    "games=games.reset_index(drop=True)"
   ]
  },
  {
   "cell_type": "code",
   "execution_count": 18,
   "metadata": {},
   "outputs": [
    {
     "data": {
      "text/plain": [
       "0"
      ]
     },
     "execution_count": 18,
     "metadata": {},
     "output_type": "execute_result"
    }
   ],
   "source": [
    "len(games[games['year_of_release'].isna()])"
   ]
  },
  {
   "cell_type": "markdown",
   "metadata": {},
   "source": [
    "В столбце year_of_release пропущено 269 значений. Удалим эти строки."
   ]
  },
  {
   "cell_type": "code",
   "execution_count": 19,
   "metadata": {
    "scrolled": true
   },
   "outputs": [
    {
     "data": {
      "text/plain": [
       "0"
      ]
     },
     "execution_count": 19,
     "metadata": {},
     "output_type": "execute_result"
    }
   ],
   "source": [
    "games['year_of_release']=games['year_of_release'].fillna(0)\n",
    "len(games[games['year_of_release'].isna()])"
   ]
  },
  {
   "cell_type": "markdown",
   "metadata": {},
   "source": [
    "critic_score и user_score"
   ]
  },
  {
   "cell_type": "code",
   "execution_count": 20,
   "metadata": {},
   "outputs": [
    {
     "data": {
      "text/plain": [
       "array([76., nan, 82., 80., 89., 58., 87., 91., 61., 97., 95., 77., 88.,\n",
       "       83., 94., 93., 85., 86., 98., 96., 90., 84., 73., 74., 78., 92.,\n",
       "       71., 72., 68., 62., 49., 67., 81., 66., 56., 79., 70., 59., 64.,\n",
       "       75., 60., 63., 69., 50., 25., 42., 44., 55., 48., 57., 29., 47.,\n",
       "       65., 54., 20., 53., 37., 38., 33., 52., 30., 32., 43., 45., 51.,\n",
       "       40., 46., 39., 34., 41., 36., 31., 27., 35., 26., 19., 28., 23.,\n",
       "       24., 21., 17., 13.])"
      ]
     },
     "execution_count": 20,
     "metadata": {},
     "output_type": "execute_result"
    }
   ],
   "source": [
    "games['critic_score'].unique()"
   ]
  },
  {
   "cell_type": "markdown",
   "metadata": {},
   "source": [
    "В столбце critic_score заменим пропуски нулями и приведем данные к цельночисловому типу"
   ]
  },
  {
   "cell_type": "code",
   "execution_count": 21,
   "metadata": {},
   "outputs": [
    {
     "data": {
      "text/plain": [
       "0"
      ]
     },
     "execution_count": 21,
     "metadata": {},
     "output_type": "execute_result"
    }
   ],
   "source": [
    "games['critic_score']=games['critic_score'].fillna(0)\n",
    "len(games[games['critic_score'].isna()])"
   ]
  },
  {
   "cell_type": "code",
   "execution_count": 22,
   "metadata": {},
   "outputs": [],
   "source": [
    "games['critic_score']=games['critic_score'].astype (int)"
   ]
  },
  {
   "cell_type": "markdown",
   "metadata": {},
   "source": [
    "В столбце user_score заменим пропуски нулями для того чтобы впроследствии изменить тип данных на числовой."
   ]
  },
  {
   "cell_type": "code",
   "execution_count": 23,
   "metadata": {},
   "outputs": [
    {
     "data": {
      "text/plain": [
       "array(['8', nan, '8.3', '8.5', '6.6', '8.4', '8.6', '7.7', '6.3', '7.4',\n",
       "       '8.2', '9', '7.9', '8.1', '8.7', '7.1', '3.4', '5.3', '4.8', '3.2',\n",
       "       '8.9', '6.4', '7.8', '7.5', '2.6', '7.2', '9.2', '7', '7.3', '4.3',\n",
       "       '7.6', '5.7', '5', '9.1', '6.5', 'tbd', '8.8', '6.9', '9.4', '6.8',\n",
       "       '6.1', '6.7', '5.4', '4', '4.9', '4.5', '9.3', '6.2', '4.2', '6',\n",
       "       '3.7', '4.1', '5.8', '5.6', '5.5', '4.4', '4.6', '5.9', '3.9',\n",
       "       '3.1', '2.9', '5.2', '3.3', '4.7', '5.1', '3.5', '2.5', '1.9', '3',\n",
       "       '2.7', '2.2', '2', '9.5', '2.1', '3.6', '2.8', '1.8', '3.8', '0',\n",
       "       '1.6', '9.6', '2.4', '1.7', '1.1', '0.3', '1.5', '0.7', '1.2',\n",
       "       '2.3', '0.5', '1.3', '0.2', '0.6', '1.4', '0.9', '1', '9.7'],\n",
       "      dtype=object)"
      ]
     },
     "execution_count": 23,
     "metadata": {},
     "output_type": "execute_result"
    }
   ],
   "source": [
    "games['user_score'].unique()"
   ]
  },
  {
   "cell_type": "markdown",
   "metadata": {},
   "source": [
    "Прежде чем заменить пропуски нулями - посмотрим на данные, в которых пользовательский рейтинг изначально был ноль. "
   ]
  },
  {
   "cell_type": "code",
   "execution_count": 24,
   "metadata": {},
   "outputs": [
    {
     "data": {
      "text/html": [
       "<div>\n",
       "<style scoped>\n",
       "    .dataframe tbody tr th:only-of-type {\n",
       "        vertical-align: middle;\n",
       "    }\n",
       "\n",
       "    .dataframe tbody tr th {\n",
       "        vertical-align: top;\n",
       "    }\n",
       "\n",
       "    .dataframe thead th {\n",
       "        text-align: right;\n",
       "    }\n",
       "</style>\n",
       "<table border=\"1\" class=\"dataframe\">\n",
       "  <thead>\n",
       "    <tr style=\"text-align: right;\">\n",
       "      <th></th>\n",
       "      <th>name</th>\n",
       "      <th>platform</th>\n",
       "      <th>year_of_release</th>\n",
       "      <th>genre</th>\n",
       "      <th>na_sales</th>\n",
       "      <th>eu_sales</th>\n",
       "      <th>jp_sales</th>\n",
       "      <th>other_sales</th>\n",
       "      <th>critic_score</th>\n",
       "      <th>user_score</th>\n",
       "      <th>rating</th>\n",
       "    </tr>\n",
       "  </thead>\n",
       "  <tbody>\n",
       "    <tr>\n",
       "      <th>2797</th>\n",
       "      <td>My Little Pony: Pinkie Pie's Party</td>\n",
       "      <td>DS</td>\n",
       "      <td>2008.0</td>\n",
       "      <td>Adventure</td>\n",
       "      <td>0.66</td>\n",
       "      <td>0.0</td>\n",
       "      <td>0.0</td>\n",
       "      <td>0.06</td>\n",
       "      <td>0</td>\n",
       "      <td>0</td>\n",
       "      <td>E</td>\n",
       "    </tr>\n",
       "  </tbody>\n",
       "</table>\n",
       "</div>"
      ],
      "text/plain": [
       "                                    name platform  year_of_release      genre  \\\n",
       "2797  My Little Pony: Pinkie Pie's Party       DS           2008.0  Adventure   \n",
       "\n",
       "      na_sales  eu_sales  jp_sales  other_sales  critic_score user_score  \\\n",
       "2797      0.66       0.0       0.0         0.06             0          0   \n",
       "\n",
       "     rating  \n",
       "2797      E  "
      ]
     },
     "execution_count": 24,
     "metadata": {},
     "output_type": "execute_result"
    }
   ],
   "source": [
    "games[games['user_score']=='0']"
   ]
  },
  {
   "cell_type": "markdown",
   "metadata": {},
   "source": [
    "Изначально ноль в столбце пользовательского рейтинга встречается один раз и этими данными можно пренебречь, они не повлияют на корректность дальнейшего анализа. Таким образом можем пропуски также заменить нулями, что позволит нам, при необходимости отфильтровать данные с ненулевыми значениями."
   ]
  },
  {
   "cell_type": "code",
   "execution_count": 25,
   "metadata": {},
   "outputs": [
    {
     "data": {
      "text/plain": [
       "0"
      ]
     },
     "execution_count": 25,
     "metadata": {},
     "output_type": "execute_result"
    }
   ],
   "source": [
    "games['user_score']=games['user_score'].fillna(0)\n",
    "len(games[games['user_score'].isna()])"
   ]
  },
  {
   "cell_type": "code",
   "execution_count": 26,
   "metadata": {},
   "outputs": [
    {
     "data": {
      "text/plain": [
       "array(['8', 0, '8.3', '8.5', '6.6', '8.4', '8.6', '7.7', '6.3', '7.4',\n",
       "       '8.2', '9', '7.9', '8.1', '8.7', '7.1', '3.4', '5.3', '4.8', '3.2',\n",
       "       '8.9', '6.4', '7.8', '7.5', '2.6', '7.2', '9.2', '7', '7.3', '4.3',\n",
       "       '7.6', '5.7', '5', '9.1', '6.5', 'tbd', '8.8', '6.9', '9.4', '6.8',\n",
       "       '6.1', '6.7', '5.4', '4', '4.9', '4.5', '9.3', '6.2', '4.2', '6',\n",
       "       '3.7', '4.1', '5.8', '5.6', '5.5', '4.4', '4.6', '5.9', '3.9',\n",
       "       '3.1', '2.9', '5.2', '3.3', '4.7', '5.1', '3.5', '2.5', '1.9', '3',\n",
       "       '2.7', '2.2', '2', '9.5', '2.1', '3.6', '2.8', '1.8', '3.8', '0',\n",
       "       '1.6', '9.6', '2.4', '1.7', '1.1', '0.3', '1.5', '0.7', '1.2',\n",
       "       '2.3', '0.5', '1.3', '0.2', '0.6', '1.4', '0.9', '1', '9.7'],\n",
       "      dtype=object)"
      ]
     },
     "execution_count": 26,
     "metadata": {},
     "output_type": "execute_result"
    }
   ],
   "source": [
    "games['user_score'].unique()"
   ]
  },
  {
   "cell_type": "markdown",
   "metadata": {},
   "source": []
  },
  {
   "cell_type": "code",
   "execution_count": 27,
   "metadata": {},
   "outputs": [
    {
     "data": {
      "text/plain": [
       "2376"
      ]
     },
     "execution_count": 27,
     "metadata": {},
     "output_type": "execute_result"
    }
   ],
   "source": [
    "len(games[games['user_score']=='tbd'])"
   ]
  },
  {
   "cell_type": "code",
   "execution_count": 28,
   "metadata": {},
   "outputs": [
    {
     "data": {
      "text/html": [
       "<div>\n",
       "<style scoped>\n",
       "    .dataframe tbody tr th:only-of-type {\n",
       "        vertical-align: middle;\n",
       "    }\n",
       "\n",
       "    .dataframe tbody tr th {\n",
       "        vertical-align: top;\n",
       "    }\n",
       "\n",
       "    .dataframe thead th {\n",
       "        text-align: right;\n",
       "    }\n",
       "</style>\n",
       "<table border=\"1\" class=\"dataframe\">\n",
       "  <thead>\n",
       "    <tr style=\"text-align: right;\">\n",
       "      <th></th>\n",
       "      <th>name</th>\n",
       "      <th>platform</th>\n",
       "      <th>year_of_release</th>\n",
       "      <th>genre</th>\n",
       "      <th>na_sales</th>\n",
       "      <th>eu_sales</th>\n",
       "      <th>jp_sales</th>\n",
       "      <th>other_sales</th>\n",
       "      <th>critic_score</th>\n",
       "      <th>user_score</th>\n",
       "      <th>rating</th>\n",
       "    </tr>\n",
       "  </thead>\n",
       "  <tbody>\n",
       "    <tr>\n",
       "      <th>119</th>\n",
       "      <td>Zumba Fitness</td>\n",
       "      <td>Wii</td>\n",
       "      <td>2010.0</td>\n",
       "      <td>Sports</td>\n",
       "      <td>3.45</td>\n",
       "      <td>2.59</td>\n",
       "      <td>0.0</td>\n",
       "      <td>0.66</td>\n",
       "      <td>0</td>\n",
       "      <td>tbd</td>\n",
       "      <td>E</td>\n",
       "    </tr>\n",
       "    <tr>\n",
       "      <th>300</th>\n",
       "      <td>Namco Museum: 50th Anniversary</td>\n",
       "      <td>PS2</td>\n",
       "      <td>2005.0</td>\n",
       "      <td>Misc</td>\n",
       "      <td>2.08</td>\n",
       "      <td>1.35</td>\n",
       "      <td>0.0</td>\n",
       "      <td>0.54</td>\n",
       "      <td>61</td>\n",
       "      <td>tbd</td>\n",
       "      <td>E10+</td>\n",
       "    </tr>\n",
       "    <tr>\n",
       "      <th>516</th>\n",
       "      <td>Zumba Fitness 2</td>\n",
       "      <td>Wii</td>\n",
       "      <td>2011.0</td>\n",
       "      <td>Sports</td>\n",
       "      <td>1.51</td>\n",
       "      <td>1.03</td>\n",
       "      <td>0.0</td>\n",
       "      <td>0.27</td>\n",
       "      <td>0</td>\n",
       "      <td>tbd</td>\n",
       "      <td>T</td>\n",
       "    </tr>\n",
       "    <tr>\n",
       "      <th>639</th>\n",
       "      <td>uDraw Studio</td>\n",
       "      <td>Wii</td>\n",
       "      <td>2010.0</td>\n",
       "      <td>Misc</td>\n",
       "      <td>1.65</td>\n",
       "      <td>0.57</td>\n",
       "      <td>0.0</td>\n",
       "      <td>0.20</td>\n",
       "      <td>71</td>\n",
       "      <td>tbd</td>\n",
       "      <td>E</td>\n",
       "    </tr>\n",
       "    <tr>\n",
       "      <th>709</th>\n",
       "      <td>Just Dance Kids</td>\n",
       "      <td>Wii</td>\n",
       "      <td>2010.0</td>\n",
       "      <td>Misc</td>\n",
       "      <td>1.52</td>\n",
       "      <td>0.54</td>\n",
       "      <td>0.0</td>\n",
       "      <td>0.18</td>\n",
       "      <td>0</td>\n",
       "      <td>tbd</td>\n",
       "      <td>E</td>\n",
       "    </tr>\n",
       "  </tbody>\n",
       "</table>\n",
       "</div>"
      ],
      "text/plain": [
       "                               name platform  year_of_release   genre  \\\n",
       "119                   Zumba Fitness      Wii           2010.0  Sports   \n",
       "300  Namco Museum: 50th Anniversary      PS2           2005.0    Misc   \n",
       "516                 Zumba Fitness 2      Wii           2011.0  Sports   \n",
       "639                    uDraw Studio      Wii           2010.0    Misc   \n",
       "709                 Just Dance Kids      Wii           2010.0    Misc   \n",
       "\n",
       "     na_sales  eu_sales  jp_sales  other_sales  critic_score user_score rating  \n",
       "119      3.45      2.59       0.0         0.66             0        tbd      E  \n",
       "300      2.08      1.35       0.0         0.54            61        tbd   E10+  \n",
       "516      1.51      1.03       0.0         0.27             0        tbd      T  \n",
       "639      1.65      0.57       0.0         0.20            71        tbd      E  \n",
       "709      1.52      0.54       0.0         0.18             0        tbd      E  "
      ]
     },
     "execution_count": 28,
     "metadata": {},
     "output_type": "execute_result"
    }
   ],
   "source": [
    "games[games['user_score']=='tbd'].head()"
   ]
  },
  {
   "cell_type": "markdown",
   "metadata": {},
   "source": [
    "В столбце user_score есть нечисловое значение 'tbd', встречающееся 2424 раза, что видимо означает to be desided или to be defined.Возможно 'tbd' присваивается играм у которых слишком мало пользовательских оценок чтобы сформировать рейтинг. Следовательно если рейтинг не опроеделен - заменяем tbd нулями."
   ]
  },
  {
   "cell_type": "code",
   "execution_count": 29,
   "metadata": {},
   "outputs": [],
   "source": [
    "games.loc[(games.user_score == 'tbd'), 'user_score'] = 0"
   ]
  },
  {
   "cell_type": "code",
   "execution_count": 30,
   "metadata": {},
   "outputs": [],
   "source": [
    "games['user_score']=games['user_score'].astype (float)"
   ]
  },
  {
   "cell_type": "markdown",
   "metadata": {},
   "source": [
    "Сдвинем запятую, приведя формат рейтинга к двухзначным числам по аналогии с critic_score и переведем к цельночисловому виду"
   ]
  },
  {
   "cell_type": "code",
   "execution_count": 31,
   "metadata": {},
   "outputs": [],
   "source": [
    "games['user_score']=games['user_score']*10"
   ]
  },
  {
   "cell_type": "code",
   "execution_count": 32,
   "metadata": {},
   "outputs": [],
   "source": [
    "games['user_score']=games['user_score'].astype (int)"
   ]
  },
  {
   "cell_type": "code",
   "execution_count": 33,
   "metadata": {},
   "outputs": [
    {
     "data": {
      "text/html": [
       "<div>\n",
       "<style scoped>\n",
       "    .dataframe tbody tr th:only-of-type {\n",
       "        vertical-align: middle;\n",
       "    }\n",
       "\n",
       "    .dataframe tbody tr th {\n",
       "        vertical-align: top;\n",
       "    }\n",
       "\n",
       "    .dataframe thead th {\n",
       "        text-align: right;\n",
       "    }\n",
       "</style>\n",
       "<table border=\"1\" class=\"dataframe\">\n",
       "  <thead>\n",
       "    <tr style=\"text-align: right;\">\n",
       "      <th></th>\n",
       "      <th>name</th>\n",
       "      <th>platform</th>\n",
       "      <th>year_of_release</th>\n",
       "      <th>genre</th>\n",
       "      <th>na_sales</th>\n",
       "      <th>eu_sales</th>\n",
       "      <th>jp_sales</th>\n",
       "      <th>other_sales</th>\n",
       "      <th>critic_score</th>\n",
       "      <th>user_score</th>\n",
       "      <th>rating</th>\n",
       "    </tr>\n",
       "  </thead>\n",
       "  <tbody>\n",
       "    <tr>\n",
       "      <th>0</th>\n",
       "      <td>Wii Sports</td>\n",
       "      <td>Wii</td>\n",
       "      <td>2006.0</td>\n",
       "      <td>Sports</td>\n",
       "      <td>41.36</td>\n",
       "      <td>28.96</td>\n",
       "      <td>3.77</td>\n",
       "      <td>8.45</td>\n",
       "      <td>76</td>\n",
       "      <td>80</td>\n",
       "      <td>E</td>\n",
       "    </tr>\n",
       "    <tr>\n",
       "      <th>1</th>\n",
       "      <td>Super Mario Bros.</td>\n",
       "      <td>NES</td>\n",
       "      <td>1985.0</td>\n",
       "      <td>Platform</td>\n",
       "      <td>29.08</td>\n",
       "      <td>3.58</td>\n",
       "      <td>6.81</td>\n",
       "      <td>0.77</td>\n",
       "      <td>0</td>\n",
       "      <td>0</td>\n",
       "      <td>NaN</td>\n",
       "    </tr>\n",
       "    <tr>\n",
       "      <th>2</th>\n",
       "      <td>Mario Kart Wii</td>\n",
       "      <td>Wii</td>\n",
       "      <td>2008.0</td>\n",
       "      <td>Racing</td>\n",
       "      <td>15.68</td>\n",
       "      <td>12.76</td>\n",
       "      <td>3.79</td>\n",
       "      <td>3.29</td>\n",
       "      <td>82</td>\n",
       "      <td>83</td>\n",
       "      <td>E</td>\n",
       "    </tr>\n",
       "    <tr>\n",
       "      <th>3</th>\n",
       "      <td>Wii Sports Resort</td>\n",
       "      <td>Wii</td>\n",
       "      <td>2009.0</td>\n",
       "      <td>Sports</td>\n",
       "      <td>15.61</td>\n",
       "      <td>10.93</td>\n",
       "      <td>3.28</td>\n",
       "      <td>2.95</td>\n",
       "      <td>80</td>\n",
       "      <td>80</td>\n",
       "      <td>E</td>\n",
       "    </tr>\n",
       "    <tr>\n",
       "      <th>4</th>\n",
       "      <td>Pokemon Red/Pokemon Blue</td>\n",
       "      <td>GB</td>\n",
       "      <td>1996.0</td>\n",
       "      <td>Role-Playing</td>\n",
       "      <td>11.27</td>\n",
       "      <td>8.89</td>\n",
       "      <td>10.22</td>\n",
       "      <td>1.00</td>\n",
       "      <td>0</td>\n",
       "      <td>0</td>\n",
       "      <td>NaN</td>\n",
       "    </tr>\n",
       "  </tbody>\n",
       "</table>\n",
       "</div>"
      ],
      "text/plain": [
       "                       name platform  year_of_release         genre  na_sales  \\\n",
       "0                Wii Sports      Wii           2006.0        Sports     41.36   \n",
       "1         Super Mario Bros.      NES           1985.0      Platform     29.08   \n",
       "2            Mario Kart Wii      Wii           2008.0        Racing     15.68   \n",
       "3         Wii Sports Resort      Wii           2009.0        Sports     15.61   \n",
       "4  Pokemon Red/Pokemon Blue       GB           1996.0  Role-Playing     11.27   \n",
       "\n",
       "   eu_sales  jp_sales  other_sales  critic_score  user_score rating  \n",
       "0     28.96      3.77         8.45            76          80      E  \n",
       "1      3.58      6.81         0.77             0           0    NaN  \n",
       "2     12.76      3.79         3.29            82          83      E  \n",
       "3     10.93      3.28         2.95            80          80      E  \n",
       "4      8.89     10.22         1.00             0           0    NaN  "
      ]
     },
     "execution_count": 33,
     "metadata": {},
     "output_type": "execute_result"
    }
   ],
   "source": [
    "games.head()"
   ]
  },
  {
   "cell_type": "code",
   "execution_count": 34,
   "metadata": {},
   "outputs": [
    {
     "data": {
      "image/png": "[encoded data removed]",
      "text/plain": [
       "<Figure size 432x288 with 1 Axes>"
      ]
     },
     "metadata": {
      "needs_background": "light"
     },
     "output_type": "display_data"
    }
   ],
   "source": [
    "plt.hist(games[games['critic_score']>0]['critic_score'],bins=100)\n",
    "plt.grid()"
   ]
  },
  {
   "cell_type": "code",
   "execution_count": 35,
   "metadata": {
    "scrolled": false
   },
   "outputs": [
    {
     "data": {
      "image/png": "[encoded data removed]",
      "text/plain": [
       "<Figure size 432x288 with 1 Axes>"
      ]
     },
     "metadata": {
      "needs_background": "light"
     },
     "output_type": "display_data"
    }
   ],
   "source": [
    "plt.hist(games[games['user_score']>0]['user_score'],bins=100)\n",
    "plt.grid()"
   ]
  },
  {
   "cell_type": "code",
   "execution_count": 36,
   "metadata": {},
   "outputs": [
    {
     "data": {
      "text/html": [
       "<div>\n",
       "<style scoped>\n",
       "    .dataframe tbody tr th:only-of-type {\n",
       "        vertical-align: middle;\n",
       "    }\n",
       "\n",
       "    .dataframe tbody tr th {\n",
       "        vertical-align: top;\n",
       "    }\n",
       "\n",
       "    .dataframe thead th {\n",
       "        text-align: right;\n",
       "    }\n",
       "</style>\n",
       "<table border=\"1\" class=\"dataframe\">\n",
       "  <thead>\n",
       "    <tr style=\"text-align: right;\">\n",
       "      <th></th>\n",
       "      <th>name</th>\n",
       "      <th>platform</th>\n",
       "      <th>year_of_release</th>\n",
       "      <th>genre</th>\n",
       "      <th>na_sales</th>\n",
       "      <th>eu_sales</th>\n",
       "      <th>jp_sales</th>\n",
       "      <th>other_sales</th>\n",
       "      <th>critic_score</th>\n",
       "      <th>user_score</th>\n",
       "      <th>rating</th>\n",
       "    </tr>\n",
       "  </thead>\n",
       "  <tbody>\n",
       "    <tr>\n",
       "      <th>1</th>\n",
       "      <td>Super Mario Bros.</td>\n",
       "      <td>NES</td>\n",
       "      <td>1985.0</td>\n",
       "      <td>Platform</td>\n",
       "      <td>29.08</td>\n",
       "      <td>3.58</td>\n",
       "      <td>6.81</td>\n",
       "      <td>0.77</td>\n",
       "      <td>0</td>\n",
       "      <td>0</td>\n",
       "      <td>NaN</td>\n",
       "    </tr>\n",
       "    <tr>\n",
       "      <th>4</th>\n",
       "      <td>Pokemon Red/Pokemon Blue</td>\n",
       "      <td>GB</td>\n",
       "      <td>1996.0</td>\n",
       "      <td>Role-Playing</td>\n",
       "      <td>11.27</td>\n",
       "      <td>8.89</td>\n",
       "      <td>10.22</td>\n",
       "      <td>1.00</td>\n",
       "      <td>0</td>\n",
       "      <td>0</td>\n",
       "      <td>NaN</td>\n",
       "    </tr>\n",
       "    <tr>\n",
       "      <th>5</th>\n",
       "      <td>Tetris</td>\n",
       "      <td>GB</td>\n",
       "      <td>1989.0</td>\n",
       "      <td>Puzzle</td>\n",
       "      <td>23.20</td>\n",
       "      <td>2.26</td>\n",
       "      <td>4.22</td>\n",
       "      <td>0.58</td>\n",
       "      <td>0</td>\n",
       "      <td>0</td>\n",
       "      <td>NaN</td>\n",
       "    </tr>\n",
       "    <tr>\n",
       "      <th>9</th>\n",
       "      <td>Duck Hunt</td>\n",
       "      <td>NES</td>\n",
       "      <td>1984.0</td>\n",
       "      <td>Shooter</td>\n",
       "      <td>26.93</td>\n",
       "      <td>0.63</td>\n",
       "      <td>0.28</td>\n",
       "      <td>0.47</td>\n",
       "      <td>0</td>\n",
       "      <td>0</td>\n",
       "      <td>NaN</td>\n",
       "    </tr>\n",
       "    <tr>\n",
       "      <th>10</th>\n",
       "      <td>Nintendogs</td>\n",
       "      <td>DS</td>\n",
       "      <td>2005.0</td>\n",
       "      <td>Simulation</td>\n",
       "      <td>9.05</td>\n",
       "      <td>10.95</td>\n",
       "      <td>1.93</td>\n",
       "      <td>2.74</td>\n",
       "      <td>0</td>\n",
       "      <td>0</td>\n",
       "      <td>NaN</td>\n",
       "    </tr>\n",
       "    <tr>\n",
       "      <th>...</th>\n",
       "      <td>...</td>\n",
       "      <td>...</td>\n",
       "      <td>...</td>\n",
       "      <td>...</td>\n",
       "      <td>...</td>\n",
       "      <td>...</td>\n",
       "      <td>...</td>\n",
       "      <td>...</td>\n",
       "      <td>...</td>\n",
       "      <td>...</td>\n",
       "      <td>...</td>\n",
       "    </tr>\n",
       "    <tr>\n",
       "      <th>16439</th>\n",
       "      <td>Samurai Warriors: Sanada Maru</td>\n",
       "      <td>PS3</td>\n",
       "      <td>2016.0</td>\n",
       "      <td>Action</td>\n",
       "      <td>0.00</td>\n",
       "      <td>0.00</td>\n",
       "      <td>0.01</td>\n",
       "      <td>0.00</td>\n",
       "      <td>0</td>\n",
       "      <td>0</td>\n",
       "      <td>NaN</td>\n",
       "    </tr>\n",
       "    <tr>\n",
       "      <th>16440</th>\n",
       "      <td>LMA Manager 2007</td>\n",
       "      <td>X360</td>\n",
       "      <td>2006.0</td>\n",
       "      <td>Sports</td>\n",
       "      <td>0.00</td>\n",
       "      <td>0.01</td>\n",
       "      <td>0.00</td>\n",
       "      <td>0.00</td>\n",
       "      <td>0</td>\n",
       "      <td>0</td>\n",
       "      <td>NaN</td>\n",
       "    </tr>\n",
       "    <tr>\n",
       "      <th>16441</th>\n",
       "      <td>Haitaka no Psychedelica</td>\n",
       "      <td>PSV</td>\n",
       "      <td>2016.0</td>\n",
       "      <td>Adventure</td>\n",
       "      <td>0.00</td>\n",
       "      <td>0.00</td>\n",
       "      <td>0.01</td>\n",
       "      <td>0.00</td>\n",
       "      <td>0</td>\n",
       "      <td>0</td>\n",
       "      <td>NaN</td>\n",
       "    </tr>\n",
       "    <tr>\n",
       "      <th>16442</th>\n",
       "      <td>Spirits &amp; Spells</td>\n",
       "      <td>GBA</td>\n",
       "      <td>2003.0</td>\n",
       "      <td>Platform</td>\n",
       "      <td>0.01</td>\n",
       "      <td>0.00</td>\n",
       "      <td>0.00</td>\n",
       "      <td>0.00</td>\n",
       "      <td>0</td>\n",
       "      <td>0</td>\n",
       "      <td>NaN</td>\n",
       "    </tr>\n",
       "    <tr>\n",
       "      <th>16443</th>\n",
       "      <td>Winning Post 8 2016</td>\n",
       "      <td>PSV</td>\n",
       "      <td>2016.0</td>\n",
       "      <td>Simulation</td>\n",
       "      <td>0.00</td>\n",
       "      <td>0.00</td>\n",
       "      <td>0.01</td>\n",
       "      <td>0.00</td>\n",
       "      <td>0</td>\n",
       "      <td>0</td>\n",
       "      <td>NaN</td>\n",
       "    </tr>\n",
       "  </tbody>\n",
       "</table>\n",
       "<p>6676 rows × 11 columns</p>\n",
       "</div>"
      ],
      "text/plain": [
       "                                name platform  year_of_release         genre  \\\n",
       "1                  Super Mario Bros.      NES           1985.0      Platform   \n",
       "4           Pokemon Red/Pokemon Blue       GB           1996.0  Role-Playing   \n",
       "5                             Tetris       GB           1989.0        Puzzle   \n",
       "9                          Duck Hunt      NES           1984.0       Shooter   \n",
       "10                        Nintendogs       DS           2005.0    Simulation   \n",
       "...                              ...      ...              ...           ...   \n",
       "16439  Samurai Warriors: Sanada Maru      PS3           2016.0        Action   \n",
       "16440               LMA Manager 2007     X360           2006.0        Sports   \n",
       "16441        Haitaka no Psychedelica      PSV           2016.0     Adventure   \n",
       "16442               Spirits & Spells      GBA           2003.0      Platform   \n",
       "16443            Winning Post 8 2016      PSV           2016.0    Simulation   \n",
       "\n",
       "       na_sales  eu_sales  jp_sales  other_sales  critic_score  user_score  \\\n",
       "1         29.08      3.58      6.81         0.77             0           0   \n",
       "4         11.27      8.89     10.22         1.00             0           0   \n",
       "5         23.20      2.26      4.22         0.58             0           0   \n",
       "9         26.93      0.63      0.28         0.47             0           0   \n",
       "10         9.05     10.95      1.93         2.74             0           0   \n",
       "...         ...       ...       ...          ...           ...         ...   \n",
       "16439      0.00      0.00      0.01         0.00             0           0   \n",
       "16440      0.00      0.01      0.00         0.00             0           0   \n",
       "16441      0.00      0.00      0.01         0.00             0           0   \n",
       "16442      0.01      0.00      0.00         0.00             0           0   \n",
       "16443      0.00      0.00      0.01         0.00             0           0   \n",
       "\n",
       "      rating  \n",
       "1        NaN  \n",
       "4        NaN  \n",
       "5        NaN  \n",
       "9        NaN  \n",
       "10       NaN  \n",
       "...      ...  \n",
       "16439    NaN  \n",
       "16440    NaN  \n",
       "16441    NaN  \n",
       "16442    NaN  \n",
       "16443    NaN  \n",
       "\n",
       "[6676 rows x 11 columns]"
      ]
     },
     "execution_count": 36,
     "metadata": {},
     "output_type": "execute_result"
    }
   ],
   "source": [
    "games[games['rating'].isna()]"
   ]
  },
  {
   "cell_type": "markdown",
   "metadata": {},
   "source": [
    "В столбце rating отсутсвует 40% значений. Пропуски погли возникнуть из-за неккоректного сбора данных. Поскольку в ходе работы нам предстоит анализировать зависимость рейтинга и популярности игр, целесообразно заменить пропуски значением -заглушкой, например, 'unknown'."
   ]
  },
  {
   "cell_type": "code",
   "execution_count": 37,
   "metadata": {},
   "outputs": [
    {
     "data": {
      "text/plain": [
       "0"
      ]
     },
     "execution_count": 37,
     "metadata": {},
     "output_type": "execute_result"
    }
   ],
   "source": [
    "games['rating']=games['rating'].fillna('unknown')\n",
    "len(games[games['rating'].isna()])"
   ]
  },
  {
   "cell_type": "code",
   "execution_count": 38,
   "metadata": {},
   "outputs": [
    {
     "data": {
      "text/plain": [
       "array(['E', 'unknown', 'M', 'T', 'E10+', 'K-A', 'AO', 'EC', 'RP'],\n",
       "      dtype=object)"
      ]
     },
     "execution_count": 38,
     "metadata": {},
     "output_type": "execute_result"
    }
   ],
   "source": [
    "games['rating'].unique()"
   ]
  },
  {
   "cell_type": "markdown",
   "metadata": {},
   "source": [
    "Добавляем столбец total_sales с суммарными продажами по регионам"
   ]
  },
  {
   "cell_type": "code",
   "execution_count": 39,
   "metadata": {
    "scrolled": true
   },
   "outputs": [
    {
     "data": {
      "text/html": [
       "<div>\n",
       "<style scoped>\n",
       "    .dataframe tbody tr th:only-of-type {\n",
       "        vertical-align: middle;\n",
       "    }\n",
       "\n",
       "    .dataframe tbody tr th {\n",
       "        vertical-align: top;\n",
       "    }\n",
       "\n",
       "    .dataframe thead th {\n",
       "        text-align: right;\n",
       "    }\n",
       "</style>\n",
       "<table border=\"1\" class=\"dataframe\">\n",
       "  <thead>\n",
       "    <tr style=\"text-align: right;\">\n",
       "      <th></th>\n",
       "      <th>name</th>\n",
       "      <th>platform</th>\n",
       "      <th>year_of_release</th>\n",
       "      <th>genre</th>\n",
       "      <th>na_sales</th>\n",
       "      <th>eu_sales</th>\n",
       "      <th>jp_sales</th>\n",
       "      <th>other_sales</th>\n",
       "      <th>critic_score</th>\n",
       "      <th>user_score</th>\n",
       "      <th>rating</th>\n",
       "      <th>total_sales</th>\n",
       "    </tr>\n",
       "  </thead>\n",
       "  <tbody>\n",
       "    <tr>\n",
       "      <th>0</th>\n",
       "      <td>Wii Sports</td>\n",
       "      <td>Wii</td>\n",
       "      <td>2006.0</td>\n",
       "      <td>Sports</td>\n",
       "      <td>41.36</td>\n",
       "      <td>28.96</td>\n",
       "      <td>3.77</td>\n",
       "      <td>8.45</td>\n",
       "      <td>76</td>\n",
       "      <td>80</td>\n",
       "      <td>E</td>\n",
       "      <td>82.54</td>\n",
       "    </tr>\n",
       "    <tr>\n",
       "      <th>1</th>\n",
       "      <td>Super Mario Bros.</td>\n",
       "      <td>NES</td>\n",
       "      <td>1985.0</td>\n",
       "      <td>Platform</td>\n",
       "      <td>29.08</td>\n",
       "      <td>3.58</td>\n",
       "      <td>6.81</td>\n",
       "      <td>0.77</td>\n",
       "      <td>0</td>\n",
       "      <td>0</td>\n",
       "      <td>unknown</td>\n",
       "      <td>40.24</td>\n",
       "    </tr>\n",
       "    <tr>\n",
       "      <th>2</th>\n",
       "      <td>Mario Kart Wii</td>\n",
       "      <td>Wii</td>\n",
       "      <td>2008.0</td>\n",
       "      <td>Racing</td>\n",
       "      <td>15.68</td>\n",
       "      <td>12.76</td>\n",
       "      <td>3.79</td>\n",
       "      <td>3.29</td>\n",
       "      <td>82</td>\n",
       "      <td>83</td>\n",
       "      <td>E</td>\n",
       "      <td>35.52</td>\n",
       "    </tr>\n",
       "    <tr>\n",
       "      <th>3</th>\n",
       "      <td>Wii Sports Resort</td>\n",
       "      <td>Wii</td>\n",
       "      <td>2009.0</td>\n",
       "      <td>Sports</td>\n",
       "      <td>15.61</td>\n",
       "      <td>10.93</td>\n",
       "      <td>3.28</td>\n",
       "      <td>2.95</td>\n",
       "      <td>80</td>\n",
       "      <td>80</td>\n",
       "      <td>E</td>\n",
       "      <td>32.77</td>\n",
       "    </tr>\n",
       "    <tr>\n",
       "      <th>4</th>\n",
       "      <td>Pokemon Red/Pokemon Blue</td>\n",
       "      <td>GB</td>\n",
       "      <td>1996.0</td>\n",
       "      <td>Role-Playing</td>\n",
       "      <td>11.27</td>\n",
       "      <td>8.89</td>\n",
       "      <td>10.22</td>\n",
       "      <td>1.00</td>\n",
       "      <td>0</td>\n",
       "      <td>0</td>\n",
       "      <td>unknown</td>\n",
       "      <td>31.38</td>\n",
       "    </tr>\n",
       "  </tbody>\n",
       "</table>\n",
       "</div>"
      ],
      "text/plain": [
       "                       name platform  year_of_release         genre  na_sales  \\\n",
       "0                Wii Sports      Wii           2006.0        Sports     41.36   \n",
       "1         Super Mario Bros.      NES           1985.0      Platform     29.08   \n",
       "2            Mario Kart Wii      Wii           2008.0        Racing     15.68   \n",
       "3         Wii Sports Resort      Wii           2009.0        Sports     15.61   \n",
       "4  Pokemon Red/Pokemon Blue       GB           1996.0  Role-Playing     11.27   \n",
       "\n",
       "   eu_sales  jp_sales  other_sales  critic_score  user_score   rating  \\\n",
       "0     28.96      3.77         8.45            76          80        E   \n",
       "1      3.58      6.81         0.77             0           0  unknown   \n",
       "2     12.76      3.79         3.29            82          83        E   \n",
       "3     10.93      3.28         2.95            80          80        E   \n",
       "4      8.89     10.22         1.00             0           0  unknown   \n",
       "\n",
       "   total_sales  \n",
       "0        82.54  \n",
       "1        40.24  \n",
       "2        35.52  \n",
       "3        32.77  \n",
       "4        31.38  "
      ]
     },
     "execution_count": 39,
     "metadata": {},
     "output_type": "execute_result"
    }
   ],
   "source": [
    "games['total_sales'] = games['na_sales'] + games['eu_sales'] + games['jp_sales'] + games['other_sales']\n",
    "games.head()"
   ]
  },
  {
   "cell_type": "markdown",
   "metadata": {},
   "source": [
    "**Шаг 3. Исследовательский анализ данных**"
   ]
  },
  {
   "cell_type": "markdown",
   "metadata": {},
   "source": [
    "Анализ количества выпускаемых игр по годам. Построим диаграмму на основе данных сводной таблицы."
   ]
  },
  {
   "cell_type": "code",
   "execution_count": 40,
   "metadata": {},
   "outputs": [
    {
     "data": {
      "text/plain": [
       "<AxesSubplot:xlabel='year_of_release'>"
      ]
     },
     "execution_count": 40,
     "metadata": {},
     "output_type": "execute_result"
    },
    {
     "data": {
      "image/png": "[encoded data removed]",
      "text/plain": [
       "<Figure size 720x504 with 1 Axes>"
      ]
     },
     "metadata": {
      "needs_background": "light"
     },
     "output_type": "display_data"
    }
   ],
   "source": [
    "games.pivot_table(index='year_of_release',values='name',\n",
    "                  aggfunc='count').reset_index().plot(x='year_of_release',kind='bar', figsize=(10,7))"
   ]
  },
  {
   "cell_type": "markdown",
   "metadata": {},
   "source": [
    "Начиная примерно с 2002 по 2011 года в индустрии наблюдался резкий скачек выхода новых игр, с последующей коррекцией и начиная с 2012 по 2016 года количество выпускаемых игр стабильно на уровне около 500-600 в год. Для прогноза на 2017 год лучше подойдет период после коррекции."
   ]
  },
  {
   "cell_type": "markdown",
   "metadata": {},
   "source": [
    "Динамика продаж по платформам"
   ]
  },
  {
   "cell_type": "code",
   "execution_count": 41,
   "metadata": {},
   "outputs": [
    {
     "data": {
      "text/html": [
       "<div>\n",
       "<style scoped>\n",
       "    .dataframe tbody tr th:only-of-type {\n",
       "        vertical-align: middle;\n",
       "    }\n",
       "\n",
       "    .dataframe tbody tr th {\n",
       "        vertical-align: top;\n",
       "    }\n",
       "\n",
       "    .dataframe thead th {\n",
       "        text-align: right;\n",
       "    }\n",
       "</style>\n",
       "<table border=\"1\" class=\"dataframe\">\n",
       "  <thead>\n",
       "    <tr style=\"text-align: right;\">\n",
       "      <th>year_of_release</th>\n",
       "      <th>1980.0</th>\n",
       "      <th>1981.0</th>\n",
       "      <th>1982.0</th>\n",
       "      <th>1983.0</th>\n",
       "      <th>1984.0</th>\n",
       "      <th>1985.0</th>\n",
       "      <th>1986.0</th>\n",
       "      <th>1987.0</th>\n",
       "      <th>1988.0</th>\n",
       "      <th>1989.0</th>\n",
       "      <th>...</th>\n",
       "      <th>2007.0</th>\n",
       "      <th>2008.0</th>\n",
       "      <th>2009.0</th>\n",
       "      <th>2010.0</th>\n",
       "      <th>2011.0</th>\n",
       "      <th>2012.0</th>\n",
       "      <th>2013.0</th>\n",
       "      <th>2014.0</th>\n",
       "      <th>2015.0</th>\n",
       "      <th>2016.0</th>\n",
       "    </tr>\n",
       "    <tr>\n",
       "      <th>platform</th>\n",
       "      <th></th>\n",
       "      <th></th>\n",
       "      <th></th>\n",
       "      <th></th>\n",
       "      <th></th>\n",
       "      <th></th>\n",
       "      <th></th>\n",
       "      <th></th>\n",
       "      <th></th>\n",
       "      <th></th>\n",
       "      <th></th>\n",
       "      <th></th>\n",
       "      <th></th>\n",
       "      <th></th>\n",
       "      <th></th>\n",
       "      <th></th>\n",
       "      <th></th>\n",
       "      <th></th>\n",
       "      <th></th>\n",
       "      <th></th>\n",
       "      <th></th>\n",
       "    </tr>\n",
       "  </thead>\n",
       "  <tbody>\n",
       "    <tr>\n",
       "      <th>2600</th>\n",
       "      <td>11.38</td>\n",
       "      <td>35.68</td>\n",
       "      <td>28.88</td>\n",
       "      <td>5.84</td>\n",
       "      <td>0.27</td>\n",
       "      <td>0.45</td>\n",
       "      <td>0.67</td>\n",
       "      <td>1.94</td>\n",
       "      <td>0.74</td>\n",
       "      <td>0.63</td>\n",
       "      <td>...</td>\n",
       "      <td>0.00</td>\n",
       "      <td>0.00</td>\n",
       "      <td>0.00</td>\n",
       "      <td>0.00</td>\n",
       "      <td>0.00</td>\n",
       "      <td>0.00</td>\n",
       "      <td>0.00</td>\n",
       "      <td>0.00</td>\n",
       "      <td>0.00</td>\n",
       "      <td>0.00</td>\n",
       "    </tr>\n",
       "    <tr>\n",
       "      <th>3DO</th>\n",
       "      <td>0.00</td>\n",
       "      <td>0.00</td>\n",
       "      <td>0.00</td>\n",
       "      <td>0.00</td>\n",
       "      <td>0.00</td>\n",
       "      <td>0.00</td>\n",
       "      <td>0.00</td>\n",
       "      <td>0.00</td>\n",
       "      <td>0.00</td>\n",
       "      <td>0.00</td>\n",
       "      <td>...</td>\n",
       "      <td>0.00</td>\n",
       "      <td>0.00</td>\n",
       "      <td>0.00</td>\n",
       "      <td>0.00</td>\n",
       "      <td>0.00</td>\n",
       "      <td>0.00</td>\n",
       "      <td>0.00</td>\n",
       "      <td>0.00</td>\n",
       "      <td>0.00</td>\n",
       "      <td>0.00</td>\n",
       "    </tr>\n",
       "    <tr>\n",
       "      <th>3DS</th>\n",
       "      <td>0.00</td>\n",
       "      <td>0.00</td>\n",
       "      <td>0.00</td>\n",
       "      <td>0.00</td>\n",
       "      <td>0.00</td>\n",
       "      <td>0.00</td>\n",
       "      <td>0.00</td>\n",
       "      <td>0.00</td>\n",
       "      <td>0.00</td>\n",
       "      <td>0.00</td>\n",
       "      <td>...</td>\n",
       "      <td>0.00</td>\n",
       "      <td>0.00</td>\n",
       "      <td>0.00</td>\n",
       "      <td>0.00</td>\n",
       "      <td>63.20</td>\n",
       "      <td>51.36</td>\n",
       "      <td>56.57</td>\n",
       "      <td>43.76</td>\n",
       "      <td>27.78</td>\n",
       "      <td>15.14</td>\n",
       "    </tr>\n",
       "    <tr>\n",
       "      <th>DC</th>\n",
       "      <td>0.00</td>\n",
       "      <td>0.00</td>\n",
       "      <td>0.00</td>\n",
       "      <td>0.00</td>\n",
       "      <td>0.00</td>\n",
       "      <td>0.00</td>\n",
       "      <td>0.00</td>\n",
       "      <td>0.00</td>\n",
       "      <td>0.00</td>\n",
       "      <td>0.00</td>\n",
       "      <td>...</td>\n",
       "      <td>0.02</td>\n",
       "      <td>0.04</td>\n",
       "      <td>0.00</td>\n",
       "      <td>0.00</td>\n",
       "      <td>0.00</td>\n",
       "      <td>0.00</td>\n",
       "      <td>0.00</td>\n",
       "      <td>0.00</td>\n",
       "      <td>0.00</td>\n",
       "      <td>0.00</td>\n",
       "    </tr>\n",
       "    <tr>\n",
       "      <th>DS</th>\n",
       "      <td>0.00</td>\n",
       "      <td>0.00</td>\n",
       "      <td>0.00</td>\n",
       "      <td>0.00</td>\n",
       "      <td>0.00</td>\n",
       "      <td>0.02</td>\n",
       "      <td>0.00</td>\n",
       "      <td>0.00</td>\n",
       "      <td>0.00</td>\n",
       "      <td>0.00</td>\n",
       "      <td>...</td>\n",
       "      <td>146.94</td>\n",
       "      <td>145.31</td>\n",
       "      <td>119.54</td>\n",
       "      <td>85.02</td>\n",
       "      <td>26.18</td>\n",
       "      <td>11.01</td>\n",
       "      <td>1.54</td>\n",
       "      <td>0.00</td>\n",
       "      <td>0.00</td>\n",
       "      <td>0.00</td>\n",
       "    </tr>\n",
       "    <tr>\n",
       "      <th>GB</th>\n",
       "      <td>0.00</td>\n",
       "      <td>0.00</td>\n",
       "      <td>0.00</td>\n",
       "      <td>0.00</td>\n",
       "      <td>0.00</td>\n",
       "      <td>0.00</td>\n",
       "      <td>0.00</td>\n",
       "      <td>0.00</td>\n",
       "      <td>1.43</td>\n",
       "      <td>64.97</td>\n",
       "      <td>...</td>\n",
       "      <td>0.00</td>\n",
       "      <td>0.00</td>\n",
       "      <td>0.00</td>\n",
       "      <td>0.00</td>\n",
       "      <td>0.00</td>\n",
       "      <td>0.00</td>\n",
       "      <td>0.00</td>\n",
       "      <td>0.00</td>\n",
       "      <td>0.00</td>\n",
       "      <td>0.00</td>\n",
       "    </tr>\n",
       "    <tr>\n",
       "      <th>GBA</th>\n",
       "      <td>0.00</td>\n",
       "      <td>0.00</td>\n",
       "      <td>0.00</td>\n",
       "      <td>0.00</td>\n",
       "      <td>0.00</td>\n",
       "      <td>0.00</td>\n",
       "      <td>0.00</td>\n",
       "      <td>0.00</td>\n",
       "      <td>0.00</td>\n",
       "      <td>0.00</td>\n",
       "      <td>...</td>\n",
       "      <td>3.40</td>\n",
       "      <td>0.00</td>\n",
       "      <td>0.00</td>\n",
       "      <td>0.00</td>\n",
       "      <td>0.00</td>\n",
       "      <td>0.00</td>\n",
       "      <td>0.00</td>\n",
       "      <td>0.00</td>\n",
       "      <td>0.00</td>\n",
       "      <td>0.00</td>\n",
       "    </tr>\n",
       "    <tr>\n",
       "      <th>GC</th>\n",
       "      <td>0.00</td>\n",
       "      <td>0.00</td>\n",
       "      <td>0.00</td>\n",
       "      <td>0.00</td>\n",
       "      <td>0.00</td>\n",
       "      <td>0.00</td>\n",
       "      <td>0.00</td>\n",
       "      <td>0.00</td>\n",
       "      <td>0.00</td>\n",
       "      <td>0.00</td>\n",
       "      <td>...</td>\n",
       "      <td>0.27</td>\n",
       "      <td>0.00</td>\n",
       "      <td>0.00</td>\n",
       "      <td>0.00</td>\n",
       "      <td>0.00</td>\n",
       "      <td>0.00</td>\n",
       "      <td>0.00</td>\n",
       "      <td>0.00</td>\n",
       "      <td>0.00</td>\n",
       "      <td>0.00</td>\n",
       "    </tr>\n",
       "    <tr>\n",
       "      <th>GEN</th>\n",
       "      <td>0.00</td>\n",
       "      <td>0.00</td>\n",
       "      <td>0.00</td>\n",
       "      <td>0.00</td>\n",
       "      <td>0.00</td>\n",
       "      <td>0.00</td>\n",
       "      <td>0.00</td>\n",
       "      <td>0.00</td>\n",
       "      <td>0.00</td>\n",
       "      <td>0.00</td>\n",
       "      <td>...</td>\n",
       "      <td>0.00</td>\n",
       "      <td>0.00</td>\n",
       "      <td>0.00</td>\n",
       "      <td>0.00</td>\n",
       "      <td>0.00</td>\n",
       "      <td>0.00</td>\n",
       "      <td>0.00</td>\n",
       "      <td>0.00</td>\n",
       "      <td>0.00</td>\n",
       "      <td>0.00</td>\n",
       "    </tr>\n",
       "    <tr>\n",
       "      <th>GG</th>\n",
       "      <td>0.00</td>\n",
       "      <td>0.00</td>\n",
       "      <td>0.00</td>\n",
       "      <td>0.00</td>\n",
       "      <td>0.00</td>\n",
       "      <td>0.00</td>\n",
       "      <td>0.00</td>\n",
       "      <td>0.00</td>\n",
       "      <td>0.00</td>\n",
       "      <td>0.00</td>\n",
       "      <td>...</td>\n",
       "      <td>0.00</td>\n",
       "      <td>0.00</td>\n",
       "      <td>0.00</td>\n",
       "      <td>0.00</td>\n",
       "      <td>0.00</td>\n",
       "      <td>0.00</td>\n",
       "      <td>0.00</td>\n",
       "      <td>0.00</td>\n",
       "      <td>0.00</td>\n",
       "      <td>0.00</td>\n",
       "    </tr>\n",
       "    <tr>\n",
       "      <th>N64</th>\n",
       "      <td>0.00</td>\n",
       "      <td>0.00</td>\n",
       "      <td>0.00</td>\n",
       "      <td>0.00</td>\n",
       "      <td>0.00</td>\n",
       "      <td>0.00</td>\n",
       "      <td>0.00</td>\n",
       "      <td>0.00</td>\n",
       "      <td>0.00</td>\n",
       "      <td>0.00</td>\n",
       "      <td>...</td>\n",
       "      <td>0.00</td>\n",
       "      <td>0.00</td>\n",
       "      <td>0.00</td>\n",
       "      <td>0.00</td>\n",
       "      <td>0.00</td>\n",
       "      <td>0.00</td>\n",
       "      <td>0.00</td>\n",
       "      <td>0.00</td>\n",
       "      <td>0.00</td>\n",
       "      <td>0.00</td>\n",
       "    </tr>\n",
       "    <tr>\n",
       "      <th>NES</th>\n",
       "      <td>0.00</td>\n",
       "      <td>0.00</td>\n",
       "      <td>0.00</td>\n",
       "      <td>10.96</td>\n",
       "      <td>50.08</td>\n",
       "      <td>53.44</td>\n",
       "      <td>36.41</td>\n",
       "      <td>19.76</td>\n",
       "      <td>45.01</td>\n",
       "      <td>7.85</td>\n",
       "      <td>...</td>\n",
       "      <td>0.00</td>\n",
       "      <td>0.00</td>\n",
       "      <td>0.00</td>\n",
       "      <td>0.00</td>\n",
       "      <td>0.00</td>\n",
       "      <td>0.00</td>\n",
       "      <td>0.00</td>\n",
       "      <td>0.00</td>\n",
       "      <td>0.00</td>\n",
       "      <td>0.00</td>\n",
       "    </tr>\n",
       "    <tr>\n",
       "      <th>NG</th>\n",
       "      <td>0.00</td>\n",
       "      <td>0.00</td>\n",
       "      <td>0.00</td>\n",
       "      <td>0.00</td>\n",
       "      <td>0.00</td>\n",
       "      <td>0.00</td>\n",
       "      <td>0.00</td>\n",
       "      <td>0.00</td>\n",
       "      <td>0.00</td>\n",
       "      <td>0.00</td>\n",
       "      <td>...</td>\n",
       "      <td>0.00</td>\n",
       "      <td>0.00</td>\n",
       "      <td>0.00</td>\n",
       "      <td>0.00</td>\n",
       "      <td>0.00</td>\n",
       "      <td>0.00</td>\n",
       "      <td>0.00</td>\n",
       "      <td>0.00</td>\n",
       "      <td>0.00</td>\n",
       "      <td>0.00</td>\n",
       "    </tr>\n",
       "    <tr>\n",
       "      <th>PC</th>\n",
       "      <td>0.00</td>\n",
       "      <td>0.00</td>\n",
       "      <td>0.00</td>\n",
       "      <td>0.00</td>\n",
       "      <td>0.00</td>\n",
       "      <td>0.04</td>\n",
       "      <td>0.00</td>\n",
       "      <td>0.00</td>\n",
       "      <td>0.03</td>\n",
       "      <td>0.00</td>\n",
       "      <td>...</td>\n",
       "      <td>9.28</td>\n",
       "      <td>12.42</td>\n",
       "      <td>16.91</td>\n",
       "      <td>24.28</td>\n",
       "      <td>35.03</td>\n",
       "      <td>23.22</td>\n",
       "      <td>12.38</td>\n",
       "      <td>13.28</td>\n",
       "      <td>8.52</td>\n",
       "      <td>5.25</td>\n",
       "    </tr>\n",
       "    <tr>\n",
       "      <th>PCFX</th>\n",
       "      <td>0.00</td>\n",
       "      <td>0.00</td>\n",
       "      <td>0.00</td>\n",
       "      <td>0.00</td>\n",
       "      <td>0.00</td>\n",
       "      <td>0.00</td>\n",
       "      <td>0.00</td>\n",
       "      <td>0.00</td>\n",
       "      <td>0.00</td>\n",
       "      <td>0.00</td>\n",
       "      <td>...</td>\n",
       "      <td>0.00</td>\n",
       "      <td>0.00</td>\n",
       "      <td>0.00</td>\n",
       "      <td>0.00</td>\n",
       "      <td>0.00</td>\n",
       "      <td>0.00</td>\n",
       "      <td>0.00</td>\n",
       "      <td>0.00</td>\n",
       "      <td>0.00</td>\n",
       "      <td>0.00</td>\n",
       "    </tr>\n",
       "    <tr>\n",
       "      <th>PS</th>\n",
       "      <td>0.00</td>\n",
       "      <td>0.00</td>\n",
       "      <td>0.00</td>\n",
       "      <td>0.00</td>\n",
       "      <td>0.00</td>\n",
       "      <td>0.00</td>\n",
       "      <td>0.00</td>\n",
       "      <td>0.00</td>\n",
       "      <td>0.00</td>\n",
       "      <td>0.00</td>\n",
       "      <td>...</td>\n",
       "      <td>0.00</td>\n",
       "      <td>0.00</td>\n",
       "      <td>0.00</td>\n",
       "      <td>0.00</td>\n",
       "      <td>0.00</td>\n",
       "      <td>0.00</td>\n",
       "      <td>0.00</td>\n",
       "      <td>0.00</td>\n",
       "      <td>0.00</td>\n",
       "      <td>0.00</td>\n",
       "    </tr>\n",
       "    <tr>\n",
       "      <th>PS2</th>\n",
       "      <td>0.00</td>\n",
       "      <td>0.00</td>\n",
       "      <td>0.00</td>\n",
       "      <td>0.00</td>\n",
       "      <td>0.00</td>\n",
       "      <td>0.00</td>\n",
       "      <td>0.00</td>\n",
       "      <td>0.00</td>\n",
       "      <td>0.00</td>\n",
       "      <td>0.00</td>\n",
       "      <td>...</td>\n",
       "      <td>75.99</td>\n",
       "      <td>53.90</td>\n",
       "      <td>26.40</td>\n",
       "      <td>5.64</td>\n",
       "      <td>0.45</td>\n",
       "      <td>0.00</td>\n",
       "      <td>0.00</td>\n",
       "      <td>0.00</td>\n",
       "      <td>0.00</td>\n",
       "      <td>0.00</td>\n",
       "    </tr>\n",
       "    <tr>\n",
       "      <th>PS3</th>\n",
       "      <td>0.00</td>\n",
       "      <td>0.00</td>\n",
       "      <td>0.00</td>\n",
       "      <td>0.00</td>\n",
       "      <td>0.00</td>\n",
       "      <td>0.00</td>\n",
       "      <td>0.00</td>\n",
       "      <td>0.00</td>\n",
       "      <td>0.00</td>\n",
       "      <td>0.00</td>\n",
       "      <td>...</td>\n",
       "      <td>73.19</td>\n",
       "      <td>118.52</td>\n",
       "      <td>130.93</td>\n",
       "      <td>142.17</td>\n",
       "      <td>156.78</td>\n",
       "      <td>107.36</td>\n",
       "      <td>113.25</td>\n",
       "      <td>47.76</td>\n",
       "      <td>16.82</td>\n",
       "      <td>3.60</td>\n",
       "    </tr>\n",
       "    <tr>\n",
       "      <th>PS4</th>\n",
       "      <td>0.00</td>\n",
       "      <td>0.00</td>\n",
       "      <td>0.00</td>\n",
       "      <td>0.00</td>\n",
       "      <td>0.00</td>\n",
       "      <td>0.00</td>\n",
       "      <td>0.00</td>\n",
       "      <td>0.00</td>\n",
       "      <td>0.00</td>\n",
       "      <td>0.00</td>\n",
       "      <td>...</td>\n",
       "      <td>0.00</td>\n",
       "      <td>0.00</td>\n",
       "      <td>0.00</td>\n",
       "      <td>0.00</td>\n",
       "      <td>0.00</td>\n",
       "      <td>0.00</td>\n",
       "      <td>25.99</td>\n",
       "      <td>100.00</td>\n",
       "      <td>118.90</td>\n",
       "      <td>69.25</td>\n",
       "    </tr>\n",
       "    <tr>\n",
       "      <th>PSP</th>\n",
       "      <td>0.00</td>\n",
       "      <td>0.00</td>\n",
       "      <td>0.00</td>\n",
       "      <td>0.00</td>\n",
       "      <td>0.00</td>\n",
       "      <td>0.00</td>\n",
       "      <td>0.00</td>\n",
       "      <td>0.00</td>\n",
       "      <td>0.00</td>\n",
       "      <td>0.00</td>\n",
       "      <td>...</td>\n",
       "      <td>46.93</td>\n",
       "      <td>34.55</td>\n",
       "      <td>37.78</td>\n",
       "      <td>35.04</td>\n",
       "      <td>17.82</td>\n",
       "      <td>7.69</td>\n",
       "      <td>3.14</td>\n",
       "      <td>0.24</td>\n",
       "      <td>0.12</td>\n",
       "      <td>0.00</td>\n",
       "    </tr>\n",
       "    <tr>\n",
       "      <th>PSV</th>\n",
       "      <td>0.00</td>\n",
       "      <td>0.00</td>\n",
       "      <td>0.00</td>\n",
       "      <td>0.00</td>\n",
       "      <td>0.00</td>\n",
       "      <td>0.00</td>\n",
       "      <td>0.00</td>\n",
       "      <td>0.00</td>\n",
       "      <td>0.00</td>\n",
       "      <td>0.00</td>\n",
       "      <td>...</td>\n",
       "      <td>0.00</td>\n",
       "      <td>0.00</td>\n",
       "      <td>0.00</td>\n",
       "      <td>0.00</td>\n",
       "      <td>4.63</td>\n",
       "      <td>16.19</td>\n",
       "      <td>10.59</td>\n",
       "      <td>11.90</td>\n",
       "      <td>6.25</td>\n",
       "      <td>4.25</td>\n",
       "    </tr>\n",
       "    <tr>\n",
       "      <th>SAT</th>\n",
       "      <td>0.00</td>\n",
       "      <td>0.00</td>\n",
       "      <td>0.00</td>\n",
       "      <td>0.00</td>\n",
       "      <td>0.00</td>\n",
       "      <td>0.00</td>\n",
       "      <td>0.00</td>\n",
       "      <td>0.00</td>\n",
       "      <td>0.00</td>\n",
       "      <td>0.00</td>\n",
       "      <td>...</td>\n",
       "      <td>0.00</td>\n",
       "      <td>0.00</td>\n",
       "      <td>0.00</td>\n",
       "      <td>0.00</td>\n",
       "      <td>0.00</td>\n",
       "      <td>0.00</td>\n",
       "      <td>0.00</td>\n",
       "      <td>0.00</td>\n",
       "      <td>0.00</td>\n",
       "      <td>0.00</td>\n",
       "    </tr>\n",
       "    <tr>\n",
       "      <th>SCD</th>\n",
       "      <td>0.00</td>\n",
       "      <td>0.00</td>\n",
       "      <td>0.00</td>\n",
       "      <td>0.00</td>\n",
       "      <td>0.00</td>\n",
       "      <td>0.00</td>\n",
       "      <td>0.00</td>\n",
       "      <td>0.00</td>\n",
       "      <td>0.00</td>\n",
       "      <td>0.00</td>\n",
       "      <td>...</td>\n",
       "      <td>0.00</td>\n",
       "      <td>0.00</td>\n",
       "      <td>0.00</td>\n",
       "      <td>0.00</td>\n",
       "      <td>0.00</td>\n",
       "      <td>0.00</td>\n",
       "      <td>0.00</td>\n",
       "      <td>0.00</td>\n",
       "      <td>0.00</td>\n",
       "      <td>0.00</td>\n",
       "    </tr>\n",
       "    <tr>\n",
       "      <th>SNES</th>\n",
       "      <td>0.00</td>\n",
       "      <td>0.00</td>\n",
       "      <td>0.00</td>\n",
       "      <td>0.00</td>\n",
       "      <td>0.00</td>\n",
       "      <td>0.00</td>\n",
       "      <td>0.00</td>\n",
       "      <td>0.00</td>\n",
       "      <td>0.00</td>\n",
       "      <td>0.00</td>\n",
       "      <td>...</td>\n",
       "      <td>0.00</td>\n",
       "      <td>0.00</td>\n",
       "      <td>0.00</td>\n",
       "      <td>0.00</td>\n",
       "      <td>0.00</td>\n",
       "      <td>0.00</td>\n",
       "      <td>0.00</td>\n",
       "      <td>0.00</td>\n",
       "      <td>0.00</td>\n",
       "      <td>0.00</td>\n",
       "    </tr>\n",
       "    <tr>\n",
       "      <th>TG16</th>\n",
       "      <td>0.00</td>\n",
       "      <td>0.00</td>\n",
       "      <td>0.00</td>\n",
       "      <td>0.00</td>\n",
       "      <td>0.00</td>\n",
       "      <td>0.00</td>\n",
       "      <td>0.00</td>\n",
       "      <td>0.00</td>\n",
       "      <td>0.00</td>\n",
       "      <td>0.00</td>\n",
       "      <td>...</td>\n",
       "      <td>0.00</td>\n",
       "      <td>0.00</td>\n",
       "      <td>0.00</td>\n",
       "      <td>0.00</td>\n",
       "      <td>0.00</td>\n",
       "      <td>0.00</td>\n",
       "      <td>0.00</td>\n",
       "      <td>0.00</td>\n",
       "      <td>0.00</td>\n",
       "      <td>0.00</td>\n",
       "    </tr>\n",
       "    <tr>\n",
       "      <th>WS</th>\n",
       "      <td>0.00</td>\n",
       "      <td>0.00</td>\n",
       "      <td>0.00</td>\n",
       "      <td>0.00</td>\n",
       "      <td>0.00</td>\n",
       "      <td>0.00</td>\n",
       "      <td>0.00</td>\n",
       "      <td>0.00</td>\n",
       "      <td>0.00</td>\n",
       "      <td>0.00</td>\n",
       "      <td>...</td>\n",
       "      <td>0.00</td>\n",
       "      <td>0.00</td>\n",
       "      <td>0.00</td>\n",
       "      <td>0.00</td>\n",
       "      <td>0.00</td>\n",
       "      <td>0.00</td>\n",
       "      <td>0.00</td>\n",
       "      <td>0.00</td>\n",
       "      <td>0.00</td>\n",
       "      <td>0.00</td>\n",
       "    </tr>\n",
       "    <tr>\n",
       "      <th>Wii</th>\n",
       "      <td>0.00</td>\n",
       "      <td>0.00</td>\n",
       "      <td>0.00</td>\n",
       "      <td>0.00</td>\n",
       "      <td>0.00</td>\n",
       "      <td>0.00</td>\n",
       "      <td>0.00</td>\n",
       "      <td>0.00</td>\n",
       "      <td>0.00</td>\n",
       "      <td>0.00</td>\n",
       "      <td>...</td>\n",
       "      <td>152.77</td>\n",
       "      <td>171.32</td>\n",
       "      <td>206.97</td>\n",
       "      <td>127.95</td>\n",
       "      <td>59.65</td>\n",
       "      <td>21.71</td>\n",
       "      <td>8.59</td>\n",
       "      <td>3.75</td>\n",
       "      <td>1.14</td>\n",
       "      <td>0.18</td>\n",
       "    </tr>\n",
       "    <tr>\n",
       "      <th>WiiU</th>\n",
       "      <td>0.00</td>\n",
       "      <td>0.00</td>\n",
       "      <td>0.00</td>\n",
       "      <td>0.00</td>\n",
       "      <td>0.00</td>\n",
       "      <td>0.00</td>\n",
       "      <td>0.00</td>\n",
       "      <td>0.00</td>\n",
       "      <td>0.00</td>\n",
       "      <td>0.00</td>\n",
       "      <td>...</td>\n",
       "      <td>0.00</td>\n",
       "      <td>0.00</td>\n",
       "      <td>0.00</td>\n",
       "      <td>0.00</td>\n",
       "      <td>0.00</td>\n",
       "      <td>17.56</td>\n",
       "      <td>21.65</td>\n",
       "      <td>22.03</td>\n",
       "      <td>16.35</td>\n",
       "      <td>4.60</td>\n",
       "    </tr>\n",
       "    <tr>\n",
       "      <th>X360</th>\n",
       "      <td>0.00</td>\n",
       "      <td>0.00</td>\n",
       "      <td>0.00</td>\n",
       "      <td>0.00</td>\n",
       "      <td>0.00</td>\n",
       "      <td>0.00</td>\n",
       "      <td>0.00</td>\n",
       "      <td>0.00</td>\n",
       "      <td>0.00</td>\n",
       "      <td>0.00</td>\n",
       "      <td>...</td>\n",
       "      <td>95.41</td>\n",
       "      <td>135.26</td>\n",
       "      <td>120.29</td>\n",
       "      <td>170.03</td>\n",
       "      <td>143.84</td>\n",
       "      <td>99.74</td>\n",
       "      <td>88.58</td>\n",
       "      <td>34.74</td>\n",
       "      <td>11.96</td>\n",
       "      <td>1.52</td>\n",
       "    </tr>\n",
       "    <tr>\n",
       "      <th>XB</th>\n",
       "      <td>0.00</td>\n",
       "      <td>0.00</td>\n",
       "      <td>0.00</td>\n",
       "      <td>0.00</td>\n",
       "      <td>0.00</td>\n",
       "      <td>0.00</td>\n",
       "      <td>0.00</td>\n",
       "      <td>0.00</td>\n",
       "      <td>0.00</td>\n",
       "      <td>0.00</td>\n",
       "      <td>...</td>\n",
       "      <td>0.55</td>\n",
       "      <td>0.18</td>\n",
       "      <td>0.00</td>\n",
       "      <td>0.00</td>\n",
       "      <td>0.00</td>\n",
       "      <td>0.00</td>\n",
       "      <td>0.00</td>\n",
       "      <td>0.00</td>\n",
       "      <td>0.00</td>\n",
       "      <td>0.00</td>\n",
       "    </tr>\n",
       "    <tr>\n",
       "      <th>XOne</th>\n",
       "      <td>0.00</td>\n",
       "      <td>0.00</td>\n",
       "      <td>0.00</td>\n",
       "      <td>0.00</td>\n",
       "      <td>0.00</td>\n",
       "      <td>0.00</td>\n",
       "      <td>0.00</td>\n",
       "      <td>0.00</td>\n",
       "      <td>0.00</td>\n",
       "      <td>0.00</td>\n",
       "      <td>...</td>\n",
       "      <td>0.00</td>\n",
       "      <td>0.00</td>\n",
       "      <td>0.00</td>\n",
       "      <td>0.00</td>\n",
       "      <td>0.00</td>\n",
       "      <td>0.00</td>\n",
       "      <td>18.96</td>\n",
       "      <td>54.07</td>\n",
       "      <td>60.14</td>\n",
       "      <td>26.15</td>\n",
       "    </tr>\n",
       "  </tbody>\n",
       "</table>\n",
       "<p>31 rows × 37 columns</p>\n",
       "</div>"
      ],
      "text/plain": [
       "year_of_release  1980.0  1981.0  1982.0  1983.0  1984.0  1985.0  1986.0  \\\n",
       "platform                                                                  \n",
       "2600              11.38   35.68   28.88    5.84    0.27    0.45    0.67   \n",
       "3DO                0.00    0.00    0.00    0.00    0.00    0.00    0.00   \n",
       "3DS                0.00    0.00    0.00    0.00    0.00    0.00    0.00   \n",
       "DC                 0.00    0.00    0.00    0.00    0.00    0.00    0.00   \n",
       "DS                 0.00    0.00    0.00    0.00    0.00    0.02    0.00   \n",
       "GB                 0.00    0.00    0.00    0.00    0.00    0.00    0.00   \n",
       "GBA                0.00    0.00    0.00    0.00    0.00    0.00    0.00   \n",
       "GC                 0.00    0.00    0.00    0.00    0.00    0.00    0.00   \n",
       "GEN                0.00    0.00    0.00    0.00    0.00    0.00    0.00   \n",
       "GG                 0.00    0.00    0.00    0.00    0.00    0.00    0.00   \n",
       "N64                0.00    0.00    0.00    0.00    0.00    0.00    0.00   \n",
       "NES                0.00    0.00    0.00   10.96   50.08   53.44   36.41   \n",
       "NG                 0.00    0.00    0.00    0.00    0.00    0.00    0.00   \n",
       "PC                 0.00    0.00    0.00    0.00    0.00    0.04    0.00   \n",
       "PCFX               0.00    0.00    0.00    0.00    0.00    0.00    0.00   \n",
       "PS                 0.00    0.00    0.00    0.00    0.00    0.00    0.00   \n",
       "PS2                0.00    0.00    0.00    0.00    0.00    0.00    0.00   \n",
       "PS3                0.00    0.00    0.00    0.00    0.00    0.00    0.00   \n",
       "PS4                0.00    0.00    0.00    0.00    0.00    0.00    0.00   \n",
       "PSP                0.00    0.00    0.00    0.00    0.00    0.00    0.00   \n",
       "PSV                0.00    0.00    0.00    0.00    0.00    0.00    0.00   \n",
       "SAT                0.00    0.00    0.00    0.00    0.00    0.00    0.00   \n",
       "SCD                0.00    0.00    0.00    0.00    0.00    0.00    0.00   \n",
       "SNES               0.00    0.00    0.00    0.00    0.00    0.00    0.00   \n",
       "TG16               0.00    0.00    0.00    0.00    0.00    0.00    0.00   \n",
       "WS                 0.00    0.00    0.00    0.00    0.00    0.00    0.00   \n",
       "Wii                0.00    0.00    0.00    0.00    0.00    0.00    0.00   \n",
       "WiiU               0.00    0.00    0.00    0.00    0.00    0.00    0.00   \n",
       "X360               0.00    0.00    0.00    0.00    0.00    0.00    0.00   \n",
       "XB                 0.00    0.00    0.00    0.00    0.00    0.00    0.00   \n",
       "XOne               0.00    0.00    0.00    0.00    0.00    0.00    0.00   \n",
       "\n",
       "year_of_release  1987.0  1988.0  1989.0  ...  2007.0  2008.0  2009.0  2010.0  \\\n",
       "platform                                 ...                                   \n",
       "2600               1.94    0.74    0.63  ...    0.00    0.00    0.00    0.00   \n",
       "3DO                0.00    0.00    0.00  ...    0.00    0.00    0.00    0.00   \n",
       "3DS                0.00    0.00    0.00  ...    0.00    0.00    0.00    0.00   \n",
       "DC                 0.00    0.00    0.00  ...    0.02    0.04    0.00    0.00   \n",
       "DS                 0.00    0.00    0.00  ...  146.94  145.31  119.54   85.02   \n",
       "GB                 0.00    1.43   64.97  ...    0.00    0.00    0.00    0.00   \n",
       "GBA                0.00    0.00    0.00  ...    3.40    0.00    0.00    0.00   \n",
       "GC                 0.00    0.00    0.00  ...    0.27    0.00    0.00    0.00   \n",
       "GEN                0.00    0.00    0.00  ...    0.00    0.00    0.00    0.00   \n",
       "GG                 0.00    0.00    0.00  ...    0.00    0.00    0.00    0.00   \n",
       "N64                0.00    0.00    0.00  ...    0.00    0.00    0.00    0.00   \n",
       "NES               19.76   45.01    7.85  ...    0.00    0.00    0.00    0.00   \n",
       "NG                 0.00    0.00    0.00  ...    0.00    0.00    0.00    0.00   \n",
       "PC                 0.00    0.03    0.00  ...    9.28   12.42   16.91   24.28   \n",
       "PCFX               0.00    0.00    0.00  ...    0.00    0.00    0.00    0.00   \n",
       "PS                 0.00    0.00    0.00  ...    0.00    0.00    0.00    0.00   \n",
       "PS2                0.00    0.00    0.00  ...   75.99   53.90   26.40    5.64   \n",
       "PS3                0.00    0.00    0.00  ...   73.19  118.52  130.93  142.17   \n",
       "PS4                0.00    0.00    0.00  ...    0.00    0.00    0.00    0.00   \n",
       "PSP                0.00    0.00    0.00  ...   46.93   34.55   37.78   35.04   \n",
       "PSV                0.00    0.00    0.00  ...    0.00    0.00    0.00    0.00   \n",
       "SAT                0.00    0.00    0.00  ...    0.00    0.00    0.00    0.00   \n",
       "SCD                0.00    0.00    0.00  ...    0.00    0.00    0.00    0.00   \n",
       "SNES               0.00    0.00    0.00  ...    0.00    0.00    0.00    0.00   \n",
       "TG16               0.00    0.00    0.00  ...    0.00    0.00    0.00    0.00   \n",
       "WS                 0.00    0.00    0.00  ...    0.00    0.00    0.00    0.00   \n",
       "Wii                0.00    0.00    0.00  ...  152.77  171.32  206.97  127.95   \n",
       "WiiU               0.00    0.00    0.00  ...    0.00    0.00    0.00    0.00   \n",
       "X360               0.00    0.00    0.00  ...   95.41  135.26  120.29  170.03   \n",
       "XB                 0.00    0.00    0.00  ...    0.55    0.18    0.00    0.00   \n",
       "XOne               0.00    0.00    0.00  ...    0.00    0.00    0.00    0.00   \n",
       "\n",
       "year_of_release  2011.0  2012.0  2013.0  2014.0  2015.0  2016.0  \n",
       "platform                                                         \n",
       "2600               0.00    0.00    0.00    0.00    0.00    0.00  \n",
       "3DO                0.00    0.00    0.00    0.00    0.00    0.00  \n",
       "3DS               63.20   51.36   56.57   43.76   27.78   15.14  \n",
       "DC                 0.00    0.00    0.00    0.00    0.00    0.00  \n",
       "DS                26.18   11.01    1.54    0.00    0.00    0.00  \n",
       "GB                 0.00    0.00    0.00    0.00    0.00    0.00  \n",
       "GBA                0.00    0.00    0.00    0.00    0.00    0.00  \n",
       "GC                 0.00    0.00    0.00    0.00    0.00    0.00  \n",
       "GEN                0.00    0.00    0.00    0.00    0.00    0.00  \n",
       "GG                 0.00    0.00    0.00    0.00    0.00    0.00  \n",
       "N64                0.00    0.00    0.00    0.00    0.00    0.00  \n",
       "NES                0.00    0.00    0.00    0.00    0.00    0.00  \n",
       "NG                 0.00    0.00    0.00    0.00    0.00    0.00  \n",
       "PC                35.03   23.22   12.38   13.28    8.52    5.25  \n",
       "PCFX               0.00    0.00    0.00    0.00    0.00    0.00  \n",
       "PS                 0.00    0.00    0.00    0.00    0.00    0.00  \n",
       "PS2                0.45    0.00    0.00    0.00    0.00    0.00  \n",
       "PS3              156.78  107.36  113.25   47.76   16.82    3.60  \n",
       "PS4                0.00    0.00   25.99  100.00  118.90   69.25  \n",
       "PSP               17.82    7.69    3.14    0.24    0.12    0.00  \n",
       "PSV                4.63   16.19   10.59   11.90    6.25    4.25  \n",
       "SAT                0.00    0.00    0.00    0.00    0.00    0.00  \n",
       "SCD                0.00    0.00    0.00    0.00    0.00    0.00  \n",
       "SNES               0.00    0.00    0.00    0.00    0.00    0.00  \n",
       "TG16               0.00    0.00    0.00    0.00    0.00    0.00  \n",
       "WS                 0.00    0.00    0.00    0.00    0.00    0.00  \n",
       "Wii               59.65   21.71    8.59    3.75    1.14    0.18  \n",
       "WiiU               0.00   17.56   21.65   22.03   16.35    4.60  \n",
       "X360             143.84   99.74   88.58   34.74   11.96    1.52  \n",
       "XB                 0.00    0.00    0.00    0.00    0.00    0.00  \n",
       "XOne               0.00    0.00   18.96   54.07   60.14   26.15  \n",
       "\n",
       "[31 rows x 37 columns]"
      ]
     },
     "execution_count": 41,
     "metadata": {},
     "output_type": "execute_result"
    }
   ],
   "source": [
    "games_pivot=games.pivot_table(index='platform', \n",
    "                             values='total_sales', \n",
    "                             columns='year_of_release', aggfunc='sum').fillna(0)\n",
    "games_pivot"
   ]
  },
  {
   "cell_type": "code",
   "execution_count": 42,
   "metadata": {},
   "outputs": [
    {
     "data": {
      "text/html": [
       "<div>\n",
       "<style scoped>\n",
       "    .dataframe tbody tr th:only-of-type {\n",
       "        vertical-align: middle;\n",
       "    }\n",
       "\n",
       "    .dataframe tbody tr th {\n",
       "        vertical-align: top;\n",
       "    }\n",
       "\n",
       "    .dataframe thead th {\n",
       "        text-align: right;\n",
       "    }\n",
       "</style>\n",
       "<table border=\"1\" class=\"dataframe\">\n",
       "  <thead>\n",
       "    <tr style=\"text-align: right;\">\n",
       "      <th>platform</th>\n",
       "      <th>2600</th>\n",
       "      <th>3DO</th>\n",
       "      <th>3DS</th>\n",
       "      <th>DC</th>\n",
       "      <th>DS</th>\n",
       "      <th>GB</th>\n",
       "      <th>GBA</th>\n",
       "      <th>GC</th>\n",
       "      <th>GEN</th>\n",
       "      <th>GG</th>\n",
       "      <th>...</th>\n",
       "      <th>SAT</th>\n",
       "      <th>SCD</th>\n",
       "      <th>SNES</th>\n",
       "      <th>TG16</th>\n",
       "      <th>WS</th>\n",
       "      <th>Wii</th>\n",
       "      <th>WiiU</th>\n",
       "      <th>X360</th>\n",
       "      <th>XB</th>\n",
       "      <th>XOne</th>\n",
       "    </tr>\n",
       "    <tr>\n",
       "      <th>year_of_release</th>\n",
       "      <th></th>\n",
       "      <th></th>\n",
       "      <th></th>\n",
       "      <th></th>\n",
       "      <th></th>\n",
       "      <th></th>\n",
       "      <th></th>\n",
       "      <th></th>\n",
       "      <th></th>\n",
       "      <th></th>\n",
       "      <th></th>\n",
       "      <th></th>\n",
       "      <th></th>\n",
       "      <th></th>\n",
       "      <th></th>\n",
       "      <th></th>\n",
       "      <th></th>\n",
       "      <th></th>\n",
       "      <th></th>\n",
       "      <th></th>\n",
       "      <th></th>\n",
       "    </tr>\n",
       "  </thead>\n",
       "  <tbody>\n",
       "    <tr>\n",
       "      <th>1980.0</th>\n",
       "      <td>11.38</td>\n",
       "      <td>NaN</td>\n",
       "      <td>NaN</td>\n",
       "      <td>NaN</td>\n",
       "      <td>NaN</td>\n",
       "      <td>NaN</td>\n",
       "      <td>NaN</td>\n",
       "      <td>NaN</td>\n",
       "      <td>NaN</td>\n",
       "      <td>NaN</td>\n",
       "      <td>...</td>\n",
       "      <td>NaN</td>\n",
       "      <td>NaN</td>\n",
       "      <td>NaN</td>\n",
       "      <td>NaN</td>\n",
       "      <td>NaN</td>\n",
       "      <td>NaN</td>\n",
       "      <td>NaN</td>\n",
       "      <td>NaN</td>\n",
       "      <td>NaN</td>\n",
       "      <td>NaN</td>\n",
       "    </tr>\n",
       "    <tr>\n",
       "      <th>1981.0</th>\n",
       "      <td>35.68</td>\n",
       "      <td>NaN</td>\n",
       "      <td>NaN</td>\n",
       "      <td>NaN</td>\n",
       "      <td>NaN</td>\n",
       "      <td>NaN</td>\n",
       "      <td>NaN</td>\n",
       "      <td>NaN</td>\n",
       "      <td>NaN</td>\n",
       "      <td>NaN</td>\n",
       "      <td>...</td>\n",
       "      <td>NaN</td>\n",
       "      <td>NaN</td>\n",
       "      <td>NaN</td>\n",
       "      <td>NaN</td>\n",
       "      <td>NaN</td>\n",
       "      <td>NaN</td>\n",
       "      <td>NaN</td>\n",
       "      <td>NaN</td>\n",
       "      <td>NaN</td>\n",
       "      <td>NaN</td>\n",
       "    </tr>\n",
       "    <tr>\n",
       "      <th>1982.0</th>\n",
       "      <td>28.88</td>\n",
       "      <td>NaN</td>\n",
       "      <td>NaN</td>\n",
       "      <td>NaN</td>\n",
       "      <td>NaN</td>\n",
       "      <td>NaN</td>\n",
       "      <td>NaN</td>\n",
       "      <td>NaN</td>\n",
       "      <td>NaN</td>\n",
       "      <td>NaN</td>\n",
       "      <td>...</td>\n",
       "      <td>NaN</td>\n",
       "      <td>NaN</td>\n",
       "      <td>NaN</td>\n",
       "      <td>NaN</td>\n",
       "      <td>NaN</td>\n",
       "      <td>NaN</td>\n",
       "      <td>NaN</td>\n",
       "      <td>NaN</td>\n",
       "      <td>NaN</td>\n",
       "      <td>NaN</td>\n",
       "    </tr>\n",
       "    <tr>\n",
       "      <th>1983.0</th>\n",
       "      <td>5.84</td>\n",
       "      <td>NaN</td>\n",
       "      <td>NaN</td>\n",
       "      <td>NaN</td>\n",
       "      <td>NaN</td>\n",
       "      <td>NaN</td>\n",
       "      <td>NaN</td>\n",
       "      <td>NaN</td>\n",
       "      <td>NaN</td>\n",
       "      <td>NaN</td>\n",
       "      <td>...</td>\n",
       "      <td>NaN</td>\n",
       "      <td>NaN</td>\n",
       "      <td>NaN</td>\n",
       "      <td>NaN</td>\n",
       "      <td>NaN</td>\n",
       "      <td>NaN</td>\n",
       "      <td>NaN</td>\n",
       "      <td>NaN</td>\n",
       "      <td>NaN</td>\n",
       "      <td>NaN</td>\n",
       "    </tr>\n",
       "    <tr>\n",
       "      <th>1984.0</th>\n",
       "      <td>0.27</td>\n",
       "      <td>NaN</td>\n",
       "      <td>NaN</td>\n",
       "      <td>NaN</td>\n",
       "      <td>NaN</td>\n",
       "      <td>NaN</td>\n",
       "      <td>NaN</td>\n",
       "      <td>NaN</td>\n",
       "      <td>NaN</td>\n",
       "      <td>NaN</td>\n",
       "      <td>...</td>\n",
       "      <td>NaN</td>\n",
       "      <td>NaN</td>\n",
       "      <td>NaN</td>\n",
       "      <td>NaN</td>\n",
       "      <td>NaN</td>\n",
       "      <td>NaN</td>\n",
       "      <td>NaN</td>\n",
       "      <td>NaN</td>\n",
       "      <td>NaN</td>\n",
       "      <td>NaN</td>\n",
       "    </tr>\n",
       "    <tr>\n",
       "      <th>1985.0</th>\n",
       "      <td>0.45</td>\n",
       "      <td>NaN</td>\n",
       "      <td>NaN</td>\n",
       "      <td>NaN</td>\n",
       "      <td>0.02</td>\n",
       "      <td>NaN</td>\n",
       "      <td>NaN</td>\n",
       "      <td>NaN</td>\n",
       "      <td>NaN</td>\n",
       "      <td>NaN</td>\n",
       "      <td>...</td>\n",
       "      <td>NaN</td>\n",
       "      <td>NaN</td>\n",
       "      <td>NaN</td>\n",
       "      <td>NaN</td>\n",
       "      <td>NaN</td>\n",
       "      <td>NaN</td>\n",
       "      <td>NaN</td>\n",
       "      <td>NaN</td>\n",
       "      <td>NaN</td>\n",
       "      <td>NaN</td>\n",
       "    </tr>\n",
       "    <tr>\n",
       "      <th>1986.0</th>\n",
       "      <td>0.67</td>\n",
       "      <td>NaN</td>\n",
       "      <td>NaN</td>\n",
       "      <td>NaN</td>\n",
       "      <td>NaN</td>\n",
       "      <td>NaN</td>\n",
       "      <td>NaN</td>\n",
       "      <td>NaN</td>\n",
       "      <td>NaN</td>\n",
       "      <td>NaN</td>\n",
       "      <td>...</td>\n",
       "      <td>NaN</td>\n",
       "      <td>NaN</td>\n",
       "      <td>NaN</td>\n",
       "      <td>NaN</td>\n",
       "      <td>NaN</td>\n",
       "      <td>NaN</td>\n",
       "      <td>NaN</td>\n",
       "      <td>NaN</td>\n",
       "      <td>NaN</td>\n",
       "      <td>NaN</td>\n",
       "    </tr>\n",
       "    <tr>\n",
       "      <th>1987.0</th>\n",
       "      <td>1.94</td>\n",
       "      <td>NaN</td>\n",
       "      <td>NaN</td>\n",
       "      <td>NaN</td>\n",
       "      <td>NaN</td>\n",
       "      <td>NaN</td>\n",
       "      <td>NaN</td>\n",
       "      <td>NaN</td>\n",
       "      <td>NaN</td>\n",
       "      <td>NaN</td>\n",
       "      <td>...</td>\n",
       "      <td>NaN</td>\n",
       "      <td>NaN</td>\n",
       "      <td>NaN</td>\n",
       "      <td>NaN</td>\n",
       "      <td>NaN</td>\n",
       "      <td>NaN</td>\n",
       "      <td>NaN</td>\n",
       "      <td>NaN</td>\n",
       "      <td>NaN</td>\n",
       "      <td>NaN</td>\n",
       "    </tr>\n",
       "    <tr>\n",
       "      <th>1988.0</th>\n",
       "      <td>0.74</td>\n",
       "      <td>NaN</td>\n",
       "      <td>NaN</td>\n",
       "      <td>NaN</td>\n",
       "      <td>NaN</td>\n",
       "      <td>1.43</td>\n",
       "      <td>NaN</td>\n",
       "      <td>NaN</td>\n",
       "      <td>NaN</td>\n",
       "      <td>NaN</td>\n",
       "      <td>...</td>\n",
       "      <td>NaN</td>\n",
       "      <td>NaN</td>\n",
       "      <td>NaN</td>\n",
       "      <td>NaN</td>\n",
       "      <td>NaN</td>\n",
       "      <td>NaN</td>\n",
       "      <td>NaN</td>\n",
       "      <td>NaN</td>\n",
       "      <td>NaN</td>\n",
       "      <td>NaN</td>\n",
       "    </tr>\n",
       "    <tr>\n",
       "      <th>1989.0</th>\n",
       "      <td>0.63</td>\n",
       "      <td>NaN</td>\n",
       "      <td>NaN</td>\n",
       "      <td>NaN</td>\n",
       "      <td>NaN</td>\n",
       "      <td>64.97</td>\n",
       "      <td>NaN</td>\n",
       "      <td>NaN</td>\n",
       "      <td>NaN</td>\n",
       "      <td>NaN</td>\n",
       "      <td>...</td>\n",
       "      <td>NaN</td>\n",
       "      <td>NaN</td>\n",
       "      <td>NaN</td>\n",
       "      <td>NaN</td>\n",
       "      <td>NaN</td>\n",
       "      <td>NaN</td>\n",
       "      <td>NaN</td>\n",
       "      <td>NaN</td>\n",
       "      <td>NaN</td>\n",
       "      <td>NaN</td>\n",
       "    </tr>\n",
       "    <tr>\n",
       "      <th>1990.0</th>\n",
       "      <td>NaN</td>\n",
       "      <td>NaN</td>\n",
       "      <td>NaN</td>\n",
       "      <td>NaN</td>\n",
       "      <td>NaN</td>\n",
       "      <td>4.89</td>\n",
       "      <td>NaN</td>\n",
       "      <td>NaN</td>\n",
       "      <td>2.60</td>\n",
       "      <td>NaN</td>\n",
       "      <td>...</td>\n",
       "      <td>NaN</td>\n",
       "      <td>NaN</td>\n",
       "      <td>26.15</td>\n",
       "      <td>NaN</td>\n",
       "      <td>NaN</td>\n",
       "      <td>NaN</td>\n",
       "      <td>NaN</td>\n",
       "      <td>NaN</td>\n",
       "      <td>NaN</td>\n",
       "      <td>NaN</td>\n",
       "    </tr>\n",
       "    <tr>\n",
       "      <th>1991.0</th>\n",
       "      <td>NaN</td>\n",
       "      <td>NaN</td>\n",
       "      <td>NaN</td>\n",
       "      <td>NaN</td>\n",
       "      <td>NaN</td>\n",
       "      <td>5.57</td>\n",
       "      <td>NaN</td>\n",
       "      <td>NaN</td>\n",
       "      <td>4.33</td>\n",
       "      <td>NaN</td>\n",
       "      <td>...</td>\n",
       "      <td>NaN</td>\n",
       "      <td>NaN</td>\n",
       "      <td>16.22</td>\n",
       "      <td>NaN</td>\n",
       "      <td>NaN</td>\n",
       "      <td>NaN</td>\n",
       "      <td>NaN</td>\n",
       "      <td>NaN</td>\n",
       "      <td>NaN</td>\n",
       "      <td>NaN</td>\n",
       "    </tr>\n",
       "    <tr>\n",
       "      <th>1992.0</th>\n",
       "      <td>NaN</td>\n",
       "      <td>NaN</td>\n",
       "      <td>NaN</td>\n",
       "      <td>NaN</td>\n",
       "      <td>NaN</td>\n",
       "      <td>25.49</td>\n",
       "      <td>NaN</td>\n",
       "      <td>NaN</td>\n",
       "      <td>12.64</td>\n",
       "      <td>0.04</td>\n",
       "      <td>...</td>\n",
       "      <td>NaN</td>\n",
       "      <td>NaN</td>\n",
       "      <td>32.98</td>\n",
       "      <td>NaN</td>\n",
       "      <td>NaN</td>\n",
       "      <td>NaN</td>\n",
       "      <td>NaN</td>\n",
       "      <td>NaN</td>\n",
       "      <td>NaN</td>\n",
       "      <td>NaN</td>\n",
       "    </tr>\n",
       "    <tr>\n",
       "      <th>1993.0</th>\n",
       "      <td>NaN</td>\n",
       "      <td>NaN</td>\n",
       "      <td>NaN</td>\n",
       "      <td>NaN</td>\n",
       "      <td>NaN</td>\n",
       "      <td>NaN</td>\n",
       "      <td>NaN</td>\n",
       "      <td>NaN</td>\n",
       "      <td>0.65</td>\n",
       "      <td>NaN</td>\n",
       "      <td>...</td>\n",
       "      <td>NaN</td>\n",
       "      <td>1.50</td>\n",
       "      <td>40.02</td>\n",
       "      <td>NaN</td>\n",
       "      <td>NaN</td>\n",
       "      <td>NaN</td>\n",
       "      <td>NaN</td>\n",
       "      <td>NaN</td>\n",
       "      <td>NaN</td>\n",
       "      <td>NaN</td>\n",
       "    </tr>\n",
       "    <tr>\n",
       "      <th>1994.0</th>\n",
       "      <td>NaN</td>\n",
       "      <td>0.02</td>\n",
       "      <td>NaN</td>\n",
       "      <td>NaN</td>\n",
       "      <td>NaN</td>\n",
       "      <td>12.18</td>\n",
       "      <td>NaN</td>\n",
       "      <td>NaN</td>\n",
       "      <td>8.13</td>\n",
       "      <td>NaN</td>\n",
       "      <td>...</td>\n",
       "      <td>3.65</td>\n",
       "      <td>0.36</td>\n",
       "      <td>35.08</td>\n",
       "      <td>NaN</td>\n",
       "      <td>NaN</td>\n",
       "      <td>NaN</td>\n",
       "      <td>NaN</td>\n",
       "      <td>NaN</td>\n",
       "      <td>NaN</td>\n",
       "      <td>NaN</td>\n",
       "    </tr>\n",
       "    <tr>\n",
       "      <th>1995.0</th>\n",
       "      <td>NaN</td>\n",
       "      <td>0.08</td>\n",
       "      <td>NaN</td>\n",
       "      <td>NaN</td>\n",
       "      <td>NaN</td>\n",
       "      <td>3.60</td>\n",
       "      <td>NaN</td>\n",
       "      <td>NaN</td>\n",
       "      <td>NaN</td>\n",
       "      <td>NaN</td>\n",
       "      <td>...</td>\n",
       "      <td>11.57</td>\n",
       "      <td>NaN</td>\n",
       "      <td>32.20</td>\n",
       "      <td>0.16</td>\n",
       "      <td>NaN</td>\n",
       "      <td>NaN</td>\n",
       "      <td>NaN</td>\n",
       "      <td>NaN</td>\n",
       "      <td>NaN</td>\n",
       "      <td>NaN</td>\n",
       "    </tr>\n",
       "    <tr>\n",
       "      <th>1996.0</th>\n",
       "      <td>NaN</td>\n",
       "      <td>NaN</td>\n",
       "      <td>NaN</td>\n",
       "      <td>NaN</td>\n",
       "      <td>NaN</td>\n",
       "      <td>36.03</td>\n",
       "      <td>NaN</td>\n",
       "      <td>NaN</td>\n",
       "      <td>NaN</td>\n",
       "      <td>NaN</td>\n",
       "      <td>...</td>\n",
       "      <td>7.69</td>\n",
       "      <td>NaN</td>\n",
       "      <td>15.92</td>\n",
       "      <td>NaN</td>\n",
       "      <td>NaN</td>\n",
       "      <td>NaN</td>\n",
       "      <td>NaN</td>\n",
       "      <td>NaN</td>\n",
       "      <td>NaN</td>\n",
       "      <td>NaN</td>\n",
       "    </tr>\n",
       "    <tr>\n",
       "      <th>1997.0</th>\n",
       "      <td>NaN</td>\n",
       "      <td>NaN</td>\n",
       "      <td>NaN</td>\n",
       "      <td>NaN</td>\n",
       "      <td>NaN</td>\n",
       "      <td>6.37</td>\n",
       "      <td>NaN</td>\n",
       "      <td>NaN</td>\n",
       "      <td>NaN</td>\n",
       "      <td>NaN</td>\n",
       "      <td>...</td>\n",
       "      <td>6.77</td>\n",
       "      <td>NaN</td>\n",
       "      <td>0.99</td>\n",
       "      <td>NaN</td>\n",
       "      <td>NaN</td>\n",
       "      <td>NaN</td>\n",
       "      <td>NaN</td>\n",
       "      <td>NaN</td>\n",
       "      <td>NaN</td>\n",
       "      <td>NaN</td>\n",
       "    </tr>\n",
       "    <tr>\n",
       "      <th>1998.0</th>\n",
       "      <td>NaN</td>\n",
       "      <td>NaN</td>\n",
       "      <td>NaN</td>\n",
       "      <td>3.38</td>\n",
       "      <td>NaN</td>\n",
       "      <td>26.90</td>\n",
       "      <td>NaN</td>\n",
       "      <td>NaN</td>\n",
       "      <td>NaN</td>\n",
       "      <td>NaN</td>\n",
       "      <td>...</td>\n",
       "      <td>3.82</td>\n",
       "      <td>NaN</td>\n",
       "      <td>0.22</td>\n",
       "      <td>NaN</td>\n",
       "      <td>NaN</td>\n",
       "      <td>NaN</td>\n",
       "      <td>NaN</td>\n",
       "      <td>NaN</td>\n",
       "      <td>NaN</td>\n",
       "      <td>NaN</td>\n",
       "    </tr>\n",
       "    <tr>\n",
       "      <th>1999.0</th>\n",
       "      <td>NaN</td>\n",
       "      <td>NaN</td>\n",
       "      <td>NaN</td>\n",
       "      <td>5.16</td>\n",
       "      <td>NaN</td>\n",
       "      <td>38.00</td>\n",
       "      <td>NaN</td>\n",
       "      <td>NaN</td>\n",
       "      <td>NaN</td>\n",
       "      <td>NaN</td>\n",
       "      <td>...</td>\n",
       "      <td>0.09</td>\n",
       "      <td>NaN</td>\n",
       "      <td>0.26</td>\n",
       "      <td>NaN</td>\n",
       "      <td>0.46</td>\n",
       "      <td>NaN</td>\n",
       "      <td>NaN</td>\n",
       "      <td>NaN</td>\n",
       "      <td>NaN</td>\n",
       "      <td>NaN</td>\n",
       "    </tr>\n",
       "    <tr>\n",
       "      <th>2000.0</th>\n",
       "      <td>NaN</td>\n",
       "      <td>NaN</td>\n",
       "      <td>NaN</td>\n",
       "      <td>5.99</td>\n",
       "      <td>NaN</td>\n",
       "      <td>19.76</td>\n",
       "      <td>0.07</td>\n",
       "      <td>NaN</td>\n",
       "      <td>NaN</td>\n",
       "      <td>NaN</td>\n",
       "      <td>...</td>\n",
       "      <td>NaN</td>\n",
       "      <td>NaN</td>\n",
       "      <td>NaN</td>\n",
       "      <td>NaN</td>\n",
       "      <td>0.68</td>\n",
       "      <td>NaN</td>\n",
       "      <td>NaN</td>\n",
       "      <td>NaN</td>\n",
       "      <td>0.99</td>\n",
       "      <td>NaN</td>\n",
       "    </tr>\n",
       "    <tr>\n",
       "      <th>2001.0</th>\n",
       "      <td>NaN</td>\n",
       "      <td>NaN</td>\n",
       "      <td>NaN</td>\n",
       "      <td>1.07</td>\n",
       "      <td>NaN</td>\n",
       "      <td>9.24</td>\n",
       "      <td>61.53</td>\n",
       "      <td>26.34</td>\n",
       "      <td>NaN</td>\n",
       "      <td>NaN</td>\n",
       "      <td>...</td>\n",
       "      <td>NaN</td>\n",
       "      <td>NaN</td>\n",
       "      <td>NaN</td>\n",
       "      <td>NaN</td>\n",
       "      <td>0.28</td>\n",
       "      <td>NaN</td>\n",
       "      <td>NaN</td>\n",
       "      <td>NaN</td>\n",
       "      <td>22.26</td>\n",
       "      <td>NaN</td>\n",
       "    </tr>\n",
       "    <tr>\n",
       "      <th>2002.0</th>\n",
       "      <td>NaN</td>\n",
       "      <td>NaN</td>\n",
       "      <td>NaN</td>\n",
       "      <td>0.29</td>\n",
       "      <td>NaN</td>\n",
       "      <td>NaN</td>\n",
       "      <td>74.16</td>\n",
       "      <td>51.81</td>\n",
       "      <td>NaN</td>\n",
       "      <td>NaN</td>\n",
       "      <td>...</td>\n",
       "      <td>NaN</td>\n",
       "      <td>NaN</td>\n",
       "      <td>NaN</td>\n",
       "      <td>NaN</td>\n",
       "      <td>NaN</td>\n",
       "      <td>NaN</td>\n",
       "      <td>NaN</td>\n",
       "      <td>NaN</td>\n",
       "      <td>48.01</td>\n",
       "      <td>NaN</td>\n",
       "    </tr>\n",
       "    <tr>\n",
       "      <th>2003.0</th>\n",
       "      <td>NaN</td>\n",
       "      <td>NaN</td>\n",
       "      <td>NaN</td>\n",
       "      <td>NaN</td>\n",
       "      <td>NaN</td>\n",
       "      <td>NaN</td>\n",
       "      <td>56.67</td>\n",
       "      <td>50.61</td>\n",
       "      <td>NaN</td>\n",
       "      <td>NaN</td>\n",
       "      <td>...</td>\n",
       "      <td>NaN</td>\n",
       "      <td>NaN</td>\n",
       "      <td>NaN</td>\n",
       "      <td>NaN</td>\n",
       "      <td>NaN</td>\n",
       "      <td>NaN</td>\n",
       "      <td>NaN</td>\n",
       "      <td>NaN</td>\n",
       "      <td>55.04</td>\n",
       "      <td>NaN</td>\n",
       "    </tr>\n",
       "    <tr>\n",
       "      <th>2004.0</th>\n",
       "      <td>NaN</td>\n",
       "      <td>NaN</td>\n",
       "      <td>NaN</td>\n",
       "      <td>NaN</td>\n",
       "      <td>17.27</td>\n",
       "      <td>NaN</td>\n",
       "      <td>77.91</td>\n",
       "      <td>28.82</td>\n",
       "      <td>NaN</td>\n",
       "      <td>NaN</td>\n",
       "      <td>...</td>\n",
       "      <td>NaN</td>\n",
       "      <td>NaN</td>\n",
       "      <td>NaN</td>\n",
       "      <td>NaN</td>\n",
       "      <td>NaN</td>\n",
       "      <td>NaN</td>\n",
       "      <td>NaN</td>\n",
       "      <td>NaN</td>\n",
       "      <td>65.42</td>\n",
       "      <td>NaN</td>\n",
       "    </tr>\n",
       "    <tr>\n",
       "      <th>2005.0</th>\n",
       "      <td>NaN</td>\n",
       "      <td>NaN</td>\n",
       "      <td>NaN</td>\n",
       "      <td>NaN</td>\n",
       "      <td>130.14</td>\n",
       "      <td>NaN</td>\n",
       "      <td>33.86</td>\n",
       "      <td>27.62</td>\n",
       "      <td>NaN</td>\n",
       "      <td>NaN</td>\n",
       "      <td>...</td>\n",
       "      <td>NaN</td>\n",
       "      <td>NaN</td>\n",
       "      <td>NaN</td>\n",
       "      <td>NaN</td>\n",
       "      <td>NaN</td>\n",
       "      <td>NaN</td>\n",
       "      <td>NaN</td>\n",
       "      <td>8.25</td>\n",
       "      <td>49.08</td>\n",
       "      <td>NaN</td>\n",
       "    </tr>\n",
       "    <tr>\n",
       "      <th>2006.0</th>\n",
       "      <td>NaN</td>\n",
       "      <td>NaN</td>\n",
       "      <td>NaN</td>\n",
       "      <td>NaN</td>\n",
       "      <td>119.81</td>\n",
       "      <td>NaN</td>\n",
       "      <td>5.28</td>\n",
       "      <td>11.26</td>\n",
       "      <td>NaN</td>\n",
       "      <td>NaN</td>\n",
       "      <td>...</td>\n",
       "      <td>NaN</td>\n",
       "      <td>NaN</td>\n",
       "      <td>NaN</td>\n",
       "      <td>NaN</td>\n",
       "      <td>NaN</td>\n",
       "      <td>137.15</td>\n",
       "      <td>NaN</td>\n",
       "      <td>51.62</td>\n",
       "      <td>10.04</td>\n",
       "      <td>NaN</td>\n",
       "    </tr>\n",
       "    <tr>\n",
       "      <th>2007.0</th>\n",
       "      <td>NaN</td>\n",
       "      <td>NaN</td>\n",
       "      <td>NaN</td>\n",
       "      <td>0.02</td>\n",
       "      <td>146.94</td>\n",
       "      <td>NaN</td>\n",
       "      <td>3.40</td>\n",
       "      <td>0.27</td>\n",
       "      <td>NaN</td>\n",
       "      <td>NaN</td>\n",
       "      <td>...</td>\n",
       "      <td>NaN</td>\n",
       "      <td>NaN</td>\n",
       "      <td>NaN</td>\n",
       "      <td>NaN</td>\n",
       "      <td>NaN</td>\n",
       "      <td>152.77</td>\n",
       "      <td>NaN</td>\n",
       "      <td>95.41</td>\n",
       "      <td>0.55</td>\n",
       "      <td>NaN</td>\n",
       "    </tr>\n",
       "    <tr>\n",
       "      <th>2008.0</th>\n",
       "      <td>NaN</td>\n",
       "      <td>NaN</td>\n",
       "      <td>NaN</td>\n",
       "      <td>0.04</td>\n",
       "      <td>145.31</td>\n",
       "      <td>NaN</td>\n",
       "      <td>NaN</td>\n",
       "      <td>NaN</td>\n",
       "      <td>NaN</td>\n",
       "      <td>NaN</td>\n",
       "      <td>...</td>\n",
       "      <td>NaN</td>\n",
       "      <td>NaN</td>\n",
       "      <td>NaN</td>\n",
       "      <td>NaN</td>\n",
       "      <td>NaN</td>\n",
       "      <td>171.32</td>\n",
       "      <td>NaN</td>\n",
       "      <td>135.26</td>\n",
       "      <td>0.18</td>\n",
       "      <td>NaN</td>\n",
       "    </tr>\n",
       "    <tr>\n",
       "      <th>2009.0</th>\n",
       "      <td>NaN</td>\n",
       "      <td>NaN</td>\n",
       "      <td>NaN</td>\n",
       "      <td>NaN</td>\n",
       "      <td>119.54</td>\n",
       "      <td>NaN</td>\n",
       "      <td>NaN</td>\n",
       "      <td>NaN</td>\n",
       "      <td>NaN</td>\n",
       "      <td>NaN</td>\n",
       "      <td>...</td>\n",
       "      <td>NaN</td>\n",
       "      <td>NaN</td>\n",
       "      <td>NaN</td>\n",
       "      <td>NaN</td>\n",
       "      <td>NaN</td>\n",
       "      <td>206.97</td>\n",
       "      <td>NaN</td>\n",
       "      <td>120.29</td>\n",
       "      <td>NaN</td>\n",
       "      <td>NaN</td>\n",
       "    </tr>\n",
       "    <tr>\n",
       "      <th>2010.0</th>\n",
       "      <td>NaN</td>\n",
       "      <td>NaN</td>\n",
       "      <td>NaN</td>\n",
       "      <td>NaN</td>\n",
       "      <td>85.02</td>\n",
       "      <td>NaN</td>\n",
       "      <td>NaN</td>\n",
       "      <td>NaN</td>\n",
       "      <td>NaN</td>\n",
       "      <td>NaN</td>\n",
       "      <td>...</td>\n",
       "      <td>NaN</td>\n",
       "      <td>NaN</td>\n",
       "      <td>NaN</td>\n",
       "      <td>NaN</td>\n",
       "      <td>NaN</td>\n",
       "      <td>127.95</td>\n",
       "      <td>NaN</td>\n",
       "      <td>170.03</td>\n",
       "      <td>NaN</td>\n",
       "      <td>NaN</td>\n",
       "    </tr>\n",
       "    <tr>\n",
       "      <th>2011.0</th>\n",
       "      <td>NaN</td>\n",
       "      <td>NaN</td>\n",
       "      <td>63.20</td>\n",
       "      <td>NaN</td>\n",
       "      <td>26.18</td>\n",
       "      <td>NaN</td>\n",
       "      <td>NaN</td>\n",
       "      <td>NaN</td>\n",
       "      <td>NaN</td>\n",
       "      <td>NaN</td>\n",
       "      <td>...</td>\n",
       "      <td>NaN</td>\n",
       "      <td>NaN</td>\n",
       "      <td>NaN</td>\n",
       "      <td>NaN</td>\n",
       "      <td>NaN</td>\n",
       "      <td>59.65</td>\n",
       "      <td>NaN</td>\n",
       "      <td>143.84</td>\n",
       "      <td>NaN</td>\n",
       "      <td>NaN</td>\n",
       "    </tr>\n",
       "    <tr>\n",
       "      <th>2012.0</th>\n",
       "      <td>NaN</td>\n",
       "      <td>NaN</td>\n",
       "      <td>51.36</td>\n",
       "      <td>NaN</td>\n",
       "      <td>11.01</td>\n",
       "      <td>NaN</td>\n",
       "      <td>NaN</td>\n",
       "      <td>NaN</td>\n",
       "      <td>NaN</td>\n",
       "      <td>NaN</td>\n",
       "      <td>...</td>\n",
       "      <td>NaN</td>\n",
       "      <td>NaN</td>\n",
       "      <td>NaN</td>\n",
       "      <td>NaN</td>\n",
       "      <td>NaN</td>\n",
       "      <td>21.71</td>\n",
       "      <td>17.56</td>\n",
       "      <td>99.74</td>\n",
       "      <td>NaN</td>\n",
       "      <td>NaN</td>\n",
       "    </tr>\n",
       "    <tr>\n",
       "      <th>2013.0</th>\n",
       "      <td>NaN</td>\n",
       "      <td>NaN</td>\n",
       "      <td>56.57</td>\n",
       "      <td>NaN</td>\n",
       "      <td>1.54</td>\n",
       "      <td>NaN</td>\n",
       "      <td>NaN</td>\n",
       "      <td>NaN</td>\n",
       "      <td>NaN</td>\n",
       "      <td>NaN</td>\n",
       "      <td>...</td>\n",
       "      <td>NaN</td>\n",
       "      <td>NaN</td>\n",
       "      <td>NaN</td>\n",
       "      <td>NaN</td>\n",
       "      <td>NaN</td>\n",
       "      <td>8.59</td>\n",
       "      <td>21.65</td>\n",
       "      <td>88.58</td>\n",
       "      <td>NaN</td>\n",
       "      <td>18.96</td>\n",
       "    </tr>\n",
       "    <tr>\n",
       "      <th>2014.0</th>\n",
       "      <td>NaN</td>\n",
       "      <td>NaN</td>\n",
       "      <td>43.76</td>\n",
       "      <td>NaN</td>\n",
       "      <td>NaN</td>\n",
       "      <td>NaN</td>\n",
       "      <td>NaN</td>\n",
       "      <td>NaN</td>\n",
       "      <td>NaN</td>\n",
       "      <td>NaN</td>\n",
       "      <td>...</td>\n",
       "      <td>NaN</td>\n",
       "      <td>NaN</td>\n",
       "      <td>NaN</td>\n",
       "      <td>NaN</td>\n",
       "      <td>NaN</td>\n",
       "      <td>3.75</td>\n",
       "      <td>22.03</td>\n",
       "      <td>34.74</td>\n",
       "      <td>NaN</td>\n",
       "      <td>54.07</td>\n",
       "    </tr>\n",
       "    <tr>\n",
       "      <th>2015.0</th>\n",
       "      <td>NaN</td>\n",
       "      <td>NaN</td>\n",
       "      <td>27.78</td>\n",
       "      <td>NaN</td>\n",
       "      <td>NaN</td>\n",
       "      <td>NaN</td>\n",
       "      <td>NaN</td>\n",
       "      <td>NaN</td>\n",
       "      <td>NaN</td>\n",
       "      <td>NaN</td>\n",
       "      <td>...</td>\n",
       "      <td>NaN</td>\n",
       "      <td>NaN</td>\n",
       "      <td>NaN</td>\n",
       "      <td>NaN</td>\n",
       "      <td>NaN</td>\n",
       "      <td>1.14</td>\n",
       "      <td>16.35</td>\n",
       "      <td>11.96</td>\n",
       "      <td>NaN</td>\n",
       "      <td>60.14</td>\n",
       "    </tr>\n",
       "    <tr>\n",
       "      <th>2016.0</th>\n",
       "      <td>NaN</td>\n",
       "      <td>NaN</td>\n",
       "      <td>15.14</td>\n",
       "      <td>NaN</td>\n",
       "      <td>NaN</td>\n",
       "      <td>NaN</td>\n",
       "      <td>NaN</td>\n",
       "      <td>NaN</td>\n",
       "      <td>NaN</td>\n",
       "      <td>NaN</td>\n",
       "      <td>...</td>\n",
       "      <td>NaN</td>\n",
       "      <td>NaN</td>\n",
       "      <td>NaN</td>\n",
       "      <td>NaN</td>\n",
       "      <td>NaN</td>\n",
       "      <td>0.18</td>\n",
       "      <td>4.60</td>\n",
       "      <td>1.52</td>\n",
       "      <td>NaN</td>\n",
       "      <td>26.15</td>\n",
       "    </tr>\n",
       "  </tbody>\n",
       "</table>\n",
       "<p>37 rows × 31 columns</p>\n",
       "</div>"
      ],
      "text/plain": [
       "platform          2600   3DO    3DS    DC      DS     GB    GBA     GC    GEN  \\\n",
       "year_of_release                                                                 \n",
       "1980.0           11.38   NaN    NaN   NaN     NaN    NaN    NaN    NaN    NaN   \n",
       "1981.0           35.68   NaN    NaN   NaN     NaN    NaN    NaN    NaN    NaN   \n",
       "1982.0           28.88   NaN    NaN   NaN     NaN    NaN    NaN    NaN    NaN   \n",
       "1983.0            5.84   NaN    NaN   NaN     NaN    NaN    NaN    NaN    NaN   \n",
       "1984.0            0.27   NaN    NaN   NaN     NaN    NaN    NaN    NaN    NaN   \n",
       "1985.0            0.45   NaN    NaN   NaN    0.02    NaN    NaN    NaN    NaN   \n",
       "1986.0            0.67   NaN    NaN   NaN     NaN    NaN    NaN    NaN    NaN   \n",
       "1987.0            1.94   NaN    NaN   NaN     NaN    NaN    NaN    NaN    NaN   \n",
       "1988.0            0.74   NaN    NaN   NaN     NaN   1.43    NaN    NaN    NaN   \n",
       "1989.0            0.63   NaN    NaN   NaN     NaN  64.97    NaN    NaN    NaN   \n",
       "1990.0             NaN   NaN    NaN   NaN     NaN   4.89    NaN    NaN   2.60   \n",
       "1991.0             NaN   NaN    NaN   NaN     NaN   5.57    NaN    NaN   4.33   \n",
       "1992.0             NaN   NaN    NaN   NaN     NaN  25.49    NaN    NaN  12.64   \n",
       "1993.0             NaN   NaN    NaN   NaN     NaN    NaN    NaN    NaN   0.65   \n",
       "1994.0             NaN  0.02    NaN   NaN     NaN  12.18    NaN    NaN   8.13   \n",
       "1995.0             NaN  0.08    NaN   NaN     NaN   3.60    NaN    NaN    NaN   \n",
       "1996.0             NaN   NaN    NaN   NaN     NaN  36.03    NaN    NaN    NaN   \n",
       "1997.0             NaN   NaN    NaN   NaN     NaN   6.37    NaN    NaN    NaN   \n",
       "1998.0             NaN   NaN    NaN  3.38     NaN  26.90    NaN    NaN    NaN   \n",
       "1999.0             NaN   NaN    NaN  5.16     NaN  38.00    NaN    NaN    NaN   \n",
       "2000.0             NaN   NaN    NaN  5.99     NaN  19.76   0.07    NaN    NaN   \n",
       "2001.0             NaN   NaN    NaN  1.07     NaN   9.24  61.53  26.34    NaN   \n",
       "2002.0             NaN   NaN    NaN  0.29     NaN    NaN  74.16  51.81    NaN   \n",
       "2003.0             NaN   NaN    NaN   NaN     NaN    NaN  56.67  50.61    NaN   \n",
       "2004.0             NaN   NaN    NaN   NaN   17.27    NaN  77.91  28.82    NaN   \n",
       "2005.0             NaN   NaN    NaN   NaN  130.14    NaN  33.86  27.62    NaN   \n",
       "2006.0             NaN   NaN    NaN   NaN  119.81    NaN   5.28  11.26    NaN   \n",
       "2007.0             NaN   NaN    NaN  0.02  146.94    NaN   3.40   0.27    NaN   \n",
       "2008.0             NaN   NaN    NaN  0.04  145.31    NaN    NaN    NaN    NaN   \n",
       "2009.0             NaN   NaN    NaN   NaN  119.54    NaN    NaN    NaN    NaN   \n",
       "2010.0             NaN   NaN    NaN   NaN   85.02    NaN    NaN    NaN    NaN   \n",
       "2011.0             NaN   NaN  63.20   NaN   26.18    NaN    NaN    NaN    NaN   \n",
       "2012.0             NaN   NaN  51.36   NaN   11.01    NaN    NaN    NaN    NaN   \n",
       "2013.0             NaN   NaN  56.57   NaN    1.54    NaN    NaN    NaN    NaN   \n",
       "2014.0             NaN   NaN  43.76   NaN     NaN    NaN    NaN    NaN    NaN   \n",
       "2015.0             NaN   NaN  27.78   NaN     NaN    NaN    NaN    NaN    NaN   \n",
       "2016.0             NaN   NaN  15.14   NaN     NaN    NaN    NaN    NaN    NaN   \n",
       "\n",
       "platform           GG  ...    SAT   SCD   SNES  TG16    WS     Wii   WiiU  \\\n",
       "year_of_release        ...                                                  \n",
       "1980.0            NaN  ...    NaN   NaN    NaN   NaN   NaN     NaN    NaN   \n",
       "1981.0            NaN  ...    NaN   NaN    NaN   NaN   NaN     NaN    NaN   \n",
       "1982.0            NaN  ...    NaN   NaN    NaN   NaN   NaN     NaN    NaN   \n",
       "1983.0            NaN  ...    NaN   NaN    NaN   NaN   NaN     NaN    NaN   \n",
       "1984.0            NaN  ...    NaN   NaN    NaN   NaN   NaN     NaN    NaN   \n",
       "1985.0            NaN  ...    NaN   NaN    NaN   NaN   NaN     NaN    NaN   \n",
       "1986.0            NaN  ...    NaN   NaN    NaN   NaN   NaN     NaN    NaN   \n",
       "1987.0            NaN  ...    NaN   NaN    NaN   NaN   NaN     NaN    NaN   \n",
       "1988.0            NaN  ...    NaN   NaN    NaN   NaN   NaN     NaN    NaN   \n",
       "1989.0            NaN  ...    NaN   NaN    NaN   NaN   NaN     NaN    NaN   \n",
       "1990.0            NaN  ...    NaN   NaN  26.15   NaN   NaN     NaN    NaN   \n",
       "1991.0            NaN  ...    NaN   NaN  16.22   NaN   NaN     NaN    NaN   \n",
       "1992.0           0.04  ...    NaN   NaN  32.98   NaN   NaN     NaN    NaN   \n",
       "1993.0            NaN  ...    NaN  1.50  40.02   NaN   NaN     NaN    NaN   \n",
       "1994.0            NaN  ...   3.65  0.36  35.08   NaN   NaN     NaN    NaN   \n",
       "1995.0            NaN  ...  11.57   NaN  32.20  0.16   NaN     NaN    NaN   \n",
       "1996.0            NaN  ...   7.69   NaN  15.92   NaN   NaN     NaN    NaN   \n",
       "1997.0            NaN  ...   6.77   NaN   0.99   NaN   NaN     NaN    NaN   \n",
       "1998.0            NaN  ...   3.82   NaN   0.22   NaN   NaN     NaN    NaN   \n",
       "1999.0            NaN  ...   0.09   NaN   0.26   NaN  0.46     NaN    NaN   \n",
       "2000.0            NaN  ...    NaN   NaN    NaN   NaN  0.68     NaN    NaN   \n",
       "2001.0            NaN  ...    NaN   NaN    NaN   NaN  0.28     NaN    NaN   \n",
       "2002.0            NaN  ...    NaN   NaN    NaN   NaN   NaN     NaN    NaN   \n",
       "2003.0            NaN  ...    NaN   NaN    NaN   NaN   NaN     NaN    NaN   \n",
       "2004.0            NaN  ...    NaN   NaN    NaN   NaN   NaN     NaN    NaN   \n",
       "2005.0            NaN  ...    NaN   NaN    NaN   NaN   NaN     NaN    NaN   \n",
       "2006.0            NaN  ...    NaN   NaN    NaN   NaN   NaN  137.15    NaN   \n",
       "2007.0            NaN  ...    NaN   NaN    NaN   NaN   NaN  152.77    NaN   \n",
       "2008.0            NaN  ...    NaN   NaN    NaN   NaN   NaN  171.32    NaN   \n",
       "2009.0            NaN  ...    NaN   NaN    NaN   NaN   NaN  206.97    NaN   \n",
       "2010.0            NaN  ...    NaN   NaN    NaN   NaN   NaN  127.95    NaN   \n",
       "2011.0            NaN  ...    NaN   NaN    NaN   NaN   NaN   59.65    NaN   \n",
       "2012.0            NaN  ...    NaN   NaN    NaN   NaN   NaN   21.71  17.56   \n",
       "2013.0            NaN  ...    NaN   NaN    NaN   NaN   NaN    8.59  21.65   \n",
       "2014.0            NaN  ...    NaN   NaN    NaN   NaN   NaN    3.75  22.03   \n",
       "2015.0            NaN  ...    NaN   NaN    NaN   NaN   NaN    1.14  16.35   \n",
       "2016.0            NaN  ...    NaN   NaN    NaN   NaN   NaN    0.18   4.60   \n",
       "\n",
       "platform           X360     XB   XOne  \n",
       "year_of_release                        \n",
       "1980.0              NaN    NaN    NaN  \n",
       "1981.0              NaN    NaN    NaN  \n",
       "1982.0              NaN    NaN    NaN  \n",
       "1983.0              NaN    NaN    NaN  \n",
       "1984.0              NaN    NaN    NaN  \n",
       "1985.0              NaN    NaN    NaN  \n",
       "1986.0              NaN    NaN    NaN  \n",
       "1987.0              NaN    NaN    NaN  \n",
       "1988.0              NaN    NaN    NaN  \n",
       "1989.0              NaN    NaN    NaN  \n",
       "1990.0              NaN    NaN    NaN  \n",
       "1991.0              NaN    NaN    NaN  \n",
       "1992.0              NaN    NaN    NaN  \n",
       "1993.0              NaN    NaN    NaN  \n",
       "1994.0              NaN    NaN    NaN  \n",
       "1995.0              NaN    NaN    NaN  \n",
       "1996.0              NaN    NaN    NaN  \n",
       "1997.0              NaN    NaN    NaN  \n",
       "1998.0              NaN    NaN    NaN  \n",
       "1999.0              NaN    NaN    NaN  \n",
       "2000.0              NaN   0.99    NaN  \n",
       "2001.0              NaN  22.26    NaN  \n",
       "2002.0              NaN  48.01    NaN  \n",
       "2003.0              NaN  55.04    NaN  \n",
       "2004.0              NaN  65.42    NaN  \n",
       "2005.0             8.25  49.08    NaN  \n",
       "2006.0            51.62  10.04    NaN  \n",
       "2007.0            95.41   0.55    NaN  \n",
       "2008.0           135.26   0.18    NaN  \n",
       "2009.0           120.29    NaN    NaN  \n",
       "2010.0           170.03    NaN    NaN  \n",
       "2011.0           143.84    NaN    NaN  \n",
       "2012.0            99.74    NaN    NaN  \n",
       "2013.0            88.58    NaN  18.96  \n",
       "2014.0            34.74    NaN  54.07  \n",
       "2015.0            11.96    NaN  60.14  \n",
       "2016.0             1.52    NaN  26.15  \n",
       "\n",
       "[37 rows x 31 columns]"
      ]
     },
     "execution_count": 42,
     "metadata": {},
     "output_type": "execute_result"
    }
   ],
   "source": [
    "games_pivot_platforms=games.pivot_table(index='year_of_release', \n",
    "                             values='total_sales', \n",
    "                             columns='platform', aggfunc='sum')\n",
    "games_pivot_platforms"
   ]
  },
  {
   "cell_type": "markdown",
   "metadata": {},
   "source": [
    "Посчитаем среднее количество лет продаж для платформ, добавив количество лет с ненулевыми продажами для каждой платформы в список lifecircle, после чего посмотрим его среднее и медиану."
   ]
  },
  {
   "cell_type": "code",
   "execution_count": 43,
   "metadata": {},
   "outputs": [
    {
     "data": {
      "text/plain": [
       "[10,\n",
       " 2,\n",
       " 6,\n",
       " 7,\n",
       " 11,\n",
       " 13,\n",
       " 8,\n",
       " 7,\n",
       " 5,\n",
       " 1,\n",
       " 7,\n",
       " 12,\n",
       " 4,\n",
       " 26,\n",
       " 1,\n",
       " 10,\n",
       " 12,\n",
       " 11,\n",
       " 4,\n",
       " 12,\n",
       " 6,\n",
       " 6,\n",
       " 2,\n",
       " 10,\n",
       " 1,\n",
       " 3,\n",
       " 11,\n",
       " 5,\n",
       " 12,\n",
       " 9,\n",
       " 4]"
      ]
     },
     "execution_count": 43,
     "metadata": {},
     "output_type": "execute_result"
    }
   ],
   "source": [
    "lifecircle=[]\n",
    "for column in games_pivot_platforms:\n",
    "    lifecircle.append(len(games_pivot_platforms[games_pivot_platforms[column]>0]))\n",
    "lifecircle"
   ]
  },
  {
   "cell_type": "code",
   "execution_count": 44,
   "metadata": {},
   "outputs": [
    {
     "data": {
      "text/plain": [
       "7.67741935483871"
      ]
     },
     "execution_count": 44,
     "metadata": {},
     "output_type": "execute_result"
    }
   ],
   "source": [
    "statistics.mean(lifecircle)"
   ]
  },
  {
   "cell_type": "code",
   "execution_count": 45,
   "metadata": {},
   "outputs": [
    {
     "data": {
      "text/plain": [
       "7"
      ]
     },
     "execution_count": 45,
     "metadata": {},
     "output_type": "execute_result"
    }
   ],
   "source": [
    "statistics.median(lifecircle)"
   ]
  },
  {
   "cell_type": "code",
   "execution_count": 46,
   "metadata": {
    "scrolled": true
   },
   "outputs": [
    {
     "data": {
      "text/plain": [
       "<AxesSubplot:xlabel='year_of_release', ylabel='platform'>"
      ]
     },
     "execution_count": 46,
     "metadata": {},
     "output_type": "execute_result"
    },
    {
     "data": {
      "image/png": "[encoded data removed]",
      "text/plain": [
       "<Figure size 432x288 with 2 Axes>"
      ]
     },
     "metadata": {
      "needs_background": "light"
     },
     "output_type": "display_data"
    }
   ],
   "source": [
    "sns.heatmap(games.pivot_table(index='platform', \n",
    "                             values='total_sales', \n",
    "                             columns='year_of_release', aggfunc='sum').fillna(0))"
   ]
  },
  {
   "cell_type": "markdown",
   "metadata": {},
   "source": [
    "На тепловой карте видно что пик продаж по платформе в среднем на протяжении 6 лет. После выхода платформы нового поколения продажи на старой постепенно снижаются. Полный срок жизни консоли составляет в среднем около 7-8 лет."
   ]
  },
  {
   "cell_type": "markdown",
   "metadata": {},
   "source": [
    "Выбор актуального периода для прогноза на 2012 год.\n",
    "\n",
    "Как было замечено выше - для прогноза релевантны данные после коррекции 2012 года. Сделаем соответсвующий срез."
   ]
  },
  {
   "cell_type": "code",
   "execution_count": 47,
   "metadata": {},
   "outputs": [],
   "source": [
    "games_slice=games[games['year_of_release'] > 2011]"
   ]
  },
  {
   "cell_type": "markdown",
   "metadata": {},
   "source": [
    "Определение перспективных платформ, построение графика boxplot."
   ]
  },
  {
   "cell_type": "code",
   "execution_count": 48,
   "metadata": {},
   "outputs": [
    {
     "data": {
      "text/html": [
       "<div>\n",
       "<style scoped>\n",
       "    .dataframe tbody tr th:only-of-type {\n",
       "        vertical-align: middle;\n",
       "    }\n",
       "\n",
       "    .dataframe tbody tr th {\n",
       "        vertical-align: top;\n",
       "    }\n",
       "\n",
       "    .dataframe thead th {\n",
       "        text-align: right;\n",
       "    }\n",
       "</style>\n",
       "<table border=\"1\" class=\"dataframe\">\n",
       "  <thead>\n",
       "    <tr style=\"text-align: right;\">\n",
       "      <th>year_of_release</th>\n",
       "      <th>2012.0</th>\n",
       "      <th>2013.0</th>\n",
       "      <th>2014.0</th>\n",
       "      <th>2015.0</th>\n",
       "      <th>2016.0</th>\n",
       "    </tr>\n",
       "    <tr>\n",
       "      <th>platform</th>\n",
       "      <th></th>\n",
       "      <th></th>\n",
       "      <th></th>\n",
       "      <th></th>\n",
       "      <th></th>\n",
       "    </tr>\n",
       "  </thead>\n",
       "  <tbody>\n",
       "    <tr>\n",
       "      <th>3DS</th>\n",
       "      <td>51.36</td>\n",
       "      <td>56.57</td>\n",
       "      <td>43.76</td>\n",
       "      <td>27.78</td>\n",
       "      <td>15.14</td>\n",
       "    </tr>\n",
       "    <tr>\n",
       "      <th>DS</th>\n",
       "      <td>11.01</td>\n",
       "      <td>1.54</td>\n",
       "      <td>0.00</td>\n",
       "      <td>0.00</td>\n",
       "      <td>0.00</td>\n",
       "    </tr>\n",
       "    <tr>\n",
       "      <th>PC</th>\n",
       "      <td>23.22</td>\n",
       "      <td>12.38</td>\n",
       "      <td>13.28</td>\n",
       "      <td>8.52</td>\n",
       "      <td>5.25</td>\n",
       "    </tr>\n",
       "    <tr>\n",
       "      <th>PS3</th>\n",
       "      <td>107.36</td>\n",
       "      <td>113.25</td>\n",
       "      <td>47.76</td>\n",
       "      <td>16.82</td>\n",
       "      <td>3.60</td>\n",
       "    </tr>\n",
       "    <tr>\n",
       "      <th>PS4</th>\n",
       "      <td>0.00</td>\n",
       "      <td>25.99</td>\n",
       "      <td>100.00</td>\n",
       "      <td>118.90</td>\n",
       "      <td>69.25</td>\n",
       "    </tr>\n",
       "    <tr>\n",
       "      <th>PSP</th>\n",
       "      <td>7.69</td>\n",
       "      <td>3.14</td>\n",
       "      <td>0.24</td>\n",
       "      <td>0.12</td>\n",
       "      <td>0.00</td>\n",
       "    </tr>\n",
       "    <tr>\n",
       "      <th>PSV</th>\n",
       "      <td>16.19</td>\n",
       "      <td>10.59</td>\n",
       "      <td>11.90</td>\n",
       "      <td>6.25</td>\n",
       "      <td>4.25</td>\n",
       "    </tr>\n",
       "    <tr>\n",
       "      <th>Wii</th>\n",
       "      <td>21.71</td>\n",
       "      <td>8.59</td>\n",
       "      <td>3.75</td>\n",
       "      <td>1.14</td>\n",
       "      <td>0.18</td>\n",
       "    </tr>\n",
       "    <tr>\n",
       "      <th>WiiU</th>\n",
       "      <td>17.56</td>\n",
       "      <td>21.65</td>\n",
       "      <td>22.03</td>\n",
       "      <td>16.35</td>\n",
       "      <td>4.60</td>\n",
       "    </tr>\n",
       "    <tr>\n",
       "      <th>X360</th>\n",
       "      <td>99.74</td>\n",
       "      <td>88.58</td>\n",
       "      <td>34.74</td>\n",
       "      <td>11.96</td>\n",
       "      <td>1.52</td>\n",
       "    </tr>\n",
       "    <tr>\n",
       "      <th>XOne</th>\n",
       "      <td>0.00</td>\n",
       "      <td>18.96</td>\n",
       "      <td>54.07</td>\n",
       "      <td>60.14</td>\n",
       "      <td>26.15</td>\n",
       "    </tr>\n",
       "  </tbody>\n",
       "</table>\n",
       "</div>"
      ],
      "text/plain": [
       "year_of_release  2012.0  2013.0  2014.0  2015.0  2016.0\n",
       "platform                                               \n",
       "3DS               51.36   56.57   43.76   27.78   15.14\n",
       "DS                11.01    1.54    0.00    0.00    0.00\n",
       "PC                23.22   12.38   13.28    8.52    5.25\n",
       "PS3              107.36  113.25   47.76   16.82    3.60\n",
       "PS4                0.00   25.99  100.00  118.90   69.25\n",
       "PSP                7.69    3.14    0.24    0.12    0.00\n",
       "PSV               16.19   10.59   11.90    6.25    4.25\n",
       "Wii               21.71    8.59    3.75    1.14    0.18\n",
       "WiiU              17.56   21.65   22.03   16.35    4.60\n",
       "X360              99.74   88.58   34.74   11.96    1.52\n",
       "XOne               0.00   18.96   54.07   60.14   26.15"
      ]
     },
     "execution_count": 48,
     "metadata": {},
     "output_type": "execute_result"
    }
   ],
   "source": [
    "games_slice.pivot_table(index='platform', \n",
    "                             values='total_sales', \n",
    "                             columns='year_of_release', aggfunc='sum').fillna(0)"
   ]
  },
  {
   "cell_type": "markdown",
   "metadata": {},
   "source": [
    "По итогам 2016 года платформы с наибольшим количеством релизов - 3DS, PS4, XOne. Хотя и по ним релизы падают с 2014 года."
   ]
  },
  {
   "cell_type": "code",
   "execution_count": 49,
   "metadata": {},
   "outputs": [
    {
     "data": {
      "image/png": "[encoded data removed]",
      "text/plain": [
       "<Figure size 1008x576 with 1 Axes>"
      ]
     },
     "metadata": {
      "needs_background": "light"
     },
     "output_type": "display_data"
    }
   ],
   "source": [
    "plt.figure(figsize=(14,8))\n",
    "ax = sns.boxplot(data=games_slice, y=\"total_sales\", x='platform')\n",
    "ax.set(yscale=\"log\")\n",
    "plt.show()"
   ]
  },
  {
   "cell_type": "markdown",
   "metadata": {},
   "source": [
    "В данных много выбросов,видимо это может быть связано с отдельными эксклюзивными или очень популярными играми, выходившими на платформах. \n",
    "Значения глобальных продаж по всем платформам сильно скошены вправо. Есть достаточно большое количество игр с очень высокими показателями продажам по сравнению со средними значениями."
   ]
  },
  {
   "cell_type": "markdown",
   "metadata": {},
   "source": [
    "Влияние отзывов пользователей и критиков на продажи игр на примере платформы X360."
   ]
  },
  {
   "cell_type": "code",
   "execution_count": 50,
   "metadata": {
    "scrolled": false
   },
   "outputs": [
    {
     "name": "stderr",
     "output_type": "stream",
     "text": [
      "/var/folders/sy/njgy0zy17gscknx1d7w8d9c00000gn/T/ipykernel_4438/1352783328.py:11: UserWarning: Boolean Series key will be reindexed to match DataFrame index.\n",
      "  games_slice[games_slice['platform'] == 'X360'][games_slice['critic_score']>0],\n"
     ]
    },
    {
     "data": {
      "image/png": "[encoded data removed]",
      "text/plain": [
       "<Figure size 864x504 with 1 Axes>"
      ]
     },
     "metadata": {
      "needs_background": "light"
     },
     "output_type": "display_data"
    }
   ],
   "source": [
    "# определим функцию для отрисовки диаграммы рассеяния\n",
    "def scatter_func(x, y, data, title='NO TITLE'):\n",
    "    plt.figure(figsize=(12, 7))\n",
    "    ax = sns.scatterplot(x=x, y=y, data=data, alpha=0.7)\n",
    "    ax.set_title(title, size=20)\n",
    "    \n",
    "\n",
    "# получим диаграмму рассеяния для оценок критиков\n",
    "scatter_func('critic_score', \n",
    "             'total_sales', \n",
    "             games_slice[games_slice['platform'] == 'X360'][games_slice['critic_score']>0], \n",
    "             'Диаграмма рассеяния для X360 (оценки критиков / продажи)')\n"
   ]
  },
  {
   "cell_type": "code",
   "execution_count": 51,
   "metadata": {},
   "outputs": [
    {
     "name": "stderr",
     "output_type": "stream",
     "text": [
      "/var/folders/sy/njgy0zy17gscknx1d7w8d9c00000gn/T/ipykernel_4438/132628321.py:3: UserWarning: Boolean Series key will be reindexed to match DataFrame index.\n",
      "  games_slice[games_slice['platform'] == 'X360'][games_slice['user_score']>0],\n"
     ]
    },
    {
     "data": {
      "image/png": "[encoded data removed]",
      "text/plain": [
       "<Figure size 864x504 with 1 Axes>"
      ]
     },
     "metadata": {
      "needs_background": "light"
     },
     "output_type": "display_data"
    }
   ],
   "source": [
    "scatter_func('user_score', \n",
    "             'total_sales', \n",
    "             games_slice[games_slice['platform'] == 'X360'][games_slice['user_score']>0], \n",
    "             'Диаграмма рассеяния для X360 (оценки пользователей / продажи)')"
   ]
  },
  {
   "cell_type": "code",
   "execution_count": 52,
   "metadata": {},
   "outputs": [
    {
     "name": "stderr",
     "output_type": "stream",
     "text": [
      "/var/folders/sy/njgy0zy17gscknx1d7w8d9c00000gn/T/ipykernel_4438/2837826969.py:1: UserWarning: Boolean Series key will be reindexed to match DataFrame index.\n",
      "  games_slice[games_slice['platform'] == 'X360'][games_slice['user_score']>0][games_slice['critic_score']>0][['total_sales', 'critic_score', 'user_score']].corr()\n"
     ]
    },
    {
     "data": {
      "text/html": [
       "<div>\n",
       "<style scoped>\n",
       "    .dataframe tbody tr th:only-of-type {\n",
       "        vertical-align: middle;\n",
       "    }\n",
       "\n",
       "    .dataframe tbody tr th {\n",
       "        vertical-align: top;\n",
       "    }\n",
       "\n",
       "    .dataframe thead th {\n",
       "        text-align: right;\n",
       "    }\n",
       "</style>\n",
       "<table border=\"1\" class=\"dataframe\">\n",
       "  <thead>\n",
       "    <tr style=\"text-align: right;\">\n",
       "      <th></th>\n",
       "      <th>total_sales</th>\n",
       "      <th>critic_score</th>\n",
       "      <th>user_score</th>\n",
       "    </tr>\n",
       "  </thead>\n",
       "  <tbody>\n",
       "    <tr>\n",
       "      <th>total_sales</th>\n",
       "      <td>1.000000</td>\n",
       "      <td>0.360573</td>\n",
       "      <td>-0.002014</td>\n",
       "    </tr>\n",
       "    <tr>\n",
       "      <th>critic_score</th>\n",
       "      <td>0.360573</td>\n",
       "      <td>1.000000</td>\n",
       "      <td>0.557352</td>\n",
       "    </tr>\n",
       "    <tr>\n",
       "      <th>user_score</th>\n",
       "      <td>-0.002014</td>\n",
       "      <td>0.557352</td>\n",
       "      <td>1.000000</td>\n",
       "    </tr>\n",
       "  </tbody>\n",
       "</table>\n",
       "</div>"
      ],
      "text/plain": [
       "              total_sales  critic_score  user_score\n",
       "total_sales      1.000000      0.360573   -0.002014\n",
       "critic_score     0.360573      1.000000    0.557352\n",
       "user_score      -0.002014      0.557352    1.000000"
      ]
     },
     "execution_count": 52,
     "metadata": {},
     "output_type": "execute_result"
    }
   ],
   "source": [
    "games_slice[games_slice['platform'] == 'X360'][games_slice['user_score']>0][games_slice['critic_score']>0][['total_sales', 'critic_score', 'user_score']].corr()"
   ]
  },
  {
   "cell_type": "markdown",
   "metadata": {},
   "source": [
    "На матрице корреляции и диаграммах рассеяния видна положительная корреляция оценок критиков и продаж.\n",
    "\n",
    "Оценки пользователей на продажи видимо не влияют.\n",
    "\n",
    "Также обнаружена положительная корреляция оценок пользователей от оценок критиков.\n"
   ]
  },
  {
   "cell_type": "markdown",
   "metadata": {},
   "source": [
    "Проверим полученные выводы на всех платформах."
   ]
  },
  {
   "cell_type": "code",
   "execution_count": 53,
   "metadata": {},
   "outputs": [
    {
     "data": {
      "image/png": "[encoded data removed]",
      "text/plain": [
       "<Figure size 864x504 with 1 Axes>"
      ]
     },
     "metadata": {
      "needs_background": "light"
     },
     "output_type": "display_data"
    }
   ],
   "source": [
    "scatter_func('user_score', \n",
    "             'total_sales', \n",
    "             games_slice[games_slice['user_score']>0], \n",
    "             'Диаграмма рассеяния для всех платформ (оценки пользователей / продажи)')"
   ]
  },
  {
   "cell_type": "code",
   "execution_count": 54,
   "metadata": {},
   "outputs": [
    {
     "data": {
      "image/png": "[encoded data removed]",
      "text/plain": [
       "<Figure size 864x504 with 1 Axes>"
      ]
     },
     "metadata": {
      "needs_background": "light"
     },
     "output_type": "display_data"
    }
   ],
   "source": [
    "scatter_func('critic_score', \n",
    "             'total_sales', \n",
    "             games_slice[games_slice['critic_score']>0], \n",
    "             'Диаграмма рассеяния для всех платформ (оценки критиков / продажи)')"
   ]
  },
  {
   "cell_type": "code",
   "execution_count": 55,
   "metadata": {},
   "outputs": [
    {
     "data": {
      "text/html": [
       "<div>\n",
       "<style scoped>\n",
       "    .dataframe tbody tr th:only-of-type {\n",
       "        vertical-align: middle;\n",
       "    }\n",
       "\n",
       "    .dataframe tbody tr th {\n",
       "        vertical-align: top;\n",
       "    }\n",
       "\n",
       "    .dataframe thead th {\n",
       "        text-align: right;\n",
       "    }\n",
       "</style>\n",
       "<table border=\"1\" class=\"dataframe\">\n",
       "  <thead>\n",
       "    <tr style=\"text-align: right;\">\n",
       "      <th></th>\n",
       "      <th>total_sales</th>\n",
       "      <th>critic_score</th>\n",
       "      <th>user_score</th>\n",
       "    </tr>\n",
       "  </thead>\n",
       "  <tbody>\n",
       "    <tr>\n",
       "      <th>total_sales</th>\n",
       "      <td>1.000000</td>\n",
       "      <td>0.248628</td>\n",
       "      <td>0.180131</td>\n",
       "    </tr>\n",
       "    <tr>\n",
       "      <th>critic_score</th>\n",
       "      <td>0.248628</td>\n",
       "      <td>1.000000</td>\n",
       "      <td>0.838153</td>\n",
       "    </tr>\n",
       "    <tr>\n",
       "      <th>user_score</th>\n",
       "      <td>0.180131</td>\n",
       "      <td>0.838153</td>\n",
       "      <td>1.000000</td>\n",
       "    </tr>\n",
       "  </tbody>\n",
       "</table>\n",
       "</div>"
      ],
      "text/plain": [
       "              total_sales  critic_score  user_score\n",
       "total_sales      1.000000      0.248628    0.180131\n",
       "critic_score     0.248628      1.000000    0.838153\n",
       "user_score       0.180131      0.838153    1.000000"
      ]
     },
     "execution_count": 55,
     "metadata": {},
     "output_type": "execute_result"
    }
   ],
   "source": [
    "games_slice[['total_sales', 'critic_score', 'user_score']].corr()"
   ]
  },
  {
   "cell_type": "markdown",
   "metadata": {},
   "source": [
    "Вывод: Полученные данные о корреляции в целом актуальны и для других платформ"
   ]
  },
  {
   "cell_type": "markdown",
   "metadata": {},
   "source": [
    "Анализ общего распределения по жанрам, выявление прибыльных жанров."
   ]
  },
  {
   "cell_type": "markdown",
   "metadata": {},
   "source": [
    "Создадим сводрую таблицу суммирующую продажи по жанрам и построим на ее основе диаграмму"
   ]
  },
  {
   "cell_type": "code",
   "execution_count": 56,
   "metadata": {},
   "outputs": [
    {
     "data": {
      "image/png": "[encoded data removed]",
      "text/plain": [
       "<Figure size 720x504 with 1 Axes>"
      ]
     },
     "metadata": {
      "needs_background": "light"
     },
     "output_type": "display_data"
    }
   ],
   "source": [
    "genre_total=games_slice.pivot_table(index='genre', values='total_sales', \n",
    "                aggfunc='sum').sort_values(by='total_sales').reset_index().plot(x='genre',\n",
    "                                                               kind='bar', figsize=(10,7))\n"
   ]
  },
  {
   "cell_type": "markdown",
   "metadata": {},
   "source": [
    "\n",
    "Самые продаваемые жанры - Action, Shooter, Role-Playing и Sports. \n",
    "\n",
    "Жанр с самыми низкими продажами - Puzzle."
   ]
  },
  {
   "cell_type": "markdown",
   "metadata": {},
   "source": [
    "Проанализируем средние и медианные продажи по жанрам."
   ]
  },
  {
   "cell_type": "code",
   "execution_count": 57,
   "metadata": {},
   "outputs": [
    {
     "data": {
      "text/html": [
       "<div>\n",
       "<style scoped>\n",
       "    .dataframe tbody tr th:only-of-type {\n",
       "        vertical-align: middle;\n",
       "    }\n",
       "\n",
       "    .dataframe tbody tr th {\n",
       "        vertical-align: top;\n",
       "    }\n",
       "\n",
       "    .dataframe thead th {\n",
       "        text-align: right;\n",
       "    }\n",
       "</style>\n",
       "<table border=\"1\" class=\"dataframe\">\n",
       "  <thead>\n",
       "    <tr style=\"text-align: right;\">\n",
       "      <th></th>\n",
       "      <th>genre</th>\n",
       "      <th>total_sales</th>\n",
       "    </tr>\n",
       "  </thead>\n",
       "  <tbody>\n",
       "    <tr>\n",
       "      <th>0</th>\n",
       "      <td>Shooter</td>\n",
       "      <td>1.296723</td>\n",
       "    </tr>\n",
       "    <tr>\n",
       "      <th>1</th>\n",
       "      <td>Platform</td>\n",
       "      <td>0.717647</td>\n",
       "    </tr>\n",
       "    <tr>\n",
       "      <th>2</th>\n",
       "      <td>Sports</td>\n",
       "      <td>0.675634</td>\n",
       "    </tr>\n",
       "    <tr>\n",
       "      <th>3</th>\n",
       "      <td>Role-Playing</td>\n",
       "      <td>0.521081</td>\n",
       "    </tr>\n",
       "    <tr>\n",
       "      <th>4</th>\n",
       "      <td>Racing</td>\n",
       "      <td>0.465217</td>\n",
       "    </tr>\n",
       "    <tr>\n",
       "      <th>5</th>\n",
       "      <td>Misc</td>\n",
       "      <td>0.442917</td>\n",
       "    </tr>\n",
       "    <tr>\n",
       "      <th>6</th>\n",
       "      <td>Simulation</td>\n",
       "      <td>0.439000</td>\n",
       "    </tr>\n",
       "    <tr>\n",
       "      <th>7</th>\n",
       "      <td>Action</td>\n",
       "      <td>0.427856</td>\n",
       "    </tr>\n",
       "    <tr>\n",
       "      <th>8</th>\n",
       "      <td>Fighting</td>\n",
       "      <td>0.408165</td>\n",
       "    </tr>\n",
       "    <tr>\n",
       "      <th>9</th>\n",
       "      <td>Strategy</td>\n",
       "      <td>0.187887</td>\n",
       "    </tr>\n",
       "    <tr>\n",
       "      <th>10</th>\n",
       "      <td>Puzzle</td>\n",
       "      <td>0.174643</td>\n",
       "    </tr>\n",
       "    <tr>\n",
       "      <th>11</th>\n",
       "      <td>Adventure</td>\n",
       "      <td>0.097450</td>\n",
       "    </tr>\n",
       "  </tbody>\n",
       "</table>\n",
       "</div>"
      ],
      "text/plain": [
       "           genre  total_sales\n",
       "0        Shooter     1.296723\n",
       "1       Platform     0.717647\n",
       "2         Sports     0.675634\n",
       "3   Role-Playing     0.521081\n",
       "4         Racing     0.465217\n",
       "5           Misc     0.442917\n",
       "6     Simulation     0.439000\n",
       "7         Action     0.427856\n",
       "8       Fighting     0.408165\n",
       "9       Strategy     0.187887\n",
       "10        Puzzle     0.174643\n",
       "11     Adventure     0.097450"
      ]
     },
     "execution_count": 57,
     "metadata": {},
     "output_type": "execute_result"
    }
   ],
   "source": [
    "games_slice.pivot_table(index='genre', values='total_sales', \n",
    "                aggfunc='mean').sort_values(by='total_sales',ascending=False).reset_index()"
   ]
  },
  {
   "cell_type": "code",
   "execution_count": 58,
   "metadata": {},
   "outputs": [
    {
     "data": {
      "text/html": [
       "<div>\n",
       "<style scoped>\n",
       "    .dataframe tbody tr th:only-of-type {\n",
       "        vertical-align: middle;\n",
       "    }\n",
       "\n",
       "    .dataframe tbody tr th {\n",
       "        vertical-align: top;\n",
       "    }\n",
       "\n",
       "    .dataframe thead th {\n",
       "        text-align: right;\n",
       "    }\n",
       "</style>\n",
       "<table border=\"1\" class=\"dataframe\">\n",
       "  <thead>\n",
       "    <tr style=\"text-align: right;\">\n",
       "      <th></th>\n",
       "      <th>genre</th>\n",
       "      <th>total_sales</th>\n",
       "    </tr>\n",
       "  </thead>\n",
       "  <tbody>\n",
       "    <tr>\n",
       "      <th>0</th>\n",
       "      <td>Shooter</td>\n",
       "      <td>0.440</td>\n",
       "    </tr>\n",
       "    <tr>\n",
       "      <th>1</th>\n",
       "      <td>Sports</td>\n",
       "      <td>0.240</td>\n",
       "    </tr>\n",
       "    <tr>\n",
       "      <th>2</th>\n",
       "      <td>Platform</td>\n",
       "      <td>0.210</td>\n",
       "    </tr>\n",
       "    <tr>\n",
       "      <th>3</th>\n",
       "      <td>Role-Playing</td>\n",
       "      <td>0.140</td>\n",
       "    </tr>\n",
       "    <tr>\n",
       "      <th>4</th>\n",
       "      <td>Racing</td>\n",
       "      <td>0.140</td>\n",
       "    </tr>\n",
       "    <tr>\n",
       "      <th>5</th>\n",
       "      <td>Fighting</td>\n",
       "      <td>0.130</td>\n",
       "    </tr>\n",
       "    <tr>\n",
       "      <th>6</th>\n",
       "      <td>Action</td>\n",
       "      <td>0.120</td>\n",
       "    </tr>\n",
       "    <tr>\n",
       "      <th>7</th>\n",
       "      <td>Misc</td>\n",
       "      <td>0.120</td>\n",
       "    </tr>\n",
       "    <tr>\n",
       "      <th>8</th>\n",
       "      <td>Simulation</td>\n",
       "      <td>0.120</td>\n",
       "    </tr>\n",
       "    <tr>\n",
       "      <th>9</th>\n",
       "      <td>Strategy</td>\n",
       "      <td>0.080</td>\n",
       "    </tr>\n",
       "    <tr>\n",
       "      <th>10</th>\n",
       "      <td>Puzzle</td>\n",
       "      <td>0.045</td>\n",
       "    </tr>\n",
       "    <tr>\n",
       "      <th>11</th>\n",
       "      <td>Adventure</td>\n",
       "      <td>0.030</td>\n",
       "    </tr>\n",
       "  </tbody>\n",
       "</table>\n",
       "</div>"
      ],
      "text/plain": [
       "           genre  total_sales\n",
       "0        Shooter        0.440\n",
       "1         Sports        0.240\n",
       "2       Platform        0.210\n",
       "3   Role-Playing        0.140\n",
       "4         Racing        0.140\n",
       "5       Fighting        0.130\n",
       "6         Action        0.120\n",
       "7           Misc        0.120\n",
       "8     Simulation        0.120\n",
       "9       Strategy        0.080\n",
       "10        Puzzle        0.045\n",
       "11     Adventure        0.030"
      ]
     },
     "execution_count": 58,
     "metadata": {},
     "output_type": "execute_result"
    }
   ],
   "source": [
    "games_slice.pivot_table(index='genre', values='total_sales', \n",
    "                aggfunc='median').sort_values(by='total_sales',ascending=False).reset_index()"
   ]
  },
  {
   "cell_type": "code",
   "execution_count": 59,
   "metadata": {},
   "outputs": [
    {
     "data": {
      "image/png": "[encoded data removed]",
      "text/plain": [
       "<Figure size 1008x576 with 1 Axes>"
      ]
     },
     "metadata": {
      "needs_background": "light"
     },
     "output_type": "display_data"
    }
   ],
   "source": [
    "plt.figure(figsize=(14,8))\n",
    "ax = sns.boxplot(data=games_slice, y=\"total_sales\", x='genre')\n",
    "ax.set(yscale=\"log\")\n",
    "plt.show()"
   ]
  },
  {
   "cell_type": "markdown",
   "metadata": {},
   "source": [
    "**Шаг 4. Составление портрета пользователя каждого региона**"
   ]
  },
  {
   "cell_type": "markdown",
   "metadata": {},
   "source": [
    "Топ-5 популярных платформ по регионам. Различия в долях продаж."
   ]
  },
  {
   "cell_type": "markdown",
   "metadata": {},
   "source": [
    "Создадим датафреймы по регионам. С помощью сводных таблиц проанализируем продажи по платформам, жанрам, рейтингу для каждого датафрейма."
   ]
  },
  {
   "cell_type": "code",
   "execution_count": 60,
   "metadata": {},
   "outputs": [
    {
     "name": "stdout",
     "output_type": "stream",
     "text": [
      "<class 'pandas.core.frame.DataFrame'>\n",
      "Int64Index: 1677 entries, 16 to 16407\n",
      "Data columns (total 12 columns):\n",
      " #   Column           Non-Null Count  Dtype  \n",
      "---  ------           --------------  -----  \n",
      " 0   name             1677 non-null   object \n",
      " 1   platform         1677 non-null   object \n",
      " 2   year_of_release  1677 non-null   float64\n",
      " 3   genre            1677 non-null   object \n",
      " 4   na_sales         1677 non-null   float64\n",
      " 5   eu_sales         1677 non-null   float64\n",
      " 6   jp_sales         1677 non-null   float64\n",
      " 7   other_sales      1677 non-null   float64\n",
      " 8   critic_score     1677 non-null   int64  \n",
      " 9   user_score       1677 non-null   int64  \n",
      " 10  rating           1677 non-null   object \n",
      " 11  total_sales      1677 non-null   float64\n",
      "dtypes: float64(6), int64(2), object(4)\n",
      "memory usage: 170.3+ KB\n"
     ]
    }
   ],
   "source": [
    "na_games_slice = games_slice.query('na_sales > 0')\n",
    "na_games_slice.info()"
   ]
  },
  {
   "cell_type": "code",
   "execution_count": 61,
   "metadata": {},
   "outputs": [
    {
     "name": "stdout",
     "output_type": "stream",
     "text": [
      "<class 'pandas.core.frame.DataFrame'>\n",
      "Int64Index: 1811 entries, 16 to 16421\n",
      "Data columns (total 12 columns):\n",
      " #   Column           Non-Null Count  Dtype  \n",
      "---  ------           --------------  -----  \n",
      " 0   name             1811 non-null   object \n",
      " 1   platform         1811 non-null   object \n",
      " 2   year_of_release  1811 non-null   float64\n",
      " 3   genre            1811 non-null   object \n",
      " 4   na_sales         1811 non-null   float64\n",
      " 5   eu_sales         1811 non-null   float64\n",
      " 6   jp_sales         1811 non-null   float64\n",
      " 7   other_sales      1811 non-null   float64\n",
      " 8   critic_score     1811 non-null   int64  \n",
      " 9   user_score       1811 non-null   int64  \n",
      " 10  rating           1811 non-null   object \n",
      " 11  total_sales      1811 non-null   float64\n",
      "dtypes: float64(6), int64(2), object(4)\n",
      "memory usage: 183.9+ KB\n"
     ]
    }
   ],
   "source": [
    "eu_games_slice = games_slice.query('eu_sales > 0')\n",
    "eu_games_slice.info()\n"
   ]
  },
  {
   "cell_type": "code",
   "execution_count": 62,
   "metadata": {},
   "outputs": [
    {
     "name": "stdout",
     "output_type": "stream",
     "text": [
      "<class 'pandas.core.frame.DataFrame'>\n",
      "Int64Index: 1569 entries, 16 to 16443\n",
      "Data columns (total 12 columns):\n",
      " #   Column           Non-Null Count  Dtype  \n",
      "---  ------           --------------  -----  \n",
      " 0   name             1569 non-null   object \n",
      " 1   platform         1569 non-null   object \n",
      " 2   year_of_release  1569 non-null   float64\n",
      " 3   genre            1569 non-null   object \n",
      " 4   na_sales         1569 non-null   float64\n",
      " 5   eu_sales         1569 non-null   float64\n",
      " 6   jp_sales         1569 non-null   float64\n",
      " 7   other_sales      1569 non-null   float64\n",
      " 8   critic_score     1569 non-null   int64  \n",
      " 9   user_score       1569 non-null   int64  \n",
      " 10  rating           1569 non-null   object \n",
      " 11  total_sales      1569 non-null   float64\n",
      "dtypes: float64(6), int64(2), object(4)\n",
      "memory usage: 159.4+ KB\n"
     ]
    }
   ],
   "source": [
    "jp_games_slice = games_slice.query('jp_sales > 0')\n",
    "jp_games_slice.info()\n"
   ]
  },
  {
   "cell_type": "code",
   "execution_count": 63,
   "metadata": {},
   "outputs": [
    {
     "data": {
      "text/html": [
       "<div>\n",
       "<style scoped>\n",
       "    .dataframe tbody tr th:only-of-type {\n",
       "        vertical-align: middle;\n",
       "    }\n",
       "\n",
       "    .dataframe tbody tr th {\n",
       "        vertical-align: top;\n",
       "    }\n",
       "\n",
       "    .dataframe thead th {\n",
       "        text-align: right;\n",
       "    }\n",
       "</style>\n",
       "<table border=\"1\" class=\"dataframe\">\n",
       "  <thead>\n",
       "    <tr style=\"text-align: right;\">\n",
       "      <th></th>\n",
       "      <th>na_sales</th>\n",
       "    </tr>\n",
       "    <tr>\n",
       "      <th>platform</th>\n",
       "      <th></th>\n",
       "    </tr>\n",
       "  </thead>\n",
       "  <tbody>\n",
       "    <tr>\n",
       "      <th>X360</th>\n",
       "      <td>140.05</td>\n",
       "    </tr>\n",
       "    <tr>\n",
       "      <th>PS4</th>\n",
       "      <td>108.74</td>\n",
       "    </tr>\n",
       "    <tr>\n",
       "      <th>PS3</th>\n",
       "      <td>103.38</td>\n",
       "    </tr>\n",
       "    <tr>\n",
       "      <th>XOne</th>\n",
       "      <td>93.12</td>\n",
       "    </tr>\n",
       "    <tr>\n",
       "      <th>3DS</th>\n",
       "      <td>55.31</td>\n",
       "    </tr>\n",
       "    <tr>\n",
       "      <th>WiiU</th>\n",
       "      <td>38.10</td>\n",
       "    </tr>\n",
       "    <tr>\n",
       "      <th>PC</th>\n",
       "      <td>19.12</td>\n",
       "    </tr>\n",
       "    <tr>\n",
       "      <th>Wii</th>\n",
       "      <td>17.45</td>\n",
       "    </tr>\n",
       "    <tr>\n",
       "      <th>PSV</th>\n",
       "      <td>10.98</td>\n",
       "    </tr>\n",
       "    <tr>\n",
       "      <th>DS</th>\n",
       "      <td>4.59</td>\n",
       "    </tr>\n",
       "    <tr>\n",
       "      <th>PSP</th>\n",
       "      <td>0.13</td>\n",
       "    </tr>\n",
       "  </tbody>\n",
       "</table>\n",
       "</div>"
      ],
      "text/plain": [
       "          na_sales\n",
       "platform          \n",
       "X360        140.05\n",
       "PS4         108.74\n",
       "PS3         103.38\n",
       "XOne         93.12\n",
       "3DS          55.31\n",
       "WiiU         38.10\n",
       "PC           19.12\n",
       "Wii          17.45\n",
       "PSV          10.98\n",
       "DS            4.59\n",
       "PSP           0.13"
      ]
     },
     "execution_count": 63,
     "metadata": {},
     "output_type": "execute_result"
    }
   ],
   "source": [
    "na_platform = pd.pivot_table(na_games_slice, index='platform', values='na_sales',\n",
    "                                        aggfunc='sum').sort_values('na_sales', ascending=False)\n",
    "na_platform"
   ]
  },
  {
   "cell_type": "code",
   "execution_count": 64,
   "metadata": {},
   "outputs": [
    {
     "data": {
      "text/html": [
       "<div>\n",
       "<style scoped>\n",
       "    .dataframe tbody tr th:only-of-type {\n",
       "        vertical-align: middle;\n",
       "    }\n",
       "\n",
       "    .dataframe tbody tr th {\n",
       "        vertical-align: top;\n",
       "    }\n",
       "\n",
       "    .dataframe thead th {\n",
       "        text-align: right;\n",
       "    }\n",
       "</style>\n",
       "<table border=\"1\" class=\"dataframe\">\n",
       "  <thead>\n",
       "    <tr style=\"text-align: right;\">\n",
       "      <th></th>\n",
       "      <th>eu_sales</th>\n",
       "    </tr>\n",
       "    <tr>\n",
       "      <th>platform</th>\n",
       "      <th></th>\n",
       "    </tr>\n",
       "  </thead>\n",
       "  <tbody>\n",
       "    <tr>\n",
       "      <th>PS4</th>\n",
       "      <td>141.09</td>\n",
       "    </tr>\n",
       "    <tr>\n",
       "      <th>PS3</th>\n",
       "      <td>106.86</td>\n",
       "    </tr>\n",
       "    <tr>\n",
       "      <th>X360</th>\n",
       "      <td>74.52</td>\n",
       "    </tr>\n",
       "    <tr>\n",
       "      <th>XOne</th>\n",
       "      <td>51.59</td>\n",
       "    </tr>\n",
       "    <tr>\n",
       "      <th>3DS</th>\n",
       "      <td>42.64</td>\n",
       "    </tr>\n",
       "    <tr>\n",
       "      <th>PC</th>\n",
       "      <td>37.76</td>\n",
       "    </tr>\n",
       "    <tr>\n",
       "      <th>WiiU</th>\n",
       "      <td>25.13</td>\n",
       "    </tr>\n",
       "    <tr>\n",
       "      <th>Wii</th>\n",
       "      <td>11.92</td>\n",
       "    </tr>\n",
       "    <tr>\n",
       "      <th>PSV</th>\n",
       "      <td>11.36</td>\n",
       "    </tr>\n",
       "    <tr>\n",
       "      <th>DS</th>\n",
       "      <td>3.53</td>\n",
       "    </tr>\n",
       "    <tr>\n",
       "      <th>PSP</th>\n",
       "      <td>0.42</td>\n",
       "    </tr>\n",
       "  </tbody>\n",
       "</table>\n",
       "</div>"
      ],
      "text/plain": [
       "          eu_sales\n",
       "platform          \n",
       "PS4         141.09\n",
       "PS3         106.86\n",
       "X360         74.52\n",
       "XOne         51.59\n",
       "3DS          42.64\n",
       "PC           37.76\n",
       "WiiU         25.13\n",
       "Wii          11.92\n",
       "PSV          11.36\n",
       "DS            3.53\n",
       "PSP           0.42"
      ]
     },
     "execution_count": 64,
     "metadata": {},
     "output_type": "execute_result"
    }
   ],
   "source": [
    "eu_platform = pd.pivot_table(eu_games_slice, index='platform', values='eu_sales',\n",
    "                                        aggfunc='sum').sort_values('eu_sales', ascending=False)\n",
    "eu_platform"
   ]
  },
  {
   "cell_type": "code",
   "execution_count": 65,
   "metadata": {
    "scrolled": true
   },
   "outputs": [
    {
     "data": {
      "text/html": [
       "<div>\n",
       "<style scoped>\n",
       "    .dataframe tbody tr th:only-of-type {\n",
       "        vertical-align: middle;\n",
       "    }\n",
       "\n",
       "    .dataframe tbody tr th {\n",
       "        vertical-align: top;\n",
       "    }\n",
       "\n",
       "    .dataframe thead th {\n",
       "        text-align: right;\n",
       "    }\n",
       "</style>\n",
       "<table border=\"1\" class=\"dataframe\">\n",
       "  <thead>\n",
       "    <tr style=\"text-align: right;\">\n",
       "      <th></th>\n",
       "      <th>jp_sales</th>\n",
       "    </tr>\n",
       "    <tr>\n",
       "      <th>platform</th>\n",
       "      <th></th>\n",
       "    </tr>\n",
       "  </thead>\n",
       "  <tbody>\n",
       "    <tr>\n",
       "      <th>3DS</th>\n",
       "      <td>87.79</td>\n",
       "    </tr>\n",
       "    <tr>\n",
       "      <th>PS3</th>\n",
       "      <td>35.29</td>\n",
       "    </tr>\n",
       "    <tr>\n",
       "      <th>PSV</th>\n",
       "      <td>21.04</td>\n",
       "    </tr>\n",
       "    <tr>\n",
       "      <th>PS4</th>\n",
       "      <td>15.96</td>\n",
       "    </tr>\n",
       "    <tr>\n",
       "      <th>WiiU</th>\n",
       "      <td>13.01</td>\n",
       "    </tr>\n",
       "    <tr>\n",
       "      <th>PSP</th>\n",
       "      <td>10.47</td>\n",
       "    </tr>\n",
       "    <tr>\n",
       "      <th>DS</th>\n",
       "      <td>3.72</td>\n",
       "    </tr>\n",
       "    <tr>\n",
       "      <th>Wii</th>\n",
       "      <td>3.39</td>\n",
       "    </tr>\n",
       "    <tr>\n",
       "      <th>X360</th>\n",
       "      <td>1.57</td>\n",
       "    </tr>\n",
       "    <tr>\n",
       "      <th>XOne</th>\n",
       "      <td>0.34</td>\n",
       "    </tr>\n",
       "  </tbody>\n",
       "</table>\n",
       "</div>"
      ],
      "text/plain": [
       "          jp_sales\n",
       "platform          \n",
       "3DS          87.79\n",
       "PS3          35.29\n",
       "PSV          21.04\n",
       "PS4          15.96\n",
       "WiiU         13.01\n",
       "PSP          10.47\n",
       "DS            3.72\n",
       "Wii           3.39\n",
       "X360          1.57\n",
       "XOne          0.34"
      ]
     },
     "execution_count": 65,
     "metadata": {},
     "output_type": "execute_result"
    }
   ],
   "source": [
    "jp_platform = pd.pivot_table(jp_games_slice, index='platform', values='jp_sales',\n",
    "                                        aggfunc='sum').sort_values('jp_sales', ascending=False)\n",
    "jp_platform"
   ]
  },
  {
   "cell_type": "markdown",
   "metadata": {},
   "source": [
    "Рейтинг платформ:\n",
    "\n",
    "Топ 5 по Северной Америке: X360, PS4, PS3, XOne, 3DS\n",
    "\n",
    "Топ 5 по Европе: PS4, PS3, XOne, X360, 3DS\n",
    "\n",
    "Топ 5 по Японии: 3DS, PS3, PSV, PS4, WiiU"
   ]
  },
  {
   "cell_type": "markdown",
   "metadata": {},
   "source": [
    "Определение топ-5 популярных жанров по регионам"
   ]
  },
  {
   "cell_type": "code",
   "execution_count": 66,
   "metadata": {},
   "outputs": [
    {
     "data": {
      "text/html": [
       "<div>\n",
       "<style scoped>\n",
       "    .dataframe tbody tr th:only-of-type {\n",
       "        vertical-align: middle;\n",
       "    }\n",
       "\n",
       "    .dataframe tbody tr th {\n",
       "        vertical-align: top;\n",
       "    }\n",
       "\n",
       "    .dataframe thead th {\n",
       "        text-align: right;\n",
       "    }\n",
       "</style>\n",
       "<table border=\"1\" class=\"dataframe\">\n",
       "  <thead>\n",
       "    <tr style=\"text-align: right;\">\n",
       "      <th></th>\n",
       "      <th>na_sales</th>\n",
       "    </tr>\n",
       "    <tr>\n",
       "      <th>genre</th>\n",
       "      <th></th>\n",
       "    </tr>\n",
       "  </thead>\n",
       "  <tbody>\n",
       "    <tr>\n",
       "      <th>Action</th>\n",
       "      <td>177.84</td>\n",
       "    </tr>\n",
       "    <tr>\n",
       "      <th>Shooter</th>\n",
       "      <td>144.77</td>\n",
       "    </tr>\n",
       "    <tr>\n",
       "      <th>Sports</th>\n",
       "      <td>81.53</td>\n",
       "    </tr>\n",
       "    <tr>\n",
       "      <th>Role-Playing</th>\n",
       "      <td>64.00</td>\n",
       "    </tr>\n",
       "    <tr>\n",
       "      <th>Misc</th>\n",
       "      <td>38.19</td>\n",
       "    </tr>\n",
       "    <tr>\n",
       "      <th>Platform</th>\n",
       "      <td>25.38</td>\n",
       "    </tr>\n",
       "    <tr>\n",
       "      <th>Fighting</th>\n",
       "      <td>19.79</td>\n",
       "    </tr>\n",
       "    <tr>\n",
       "      <th>Racing</th>\n",
       "      <td>17.22</td>\n",
       "    </tr>\n",
       "    <tr>\n",
       "      <th>Adventure</th>\n",
       "      <td>8.92</td>\n",
       "    </tr>\n",
       "    <tr>\n",
       "      <th>Simulation</th>\n",
       "      <td>7.97</td>\n",
       "    </tr>\n",
       "    <tr>\n",
       "      <th>Strategy</th>\n",
       "      <td>4.23</td>\n",
       "    </tr>\n",
       "    <tr>\n",
       "      <th>Puzzle</th>\n",
       "      <td>1.13</td>\n",
       "    </tr>\n",
       "  </tbody>\n",
       "</table>\n",
       "</div>"
      ],
      "text/plain": [
       "              na_sales\n",
       "genre                 \n",
       "Action          177.84\n",
       "Shooter         144.77\n",
       "Sports           81.53\n",
       "Role-Playing     64.00\n",
       "Misc             38.19\n",
       "Platform         25.38\n",
       "Fighting         19.79\n",
       "Racing           17.22\n",
       "Adventure         8.92\n",
       "Simulation        7.97\n",
       "Strategy          4.23\n",
       "Puzzle            1.13"
      ]
     },
     "execution_count": 66,
     "metadata": {},
     "output_type": "execute_result"
    }
   ],
   "source": [
    "na_genre = pd.pivot_table(na_games_slice, index='genre', values='na_sales',\n",
    "                                        aggfunc='sum').sort_values('na_sales', ascending=False)\n",
    "na_genre"
   ]
  },
  {
   "cell_type": "code",
   "execution_count": 67,
   "metadata": {},
   "outputs": [
    {
     "data": {
      "text/html": [
       "<div>\n",
       "<style scoped>\n",
       "    .dataframe tbody tr th:only-of-type {\n",
       "        vertical-align: middle;\n",
       "    }\n",
       "\n",
       "    .dataframe tbody tr th {\n",
       "        vertical-align: top;\n",
       "    }\n",
       "\n",
       "    .dataframe thead th {\n",
       "        text-align: right;\n",
       "    }\n",
       "</style>\n",
       "<table border=\"1\" class=\"dataframe\">\n",
       "  <thead>\n",
       "    <tr style=\"text-align: right;\">\n",
       "      <th></th>\n",
       "      <th>eu_sales</th>\n",
       "    </tr>\n",
       "    <tr>\n",
       "      <th>genre</th>\n",
       "      <th></th>\n",
       "    </tr>\n",
       "  </thead>\n",
       "  <tbody>\n",
       "    <tr>\n",
       "      <th>Action</th>\n",
       "      <td>159.34</td>\n",
       "    </tr>\n",
       "    <tr>\n",
       "      <th>Shooter</th>\n",
       "      <td>113.47</td>\n",
       "    </tr>\n",
       "    <tr>\n",
       "      <th>Sports</th>\n",
       "      <td>69.09</td>\n",
       "    </tr>\n",
       "    <tr>\n",
       "      <th>Role-Playing</th>\n",
       "      <td>48.53</td>\n",
       "    </tr>\n",
       "    <tr>\n",
       "      <th>Racing</th>\n",
       "      <td>27.29</td>\n",
       "    </tr>\n",
       "    <tr>\n",
       "      <th>Misc</th>\n",
       "      <td>26.32</td>\n",
       "    </tr>\n",
       "    <tr>\n",
       "      <th>Platform</th>\n",
       "      <td>21.41</td>\n",
       "    </tr>\n",
       "    <tr>\n",
       "      <th>Simulation</th>\n",
       "      <td>14.55</td>\n",
       "    </tr>\n",
       "    <tr>\n",
       "      <th>Fighting</th>\n",
       "      <td>10.79</td>\n",
       "    </tr>\n",
       "    <tr>\n",
       "      <th>Adventure</th>\n",
       "      <td>9.46</td>\n",
       "    </tr>\n",
       "    <tr>\n",
       "      <th>Strategy</th>\n",
       "      <td>5.17</td>\n",
       "    </tr>\n",
       "    <tr>\n",
       "      <th>Puzzle</th>\n",
       "      <td>1.40</td>\n",
       "    </tr>\n",
       "  </tbody>\n",
       "</table>\n",
       "</div>"
      ],
      "text/plain": [
       "              eu_sales\n",
       "genre                 \n",
       "Action          159.34\n",
       "Shooter         113.47\n",
       "Sports           69.09\n",
       "Role-Playing     48.53\n",
       "Racing           27.29\n",
       "Misc             26.32\n",
       "Platform         21.41\n",
       "Simulation       14.55\n",
       "Fighting         10.79\n",
       "Adventure         9.46\n",
       "Strategy          5.17\n",
       "Puzzle            1.40"
      ]
     },
     "execution_count": 67,
     "metadata": {},
     "output_type": "execute_result"
    }
   ],
   "source": [
    "eu_genre = pd.pivot_table(eu_games_slice, index='genre', values='eu_sales',\n",
    "                                        aggfunc='sum').sort_values('eu_sales', ascending=False)\n",
    "eu_genre"
   ]
  },
  {
   "cell_type": "code",
   "execution_count": 68,
   "metadata": {
    "scrolled": true
   },
   "outputs": [
    {
     "data": {
      "text/html": [
       "<div>\n",
       "<style scoped>\n",
       "    .dataframe tbody tr th:only-of-type {\n",
       "        vertical-align: middle;\n",
       "    }\n",
       "\n",
       "    .dataframe tbody tr th {\n",
       "        vertical-align: top;\n",
       "    }\n",
       "\n",
       "    .dataframe thead th {\n",
       "        text-align: right;\n",
       "    }\n",
       "</style>\n",
       "<table border=\"1\" class=\"dataframe\">\n",
       "  <thead>\n",
       "    <tr style=\"text-align: right;\">\n",
       "      <th></th>\n",
       "      <th>jp_sales</th>\n",
       "    </tr>\n",
       "    <tr>\n",
       "      <th>genre</th>\n",
       "      <th></th>\n",
       "    </tr>\n",
       "  </thead>\n",
       "  <tbody>\n",
       "    <tr>\n",
       "      <th>Role-Playing</th>\n",
       "      <td>65.44</td>\n",
       "    </tr>\n",
       "    <tr>\n",
       "      <th>Action</th>\n",
       "      <td>52.80</td>\n",
       "    </tr>\n",
       "    <tr>\n",
       "      <th>Misc</th>\n",
       "      <td>12.86</td>\n",
       "    </tr>\n",
       "    <tr>\n",
       "      <th>Simulation</th>\n",
       "      <td>10.41</td>\n",
       "    </tr>\n",
       "    <tr>\n",
       "      <th>Fighting</th>\n",
       "      <td>9.44</td>\n",
       "    </tr>\n",
       "    <tr>\n",
       "      <th>Shooter</th>\n",
       "      <td>9.23</td>\n",
       "    </tr>\n",
       "    <tr>\n",
       "      <th>Platform</th>\n",
       "      <td>8.63</td>\n",
       "    </tr>\n",
       "    <tr>\n",
       "      <th>Adventure</th>\n",
       "      <td>8.24</td>\n",
       "    </tr>\n",
       "    <tr>\n",
       "      <th>Sports</th>\n",
       "      <td>8.01</td>\n",
       "    </tr>\n",
       "    <tr>\n",
       "      <th>Strategy</th>\n",
       "      <td>2.88</td>\n",
       "    </tr>\n",
       "    <tr>\n",
       "      <th>Racing</th>\n",
       "      <td>2.50</td>\n",
       "    </tr>\n",
       "    <tr>\n",
       "      <th>Puzzle</th>\n",
       "      <td>2.14</td>\n",
       "    </tr>\n",
       "  </tbody>\n",
       "</table>\n",
       "</div>"
      ],
      "text/plain": [
       "              jp_sales\n",
       "genre                 \n",
       "Role-Playing     65.44\n",
       "Action           52.80\n",
       "Misc             12.86\n",
       "Simulation       10.41\n",
       "Fighting          9.44\n",
       "Shooter           9.23\n",
       "Platform          8.63\n",
       "Adventure         8.24\n",
       "Sports            8.01\n",
       "Strategy          2.88\n",
       "Racing            2.50\n",
       "Puzzle            2.14"
      ]
     },
     "execution_count": 68,
     "metadata": {},
     "output_type": "execute_result"
    }
   ],
   "source": [
    "jp_genre = pd.pivot_table(jp_games_slice, index='genre', values='jp_sales',\n",
    "                                        aggfunc='sum').sort_values('jp_sales', ascending=False)\n",
    "jp_genre"
   ]
  },
  {
   "cell_type": "markdown",
   "metadata": {},
   "source": [
    "Рейтинг жанров:\n",
    "\n",
    "Топ 5 по Северной Америке: Action, Shooter, Sports, Role-Playing и Misc\n",
    "\n",
    "Топ 5 по Европе: Action, Shooter, Sports, Role-Playing и Racing\n",
    "\n",
    "Топ 5 по Японии: Role-Playing, Action, Misc, Simulation, Fighting.\n"
   ]
  },
  {
   "cell_type": "markdown",
   "metadata": {},
   "source": [
    "Влияет ли рейтинг ESRB на продажи в отдельном регионе?"
   ]
  },
  {
   "cell_type": "code",
   "execution_count": 69,
   "metadata": {},
   "outputs": [
    {
     "data": {
      "text/html": [
       "<div>\n",
       "<style scoped>\n",
       "    .dataframe tbody tr th:only-of-type {\n",
       "        vertical-align: middle;\n",
       "    }\n",
       "\n",
       "    .dataframe tbody tr th {\n",
       "        vertical-align: top;\n",
       "    }\n",
       "\n",
       "    .dataframe thead th {\n",
       "        text-align: right;\n",
       "    }\n",
       "</style>\n",
       "<table border=\"1\" class=\"dataframe\">\n",
       "  <thead>\n",
       "    <tr style=\"text-align: right;\">\n",
       "      <th></th>\n",
       "      <th>na_sales</th>\n",
       "    </tr>\n",
       "    <tr>\n",
       "      <th>rating</th>\n",
       "      <th></th>\n",
       "    </tr>\n",
       "  </thead>\n",
       "  <tbody>\n",
       "    <tr>\n",
       "      <th>M</th>\n",
       "      <td>231.57</td>\n",
       "    </tr>\n",
       "    <tr>\n",
       "      <th>E</th>\n",
       "      <td>114.37</td>\n",
       "    </tr>\n",
       "    <tr>\n",
       "      <th>unknown</th>\n",
       "      <td>103.31</td>\n",
       "    </tr>\n",
       "    <tr>\n",
       "      <th>E10+</th>\n",
       "      <td>75.70</td>\n",
       "    </tr>\n",
       "    <tr>\n",
       "      <th>T</th>\n",
       "      <td>66.02</td>\n",
       "    </tr>\n",
       "  </tbody>\n",
       "</table>\n",
       "</div>"
      ],
      "text/plain": [
       "         na_sales\n",
       "rating           \n",
       "M          231.57\n",
       "E          114.37\n",
       "unknown    103.31\n",
       "E10+        75.70\n",
       "T           66.02"
      ]
     },
     "execution_count": 69,
     "metadata": {},
     "output_type": "execute_result"
    }
   ],
   "source": [
    "na_rating = pd.pivot_table(na_games_slice, index='rating', values='na_sales',\n",
    "                                        aggfunc='sum').sort_values('na_sales', ascending=False)\n",
    "na_rating"
   ]
  },
  {
   "cell_type": "code",
   "execution_count": 70,
   "metadata": {},
   "outputs": [
    {
     "data": {
      "text/html": [
       "<div>\n",
       "<style scoped>\n",
       "    .dataframe tbody tr th:only-of-type {\n",
       "        vertical-align: middle;\n",
       "    }\n",
       "\n",
       "    .dataframe tbody tr th {\n",
       "        vertical-align: top;\n",
       "    }\n",
       "\n",
       "    .dataframe thead th {\n",
       "        text-align: right;\n",
       "    }\n",
       "</style>\n",
       "<table border=\"1\" class=\"dataframe\">\n",
       "  <thead>\n",
       "    <tr style=\"text-align: right;\">\n",
       "      <th></th>\n",
       "      <th>eu_sales</th>\n",
       "    </tr>\n",
       "    <tr>\n",
       "      <th>rating</th>\n",
       "      <th></th>\n",
       "    </tr>\n",
       "  </thead>\n",
       "  <tbody>\n",
       "    <tr>\n",
       "      <th>M</th>\n",
       "      <td>193.96</td>\n",
       "    </tr>\n",
       "    <tr>\n",
       "      <th>E</th>\n",
       "      <td>113.03</td>\n",
       "    </tr>\n",
       "    <tr>\n",
       "      <th>unknown</th>\n",
       "      <td>91.50</td>\n",
       "    </tr>\n",
       "    <tr>\n",
       "      <th>E10+</th>\n",
       "      <td>55.37</td>\n",
       "    </tr>\n",
       "    <tr>\n",
       "      <th>T</th>\n",
       "      <td>52.96</td>\n",
       "    </tr>\n",
       "  </tbody>\n",
       "</table>\n",
       "</div>"
      ],
      "text/plain": [
       "         eu_sales\n",
       "rating           \n",
       "M          193.96\n",
       "E          113.03\n",
       "unknown     91.50\n",
       "E10+        55.37\n",
       "T           52.96"
      ]
     },
     "execution_count": 70,
     "metadata": {},
     "output_type": "execute_result"
    }
   ],
   "source": [
    "eu_rating = pd.pivot_table(eu_games_slice, index='rating', values='eu_sales',\n",
    "                                        aggfunc='sum').sort_values('eu_sales', ascending=False)\n",
    "eu_rating"
   ]
  },
  {
   "cell_type": "code",
   "execution_count": 71,
   "metadata": {
    "scrolled": true
   },
   "outputs": [
    {
     "data": {
      "text/html": [
       "<div>\n",
       "<style scoped>\n",
       "    .dataframe tbody tr th:only-of-type {\n",
       "        vertical-align: middle;\n",
       "    }\n",
       "\n",
       "    .dataframe tbody tr th {\n",
       "        vertical-align: top;\n",
       "    }\n",
       "\n",
       "    .dataframe thead th {\n",
       "        text-align: right;\n",
       "    }\n",
       "</style>\n",
       "<table border=\"1\" class=\"dataframe\">\n",
       "  <thead>\n",
       "    <tr style=\"text-align: right;\">\n",
       "      <th></th>\n",
       "      <th>jp_sales</th>\n",
       "    </tr>\n",
       "    <tr>\n",
       "      <th>rating</th>\n",
       "      <th></th>\n",
       "    </tr>\n",
       "  </thead>\n",
       "  <tbody>\n",
       "    <tr>\n",
       "      <th>unknown</th>\n",
       "      <td>108.84</td>\n",
       "    </tr>\n",
       "    <tr>\n",
       "      <th>E</th>\n",
       "      <td>28.33</td>\n",
       "    </tr>\n",
       "    <tr>\n",
       "      <th>T</th>\n",
       "      <td>26.02</td>\n",
       "    </tr>\n",
       "    <tr>\n",
       "      <th>M</th>\n",
       "      <td>21.20</td>\n",
       "    </tr>\n",
       "    <tr>\n",
       "      <th>E10+</th>\n",
       "      <td>8.19</td>\n",
       "    </tr>\n",
       "  </tbody>\n",
       "</table>\n",
       "</div>"
      ],
      "text/plain": [
       "         jp_sales\n",
       "rating           \n",
       "unknown    108.84\n",
       "E           28.33\n",
       "T           26.02\n",
       "M           21.20\n",
       "E10+         8.19"
      ]
     },
     "execution_count": 71,
     "metadata": {},
     "output_type": "execute_result"
    }
   ],
   "source": [
    "jp_rating = pd.pivot_table(jp_games_slice, index='rating', values='jp_sales',\n",
    "                                        aggfunc='sum').sort_values('jp_sales', ascending=False)\n",
    "jp_rating"
   ]
  },
  {
   "cell_type": "markdown",
   "metadata": {},
   "source": [
    "В Европе и Америке на первом месте по продажам игры с рейтингом 17+, далее идут игры без ограничений, на третьем месте игры, для которых рейтинг не определен, игры для 10+ и 13+  наименее популярны популярны\n",
    "\n",
    "В Японии ситуация несколько иная - В топе игры, где рейтинг не определен, далее без ограничений, затем с небольшим отрывом - 13+, 17+ только на последнем месте.\n",
    "Игры, для которых не определен рейтинг, вероятно те, производители которыз не пожелали получать его в ESRB. \n",
    "То, что продажи игр без рейтинга высоки в Японии, вероятно объясняется различием в регулировании. В Японии виддимо игры без рейтинга охотнее принимаются розничными магазинами."
   ]
  },
  {
   "cell_type": "markdown",
   "metadata": {},
   "source": [
    "**Вывод к шагу 4:**\n",
    "\n",
    "Портреты игроков по регионам\n",
    "\n",
    "Американский игрок - от 17 лет, любит X360 и PS4, предпочитает жанры Action, Shooter. \n",
    "\n",
    "Европейский игрок - от 17 лет, любит PS4 и PS3, предпочитает жанры Action, Shooter. \n",
    "\n",
    "Японский игрок - от 13 лет, любит 3DS или PS3, предпочитает жанры Role-Playing, Action."
   ]
  },
  {
   "cell_type": "markdown",
   "metadata": {},
   "source": [
    "**Шаг 5. Проверьте гипотез**"
   ]
  },
  {
   "cell_type": "markdown",
   "metadata": {},
   "source": [
    "Проверим 2 гипотезы: \n",
    "\n",
    "Средние пользовательские рейтинги платформ Xbox One и PC одинаковые;\n",
    "\n",
    "Средние пользовательские рейтинги жанров Action и Sports разные.\n",
    "\n",
    "Поскольку выборки можно считать независимыми, для проверки гипотез будем использовать метот Стьюдента. Пороговое значение alpha для обеих проверок зададим 0.05"
   ]
  },
  {
   "cell_type": "markdown",
   "metadata": {},
   "source": [
    "\n",
    "\n",
    "\n",
    "Средние пользовательские рейтинги платформ Xbox One и PC одинаковые.\n",
    "\n",
    "Н0 (нулевая гипотеза) - средние пользовательские рейтинги платформ Xbox One и PC одинаковые.\n",
    "\n",
    "\n",
    "Н1 (альтернативная гипотеза) - средние пользовательские рейтинги платформ Xbox One и PC отличаются между собой."
   ]
  },
  {
   "cell_type": "code",
   "execution_count": 72,
   "metadata": {},
   "outputs": [],
   "source": [
    "#подготовим данные\n",
    "user_rating_XOne = games_slice.query('platform == \"XOne\" and user_score>0')['user_score'].dropna()\n",
    "user_rating_PC = games_slice.query('platform == \"PC\"and user_score>0')['user_score'].dropna()"
   ]
  },
  {
   "cell_type": "code",
   "execution_count": 73,
   "metadata": {},
   "outputs": [
    {
     "data": {
      "text/plain": [
       "191      40\n",
       "455      39\n",
       "679      79\n",
       "948      48\n",
       "1084     79\n",
       "         ..\n",
       "16193    68\n",
       "16239    79\n",
       "16248    14\n",
       "16313    79\n",
       "16421    76\n",
       "Name: user_score, Length: 206, dtype: int64"
      ]
     },
     "execution_count": 73,
     "metadata": {},
     "output_type": "execute_result"
    }
   ],
   "source": [
    "user_rating_PC"
   ]
  },
  {
   "cell_type": "code",
   "execution_count": 74,
   "metadata": {},
   "outputs": [
    {
     "name": "stdout",
     "output_type": "stream",
     "text": [
      "p-значение: 0.5535080500643805\n",
      "Не получилось отвергнуть нулевую гипотезу\n"
     ]
    }
   ],
   "source": [
    "alpha = .05\n",
    "\n",
    "results = st.ttest_ind(user_rating_XOne, user_rating_PC)\n",
    "\n",
    "print('p-значение:', results.pvalue)\n",
    "\n",
    "if (results.pvalue < alpha):\n",
    "    print(\"Отвергаем нулевую гипотезу\")\n",
    "else:\n",
    "    print(\"Не получилось отвергнуть нулевую гипотезу\")"
   ]
  },
  {
   "cell_type": "markdown",
   "metadata": {},
   "source": [
    "Рейтинги схожи, это подтверждает нулевая гипотеза."
   ]
  },
  {
   "cell_type": "markdown",
   "metadata": {},
   "source": [
    "Средние пользовательские рейтинги жанров Action и Sports разные.\n",
    "\n",
    "H0 (нулевая гипотеза) - Средние пользовательские рейтинги жанров Action и Sports одинаковые\n",
    "\n",
    "Н1 (альтернативная гипотеза) - Средние пользовательские рейтинги жанров Action и Sports отличаются между собой."
   ]
  },
  {
   "cell_type": "code",
   "execution_count": 75,
   "metadata": {},
   "outputs": [],
   "source": [
    "#подготовим данные\n",
    "user_rating_Action = games_slice.query('genre == \"Action\"and user_score>0')['user_score'].dropna()\n",
    "user_rating_Sports = games_slice.query('genre == \"Sports\"and user_score>0')['user_score'].dropna()"
   ]
  },
  {
   "cell_type": "code",
   "execution_count": 76,
   "metadata": {},
   "outputs": [
    {
     "name": "stdout",
     "output_type": "stream",
     "text": [
      "p-значение: 3.7163089460930885e-26\n",
      "Отвергаем нулевую гипотезу\n"
     ]
    }
   ],
   "source": [
    "alpha = .05\n",
    "\n",
    "results = st.ttest_ind(user_rating_Action, user_rating_Sports)\n",
    "\n",
    "print('p-значение:', results.pvalue)\n",
    "\n",
    "if (results.pvalue < alpha):\n",
    "    print(\"Отвергаем нулевую гипотезу\")\n",
    "else:\n",
    "    print(\"Не получилось отвергнуть нулевую гипотезу\")"
   ]
  },
  {
   "cell_type": "markdown",
   "metadata": {},
   "source": [
    "Тест Стьюдента подтвердил что средние пользовательские рейтинги игр с жанрами Action и Sports разные."
   ]
  },
  {
   "cell_type": "markdown",
   "metadata": {},
   "source": [
    "Вывод по шагу № 5 - по результату статистического теста первая гипотеза подтвердилась, вторая отвергается."
   ]
  },
  {
   "cell_type": "markdown",
   "metadata": {},
   "source": [
    "**Шаг 6. Общий вывод**"
   ]
  },
  {
   "cell_type": "markdown",
   "metadata": {},
   "source": [
    "В ходе работы был проведен анализ данных из открытых источников о продажах игр, оценках пользователей и экспертов, жанров и платформ. \n",
    "\n",
    "**Проведена предобработка датасета** - уделены дубликаты, заполнены пропуски.\n",
    "\n",
    "**Проведен исследовательский анализ данных.** Начиная примерно с 2002 по 2011 года в индустрии наблюдался резкий скачек выхода новых игр, с последующей коррекцией и начиная с 2012 по 2016 года количество выпускаемых игр стабильно на уровне около 500-600 в год.\n",
    "\n",
    "Анализ зависимости оценок и продаж показал что продажи зависят от оценок критиков, при этом зависимость от оценок пользователей не подтвердилась.\n",
    "\n",
    "Самые продаваемые жанры - Shooter, Sports, Platform и Role-Playing.\n",
    "\n",
    "**Построены портреты типичных пользователей.** \n",
    "\n",
    "Американский игрок - от 17 лет, любит X360 и PS4, предпочитает жанры Action, Shooter. \n",
    "\n",
    "Европейский игрок - от 17 лет, любит PS4 и PS3, предпочитает жанры Action, Shooter. \n",
    "\n",
    "Японский игрок - от 13 лет, любит 3DS или PS3, предпочитает жанры Role-Playing, Action.\n",
    "\n",
    "\n",
    "**Проверены гипотезы.** Тест Стьюдента подтвердил, что \n",
    "\n",
    "Средние пользовательские рейтинги платформ Xbox One и PC одинаковые;\n",
    "\n",
    "Средние пользовательские рейтинги жанров Action и Sports разные.\n",
    "\n"
   ]
  }
 ],
 "metadata": {
  "ExecuteTimeLog": [
   {
    "duration": 717,
    "start_time": "2022-08-09T03:05:41.022Z"
   },
   {
    "duration": 61,
    "start_time": "2022-08-09T03:07:52.657Z"
   },
   {
    "duration": 184,
    "start_time": "2022-08-09T03:08:22.355Z"
   },
   {
    "duration": 21,
    "start_time": "2022-08-09T03:08:42.456Z"
   },
   {
    "duration": 12,
    "start_time": "2022-08-09T03:10:03.707Z"
   },
   {
    "duration": 14,
    "start_time": "2022-08-09T03:16:38.325Z"
   },
   {
    "duration": 26,
    "start_time": "2022-08-09T03:18:03.366Z"
   },
   {
    "duration": 3,
    "start_time": "2022-08-09T03:29:55.579Z"
   },
   {
    "duration": 4,
    "start_time": "2022-08-09T03:30:18.004Z"
   },
   {
    "duration": 3,
    "start_time": "2022-08-09T03:30:59.518Z"
   },
   {
    "duration": 13,
    "start_time": "2022-08-09T03:31:16.921Z"
   },
   {
    "duration": 50,
    "start_time": "2022-08-09T03:31:38.099Z"
   },
   {
    "duration": 13,
    "start_time": "2022-08-09T03:31:38.778Z"
   },
   {
    "duration": 12,
    "start_time": "2022-08-09T03:31:39.585Z"
   },
   {
    "duration": 25,
    "start_time": "2022-08-09T03:31:40.518Z"
   },
   {
    "duration": 3,
    "start_time": "2022-08-09T03:31:42.333Z"
   },
   {
    "duration": 12,
    "start_time": "2022-08-09T03:31:44.186Z"
   },
   {
    "duration": 3,
    "start_time": "2022-08-09T03:34:04.970Z"
   },
   {
    "duration": 13,
    "start_time": "2022-08-09T03:36:14.040Z"
   },
   {
    "duration": 14,
    "start_time": "2022-08-09T04:19:33.540Z"
   },
   {
    "duration": 44,
    "start_time": "2022-08-10T03:04:51.231Z"
   },
   {
    "duration": 741,
    "start_time": "2022-08-10T03:05:02.254Z"
   },
   {
    "duration": 102,
    "start_time": "2022-08-10T03:05:03.257Z"
   },
   {
    "duration": 19,
    "start_time": "2022-08-10T03:05:03.904Z"
   },
   {
    "duration": 15,
    "start_time": "2022-08-10T03:05:04.931Z"
   },
   {
    "duration": 29,
    "start_time": "2022-08-10T03:05:05.843Z"
   },
   {
    "duration": 13,
    "start_time": "2022-08-10T03:05:09.166Z"
   },
   {
    "duration": 38,
    "start_time": "2022-08-10T03:05:12.258Z"
   },
   {
    "duration": 6,
    "start_time": "2022-08-10T03:08:39.522Z"
   },
   {
    "duration": 13,
    "start_time": "2022-08-10T03:09:21.653Z"
   },
   {
    "duration": 5,
    "start_time": "2022-08-10T03:10:01.126Z"
   },
   {
    "duration": 3,
    "start_time": "2022-08-10T03:33:58.687Z"
   },
   {
    "duration": 226,
    "start_time": "2022-08-10T03:34:27.976Z"
   },
   {
    "duration": 4,
    "start_time": "2022-08-10T03:34:49.707Z"
   },
   {
    "duration": 3605,
    "start_time": "2022-08-10T03:34:50.443Z"
   },
   {
    "duration": 3,
    "start_time": "2022-08-10T03:35:03.219Z"
   },
   {
    "duration": 216,
    "start_time": "2022-08-10T03:35:04.195Z"
   },
   {
    "duration": 3,
    "start_time": "2022-08-10T03:36:35.102Z"
   },
   {
    "duration": 4,
    "start_time": "2022-08-10T03:42:13.884Z"
   },
   {
    "duration": 8,
    "start_time": "2022-08-10T03:42:38.625Z"
   },
   {
    "duration": 780,
    "start_time": "2022-08-10T03:42:49.710Z"
   },
   {
    "duration": 2,
    "start_time": "2022-08-10T03:43:05.907Z"
   },
   {
    "duration": 13,
    "start_time": "2022-08-10T03:43:07.864Z"
   },
   {
    "duration": 483,
    "start_time": "2022-08-10T03:45:05.499Z"
   },
   {
    "duration": 212,
    "start_time": "2022-08-10T03:45:43.144Z"
   },
   {
    "duration": 208,
    "start_time": "2022-08-10T03:46:03.632Z"
   },
   {
    "duration": 205,
    "start_time": "2022-08-10T03:46:10.719Z"
   },
   {
    "duration": 206,
    "start_time": "2022-08-10T03:46:50.470Z"
   },
   {
    "duration": 112,
    "start_time": "2022-08-10T03:47:01.805Z"
   },
   {
    "duration": 279,
    "start_time": "2022-08-10T03:47:13.870Z"
   },
   {
    "duration": 10,
    "start_time": "2022-08-10T04:10:08.546Z"
   },
   {
    "duration": 4,
    "start_time": "2022-08-10T04:10:32.457Z"
   },
   {
    "duration": 5,
    "start_time": "2022-08-10T04:10:51.356Z"
   },
   {
    "duration": 2,
    "start_time": "2022-08-10T04:11:26.185Z"
   },
   {
    "duration": 55,
    "start_time": "2022-08-10T04:11:26.189Z"
   },
   {
    "duration": 12,
    "start_time": "2022-08-10T04:11:26.245Z"
   },
   {
    "duration": 16,
    "start_time": "2022-08-10T04:11:26.259Z"
   },
   {
    "duration": 24,
    "start_time": "2022-08-10T04:11:26.276Z"
   },
   {
    "duration": 2,
    "start_time": "2022-08-10T04:11:26.302Z"
   },
   {
    "duration": 14,
    "start_time": "2022-08-10T04:11:26.306Z"
   },
   {
    "duration": 220,
    "start_time": "2022-08-10T04:11:26.322Z"
   },
   {
    "duration": 211,
    "start_time": "2022-08-10T04:11:29.840Z"
   },
   {
    "duration": 5,
    "start_time": "2022-08-10T04:11:31.619Z"
   },
   {
    "duration": 6,
    "start_time": "2022-08-10T04:11:33.140Z"
   },
   {
    "duration": 4,
    "start_time": "2022-08-10T04:12:55.460Z"
   },
   {
    "duration": 14,
    "start_time": "2022-08-10T04:13:25.879Z"
   },
   {
    "duration": 857,
    "start_time": "2022-08-11T02:30:50.197Z"
   },
   {
    "duration": 200,
    "start_time": "2022-08-11T02:30:51.056Z"
   },
   {
    "duration": 20,
    "start_time": "2022-08-11T02:30:51.258Z"
   },
   {
    "duration": 15,
    "start_time": "2022-08-11T02:30:51.280Z"
   },
   {
    "duration": 31,
    "start_time": "2022-08-11T02:30:51.297Z"
   },
   {
    "duration": 14,
    "start_time": "2022-08-11T02:30:51.330Z"
   },
   {
    "duration": 274,
    "start_time": "2022-08-11T02:30:51.346Z"
   },
   {
    "duration": 5,
    "start_time": "2022-08-11T02:30:51.622Z"
   },
   {
    "duration": 8,
    "start_time": "2022-08-11T02:30:51.629Z"
   },
   {
    "duration": 19,
    "start_time": "2022-08-11T02:30:51.640Z"
   },
   {
    "duration": 235,
    "start_time": "2022-08-11T02:30:55.364Z"
   },
   {
    "duration": 248,
    "start_time": "2022-08-11T02:31:38.995Z"
   },
   {
    "duration": 8,
    "start_time": "2022-08-11T02:32:49.483Z"
   },
   {
    "duration": 328,
    "start_time": "2022-08-11T02:33:23.399Z"
   },
   {
    "duration": 12,
    "start_time": "2022-08-11T02:41:00.186Z"
   },
   {
    "duration": 10,
    "start_time": "2022-08-11T02:44:41.597Z"
   },
   {
    "duration": 1379,
    "start_time": "2022-08-11T02:44:58.234Z"
   },
   {
    "duration": 11,
    "start_time": "2022-08-11T02:45:15.755Z"
   },
   {
    "duration": 16,
    "start_time": "2022-08-11T02:45:27.313Z"
   },
   {
    "duration": 5,
    "start_time": "2022-08-11T02:46:09.276Z"
   },
   {
    "duration": 15,
    "start_time": "2022-08-11T02:55:50.586Z"
   },
   {
    "duration": 7,
    "start_time": "2022-08-11T02:58:57.651Z"
   },
   {
    "duration": 23,
    "start_time": "2022-08-11T02:59:32.588Z"
   },
   {
    "duration": 9,
    "start_time": "2022-08-11T03:00:14.373Z"
   },
   {
    "duration": 18,
    "start_time": "2022-08-11T03:05:30.106Z"
   },
   {
    "duration": 7,
    "start_time": "2022-08-11T03:08:08.970Z"
   },
   {
    "duration": 23,
    "start_time": "2022-08-11T03:08:32.570Z"
   },
   {
    "duration": 9,
    "start_time": "2022-08-11T03:09:07.258Z"
   },
   {
    "duration": 9,
    "start_time": "2022-08-11T03:09:39.122Z"
   },
   {
    "duration": 7,
    "start_time": "2022-08-11T03:10:07.210Z"
   },
   {
    "duration": 9,
    "start_time": "2022-08-11T03:10:31.287Z"
   },
   {
    "duration": 7,
    "start_time": "2022-08-11T03:14:41.944Z"
   },
   {
    "duration": 6,
    "start_time": "2022-08-11T03:15:05.188Z"
   },
   {
    "duration": 18,
    "start_time": "2022-08-11T03:15:06.392Z"
   },
   {
    "duration": 7,
    "start_time": "2022-08-11T03:17:18.128Z"
   },
   {
    "duration": 16,
    "start_time": "2022-08-11T03:17:29.212Z"
   },
   {
    "duration": 14,
    "start_time": "2022-08-11T03:17:56.508Z"
   },
   {
    "duration": 91,
    "start_time": "2022-08-11T03:20:35.902Z"
   },
   {
    "duration": 5,
    "start_time": "2022-08-11T03:21:19.261Z"
   },
   {
    "duration": 3,
    "start_time": "2022-08-11T03:21:31.508Z"
   },
   {
    "duration": 66,
    "start_time": "2022-08-11T03:21:31.513Z"
   },
   {
    "duration": 15,
    "start_time": "2022-08-11T03:21:31.581Z"
   },
   {
    "duration": 28,
    "start_time": "2022-08-11T03:21:31.598Z"
   },
   {
    "duration": 34,
    "start_time": "2022-08-11T03:21:31.627Z"
   },
   {
    "duration": 15,
    "start_time": "2022-08-11T03:21:31.664Z"
   },
   {
    "duration": 364,
    "start_time": "2022-08-11T03:21:31.681Z"
   },
   {
    "duration": 8,
    "start_time": "2022-08-11T03:21:32.047Z"
   },
   {
    "duration": 14,
    "start_time": "2022-08-11T03:21:32.059Z"
   },
   {
    "duration": 38,
    "start_time": "2022-08-11T03:21:32.075Z"
   },
   {
    "duration": 11,
    "start_time": "2022-08-11T03:21:32.115Z"
   },
   {
    "duration": 11,
    "start_time": "2022-08-11T03:21:32.128Z"
   },
   {
    "duration": 14,
    "start_time": "2022-08-11T03:21:32.141Z"
   },
   {
    "duration": 47,
    "start_time": "2022-08-11T03:21:32.157Z"
   },
   {
    "duration": 6,
    "start_time": "2022-08-11T03:21:32.206Z"
   },
   {
    "duration": 10,
    "start_time": "2022-08-11T03:21:32.214Z"
   },
   {
    "duration": 19,
    "start_time": "2022-08-11T03:21:32.226Z"
   },
   {
    "duration": 307,
    "start_time": "2022-08-11T03:21:32.247Z"
   },
   {
    "duration": 0,
    "start_time": "2022-08-11T03:21:32.555Z"
   },
   {
    "duration": 0,
    "start_time": "2022-08-11T03:21:32.557Z"
   },
   {
    "duration": 6,
    "start_time": "2022-08-11T03:23:17.177Z"
   },
   {
    "duration": 8,
    "start_time": "2022-08-11T03:23:23.450Z"
   },
   {
    "duration": 15,
    "start_time": "2022-08-11T03:23:24.883Z"
   },
   {
    "duration": 2,
    "start_time": "2022-08-11T03:23:34.971Z"
   },
   {
    "duration": 62,
    "start_time": "2022-08-11T03:23:34.976Z"
   },
   {
    "duration": 15,
    "start_time": "2022-08-11T03:23:35.040Z"
   },
   {
    "duration": 23,
    "start_time": "2022-08-11T03:23:35.056Z"
   },
   {
    "duration": 32,
    "start_time": "2022-08-11T03:23:35.082Z"
   },
   {
    "duration": 16,
    "start_time": "2022-08-11T03:23:35.115Z"
   },
   {
    "duration": 355,
    "start_time": "2022-08-11T03:23:35.133Z"
   },
   {
    "duration": 6,
    "start_time": "2022-08-11T03:23:35.491Z"
   },
   {
    "duration": 8,
    "start_time": "2022-08-11T03:23:35.498Z"
   },
   {
    "duration": 19,
    "start_time": "2022-08-11T03:23:35.508Z"
   },
   {
    "duration": 6,
    "start_time": "2022-08-11T03:23:35.528Z"
   },
   {
    "duration": 12,
    "start_time": "2022-08-11T03:23:35.535Z"
   },
   {
    "duration": 8,
    "start_time": "2022-08-11T03:23:35.550Z"
   },
   {
    "duration": 42,
    "start_time": "2022-08-11T03:23:35.559Z"
   },
   {
    "duration": 5,
    "start_time": "2022-08-11T03:23:35.603Z"
   },
   {
    "duration": 13,
    "start_time": "2022-08-11T03:23:35.610Z"
   },
   {
    "duration": 25,
    "start_time": "2022-08-11T03:23:35.625Z"
   },
   {
    "duration": 318,
    "start_time": "2022-08-11T03:23:35.652Z"
   },
   {
    "duration": 0,
    "start_time": "2022-08-11T03:23:35.972Z"
   },
   {
    "duration": 0,
    "start_time": "2022-08-11T03:23:35.973Z"
   },
   {
    "duration": 14,
    "start_time": "2022-08-11T03:27:30.144Z"
   },
   {
    "duration": 3,
    "start_time": "2022-08-11T03:29:03.551Z"
   },
   {
    "duration": 62,
    "start_time": "2022-08-11T03:29:03.556Z"
   },
   {
    "duration": 16,
    "start_time": "2022-08-11T03:29:03.619Z"
   },
   {
    "duration": 17,
    "start_time": "2022-08-11T03:29:03.637Z"
   },
   {
    "duration": 53,
    "start_time": "2022-08-11T03:29:03.656Z"
   },
   {
    "duration": 16,
    "start_time": "2022-08-11T03:29:03.710Z"
   },
   {
    "duration": 292,
    "start_time": "2022-08-11T03:29:03.728Z"
   },
   {
    "duration": 5,
    "start_time": "2022-08-11T03:29:04.022Z"
   },
   {
    "duration": 8,
    "start_time": "2022-08-11T03:29:04.030Z"
   },
   {
    "duration": 21,
    "start_time": "2022-08-11T03:29:04.040Z"
   },
   {
    "duration": 9,
    "start_time": "2022-08-11T03:29:04.064Z"
   },
   {
    "duration": 23,
    "start_time": "2022-08-11T03:29:04.075Z"
   },
   {
    "duration": 12,
    "start_time": "2022-08-11T03:29:04.100Z"
   },
   {
    "duration": 19,
    "start_time": "2022-08-11T03:29:04.113Z"
   },
   {
    "duration": 6,
    "start_time": "2022-08-11T03:29:04.134Z"
   },
   {
    "duration": 7,
    "start_time": "2022-08-11T03:29:04.142Z"
   },
   {
    "duration": 5,
    "start_time": "2022-08-11T03:29:04.151Z"
   },
   {
    "duration": 35,
    "start_time": "2022-08-11T03:29:04.158Z"
   },
   {
    "duration": 14,
    "start_time": "2022-08-11T03:29:04.195Z"
   },
   {
    "duration": 241,
    "start_time": "2022-08-11T03:29:04.211Z"
   },
   {
    "duration": 247,
    "start_time": "2022-08-11T03:29:04.454Z"
   },
   {
    "duration": 6,
    "start_time": "2022-08-11T03:32:29.325Z"
   },
   {
    "duration": 7,
    "start_time": "2022-08-11T03:33:12.163Z"
   },
   {
    "duration": 4,
    "start_time": "2022-08-11T03:34:00.953Z"
   },
   {
    "duration": 6,
    "start_time": "2022-08-11T03:34:03.151Z"
   },
   {
    "duration": 3,
    "start_time": "2022-08-11T03:34:10.420Z"
   },
   {
    "duration": 66,
    "start_time": "2022-08-11T03:34:10.425Z"
   },
   {
    "duration": 14,
    "start_time": "2022-08-11T03:34:10.494Z"
   },
   {
    "duration": 18,
    "start_time": "2022-08-11T03:34:10.510Z"
   },
   {
    "duration": 32,
    "start_time": "2022-08-11T03:34:10.531Z"
   },
   {
    "duration": 37,
    "start_time": "2022-08-11T03:34:10.565Z"
   },
   {
    "duration": 264,
    "start_time": "2022-08-11T03:34:10.604Z"
   },
   {
    "duration": 5,
    "start_time": "2022-08-11T03:34:10.869Z"
   },
   {
    "duration": 18,
    "start_time": "2022-08-11T03:34:10.876Z"
   },
   {
    "duration": 18,
    "start_time": "2022-08-11T03:34:10.895Z"
   },
   {
    "duration": 5,
    "start_time": "2022-08-11T03:34:10.916Z"
   },
   {
    "duration": 8,
    "start_time": "2022-08-11T03:34:10.923Z"
   },
   {
    "duration": 4,
    "start_time": "2022-08-11T03:34:10.933Z"
   },
   {
    "duration": 7,
    "start_time": "2022-08-11T03:34:10.939Z"
   },
   {
    "duration": 10,
    "start_time": "2022-08-11T03:34:10.947Z"
   },
   {
    "duration": 8,
    "start_time": "2022-08-11T03:34:10.992Z"
   },
   {
    "duration": 18,
    "start_time": "2022-08-11T03:34:11.002Z"
   },
   {
    "duration": 5,
    "start_time": "2022-08-11T03:34:11.022Z"
   },
   {
    "duration": 7,
    "start_time": "2022-08-11T03:34:11.029Z"
   },
   {
    "duration": 12,
    "start_time": "2022-08-11T03:34:11.038Z"
   },
   {
    "duration": 6,
    "start_time": "2022-08-11T03:34:11.052Z"
   },
   {
    "duration": 36,
    "start_time": "2022-08-11T03:34:11.060Z"
   },
   {
    "duration": 236,
    "start_time": "2022-08-11T03:34:11.097Z"
   },
   {
    "duration": 323,
    "start_time": "2022-08-11T03:34:11.335Z"
   },
   {
    "duration": 11,
    "start_time": "2022-08-11T03:35:41.915Z"
   },
   {
    "duration": 5,
    "start_time": "2022-08-11T03:35:58.756Z"
   },
   {
    "duration": 5,
    "start_time": "2022-08-11T03:36:04.540Z"
   },
   {
    "duration": 3,
    "start_time": "2022-08-11T03:36:28.256Z"
   },
   {
    "duration": 69,
    "start_time": "2022-08-11T03:36:28.261Z"
   },
   {
    "duration": 13,
    "start_time": "2022-08-11T03:36:28.332Z"
   },
   {
    "duration": 16,
    "start_time": "2022-08-11T03:36:28.347Z"
   },
   {
    "duration": 39,
    "start_time": "2022-08-11T03:36:28.365Z"
   },
   {
    "duration": 15,
    "start_time": "2022-08-11T03:36:28.406Z"
   },
   {
    "duration": 265,
    "start_time": "2022-08-11T03:36:28.422Z"
   },
   {
    "duration": 5,
    "start_time": "2022-08-11T03:36:28.691Z"
   },
   {
    "duration": 15,
    "start_time": "2022-08-11T03:36:28.698Z"
   },
   {
    "duration": 16,
    "start_time": "2022-08-11T03:36:28.715Z"
   },
   {
    "duration": 6,
    "start_time": "2022-08-11T03:36:28.732Z"
   },
   {
    "duration": 7,
    "start_time": "2022-08-11T03:36:28.739Z"
   },
   {
    "duration": 4,
    "start_time": "2022-08-11T03:36:28.748Z"
   },
   {
    "duration": 5,
    "start_time": "2022-08-11T03:36:28.755Z"
   },
   {
    "duration": 7,
    "start_time": "2022-08-11T03:36:28.793Z"
   },
   {
    "duration": 6,
    "start_time": "2022-08-11T03:36:28.802Z"
   },
   {
    "duration": 17,
    "start_time": "2022-08-11T03:36:28.810Z"
   },
   {
    "duration": 4,
    "start_time": "2022-08-11T03:36:28.829Z"
   },
   {
    "duration": 7,
    "start_time": "2022-08-11T03:36:28.835Z"
   },
   {
    "duration": 6,
    "start_time": "2022-08-11T03:36:28.843Z"
   },
   {
    "duration": 43,
    "start_time": "2022-08-11T03:36:28.851Z"
   },
   {
    "duration": 0,
    "start_time": "2022-08-11T03:36:28.896Z"
   },
   {
    "duration": 0,
    "start_time": "2022-08-11T03:36:28.897Z"
   },
   {
    "duration": 0,
    "start_time": "2022-08-11T03:36:28.898Z"
   },
   {
    "duration": 7,
    "start_time": "2022-08-11T03:37:11.986Z"
   },
   {
    "duration": 75,
    "start_time": "2022-08-11T03:37:11.995Z"
   },
   {
    "duration": 20,
    "start_time": "2022-08-11T03:37:12.072Z"
   },
   {
    "duration": 23,
    "start_time": "2022-08-11T03:37:12.094Z"
   },
   {
    "duration": 30,
    "start_time": "2022-08-11T03:37:12.119Z"
   },
   {
    "duration": 15,
    "start_time": "2022-08-11T03:37:12.151Z"
   },
   {
    "duration": 272,
    "start_time": "2022-08-11T03:37:12.168Z"
   },
   {
    "duration": 5,
    "start_time": "2022-08-11T03:37:12.442Z"
   },
   {
    "duration": 21,
    "start_time": "2022-08-11T03:37:12.450Z"
   },
   {
    "duration": 32,
    "start_time": "2022-08-11T03:37:12.472Z"
   },
   {
    "duration": 6,
    "start_time": "2022-08-11T03:37:12.506Z"
   },
   {
    "duration": 8,
    "start_time": "2022-08-11T03:37:12.514Z"
   },
   {
    "duration": 5,
    "start_time": "2022-08-11T03:37:12.523Z"
   },
   {
    "duration": 7,
    "start_time": "2022-08-11T03:37:12.529Z"
   },
   {
    "duration": 7,
    "start_time": "2022-08-11T03:37:12.538Z"
   },
   {
    "duration": 7,
    "start_time": "2022-08-11T03:37:12.547Z"
   },
   {
    "duration": 16,
    "start_time": "2022-08-11T03:37:12.593Z"
   },
   {
    "duration": 5,
    "start_time": "2022-08-11T03:37:12.611Z"
   },
   {
    "duration": 6,
    "start_time": "2022-08-11T03:37:12.618Z"
   },
   {
    "duration": 10,
    "start_time": "2022-08-11T03:37:12.626Z"
   },
   {
    "duration": 3,
    "start_time": "2022-08-11T03:37:12.638Z"
   },
   {
    "duration": 17,
    "start_time": "2022-08-11T03:37:12.643Z"
   },
   {
    "duration": 256,
    "start_time": "2022-08-11T03:37:12.662Z"
   },
   {
    "duration": 251,
    "start_time": "2022-08-11T03:37:12.921Z"
   },
   {
    "duration": 3,
    "start_time": "2022-08-11T03:38:10.814Z"
   },
   {
    "duration": 59,
    "start_time": "2022-08-11T03:38:10.820Z"
   },
   {
    "duration": 16,
    "start_time": "2022-08-11T03:38:10.881Z"
   },
   {
    "duration": 17,
    "start_time": "2022-08-11T03:38:10.899Z"
   },
   {
    "duration": 32,
    "start_time": "2022-08-11T03:38:10.918Z"
   },
   {
    "duration": 40,
    "start_time": "2022-08-11T03:38:10.951Z"
   },
   {
    "duration": 359,
    "start_time": "2022-08-11T03:38:10.993Z"
   },
   {
    "duration": 7,
    "start_time": "2022-08-11T03:38:11.354Z"
   },
   {
    "duration": 37,
    "start_time": "2022-08-11T03:38:11.364Z"
   },
   {
    "duration": 24,
    "start_time": "2022-08-11T03:38:11.403Z"
   },
   {
    "duration": 10,
    "start_time": "2022-08-11T03:38:11.429Z"
   },
   {
    "duration": 17,
    "start_time": "2022-08-11T03:38:11.441Z"
   },
   {
    "duration": 18,
    "start_time": "2022-08-11T03:38:11.460Z"
   },
   {
    "duration": 25,
    "start_time": "2022-08-11T03:38:11.480Z"
   },
   {
    "duration": 24,
    "start_time": "2022-08-11T03:38:11.507Z"
   },
   {
    "duration": 21,
    "start_time": "2022-08-11T03:38:11.533Z"
   },
   {
    "duration": 22,
    "start_time": "2022-08-11T03:38:11.556Z"
   },
   {
    "duration": 29,
    "start_time": "2022-08-11T03:38:11.580Z"
   },
   {
    "duration": 31,
    "start_time": "2022-08-11T03:38:11.611Z"
   },
   {
    "duration": 52,
    "start_time": "2022-08-11T03:38:11.643Z"
   },
   {
    "duration": 34,
    "start_time": "2022-08-11T03:38:11.696Z"
   },
   {
    "duration": 43,
    "start_time": "2022-08-11T03:38:11.731Z"
   },
   {
    "duration": 327,
    "start_time": "2022-08-11T03:38:11.775Z"
   },
   {
    "duration": 254,
    "start_time": "2022-08-11T03:38:12.104Z"
   },
   {
    "duration": 3,
    "start_time": "2022-08-11T03:40:24.267Z"
   },
   {
    "duration": 60,
    "start_time": "2022-08-11T03:40:24.273Z"
   },
   {
    "duration": 14,
    "start_time": "2022-08-11T03:40:24.335Z"
   },
   {
    "duration": 17,
    "start_time": "2022-08-11T03:40:24.351Z"
   },
   {
    "duration": 38,
    "start_time": "2022-08-11T03:40:24.371Z"
   },
   {
    "duration": 15,
    "start_time": "2022-08-11T03:40:24.411Z"
   },
   {
    "duration": 273,
    "start_time": "2022-08-11T03:40:24.428Z"
   },
   {
    "duration": 6,
    "start_time": "2022-08-11T03:40:24.702Z"
   },
   {
    "duration": 7,
    "start_time": "2022-08-11T03:40:24.710Z"
   },
   {
    "duration": 16,
    "start_time": "2022-08-11T03:40:24.719Z"
   },
   {
    "duration": 6,
    "start_time": "2022-08-11T03:40:24.737Z"
   },
   {
    "duration": 7,
    "start_time": "2022-08-11T03:40:24.744Z"
   },
   {
    "duration": 40,
    "start_time": "2022-08-11T03:40:24.753Z"
   },
   {
    "duration": 7,
    "start_time": "2022-08-11T03:40:24.795Z"
   },
   {
    "duration": 11,
    "start_time": "2022-08-11T03:40:24.804Z"
   },
   {
    "duration": 7,
    "start_time": "2022-08-11T03:40:24.817Z"
   },
   {
    "duration": 16,
    "start_time": "2022-08-11T03:40:24.825Z"
   },
   {
    "duration": 5,
    "start_time": "2022-08-11T03:40:24.843Z"
   },
   {
    "duration": 6,
    "start_time": "2022-08-11T03:40:24.850Z"
   },
   {
    "duration": 4,
    "start_time": "2022-08-11T03:40:24.892Z"
   },
   {
    "duration": 10,
    "start_time": "2022-08-11T03:40:24.897Z"
   },
   {
    "duration": 23,
    "start_time": "2022-08-11T03:40:24.909Z"
   },
   {
    "duration": 238,
    "start_time": "2022-08-11T03:40:24.934Z"
   },
   {
    "duration": 248,
    "start_time": "2022-08-11T03:40:25.174Z"
   },
   {
    "duration": 6,
    "start_time": "2022-08-11T03:42:01.290Z"
   },
   {
    "duration": 104,
    "start_time": "2022-08-11T03:43:34.823Z"
   },
   {
    "duration": 78,
    "start_time": "2022-08-11T03:43:46.946Z"
   },
   {
    "duration": 11,
    "start_time": "2022-08-11T03:44:07.033Z"
   },
   {
    "duration": 6048,
    "start_time": "2022-08-11T03:44:40.088Z"
   },
   {
    "duration": 273,
    "start_time": "2022-08-11T03:45:20.459Z"
   },
   {
    "duration": 88,
    "start_time": "2022-08-11T03:46:08.722Z"
   },
   {
    "duration": 542,
    "start_time": "2022-08-11T03:46:31.620Z"
   },
   {
    "duration": 5,
    "start_time": "2022-08-11T03:51:37.835Z"
   },
   {
    "duration": 6,
    "start_time": "2022-08-11T03:53:00.265Z"
   },
   {
    "duration": 6,
    "start_time": "2022-08-11T03:53:29.624Z"
   },
   {
    "duration": 26,
    "start_time": "2022-08-11T03:53:45.171Z"
   },
   {
    "duration": 3,
    "start_time": "2022-08-11T03:54:58.083Z"
   },
   {
    "duration": 72,
    "start_time": "2022-08-11T03:54:58.088Z"
   },
   {
    "duration": 16,
    "start_time": "2022-08-11T03:54:58.162Z"
   },
   {
    "duration": 19,
    "start_time": "2022-08-11T03:54:58.180Z"
   },
   {
    "duration": 30,
    "start_time": "2022-08-11T03:54:58.201Z"
   },
   {
    "duration": 15,
    "start_time": "2022-08-11T03:54:58.233Z"
   },
   {
    "duration": 282,
    "start_time": "2022-08-11T03:54:58.250Z"
   },
   {
    "duration": 7,
    "start_time": "2022-08-11T03:54:58.534Z"
   },
   {
    "duration": 12,
    "start_time": "2022-08-11T03:54:58.543Z"
   },
   {
    "duration": 18,
    "start_time": "2022-08-11T03:54:58.557Z"
   },
   {
    "duration": 5,
    "start_time": "2022-08-11T03:54:58.593Z"
   },
   {
    "duration": 8,
    "start_time": "2022-08-11T03:54:58.600Z"
   },
   {
    "duration": 4,
    "start_time": "2022-08-11T03:54:58.610Z"
   },
   {
    "duration": 7,
    "start_time": "2022-08-11T03:54:58.616Z"
   },
   {
    "duration": 9,
    "start_time": "2022-08-11T03:54:58.625Z"
   },
   {
    "duration": 7,
    "start_time": "2022-08-11T03:54:58.636Z"
   },
   {
    "duration": 54,
    "start_time": "2022-08-11T03:54:58.645Z"
   },
   {
    "duration": 6,
    "start_time": "2022-08-11T03:54:58.701Z"
   },
   {
    "duration": 9,
    "start_time": "2022-08-11T03:54:58.709Z"
   },
   {
    "duration": 6,
    "start_time": "2022-08-11T03:54:58.720Z"
   },
   {
    "duration": 5,
    "start_time": "2022-08-11T03:54:58.728Z"
   },
   {
    "duration": 15,
    "start_time": "2022-08-11T03:54:58.735Z"
   },
   {
    "duration": 286,
    "start_time": "2022-08-11T03:54:58.752Z"
   },
   {
    "duration": 267,
    "start_time": "2022-08-11T03:54:59.040Z"
   },
   {
    "duration": 17,
    "start_time": "2022-08-11T03:54:59.309Z"
   },
   {
    "duration": 45,
    "start_time": "2022-08-11T19:45:56.707Z"
   },
   {
    "duration": 736,
    "start_time": "2022-08-11T19:46:05.348Z"
   },
   {
    "duration": 206,
    "start_time": "2022-08-11T19:46:06.086Z"
   },
   {
    "duration": 15,
    "start_time": "2022-08-11T19:46:06.294Z"
   },
   {
    "duration": 12,
    "start_time": "2022-08-11T19:46:06.311Z"
   },
   {
    "duration": 24,
    "start_time": "2022-08-11T19:46:06.324Z"
   },
   {
    "duration": 12,
    "start_time": "2022-08-11T19:46:06.349Z"
   },
   {
    "duration": 228,
    "start_time": "2022-08-11T19:46:06.362Z"
   },
   {
    "duration": 5,
    "start_time": "2022-08-11T19:46:06.592Z"
   },
   {
    "duration": 10,
    "start_time": "2022-08-11T19:46:06.598Z"
   },
   {
    "duration": 12,
    "start_time": "2022-08-11T19:46:06.610Z"
   },
   {
    "duration": 3,
    "start_time": "2022-08-11T19:46:06.624Z"
   },
   {
    "duration": 26,
    "start_time": "2022-08-11T19:46:06.629Z"
   },
   {
    "duration": 3,
    "start_time": "2022-08-11T19:46:06.656Z"
   },
   {
    "duration": 5,
    "start_time": "2022-08-11T19:46:06.661Z"
   },
   {
    "duration": 11,
    "start_time": "2022-08-11T19:46:06.668Z"
   },
   {
    "duration": 6,
    "start_time": "2022-08-11T19:46:06.681Z"
   },
   {
    "duration": 15,
    "start_time": "2022-08-11T19:46:06.689Z"
   },
   {
    "duration": 3,
    "start_time": "2022-08-11T19:46:06.706Z"
   },
   {
    "duration": 6,
    "start_time": "2022-08-11T19:46:06.711Z"
   },
   {
    "duration": 39,
    "start_time": "2022-08-11T19:46:06.718Z"
   },
   {
    "duration": 8,
    "start_time": "2022-08-11T19:46:06.758Z"
   },
   {
    "duration": 13,
    "start_time": "2022-08-11T19:46:06.767Z"
   },
   {
    "duration": 230,
    "start_time": "2022-08-11T19:46:06.782Z"
   },
   {
    "duration": 271,
    "start_time": "2022-08-11T19:46:07.014Z"
   },
   {
    "duration": 21,
    "start_time": "2022-08-11T19:46:07.287Z"
   },
   {
    "duration": 282,
    "start_time": "2022-08-11T19:46:07.310Z"
   },
   {
    "duration": 813,
    "start_time": "2022-08-12T03:04:02.193Z"
   },
   {
    "duration": 487,
    "start_time": "2022-08-12T03:04:03.008Z"
   },
   {
    "duration": 18,
    "start_time": "2022-08-12T03:04:03.496Z"
   },
   {
    "duration": 13,
    "start_time": "2022-08-12T03:04:03.515Z"
   },
   {
    "duration": 31,
    "start_time": "2022-08-12T03:04:03.529Z"
   },
   {
    "duration": 12,
    "start_time": "2022-08-12T03:04:03.562Z"
   },
   {
    "duration": 240,
    "start_time": "2022-08-12T03:04:03.576Z"
   },
   {
    "duration": 4,
    "start_time": "2022-08-12T03:04:03.818Z"
   },
   {
    "duration": 8,
    "start_time": "2022-08-12T03:04:03.824Z"
   },
   {
    "duration": 13,
    "start_time": "2022-08-12T03:04:03.834Z"
   },
   {
    "duration": 5,
    "start_time": "2022-08-12T03:04:03.849Z"
   },
   {
    "duration": 7,
    "start_time": "2022-08-12T03:04:03.856Z"
   },
   {
    "duration": 4,
    "start_time": "2022-08-12T03:04:03.864Z"
   },
   {
    "duration": 37,
    "start_time": "2022-08-12T03:04:03.869Z"
   },
   {
    "duration": 7,
    "start_time": "2022-08-12T03:04:03.907Z"
   },
   {
    "duration": 13,
    "start_time": "2022-08-12T03:04:03.915Z"
   },
   {
    "duration": 15,
    "start_time": "2022-08-12T03:04:03.929Z"
   },
   {
    "duration": 4,
    "start_time": "2022-08-12T03:04:03.946Z"
   },
   {
    "duration": 8,
    "start_time": "2022-08-12T03:04:03.951Z"
   },
   {
    "duration": 4,
    "start_time": "2022-08-12T03:04:03.961Z"
   },
   {
    "duration": 5,
    "start_time": "2022-08-12T03:04:03.966Z"
   },
   {
    "duration": 13,
    "start_time": "2022-08-12T03:04:03.972Z"
   },
   {
    "duration": 230,
    "start_time": "2022-08-12T03:04:03.987Z"
   },
   {
    "duration": 265,
    "start_time": "2022-08-12T03:04:04.219Z"
   },
   {
    "duration": 22,
    "start_time": "2022-08-12T03:04:04.485Z"
   },
   {
    "duration": 383,
    "start_time": "2022-08-12T03:04:04.508Z"
   },
   {
    "duration": 319,
    "start_time": "2022-08-12T03:04:44.509Z"
   },
   {
    "duration": 317,
    "start_time": "2022-08-12T03:05:07.773Z"
   },
   {
    "duration": 308,
    "start_time": "2022-08-12T03:05:38.610Z"
   },
   {
    "duration": 377,
    "start_time": "2022-08-12T03:06:07.747Z"
   },
   {
    "duration": 292,
    "start_time": "2022-08-12T03:06:23.248Z"
   },
   {
    "duration": 291,
    "start_time": "2022-08-12T03:06:38.770Z"
   },
   {
    "duration": 306,
    "start_time": "2022-08-12T03:07:51.526Z"
   },
   {
    "duration": 349,
    "start_time": "2022-08-12T03:10:59.668Z"
   },
   {
    "duration": 75,
    "start_time": "2022-08-12T03:42:09.335Z"
   },
   {
    "duration": 48,
    "start_time": "2022-08-12T03:45:18.385Z"
   },
   {
    "duration": 51,
    "start_time": "2022-08-12T03:45:42.603Z"
   },
   {
    "duration": 49,
    "start_time": "2022-08-12T03:46:03.898Z"
   },
   {
    "duration": 50,
    "start_time": "2022-08-12T03:46:21.580Z"
   },
   {
    "duration": 76,
    "start_time": "2022-08-12T03:46:37.155Z"
   },
   {
    "duration": 45,
    "start_time": "2022-08-12T03:46:54.984Z"
   },
   {
    "duration": 1045,
    "start_time": "2022-08-12T03:48:11.866Z"
   },
   {
    "duration": 890,
    "start_time": "2022-08-12T03:48:40.908Z"
   },
   {
    "duration": 1079,
    "start_time": "2022-08-12T03:48:57.246Z"
   },
   {
    "duration": 8,
    "start_time": "2022-08-12T03:50:53.260Z"
   },
   {
    "duration": 457,
    "start_time": "2022-08-12T03:51:24.337Z"
   },
   {
    "duration": 51,
    "start_time": "2022-08-12T03:51:24.796Z"
   },
   {
    "duration": 12,
    "start_time": "2022-08-12T03:51:24.848Z"
   },
   {
    "duration": 14,
    "start_time": "2022-08-12T03:51:24.861Z"
   },
   {
    "duration": 24,
    "start_time": "2022-08-12T03:51:24.878Z"
   },
   {
    "duration": 12,
    "start_time": "2022-08-12T03:51:24.903Z"
   },
   {
    "duration": 218,
    "start_time": "2022-08-12T03:51:24.916Z"
   },
   {
    "duration": 5,
    "start_time": "2022-08-12T03:51:25.136Z"
   },
   {
    "duration": 7,
    "start_time": "2022-08-12T03:51:25.142Z"
   },
   {
    "duration": 13,
    "start_time": "2022-08-12T03:51:25.150Z"
   },
   {
    "duration": 4,
    "start_time": "2022-08-12T03:51:25.165Z"
   },
   {
    "duration": 9,
    "start_time": "2022-08-12T03:51:25.171Z"
   },
   {
    "duration": 25,
    "start_time": "2022-08-12T03:51:25.182Z"
   },
   {
    "duration": 4,
    "start_time": "2022-08-12T03:51:25.209Z"
   },
   {
    "duration": 14,
    "start_time": "2022-08-12T03:51:25.215Z"
   },
   {
    "duration": 7,
    "start_time": "2022-08-12T03:51:25.230Z"
   },
   {
    "duration": 17,
    "start_time": "2022-08-12T03:51:25.238Z"
   },
   {
    "duration": 5,
    "start_time": "2022-08-12T03:51:25.256Z"
   },
   {
    "duration": 5,
    "start_time": "2022-08-12T03:51:25.263Z"
   },
   {
    "duration": 10,
    "start_time": "2022-08-12T03:51:25.269Z"
   },
   {
    "duration": 7,
    "start_time": "2022-08-12T03:51:25.280Z"
   },
   {
    "duration": 27,
    "start_time": "2022-08-12T03:51:25.288Z"
   },
   {
    "duration": 195,
    "start_time": "2022-08-12T03:51:25.317Z"
   },
   {
    "duration": 199,
    "start_time": "2022-08-12T03:51:25.513Z"
   },
   {
    "duration": 15,
    "start_time": "2022-08-12T03:51:25.713Z"
   },
   {
    "duration": 446,
    "start_time": "2022-08-12T03:51:25.729Z"
   },
   {
    "duration": 1310,
    "start_time": "2022-08-12T03:51:26.177Z"
   },
   {
    "duration": 429,
    "start_time": "2022-08-12T03:51:52.216Z"
   },
   {
    "duration": 491,
    "start_time": "2022-08-12T03:54:16.054Z"
   },
   {
    "duration": 75,
    "start_time": "2022-08-12T04:08:41.079Z"
   },
   {
    "duration": 75,
    "start_time": "2022-08-12T04:08:49.490Z"
   },
   {
    "duration": 5,
    "start_time": "2022-08-12T04:09:02.825Z"
   },
   {
    "duration": 43,
    "start_time": "2022-08-12T20:36:45.848Z"
   },
   {
    "duration": 1127,
    "start_time": "2022-08-12T20:37:29.085Z"
   },
   {
    "duration": 98,
    "start_time": "2022-08-12T20:37:30.215Z"
   },
   {
    "duration": 16,
    "start_time": "2022-08-12T20:37:30.314Z"
   },
   {
    "duration": 12,
    "start_time": "2022-08-12T20:37:30.332Z"
   },
   {
    "duration": 36,
    "start_time": "2022-08-12T20:37:30.345Z"
   },
   {
    "duration": 12,
    "start_time": "2022-08-12T20:37:30.383Z"
   },
   {
    "duration": 239,
    "start_time": "2022-08-12T20:37:30.396Z"
   },
   {
    "duration": 5,
    "start_time": "2022-08-12T20:37:30.636Z"
   },
   {
    "duration": 23,
    "start_time": "2022-08-12T20:37:30.642Z"
   },
   {
    "duration": 17,
    "start_time": "2022-08-12T20:37:30.667Z"
   },
   {
    "duration": 10,
    "start_time": "2022-08-12T20:37:30.685Z"
   },
   {
    "duration": 9,
    "start_time": "2022-08-12T20:37:30.696Z"
   },
   {
    "duration": 16,
    "start_time": "2022-08-12T20:37:30.706Z"
   },
   {
    "duration": 13,
    "start_time": "2022-08-12T20:37:30.724Z"
   },
   {
    "duration": 10,
    "start_time": "2022-08-12T20:37:30.739Z"
   },
   {
    "duration": 8,
    "start_time": "2022-08-12T20:37:30.750Z"
   },
   {
    "duration": 16,
    "start_time": "2022-08-12T20:37:30.759Z"
   },
   {
    "duration": 14,
    "start_time": "2022-08-12T20:37:30.777Z"
   },
   {
    "duration": 9,
    "start_time": "2022-08-12T20:37:30.792Z"
   },
   {
    "duration": 9,
    "start_time": "2022-08-12T20:37:30.802Z"
   },
   {
    "duration": 3,
    "start_time": "2022-08-12T20:37:30.813Z"
   },
   {
    "duration": 12,
    "start_time": "2022-08-12T20:37:30.817Z"
   },
   {
    "duration": 202,
    "start_time": "2022-08-12T20:37:30.831Z"
   },
   {
    "duration": 192,
    "start_time": "2022-08-12T20:37:31.035Z"
   },
   {
    "duration": 20,
    "start_time": "2022-08-12T20:37:31.228Z"
   },
   {
    "duration": 291,
    "start_time": "2022-08-12T20:37:31.250Z"
   },
   {
    "duration": 51,
    "start_time": "2022-08-12T20:37:31.542Z"
   },
   {
    "duration": 526,
    "start_time": "2022-08-12T20:37:31.595Z"
   },
   {
    "duration": 4,
    "start_time": "2022-08-12T20:37:32.123Z"
   },
   {
    "duration": 19,
    "start_time": "2022-08-12T20:44:25.324Z"
   },
   {
    "duration": 1404,
    "start_time": "2022-08-15T19:33:00.385Z"
   },
   {
    "duration": 154,
    "start_time": "2022-08-15T19:33:01.791Z"
   },
   {
    "duration": 17,
    "start_time": "2022-08-15T19:33:01.947Z"
   },
   {
    "duration": 21,
    "start_time": "2022-08-15T19:33:01.966Z"
   },
   {
    "duration": 56,
    "start_time": "2022-08-15T19:33:01.989Z"
   },
   {
    "duration": 12,
    "start_time": "2022-08-15T19:33:02.051Z"
   },
   {
    "duration": 241,
    "start_time": "2022-08-15T19:33:02.065Z"
   },
   {
    "duration": 6,
    "start_time": "2022-08-15T19:33:02.307Z"
   },
   {
    "duration": 14,
    "start_time": "2022-08-15T19:33:02.319Z"
   },
   {
    "duration": 51,
    "start_time": "2022-08-15T19:33:02.335Z"
   },
   {
    "duration": 8,
    "start_time": "2022-08-15T19:33:02.388Z"
   },
   {
    "duration": 11,
    "start_time": "2022-08-15T19:33:02.397Z"
   },
   {
    "duration": 52,
    "start_time": "2022-08-15T19:33:02.410Z"
   },
   {
    "duration": 29,
    "start_time": "2022-08-15T19:33:02.464Z"
   },
   {
    "duration": 14,
    "start_time": "2022-08-15T19:33:02.494Z"
   },
   {
    "duration": 56,
    "start_time": "2022-08-15T19:33:02.510Z"
   },
   {
    "duration": 17,
    "start_time": "2022-08-15T19:33:02.568Z"
   },
   {
    "duration": 6,
    "start_time": "2022-08-15T19:33:02.586Z"
   },
   {
    "duration": 13,
    "start_time": "2022-08-15T19:33:02.594Z"
   },
   {
    "duration": 48,
    "start_time": "2022-08-15T19:33:02.610Z"
   },
   {
    "duration": 8,
    "start_time": "2022-08-15T19:33:02.660Z"
   },
   {
    "duration": 31,
    "start_time": "2022-08-15T19:33:02.670Z"
   },
   {
    "duration": 261,
    "start_time": "2022-08-15T19:33:02.702Z"
   },
   {
    "duration": 242,
    "start_time": "2022-08-15T19:33:02.965Z"
   },
   {
    "duration": 46,
    "start_time": "2022-08-15T19:33:03.208Z"
   },
   {
    "duration": 333,
    "start_time": "2022-08-15T19:33:03.255Z"
   },
   {
    "duration": 67,
    "start_time": "2022-08-15T19:33:03.590Z"
   },
   {
    "duration": 497,
    "start_time": "2022-08-15T19:33:03.661Z"
   },
   {
    "duration": 5,
    "start_time": "2022-08-15T19:33:04.159Z"
   },
   {
    "duration": 23,
    "start_time": "2022-08-15T19:33:04.165Z"
   },
   {
    "duration": 677,
    "start_time": "2022-08-15T19:34:02.381Z"
   },
   {
    "duration": 266,
    "start_time": "2022-08-15T19:34:47.800Z"
   },
   {
    "duration": 555,
    "start_time": "2022-08-15T19:35:03.406Z"
   },
   {
    "duration": 471,
    "start_time": "2022-08-15T19:35:47.933Z"
   },
   {
    "duration": 509,
    "start_time": "2022-08-15T19:36:01.541Z"
   },
   {
    "duration": 513,
    "start_time": "2022-08-15T19:36:18.785Z"
   },
   {
    "duration": 44,
    "start_time": "2022-08-16T03:22:57.562Z"
   },
   {
    "duration": 1187,
    "start_time": "2022-08-16T03:23:15.205Z"
   },
   {
    "duration": 96,
    "start_time": "2022-08-16T03:23:16.394Z"
   },
   {
    "duration": 15,
    "start_time": "2022-08-16T03:23:16.491Z"
   },
   {
    "duration": 13,
    "start_time": "2022-08-16T03:23:16.508Z"
   },
   {
    "duration": 29,
    "start_time": "2022-08-16T03:23:16.522Z"
   },
   {
    "duration": 12,
    "start_time": "2022-08-16T03:23:16.552Z"
   },
   {
    "duration": 230,
    "start_time": "2022-08-16T03:23:16.566Z"
   },
   {
    "duration": 5,
    "start_time": "2022-08-16T03:23:16.797Z"
   },
   {
    "duration": 7,
    "start_time": "2022-08-16T03:23:16.803Z"
   },
   {
    "duration": 28,
    "start_time": "2022-08-16T03:23:16.812Z"
   },
   {
    "duration": 4,
    "start_time": "2022-08-16T03:23:16.841Z"
   },
   {
    "duration": 6,
    "start_time": "2022-08-16T03:23:16.847Z"
   },
   {
    "duration": 12,
    "start_time": "2022-08-16T03:23:16.854Z"
   },
   {
    "duration": 6,
    "start_time": "2022-08-16T03:23:16.867Z"
   },
   {
    "duration": 10,
    "start_time": "2022-08-16T03:23:16.874Z"
   },
   {
    "duration": 6,
    "start_time": "2022-08-16T03:23:16.885Z"
   },
   {
    "duration": 14,
    "start_time": "2022-08-16T03:23:16.892Z"
   },
   {
    "duration": 3,
    "start_time": "2022-08-16T03:23:16.908Z"
   },
   {
    "duration": 26,
    "start_time": "2022-08-16T03:23:16.912Z"
   },
   {
    "duration": 6,
    "start_time": "2022-08-16T03:23:16.940Z"
   },
   {
    "duration": 4,
    "start_time": "2022-08-16T03:23:16.947Z"
   },
   {
    "duration": 17,
    "start_time": "2022-08-16T03:23:16.953Z"
   },
   {
    "duration": 204,
    "start_time": "2022-08-16T03:23:16.972Z"
   },
   {
    "duration": 202,
    "start_time": "2022-08-16T03:23:17.178Z"
   },
   {
    "duration": 14,
    "start_time": "2022-08-16T03:23:17.381Z"
   },
   {
    "duration": 318,
    "start_time": "2022-08-16T03:23:17.397Z"
   },
   {
    "duration": 57,
    "start_time": "2022-08-16T03:23:17.717Z"
   },
   {
    "duration": 509,
    "start_time": "2022-08-16T03:23:17.776Z"
   },
   {
    "duration": 4,
    "start_time": "2022-08-16T03:23:18.287Z"
   },
   {
    "duration": 23,
    "start_time": "2022-08-16T03:23:18.292Z"
   },
   {
    "duration": 484,
    "start_time": "2022-08-16T03:23:18.316Z"
   },
   {
    "duration": 76,
    "start_time": "2022-08-16T03:23:18.801Z"
   },
   {
    "duration": 20,
    "start_time": "2022-08-16T03:24:46.799Z"
   },
   {
    "duration": 189,
    "start_time": "2022-08-16T03:25:27.539Z"
   },
   {
    "duration": 172,
    "start_time": "2022-08-16T03:26:28.544Z"
   },
   {
    "duration": 177,
    "start_time": "2022-08-16T03:26:53.937Z"
   },
   {
    "duration": 167,
    "start_time": "2022-08-16T03:27:06.006Z"
   },
   {
    "duration": 222,
    "start_time": "2022-08-16T03:27:17.239Z"
   },
   {
    "duration": 145,
    "start_time": "2022-08-16T03:27:26.897Z"
   },
   {
    "duration": 13,
    "start_time": "2022-08-16T03:29:03.058Z"
   },
   {
    "duration": 13,
    "start_time": "2022-08-16T03:29:18.346Z"
   },
   {
    "duration": 10,
    "start_time": "2022-08-16T03:29:39.856Z"
   },
   {
    "duration": 18,
    "start_time": "2022-08-16T03:36:51.737Z"
   },
   {
    "duration": 157,
    "start_time": "2022-08-16T03:38:02.235Z"
   },
   {
    "duration": 144,
    "start_time": "2022-08-16T03:38:57.517Z"
   },
   {
    "duration": 10,
    "start_time": "2022-08-16T03:39:18.236Z"
   },
   {
    "duration": 86,
    "start_time": "2022-08-16T03:41:07.943Z"
   },
   {
    "duration": 15,
    "start_time": "2022-08-16T03:45:32.175Z"
   },
   {
    "duration": 59,
    "start_time": "2022-08-16T03:47:05.786Z"
   },
   {
    "duration": 169,
    "start_time": "2022-08-16T03:47:44.274Z"
   },
   {
    "duration": 52,
    "start_time": "2022-08-16T03:48:06.817Z"
   },
   {
    "duration": 162,
    "start_time": "2022-08-16T03:49:20.717Z"
   },
   {
    "duration": 53,
    "start_time": "2022-08-16T03:50:44.611Z"
   },
   {
    "duration": 156,
    "start_time": "2022-08-16T03:50:47.179Z"
   },
   {
    "duration": 47,
    "start_time": "2022-08-16T19:06:43.029Z"
   },
   {
    "duration": 1401,
    "start_time": "2022-08-16T19:06:48.009Z"
   },
   {
    "duration": 196,
    "start_time": "2022-08-16T19:06:49.412Z"
   },
   {
    "duration": 20,
    "start_time": "2022-08-16T19:06:49.610Z"
   },
   {
    "duration": 17,
    "start_time": "2022-08-16T19:06:49.632Z"
   },
   {
    "duration": 44,
    "start_time": "2022-08-16T19:06:49.651Z"
   },
   {
    "duration": 15,
    "start_time": "2022-08-16T19:06:49.697Z"
   },
   {
    "duration": 284,
    "start_time": "2022-08-16T19:06:49.714Z"
   },
   {
    "duration": 6,
    "start_time": "2022-08-16T19:06:50.000Z"
   },
   {
    "duration": 11,
    "start_time": "2022-08-16T19:06:50.008Z"
   },
   {
    "duration": 17,
    "start_time": "2022-08-16T19:06:50.021Z"
   },
   {
    "duration": 6,
    "start_time": "2022-08-16T19:06:50.040Z"
   },
   {
    "duration": 9,
    "start_time": "2022-08-16T19:06:50.047Z"
   },
   {
    "duration": 36,
    "start_time": "2022-08-16T19:06:50.058Z"
   },
   {
    "duration": 6,
    "start_time": "2022-08-16T19:06:50.096Z"
   },
   {
    "duration": 16,
    "start_time": "2022-08-16T19:06:50.103Z"
   },
   {
    "duration": 9,
    "start_time": "2022-08-16T19:06:50.121Z"
   },
   {
    "duration": 17,
    "start_time": "2022-08-16T19:06:50.131Z"
   },
   {
    "duration": 5,
    "start_time": "2022-08-16T19:06:50.149Z"
   },
   {
    "duration": 7,
    "start_time": "2022-08-16T19:06:50.156Z"
   },
   {
    "duration": 31,
    "start_time": "2022-08-16T19:06:50.164Z"
   },
   {
    "duration": 4,
    "start_time": "2022-08-16T19:06:50.196Z"
   },
   {
    "duration": 14,
    "start_time": "2022-08-16T19:06:50.202Z"
   },
   {
    "duration": 254,
    "start_time": "2022-08-16T19:06:50.218Z"
   },
   {
    "duration": 247,
    "start_time": "2022-08-16T19:06:50.474Z"
   },
   {
    "duration": 17,
    "start_time": "2022-08-16T19:06:50.723Z"
   },
   {
    "duration": 381,
    "start_time": "2022-08-16T19:06:50.742Z"
   },
   {
    "duration": 69,
    "start_time": "2022-08-16T19:06:51.124Z"
   },
   {
    "duration": 607,
    "start_time": "2022-08-16T19:06:51.196Z"
   },
   {
    "duration": 5,
    "start_time": "2022-08-16T19:06:51.804Z"
   },
   {
    "duration": 25,
    "start_time": "2022-08-16T19:06:51.811Z"
   },
   {
    "duration": 602,
    "start_time": "2022-08-16T19:06:51.838Z"
   },
   {
    "duration": 202,
    "start_time": "2022-08-16T19:06:52.442Z"
   },
   {
    "duration": 190,
    "start_time": "2022-08-16T19:06:52.646Z"
   },
   {
    "duration": 187,
    "start_time": "2022-08-16T19:06:52.838Z"
   },
   {
    "duration": 209,
    "start_time": "2022-08-16T19:06:53.026Z"
   },
   {
    "duration": 11,
    "start_time": "2022-08-16T19:06:53.236Z"
   },
   {
    "duration": 77,
    "start_time": "2022-08-16T19:06:53.249Z"
   },
   {
    "duration": 0,
    "start_time": "2022-08-16T19:06:53.328Z"
   },
   {
    "duration": 0,
    "start_time": "2022-08-16T19:06:53.330Z"
   },
   {
    "duration": 260,
    "start_time": "2022-08-16T19:07:15.677Z"
   },
   {
    "duration": 63,
    "start_time": "2022-08-16T19:07:23.743Z"
   },
   {
    "duration": 15,
    "start_time": "2022-08-16T19:08:06.841Z"
   },
   {
    "duration": 15,
    "start_time": "2022-08-16T19:09:03.082Z"
   },
   {
    "duration": 11,
    "start_time": "2022-08-16T19:10:09.746Z"
   },
   {
    "duration": 14,
    "start_time": "2022-08-16T19:10:19.571Z"
   },
   {
    "duration": 14,
    "start_time": "2022-08-16T19:11:05.966Z"
   },
   {
    "duration": 15,
    "start_time": "2022-08-16T19:13:10.990Z"
   },
   {
    "duration": 20,
    "start_time": "2022-08-16T19:14:01.822Z"
   },
   {
    "duration": 16,
    "start_time": "2022-08-16T19:14:26.451Z"
   },
   {
    "duration": 16,
    "start_time": "2022-08-16T19:15:05.861Z"
   },
   {
    "duration": 14,
    "start_time": "2022-08-16T19:23:17.988Z"
   },
   {
    "duration": 15,
    "start_time": "2022-08-16T19:24:14.724Z"
   },
   {
    "duration": 14,
    "start_time": "2022-08-16T19:24:50.613Z"
   },
   {
    "duration": 14,
    "start_time": "2022-08-16T19:40:01.652Z"
   },
   {
    "duration": 15,
    "start_time": "2022-08-16T19:40:52.016Z"
   },
   {
    "duration": 15,
    "start_time": "2022-08-16T19:41:26.523Z"
   },
   {
    "duration": 1421,
    "start_time": "2022-08-17T03:29:33.196Z"
   },
   {
    "duration": 218,
    "start_time": "2022-08-17T03:29:34.619Z"
   },
   {
    "duration": 18,
    "start_time": "2022-08-17T03:29:34.839Z"
   },
   {
    "duration": 15,
    "start_time": "2022-08-17T03:29:34.859Z"
   },
   {
    "duration": 39,
    "start_time": "2022-08-17T03:29:34.876Z"
   },
   {
    "duration": 16,
    "start_time": "2022-08-17T03:29:34.917Z"
   },
   {
    "duration": 310,
    "start_time": "2022-08-17T03:29:34.935Z"
   },
   {
    "duration": 6,
    "start_time": "2022-08-17T03:29:35.246Z"
   },
   {
    "duration": 10,
    "start_time": "2022-08-17T03:29:35.253Z"
   },
   {
    "duration": 36,
    "start_time": "2022-08-17T03:29:35.264Z"
   },
   {
    "duration": 7,
    "start_time": "2022-08-17T03:29:35.303Z"
   },
   {
    "duration": 12,
    "start_time": "2022-08-17T03:29:35.312Z"
   },
   {
    "duration": 4,
    "start_time": "2022-08-17T03:29:35.327Z"
   },
   {
    "duration": 5,
    "start_time": "2022-08-17T03:29:35.335Z"
   },
   {
    "duration": 9,
    "start_time": "2022-08-17T03:29:35.343Z"
   },
   {
    "duration": 44,
    "start_time": "2022-08-17T03:29:35.354Z"
   },
   {
    "duration": 22,
    "start_time": "2022-08-17T03:29:35.400Z"
   },
   {
    "duration": 7,
    "start_time": "2022-08-17T03:29:35.424Z"
   },
   {
    "duration": 8,
    "start_time": "2022-08-17T03:29:35.432Z"
   },
   {
    "duration": 6,
    "start_time": "2022-08-17T03:29:35.441Z"
   },
   {
    "duration": 9,
    "start_time": "2022-08-17T03:29:35.449Z"
   },
   {
    "duration": 36,
    "start_time": "2022-08-17T03:29:35.460Z"
   },
   {
    "duration": 264,
    "start_time": "2022-08-17T03:29:35.498Z"
   },
   {
    "duration": 260,
    "start_time": "2022-08-17T03:29:35.763Z"
   },
   {
    "duration": 17,
    "start_time": "2022-08-17T03:29:36.024Z"
   },
   {
    "duration": 377,
    "start_time": "2022-08-17T03:29:36.043Z"
   },
   {
    "duration": 71,
    "start_time": "2022-08-17T03:29:36.422Z"
   },
   {
    "duration": 637,
    "start_time": "2022-08-17T03:29:36.495Z"
   },
   {
    "duration": 5,
    "start_time": "2022-08-17T03:29:37.134Z"
   },
   {
    "duration": 29,
    "start_time": "2022-08-17T03:29:37.140Z"
   },
   {
    "duration": 604,
    "start_time": "2022-08-17T03:29:37.171Z"
   },
   {
    "duration": 212,
    "start_time": "2022-08-17T03:29:37.776Z"
   },
   {
    "duration": 190,
    "start_time": "2022-08-17T03:29:37.992Z"
   },
   {
    "duration": 178,
    "start_time": "2022-08-17T03:29:38.184Z"
   },
   {
    "duration": 188,
    "start_time": "2022-08-17T03:29:38.363Z"
   },
   {
    "duration": 11,
    "start_time": "2022-08-17T03:29:38.552Z"
   },
   {
    "duration": 302,
    "start_time": "2022-08-17T03:29:38.564Z"
   },
   {
    "duration": 32,
    "start_time": "2022-08-17T03:29:38.868Z"
   },
   {
    "duration": 16,
    "start_time": "2022-08-17T03:29:38.903Z"
   },
   {
    "duration": 13,
    "start_time": "2022-08-17T03:29:38.920Z"
   },
   {
    "duration": 14,
    "start_time": "2022-08-17T03:29:38.937Z"
   },
   {
    "duration": 14,
    "start_time": "2022-08-17T03:29:38.952Z"
   },
   {
    "duration": 22,
    "start_time": "2022-08-17T03:29:38.993Z"
   },
   {
    "duration": 14,
    "start_time": "2022-08-17T03:29:39.017Z"
   },
   {
    "duration": 15,
    "start_time": "2022-08-17T03:29:39.033Z"
   },
   {
    "duration": 48,
    "start_time": "2022-08-17T03:29:39.050Z"
   },
   {
    "duration": 16,
    "start_time": "2022-08-17T03:29:39.100Z"
   },
   {
    "duration": 14,
    "start_time": "2022-08-17T03:29:39.118Z"
   },
   {
    "duration": 13,
    "start_time": "2022-08-17T03:29:39.134Z"
   },
   {
    "duration": 8,
    "start_time": "2022-08-17T03:29:39.148Z"
   },
   {
    "duration": 117,
    "start_time": "2022-08-17T03:30:07.868Z"
   },
   {
    "duration": 8,
    "start_time": "2022-08-17T03:30:25.099Z"
   },
   {
    "duration": 9,
    "start_time": "2022-08-17T03:31:16.774Z"
   },
   {
    "duration": 3,
    "start_time": "2022-08-17T03:32:34.522Z"
   },
   {
    "duration": 56,
    "start_time": "2022-08-17T03:32:34.528Z"
   },
   {
    "duration": 14,
    "start_time": "2022-08-17T03:32:34.586Z"
   },
   {
    "duration": 16,
    "start_time": "2022-08-17T03:32:34.603Z"
   },
   {
    "duration": 32,
    "start_time": "2022-08-17T03:32:34.621Z"
   },
   {
    "duration": 41,
    "start_time": "2022-08-17T03:32:34.655Z"
   },
   {
    "duration": 267,
    "start_time": "2022-08-17T03:32:34.697Z"
   },
   {
    "duration": 5,
    "start_time": "2022-08-17T03:32:34.966Z"
   },
   {
    "duration": 19,
    "start_time": "2022-08-17T03:32:34.973Z"
   },
   {
    "duration": 20,
    "start_time": "2022-08-17T03:32:34.994Z"
   },
   {
    "duration": 6,
    "start_time": "2022-08-17T03:32:35.015Z"
   },
   {
    "duration": 9,
    "start_time": "2022-08-17T03:32:35.023Z"
   },
   {
    "duration": 6,
    "start_time": "2022-08-17T03:32:35.034Z"
   },
   {
    "duration": 7,
    "start_time": "2022-08-17T03:32:35.042Z"
   },
   {
    "duration": 42,
    "start_time": "2022-08-17T03:32:35.050Z"
   },
   {
    "duration": 7,
    "start_time": "2022-08-17T03:32:35.093Z"
   },
   {
    "duration": 21,
    "start_time": "2022-08-17T03:32:35.102Z"
   },
   {
    "duration": 7,
    "start_time": "2022-08-17T03:32:35.125Z"
   },
   {
    "duration": 10,
    "start_time": "2022-08-17T03:32:35.134Z"
   },
   {
    "duration": 11,
    "start_time": "2022-08-17T03:32:35.145Z"
   },
   {
    "duration": 5,
    "start_time": "2022-08-17T03:32:35.158Z"
   },
   {
    "duration": 34,
    "start_time": "2022-08-17T03:32:35.164Z"
   },
   {
    "duration": 250,
    "start_time": "2022-08-17T03:32:35.199Z"
   },
   {
    "duration": 248,
    "start_time": "2022-08-17T03:32:35.453Z"
   },
   {
    "duration": 16,
    "start_time": "2022-08-17T03:32:35.703Z"
   },
   {
    "duration": 366,
    "start_time": "2022-08-17T03:32:35.721Z"
   },
   {
    "duration": 59,
    "start_time": "2022-08-17T03:32:36.091Z"
   },
   {
    "duration": 498,
    "start_time": "2022-08-17T03:32:36.151Z"
   },
   {
    "duration": 5,
    "start_time": "2022-08-17T03:32:36.650Z"
   },
   {
    "duration": 22,
    "start_time": "2022-08-17T03:32:36.657Z"
   },
   {
    "duration": 605,
    "start_time": "2022-08-17T03:32:36.692Z"
   },
   {
    "duration": 193,
    "start_time": "2022-08-17T03:32:37.298Z"
   },
   {
    "duration": 189,
    "start_time": "2022-08-17T03:32:37.493Z"
   },
   {
    "duration": 178,
    "start_time": "2022-08-17T03:32:37.683Z"
   },
   {
    "duration": 185,
    "start_time": "2022-08-17T03:32:37.862Z"
   },
   {
    "duration": 11,
    "start_time": "2022-08-17T03:32:38.049Z"
   },
   {
    "duration": 213,
    "start_time": "2022-08-17T03:32:38.062Z"
   },
   {
    "duration": 20,
    "start_time": "2022-08-17T03:32:38.276Z"
   },
   {
    "duration": 13,
    "start_time": "2022-08-17T03:32:38.298Z"
   },
   {
    "duration": 15,
    "start_time": "2022-08-17T03:32:38.313Z"
   },
   {
    "duration": 14,
    "start_time": "2022-08-17T03:32:38.330Z"
   },
   {
    "duration": 16,
    "start_time": "2022-08-17T03:32:38.346Z"
   },
   {
    "duration": 40,
    "start_time": "2022-08-17T03:32:38.363Z"
   },
   {
    "duration": 14,
    "start_time": "2022-08-17T03:32:38.405Z"
   },
   {
    "duration": 15,
    "start_time": "2022-08-17T03:32:38.421Z"
   },
   {
    "duration": 14,
    "start_time": "2022-08-17T03:32:38.438Z"
   },
   {
    "duration": 46,
    "start_time": "2022-08-17T03:32:38.453Z"
   },
   {
    "duration": 19,
    "start_time": "2022-08-17T03:32:38.501Z"
   },
   {
    "duration": 15,
    "start_time": "2022-08-17T03:32:38.521Z"
   },
   {
    "duration": 8,
    "start_time": "2022-08-17T03:32:38.537Z"
   },
   {
    "duration": 5,
    "start_time": "2022-08-17T03:32:38.547Z"
   },
   {
    "duration": 6,
    "start_time": "2022-08-17T03:36:01.543Z"
   },
   {
    "duration": 8,
    "start_time": "2022-08-17T03:36:42.613Z"
   },
   {
    "duration": 8,
    "start_time": "2022-08-17T03:40:49.576Z"
   },
   {
    "duration": 5,
    "start_time": "2022-08-17T03:40:50.133Z"
   },
   {
    "duration": 8,
    "start_time": "2022-08-17T03:40:54.133Z"
   },
   {
    "duration": 6,
    "start_time": "2022-08-17T03:41:20.967Z"
   },
   {
    "duration": 3,
    "start_time": "2022-08-17T04:07:16.376Z"
   },
   {
    "duration": 59,
    "start_time": "2022-08-17T04:07:16.381Z"
   },
   {
    "duration": 15,
    "start_time": "2022-08-17T04:07:16.442Z"
   },
   {
    "duration": 19,
    "start_time": "2022-08-17T04:07:16.459Z"
   },
   {
    "duration": 39,
    "start_time": "2022-08-17T04:07:16.480Z"
   },
   {
    "duration": 15,
    "start_time": "2022-08-17T04:07:16.521Z"
   },
   {
    "duration": 317,
    "start_time": "2022-08-17T04:07:16.538Z"
   },
   {
    "duration": 7,
    "start_time": "2022-08-17T04:07:16.857Z"
   },
   {
    "duration": 17,
    "start_time": "2022-08-17T04:07:16.866Z"
   },
   {
    "duration": 20,
    "start_time": "2022-08-17T04:07:16.892Z"
   },
   {
    "duration": 5,
    "start_time": "2022-08-17T04:07:16.914Z"
   },
   {
    "duration": 9,
    "start_time": "2022-08-17T04:07:16.921Z"
   },
   {
    "duration": 4,
    "start_time": "2022-08-17T04:07:16.934Z"
   },
   {
    "duration": 8,
    "start_time": "2022-08-17T04:07:16.941Z"
   },
   {
    "duration": 44,
    "start_time": "2022-08-17T04:07:16.951Z"
   },
   {
    "duration": 24,
    "start_time": "2022-08-17T04:07:16.997Z"
   },
   {
    "duration": 30,
    "start_time": "2022-08-17T04:07:17.022Z"
   },
   {
    "duration": 21,
    "start_time": "2022-08-17T04:07:17.053Z"
   },
   {
    "duration": 16,
    "start_time": "2022-08-17T04:07:17.076Z"
   },
   {
    "duration": 3,
    "start_time": "2022-08-17T04:07:17.094Z"
   },
   {
    "duration": 6,
    "start_time": "2022-08-17T04:07:17.099Z"
   },
   {
    "duration": 28,
    "start_time": "2022-08-17T04:07:17.107Z"
   },
   {
    "duration": 262,
    "start_time": "2022-08-17T04:07:17.137Z"
   },
   {
    "duration": 371,
    "start_time": "2022-08-17T04:07:17.401Z"
   },
   {
    "duration": 21,
    "start_time": "2022-08-17T04:07:17.774Z"
   },
   {
    "duration": 385,
    "start_time": "2022-08-17T04:07:17.796Z"
   },
   {
    "duration": 67,
    "start_time": "2022-08-17T04:07:18.183Z"
   },
   {
    "duration": 531,
    "start_time": "2022-08-17T04:07:18.252Z"
   },
   {
    "duration": 8,
    "start_time": "2022-08-17T04:07:18.785Z"
   },
   {
    "duration": 41,
    "start_time": "2022-08-17T04:07:18.795Z"
   },
   {
    "duration": 511,
    "start_time": "2022-08-17T04:07:18.839Z"
   },
   {
    "duration": 205,
    "start_time": "2022-08-17T04:07:19.352Z"
   },
   {
    "duration": 300,
    "start_time": "2022-08-17T04:07:19.559Z"
   },
   {
    "duration": 212,
    "start_time": "2022-08-17T04:07:19.861Z"
   },
   {
    "duration": 228,
    "start_time": "2022-08-17T04:07:20.075Z"
   },
   {
    "duration": 14,
    "start_time": "2022-08-17T04:07:20.305Z"
   },
   {
    "duration": 226,
    "start_time": "2022-08-17T04:07:20.323Z"
   },
   {
    "duration": 19,
    "start_time": "2022-08-17T04:07:20.551Z"
   },
   {
    "duration": 31,
    "start_time": "2022-08-17T04:07:20.571Z"
   },
   {
    "duration": 20,
    "start_time": "2022-08-17T04:07:20.604Z"
   },
   {
    "duration": 14,
    "start_time": "2022-08-17T04:07:20.626Z"
   },
   {
    "duration": 16,
    "start_time": "2022-08-17T04:07:20.642Z"
   },
   {
    "duration": 33,
    "start_time": "2022-08-17T04:07:20.660Z"
   },
   {
    "duration": 28,
    "start_time": "2022-08-17T04:07:20.695Z"
   },
   {
    "duration": 14,
    "start_time": "2022-08-17T04:07:20.725Z"
   },
   {
    "duration": 18,
    "start_time": "2022-08-17T04:07:20.741Z"
   },
   {
    "duration": 32,
    "start_time": "2022-08-17T04:07:20.761Z"
   },
   {
    "duration": 18,
    "start_time": "2022-08-17T04:07:20.795Z"
   },
   {
    "duration": 17,
    "start_time": "2022-08-17T04:07:20.815Z"
   },
   {
    "duration": 14,
    "start_time": "2022-08-17T04:07:20.834Z"
   },
   {
    "duration": 10,
    "start_time": "2022-08-17T04:07:20.850Z"
   },
   {
    "duration": 13,
    "start_time": "2022-08-17T04:07:20.861Z"
   },
   {
    "duration": 18,
    "start_time": "2022-08-17T04:07:20.876Z"
   },
   {
    "duration": 1262,
    "start_time": "2022-08-17T19:30:24.729Z"
   },
   {
    "duration": 92,
    "start_time": "2022-08-17T19:30:25.992Z"
   },
   {
    "duration": 19,
    "start_time": "2022-08-17T19:30:26.086Z"
   },
   {
    "duration": 14,
    "start_time": "2022-08-17T19:30:26.107Z"
   },
   {
    "duration": 25,
    "start_time": "2022-08-17T19:30:26.122Z"
   },
   {
    "duration": 12,
    "start_time": "2022-08-17T19:30:26.149Z"
   },
   {
    "duration": 231,
    "start_time": "2022-08-17T19:30:26.163Z"
   },
   {
    "duration": 6,
    "start_time": "2022-08-17T19:30:26.395Z"
   },
   {
    "duration": 5,
    "start_time": "2022-08-17T19:30:26.411Z"
   },
   {
    "duration": 13,
    "start_time": "2022-08-17T19:30:26.419Z"
   },
   {
    "duration": 5,
    "start_time": "2022-08-17T19:30:26.433Z"
   },
   {
    "duration": 11,
    "start_time": "2022-08-17T19:30:26.439Z"
   },
   {
    "duration": 6,
    "start_time": "2022-08-17T19:30:26.452Z"
   },
   {
    "duration": 6,
    "start_time": "2022-08-17T19:30:26.460Z"
   },
   {
    "duration": 8,
    "start_time": "2022-08-17T19:30:26.467Z"
   },
   {
    "duration": 37,
    "start_time": "2022-08-17T19:30:26.476Z"
   },
   {
    "duration": 14,
    "start_time": "2022-08-17T19:30:26.514Z"
   },
   {
    "duration": 5,
    "start_time": "2022-08-17T19:30:26.529Z"
   },
   {
    "duration": 9,
    "start_time": "2022-08-17T19:30:26.535Z"
   },
   {
    "duration": 8,
    "start_time": "2022-08-17T19:30:26.546Z"
   },
   {
    "duration": 6,
    "start_time": "2022-08-17T19:30:26.555Z"
   },
   {
    "duration": 14,
    "start_time": "2022-08-17T19:30:26.562Z"
   },
   {
    "duration": 204,
    "start_time": "2022-08-17T19:30:26.577Z"
   },
   {
    "duration": 198,
    "start_time": "2022-08-17T19:30:26.782Z"
   },
   {
    "duration": 15,
    "start_time": "2022-08-17T19:30:26.981Z"
   },
   {
    "duration": 324,
    "start_time": "2022-08-17T19:30:26.997Z"
   },
   {
    "duration": 50,
    "start_time": "2022-08-17T19:30:27.323Z"
   },
   {
    "duration": 591,
    "start_time": "2022-08-17T19:30:27.376Z"
   },
   {
    "duration": 5,
    "start_time": "2022-08-17T19:30:27.968Z"
   },
   {
    "duration": 20,
    "start_time": "2022-08-17T19:30:27.975Z"
   },
   {
    "duration": 541,
    "start_time": "2022-08-17T19:30:27.996Z"
   },
   {
    "duration": 178,
    "start_time": "2022-08-17T19:30:28.538Z"
   },
   {
    "duration": 162,
    "start_time": "2022-08-17T19:30:28.718Z"
   },
   {
    "duration": 164,
    "start_time": "2022-08-17T19:30:28.881Z"
   },
   {
    "duration": 167,
    "start_time": "2022-08-17T19:30:29.046Z"
   },
   {
    "duration": 9,
    "start_time": "2022-08-17T19:30:29.214Z"
   },
   {
    "duration": 248,
    "start_time": "2022-08-17T19:30:29.224Z"
   },
   {
    "duration": 14,
    "start_time": "2022-08-17T19:30:29.474Z"
   },
   {
    "duration": 26,
    "start_time": "2022-08-17T19:30:29.489Z"
   },
   {
    "duration": 17,
    "start_time": "2022-08-17T19:30:29.517Z"
   },
   {
    "duration": 14,
    "start_time": "2022-08-17T19:30:29.536Z"
   },
   {
    "duration": 13,
    "start_time": "2022-08-17T19:30:29.552Z"
   },
   {
    "duration": 47,
    "start_time": "2022-08-17T19:30:29.567Z"
   },
   {
    "duration": 13,
    "start_time": "2022-08-17T19:30:29.616Z"
   },
   {
    "duration": 12,
    "start_time": "2022-08-17T19:30:29.631Z"
   },
   {
    "duration": 14,
    "start_time": "2022-08-17T19:30:29.645Z"
   },
   {
    "duration": 12,
    "start_time": "2022-08-17T19:30:29.660Z"
   },
   {
    "duration": 46,
    "start_time": "2022-08-17T19:30:29.673Z"
   },
   {
    "duration": 13,
    "start_time": "2022-08-17T19:30:29.721Z"
   },
   {
    "duration": 9,
    "start_time": "2022-08-17T19:30:29.735Z"
   },
   {
    "duration": 3,
    "start_time": "2022-08-17T19:30:59.993Z"
   },
   {
    "duration": 1100,
    "start_time": "2022-08-17T19:37:17.079Z"
   },
   {
    "duration": 52,
    "start_time": "2022-08-17T19:37:18.180Z"
   },
   {
    "duration": 15,
    "start_time": "2022-08-17T19:37:18.234Z"
   },
   {
    "duration": 13,
    "start_time": "2022-08-17T19:37:18.250Z"
   },
   {
    "duration": 23,
    "start_time": "2022-08-17T19:37:18.264Z"
   },
   {
    "duration": 24,
    "start_time": "2022-08-17T19:37:18.289Z"
   },
   {
    "duration": 224,
    "start_time": "2022-08-17T19:37:18.314Z"
   },
   {
    "duration": 5,
    "start_time": "2022-08-17T19:37:18.539Z"
   },
   {
    "duration": 6,
    "start_time": "2022-08-17T19:37:18.545Z"
   },
   {
    "duration": 12,
    "start_time": "2022-08-17T19:37:18.553Z"
   },
   {
    "duration": 4,
    "start_time": "2022-08-17T19:37:18.567Z"
   },
   {
    "duration": 6,
    "start_time": "2022-08-17T19:37:18.573Z"
   },
   {
    "duration": 31,
    "start_time": "2022-08-17T19:37:18.580Z"
   },
   {
    "duration": 4,
    "start_time": "2022-08-17T19:37:18.612Z"
   },
   {
    "duration": 8,
    "start_time": "2022-08-17T19:37:18.617Z"
   },
   {
    "duration": 5,
    "start_time": "2022-08-17T19:37:18.626Z"
   },
   {
    "duration": 14,
    "start_time": "2022-08-17T19:37:18.632Z"
   },
   {
    "duration": 5,
    "start_time": "2022-08-17T19:37:18.647Z"
   },
   {
    "duration": 5,
    "start_time": "2022-08-17T19:37:18.653Z"
   },
   {
    "duration": 3,
    "start_time": "2022-08-17T19:37:18.660Z"
   },
   {
    "duration": 3,
    "start_time": "2022-08-17T19:37:18.664Z"
   },
   {
    "duration": 46,
    "start_time": "2022-08-17T19:37:18.668Z"
   },
   {
    "duration": 189,
    "start_time": "2022-08-17T19:37:18.715Z"
   },
   {
    "duration": 198,
    "start_time": "2022-08-17T19:37:18.906Z"
   },
   {
    "duration": 13,
    "start_time": "2022-08-17T19:37:19.110Z"
   },
   {
    "duration": 324,
    "start_time": "2022-08-17T19:37:19.125Z"
   },
   {
    "duration": 64,
    "start_time": "2022-08-17T19:37:19.450Z"
   },
   {
    "duration": 552,
    "start_time": "2022-08-17T19:37:19.518Z"
   },
   {
    "duration": 3,
    "start_time": "2022-08-17T19:37:20.072Z"
   },
   {
    "duration": 20,
    "start_time": "2022-08-17T19:37:20.077Z"
   },
   {
    "duration": 506,
    "start_time": "2022-08-17T19:37:20.099Z"
   },
   {
    "duration": 163,
    "start_time": "2022-08-17T19:37:20.610Z"
   },
   {
    "duration": 161,
    "start_time": "2022-08-17T19:37:20.775Z"
   },
   {
    "duration": 162,
    "start_time": "2022-08-17T19:37:20.938Z"
   },
   {
    "duration": 160,
    "start_time": "2022-08-17T19:37:21.102Z"
   },
   {
    "duration": 9,
    "start_time": "2022-08-17T19:37:21.264Z"
   },
   {
    "duration": 237,
    "start_time": "2022-08-17T19:37:21.274Z"
   },
   {
    "duration": 13,
    "start_time": "2022-08-17T19:37:21.513Z"
   },
   {
    "duration": 13,
    "start_time": "2022-08-17T19:37:21.527Z"
   },
   {
    "duration": 12,
    "start_time": "2022-08-17T19:37:21.541Z"
   },
   {
    "duration": 12,
    "start_time": "2022-08-17T19:37:21.555Z"
   },
   {
    "duration": 11,
    "start_time": "2022-08-17T19:37:21.569Z"
   },
   {
    "duration": 12,
    "start_time": "2022-08-17T19:37:21.611Z"
   },
   {
    "duration": 13,
    "start_time": "2022-08-17T19:37:21.624Z"
   },
   {
    "duration": 11,
    "start_time": "2022-08-17T19:37:21.638Z"
   },
   {
    "duration": 13,
    "start_time": "2022-08-17T19:37:21.651Z"
   },
   {
    "duration": 14,
    "start_time": "2022-08-17T19:37:21.665Z"
   },
   {
    "duration": 40,
    "start_time": "2022-08-17T19:37:21.681Z"
   },
   {
    "duration": 13,
    "start_time": "2022-08-17T19:37:21.722Z"
   },
   {
    "duration": 7,
    "start_time": "2022-08-17T19:37:21.736Z"
   },
   {
    "duration": 6,
    "start_time": "2022-08-17T19:37:21.744Z"
   },
   {
    "duration": 9,
    "start_time": "2022-08-17T19:37:21.752Z"
   },
   {
    "duration": 11,
    "start_time": "2022-08-17T19:37:21.763Z"
   },
   {
    "duration": 1305,
    "start_time": "2022-08-19T02:28:23.992Z"
   },
   {
    "duration": 93,
    "start_time": "2022-08-19T02:28:25.301Z"
   },
   {
    "duration": 18,
    "start_time": "2022-08-19T02:28:25.395Z"
   },
   {
    "duration": 15,
    "start_time": "2022-08-19T02:28:25.415Z"
   },
   {
    "duration": 30,
    "start_time": "2022-08-19T02:28:25.432Z"
   },
   {
    "duration": 36,
    "start_time": "2022-08-19T02:28:25.464Z"
   },
   {
    "duration": 246,
    "start_time": "2022-08-19T02:28:25.503Z"
   },
   {
    "duration": 5,
    "start_time": "2022-08-19T02:28:25.751Z"
   },
   {
    "duration": 8,
    "start_time": "2022-08-19T02:28:25.757Z"
   },
   {
    "duration": 14,
    "start_time": "2022-08-19T02:28:25.766Z"
   },
   {
    "duration": 19,
    "start_time": "2022-08-19T02:28:25.782Z"
   },
   {
    "duration": 8,
    "start_time": "2022-08-19T02:28:25.802Z"
   },
   {
    "duration": 5,
    "start_time": "2022-08-19T02:28:25.811Z"
   },
   {
    "duration": 5,
    "start_time": "2022-08-19T02:28:25.819Z"
   },
   {
    "duration": 10,
    "start_time": "2022-08-19T02:28:25.825Z"
   },
   {
    "duration": 6,
    "start_time": "2022-08-19T02:28:25.836Z"
   },
   {
    "duration": 16,
    "start_time": "2022-08-19T02:28:25.844Z"
   },
   {
    "duration": 40,
    "start_time": "2022-08-19T02:28:25.861Z"
   },
   {
    "duration": 5,
    "start_time": "2022-08-19T02:28:25.903Z"
   },
   {
    "duration": 8,
    "start_time": "2022-08-19T02:28:25.909Z"
   },
   {
    "duration": 6,
    "start_time": "2022-08-19T02:28:25.918Z"
   },
   {
    "duration": 13,
    "start_time": "2022-08-19T02:28:25.926Z"
   },
   {
    "duration": 212,
    "start_time": "2022-08-19T02:28:25.941Z"
   },
   {
    "duration": 211,
    "start_time": "2022-08-19T02:28:26.155Z"
   },
   {
    "duration": 15,
    "start_time": "2022-08-19T02:28:26.368Z"
   },
   {
    "duration": 322,
    "start_time": "2022-08-19T02:28:26.384Z"
   },
   {
    "duration": 51,
    "start_time": "2022-08-19T02:28:26.708Z"
   },
   {
    "duration": 584,
    "start_time": "2022-08-19T02:28:26.761Z"
   },
   {
    "duration": 4,
    "start_time": "2022-08-19T02:28:27.347Z"
   },
   {
    "duration": 21,
    "start_time": "2022-08-19T02:28:27.353Z"
   },
   {
    "duration": 497,
    "start_time": "2022-08-19T02:28:27.376Z"
   },
   {
    "duration": 162,
    "start_time": "2022-08-19T02:28:27.875Z"
   },
   {
    "duration": 161,
    "start_time": "2022-08-19T02:28:28.039Z"
   },
   {
    "duration": 157,
    "start_time": "2022-08-19T02:28:28.201Z"
   },
   {
    "duration": 154,
    "start_time": "2022-08-19T02:28:28.360Z"
   },
   {
    "duration": 9,
    "start_time": "2022-08-19T02:28:28.515Z"
   },
   {
    "duration": 269,
    "start_time": "2022-08-19T02:28:28.526Z"
   },
   {
    "duration": 12,
    "start_time": "2022-08-19T02:28:28.797Z"
   },
   {
    "duration": 11,
    "start_time": "2022-08-19T02:28:28.811Z"
   },
   {
    "duration": 11,
    "start_time": "2022-08-19T02:28:28.824Z"
   },
   {
    "duration": 13,
    "start_time": "2022-08-19T02:28:28.838Z"
   },
   {
    "duration": 18,
    "start_time": "2022-08-19T02:28:28.852Z"
   },
   {
    "duration": 36,
    "start_time": "2022-08-19T02:28:28.872Z"
   },
   {
    "duration": 13,
    "start_time": "2022-08-19T02:28:28.911Z"
   },
   {
    "duration": 11,
    "start_time": "2022-08-19T02:28:28.926Z"
   },
   {
    "duration": 11,
    "start_time": "2022-08-19T02:28:28.938Z"
   },
   {
    "duration": 13,
    "start_time": "2022-08-19T02:28:28.951Z"
   },
   {
    "duration": 44,
    "start_time": "2022-08-19T02:28:28.966Z"
   },
   {
    "duration": 13,
    "start_time": "2022-08-19T02:28:29.011Z"
   },
   {
    "duration": 8,
    "start_time": "2022-08-19T02:28:29.025Z"
   },
   {
    "duration": 17,
    "start_time": "2022-08-19T02:28:29.034Z"
   },
   {
    "duration": 17,
    "start_time": "2022-08-19T02:28:29.052Z"
   },
   {
    "duration": 8,
    "start_time": "2022-08-19T02:28:29.070Z"
   },
   {
    "duration": 52,
    "start_time": "2022-08-19T03:51:54.060Z"
   },
   {
    "duration": 105,
    "start_time": "2022-08-19T03:52:03.122Z"
   },
   {
    "duration": 12,
    "start_time": "2022-08-19T03:52:24.951Z"
   },
   {
    "duration": 12,
    "start_time": "2022-08-19T03:55:07.690Z"
   },
   {
    "duration": 3,
    "start_time": "2022-08-19T03:55:24.699Z"
   },
   {
    "duration": 52,
    "start_time": "2022-08-19T03:55:24.703Z"
   },
   {
    "duration": 15,
    "start_time": "2022-08-19T03:55:24.757Z"
   },
   {
    "duration": 13,
    "start_time": "2022-08-19T03:55:24.774Z"
   },
   {
    "duration": 20,
    "start_time": "2022-08-19T03:55:24.789Z"
   },
   {
    "duration": 26,
    "start_time": "2022-08-19T03:55:24.810Z"
   },
   {
    "duration": 12,
    "start_time": "2022-08-19T03:55:24.838Z"
   },
   {
    "duration": 268,
    "start_time": "2022-08-19T03:55:24.851Z"
   },
   {
    "duration": 5,
    "start_time": "2022-08-19T03:55:25.121Z"
   },
   {
    "duration": 11,
    "start_time": "2022-08-19T03:55:25.128Z"
   },
   {
    "duration": 14,
    "start_time": "2022-08-19T03:55:25.141Z"
   },
   {
    "duration": 5,
    "start_time": "2022-08-19T03:55:25.156Z"
   },
   {
    "duration": 8,
    "start_time": "2022-08-19T03:55:25.162Z"
   },
   {
    "duration": 29,
    "start_time": "2022-08-19T03:55:25.172Z"
   },
   {
    "duration": 7,
    "start_time": "2022-08-19T03:55:25.203Z"
   },
   {
    "duration": 8,
    "start_time": "2022-08-19T03:55:25.212Z"
   },
   {
    "duration": 7,
    "start_time": "2022-08-19T03:55:25.222Z"
   },
   {
    "duration": 14,
    "start_time": "2022-08-19T03:55:25.230Z"
   },
   {
    "duration": 4,
    "start_time": "2022-08-19T03:55:25.246Z"
   },
   {
    "duration": 8,
    "start_time": "2022-08-19T03:55:25.251Z"
   },
   {
    "duration": 5,
    "start_time": "2022-08-19T03:55:25.260Z"
   },
   {
    "duration": 5,
    "start_time": "2022-08-19T03:55:25.266Z"
   },
   {
    "duration": 35,
    "start_time": "2022-08-19T03:55:25.272Z"
   },
   {
    "duration": 219,
    "start_time": "2022-08-19T03:55:25.309Z"
   },
   {
    "duration": 227,
    "start_time": "2022-08-19T03:55:25.530Z"
   },
   {
    "duration": 15,
    "start_time": "2022-08-19T03:55:25.758Z"
   },
   {
    "duration": 355,
    "start_time": "2022-08-19T03:55:25.775Z"
   },
   {
    "duration": 57,
    "start_time": "2022-08-19T03:55:26.131Z"
   },
   {
    "duration": 437,
    "start_time": "2022-08-19T03:55:26.202Z"
   },
   {
    "duration": 5,
    "start_time": "2022-08-19T03:55:26.641Z"
   },
   {
    "duration": 23,
    "start_time": "2022-08-19T03:55:26.647Z"
   },
   {
    "duration": 580,
    "start_time": "2022-08-19T03:55:26.671Z"
   },
   {
    "duration": 178,
    "start_time": "2022-08-19T03:55:27.253Z"
   },
   {
    "duration": 175,
    "start_time": "2022-08-19T03:55:27.433Z"
   },
   {
    "duration": 165,
    "start_time": "2022-08-19T03:55:27.610Z"
   },
   {
    "duration": 171,
    "start_time": "2022-08-19T03:55:27.776Z"
   },
   {
    "duration": 10,
    "start_time": "2022-08-19T03:55:27.948Z"
   },
   {
    "duration": 185,
    "start_time": "2022-08-19T03:55:27.960Z"
   },
   {
    "duration": 15,
    "start_time": "2022-08-19T03:55:28.147Z"
   },
   {
    "duration": 12,
    "start_time": "2022-08-19T03:55:28.164Z"
   },
   {
    "duration": 28,
    "start_time": "2022-08-19T03:55:28.178Z"
   },
   {
    "duration": 14,
    "start_time": "2022-08-19T03:55:28.207Z"
   },
   {
    "duration": 15,
    "start_time": "2022-08-19T03:55:28.222Z"
   },
   {
    "duration": 14,
    "start_time": "2022-08-19T03:55:28.239Z"
   },
   {
    "duration": 13,
    "start_time": "2022-08-19T03:55:28.255Z"
   },
   {
    "duration": 14,
    "start_time": "2022-08-19T03:55:28.300Z"
   },
   {
    "duration": 18,
    "start_time": "2022-08-19T03:55:28.315Z"
   },
   {
    "duration": 13,
    "start_time": "2022-08-19T03:55:28.334Z"
   },
   {
    "duration": 12,
    "start_time": "2022-08-19T03:55:28.348Z"
   },
   {
    "duration": 40,
    "start_time": "2022-08-19T03:55:28.362Z"
   },
   {
    "duration": 9,
    "start_time": "2022-08-19T03:55:28.403Z"
   },
   {
    "duration": 11,
    "start_time": "2022-08-19T03:55:28.413Z"
   },
   {
    "duration": 10,
    "start_time": "2022-08-19T03:55:28.425Z"
   },
   {
    "duration": 4,
    "start_time": "2022-08-19T03:55:28.436Z"
   },
   {
    "duration": 14,
    "start_time": "2022-08-19T03:59:28.656Z"
   },
   {
    "duration": 19,
    "start_time": "2022-08-19T04:00:02.480Z"
   },
   {
    "duration": 15,
    "start_time": "2022-08-19T04:00:32.307Z"
   },
   {
    "duration": 14,
    "start_time": "2022-08-19T04:01:15.572Z"
   },
   {
    "duration": 42,
    "start_time": "2022-08-22T03:44:47.063Z"
   },
   {
    "duration": 1325,
    "start_time": "2022-08-22T03:44:51.835Z"
   },
   {
    "duration": 93,
    "start_time": "2022-08-22T03:44:53.162Z"
   },
   {
    "duration": 17,
    "start_time": "2022-08-22T03:44:53.257Z"
   },
   {
    "duration": 13,
    "start_time": "2022-08-22T03:44:53.276Z"
   },
   {
    "duration": 79,
    "start_time": "2022-08-22T03:44:53.291Z"
   },
   {
    "duration": 0,
    "start_time": "2022-08-22T03:44:53.373Z"
   },
   {
    "duration": 0,
    "start_time": "2022-08-22T03:44:53.375Z"
   },
   {
    "duration": 0,
    "start_time": "2022-08-22T03:44:53.376Z"
   },
   {
    "duration": 0,
    "start_time": "2022-08-22T03:44:53.377Z"
   },
   {
    "duration": 0,
    "start_time": "2022-08-22T03:44:53.379Z"
   },
   {
    "duration": 0,
    "start_time": "2022-08-22T03:44:53.380Z"
   },
   {
    "duration": 0,
    "start_time": "2022-08-22T03:44:53.381Z"
   },
   {
    "duration": 0,
    "start_time": "2022-08-22T03:44:53.382Z"
   },
   {
    "duration": 0,
    "start_time": "2022-08-22T03:44:53.383Z"
   },
   {
    "duration": 0,
    "start_time": "2022-08-22T03:44:53.385Z"
   },
   {
    "duration": 0,
    "start_time": "2022-08-22T03:44:53.386Z"
   },
   {
    "duration": 0,
    "start_time": "2022-08-22T03:44:53.387Z"
   },
   {
    "duration": 0,
    "start_time": "2022-08-22T03:44:53.388Z"
   },
   {
    "duration": 0,
    "start_time": "2022-08-22T03:44:53.389Z"
   },
   {
    "duration": 0,
    "start_time": "2022-08-22T03:44:53.390Z"
   },
   {
    "duration": 0,
    "start_time": "2022-08-22T03:44:53.391Z"
   },
   {
    "duration": 0,
    "start_time": "2022-08-22T03:44:53.392Z"
   },
   {
    "duration": 0,
    "start_time": "2022-08-22T03:44:53.394Z"
   },
   {
    "duration": 0,
    "start_time": "2022-08-22T03:44:53.395Z"
   },
   {
    "duration": 0,
    "start_time": "2022-08-22T03:44:53.396Z"
   },
   {
    "duration": 0,
    "start_time": "2022-08-22T03:44:53.397Z"
   },
   {
    "duration": 0,
    "start_time": "2022-08-22T03:44:53.398Z"
   },
   {
    "duration": 0,
    "start_time": "2022-08-22T03:44:53.400Z"
   },
   {
    "duration": 0,
    "start_time": "2022-08-22T03:44:53.401Z"
   },
   {
    "duration": 0,
    "start_time": "2022-08-22T03:44:53.402Z"
   },
   {
    "duration": 0,
    "start_time": "2022-08-22T03:44:53.403Z"
   },
   {
    "duration": 0,
    "start_time": "2022-08-22T03:44:53.405Z"
   },
   {
    "duration": 0,
    "start_time": "2022-08-22T03:44:53.406Z"
   },
   {
    "duration": 0,
    "start_time": "2022-08-22T03:44:53.409Z"
   },
   {
    "duration": 0,
    "start_time": "2022-08-22T03:44:53.410Z"
   },
   {
    "duration": 0,
    "start_time": "2022-08-22T03:44:53.411Z"
   },
   {
    "duration": 0,
    "start_time": "2022-08-22T03:44:53.457Z"
   },
   {
    "duration": 0,
    "start_time": "2022-08-22T03:44:53.459Z"
   },
   {
    "duration": 0,
    "start_time": "2022-08-22T03:44:53.460Z"
   },
   {
    "duration": 0,
    "start_time": "2022-08-22T03:44:53.462Z"
   },
   {
    "duration": 0,
    "start_time": "2022-08-22T03:44:53.463Z"
   },
   {
    "duration": 1,
    "start_time": "2022-08-22T03:44:53.464Z"
   },
   {
    "duration": 0,
    "start_time": "2022-08-22T03:44:53.466Z"
   },
   {
    "duration": 0,
    "start_time": "2022-08-22T03:44:53.467Z"
   },
   {
    "duration": 0,
    "start_time": "2022-08-22T03:44:53.468Z"
   },
   {
    "duration": 0,
    "start_time": "2022-08-22T03:44:53.469Z"
   },
   {
    "duration": 0,
    "start_time": "2022-08-22T03:44:53.470Z"
   },
   {
    "duration": 0,
    "start_time": "2022-08-22T03:44:53.472Z"
   },
   {
    "duration": 0,
    "start_time": "2022-08-22T03:44:53.472Z"
   },
   {
    "duration": 0,
    "start_time": "2022-08-22T03:44:53.474Z"
   },
   {
    "duration": 0,
    "start_time": "2022-08-22T03:44:53.475Z"
   },
   {
    "duration": 0,
    "start_time": "2022-08-22T03:44:53.476Z"
   },
   {
    "duration": 0,
    "start_time": "2022-08-22T03:44:53.477Z"
   },
   {
    "duration": 0,
    "start_time": "2022-08-22T03:44:53.478Z"
   },
   {
    "duration": 0,
    "start_time": "2022-08-22T03:44:53.479Z"
   },
   {
    "duration": 9,
    "start_time": "2022-08-22T03:45:41.105Z"
   },
   {
    "duration": 105,
    "start_time": "2022-08-22T03:46:44.039Z"
   },
   {
    "duration": 50,
    "start_time": "2022-08-22T03:46:55.092Z"
   },
   {
    "duration": 11,
    "start_time": "2022-08-22T03:47:50.395Z"
   },
   {
    "duration": 9,
    "start_time": "2022-08-22T03:48:11.562Z"
   },
   {
    "duration": 10,
    "start_time": "2022-08-22T03:48:32.252Z"
   },
   {
    "duration": 53,
    "start_time": "2022-08-22T03:48:46.734Z"
   },
   {
    "duration": 12,
    "start_time": "2022-08-22T03:49:01.070Z"
   },
   {
    "duration": 12,
    "start_time": "2022-08-22T03:49:18.307Z"
   },
   {
    "duration": 11,
    "start_time": "2022-08-22T03:52:07.307Z"
   },
   {
    "duration": 14,
    "start_time": "2022-08-22T03:52:27.363Z"
   },
   {
    "duration": 12,
    "start_time": "2022-08-22T03:52:43.814Z"
   },
   {
    "duration": 13,
    "start_time": "2022-08-22T03:53:56.390Z"
   },
   {
    "duration": 12,
    "start_time": "2022-08-22T03:54:06.274Z"
   },
   {
    "duration": 1300,
    "start_time": "2022-08-23T19:07:20.087Z"
   },
   {
    "duration": 93,
    "start_time": "2022-08-23T19:07:21.389Z"
   },
   {
    "duration": 19,
    "start_time": "2022-08-23T19:07:21.483Z"
   },
   {
    "duration": 13,
    "start_time": "2022-08-23T19:07:21.504Z"
   },
   {
    "duration": 12,
    "start_time": "2022-08-23T19:07:21.518Z"
   },
   {
    "duration": 25,
    "start_time": "2022-08-23T19:07:21.531Z"
   },
   {
    "duration": 13,
    "start_time": "2022-08-23T19:07:21.558Z"
   },
   {
    "duration": 37,
    "start_time": "2022-08-23T19:07:21.572Z"
   },
   {
    "duration": 222,
    "start_time": "2022-08-23T19:07:21.611Z"
   },
   {
    "duration": 5,
    "start_time": "2022-08-23T19:07:21.835Z"
   },
   {
    "duration": 14,
    "start_time": "2022-08-23T19:07:21.842Z"
   },
   {
    "duration": 14,
    "start_time": "2022-08-23T19:07:21.858Z"
   },
   {
    "duration": 5,
    "start_time": "2022-08-23T19:07:21.873Z"
   },
   {
    "duration": 6,
    "start_time": "2022-08-23T19:07:21.898Z"
   },
   {
    "duration": 6,
    "start_time": "2022-08-23T19:07:21.905Z"
   },
   {
    "duration": 9,
    "start_time": "2022-08-23T19:07:21.913Z"
   },
   {
    "duration": 15,
    "start_time": "2022-08-23T19:07:21.924Z"
   },
   {
    "duration": 26,
    "start_time": "2022-08-23T19:07:21.940Z"
   },
   {
    "duration": 24,
    "start_time": "2022-08-23T19:07:21.967Z"
   },
   {
    "duration": 20,
    "start_time": "2022-08-23T19:07:21.993Z"
   },
   {
    "duration": 6,
    "start_time": "2022-08-23T19:07:22.015Z"
   },
   {
    "duration": 18,
    "start_time": "2022-08-23T19:07:22.023Z"
   },
   {
    "duration": 10,
    "start_time": "2022-08-23T19:07:22.043Z"
   },
   {
    "duration": 4,
    "start_time": "2022-08-23T19:07:22.055Z"
   },
   {
    "duration": 13,
    "start_time": "2022-08-23T19:07:22.060Z"
   },
   {
    "duration": 200,
    "start_time": "2022-08-23T19:07:22.075Z"
   },
   {
    "duration": 198,
    "start_time": "2022-08-23T19:07:22.276Z"
   },
   {
    "duration": 21,
    "start_time": "2022-08-23T19:07:22.478Z"
   },
   {
    "duration": 298,
    "start_time": "2022-08-23T19:07:22.500Z"
   },
   {
    "duration": 51,
    "start_time": "2022-08-23T19:07:22.800Z"
   },
   {
    "duration": 563,
    "start_time": "2022-08-23T19:07:22.853Z"
   },
   {
    "duration": 5,
    "start_time": "2022-08-23T19:07:23.418Z"
   },
   {
    "duration": 23,
    "start_time": "2022-08-23T19:07:23.424Z"
   },
   {
    "duration": 490,
    "start_time": "2022-08-23T19:07:23.448Z"
   },
   {
    "duration": 170,
    "start_time": "2022-08-23T19:07:23.939Z"
   },
   {
    "duration": 162,
    "start_time": "2022-08-23T19:07:24.111Z"
   },
   {
    "duration": 169,
    "start_time": "2022-08-23T19:07:24.274Z"
   },
   {
    "duration": 202,
    "start_time": "2022-08-23T19:07:24.446Z"
   },
   {
    "duration": 10,
    "start_time": "2022-08-23T19:07:24.650Z"
   },
   {
    "duration": 258,
    "start_time": "2022-08-23T19:07:24.662Z"
   },
   {
    "duration": 14,
    "start_time": "2022-08-23T19:07:24.921Z"
   },
   {
    "duration": 14,
    "start_time": "2022-08-23T19:07:24.937Z"
   },
   {
    "duration": 13,
    "start_time": "2022-08-23T19:07:24.953Z"
   },
   {
    "duration": 39,
    "start_time": "2022-08-23T19:07:24.967Z"
   },
   {
    "duration": 13,
    "start_time": "2022-08-23T19:07:25.007Z"
   },
   {
    "duration": 15,
    "start_time": "2022-08-23T19:07:25.021Z"
   },
   {
    "duration": 13,
    "start_time": "2022-08-23T19:07:25.038Z"
   },
   {
    "duration": 14,
    "start_time": "2022-08-23T19:07:25.052Z"
   },
   {
    "duration": 40,
    "start_time": "2022-08-23T19:07:25.067Z"
   },
   {
    "duration": 16,
    "start_time": "2022-08-23T19:07:25.109Z"
   },
   {
    "duration": 11,
    "start_time": "2022-08-23T19:07:25.127Z"
   },
   {
    "duration": 12,
    "start_time": "2022-08-23T19:07:25.139Z"
   },
   {
    "duration": 10,
    "start_time": "2022-08-23T19:07:25.152Z"
   },
   {
    "duration": 16,
    "start_time": "2022-08-23T19:07:25.163Z"
   },
   {
    "duration": 7,
    "start_time": "2022-08-23T19:07:25.199Z"
   },
   {
    "duration": 10,
    "start_time": "2022-08-23T19:07:25.207Z"
   },
   {
    "duration": 6,
    "start_time": "2022-08-23T19:09:14.233Z"
   },
   {
    "duration": 549,
    "start_time": "2022-08-23T19:09:44.812Z"
   },
   {
    "duration": 5,
    "start_time": "2022-08-23T19:11:39.379Z"
   },
   {
    "duration": 5,
    "start_time": "2022-08-23T19:13:20.913Z"
   },
   {
    "duration": 5,
    "start_time": "2022-08-23T19:13:29.708Z"
   },
   {
    "duration": 2,
    "start_time": "2022-08-23T19:14:08.689Z"
   },
   {
    "duration": 55,
    "start_time": "2022-08-23T19:14:08.693Z"
   },
   {
    "duration": 12,
    "start_time": "2022-08-23T19:14:08.750Z"
   },
   {
    "duration": 13,
    "start_time": "2022-08-23T19:14:08.764Z"
   },
   {
    "duration": 13,
    "start_time": "2022-08-23T19:14:08.779Z"
   },
   {
    "duration": 26,
    "start_time": "2022-08-23T19:14:08.799Z"
   },
   {
    "duration": 14,
    "start_time": "2022-08-23T19:14:08.826Z"
   },
   {
    "duration": 13,
    "start_time": "2022-08-23T19:14:08.841Z"
   },
   {
    "duration": 233,
    "start_time": "2022-08-23T19:14:08.856Z"
   },
   {
    "duration": 8,
    "start_time": "2022-08-23T19:14:09.091Z"
   },
   {
    "duration": 14,
    "start_time": "2022-08-23T19:14:09.101Z"
   },
   {
    "duration": 13,
    "start_time": "2022-08-23T19:14:09.116Z"
   },
   {
    "duration": 4,
    "start_time": "2022-08-23T19:14:09.131Z"
   },
   {
    "duration": 5,
    "start_time": "2022-08-23T19:14:09.136Z"
   },
   {
    "duration": 3,
    "start_time": "2022-08-23T19:14:09.143Z"
   },
   {
    "duration": 8,
    "start_time": "2022-08-23T19:14:09.148Z"
   },
   {
    "duration": 4,
    "start_time": "2022-08-23T19:14:12.467Z"
   },
   {
    "duration": 6,
    "start_time": "2022-08-23T19:14:26.506Z"
   },
   {
    "duration": 11,
    "start_time": "2022-08-23T19:14:54.960Z"
   },
   {
    "duration": 5,
    "start_time": "2022-08-23T19:29:35.743Z"
   },
   {
    "duration": 3,
    "start_time": "2022-08-23T19:30:34.897Z"
   },
   {
    "duration": 58,
    "start_time": "2022-08-23T19:30:34.903Z"
   },
   {
    "duration": 18,
    "start_time": "2022-08-23T19:30:34.964Z"
   },
   {
    "duration": 20,
    "start_time": "2022-08-23T19:30:34.984Z"
   },
   {
    "duration": 14,
    "start_time": "2022-08-23T19:30:35.006Z"
   },
   {
    "duration": 26,
    "start_time": "2022-08-23T19:30:35.022Z"
   },
   {
    "duration": 13,
    "start_time": "2022-08-23T19:30:35.049Z"
   },
   {
    "duration": 39,
    "start_time": "2022-08-23T19:30:35.063Z"
   },
   {
    "duration": 234,
    "start_time": "2022-08-23T19:30:35.104Z"
   },
   {
    "duration": 227,
    "start_time": "2022-08-23T19:30:37.721Z"
   },
   {
    "duration": 7,
    "start_time": "2022-08-23T19:30:42.343Z"
   },
   {
    "duration": 5,
    "start_time": "2022-08-23T19:31:56.508Z"
   },
   {
    "duration": 6,
    "start_time": "2022-08-23T19:32:10.193Z"
   },
   {
    "duration": 6,
    "start_time": "2022-08-23T19:34:24.302Z"
   },
   {
    "duration": 5,
    "start_time": "2022-08-23T19:34:51.793Z"
   },
   {
    "duration": 17,
    "start_time": "2022-08-23T19:35:46.695Z"
   },
   {
    "duration": 11,
    "start_time": "2022-08-23T19:47:22.956Z"
   },
   {
    "duration": 6,
    "start_time": "2022-08-23T19:48:23.835Z"
   },
   {
    "duration": 5,
    "start_time": "2022-08-23T19:48:36.375Z"
   },
   {
    "duration": 21,
    "start_time": "2022-08-23T19:49:02.567Z"
   },
   {
    "duration": 9,
    "start_time": "2022-08-23T19:49:17.878Z"
   },
   {
    "duration": 6,
    "start_time": "2022-08-23T20:00:58.272Z"
   },
   {
    "duration": 5,
    "start_time": "2022-08-23T20:01:18.116Z"
   },
   {
    "duration": 12,
    "start_time": "2022-08-23T20:01:39.849Z"
   },
   {
    "duration": 10,
    "start_time": "2022-08-23T20:04:36.974Z"
   },
   {
    "duration": 11,
    "start_time": "2022-08-23T20:05:35.246Z"
   },
   {
    "duration": 8,
    "start_time": "2022-08-23T20:08:55.214Z"
   },
   {
    "duration": 29,
    "start_time": "2022-08-23T20:09:08.836Z"
   },
   {
    "duration": 7,
    "start_time": "2022-08-23T20:13:09.336Z"
   },
   {
    "duration": 7,
    "start_time": "2022-08-23T20:13:47.730Z"
   },
   {
    "duration": 5,
    "start_time": "2022-08-23T20:14:49.696Z"
   },
   {
    "duration": 1229,
    "start_time": "2022-08-24T03:04:44.006Z"
   },
   {
    "duration": 114,
    "start_time": "2022-08-24T03:04:45.237Z"
   },
   {
    "duration": 16,
    "start_time": "2022-08-24T03:04:45.353Z"
   },
   {
    "duration": 13,
    "start_time": "2022-08-24T03:04:45.371Z"
   },
   {
    "duration": 13,
    "start_time": "2022-08-24T03:04:45.385Z"
   },
   {
    "duration": 27,
    "start_time": "2022-08-24T03:04:45.399Z"
   },
   {
    "duration": 14,
    "start_time": "2022-08-24T03:04:45.427Z"
   },
   {
    "duration": 13,
    "start_time": "2022-08-24T03:04:45.443Z"
   },
   {
    "duration": 5,
    "start_time": "2022-08-24T03:04:45.486Z"
   },
   {
    "duration": 5,
    "start_time": "2022-08-24T03:04:45.494Z"
   },
   {
    "duration": 12,
    "start_time": "2022-08-24T03:04:45.501Z"
   },
   {
    "duration": 11,
    "start_time": "2022-08-24T03:04:45.515Z"
   },
   {
    "duration": 253,
    "start_time": "2022-08-24T03:04:45.527Z"
   },
   {
    "duration": 8,
    "start_time": "2022-08-24T03:04:45.781Z"
   },
   {
    "duration": 8,
    "start_time": "2022-08-24T03:04:45.791Z"
   },
   {
    "duration": 4,
    "start_time": "2022-08-24T03:04:45.801Z"
   },
   {
    "duration": 7,
    "start_time": "2022-08-24T03:04:45.806Z"
   },
   {
    "duration": 7,
    "start_time": "2022-08-24T03:04:45.814Z"
   },
   {
    "duration": 6,
    "start_time": "2022-08-24T03:04:45.822Z"
   },
   {
    "duration": 4,
    "start_time": "2022-08-24T03:04:45.830Z"
   },
   {
    "duration": 7,
    "start_time": "2022-08-24T03:04:45.836Z"
   },
   {
    "duration": 44,
    "start_time": "2022-08-24T03:04:45.845Z"
   },
   {
    "duration": 8,
    "start_time": "2022-08-24T03:04:45.891Z"
   },
   {
    "duration": 5,
    "start_time": "2022-08-24T03:04:45.900Z"
   },
   {
    "duration": 13,
    "start_time": "2022-08-24T03:04:45.907Z"
   },
   {
    "duration": 16,
    "start_time": "2022-08-24T03:04:45.921Z"
   },
   {
    "duration": 7,
    "start_time": "2022-08-24T03:04:45.938Z"
   },
   {
    "duration": 5,
    "start_time": "2022-08-24T03:04:45.948Z"
   },
   {
    "duration": 8,
    "start_time": "2022-08-24T03:04:45.954Z"
   },
   {
    "duration": 26,
    "start_time": "2022-08-24T03:04:45.963Z"
   },
   {
    "duration": 18,
    "start_time": "2022-08-24T03:04:45.991Z"
   },
   {
    "duration": 214,
    "start_time": "2022-08-24T03:04:46.010Z"
   },
   {
    "duration": 256,
    "start_time": "2022-08-24T03:04:46.225Z"
   },
   {
    "duration": 21,
    "start_time": "2022-08-24T03:04:46.483Z"
   },
   {
    "duration": 6,
    "start_time": "2022-08-24T03:04:46.505Z"
   },
   {
    "duration": 7,
    "start_time": "2022-08-24T03:04:46.512Z"
   },
   {
    "duration": 15,
    "start_time": "2022-08-24T03:04:46.521Z"
   },
   {
    "duration": 342,
    "start_time": "2022-08-24T03:04:46.537Z"
   },
   {
    "duration": 56,
    "start_time": "2022-08-24T03:04:46.881Z"
   },
   {
    "duration": 498,
    "start_time": "2022-08-24T03:04:46.939Z"
   },
   {
    "duration": 4,
    "start_time": "2022-08-24T03:04:47.439Z"
   },
   {
    "duration": 23,
    "start_time": "2022-08-24T03:04:47.444Z"
   },
   {
    "duration": 546,
    "start_time": "2022-08-24T03:04:47.468Z"
   },
   {
    "duration": 176,
    "start_time": "2022-08-24T03:04:48.016Z"
   },
   {
    "duration": 151,
    "start_time": "2022-08-24T03:04:48.194Z"
   },
   {
    "duration": 161,
    "start_time": "2022-08-24T03:04:48.347Z"
   },
   {
    "duration": 156,
    "start_time": "2022-08-24T03:04:48.509Z"
   },
   {
    "duration": 10,
    "start_time": "2022-08-24T03:04:48.666Z"
   },
   {
    "duration": 233,
    "start_time": "2022-08-24T03:04:48.686Z"
   },
   {
    "duration": 13,
    "start_time": "2022-08-24T03:04:48.921Z"
   },
   {
    "duration": 12,
    "start_time": "2022-08-24T03:04:48.936Z"
   },
   {
    "duration": 37,
    "start_time": "2022-08-24T03:04:48.950Z"
   },
   {
    "duration": 14,
    "start_time": "2022-08-24T03:04:48.988Z"
   },
   {
    "duration": 14,
    "start_time": "2022-08-24T03:04:49.004Z"
   },
   {
    "duration": 15,
    "start_time": "2022-08-24T03:04:49.020Z"
   },
   {
    "duration": 11,
    "start_time": "2022-08-24T03:04:49.037Z"
   },
   {
    "duration": 41,
    "start_time": "2022-08-24T03:04:49.050Z"
   },
   {
    "duration": 12,
    "start_time": "2022-08-24T03:04:49.093Z"
   },
   {
    "duration": 20,
    "start_time": "2022-08-24T03:04:49.106Z"
   },
   {
    "duration": 12,
    "start_time": "2022-08-24T03:04:49.128Z"
   },
   {
    "duration": 13,
    "start_time": "2022-08-24T03:04:49.141Z"
   },
   {
    "duration": 7,
    "start_time": "2022-08-24T03:04:49.155Z"
   },
   {
    "duration": 26,
    "start_time": "2022-08-24T03:04:49.163Z"
   },
   {
    "duration": 9,
    "start_time": "2022-08-24T03:04:49.191Z"
   },
   {
    "duration": 6,
    "start_time": "2022-08-24T03:04:49.201Z"
   },
   {
    "duration": 14,
    "start_time": "2022-08-24T03:08:45.857Z"
   },
   {
    "duration": 35,
    "start_time": "2022-08-24T03:09:24.145Z"
   },
   {
    "duration": 52,
    "start_time": "2022-08-24T03:15:19.375Z"
   },
   {
    "duration": 53,
    "start_time": "2022-08-24T03:16:01.892Z"
   },
   {
    "duration": 14,
    "start_time": "2022-08-24T03:16:35.582Z"
   },
   {
    "duration": 64,
    "start_time": "2022-08-24T03:17:04.244Z"
   },
   {
    "duration": 94,
    "start_time": "2022-08-24T03:17:24.422Z"
   },
   {
    "duration": 70,
    "start_time": "2022-08-24T03:18:17.552Z"
   },
   {
    "duration": 67,
    "start_time": "2022-08-24T03:19:07.889Z"
   },
   {
    "duration": 57,
    "start_time": "2022-08-24T03:19:24.396Z"
   },
   {
    "duration": 825,
    "start_time": "2022-08-24T03:25:22.186Z"
   },
   {
    "duration": 871,
    "start_time": "2022-08-24T03:26:21.758Z"
   },
   {
    "duration": 3798,
    "start_time": "2022-08-24T03:27:42.667Z"
   },
   {
    "duration": 4307,
    "start_time": "2022-08-24T03:28:11.604Z"
   },
   {
    "duration": 3999,
    "start_time": "2022-08-24T03:28:48.889Z"
   },
   {
    "duration": 62,
    "start_time": "2022-08-24T03:29:36.227Z"
   },
   {
    "duration": 23,
    "start_time": "2022-08-24T03:30:20.076Z"
   },
   {
    "duration": 47,
    "start_time": "2022-08-24T03:30:39.832Z"
   },
   {
    "duration": 10,
    "start_time": "2022-08-24T03:35:49.743Z"
   },
   {
    "duration": 14,
    "start_time": "2022-08-24T03:36:07.241Z"
   },
   {
    "duration": 14,
    "start_time": "2022-08-24T03:36:18.519Z"
   },
   {
    "duration": 13,
    "start_time": "2022-08-24T03:36:53.656Z"
   },
   {
    "duration": 64,
    "start_time": "2022-08-24T03:39:24.634Z"
   },
   {
    "duration": 14,
    "start_time": "2022-08-24T03:40:49.524Z"
   },
   {
    "duration": 4,
    "start_time": "2022-08-24T03:41:38.375Z"
   },
   {
    "duration": 4,
    "start_time": "2022-08-24T03:42:06.711Z"
   },
   {
    "duration": 57,
    "start_time": "2022-08-24T03:42:29.465Z"
   },
   {
    "duration": 34,
    "start_time": "2022-08-24T03:42:46.191Z"
   },
   {
    "duration": 4,
    "start_time": "2022-08-24T03:44:28.232Z"
   },
   {
    "duration": 62,
    "start_time": "2022-08-24T03:44:58.024Z"
   },
   {
    "duration": 9,
    "start_time": "2022-08-24T03:45:58.133Z"
   },
   {
    "duration": 12,
    "start_time": "2022-08-24T03:46:16.295Z"
   },
   {
    "duration": 244,
    "start_time": "2022-08-24T03:47:27.453Z"
   },
   {
    "duration": 18,
    "start_time": "2022-08-24T03:48:19.336Z"
   },
   {
    "duration": 9,
    "start_time": "2022-08-24T03:50:55.673Z"
   },
   {
    "duration": 4,
    "start_time": "2022-08-24T03:54:42.476Z"
   },
   {
    "duration": 52,
    "start_time": "2022-08-24T03:54:43.616Z"
   },
   {
    "duration": 13,
    "start_time": "2022-08-24T03:54:44.003Z"
   },
   {
    "duration": 13,
    "start_time": "2022-08-24T03:54:44.195Z"
   },
   {
    "duration": 13,
    "start_time": "2022-08-24T03:54:44.386Z"
   },
   {
    "duration": 27,
    "start_time": "2022-08-24T03:54:44.797Z"
   },
   {
    "duration": 14,
    "start_time": "2022-08-24T03:54:45.526Z"
   },
   {
    "duration": 15,
    "start_time": "2022-08-24T03:54:47.656Z"
   },
   {
    "duration": 6,
    "start_time": "2022-08-24T03:54:49.838Z"
   },
   {
    "duration": 5,
    "start_time": "2022-08-24T03:54:50.103Z"
   },
   {
    "duration": 13,
    "start_time": "2022-08-24T03:54:50.440Z"
   },
   {
    "duration": 11,
    "start_time": "2022-08-24T03:54:51.117Z"
   },
   {
    "duration": 219,
    "start_time": "2022-08-24T03:54:51.818Z"
   },
   {
    "duration": 5,
    "start_time": "2022-08-24T03:54:52.121Z"
   },
   {
    "duration": 7,
    "start_time": "2022-08-24T03:54:52.388Z"
   },
   {
    "duration": 5,
    "start_time": "2022-08-24T03:54:52.688Z"
   },
   {
    "duration": 5,
    "start_time": "2022-08-24T03:54:53.388Z"
   },
   {
    "duration": 5,
    "start_time": "2022-08-24T03:54:55.418Z"
   },
   {
    "duration": 6,
    "start_time": "2022-08-24T03:54:56.088Z"
   },
   {
    "duration": 4,
    "start_time": "2022-08-24T03:54:57.117Z"
   },
   {
    "duration": 5,
    "start_time": "2022-08-24T03:54:58.162Z"
   },
   {
    "duration": 13,
    "start_time": "2022-08-24T03:54:59.218Z"
   },
   {
    "duration": 7,
    "start_time": "2022-08-24T03:54:59.920Z"
   },
   {
    "duration": 4,
    "start_time": "2022-08-24T03:55:00.263Z"
   },
   {
    "duration": 7,
    "start_time": "2022-08-24T03:55:01.601Z"
   },
   {
    "duration": 16,
    "start_time": "2022-08-24T03:55:02.141Z"
   },
   {
    "duration": 5,
    "start_time": "2022-08-24T03:55:03.578Z"
   },
   {
    "duration": 5,
    "start_time": "2022-08-24T03:55:04.163Z"
   },
   {
    "duration": 4,
    "start_time": "2022-08-24T03:55:05.962Z"
   },
   {
    "duration": 4,
    "start_time": "2022-08-24T03:55:06.419Z"
   },
   {
    "duration": 13,
    "start_time": "2022-08-24T03:55:06.723Z"
   },
   {
    "duration": 621,
    "start_time": "2022-08-24T03:55:07.087Z"
   },
   {
    "duration": 218,
    "start_time": "2022-08-24T03:55:07.710Z"
   },
   {
    "duration": 19,
    "start_time": "2022-08-24T03:55:07.930Z"
   },
   {
    "duration": 8,
    "start_time": "2022-08-24T03:55:08.506Z"
   },
   {
    "duration": 4,
    "start_time": "2022-08-24T03:55:11.361Z"
   },
   {
    "duration": 17,
    "start_time": "2022-08-24T03:55:14.025Z"
   },
   {
    "duration": 325,
    "start_time": "2022-08-24T03:55:17.046Z"
   },
   {
    "duration": 57,
    "start_time": "2022-08-24T03:55:20.120Z"
   },
   {
    "duration": 56,
    "start_time": "2022-08-24T03:55:21.531Z"
   },
   {
    "duration": 16,
    "start_time": "2022-08-24T03:55:52.349Z"
   },
   {
    "duration": 3,
    "start_time": "2022-08-24T03:55:56.899Z"
   },
   {
    "duration": 5,
    "start_time": "2022-08-24T03:56:26.317Z"
   },
   {
    "duration": 9,
    "start_time": "2022-08-24T03:58:06.658Z"
   },
   {
    "duration": 3,
    "start_time": "2022-08-24T04:07:19.487Z"
   },
   {
    "duration": 56,
    "start_time": "2022-08-24T04:07:19.491Z"
   },
   {
    "duration": 12,
    "start_time": "2022-08-24T04:07:19.549Z"
   },
   {
    "duration": 17,
    "start_time": "2022-08-24T04:07:19.562Z"
   },
   {
    "duration": 17,
    "start_time": "2022-08-24T04:07:19.580Z"
   },
   {
    "duration": 26,
    "start_time": "2022-08-24T04:07:19.599Z"
   },
   {
    "duration": 16,
    "start_time": "2022-08-24T04:07:19.626Z"
   },
   {
    "duration": 13,
    "start_time": "2022-08-24T04:07:19.644Z"
   },
   {
    "duration": 5,
    "start_time": "2022-08-24T04:07:19.687Z"
   },
   {
    "duration": 6,
    "start_time": "2022-08-24T04:07:19.694Z"
   },
   {
    "duration": 13,
    "start_time": "2022-08-24T04:07:19.703Z"
   },
   {
    "duration": 11,
    "start_time": "2022-08-24T04:07:19.717Z"
   },
   {
    "duration": 257,
    "start_time": "2022-08-24T04:07:19.730Z"
   },
   {
    "duration": 5,
    "start_time": "2022-08-24T04:07:19.988Z"
   },
   {
    "duration": 8,
    "start_time": "2022-08-24T04:07:19.995Z"
   },
   {
    "duration": 6,
    "start_time": "2022-08-24T04:07:20.004Z"
   },
   {
    "duration": 18,
    "start_time": "2022-08-24T04:07:20.011Z"
   },
   {
    "duration": 15,
    "start_time": "2022-08-24T04:07:20.031Z"
   },
   {
    "duration": 7,
    "start_time": "2022-08-24T04:07:20.048Z"
   },
   {
    "duration": 6,
    "start_time": "2022-08-24T04:07:20.056Z"
   },
   {
    "duration": 15,
    "start_time": "2022-08-24T04:07:20.063Z"
   },
   {
    "duration": 17,
    "start_time": "2022-08-24T04:07:20.079Z"
   },
   {
    "duration": 8,
    "start_time": "2022-08-24T04:07:20.098Z"
   },
   {
    "duration": 6,
    "start_time": "2022-08-24T04:07:20.107Z"
   },
   {
    "duration": 8,
    "start_time": "2022-08-24T04:07:20.114Z"
   },
   {
    "duration": 16,
    "start_time": "2022-08-24T04:07:20.123Z"
   },
   {
    "duration": 6,
    "start_time": "2022-08-24T04:07:20.141Z"
   },
   {
    "duration": 7,
    "start_time": "2022-08-24T04:07:20.149Z"
   },
   {
    "duration": 3,
    "start_time": "2022-08-24T04:07:20.186Z"
   },
   {
    "duration": 5,
    "start_time": "2022-08-24T04:07:20.191Z"
   },
   {
    "duration": 13,
    "start_time": "2022-08-24T04:07:20.198Z"
   },
   {
    "duration": 207,
    "start_time": "2022-08-24T04:07:20.213Z"
   },
   {
    "duration": 313,
    "start_time": "2022-08-24T04:07:20.421Z"
   },
   {
    "duration": 20,
    "start_time": "2022-08-24T04:07:20.735Z"
   },
   {
    "duration": 7,
    "start_time": "2022-08-24T04:07:20.756Z"
   },
   {
    "duration": 22,
    "start_time": "2022-08-24T04:07:20.765Z"
   },
   {
    "duration": 15,
    "start_time": "2022-08-24T04:07:20.789Z"
   },
   {
    "duration": 324,
    "start_time": "2022-08-24T04:07:20.805Z"
   },
   {
    "duration": 63,
    "start_time": "2022-08-24T04:07:21.131Z"
   },
   {
    "duration": 55,
    "start_time": "2022-08-24T04:07:21.196Z"
   },
   {
    "duration": 16,
    "start_time": "2022-08-24T04:07:21.253Z"
   },
   {
    "duration": 4,
    "start_time": "2022-08-24T04:07:21.287Z"
   },
   {
    "duration": 24,
    "start_time": "2022-08-24T04:07:21.292Z"
   },
   {
    "duration": 433,
    "start_time": "2022-08-24T04:07:21.317Z"
   },
   {
    "duration": 4,
    "start_time": "2022-08-24T04:07:21.752Z"
   },
   {
    "duration": 32,
    "start_time": "2022-08-24T04:07:21.758Z"
   },
   {
    "duration": 457,
    "start_time": "2022-08-24T04:07:21.791Z"
   },
   {
    "duration": 168,
    "start_time": "2022-08-24T04:07:22.250Z"
   },
   {
    "duration": 175,
    "start_time": "2022-08-24T04:07:22.420Z"
   },
   {
    "duration": 177,
    "start_time": "2022-08-24T04:07:22.597Z"
   },
   {
    "duration": 154,
    "start_time": "2022-08-24T04:07:22.775Z"
   },
   {
    "duration": 10,
    "start_time": "2022-08-24T04:07:22.930Z"
   },
   {
    "duration": 274,
    "start_time": "2022-08-24T04:07:22.941Z"
   },
   {
    "duration": 14,
    "start_time": "2022-08-24T04:07:23.216Z"
   },
   {
    "duration": 14,
    "start_time": "2022-08-24T04:07:23.231Z"
   },
   {
    "duration": 13,
    "start_time": "2022-08-24T04:07:23.247Z"
   },
   {
    "duration": 34,
    "start_time": "2022-08-24T04:07:23.262Z"
   },
   {
    "duration": 12,
    "start_time": "2022-08-24T04:07:23.297Z"
   },
   {
    "duration": 14,
    "start_time": "2022-08-24T04:07:23.311Z"
   },
   {
    "duration": 13,
    "start_time": "2022-08-24T04:07:23.326Z"
   },
   {
    "duration": 14,
    "start_time": "2022-08-24T04:07:23.341Z"
   },
   {
    "duration": 38,
    "start_time": "2022-08-24T04:07:23.357Z"
   },
   {
    "duration": 13,
    "start_time": "2022-08-24T04:07:23.397Z"
   },
   {
    "duration": 15,
    "start_time": "2022-08-24T04:07:23.412Z"
   },
   {
    "duration": 12,
    "start_time": "2022-08-24T04:07:23.429Z"
   },
   {
    "duration": 22,
    "start_time": "2022-08-24T04:07:23.443Z"
   },
   {
    "duration": 18,
    "start_time": "2022-08-24T04:07:23.466Z"
   },
   {
    "duration": 14,
    "start_time": "2022-08-24T04:07:23.486Z"
   },
   {
    "duration": 4,
    "start_time": "2022-08-24T04:07:23.502Z"
   },
   {
    "duration": 1395,
    "start_time": "2022-08-24T07:27:14.030Z"
   },
   {
    "duration": 95,
    "start_time": "2022-08-24T07:27:15.428Z"
   },
   {
    "duration": 20,
    "start_time": "2022-08-24T07:27:15.525Z"
   },
   {
    "duration": 15,
    "start_time": "2022-08-24T07:27:15.547Z"
   },
   {
    "duration": 14,
    "start_time": "2022-08-24T07:27:15.564Z"
   },
   {
    "duration": 53,
    "start_time": "2022-08-24T07:27:15.580Z"
   },
   {
    "duration": 18,
    "start_time": "2022-08-24T07:27:15.635Z"
   },
   {
    "duration": 18,
    "start_time": "2022-08-24T07:27:15.655Z"
   },
   {
    "duration": 29,
    "start_time": "2022-08-24T07:27:15.675Z"
   },
   {
    "duration": 5,
    "start_time": "2022-08-24T07:27:15.707Z"
   },
   {
    "duration": 19,
    "start_time": "2022-08-24T07:27:15.713Z"
   },
   {
    "duration": 15,
    "start_time": "2022-08-24T07:27:15.733Z"
   },
   {
    "duration": 283,
    "start_time": "2022-08-24T07:27:15.750Z"
   },
   {
    "duration": 5,
    "start_time": "2022-08-24T07:27:16.035Z"
   },
   {
    "duration": 11,
    "start_time": "2022-08-24T07:27:16.041Z"
   },
   {
    "duration": 5,
    "start_time": "2022-08-24T07:27:16.053Z"
   },
   {
    "duration": 7,
    "start_time": "2022-08-24T07:27:16.060Z"
   },
   {
    "duration": 6,
    "start_time": "2022-08-24T07:27:16.069Z"
   },
   {
    "duration": 7,
    "start_time": "2022-08-24T07:27:16.103Z"
   },
   {
    "duration": 4,
    "start_time": "2022-08-24T07:27:16.112Z"
   },
   {
    "duration": 9,
    "start_time": "2022-08-24T07:27:16.118Z"
   },
   {
    "duration": 17,
    "start_time": "2022-08-24T07:27:16.129Z"
   },
   {
    "duration": 9,
    "start_time": "2022-08-24T07:27:16.148Z"
   },
   {
    "duration": 6,
    "start_time": "2022-08-24T07:27:16.158Z"
   },
   {
    "duration": 40,
    "start_time": "2022-08-24T07:27:16.165Z"
   },
   {
    "duration": 18,
    "start_time": "2022-08-24T07:27:16.206Z"
   },
   {
    "duration": 4,
    "start_time": "2022-08-24T07:27:16.226Z"
   },
   {
    "duration": 6,
    "start_time": "2022-08-24T07:27:16.234Z"
   },
   {
    "duration": 8,
    "start_time": "2022-08-24T07:27:16.241Z"
   },
   {
    "duration": 5,
    "start_time": "2022-08-24T07:27:16.251Z"
   },
   {
    "duration": 23,
    "start_time": "2022-08-24T07:27:16.258Z"
   },
   {
    "duration": 246,
    "start_time": "2022-08-24T07:27:16.304Z"
   },
   {
    "duration": 270,
    "start_time": "2022-08-24T07:27:16.552Z"
   },
   {
    "duration": 22,
    "start_time": "2022-08-24T07:27:16.824Z"
   },
   {
    "duration": 7,
    "start_time": "2022-08-24T07:27:16.848Z"
   },
   {
    "duration": 8,
    "start_time": "2022-08-24T07:27:16.856Z"
   },
   {
    "duration": 47,
    "start_time": "2022-08-24T07:27:16.865Z"
   },
   {
    "duration": 436,
    "start_time": "2022-08-24T07:27:16.913Z"
   },
   {
    "duration": 73,
    "start_time": "2022-08-24T07:27:17.350Z"
   },
   {
    "duration": 81,
    "start_time": "2022-08-24T07:27:17.425Z"
   },
   {
    "duration": 102,
    "start_time": "2022-08-24T07:27:17.508Z"
   },
   {
    "duration": 7,
    "start_time": "2022-08-24T07:27:17.611Z"
   },
   {
    "duration": 6,
    "start_time": "2022-08-24T07:27:17.620Z"
   },
   {
    "duration": 558,
    "start_time": "2022-08-24T07:27:17.627Z"
   },
   {
    "duration": 4,
    "start_time": "2022-08-24T07:27:18.187Z"
   },
   {
    "duration": 56,
    "start_time": "2022-08-24T07:27:18.193Z"
   },
   {
    "duration": 592,
    "start_time": "2022-08-24T07:27:18.251Z"
   },
   {
    "duration": 302,
    "start_time": "2022-08-24T07:27:18.846Z"
   },
   {
    "duration": 181,
    "start_time": "2022-08-24T07:27:19.150Z"
   },
   {
    "duration": 183,
    "start_time": "2022-08-24T07:27:19.333Z"
   },
   {
    "duration": 183,
    "start_time": "2022-08-24T07:27:19.518Z"
   },
   {
    "duration": 9,
    "start_time": "2022-08-24T07:27:19.704Z"
   },
   {
    "duration": 281,
    "start_time": "2022-08-24T07:27:19.715Z"
   },
   {
    "duration": 20,
    "start_time": "2022-08-24T07:27:19.997Z"
   },
   {
    "duration": 14,
    "start_time": "2022-08-24T07:27:20.018Z"
   },
   {
    "duration": 14,
    "start_time": "2022-08-24T07:27:20.033Z"
   },
   {
    "duration": 14,
    "start_time": "2022-08-24T07:27:20.048Z"
   },
   {
    "duration": 45,
    "start_time": "2022-08-24T07:27:20.064Z"
   },
   {
    "duration": 14,
    "start_time": "2022-08-24T07:27:20.111Z"
   },
   {
    "duration": 21,
    "start_time": "2022-08-24T07:27:20.127Z"
   },
   {
    "duration": 22,
    "start_time": "2022-08-24T07:27:20.149Z"
   },
   {
    "duration": 32,
    "start_time": "2022-08-24T07:27:20.172Z"
   },
   {
    "duration": 20,
    "start_time": "2022-08-24T07:27:20.206Z"
   },
   {
    "duration": 15,
    "start_time": "2022-08-24T07:27:20.227Z"
   },
   {
    "duration": 20,
    "start_time": "2022-08-24T07:27:20.244Z"
   },
   {
    "duration": 9,
    "start_time": "2022-08-24T07:27:20.266Z"
   },
   {
    "duration": 7,
    "start_time": "2022-08-24T07:27:20.276Z"
   },
   {
    "duration": 8,
    "start_time": "2022-08-24T07:27:20.303Z"
   },
   {
    "duration": 9,
    "start_time": "2022-08-24T07:27:20.313Z"
   },
   {
    "duration": 167,
    "start_time": "2022-08-24T07:28:47.661Z"
   },
   {
    "duration": 1607,
    "start_time": "2022-08-24T18:41:35.844Z"
   },
   {
    "duration": 217,
    "start_time": "2022-08-24T18:41:37.454Z"
   },
   {
    "duration": 21,
    "start_time": "2022-08-24T18:41:37.673Z"
   },
   {
    "duration": 21,
    "start_time": "2022-08-24T18:41:37.697Z"
   },
   {
    "duration": 21,
    "start_time": "2022-08-24T18:41:37.720Z"
   },
   {
    "duration": 70,
    "start_time": "2022-08-24T18:41:37.743Z"
   },
   {
    "duration": 20,
    "start_time": "2022-08-24T18:41:37.815Z"
   },
   {
    "duration": 17,
    "start_time": "2022-08-24T18:41:37.837Z"
   },
   {
    "duration": 37,
    "start_time": "2022-08-24T18:41:37.856Z"
   },
   {
    "duration": 28,
    "start_time": "2022-08-24T18:41:37.896Z"
   },
   {
    "duration": 16,
    "start_time": "2022-08-24T18:41:37.926Z"
   },
   {
    "duration": 18,
    "start_time": "2022-08-24T18:41:37.945Z"
   },
   {
    "duration": 338,
    "start_time": "2022-08-24T18:41:37.965Z"
   },
   {
    "duration": 7,
    "start_time": "2022-08-24T18:41:38.305Z"
   },
   {
    "duration": 24,
    "start_time": "2022-08-24T18:41:38.314Z"
   },
   {
    "duration": 10,
    "start_time": "2022-08-24T18:41:38.340Z"
   },
   {
    "duration": 8,
    "start_time": "2022-08-24T18:41:38.352Z"
   },
   {
    "duration": 10,
    "start_time": "2022-08-24T18:41:38.362Z"
   },
   {
    "duration": 20,
    "start_time": "2022-08-24T18:41:38.373Z"
   },
   {
    "duration": 7,
    "start_time": "2022-08-24T18:41:38.395Z"
   },
   {
    "duration": 18,
    "start_time": "2022-08-24T18:41:38.403Z"
   },
   {
    "duration": 22,
    "start_time": "2022-08-24T18:41:38.423Z"
   },
   {
    "duration": 15,
    "start_time": "2022-08-24T18:41:38.448Z"
   },
   {
    "duration": 10,
    "start_time": "2022-08-24T18:41:38.465Z"
   },
   {
    "duration": 11,
    "start_time": "2022-08-24T18:41:38.492Z"
   },
   {
    "duration": 27,
    "start_time": "2022-08-24T18:41:38.504Z"
   },
   {
    "duration": 7,
    "start_time": "2022-08-24T18:41:38.533Z"
   },
   {
    "duration": 9,
    "start_time": "2022-08-24T18:41:38.544Z"
   },
   {
    "duration": 6,
    "start_time": "2022-08-24T18:41:38.555Z"
   },
   {
    "duration": 29,
    "start_time": "2022-08-24T18:41:38.563Z"
   },
   {
    "duration": 24,
    "start_time": "2022-08-24T18:41:38.594Z"
   },
   {
    "duration": 270,
    "start_time": "2022-08-24T18:41:38.621Z"
   },
   {
    "duration": 278,
    "start_time": "2022-08-24T18:41:38.893Z"
   },
   {
    "duration": 33,
    "start_time": "2022-08-24T18:41:39.173Z"
   },
   {
    "duration": 8,
    "start_time": "2022-08-24T18:41:39.208Z"
   },
   {
    "duration": 7,
    "start_time": "2022-08-24T18:41:39.218Z"
   },
   {
    "duration": 23,
    "start_time": "2022-08-24T18:41:39.227Z"
   },
   {
    "duration": 514,
    "start_time": "2022-08-24T18:41:39.252Z"
   },
   {
    "duration": 75,
    "start_time": "2022-08-24T18:41:39.768Z"
   },
   {
    "duration": 91,
    "start_time": "2022-08-24T18:41:39.844Z"
   },
   {
    "duration": 116,
    "start_time": "2022-08-24T18:41:39.938Z"
   },
   {
    "duration": 7,
    "start_time": "2022-08-24T18:41:40.056Z"
   },
   {
    "duration": 10,
    "start_time": "2022-08-24T18:41:40.065Z"
   },
   {
    "duration": 641,
    "start_time": "2022-08-24T18:41:40.078Z"
   },
   {
    "duration": 5,
    "start_time": "2022-08-24T18:41:40.722Z"
   },
   {
    "duration": 25,
    "start_time": "2022-08-24T18:41:40.729Z"
   },
   {
    "duration": 647,
    "start_time": "2022-08-24T18:41:40.755Z"
   },
   {
    "duration": 236,
    "start_time": "2022-08-24T18:41:41.404Z"
   },
   {
    "duration": 269,
    "start_time": "2022-08-24T18:41:41.643Z"
   },
   {
    "duration": 258,
    "start_time": "2022-08-24T18:41:41.915Z"
   },
   {
    "duration": 221,
    "start_time": "2022-08-24T18:41:42.175Z"
   },
   {
    "duration": 15,
    "start_time": "2022-08-24T18:41:42.398Z"
   },
   {
    "duration": 322,
    "start_time": "2022-08-24T18:41:42.415Z"
   },
   {
    "duration": 16,
    "start_time": "2022-08-24T18:41:42.739Z"
   },
   {
    "duration": 41,
    "start_time": "2022-08-24T18:41:42.757Z"
   },
   {
    "duration": 18,
    "start_time": "2022-08-24T18:41:42.800Z"
   },
   {
    "duration": 16,
    "start_time": "2022-08-24T18:41:42.821Z"
   },
   {
    "duration": 21,
    "start_time": "2022-08-24T18:41:42.840Z"
   },
   {
    "duration": 46,
    "start_time": "2022-08-24T18:41:42.864Z"
   },
   {
    "duration": 18,
    "start_time": "2022-08-24T18:41:42.912Z"
   },
   {
    "duration": 19,
    "start_time": "2022-08-24T18:41:42.932Z"
   },
   {
    "duration": 44,
    "start_time": "2022-08-24T18:41:42.953Z"
   },
   {
    "duration": 15,
    "start_time": "2022-08-24T18:41:42.999Z"
   },
   {
    "duration": 21,
    "start_time": "2022-08-24T18:41:43.017Z"
   },
   {
    "duration": 18,
    "start_time": "2022-08-24T18:41:43.040Z"
   },
   {
    "duration": 38,
    "start_time": "2022-08-24T18:41:43.093Z"
   },
   {
    "duration": 19,
    "start_time": "2022-08-24T18:41:43.132Z"
   },
   {
    "duration": 15,
    "start_time": "2022-08-24T18:41:43.153Z"
   },
   {
    "duration": 10,
    "start_time": "2022-08-24T18:41:43.170Z"
   },
   {
    "duration": 16,
    "start_time": "2022-08-24T18:45:23.383Z"
   },
   {
    "duration": 67,
    "start_time": "2022-08-24T18:46:28.324Z"
   },
   {
    "duration": 14,
    "start_time": "2022-08-24T18:47:22.363Z"
   },
   {
    "duration": 12,
    "start_time": "2022-08-24T18:47:58.063Z"
   },
   {
    "duration": 15,
    "start_time": "2022-08-24T18:48:59.154Z"
   },
   {
    "duration": 17,
    "start_time": "2022-08-24T18:49:28.485Z"
   },
   {
    "duration": 5,
    "start_time": "2022-08-24T18:55:58.571Z"
   },
   {
    "duration": 78,
    "start_time": "2022-08-24T18:55:58.578Z"
   },
   {
    "duration": 17,
    "start_time": "2022-08-24T18:55:58.658Z"
   },
   {
    "duration": 26,
    "start_time": "2022-08-24T18:55:58.678Z"
   },
   {
    "duration": 17,
    "start_time": "2022-08-24T18:55:58.706Z"
   },
   {
    "duration": 75,
    "start_time": "2022-08-24T18:55:58.724Z"
   },
   {
    "duration": 20,
    "start_time": "2022-08-24T18:55:58.800Z"
   },
   {
    "duration": 16,
    "start_time": "2022-08-24T18:55:58.822Z"
   },
   {
    "duration": 8,
    "start_time": "2022-08-24T18:55:58.841Z"
   },
   {
    "duration": 11,
    "start_time": "2022-08-24T18:55:58.893Z"
   },
   {
    "duration": 17,
    "start_time": "2022-08-24T18:55:58.906Z"
   },
   {
    "duration": 24,
    "start_time": "2022-08-24T18:55:58.925Z"
   },
   {
    "duration": 316,
    "start_time": "2022-08-24T18:55:58.952Z"
   },
   {
    "duration": 7,
    "start_time": "2022-08-24T18:55:59.270Z"
   },
   {
    "duration": 20,
    "start_time": "2022-08-24T18:55:59.279Z"
   },
   {
    "duration": 11,
    "start_time": "2022-08-24T18:55:59.301Z"
   },
   {
    "duration": 8,
    "start_time": "2022-08-24T18:55:59.314Z"
   },
   {
    "duration": 16,
    "start_time": "2022-08-24T18:55:59.324Z"
   },
   {
    "duration": 14,
    "start_time": "2022-08-24T18:55:59.342Z"
   },
   {
    "duration": 5,
    "start_time": "2022-08-24T18:55:59.359Z"
   },
   {
    "duration": 30,
    "start_time": "2022-08-24T18:55:59.366Z"
   },
   {
    "duration": 27,
    "start_time": "2022-08-24T18:55:59.400Z"
   },
   {
    "duration": 17,
    "start_time": "2022-08-24T18:55:59.429Z"
   },
   {
    "duration": 15,
    "start_time": "2022-08-24T18:55:59.452Z"
   },
   {
    "duration": 27,
    "start_time": "2022-08-24T18:55:59.468Z"
   },
   {
    "duration": 19,
    "start_time": "2022-08-24T18:55:59.497Z"
   },
   {
    "duration": 6,
    "start_time": "2022-08-24T18:55:59.517Z"
   },
   {
    "duration": 9,
    "start_time": "2022-08-24T18:55:59.525Z"
   },
   {
    "duration": 9,
    "start_time": "2022-08-24T18:55:59.536Z"
   },
   {
    "duration": 7,
    "start_time": "2022-08-24T18:55:59.547Z"
   },
   {
    "duration": 46,
    "start_time": "2022-08-24T18:55:59.556Z"
   },
   {
    "duration": 267,
    "start_time": "2022-08-24T18:55:59.604Z"
   },
   {
    "duration": 408,
    "start_time": "2022-08-24T18:55:59.874Z"
   },
   {
    "duration": 28,
    "start_time": "2022-08-24T18:56:00.284Z"
   },
   {
    "duration": 16,
    "start_time": "2022-08-24T18:56:00.315Z"
   },
   {
    "duration": 12,
    "start_time": "2022-08-24T18:56:00.334Z"
   },
   {
    "duration": 49,
    "start_time": "2022-08-24T18:56:00.349Z"
   },
   {
    "duration": 412,
    "start_time": "2022-08-24T18:56:00.400Z"
   },
   {
    "duration": 80,
    "start_time": "2022-08-24T18:56:00.814Z"
   },
   {
    "duration": 71,
    "start_time": "2022-08-24T18:56:00.895Z"
   },
   {
    "duration": 38,
    "start_time": "2022-08-24T18:56:00.968Z"
   },
   {
    "duration": 34,
    "start_time": "2022-08-24T18:56:01.008Z"
   },
   {
    "duration": 83,
    "start_time": "2022-08-24T18:56:01.044Z"
   },
   {
    "duration": 548,
    "start_time": "2022-08-24T18:56:01.129Z"
   },
   {
    "duration": 12,
    "start_time": "2022-08-24T18:56:01.679Z"
   },
   {
    "duration": 36,
    "start_time": "2022-08-24T18:56:01.693Z"
   },
   {
    "duration": 878,
    "start_time": "2022-08-24T18:56:01.732Z"
   },
   {
    "duration": 262,
    "start_time": "2022-08-24T18:56:02.613Z"
   },
   {
    "duration": 228,
    "start_time": "2022-08-24T18:56:02.877Z"
   },
   {
    "duration": 21,
    "start_time": "2022-08-24T18:56:03.108Z"
   },
   {
    "duration": 217,
    "start_time": "2022-08-24T18:56:03.132Z"
   },
   {
    "duration": 199,
    "start_time": "2022-08-24T18:56:03.351Z"
   },
   {
    "duration": 16,
    "start_time": "2022-08-24T18:56:03.554Z"
   },
   {
    "duration": 254,
    "start_time": "2022-08-24T18:56:03.572Z"
   },
   {
    "duration": 17,
    "start_time": "2022-08-24T18:56:03.828Z"
   },
   {
    "duration": 22,
    "start_time": "2022-08-24T18:56:03.848Z"
   },
   {
    "duration": 32,
    "start_time": "2022-08-24T18:56:03.872Z"
   },
   {
    "duration": 23,
    "start_time": "2022-08-24T18:56:03.906Z"
   },
   {
    "duration": 24,
    "start_time": "2022-08-24T18:56:03.932Z"
   },
   {
    "duration": 41,
    "start_time": "2022-08-24T18:56:03.958Z"
   },
   {
    "duration": 21,
    "start_time": "2022-08-24T18:56:04.002Z"
   },
   {
    "duration": 32,
    "start_time": "2022-08-24T18:56:04.025Z"
   },
   {
    "duration": 19,
    "start_time": "2022-08-24T18:56:04.059Z"
   },
   {
    "duration": 16,
    "start_time": "2022-08-24T18:56:04.091Z"
   },
   {
    "duration": 25,
    "start_time": "2022-08-24T18:56:04.109Z"
   },
   {
    "duration": 26,
    "start_time": "2022-08-24T18:56:04.136Z"
   },
   {
    "duration": 32,
    "start_time": "2022-08-24T18:56:04.164Z"
   },
   {
    "duration": 9,
    "start_time": "2022-08-24T18:56:04.199Z"
   },
   {
    "duration": 32,
    "start_time": "2022-08-24T18:56:04.216Z"
   },
   {
    "duration": 12,
    "start_time": "2022-08-24T18:56:04.250Z"
   },
   {
    "duration": 723,
    "start_time": "2022-08-24T18:59:15.927Z"
   },
   {
    "duration": 18,
    "start_time": "2022-08-24T19:03:37.375Z"
   },
   {
    "duration": 18,
    "start_time": "2022-08-24T19:05:29.213Z"
   },
   {
    "duration": 17,
    "start_time": "2022-08-24T19:06:06.153Z"
   },
   {
    "duration": 10,
    "start_time": "2022-08-24T19:33:55.993Z"
   },
   {
    "duration": 80,
    "start_time": "2022-08-24T19:33:56.006Z"
   },
   {
    "duration": 24,
    "start_time": "2022-08-24T19:33:56.089Z"
   },
   {
    "duration": 27,
    "start_time": "2022-08-24T19:33:56.115Z"
   },
   {
    "duration": 53,
    "start_time": "2022-08-24T19:33:56.144Z"
   },
   {
    "duration": 40,
    "start_time": "2022-08-24T19:33:56.199Z"
   },
   {
    "duration": 18,
    "start_time": "2022-08-24T19:33:56.240Z"
   },
   {
    "duration": 45,
    "start_time": "2022-08-24T19:33:56.261Z"
   },
   {
    "duration": 13,
    "start_time": "2022-08-24T19:33:56.312Z"
   },
   {
    "duration": 8,
    "start_time": "2022-08-24T19:33:56.328Z"
   },
   {
    "duration": 18,
    "start_time": "2022-08-24T19:33:56.339Z"
   },
   {
    "duration": 46,
    "start_time": "2022-08-24T19:33:56.359Z"
   },
   {
    "duration": 318,
    "start_time": "2022-08-24T19:33:56.407Z"
   },
   {
    "duration": 7,
    "start_time": "2022-08-24T19:33:56.727Z"
   },
   {
    "duration": 12,
    "start_time": "2022-08-24T19:33:56.736Z"
   },
   {
    "duration": 7,
    "start_time": "2022-08-24T19:33:56.750Z"
   },
   {
    "duration": 51,
    "start_time": "2022-08-24T19:33:56.760Z"
   },
   {
    "duration": 7,
    "start_time": "2022-08-24T19:33:56.815Z"
   },
   {
    "duration": 11,
    "start_time": "2022-08-24T19:33:56.824Z"
   },
   {
    "duration": 27,
    "start_time": "2022-08-24T19:33:56.837Z"
   },
   {
    "duration": 29,
    "start_time": "2022-08-24T19:33:56.866Z"
   },
   {
    "duration": 47,
    "start_time": "2022-08-24T19:33:56.896Z"
   },
   {
    "duration": 15,
    "start_time": "2022-08-24T19:33:56.946Z"
   },
   {
    "duration": 16,
    "start_time": "2022-08-24T19:33:56.963Z"
   },
   {
    "duration": 36,
    "start_time": "2022-08-24T19:33:56.981Z"
   },
   {
    "duration": 27,
    "start_time": "2022-08-24T19:33:57.019Z"
   },
   {
    "duration": 15,
    "start_time": "2022-08-24T19:33:57.048Z"
   },
   {
    "duration": 23,
    "start_time": "2022-08-24T19:33:57.065Z"
   },
   {
    "duration": 22,
    "start_time": "2022-08-24T19:33:57.094Z"
   },
   {
    "duration": 7,
    "start_time": "2022-08-24T19:33:57.118Z"
   },
   {
    "duration": 33,
    "start_time": "2022-08-24T19:33:57.128Z"
   },
   {
    "duration": 268,
    "start_time": "2022-08-24T19:33:57.164Z"
   },
   {
    "duration": 300,
    "start_time": "2022-08-24T19:33:57.435Z"
   },
   {
    "duration": 25,
    "start_time": "2022-08-24T19:33:57.737Z"
   },
   {
    "duration": 8,
    "start_time": "2022-08-24T19:33:57.764Z"
   },
   {
    "duration": 37,
    "start_time": "2022-08-24T19:33:57.774Z"
   },
   {
    "duration": 19,
    "start_time": "2022-08-24T19:33:57.813Z"
   },
   {
    "duration": 744,
    "start_time": "2022-08-24T19:33:57.834Z"
   },
   {
    "duration": 74,
    "start_time": "2022-08-24T19:33:58.580Z"
   },
   {
    "duration": 107,
    "start_time": "2022-08-24T19:33:58.657Z"
   },
   {
    "duration": 39,
    "start_time": "2022-08-24T19:33:58.767Z"
   },
   {
    "duration": 11,
    "start_time": "2022-08-24T19:33:58.810Z"
   },
   {
    "duration": 10,
    "start_time": "2022-08-24T19:33:58.824Z"
   },
   {
    "duration": 613,
    "start_time": "2022-08-24T19:33:58.837Z"
   },
   {
    "duration": 5,
    "start_time": "2022-08-24T19:33:59.452Z"
   },
   {
    "duration": 40,
    "start_time": "2022-08-24T19:33:59.460Z"
   },
   {
    "duration": 598,
    "start_time": "2022-08-24T19:33:59.502Z"
   },
   {
    "duration": 242,
    "start_time": "2022-08-24T19:34:00.108Z"
   },
   {
    "duration": 221,
    "start_time": "2022-08-24T19:34:00.351Z"
   },
   {
    "duration": 31,
    "start_time": "2022-08-24T19:34:00.574Z"
   },
   {
    "duration": 206,
    "start_time": "2022-08-24T19:34:00.612Z"
   },
   {
    "duration": 209,
    "start_time": "2022-08-24T19:34:00.820Z"
   },
   {
    "duration": 11,
    "start_time": "2022-08-24T19:34:01.031Z"
   },
   {
    "duration": 245,
    "start_time": "2022-08-24T19:34:01.044Z"
   },
   {
    "duration": 27,
    "start_time": "2022-08-24T19:34:01.291Z"
   },
   {
    "duration": 20,
    "start_time": "2022-08-24T19:34:01.320Z"
   },
   {
    "duration": 629,
    "start_time": "2022-08-24T19:34:01.342Z"
   },
   {
    "duration": 30,
    "start_time": "2022-08-24T19:34:01.975Z"
   },
   {
    "duration": 44,
    "start_time": "2022-08-24T19:34:02.007Z"
   },
   {
    "duration": 30,
    "start_time": "2022-08-24T19:34:02.054Z"
   },
   {
    "duration": 45,
    "start_time": "2022-08-24T19:34:02.087Z"
   },
   {
    "duration": 21,
    "start_time": "2022-08-24T19:34:02.134Z"
   },
   {
    "duration": 27,
    "start_time": "2022-08-24T19:34:02.157Z"
   },
   {
    "duration": 77,
    "start_time": "2022-08-24T19:34:02.186Z"
   },
   {
    "duration": 43,
    "start_time": "2022-08-24T19:34:02.265Z"
   },
   {
    "duration": 45,
    "start_time": "2022-08-24T19:34:02.311Z"
   },
   {
    "duration": 38,
    "start_time": "2022-08-24T19:34:02.358Z"
   },
   {
    "duration": 27,
    "start_time": "2022-08-24T19:34:02.398Z"
   },
   {
    "duration": 28,
    "start_time": "2022-08-24T19:34:02.427Z"
   },
   {
    "duration": 14,
    "start_time": "2022-08-24T19:34:02.456Z"
   },
   {
    "duration": 7,
    "start_time": "2022-08-24T19:34:02.472Z"
   },
   {
    "duration": 31,
    "start_time": "2022-08-24T19:34:02.481Z"
   },
   {
    "duration": 7,
    "start_time": "2022-08-24T19:34:02.515Z"
   },
   {
    "duration": 6,
    "start_time": "2022-08-24T19:36:03.052Z"
   },
   {
    "duration": 10,
    "start_time": "2022-08-24T19:39:51.627Z"
   },
   {
    "duration": 6,
    "start_time": "2022-08-24T19:39:52.724Z"
   },
   {
    "duration": 11,
    "start_time": "2022-08-24T19:40:23.083Z"
   },
   {
    "duration": 6,
    "start_time": "2022-08-24T19:40:32.448Z"
   },
   {
    "duration": 14,
    "start_time": "2022-08-24T19:41:52.974Z"
   },
   {
    "duration": 6,
    "start_time": "2022-08-24T19:41:53.549Z"
   },
   {
    "duration": 5,
    "start_time": "2022-08-24T19:42:01.358Z"
   },
   {
    "duration": 148,
    "start_time": "2022-08-24T19:42:01.366Z"
   },
   {
    "duration": 20,
    "start_time": "2022-08-24T19:42:01.516Z"
   },
   {
    "duration": 35,
    "start_time": "2022-08-24T19:42:01.538Z"
   },
   {
    "duration": 33,
    "start_time": "2022-08-24T19:42:01.576Z"
   },
   {
    "duration": 69,
    "start_time": "2022-08-24T19:42:01.612Z"
   },
   {
    "duration": 27,
    "start_time": "2022-08-24T19:42:01.683Z"
   },
   {
    "duration": 48,
    "start_time": "2022-08-24T19:42:01.712Z"
   },
   {
    "duration": 10,
    "start_time": "2022-08-24T19:42:01.762Z"
   },
   {
    "duration": 8,
    "start_time": "2022-08-24T19:42:01.775Z"
   },
   {
    "duration": 40,
    "start_time": "2022-08-24T19:42:01.786Z"
   },
   {
    "duration": 53,
    "start_time": "2022-08-24T19:42:01.830Z"
   },
   {
    "duration": 492,
    "start_time": "2022-08-24T19:42:01.885Z"
   },
   {
    "duration": 13,
    "start_time": "2022-08-24T19:42:02.380Z"
   },
   {
    "duration": 61,
    "start_time": "2022-08-24T19:42:02.396Z"
   },
   {
    "duration": 21,
    "start_time": "2022-08-24T19:42:02.460Z"
   },
   {
    "duration": 83,
    "start_time": "2022-08-24T19:42:02.483Z"
   },
   {
    "duration": 14,
    "start_time": "2022-08-24T19:42:02.568Z"
   },
   {
    "duration": 40,
    "start_time": "2022-08-24T19:42:02.584Z"
   },
   {
    "duration": 33,
    "start_time": "2022-08-24T19:42:02.625Z"
   },
   {
    "duration": 44,
    "start_time": "2022-08-24T19:42:02.661Z"
   },
   {
    "duration": 53,
    "start_time": "2022-08-24T19:42:02.706Z"
   },
   {
    "duration": 12,
    "start_time": "2022-08-24T19:42:02.761Z"
   },
   {
    "duration": 11,
    "start_time": "2022-08-24T19:42:02.775Z"
   },
   {
    "duration": 42,
    "start_time": "2022-08-24T19:42:02.788Z"
   },
   {
    "duration": 29,
    "start_time": "2022-08-24T19:42:02.833Z"
   },
   {
    "duration": 8,
    "start_time": "2022-08-24T19:42:02.863Z"
   },
   {
    "duration": 8,
    "start_time": "2022-08-24T19:42:02.873Z"
   },
   {
    "duration": 11,
    "start_time": "2022-08-24T19:42:02.886Z"
   },
   {
    "duration": 44,
    "start_time": "2022-08-24T19:42:02.903Z"
   },
   {
    "duration": 19,
    "start_time": "2022-08-24T19:42:02.949Z"
   },
   {
    "duration": 346,
    "start_time": "2022-08-24T19:42:02.970Z"
   },
   {
    "duration": 334,
    "start_time": "2022-08-24T19:42:03.318Z"
   },
   {
    "duration": 25,
    "start_time": "2022-08-24T19:42:03.654Z"
   },
   {
    "duration": 19,
    "start_time": "2022-08-24T19:42:03.681Z"
   },
   {
    "duration": 57,
    "start_time": "2022-08-24T19:42:03.703Z"
   },
   {
    "duration": 28,
    "start_time": "2022-08-24T19:42:03.762Z"
   },
   {
    "duration": 479,
    "start_time": "2022-08-24T19:42:03.793Z"
   },
   {
    "duration": 100,
    "start_time": "2022-08-24T19:42:04.274Z"
   },
   {
    "duration": 92,
    "start_time": "2022-08-24T19:42:04.376Z"
   },
   {
    "duration": 36,
    "start_time": "2022-08-24T19:42:04.470Z"
   },
   {
    "duration": 44,
    "start_time": "2022-08-24T19:42:04.508Z"
   },
   {
    "duration": 6,
    "start_time": "2022-08-24T19:42:04.554Z"
   },
   {
    "duration": 621,
    "start_time": "2022-08-24T19:42:04.562Z"
   },
   {
    "duration": 5,
    "start_time": "2022-08-24T19:42:05.185Z"
   },
   {
    "duration": 80,
    "start_time": "2022-08-24T19:42:05.193Z"
   },
   {
    "duration": 1169,
    "start_time": "2022-08-24T19:42:05.275Z"
   },
   {
    "duration": 260,
    "start_time": "2022-08-24T19:42:06.446Z"
   },
   {
    "duration": 268,
    "start_time": "2022-08-24T19:42:06.708Z"
   },
   {
    "duration": 22,
    "start_time": "2022-08-24T19:42:06.978Z"
   },
   {
    "duration": 272,
    "start_time": "2022-08-24T19:42:07.002Z"
   },
   {
    "duration": 214,
    "start_time": "2022-08-24T19:42:07.276Z"
   },
   {
    "duration": 25,
    "start_time": "2022-08-24T19:42:07.499Z"
   },
   {
    "duration": 276,
    "start_time": "2022-08-24T19:42:07.529Z"
   },
   {
    "duration": 24,
    "start_time": "2022-08-24T19:42:07.812Z"
   },
   {
    "duration": 23,
    "start_time": "2022-08-24T19:42:07.839Z"
   },
   {
    "duration": 686,
    "start_time": "2022-08-24T19:42:07.864Z"
   },
   {
    "duration": 17,
    "start_time": "2022-08-24T19:42:08.552Z"
   },
   {
    "duration": 77,
    "start_time": "2022-08-24T19:42:08.571Z"
   },
   {
    "duration": 41,
    "start_time": "2022-08-24T19:42:08.650Z"
   },
   {
    "duration": 65,
    "start_time": "2022-08-24T19:42:08.695Z"
   },
   {
    "duration": 26,
    "start_time": "2022-08-24T19:42:08.761Z"
   },
   {
    "duration": 59,
    "start_time": "2022-08-24T19:42:08.789Z"
   },
   {
    "duration": 72,
    "start_time": "2022-08-24T19:42:08.850Z"
   },
   {
    "duration": 37,
    "start_time": "2022-08-24T19:42:08.928Z"
   },
   {
    "duration": 17,
    "start_time": "2022-08-24T19:42:08.967Z"
   },
   {
    "duration": 73,
    "start_time": "2022-08-24T19:42:08.986Z"
   },
   {
    "duration": 49,
    "start_time": "2022-08-24T19:42:09.061Z"
   },
   {
    "duration": 55,
    "start_time": "2022-08-24T19:42:09.111Z"
   },
   {
    "duration": 22,
    "start_time": "2022-08-24T19:42:09.168Z"
   },
   {
    "duration": 48,
    "start_time": "2022-08-24T19:42:09.199Z"
   },
   {
    "duration": 14,
    "start_time": "2022-08-24T19:42:09.248Z"
   },
   {
    "duration": 38,
    "start_time": "2022-08-24T19:42:09.264Z"
   },
   {
    "duration": 77,
    "start_time": "2022-08-24T19:42:09.306Z"
   },
   {
    "duration": 4,
    "start_time": "2022-08-24T19:48:21.663Z"
   },
   {
    "duration": 76,
    "start_time": "2022-08-24T19:48:21.669Z"
   },
   {
    "duration": 16,
    "start_time": "2022-08-24T19:48:21.747Z"
   },
   {
    "duration": 27,
    "start_time": "2022-08-24T19:48:21.765Z"
   },
   {
    "duration": 38,
    "start_time": "2022-08-24T19:48:21.794Z"
   },
   {
    "duration": 66,
    "start_time": "2022-08-24T19:48:21.834Z"
   },
   {
    "duration": 26,
    "start_time": "2022-08-24T19:48:21.903Z"
   },
   {
    "duration": 28,
    "start_time": "2022-08-24T19:48:21.935Z"
   },
   {
    "duration": 35,
    "start_time": "2022-08-24T19:48:21.967Z"
   },
   {
    "duration": 34,
    "start_time": "2022-08-24T19:48:22.004Z"
   },
   {
    "duration": 36,
    "start_time": "2022-08-24T19:48:22.040Z"
   },
   {
    "duration": 40,
    "start_time": "2022-08-24T19:48:22.079Z"
   },
   {
    "duration": 343,
    "start_time": "2022-08-24T19:48:22.121Z"
   },
   {
    "duration": 7,
    "start_time": "2022-08-24T19:48:22.466Z"
   },
   {
    "duration": 28,
    "start_time": "2022-08-24T19:48:22.475Z"
   },
   {
    "duration": 8,
    "start_time": "2022-08-24T19:48:22.507Z"
   },
   {
    "duration": 22,
    "start_time": "2022-08-24T19:48:22.517Z"
   },
   {
    "duration": 12,
    "start_time": "2022-08-24T19:48:22.540Z"
   },
   {
    "duration": 12,
    "start_time": "2022-08-24T19:48:22.554Z"
   },
   {
    "duration": 7,
    "start_time": "2022-08-24T19:48:22.568Z"
   },
   {
    "duration": 19,
    "start_time": "2022-08-24T19:48:22.578Z"
   },
   {
    "duration": 33,
    "start_time": "2022-08-24T19:48:22.599Z"
   },
   {
    "duration": 15,
    "start_time": "2022-08-24T19:48:22.635Z"
   },
   {
    "duration": 10,
    "start_time": "2022-08-24T19:48:22.655Z"
   },
   {
    "duration": 12,
    "start_time": "2022-08-24T19:48:22.668Z"
   },
   {
    "duration": 42,
    "start_time": "2022-08-24T19:48:22.682Z"
   },
   {
    "duration": 6,
    "start_time": "2022-08-24T19:48:22.726Z"
   },
   {
    "duration": 12,
    "start_time": "2022-08-24T19:48:22.734Z"
   },
   {
    "duration": 7,
    "start_time": "2022-08-24T19:48:22.748Z"
   },
   {
    "duration": 12,
    "start_time": "2022-08-24T19:48:22.757Z"
   },
   {
    "duration": 35,
    "start_time": "2022-08-24T19:48:22.772Z"
   },
   {
    "duration": 255,
    "start_time": "2022-08-24T19:48:22.809Z"
   },
   {
    "duration": 282,
    "start_time": "2022-08-24T19:48:23.066Z"
   },
   {
    "duration": 23,
    "start_time": "2022-08-24T19:48:23.350Z"
   },
   {
    "duration": 32,
    "start_time": "2022-08-24T19:48:23.375Z"
   },
   {
    "duration": 17,
    "start_time": "2022-08-24T19:48:23.409Z"
   },
   {
    "duration": 36,
    "start_time": "2022-08-24T19:48:23.427Z"
   },
   {
    "duration": 382,
    "start_time": "2022-08-24T19:48:23.465Z"
   },
   {
    "duration": 75,
    "start_time": "2022-08-24T19:48:23.849Z"
   },
   {
    "duration": 87,
    "start_time": "2022-08-24T19:48:23.925Z"
   },
   {
    "duration": 20,
    "start_time": "2022-08-24T19:48:24.014Z"
   },
   {
    "duration": 29,
    "start_time": "2022-08-24T19:48:24.036Z"
   },
   {
    "duration": 14,
    "start_time": "2022-08-24T19:48:24.067Z"
   },
   {
    "duration": 547,
    "start_time": "2022-08-24T19:48:24.083Z"
   },
   {
    "duration": 6,
    "start_time": "2022-08-24T19:48:24.632Z"
   },
   {
    "duration": 27,
    "start_time": "2022-08-24T19:48:24.640Z"
   },
   {
    "duration": 983,
    "start_time": "2022-08-24T19:48:24.669Z"
   },
   {
    "duration": 244,
    "start_time": "2022-08-24T19:48:25.654Z"
   },
   {
    "duration": 255,
    "start_time": "2022-08-24T19:48:25.902Z"
   },
   {
    "duration": 16,
    "start_time": "2022-08-24T19:48:26.159Z"
   },
   {
    "duration": 250,
    "start_time": "2022-08-24T19:48:26.197Z"
   },
   {
    "duration": 289,
    "start_time": "2022-08-24T19:48:26.449Z"
   },
   {
    "duration": 14,
    "start_time": "2022-08-24T19:48:26.741Z"
   },
   {
    "duration": 286,
    "start_time": "2022-08-24T19:48:26.758Z"
   },
   {
    "duration": 25,
    "start_time": "2022-08-24T19:48:27.047Z"
   },
   {
    "duration": 55,
    "start_time": "2022-08-24T19:48:27.074Z"
   },
   {
    "duration": 635,
    "start_time": "2022-08-24T19:48:27.132Z"
   },
   {
    "duration": 24,
    "start_time": "2022-08-24T19:48:27.769Z"
   },
   {
    "duration": 19,
    "start_time": "2022-08-24T19:48:27.801Z"
   },
   {
    "duration": 20,
    "start_time": "2022-08-24T19:48:27.822Z"
   },
   {
    "duration": 19,
    "start_time": "2022-08-24T19:48:27.844Z"
   },
   {
    "duration": 48,
    "start_time": "2022-08-24T19:48:27.864Z"
   },
   {
    "duration": 24,
    "start_time": "2022-08-24T19:48:27.914Z"
   },
   {
    "duration": 23,
    "start_time": "2022-08-24T19:48:27.941Z"
   },
   {
    "duration": 53,
    "start_time": "2022-08-24T19:48:27.967Z"
   },
   {
    "duration": 24,
    "start_time": "2022-08-24T19:48:28.023Z"
   },
   {
    "duration": 17,
    "start_time": "2022-08-24T19:48:28.050Z"
   },
   {
    "duration": 42,
    "start_time": "2022-08-24T19:48:28.069Z"
   },
   {
    "duration": 19,
    "start_time": "2022-08-24T19:48:28.118Z"
   },
   {
    "duration": 11,
    "start_time": "2022-08-24T19:48:28.140Z"
   },
   {
    "duration": 10,
    "start_time": "2022-08-24T19:48:28.153Z"
   },
   {
    "duration": 6,
    "start_time": "2022-08-24T19:48:28.191Z"
   },
   {
    "duration": 46,
    "start_time": "2022-08-24T19:48:28.200Z"
   },
   {
    "duration": 12,
    "start_time": "2022-08-24T19:48:28.249Z"
   },
   {
    "duration": 1398,
    "start_time": "2022-08-25T02:51:07.646Z"
   },
   {
    "duration": 121,
    "start_time": "2022-08-25T02:51:09.046Z"
   },
   {
    "duration": 17,
    "start_time": "2022-08-25T02:51:09.168Z"
   },
   {
    "duration": 20,
    "start_time": "2022-08-25T02:51:09.187Z"
   },
   {
    "duration": 36,
    "start_time": "2022-08-25T02:51:09.209Z"
   },
   {
    "duration": 27,
    "start_time": "2022-08-25T02:51:09.246Z"
   },
   {
    "duration": 13,
    "start_time": "2022-08-25T02:51:09.274Z"
   },
   {
    "duration": 37,
    "start_time": "2022-08-25T02:51:09.288Z"
   },
   {
    "duration": 8,
    "start_time": "2022-08-25T02:51:09.328Z"
   },
   {
    "duration": 8,
    "start_time": "2022-08-25T02:51:09.338Z"
   },
   {
    "duration": 20,
    "start_time": "2022-08-25T02:51:09.348Z"
   },
   {
    "duration": 16,
    "start_time": "2022-08-25T02:51:09.370Z"
   },
   {
    "duration": 281,
    "start_time": "2022-08-25T02:51:09.389Z"
   },
   {
    "duration": 6,
    "start_time": "2022-08-25T02:51:09.672Z"
   },
   {
    "duration": 12,
    "start_time": "2022-08-25T02:51:09.679Z"
   },
   {
    "duration": 21,
    "start_time": "2022-08-25T02:51:09.692Z"
   },
   {
    "duration": 13,
    "start_time": "2022-08-25T02:51:09.715Z"
   },
   {
    "duration": 9,
    "start_time": "2022-08-25T02:51:09.730Z"
   },
   {
    "duration": 9,
    "start_time": "2022-08-25T02:51:09.740Z"
   },
   {
    "duration": 4,
    "start_time": "2022-08-25T02:51:09.750Z"
   },
   {
    "duration": 7,
    "start_time": "2022-08-25T02:51:09.756Z"
   },
   {
    "duration": 13,
    "start_time": "2022-08-25T02:51:09.765Z"
   },
   {
    "duration": 10,
    "start_time": "2022-08-25T02:51:09.780Z"
   },
   {
    "duration": 21,
    "start_time": "2022-08-25T02:51:09.792Z"
   },
   {
    "duration": 25,
    "start_time": "2022-08-25T02:51:09.815Z"
   },
   {
    "duration": 15,
    "start_time": "2022-08-25T02:51:09.842Z"
   },
   {
    "duration": 5,
    "start_time": "2022-08-25T02:51:09.859Z"
   },
   {
    "duration": 6,
    "start_time": "2022-08-25T02:51:09.868Z"
   },
   {
    "duration": 5,
    "start_time": "2022-08-25T02:51:09.875Z"
   },
   {
    "duration": 8,
    "start_time": "2022-08-25T02:51:09.881Z"
   },
   {
    "duration": 27,
    "start_time": "2022-08-25T02:51:09.891Z"
   },
   {
    "duration": 277,
    "start_time": "2022-08-25T02:51:09.920Z"
   },
   {
    "duration": 314,
    "start_time": "2022-08-25T02:51:10.199Z"
   },
   {
    "duration": 24,
    "start_time": "2022-08-25T02:51:10.518Z"
   },
   {
    "duration": 9,
    "start_time": "2022-08-25T02:51:10.544Z"
   },
   {
    "duration": 10,
    "start_time": "2022-08-25T02:51:10.554Z"
   },
   {
    "duration": 20,
    "start_time": "2022-08-25T02:51:10.566Z"
   },
   {
    "duration": 482,
    "start_time": "2022-08-25T02:51:10.588Z"
   },
   {
    "duration": 77,
    "start_time": "2022-08-25T02:51:11.071Z"
   },
   {
    "duration": 76,
    "start_time": "2022-08-25T02:51:11.149Z"
   },
   {
    "duration": 21,
    "start_time": "2022-08-25T02:51:11.229Z"
   },
   {
    "duration": 8,
    "start_time": "2022-08-25T02:51:11.251Z"
   },
   {
    "duration": 4,
    "start_time": "2022-08-25T02:51:11.261Z"
   },
   {
    "duration": 570,
    "start_time": "2022-08-25T02:51:11.267Z"
   },
   {
    "duration": 5,
    "start_time": "2022-08-25T02:51:11.839Z"
   },
   {
    "duration": 24,
    "start_time": "2022-08-25T02:51:11.846Z"
   },
   {
    "duration": 557,
    "start_time": "2022-08-25T02:51:11.872Z"
   },
   {
    "duration": 198,
    "start_time": "2022-08-25T02:51:12.431Z"
   },
   {
    "duration": 185,
    "start_time": "2022-08-25T02:51:12.631Z"
   },
   {
    "duration": 20,
    "start_time": "2022-08-25T02:51:12.818Z"
   },
   {
    "duration": 182,
    "start_time": "2022-08-25T02:51:12.839Z"
   },
   {
    "duration": 259,
    "start_time": "2022-08-25T02:51:13.023Z"
   },
   {
    "duration": 9,
    "start_time": "2022-08-25T02:51:13.284Z"
   },
   {
    "duration": 214,
    "start_time": "2022-08-25T02:51:13.294Z"
   },
   {
    "duration": 22,
    "start_time": "2022-08-25T02:51:13.510Z"
   },
   {
    "duration": 12,
    "start_time": "2022-08-25T02:51:13.534Z"
   },
   {
    "duration": 529,
    "start_time": "2022-08-25T02:51:13.548Z"
   },
   {
    "duration": 13,
    "start_time": "2022-08-25T02:51:14.079Z"
   },
   {
    "duration": 34,
    "start_time": "2022-08-25T02:51:14.094Z"
   },
   {
    "duration": 17,
    "start_time": "2022-08-25T02:51:14.130Z"
   },
   {
    "duration": 12,
    "start_time": "2022-08-25T02:51:14.149Z"
   },
   {
    "duration": 16,
    "start_time": "2022-08-25T02:51:14.162Z"
   },
   {
    "duration": 15,
    "start_time": "2022-08-25T02:51:14.179Z"
   },
   {
    "duration": 28,
    "start_time": "2022-08-25T02:51:14.195Z"
   },
   {
    "duration": 16,
    "start_time": "2022-08-25T02:51:14.225Z"
   },
   {
    "duration": 21,
    "start_time": "2022-08-25T02:51:14.242Z"
   },
   {
    "duration": 13,
    "start_time": "2022-08-25T02:51:14.264Z"
   },
   {
    "duration": 14,
    "start_time": "2022-08-25T02:51:14.279Z"
   },
   {
    "duration": 35,
    "start_time": "2022-08-25T02:51:14.307Z"
   },
   {
    "duration": 14,
    "start_time": "2022-08-25T02:51:14.343Z"
   },
   {
    "duration": 9,
    "start_time": "2022-08-25T02:51:14.358Z"
   },
   {
    "duration": 8,
    "start_time": "2022-08-25T02:51:14.368Z"
   },
   {
    "duration": 12,
    "start_time": "2022-08-25T02:51:14.378Z"
   },
   {
    "duration": 15,
    "start_time": "2022-08-25T02:51:14.392Z"
   }
  ],
  "kernelspec": {
   "display_name": "Python 3 (ipykernel)",
   "language": "python",
   "name": "python3"
  },
  "language_info": {
   "codemirror_mode": {
    "name": "ipython",
    "version": 3
   },
   "file_extension": ".py",
   "mimetype": "text/x-python",
   "name": "python",
   "nbconvert_exporter": "python",
   "pygments_lexer": "ipython3",
   "version": "3.9.7"
  },
  "toc": {
   "base_numbering": 1,
   "nav_menu": {},
   "number_sections": true,
   "sideBar": true,
   "skip_h1_title": true,
   "title_cell": "Table of Contents",
   "title_sidebar": "Contents",
   "toc_cell": false,
   "toc_position": {},
   "toc_section_display": true,
   "toc_window_display": false
  }
 },
 "nbformat": 4,
 "nbformat_minor": 2
}
