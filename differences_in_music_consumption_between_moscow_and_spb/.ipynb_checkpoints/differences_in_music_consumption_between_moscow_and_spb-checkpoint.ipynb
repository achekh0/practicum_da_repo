{
 "cells": [
  {
   "cell_type": "markdown",
   "metadata": {
    "id": "E0vqbgi9ay0H"
   },
   "source": [
    "# Яндекс.Музыка"
   ]
  },
  {
   "cell_type": "markdown",
   "metadata": {
    "id": "VUC88oWjTJw2"
   },
   "source": [
    "Сравнение Москвы и Петербурга окружено мифами. Например:\n",
    " * Москва — мегаполис, подчинённый жёсткому ритму рабочей недели;\n",
    " * Петербург — культурная столица, со своими вкусами.\n",
    "\n",
    "\n",
    "**Цель исследования** — на данных Яндекс.Музыки проверить три гипотезы:\n",
    "1. Активность пользователей зависит от дня недели. Причём в Москве и Петербурге это проявляется по-разному.\n",
    "2. В понедельник утром в Москве преобладают одни жанры, а в Петербурге — другие. Так же и вечером пятницы преобладают разные жанры — в зависимости от города. \n",
    "3. Москва и Петербург предпочитают разные жанры музыки. В Москве чаще слушают поп-музыку, в Петербурге — русский рэп.\n",
    "\n",
    "**Ход исследования**\n",
    "\n",
    "Исследование пройдёт в три этапа:\n",
    " 1. Обзор данных.\n",
    " 2. Предобработка данных.\n",
    " 3. Проверка гипотез.\n",
    "\n"
   ]
  },
  {
   "cell_type": "markdown",
   "metadata": {
    "id": "Ml1hmfXC_Zcs"
   },
   "source": [
    "## Обзор данных\n",
    "\n",
    "\n",
    "\n",
    "\n"
   ]
  },
  {
   "cell_type": "code",
   "execution_count": 2,
   "metadata": {
    "id": "AXN7PHPN_Zcs"
   },
   "outputs": [],
   "source": [
    "# импорт библиотеки pandas\n",
    "import pandas as pd"
   ]
  },
  {
   "cell_type": "code",
   "execution_count": 3,
   "metadata": {
    "id": "fFVu7vqh_Zct"
   },
   "outputs": [],
   "source": [
    "# чтение файла с данными и сохранение в df\n",
    "\n",
    "df = pd.read_csv('https://code.s3.yandex.net/datasets/yandex_music_project.csv') "
   ]
  },
  {
   "cell_type": "code",
   "execution_count": 4,
   "metadata": {
    "id": "oWTVX3gW_Zct"
   },
   "outputs": [
    {
     "data": {
      "text/html": [
       "<div>\n",
       "<style scoped>\n",
       "    .dataframe tbody tr th:only-of-type {\n",
       "        vertical-align: middle;\n",
       "    }\n",
       "\n",
       "    .dataframe tbody tr th {\n",
       "        vertical-align: top;\n",
       "    }\n",
       "\n",
       "    .dataframe thead th {\n",
       "        text-align: right;\n",
       "    }\n",
       "</style>\n",
       "<table border=\"1\" class=\"dataframe\">\n",
       "  <thead>\n",
       "    <tr style=\"text-align: right;\">\n",
       "      <th></th>\n",
       "      <th>userID</th>\n",
       "      <th>Track</th>\n",
       "      <th>artist</th>\n",
       "      <th>genre</th>\n",
       "      <th>City</th>\n",
       "      <th>time</th>\n",
       "      <th>Day</th>\n",
       "    </tr>\n",
       "  </thead>\n",
       "  <tbody>\n",
       "    <tr>\n",
       "      <th>0</th>\n",
       "      <td>FFB692EC</td>\n",
       "      <td>Kamigata To Boots</td>\n",
       "      <td>The Mass Missile</td>\n",
       "      <td>rock</td>\n",
       "      <td>Saint-Petersburg</td>\n",
       "      <td>20:28:33</td>\n",
       "      <td>Wednesday</td>\n",
       "    </tr>\n",
       "    <tr>\n",
       "      <th>1</th>\n",
       "      <td>55204538</td>\n",
       "      <td>Delayed Because of Accident</td>\n",
       "      <td>Andreas Rönnberg</td>\n",
       "      <td>rock</td>\n",
       "      <td>Moscow</td>\n",
       "      <td>14:07:09</td>\n",
       "      <td>Friday</td>\n",
       "    </tr>\n",
       "    <tr>\n",
       "      <th>2</th>\n",
       "      <td>20EC38</td>\n",
       "      <td>Funiculì funiculà</td>\n",
       "      <td>Mario Lanza</td>\n",
       "      <td>pop</td>\n",
       "      <td>Saint-Petersburg</td>\n",
       "      <td>20:58:07</td>\n",
       "      <td>Wednesday</td>\n",
       "    </tr>\n",
       "    <tr>\n",
       "      <th>3</th>\n",
       "      <td>A3DD03C9</td>\n",
       "      <td>Dragons in the Sunset</td>\n",
       "      <td>Fire + Ice</td>\n",
       "      <td>folk</td>\n",
       "      <td>Saint-Petersburg</td>\n",
       "      <td>08:37:09</td>\n",
       "      <td>Monday</td>\n",
       "    </tr>\n",
       "    <tr>\n",
       "      <th>4</th>\n",
       "      <td>E2DC1FAE</td>\n",
       "      <td>Soul People</td>\n",
       "      <td>Space Echo</td>\n",
       "      <td>dance</td>\n",
       "      <td>Moscow</td>\n",
       "      <td>08:34:34</td>\n",
       "      <td>Monday</td>\n",
       "    </tr>\n",
       "    <tr>\n",
       "      <th>5</th>\n",
       "      <td>842029A1</td>\n",
       "      <td>Преданная</td>\n",
       "      <td>IMPERVTOR</td>\n",
       "      <td>rusrap</td>\n",
       "      <td>Saint-Petersburg</td>\n",
       "      <td>13:09:41</td>\n",
       "      <td>Friday</td>\n",
       "    </tr>\n",
       "    <tr>\n",
       "      <th>6</th>\n",
       "      <td>4CB90AA5</td>\n",
       "      <td>True</td>\n",
       "      <td>Roman Messer</td>\n",
       "      <td>dance</td>\n",
       "      <td>Moscow</td>\n",
       "      <td>13:00:07</td>\n",
       "      <td>Wednesday</td>\n",
       "    </tr>\n",
       "    <tr>\n",
       "      <th>7</th>\n",
       "      <td>F03E1C1F</td>\n",
       "      <td>Feeling This Way</td>\n",
       "      <td>Polina Griffith</td>\n",
       "      <td>dance</td>\n",
       "      <td>Moscow</td>\n",
       "      <td>20:47:49</td>\n",
       "      <td>Wednesday</td>\n",
       "    </tr>\n",
       "    <tr>\n",
       "      <th>8</th>\n",
       "      <td>8FA1D3BE</td>\n",
       "      <td>И вновь продолжается бой</td>\n",
       "      <td>NaN</td>\n",
       "      <td>ruspop</td>\n",
       "      <td>Moscow</td>\n",
       "      <td>09:17:40</td>\n",
       "      <td>Friday</td>\n",
       "    </tr>\n",
       "    <tr>\n",
       "      <th>9</th>\n",
       "      <td>E772D5C0</td>\n",
       "      <td>Pessimist</td>\n",
       "      <td>NaN</td>\n",
       "      <td>dance</td>\n",
       "      <td>Saint-Petersburg</td>\n",
       "      <td>21:20:49</td>\n",
       "      <td>Wednesday</td>\n",
       "    </tr>\n",
       "  </tbody>\n",
       "</table>\n",
       "</div>"
      ],
      "text/plain": [
       "     userID                        Track            artist   genre  \\\n",
       "0  FFB692EC            Kamigata To Boots  The Mass Missile    rock   \n",
       "1  55204538  Delayed Because of Accident  Andreas Rönnberg    rock   \n",
       "2    20EC38            Funiculì funiculà       Mario Lanza     pop   \n",
       "3  A3DD03C9        Dragons in the Sunset        Fire + Ice    folk   \n",
       "4  E2DC1FAE                  Soul People        Space Echo   dance   \n",
       "5  842029A1                    Преданная         IMPERVTOR  rusrap   \n",
       "6  4CB90AA5                         True      Roman Messer   dance   \n",
       "7  F03E1C1F             Feeling This Way   Polina Griffith   dance   \n",
       "8  8FA1D3BE     И вновь продолжается бой               NaN  ruspop   \n",
       "9  E772D5C0                    Pessimist               NaN   dance   \n",
       "\n",
       "             City        time        Day  \n",
       "0  Saint-Petersburg  20:28:33  Wednesday  \n",
       "1            Moscow  14:07:09     Friday  \n",
       "2  Saint-Petersburg  20:58:07  Wednesday  \n",
       "3  Saint-Petersburg  08:37:09     Monday  \n",
       "4            Moscow  08:34:34     Monday  \n",
       "5  Saint-Petersburg  13:09:41     Friday  \n",
       "6            Moscow  13:00:07  Wednesday  \n",
       "7            Moscow  20:47:49  Wednesday  \n",
       "8            Moscow  09:17:40     Friday  \n",
       "9  Saint-Petersburg  21:20:49  Wednesday  "
      ]
     },
     "execution_count": 4,
     "metadata": {},
     "output_type": "execute_result"
    }
   ],
   "source": [
    "# получение первых 10 строк таблицы df\n",
    "df.head(10)"
   ]
  },
  {
   "cell_type": "code",
   "execution_count": 5,
   "metadata": {
    "id": "DSf2kIb-_Zct"
   },
   "outputs": [
    {
     "name": "stdout",
     "output_type": "stream",
     "text": [
      "<class 'pandas.core.frame.DataFrame'>\n",
      "RangeIndex: 65079 entries, 0 to 65078\n",
      "Data columns (total 7 columns):\n",
      " #   Column    Non-Null Count  Dtype \n",
      "---  ------    --------------  ----- \n",
      " 0     userID  65079 non-null  object\n",
      " 1   Track     63848 non-null  object\n",
      " 2   artist    57876 non-null  object\n",
      " 3   genre     63881 non-null  object\n",
      " 4     City    65079 non-null  object\n",
      " 5   time      65079 non-null  object\n",
      " 6   Day       65079 non-null  object\n",
      "dtypes: object(7)\n",
      "memory usage: 3.5+ MB\n"
     ]
    }
   ],
   "source": [
    "# получение общей информации о данных в таблице df\n",
    "df.info()"
   ]
  },
  {
   "cell_type": "markdown",
   "metadata": {
    "id": "TaQ2Iwbr_Zct"
   },
   "source": [
    "Итак, в таблице семь столбцов. Тип данных во всех столбцах — `object`.\n",
    "\n",
    "Согласно документации к данным:\n",
    "* `userID` — идентификатор пользователя;\n",
    "* `Track` — название трека;  \n",
    "* `artist` — имя исполнителя;\n",
    "* `genre` — название жанра;\n",
    "* `City` — город пользователя;\n",
    "* `time` — время начала прослушивания;\n",
    "* `Day` — день недели.\n",
    "\n",
    "В названиях колонок видны три нарушения стиля:\n",
    "1. Строчные буквы сочетаются с прописными.\n",
    "2. Встречаются пробелы.\n",
    "3. В названии столбца c идентификатором пользователя слова не разделены нижним подчеркиванием.\n",
    "\n",
    "\n",
    "\n",
    "Количество значений в столбцах различается. Значит, в данных есть пропущенные значения.\n"
   ]
  },
  {
   "cell_type": "markdown",
   "metadata": {
    "id": "MCB6-dXG_Zct"
   },
   "source": [
    "**Выводы**\n",
    "\n",
    "В каждой строке таблицы — данные о прослушанном треке. Часть колонок описывает саму композицию: название, исполнителя и жанр. Остальные данные рассказывают о пользователе: из какого он города, когда он слушал музыку. \n",
    "\n",
    "Предварительно можно утверждать, что, данных достаточно для проверки гипотез. Но встречаются пропуски в данных, а в названиях колонок — расхождения с хорошим стилем.\n",
    "\n",
    "Чтобы двигаться дальше, нужно устранить проблемы в данных."
   ]
  },
  {
   "cell_type": "markdown",
   "metadata": {
    "id": "SjYF6Ub9_Zct"
   },
   "source": [
    "## Предобработка данных\n"
   ]
  },
  {
   "cell_type": "markdown",
   "metadata": {
    "id": "dIaKXr29_Zct"
   },
   "source": [
    "### Стиль заголовков\n"
   ]
  },
  {
   "cell_type": "code",
   "execution_count": 6,
   "metadata": {
    "id": "oKOTdF_Q_Zct"
   },
   "outputs": [
    {
     "data": {
      "text/plain": [
       "Index(['  userID', 'Track', 'artist', 'genre', '  City  ', 'time', 'Day'], dtype='object')"
      ]
     },
     "execution_count": 6,
     "metadata": {},
     "output_type": "execute_result"
    }
   ],
   "source": [
    "# перечень названий столбцов таблицы df\n",
    "df.columns"
   ]
  },
  {
   "cell_type": "code",
   "execution_count": 7,
   "metadata": {
    "id": "ISlFqs5y_Zct"
   },
   "outputs": [],
   "source": [
    "# переименование столбцов\n",
    "df = df.rename(columns={'  userID': 'user_id','Track': 'track','  City  ': 'city','Day': 'day'}) "
   ]
  },
  {
   "cell_type": "code",
   "execution_count": 8,
   "metadata": {
    "id": "d4NOAmTW_Zct"
   },
   "outputs": [
    {
     "data": {
      "text/plain": [
       "Index(['user_id', 'track', 'artist', 'genre', 'city', 'time', 'day'], dtype='object')"
      ]
     },
     "execution_count": 8,
     "metadata": {},
     "output_type": "execute_result"
    }
   ],
   "source": [
    "# проверка результатов - перечень названий столбцов\n",
    "df.columns"
   ]
  },
  {
   "cell_type": "markdown",
   "metadata": {
    "id": "5ISfbcfY_Zct"
   },
   "source": [
    "### Пропуски значений\n"
   ]
  },
  {
   "cell_type": "code",
   "execution_count": 9,
   "metadata": {
    "id": "RskX29qr_Zct"
   },
   "outputs": [
    {
     "data": {
      "text/plain": [
       "user_id       0\n",
       "track      1231\n",
       "artist     7203\n",
       "genre      1198\n",
       "city          0\n",
       "time          0\n",
       "day           0\n",
       "dtype: int64"
      ]
     },
     "execution_count": 9,
     "metadata": {},
     "output_type": "execute_result"
    }
   ],
   "source": [
    "# подсчёт пропусков\n",
    "df.isna().sum()"
   ]
  },
  {
   "cell_type": "code",
   "execution_count": 10,
   "metadata": {
    "id": "KplB5qWs_Zct"
   },
   "outputs": [],
   "source": [
    "# перебор названий столбцов в цикле и замена пропущенных значений на 'unknown'\n",
    "columns_to_replace = df.columns\n",
    "for column in columns_to_replace:\n",
    "    df[column] = df[column].fillna('unknown')"
   ]
  },
  {
   "cell_type": "code",
   "execution_count": 11,
   "metadata": {
    "id": "Tq4nYRX4_Zct"
   },
   "outputs": [
    {
     "data": {
      "text/plain": [
       "user_id    0\n",
       "track      0\n",
       "artist     0\n",
       "genre      0\n",
       "city       0\n",
       "time       0\n",
       "day        0\n",
       "dtype: int64"
      ]
     },
     "execution_count": 11,
     "metadata": {},
     "output_type": "execute_result"
    }
   ],
   "source": [
    "# подсчёт пропусков\n",
    "df.isna().sum()"
   ]
  },
  {
   "cell_type": "markdown",
   "metadata": {
    "id": "BWKRtBJ3_Zct"
   },
   "source": [
    "### Дубликаты\n"
   ]
  },
  {
   "cell_type": "code",
   "execution_count": 12,
   "metadata": {
    "id": "36eES_S0_Zct"
   },
   "outputs": [
    {
     "data": {
      "text/plain": [
       "3826"
      ]
     },
     "execution_count": 12,
     "metadata": {},
     "output_type": "execute_result"
    }
   ],
   "source": [
    "# подсчёт явных дубликатов\n",
    "df.duplicated().sum()"
   ]
  },
  {
   "cell_type": "code",
   "execution_count": 13,
   "metadata": {
    "id": "exFHq6tt_Zct"
   },
   "outputs": [],
   "source": [
    "# удаление явных дубликатов (с удалением старых индексов и формированием новых)\n",
    "df = df.drop_duplicates().reset_index(drop=True)"
   ]
  },
  {
   "cell_type": "code",
   "execution_count": 14,
   "metadata": {
    "id": "-8PuNWQ0_Zct"
   },
   "outputs": [
    {
     "data": {
      "text/plain": [
       "0"
      ]
     },
     "execution_count": 14,
     "metadata": {},
     "output_type": "execute_result"
    }
   ],
   "source": [
    "# проверка на отсутствие дубликатов\n",
    "df.duplicated().sum()"
   ]
  },
  {
   "cell_type": "code",
   "execution_count": 15,
   "metadata": {
    "id": "JIUcqzZN_Zct"
   },
   "outputs": [
    {
     "data": {
      "text/plain": [
       "array(['acid', 'acoustic', 'action', 'adult', 'africa', 'afrikaans',\n",
       "       'alternative', 'alternativepunk', 'ambient', 'americana',\n",
       "       'animated', 'anime', 'arabesk', 'arabic', 'arena',\n",
       "       'argentinetango', 'art', 'audiobook', 'author', 'avantgarde',\n",
       "       'axé', 'baile', 'balkan', 'beats', 'bigroom', 'black', 'bluegrass',\n",
       "       'blues', 'bollywood', 'bossa', 'brazilian', 'breakbeat', 'breaks',\n",
       "       'broadway', 'cantautori', 'cantopop', 'canzone', 'caribbean',\n",
       "       'caucasian', 'celtic', 'chamber', 'chanson', 'children', 'chill',\n",
       "       'chinese', 'choral', 'christian', 'christmas', 'classical',\n",
       "       'classicmetal', 'club', 'colombian', 'comedy', 'conjazz',\n",
       "       'contemporary', 'country', 'cuban', 'dance', 'dancehall',\n",
       "       'dancepop', 'dark', 'death', 'deep', 'deutschrock', 'deutschspr',\n",
       "       'dirty', 'disco', 'dnb', 'documentary', 'downbeat', 'downtempo',\n",
       "       'drum', 'dub', 'dubstep', 'eastern', 'easy', 'electronic',\n",
       "       'electropop', 'emo', 'entehno', 'epicmetal', 'estrada', 'ethnic',\n",
       "       'eurofolk', 'european', 'experimental', 'extrememetal', 'fado',\n",
       "       'fairytail', 'film', 'fitness', 'flamenco', 'folk', 'folklore',\n",
       "       'folkmetal', 'folkrock', 'folktronica', 'forró', 'frankreich',\n",
       "       'französisch', 'french', 'funk', 'future', 'gangsta', 'garage',\n",
       "       'german', 'ghazal', 'gitarre', 'glitch', 'gospel', 'gothic',\n",
       "       'grime', 'grunge', 'gypsy', 'handsup', \"hard'n'heavy\", 'hardcore',\n",
       "       'hardstyle', 'hardtechno', 'hip', 'hip-hop', 'hiphop',\n",
       "       'historisch', 'holiday', 'hop', 'horror', 'house', 'hymn', 'idm',\n",
       "       'independent', 'indian', 'indie', 'indipop', 'industrial',\n",
       "       'inspirational', 'instrumental', 'international', 'irish', 'jam',\n",
       "       'japanese', 'jazz', 'jewish', 'jpop', 'jungle', 'k-pop',\n",
       "       'karadeniz', 'karaoke', 'kayokyoku', 'korean', 'laiko', 'latin',\n",
       "       'latino', 'leftfield', 'local', 'lounge', 'loungeelectronic',\n",
       "       'lovers', 'malaysian', 'mandopop', 'marschmusik', 'meditative',\n",
       "       'mediterranean', 'melodic', 'metal', 'metalcore', 'mexican',\n",
       "       'middle', 'minimal', 'miscellaneous', 'modern', 'mood', 'mpb',\n",
       "       'muslim', 'native', 'neoklassik', 'neue', 'new', 'newage',\n",
       "       'newwave', 'nu', 'nujazz', 'numetal', 'oceania', 'old', 'opera',\n",
       "       'orchestral', 'other', 'piano', 'podcasts', 'pop', 'popdance',\n",
       "       'popelectronic', 'popeurodance', 'poprussian', 'post',\n",
       "       'posthardcore', 'postrock', 'power', 'progmetal', 'progressive',\n",
       "       'psychedelic', 'punjabi', 'punk', 'quebecois', 'ragga', 'ram',\n",
       "       'rancheras', 'rap', 'rave', 'reggae', 'reggaeton', 'regional',\n",
       "       'relax', 'religious', 'retro', 'rhythm', 'rnb', 'rnr', 'rock',\n",
       "       'rockabilly', 'rockalternative', 'rockindie', 'rockother',\n",
       "       'romance', 'roots', 'ruspop', 'rusrap', 'rusrock', 'russian',\n",
       "       'salsa', 'samba', 'scenic', 'schlager', 'self', 'sertanejo',\n",
       "       'shanson', 'shoegazing', 'showtunes', 'singer', 'ska', 'skarock',\n",
       "       'slow', 'smooth', 'soft', 'soul', 'soulful', 'sound', 'soundtrack',\n",
       "       'southern', 'specialty', 'speech', 'spiritual', 'sport',\n",
       "       'stonerrock', 'surf', 'swing', 'synthpop', 'synthrock',\n",
       "       'sängerportrait', 'tango', 'tanzorchester', 'taraftar', 'tatar',\n",
       "       'tech', 'techno', 'teen', 'thrash', 'top', 'traditional',\n",
       "       'tradjazz', 'trance', 'tribal', 'trip', 'triphop', 'tropical',\n",
       "       'türk', 'türkçe', 'ukrrock', 'unknown', 'urban', 'uzbek',\n",
       "       'variété', 'vi', 'videogame', 'vocal', 'western', 'world',\n",
       "       'worldbeat', 'ïîï', 'электроника'], dtype=object)"
      ]
     },
     "execution_count": 15,
     "metadata": {},
     "output_type": "execute_result"
    }
   ],
   "source": [
    "# Просмотр уникальных названий жанров\n",
    "df['genre'].sort_values().unique()"
   ]
  },
  {
   "cell_type": "code",
   "execution_count": 16,
   "metadata": {
    "id": "ErNDkmns_Zct"
   },
   "outputs": [],
   "source": [
    "# Функция для замены неявных дубликатов\n",
    "def replace_wrong_genres(wrong_genres, correct_genre):\n",
    "    for wrong_genre in wrong_genres:\n",
    "        df['genre']=df['genre'].replace(wrong_genre, correct_genre)"
   ]
  },
  {
   "cell_type": "code",
   "execution_count": 17,
   "metadata": {
    "id": "YN5i2hpmSo09"
   },
   "outputs": [],
   "source": [
    "# Устранение неявных дубликатов\n",
    "replace_wrong_genres(['hip', 'hip-hop','hop'],'hiphop')"
   ]
  },
  {
   "cell_type": "code",
   "execution_count": 18,
   "metadata": {
    "id": "wvixALnFG15m"
   },
   "outputs": [
    {
     "data": {
      "text/plain": [
       "array(['acid', 'acoustic', 'action', 'adult', 'africa', 'afrikaans',\n",
       "       'alternative', 'alternativepunk', 'ambient', 'americana',\n",
       "       'animated', 'anime', 'arabesk', 'arabic', 'arena',\n",
       "       'argentinetango', 'art', 'audiobook', 'author', 'avantgarde',\n",
       "       'axé', 'baile', 'balkan', 'beats', 'bigroom', 'black', 'bluegrass',\n",
       "       'blues', 'bollywood', 'bossa', 'brazilian', 'breakbeat', 'breaks',\n",
       "       'broadway', 'cantautori', 'cantopop', 'canzone', 'caribbean',\n",
       "       'caucasian', 'celtic', 'chamber', 'chanson', 'children', 'chill',\n",
       "       'chinese', 'choral', 'christian', 'christmas', 'classical',\n",
       "       'classicmetal', 'club', 'colombian', 'comedy', 'conjazz',\n",
       "       'contemporary', 'country', 'cuban', 'dance', 'dancehall',\n",
       "       'dancepop', 'dark', 'death', 'deep', 'deutschrock', 'deutschspr',\n",
       "       'dirty', 'disco', 'dnb', 'documentary', 'downbeat', 'downtempo',\n",
       "       'drum', 'dub', 'dubstep', 'eastern', 'easy', 'electronic',\n",
       "       'electropop', 'emo', 'entehno', 'epicmetal', 'estrada', 'ethnic',\n",
       "       'eurofolk', 'european', 'experimental', 'extrememetal', 'fado',\n",
       "       'fairytail', 'film', 'fitness', 'flamenco', 'folk', 'folklore',\n",
       "       'folkmetal', 'folkrock', 'folktronica', 'forró', 'frankreich',\n",
       "       'französisch', 'french', 'funk', 'future', 'gangsta', 'garage',\n",
       "       'german', 'ghazal', 'gitarre', 'glitch', 'gospel', 'gothic',\n",
       "       'grime', 'grunge', 'gypsy', 'handsup', \"hard'n'heavy\", 'hardcore',\n",
       "       'hardstyle', 'hardtechno', 'hiphop', 'historisch', 'holiday',\n",
       "       'horror', 'house', 'hymn', 'idm', 'independent', 'indian', 'indie',\n",
       "       'indipop', 'industrial', 'inspirational', 'instrumental',\n",
       "       'international', 'irish', 'jam', 'japanese', 'jazz', 'jewish',\n",
       "       'jpop', 'jungle', 'k-pop', 'karadeniz', 'karaoke', 'kayokyoku',\n",
       "       'korean', 'laiko', 'latin', 'latino', 'leftfield', 'local',\n",
       "       'lounge', 'loungeelectronic', 'lovers', 'malaysian', 'mandopop',\n",
       "       'marschmusik', 'meditative', 'mediterranean', 'melodic', 'metal',\n",
       "       'metalcore', 'mexican', 'middle', 'minimal', 'miscellaneous',\n",
       "       'modern', 'mood', 'mpb', 'muslim', 'native', 'neoklassik', 'neue',\n",
       "       'new', 'newage', 'newwave', 'nu', 'nujazz', 'numetal', 'oceania',\n",
       "       'old', 'opera', 'orchestral', 'other', 'piano', 'podcasts', 'pop',\n",
       "       'popdance', 'popelectronic', 'popeurodance', 'poprussian', 'post',\n",
       "       'posthardcore', 'postrock', 'power', 'progmetal', 'progressive',\n",
       "       'psychedelic', 'punjabi', 'punk', 'quebecois', 'ragga', 'ram',\n",
       "       'rancheras', 'rap', 'rave', 'reggae', 'reggaeton', 'regional',\n",
       "       'relax', 'religious', 'retro', 'rhythm', 'rnb', 'rnr', 'rock',\n",
       "       'rockabilly', 'rockalternative', 'rockindie', 'rockother',\n",
       "       'romance', 'roots', 'ruspop', 'rusrap', 'rusrock', 'russian',\n",
       "       'salsa', 'samba', 'scenic', 'schlager', 'self', 'sertanejo',\n",
       "       'shanson', 'shoegazing', 'showtunes', 'singer', 'ska', 'skarock',\n",
       "       'slow', 'smooth', 'soft', 'soul', 'soulful', 'sound', 'soundtrack',\n",
       "       'southern', 'specialty', 'speech', 'spiritual', 'sport',\n",
       "       'stonerrock', 'surf', 'swing', 'synthpop', 'synthrock',\n",
       "       'sängerportrait', 'tango', 'tanzorchester', 'taraftar', 'tatar',\n",
       "       'tech', 'techno', 'teen', 'thrash', 'top', 'traditional',\n",
       "       'tradjazz', 'trance', 'tribal', 'trip', 'triphop', 'tropical',\n",
       "       'türk', 'türkçe', 'ukrrock', 'unknown', 'urban', 'uzbek',\n",
       "       'variété', 'vi', 'videogame', 'vocal', 'western', 'world',\n",
       "       'worldbeat', 'ïîï', 'электроника'], dtype=object)"
      ]
     },
     "execution_count": 18,
     "metadata": {},
     "output_type": "execute_result"
    }
   ],
   "source": [
    "# Проверка на неявные дубликаты\n",
    "df['genre'].sort_values().unique()"
   ]
  },
  {
   "cell_type": "markdown",
   "metadata": {
    "id": "jz6a9-7HQUDd"
   },
   "source": [
    "**Выводы**\n",
    "\n",
    "Предобработка обнаружила три проблемы в данных:\n",
    "\n",
    "- нарушения в стиле заголовков,\n",
    "- пропущенные значения,\n",
    "- дубликаты — явные и неявные.\n"
   ]
  },
  {
   "cell_type": "markdown",
   "metadata": {
    "id": "WttZHXH0SqKk"
   },
   "source": [
    "## Проверка гипотез"
   ]
  },
  {
   "cell_type": "markdown",
   "metadata": {
    "id": "Im936VVi_Zcu"
   },
   "source": [
    "### Сравнение поведения пользователей двух столиц"
   ]
  },
  {
   "cell_type": "markdown",
   "metadata": {
    "id": "nwt_MuaL_Zcu"
   },
   "source": [
    "Первая гипотеза утверждает, что пользователи по-разному слушают музыку в Москве и Санкт-Петербурге. \n"
   ]
  },
  {
   "cell_type": "code",
   "execution_count": 19,
   "metadata": {
    "id": "0_Qs96oh_Zcu"
   },
   "outputs": [
    {
     "data": {
      "text/plain": [
       "city\n",
       "Moscow              42741\n",
       "Saint-Petersburg    18512\n",
       "Name: user_id, dtype: int64"
      ]
     },
     "execution_count": 19,
     "metadata": {},
     "output_type": "execute_result"
    }
   ],
   "source": [
    "# Подсчёт прослушиваний в каждом городе\n",
    "df.groupby('city')['user_id'].count()"
   ]
  },
  {
   "cell_type": "markdown",
   "metadata": {
    "id": "dzli3w8o_Zcu"
   },
   "source": [
    "В Москве прослушиваний больше, чем в Петербурге. Из этого не следует, что московские пользователи чаще слушают музыку. Просто самих пользователей в Москве больше.\n",
    "\n"
   ]
  },
  {
   "cell_type": "code",
   "execution_count": 20,
   "metadata": {
    "id": "uZMKjiJz_Zcu"
   },
   "outputs": [
    {
     "data": {
      "text/plain": [
       "day\n",
       "Friday       21840\n",
       "Monday       21354\n",
       "Wednesday    18059\n",
       "Name: user_id, dtype: int64"
      ]
     },
     "execution_count": 20,
     "metadata": {},
     "output_type": "execute_result"
    }
   ],
   "source": [
    "# Подсчёт прослушиваний в каждый из трёх дней\n",
    "df.groupby('day')['user_id'].count()"
   ]
  },
  {
   "cell_type": "markdown",
   "metadata": {
    "id": "cC2tNrlL_Zcu"
   },
   "source": [
    "В среднем пользователи из двух городов менее активны по средам. Но картина может измениться, если рассмотреть каждый город в отдельности."
   ]
  },
  {
   "cell_type": "code",
   "execution_count": 21,
   "metadata": {
    "id": "Nz3GdQB1_Zcu"
   },
   "outputs": [],
   "source": [
    "# <создание функции number_tracks()>\n",
    "\n",
    "def number_tracks(day,city):\n",
    "    track_list=df[df['day']==day]\n",
    "    track_list=track_list[track_list['city']==city]\n",
    "    track_list_count = track_list['user_id'].count()\n",
    "    return track_list_count\n",
    "\n"
   ]
  },
  {
   "cell_type": "code",
   "execution_count": 22,
   "metadata": {
    "id": "rJcRATNQ_Zcu"
   },
   "outputs": [
    {
     "data": {
      "text/plain": [
       "15740"
      ]
     },
     "execution_count": 22,
     "metadata": {},
     "output_type": "execute_result"
    }
   ],
   "source": [
    "# количество прослушиваний в Москве по понедельникам\n",
    "number_tracks('Monday','Moscow')"
   ]
  },
  {
   "cell_type": "code",
   "execution_count": 23,
   "metadata": {
    "id": "hq_ncZ5T_Zcu"
   },
   "outputs": [
    {
     "data": {
      "text/plain": [
       "5614"
      ]
     },
     "execution_count": 23,
     "metadata": {},
     "output_type": "execute_result"
    }
   ],
   "source": [
    "# количество прослушиваний в Санкт-Петербурге по понедельникам\n",
    "number_tracks('Monday','Saint-Petersburg')"
   ]
  },
  {
   "cell_type": "code",
   "execution_count": 24,
   "metadata": {
    "id": "_NTy2VPU_Zcu"
   },
   "outputs": [
    {
     "data": {
      "text/plain": [
       "11056"
      ]
     },
     "execution_count": 24,
     "metadata": {},
     "output_type": "execute_result"
    }
   ],
   "source": [
    "# количество прослушиваний в Москве по средам\n",
    "number_tracks('Wednesday','Moscow')"
   ]
  },
  {
   "cell_type": "code",
   "execution_count": 25,
   "metadata": {
    "id": "j2y3TAwo_Zcu"
   },
   "outputs": [
    {
     "data": {
      "text/plain": [
       "7003"
      ]
     },
     "execution_count": 25,
     "metadata": {},
     "output_type": "execute_result"
    }
   ],
   "source": [
    "# количество прослушиваний в Санкт-Петербурге по средам\n",
    "number_tracks('Wednesday','Saint-Petersburg')"
   ]
  },
  {
   "cell_type": "code",
   "execution_count": 26,
   "metadata": {
    "id": "vYDw5u_K_Zcu"
   },
   "outputs": [
    {
     "data": {
      "text/plain": [
       "15945"
      ]
     },
     "execution_count": 26,
     "metadata": {},
     "output_type": "execute_result"
    }
   ],
   "source": [
    "# количество прослушиваний в Москве по пятницам\n",
    "number_tracks('Friday','Moscow')"
   ]
  },
  {
   "cell_type": "code",
   "execution_count": 27,
   "metadata": {
    "id": "8_yzFtW3_Zcu"
   },
   "outputs": [
    {
     "data": {
      "text/plain": [
       "5895"
      ]
     },
     "execution_count": 27,
     "metadata": {},
     "output_type": "execute_result"
    }
   ],
   "source": [
    "# количество прослушиваний в Санкт-Петербурге по пятницам\n",
    "number_tracks('Friday','Saint-Petersburg')"
   ]
  },
  {
   "cell_type": "code",
   "execution_count": 28,
   "metadata": {
    "id": "APAcLpOr_Zcu"
   },
   "outputs": [
    {
     "data": {
      "text/html": [
       "<div>\n",
       "<style scoped>\n",
       "    .dataframe tbody tr th:only-of-type {\n",
       "        vertical-align: middle;\n",
       "    }\n",
       "\n",
       "    .dataframe tbody tr th {\n",
       "        vertical-align: top;\n",
       "    }\n",
       "\n",
       "    .dataframe thead th {\n",
       "        text-align: right;\n",
       "    }\n",
       "</style>\n",
       "<table border=\"1\" class=\"dataframe\">\n",
       "  <thead>\n",
       "    <tr style=\"text-align: right;\">\n",
       "      <th></th>\n",
       "      <th>city</th>\n",
       "      <th>monday</th>\n",
       "      <th>wednesday</th>\n",
       "      <th>friday</th>\n",
       "    </tr>\n",
       "  </thead>\n",
       "  <tbody>\n",
       "    <tr>\n",
       "      <th>0</th>\n",
       "      <td>Moscow</td>\n",
       "      <td>15740</td>\n",
       "      <td>11056</td>\n",
       "      <td>15945</td>\n",
       "    </tr>\n",
       "    <tr>\n",
       "      <th>1</th>\n",
       "      <td>Saint-Petersburg</td>\n",
       "      <td>5614</td>\n",
       "      <td>7003</td>\n",
       "      <td>5895</td>\n",
       "    </tr>\n",
       "  </tbody>\n",
       "</table>\n",
       "</div>"
      ],
      "text/plain": [
       "               city  monday  wednesday  friday\n",
       "0            Moscow   15740      11056   15945\n",
       "1  Saint-Petersburg    5614       7003    5895"
      ]
     },
     "execution_count": 28,
     "metadata": {},
     "output_type": "execute_result"
    }
   ],
   "source": [
    "# Таблица с результатами\n",
    "column_names=['city', 'monday', 'wednesday', 'friday']\n",
    "number_tracks_data=[\n",
    "    ['Moscow',15740,11056,15945],\n",
    "    ['Saint-Petersburg',5614,7003,5895]\n",
    "]\n",
    "\n",
    "pd.DataFrame(data=number_tracks_data,columns=column_names)"
   ]
  },
  {
   "cell_type": "markdown",
   "metadata": {
    "id": "-EgPIHYu_Zcu"
   },
   "source": [
    "**Выводы**\n",
    "\n",
    "Данные показывают разницу поведения пользователей:\n",
    "\n",
    "- В Москве пик прослушиваний приходится на понедельник и пятницу, а в среду заметен спад.\n",
    "- В Петербурге, наоборот, больше слушают музыку по средам. Активность в понедельник и пятницу здесь почти в равной мере уступает среде.\n",
    "\n",
    "Значит, данные говорят в пользу первой гипотезы."
   ]
  },
  {
   "cell_type": "markdown",
   "metadata": {
    "id": "atZAxtq4_Zcu"
   },
   "source": [
    "### Музыка в начале и в конце недели"
   ]
  },
  {
   "cell_type": "markdown",
   "metadata": {
    "id": "eXrQqXFH_Zcu"
   },
   "source": [
    "Согласно второй гипотезе, утром в понедельник в Москве преобладают одни жанры, а в Петербурге — другие. Так же и вечером пятницы преобладают разные жанры — в зависимости от города."
   ]
  },
  {
   "cell_type": "code",
   "execution_count": 29,
   "metadata": {
    "id": "qeaFfM_P_Zcu"
   },
   "outputs": [],
   "source": [
    "# получение таблицы moscow_general из тех строк таблицы df, \n",
    "# для которых значение в столбце 'city' равно 'Moscow'\n",
    "moscow_general=df[df['city']=='Moscow']\n"
   ]
  },
  {
   "cell_type": "code",
   "execution_count": 30,
   "metadata": {
    "id": "ORaVRKto_Zcu"
   },
   "outputs": [],
   "source": [
    "# получение таблицы spb_general из тех строк таблицы df,\n",
    "# для которых значение в столбце 'city' равно 'Saint-Petersburg'\n",
    "spb_general=df[df['city']=='Saint-Petersburg']"
   ]
  },
  {
   "cell_type": "code",
   "execution_count": 31,
   "metadata": {
    "id": "laJT9BYl_Zcu"
   },
   "outputs": [],
   "source": [
    "# Объявление функции genre_weekday() с параметрами table, day, time1, time2,   \n",
    "\n",
    "def genre_weekday(table, day, time1, time2):\n",
    "    genre_df=table[table['day']==day]\n",
    "    genre_df=genre_df[genre_df['time']>time1]\n",
    "    genre_df=genre_df[genre_df['time']<time2]\n",
    "    genre_df_count=genre_df.groupby('genre')['user_id'].count()\n",
    "    genre_df_sorted=genre_df_count.sort_values(ascending=False)\n",
    "    return genre_df_sorted.head(10)"
   ]
  },
  {
   "cell_type": "code",
   "execution_count": 32,
   "metadata": {
    "id": "yz7itPUQ_Zcu"
   },
   "outputs": [
    {
     "data": {
      "text/plain": [
       "genre\n",
       "pop            781\n",
       "dance          549\n",
       "electronic     480\n",
       "rock           474\n",
       "hiphop         286\n",
       "ruspop         186\n",
       "world          181\n",
       "rusrap         175\n",
       "alternative    164\n",
       "unknown        161\n",
       "Name: user_id, dtype: int64"
      ]
     },
     "execution_count": 32,
     "metadata": {},
     "output_type": "execute_result"
    }
   ],
   "source": [
    "# вызов функции для утра понедельника в Москве (вместо df — таблица moscow_general)\n",
    "\n",
    "genre_weekday(moscow_general, 'Monday', '07:00', '11:00')"
   ]
  },
  {
   "cell_type": "code",
   "execution_count": 33,
   "metadata": {
    "id": "kwUcHPdy_Zcu"
   },
   "outputs": [
    {
     "data": {
      "text/plain": [
       "genre\n",
       "pop            218\n",
       "dance          182\n",
       "rock           162\n",
       "electronic     147\n",
       "hiphop          80\n",
       "ruspop          64\n",
       "alternative     58\n",
       "rusrap          55\n",
       "jazz            44\n",
       "classical       40\n",
       "Name: user_id, dtype: int64"
      ]
     },
     "execution_count": 33,
     "metadata": {},
     "output_type": "execute_result"
    }
   ],
   "source": [
    "# вызов функции для утра понедельника в Петербурге (вместо df — таблица spb_general)\n",
    "genre_weekday(spb_general, 'Monday', '07:00', '11:00')"
   ]
  },
  {
   "cell_type": "code",
   "execution_count": 34,
   "metadata": {
    "id": "EzXVRE1o_Zcu"
   },
   "outputs": [
    {
     "data": {
      "text/plain": [
       "genre\n",
       "pop            717\n",
       "dance          524\n",
       "rock           518\n",
       "electronic     485\n",
       "hiphop         238\n",
       "alternative    182\n",
       "classical      172\n",
       "world          172\n",
       "ruspop         149\n",
       "rusrap         133\n",
       "Name: user_id, dtype: int64"
      ]
     },
     "execution_count": 34,
     "metadata": {},
     "output_type": "execute_result"
    }
   ],
   "source": [
    "# вызов функции для вечера пятницы в Москве\n",
    "genre_weekday(moscow_general, 'Monday', '17:00', '23:00')"
   ]
  },
  {
   "cell_type": "code",
   "execution_count": 35,
   "metadata": {
    "id": "JZaEKu5v_Zcu"
   },
   "outputs": [
    {
     "data": {
      "text/plain": [
       "genre\n",
       "pop            263\n",
       "rock           208\n",
       "electronic     192\n",
       "dance          191\n",
       "hiphop         104\n",
       "alternative     72\n",
       "classical       71\n",
       "jazz            57\n",
       "rusrap          54\n",
       "ruspop          53\n",
       "Name: user_id, dtype: int64"
      ]
     },
     "execution_count": 35,
     "metadata": {},
     "output_type": "execute_result"
    }
   ],
   "source": [
    "# вызов функции для вечера пятницы в Петербурге\n",
    "genre_weekday(spb_general, 'Monday', '17:00', '23:00')"
   ]
  },
  {
   "cell_type": "markdown",
   "metadata": {
    "id": "wrCe4MNX_Zcu"
   },
   "source": [
    "**Выводы**\n",
    "\n",
    "Если сравнить топ-10 жанров в понедельник утром, можно сделать такие выводы:\n",
    "\n",
    "1. В Москве и Петербурге слушают похожую музыку. Единственное отличие — в московский рейтинг вошёл жанр “world”, а в петербургский — джаз и классика.\n",
    "\n",
    "2. В Москве пропущенных значений оказалось так много, что значение `'unknown'` заняло десятое место среди самых популярных жанров. Значит, пропущенные значения занимают существенную долю в данных и угрожают достоверности исследования.\n",
    "\n",
    "Вечер пятницы не меняет эту картину. Некоторые жанры поднимаются немного выше, другие спускаются, но в целом топ-10 остаётся тем же самым.\n",
    "\n",
    "Таким образом, вторая гипотеза подтвердилась лишь частично:\n",
    "* Пользователи слушают похожую музыку в начале недели и в конце.\n",
    "* Разница между Москвой и Петербургом не слишком выражена. В Москве чаще слушают русскую популярную музыку, в Петербурге — джаз.\n",
    "\n",
    "Однако пропуски в данных ставят под сомнение этот результат. В Москве их так много, что рейтинг топ-10 мог бы выглядеть иначе, если бы не утерянные  данные о жанрах."
   ]
  },
  {
   "cell_type": "markdown",
   "metadata": {
    "id": "JolODAqr_Zcu"
   },
   "source": [
    "### Жанровые предпочтения в Москве и Петербурге\n",
    "\n",
    "Гипотеза: Петербург — столица рэпа, музыку этого жанра там слушают чаще, чем в Москве.  А Москва — город контрастов, в котором, тем не менее, преобладает поп-музыка."
   ]
  },
  {
   "cell_type": "code",
   "execution_count": 36,
   "metadata": {
    "id": "r19lIPke_Zcu"
   },
   "outputs": [],
   "source": [
    "# группировка таблицы moscow_general по столбцу 'genre', \n",
    "# подсчёт числа значений 'genre' в этой группировке методом count(), \n",
    "# сортировка получившегося Series в порядке убывания и сохранение в moscow_genres\n",
    "moscow_genres=moscow_general.groupby('genre')['genre'].count().sort_values(ascending=False)"
   ]
  },
  {
   "cell_type": "code",
   "execution_count": 37,
   "metadata": {
    "id": "WhCSooF8_Zcv"
   },
   "outputs": [
    {
     "data": {
      "text/plain": [
       "genre\n",
       "pop            5892\n",
       "dance          4435\n",
       "rock           3965\n",
       "electronic     3786\n",
       "hiphop         2096\n",
       "classical      1616\n",
       "world          1432\n",
       "alternative    1379\n",
       "ruspop         1372\n",
       "rusrap         1161\n",
       "Name: genre, dtype: int64"
      ]
     },
     "metadata": {},
     "output_type": "display_data"
    }
   ],
   "source": [
    "# просмотр первых 10 строк moscow_genres\n",
    "display(moscow_genres.head(10))"
   ]
  },
  {
   "cell_type": "code",
   "execution_count": 38,
   "metadata": {
    "id": "gluLIpE7_Zcv"
   },
   "outputs": [],
   "source": [
    "# группировка таблицы spb_general по столбцу 'genre', \n",
    "# подсчёт числа значений 'genre' в этой группировке методом count(), \n",
    "# сортировка получившегося Series в порядке убывания и сохранение в spb_genres\n",
    "spb_genres=spb_general.groupby('genre')['genre'].count().sort_values(ascending=False)"
   ]
  },
  {
   "cell_type": "code",
   "execution_count": 39,
   "metadata": {
    "id": "uaGJHjVU_Zcv"
   },
   "outputs": [
    {
     "data": {
      "text/plain": [
       "genre\n",
       "pop            2431\n",
       "dance          1932\n",
       "rock           1879\n",
       "electronic     1736\n",
       "hiphop          960\n",
       "alternative     649\n",
       "classical       646\n",
       "rusrap          564\n",
       "ruspop          538\n",
       "world           515\n",
       "Name: genre, dtype: int64"
      ]
     },
     "metadata": {},
     "output_type": "display_data"
    }
   ],
   "source": [
    "# просмотр первых 10 строк spb_genres\n",
    "display(spb_genres.head(10))"
   ]
  },
  {
   "cell_type": "markdown",
   "metadata": {
    "id": "RY51YJYu_Zcv"
   },
   "source": [
    "**Выводы**"
   ]
  },
  {
   "cell_type": "markdown",
   "metadata": {
    "id": "nVhnJEm__Zcv"
   },
   "source": [
    "Гипотеза частично подтвердилась:\n",
    "* Поп-музыка — самый популярный жанр в Москве, как и предполагала гипотеза. Более того, в топ-10 жанров встречается близкий жанр — русская популярная музыка.\n",
    "* Вопреки ожиданиям, рэп одинаково популярен в Москве и Петербурге. \n"
   ]
  },
  {
   "cell_type": "markdown",
   "metadata": {
    "id": "ykKQ0N65_Zcv"
   },
   "source": [
    "## Итоги исследования"
   ]
  },
  {
   "cell_type": "markdown",
   "metadata": {
    "id": "tjUwbHb3_Zcv"
   },
   "source": [
    "Проверено три гипотезы и установлено:\n",
    "\n",
    "1. День недели по-разному влияет на активность пользователей в Москве и Петербурге. \n",
    "\n",
    "Первая гипотеза полностью подтвердилась.\n",
    "\n",
    "2. Музыкальные предпочтения не сильно меняются в течение недели — будь то Москва или Петербург. Небольшие различия заметны в начале недели, по понедельникам:\n",
    "* в Москве слушают музыку жанра “world”,\n",
    "* в Петербурге — джаз и классику.\n",
    "\n",
    "Таким образом, вторая гипотеза подтвердилась лишь отчасти. Этот результат мог оказаться иным, если бы не пропуски в данных.\n",
    "\n",
    "3. Во вкусах пользователей Москвы и Петербурга больше общего чем различий. Вопреки ожиданиям, предпочтения жанров в Петербурге напоминают московские.\n",
    "\n",
    "Третья гипотеза не подтвердилась. Если различия в предпочтениях и существуют, на основной массе пользователей они незаметны.\n",
    "\n"
   ]
  }
 ],
 "metadata": {
  "ExecuteTimeLog": [
   {
    "duration": 332,
    "start_time": "2022-04-11T06:53:59.912Z"
   },
   {
    "duration": 118,
    "start_time": "2022-04-11T06:55:31.564Z"
   },
   {
    "duration": 138,
    "start_time": "2022-04-11T06:55:40.157Z"
   },
   {
    "duration": 123,
    "start_time": "2022-04-11T06:55:46.422Z"
   },
   {
    "duration": 16,
    "start_time": "2022-04-11T06:56:25.904Z"
   },
   {
    "duration": 10,
    "start_time": "2022-04-11T06:56:54.386Z"
   },
   {
    "duration": 6,
    "start_time": "2022-04-11T06:57:24.192Z"
   },
   {
    "duration": 10,
    "start_time": "2022-04-11T06:57:32.451Z"
   },
   {
    "duration": 7,
    "start_time": "2022-04-11T06:57:45.441Z"
   },
   {
    "duration": 25,
    "start_time": "2022-04-11T06:58:16.301Z"
   },
   {
    "duration": 55,
    "start_time": "2022-04-11T07:21:22.298Z"
   },
   {
    "duration": 4,
    "start_time": "2022-04-11T07:21:31.380Z"
   },
   {
    "duration": 8,
    "start_time": "2022-04-11T07:30:45.266Z"
   },
   {
    "duration": 4,
    "start_time": "2022-04-11T07:30:58.653Z"
   },
   {
    "duration": 22,
    "start_time": "2022-04-11T07:33:31.995Z"
   },
   {
    "duration": 2,
    "start_time": "2022-04-11T07:41:38.631Z"
   },
   {
    "duration": 4,
    "start_time": "2022-04-11T07:43:08.983Z"
   },
   {
    "duration": 29,
    "start_time": "2022-04-11T07:45:46.624Z"
   },
   {
    "duration": 20,
    "start_time": "2022-04-11T07:46:09.416Z"
   },
   {
    "duration": 57,
    "start_time": "2022-04-11T07:48:55.944Z"
   },
   {
    "duration": 83,
    "start_time": "2022-04-11T07:50:44.323Z"
   },
   {
    "duration": 55,
    "start_time": "2022-04-11T07:51:22.662Z"
   },
   {
    "duration": 2,
    "start_time": "2022-04-11T07:52:04.346Z"
   },
   {
    "duration": 138,
    "start_time": "2022-04-11T07:52:04.349Z"
   },
   {
    "duration": 10,
    "start_time": "2022-04-11T07:52:04.489Z"
   },
   {
    "duration": 27,
    "start_time": "2022-04-11T07:52:04.500Z"
   },
   {
    "duration": 3,
    "start_time": "2022-04-11T07:52:04.529Z"
   },
   {
    "duration": 9,
    "start_time": "2022-04-11T07:52:04.533Z"
   },
   {
    "duration": 6,
    "start_time": "2022-04-11T07:52:04.544Z"
   },
   {
    "duration": 38,
    "start_time": "2022-04-11T07:52:04.552Z"
   },
   {
    "duration": 28,
    "start_time": "2022-04-11T07:52:04.592Z"
   },
   {
    "duration": 20,
    "start_time": "2022-04-11T07:52:04.622Z"
   },
   {
    "duration": 75,
    "start_time": "2022-04-11T07:52:04.644Z"
   },
   {
    "duration": 75,
    "start_time": "2022-04-11T07:52:04.721Z"
   },
   {
    "duration": 64,
    "start_time": "2022-04-11T07:52:54.105Z"
   },
   {
    "duration": 51,
    "start_time": "2022-04-11T07:52:57.000Z"
   },
   {
    "duration": 33,
    "start_time": "2022-04-11T07:57:39.569Z"
   },
   {
    "duration": 12,
    "start_time": "2022-04-14T20:59:53.263Z"
   },
   {
    "duration": 112,
    "start_time": "2022-04-14T21:00:02.138Z"
   },
   {
    "duration": 5,
    "start_time": "2022-04-14T21:00:08.937Z"
   },
   {
    "duration": 59,
    "start_time": "2022-04-15T17:31:26.958Z"
   },
   {
    "duration": 547,
    "start_time": "2022-04-15T17:31:46.035Z"
   },
   {
    "duration": 194,
    "start_time": "2022-04-15T17:31:46.585Z"
   },
   {
    "duration": 30,
    "start_time": "2022-04-15T17:31:46.782Z"
   },
   {
    "duration": 64,
    "start_time": "2022-04-15T17:31:46.816Z"
   },
   {
    "duration": 8,
    "start_time": "2022-04-15T17:31:46.893Z"
   },
   {
    "duration": 33,
    "start_time": "2022-04-15T17:31:46.904Z"
   },
   {
    "duration": 10,
    "start_time": "2022-04-15T17:31:46.939Z"
   },
   {
    "duration": 30,
    "start_time": "2022-04-15T17:31:46.951Z"
   },
   {
    "duration": 83,
    "start_time": "2022-04-15T17:31:46.983Z"
   },
   {
    "duration": 54,
    "start_time": "2022-04-15T17:31:47.069Z"
   },
   {
    "duration": 110,
    "start_time": "2022-04-15T17:31:47.126Z"
   },
   {
    "duration": 114,
    "start_time": "2022-04-15T17:31:47.240Z"
   },
   {
    "duration": 98,
    "start_time": "2022-04-15T17:31:47.357Z"
   },
   {
    "duration": 72,
    "start_time": "2022-04-15T17:31:47.458Z"
   },
   {
    "duration": 4,
    "start_time": "2022-04-15T17:31:47.532Z"
   },
   {
    "duration": 14,
    "start_time": "2022-04-15T17:31:47.537Z"
   },
   {
    "duration": 51,
    "start_time": "2022-04-15T17:31:54.417Z"
   },
   {
    "duration": 69,
    "start_time": "2022-04-15T20:02:33.532Z"
   },
   {
    "duration": 525,
    "start_time": "2022-04-15T20:02:50.472Z"
   },
   {
    "duration": 183,
    "start_time": "2022-04-15T20:02:51.000Z"
   },
   {
    "duration": 25,
    "start_time": "2022-04-15T20:02:51.185Z"
   },
   {
    "duration": 40,
    "start_time": "2022-04-15T20:02:51.213Z"
   },
   {
    "duration": 5,
    "start_time": "2022-04-15T20:02:51.255Z"
   },
   {
    "duration": 39,
    "start_time": "2022-04-15T20:02:51.262Z"
   },
   {
    "duration": 9,
    "start_time": "2022-04-15T20:02:51.303Z"
   },
   {
    "duration": 43,
    "start_time": "2022-04-15T20:02:51.314Z"
   },
   {
    "duration": 63,
    "start_time": "2022-04-15T20:02:51.360Z"
   },
   {
    "duration": 35,
    "start_time": "2022-04-15T20:02:51.428Z"
   },
   {
    "duration": 129,
    "start_time": "2022-04-15T20:02:51.465Z"
   },
   {
    "duration": 132,
    "start_time": "2022-04-15T20:02:51.597Z"
   },
   {
    "duration": 98,
    "start_time": "2022-04-15T20:02:51.731Z"
   },
   {
    "duration": 71,
    "start_time": "2022-04-15T20:02:51.831Z"
   },
   {
    "duration": 4,
    "start_time": "2022-04-15T20:02:51.904Z"
   },
   {
    "duration": 23,
    "start_time": "2022-04-15T20:02:51.910Z"
   },
   {
    "duration": 62,
    "start_time": "2022-04-15T20:02:51.935Z"
   },
   {
    "duration": 48,
    "start_time": "2022-04-15T20:02:51.999Z"
   },
   {
    "duration": 4,
    "start_time": "2022-04-15T20:02:52.049Z"
   },
   {
    "duration": 6,
    "start_time": "2022-04-15T20:02:52.055Z"
   },
   {
    "duration": 30,
    "start_time": "2022-04-15T20:02:52.063Z"
   },
   {
    "duration": 10,
    "start_time": "2022-04-15T20:02:52.095Z"
   },
   {
    "duration": 6,
    "start_time": "2022-04-15T20:02:52.107Z"
   },
   {
    "duration": 5,
    "start_time": "2022-04-15T20:02:52.115Z"
   },
   {
    "duration": 5,
    "start_time": "2022-04-15T20:02:52.123Z"
   },
   {
    "duration": 5,
    "start_time": "2022-04-15T20:02:52.131Z"
   },
   {
    "duration": 6,
    "start_time": "2022-04-15T20:02:52.138Z"
   },
   {
    "duration": 4,
    "start_time": "2022-04-15T20:02:52.149Z"
   },
   {
    "duration": 37,
    "start_time": "2022-04-15T20:02:52.156Z"
   },
   {
    "duration": 7,
    "start_time": "2022-04-15T20:02:52.196Z"
   },
   {
    "duration": 9,
    "start_time": "2022-04-15T20:02:52.205Z"
   },
   {
    "duration": 5,
    "start_time": "2022-04-15T20:02:52.216Z"
   },
   {
    "duration": 9,
    "start_time": "2022-04-15T20:02:52.223Z"
   },
   {
    "duration": 6,
    "start_time": "2022-04-15T20:02:52.234Z"
   },
   {
    "duration": 6,
    "start_time": "2022-04-15T20:02:52.242Z"
   },
   {
    "duration": 4,
    "start_time": "2022-04-15T20:02:52.250Z"
   },
   {
    "duration": 37,
    "start_time": "2022-04-15T20:02:52.256Z"
   },
   {
    "duration": 8,
    "start_time": "2022-04-15T20:02:52.295Z"
   },
   {
    "duration": 40,
    "start_time": "2022-04-15T20:04:02.667Z"
   },
   {
    "duration": 50,
    "start_time": "2022-04-15T20:04:29.297Z"
   },
   {
    "duration": 48,
    "start_time": "2022-04-15T20:06:57.169Z"
   },
   {
    "duration": 4,
    "start_time": "2022-04-15T21:00:09.292Z"
   },
   {
    "duration": 3,
    "start_time": "2022-04-15T21:00:20.676Z"
   },
   {
    "duration": 230,
    "start_time": "2022-04-15T21:00:20.682Z"
   },
   {
    "duration": 17,
    "start_time": "2022-04-15T21:00:20.914Z"
   },
   {
    "duration": 60,
    "start_time": "2022-04-15T21:00:20.933Z"
   },
   {
    "duration": 5,
    "start_time": "2022-04-15T21:00:20.997Z"
   },
   {
    "duration": 18,
    "start_time": "2022-04-15T21:00:21.004Z"
   },
   {
    "duration": 8,
    "start_time": "2022-04-15T21:00:21.025Z"
   },
   {
    "duration": 63,
    "start_time": "2022-04-15T21:00:21.035Z"
   },
   {
    "duration": 49,
    "start_time": "2022-04-15T21:00:21.100Z"
   },
   {
    "duration": 51,
    "start_time": "2022-04-15T21:00:21.151Z"
   },
   {
    "duration": 124,
    "start_time": "2022-04-15T21:00:21.206Z"
   },
   {
    "duration": 126,
    "start_time": "2022-04-15T21:00:21.332Z"
   },
   {
    "duration": 105,
    "start_time": "2022-04-15T21:00:21.460Z"
   },
   {
    "duration": 66,
    "start_time": "2022-04-15T21:00:21.568Z"
   },
   {
    "duration": 4,
    "start_time": "2022-04-15T21:00:21.636Z"
   },
   {
    "duration": 20,
    "start_time": "2022-04-15T21:00:21.642Z"
   },
   {
    "duration": 73,
    "start_time": "2022-04-15T21:00:21.664Z"
   },
   {
    "duration": 62,
    "start_time": "2022-04-15T21:00:21.739Z"
   },
   {
    "duration": 49,
    "start_time": "2022-04-15T21:00:21.803Z"
   },
   {
    "duration": 5,
    "start_time": "2022-04-15T21:00:21.854Z"
   },
   {
    "duration": 4,
    "start_time": "2022-04-15T21:00:26.342Z"
   },
   {
    "duration": 209,
    "start_time": "2022-04-15T21:04:34.921Z"
   },
   {
    "duration": 5,
    "start_time": "2022-04-15T21:04:44.790Z"
   },
   {
    "duration": 5,
    "start_time": "2022-04-15T21:04:49.957Z"
   },
   {
    "duration": 5,
    "start_time": "2022-04-15T21:06:35.069Z"
   },
   {
    "duration": 26,
    "start_time": "2022-04-15T21:08:59.706Z"
   },
   {
    "duration": 23,
    "start_time": "2022-04-15T21:13:35.247Z"
   },
   {
    "duration": 21,
    "start_time": "2022-04-15T21:13:38.658Z"
   },
   {
    "duration": 21,
    "start_time": "2022-04-15T21:13:39.636Z"
   },
   {
    "duration": 20,
    "start_time": "2022-04-15T21:13:40.577Z"
   },
   {
    "duration": 34,
    "start_time": "2022-04-15T21:13:41.616Z"
   },
   {
    "duration": 22,
    "start_time": "2022-04-15T21:14:07.622Z"
   },
   {
    "duration": 14,
    "start_time": "2022-04-15T21:18:03.705Z"
   },
   {
    "duration": 11,
    "start_time": "2022-04-15T21:22:14.023Z"
   },
   {
    "duration": 473,
    "start_time": "2022-04-16T09:41:57.448Z"
   },
   {
    "duration": 195,
    "start_time": "2022-04-16T09:41:57.923Z"
   },
   {
    "duration": 20,
    "start_time": "2022-04-16T09:41:58.120Z"
   },
   {
    "duration": 51,
    "start_time": "2022-04-16T09:41:58.143Z"
   },
   {
    "duration": 7,
    "start_time": "2022-04-16T09:41:58.196Z"
   },
   {
    "duration": 26,
    "start_time": "2022-04-16T09:41:58.204Z"
   },
   {
    "duration": 7,
    "start_time": "2022-04-16T09:41:58.232Z"
   },
   {
    "duration": 42,
    "start_time": "2022-04-16T09:41:58.240Z"
   },
   {
    "duration": 45,
    "start_time": "2022-04-16T09:41:58.296Z"
   },
   {
    "duration": 53,
    "start_time": "2022-04-16T09:41:58.344Z"
   },
   {
    "duration": 109,
    "start_time": "2022-04-16T09:41:58.399Z"
   },
   {
    "duration": 97,
    "start_time": "2022-04-16T09:41:58.510Z"
   },
   {
    "duration": 73,
    "start_time": "2022-04-16T09:41:58.609Z"
   },
   {
    "duration": 65,
    "start_time": "2022-04-16T09:41:58.683Z"
   },
   {
    "duration": 3,
    "start_time": "2022-04-16T09:41:58.751Z"
   },
   {
    "duration": 14,
    "start_time": "2022-04-16T09:41:58.756Z"
   },
   {
    "duration": 83,
    "start_time": "2022-04-16T09:41:58.772Z"
   },
   {
    "duration": 59,
    "start_time": "2022-04-16T09:41:58.857Z"
   },
   {
    "duration": 38,
    "start_time": "2022-04-16T09:41:58.918Z"
   },
   {
    "duration": 4,
    "start_time": "2022-04-16T09:41:58.958Z"
   },
   {
    "duration": 47,
    "start_time": "2022-04-16T09:41:58.964Z"
   },
   {
    "duration": 19,
    "start_time": "2022-04-16T09:41:59.015Z"
   },
   {
    "duration": 15,
    "start_time": "2022-04-16T09:41:59.035Z"
   },
   {
    "duration": 15,
    "start_time": "2022-04-16T09:41:59.052Z"
   },
   {
    "duration": 48,
    "start_time": "2022-04-16T09:41:59.069Z"
   },
   {
    "duration": 20,
    "start_time": "2022-04-16T09:41:59.118Z"
   },
   {
    "duration": 100,
    "start_time": "2022-04-16T09:41:59.140Z"
   },
   {
    "duration": 0,
    "start_time": "2022-04-16T09:41:59.242Z"
   },
   {
    "duration": 0,
    "start_time": "2022-04-16T09:41:59.244Z"
   },
   {
    "duration": 0,
    "start_time": "2022-04-16T09:41:59.245Z"
   },
   {
    "duration": 0,
    "start_time": "2022-04-16T09:41:59.246Z"
   },
   {
    "duration": 0,
    "start_time": "2022-04-16T09:41:59.247Z"
   },
   {
    "duration": 0,
    "start_time": "2022-04-16T09:41:59.249Z"
   },
   {
    "duration": 0,
    "start_time": "2022-04-16T09:41:59.250Z"
   },
   {
    "duration": 0,
    "start_time": "2022-04-16T09:41:59.251Z"
   },
   {
    "duration": 0,
    "start_time": "2022-04-16T09:41:59.252Z"
   },
   {
    "duration": 0,
    "start_time": "2022-04-16T09:41:59.254Z"
   },
   {
    "duration": 0,
    "start_time": "2022-04-16T09:41:59.255Z"
   },
   {
    "duration": 8,
    "start_time": "2022-04-16T09:43:23.674Z"
   },
   {
    "duration": 16,
    "start_time": "2022-04-16T09:44:02.273Z"
   },
   {
    "duration": 8,
    "start_time": "2022-04-16T09:44:53.359Z"
   },
   {
    "duration": 14,
    "start_time": "2022-04-16T09:48:33.118Z"
   },
   {
    "duration": 14,
    "start_time": "2022-04-16T10:11:17.247Z"
   },
   {
    "duration": 13,
    "start_time": "2022-04-16T10:14:55.725Z"
   },
   {
    "duration": 23,
    "start_time": "2022-04-16T10:15:19.161Z"
   },
   {
    "duration": 13,
    "start_time": "2022-04-16T10:15:53.540Z"
   },
   {
    "duration": 22,
    "start_time": "2022-04-16T10:16:41.587Z"
   },
   {
    "duration": 5,
    "start_time": "2022-04-16T10:27:08.406Z"
   },
   {
    "duration": 141,
    "start_time": "2022-04-16T11:03:47.848Z"
   },
   {
    "duration": 9,
    "start_time": "2022-04-16T11:04:24.478Z"
   },
   {
    "duration": 3,
    "start_time": "2022-04-16T11:04:47.923Z"
   },
   {
    "duration": 180,
    "start_time": "2022-04-16T11:04:47.928Z"
   },
   {
    "duration": 13,
    "start_time": "2022-04-16T11:04:48.110Z"
   },
   {
    "duration": 36,
    "start_time": "2022-04-16T11:04:48.125Z"
   },
   {
    "duration": 4,
    "start_time": "2022-04-16T11:04:48.164Z"
   },
   {
    "duration": 30,
    "start_time": "2022-04-16T11:04:48.169Z"
   },
   {
    "duration": 8,
    "start_time": "2022-04-16T11:04:48.201Z"
   },
   {
    "duration": 38,
    "start_time": "2022-04-16T11:04:48.212Z"
   },
   {
    "duration": 52,
    "start_time": "2022-04-16T11:04:48.252Z"
   },
   {
    "duration": 36,
    "start_time": "2022-04-16T11:04:48.306Z"
   },
   {
    "duration": 92,
    "start_time": "2022-04-16T11:04:48.344Z"
   },
   {
    "duration": 96,
    "start_time": "2022-04-16T11:04:48.439Z"
   },
   {
    "duration": 83,
    "start_time": "2022-04-16T11:04:48.537Z"
   },
   {
    "duration": 43,
    "start_time": "2022-04-16T11:04:48.626Z"
   },
   {
    "duration": 3,
    "start_time": "2022-04-16T11:04:48.672Z"
   },
   {
    "duration": 25,
    "start_time": "2022-04-16T11:04:48.676Z"
   },
   {
    "duration": 51,
    "start_time": "2022-04-16T11:04:48.704Z"
   },
   {
    "duration": 67,
    "start_time": "2022-04-16T11:04:48.757Z"
   },
   {
    "duration": 37,
    "start_time": "2022-04-16T11:04:48.826Z"
   },
   {
    "duration": 4,
    "start_time": "2022-04-16T11:04:48.865Z"
   },
   {
    "duration": 51,
    "start_time": "2022-04-16T11:04:48.870Z"
   },
   {
    "duration": 30,
    "start_time": "2022-04-16T11:04:48.923Z"
   },
   {
    "duration": 16,
    "start_time": "2022-04-16T11:04:48.955Z"
   },
   {
    "duration": 43,
    "start_time": "2022-04-16T11:04:48.973Z"
   },
   {
    "duration": 22,
    "start_time": "2022-04-16T11:04:49.018Z"
   },
   {
    "duration": 16,
    "start_time": "2022-04-16T11:04:49.042Z"
   },
   {
    "duration": 9,
    "start_time": "2022-04-16T11:04:49.060Z"
   },
   {
    "duration": 46,
    "start_time": "2022-04-16T11:04:49.071Z"
   },
   {
    "duration": 14,
    "start_time": "2022-04-16T11:04:49.118Z"
   },
   {
    "duration": 11,
    "start_time": "2022-04-16T11:04:49.134Z"
   },
   {
    "duration": 0,
    "start_time": "2022-04-16T11:04:49.147Z"
   },
   {
    "duration": 0,
    "start_time": "2022-04-16T11:04:49.148Z"
   },
   {
    "duration": 0,
    "start_time": "2022-04-16T11:04:49.149Z"
   },
   {
    "duration": 0,
    "start_time": "2022-04-16T11:04:49.150Z"
   },
   {
    "duration": 0,
    "start_time": "2022-04-16T11:04:49.152Z"
   },
   {
    "duration": 0,
    "start_time": "2022-04-16T11:04:49.153Z"
   },
   {
    "duration": 0,
    "start_time": "2022-04-16T11:04:49.154Z"
   },
   {
    "duration": 0,
    "start_time": "2022-04-16T11:04:49.154Z"
   },
   {
    "duration": 6,
    "start_time": "2022-04-16T11:12:47.804Z"
   },
   {
    "duration": 2,
    "start_time": "2022-04-16T11:13:12.183Z"
   },
   {
    "duration": 180,
    "start_time": "2022-04-16T11:13:12.187Z"
   },
   {
    "duration": 11,
    "start_time": "2022-04-16T11:13:12.369Z"
   },
   {
    "duration": 45,
    "start_time": "2022-04-16T11:13:12.382Z"
   },
   {
    "duration": 4,
    "start_time": "2022-04-16T11:13:12.429Z"
   },
   {
    "duration": 10,
    "start_time": "2022-04-16T11:13:12.434Z"
   },
   {
    "duration": 4,
    "start_time": "2022-04-16T11:13:12.446Z"
   },
   {
    "duration": 68,
    "start_time": "2022-04-16T11:13:12.451Z"
   },
   {
    "duration": 37,
    "start_time": "2022-04-16T11:13:12.520Z"
   },
   {
    "duration": 42,
    "start_time": "2022-04-16T11:13:12.558Z"
   },
   {
    "duration": 63,
    "start_time": "2022-04-16T11:13:12.604Z"
   },
   {
    "duration": 94,
    "start_time": "2022-04-16T11:13:12.669Z"
   },
   {
    "duration": 73,
    "start_time": "2022-04-16T11:13:12.765Z"
   },
   {
    "duration": 42,
    "start_time": "2022-04-16T11:13:12.840Z"
   },
   {
    "duration": 4,
    "start_time": "2022-04-16T11:13:12.897Z"
   },
   {
    "duration": 15,
    "start_time": "2022-04-16T11:13:12.903Z"
   },
   {
    "duration": 42,
    "start_time": "2022-04-16T11:13:12.920Z"
   },
   {
    "duration": 58,
    "start_time": "2022-04-16T11:13:12.963Z"
   },
   {
    "duration": 37,
    "start_time": "2022-04-16T11:13:13.023Z"
   },
   {
    "duration": 4,
    "start_time": "2022-04-16T11:13:13.062Z"
   },
   {
    "duration": 42,
    "start_time": "2022-04-16T11:13:13.067Z"
   },
   {
    "duration": 16,
    "start_time": "2022-04-16T11:13:13.111Z"
   },
   {
    "duration": 15,
    "start_time": "2022-04-16T11:13:13.128Z"
   },
   {
    "duration": 15,
    "start_time": "2022-04-16T11:13:13.145Z"
   },
   {
    "duration": 55,
    "start_time": "2022-04-16T11:13:13.162Z"
   },
   {
    "duration": 15,
    "start_time": "2022-04-16T11:13:13.219Z"
   },
   {
    "duration": 9,
    "start_time": "2022-04-16T11:13:13.236Z"
   },
   {
    "duration": 14,
    "start_time": "2022-04-16T11:13:13.246Z"
   },
   {
    "duration": 38,
    "start_time": "2022-04-16T11:13:13.264Z"
   },
   {
    "duration": 5,
    "start_time": "2022-04-16T11:13:13.305Z"
   },
   {
    "duration": 6,
    "start_time": "2022-04-16T11:13:17.394Z"
   },
   {
    "duration": 29,
    "start_time": "2022-04-16T11:24:10.205Z"
   },
   {
    "duration": 3,
    "start_time": "2022-04-16T11:24:15.044Z"
   },
   {
    "duration": 187,
    "start_time": "2022-04-16T11:24:15.049Z"
   },
   {
    "duration": 12,
    "start_time": "2022-04-16T11:24:15.237Z"
   },
   {
    "duration": 49,
    "start_time": "2022-04-16T11:24:15.250Z"
   },
   {
    "duration": 6,
    "start_time": "2022-04-16T11:24:15.303Z"
   },
   {
    "duration": 9,
    "start_time": "2022-04-16T11:24:15.310Z"
   },
   {
    "duration": 3,
    "start_time": "2022-04-16T11:24:15.321Z"
   },
   {
    "duration": 27,
    "start_time": "2022-04-16T11:24:15.326Z"
   },
   {
    "duration": 62,
    "start_time": "2022-04-16T11:24:15.355Z"
   },
   {
    "duration": 27,
    "start_time": "2022-04-16T11:24:15.419Z"
   },
   {
    "duration": 88,
    "start_time": "2022-04-16T11:24:15.447Z"
   },
   {
    "duration": 92,
    "start_time": "2022-04-16T11:24:15.537Z"
   },
   {
    "duration": 74,
    "start_time": "2022-04-16T11:24:15.631Z"
   },
   {
    "duration": 44,
    "start_time": "2022-04-16T11:24:15.709Z"
   },
   {
    "duration": 3,
    "start_time": "2022-04-16T11:24:15.755Z"
   },
   {
    "duration": 14,
    "start_time": "2022-04-16T11:24:15.759Z"
   },
   {
    "duration": 69,
    "start_time": "2022-04-16T11:24:15.774Z"
   },
   {
    "duration": 55,
    "start_time": "2022-04-16T11:24:15.844Z"
   },
   {
    "duration": 41,
    "start_time": "2022-04-16T11:24:15.902Z"
   },
   {
    "duration": 3,
    "start_time": "2022-04-16T11:24:15.945Z"
   },
   {
    "duration": 23,
    "start_time": "2022-04-16T11:24:15.950Z"
   },
   {
    "duration": 31,
    "start_time": "2022-04-16T11:24:15.975Z"
   },
   {
    "duration": 21,
    "start_time": "2022-04-16T11:24:16.008Z"
   },
   {
    "duration": 15,
    "start_time": "2022-04-16T11:24:16.031Z"
   },
   {
    "duration": 20,
    "start_time": "2022-04-16T11:24:16.047Z"
   },
   {
    "duration": 23,
    "start_time": "2022-04-16T11:24:16.093Z"
   },
   {
    "duration": 9,
    "start_time": "2022-04-16T11:24:16.118Z"
   },
   {
    "duration": 17,
    "start_time": "2022-04-16T11:24:16.128Z"
   },
   {
    "duration": 11,
    "start_time": "2022-04-16T11:24:16.147Z"
   },
   {
    "duration": 6,
    "start_time": "2022-04-16T11:24:16.160Z"
   },
   {
    "duration": 32,
    "start_time": "2022-04-16T11:24:16.192Z"
   },
   {
    "duration": 2,
    "start_time": "2022-04-16T11:43:09.385Z"
   },
   {
    "duration": 189,
    "start_time": "2022-04-16T11:43:09.393Z"
   },
   {
    "duration": 17,
    "start_time": "2022-04-16T11:43:09.584Z"
   },
   {
    "duration": 46,
    "start_time": "2022-04-16T11:43:09.603Z"
   },
   {
    "duration": 4,
    "start_time": "2022-04-16T11:43:09.650Z"
   },
   {
    "duration": 12,
    "start_time": "2022-04-16T11:43:09.656Z"
   },
   {
    "duration": 7,
    "start_time": "2022-04-16T11:43:09.670Z"
   },
   {
    "duration": 52,
    "start_time": "2022-04-16T11:43:09.678Z"
   },
   {
    "duration": 34,
    "start_time": "2022-04-16T11:43:09.732Z"
   },
   {
    "duration": 48,
    "start_time": "2022-04-16T11:43:09.768Z"
   },
   {
    "duration": 78,
    "start_time": "2022-04-16T11:43:09.818Z"
   },
   {
    "duration": 83,
    "start_time": "2022-04-16T11:43:09.897Z"
   },
   {
    "duration": 81,
    "start_time": "2022-04-16T11:43:09.982Z"
   },
   {
    "duration": 67,
    "start_time": "2022-04-16T11:43:10.064Z"
   },
   {
    "duration": 3,
    "start_time": "2022-04-16T11:43:10.135Z"
   },
   {
    "duration": 19,
    "start_time": "2022-04-16T11:43:10.139Z"
   },
   {
    "duration": 67,
    "start_time": "2022-04-16T11:43:10.160Z"
   },
   {
    "duration": 37,
    "start_time": "2022-04-16T11:43:10.229Z"
   },
   {
    "duration": 59,
    "start_time": "2022-04-16T11:43:10.267Z"
   },
   {
    "duration": 3,
    "start_time": "2022-04-16T11:43:10.328Z"
   },
   {
    "duration": 21,
    "start_time": "2022-04-16T11:43:10.333Z"
   },
   {
    "duration": 16,
    "start_time": "2022-04-16T11:43:10.356Z"
   },
   {
    "duration": 23,
    "start_time": "2022-04-16T11:43:10.394Z"
   },
   {
    "duration": 22,
    "start_time": "2022-04-16T11:43:10.419Z"
   },
   {
    "duration": 17,
    "start_time": "2022-04-16T11:43:10.443Z"
   },
   {
    "duration": 32,
    "start_time": "2022-04-16T11:43:10.462Z"
   },
   {
    "duration": 14,
    "start_time": "2022-04-16T11:43:10.496Z"
   },
   {
    "duration": 25,
    "start_time": "2022-04-16T11:43:10.511Z"
   },
   {
    "duration": 11,
    "start_time": "2022-04-16T11:43:10.538Z"
   },
   {
    "duration": 30,
    "start_time": "2022-04-16T11:43:16.577Z"
   },
   {
    "duration": 5,
    "start_time": "2022-04-16T11:44:55.058Z"
   },
   {
    "duration": 147,
    "start_time": "2022-04-16T11:51:11.113Z"
   },
   {
    "duration": 4,
    "start_time": "2022-04-16T11:51:35.149Z"
   },
   {
    "duration": 23,
    "start_time": "2022-04-16T11:51:43.913Z"
   },
   {
    "duration": 14,
    "start_time": "2022-04-16T11:52:27.271Z"
   },
   {
    "duration": 17,
    "start_time": "2022-04-16T11:53:06.668Z"
   },
   {
    "duration": 16,
    "start_time": "2022-04-16T11:53:32.709Z"
   },
   {
    "duration": 33,
    "start_time": "2022-04-16T12:00:18.806Z"
   },
   {
    "duration": 11,
    "start_time": "2022-04-16T12:01:03.816Z"
   },
   {
    "duration": 6,
    "start_time": "2022-04-16T12:01:49.612Z"
   },
   {
    "duration": 11,
    "start_time": "2022-04-16T12:02:19.818Z"
   },
   {
    "duration": 9,
    "start_time": "2022-04-16T12:02:23.508Z"
   },
   {
    "duration": 14,
    "start_time": "2022-04-16T12:02:38.706Z"
   },
   {
    "duration": 5,
    "start_time": "2022-04-16T12:02:40.680Z"
   },
   {
    "duration": 8,
    "start_time": "2022-04-16T12:03:15.617Z"
   },
   {
    "duration": 6,
    "start_time": "2022-04-16T12:03:52.410Z"
   },
   {
    "duration": 3,
    "start_time": "2022-04-16T12:06:14.562Z"
   },
   {
    "duration": 200,
    "start_time": "2022-04-16T12:06:14.567Z"
   },
   {
    "duration": 10,
    "start_time": "2022-04-16T12:06:14.769Z"
   },
   {
    "duration": 52,
    "start_time": "2022-04-16T12:06:14.781Z"
   },
   {
    "duration": 4,
    "start_time": "2022-04-16T12:06:14.836Z"
   },
   {
    "duration": 7,
    "start_time": "2022-04-16T12:06:14.841Z"
   },
   {
    "duration": 5,
    "start_time": "2022-04-16T12:06:14.850Z"
   },
   {
    "duration": 64,
    "start_time": "2022-04-16T12:06:14.856Z"
   },
   {
    "duration": 41,
    "start_time": "2022-04-16T12:06:14.922Z"
   },
   {
    "duration": 32,
    "start_time": "2022-04-16T12:06:14.965Z"
   },
   {
    "duration": 88,
    "start_time": "2022-04-16T12:06:14.999Z"
   },
   {
    "duration": 84,
    "start_time": "2022-04-16T12:06:15.089Z"
   },
   {
    "duration": 70,
    "start_time": "2022-04-16T12:06:15.176Z"
   },
   {
    "duration": 64,
    "start_time": "2022-04-16T12:06:15.248Z"
   },
   {
    "duration": 4,
    "start_time": "2022-04-16T12:06:15.315Z"
   },
   {
    "duration": 13,
    "start_time": "2022-04-16T12:06:15.323Z"
   },
   {
    "duration": 44,
    "start_time": "2022-04-16T12:06:15.338Z"
   },
   {
    "duration": 56,
    "start_time": "2022-04-16T12:06:15.383Z"
   },
   {
    "duration": 34,
    "start_time": "2022-04-16T12:06:15.441Z"
   },
   {
    "duration": 19,
    "start_time": "2022-04-16T12:06:15.477Z"
   },
   {
    "duration": 29,
    "start_time": "2022-04-16T12:06:15.498Z"
   },
   {
    "duration": 15,
    "start_time": "2022-04-16T12:06:15.529Z"
   },
   {
    "duration": 15,
    "start_time": "2022-04-16T12:06:15.545Z"
   },
   {
    "duration": 48,
    "start_time": "2022-04-16T12:06:15.562Z"
   },
   {
    "duration": 25,
    "start_time": "2022-04-16T12:06:15.612Z"
   },
   {
    "duration": 22,
    "start_time": "2022-04-16T12:06:15.639Z"
   },
   {
    "duration": 12,
    "start_time": "2022-04-16T12:06:15.663Z"
   },
   {
    "duration": 49,
    "start_time": "2022-04-16T12:06:15.677Z"
   },
   {
    "duration": 21,
    "start_time": "2022-04-16T12:06:15.728Z"
   },
   {
    "duration": 10,
    "start_time": "2022-04-16T12:06:15.750Z"
   },
   {
    "duration": 42,
    "start_time": "2022-04-16T12:06:15.762Z"
   },
   {
    "duration": 26,
    "start_time": "2022-04-16T12:06:15.806Z"
   },
   {
    "duration": 17,
    "start_time": "2022-04-16T12:06:15.834Z"
   },
   {
    "duration": 15,
    "start_time": "2022-04-16T12:06:15.853Z"
   },
   {
    "duration": 13,
    "start_time": "2022-04-16T12:06:15.870Z"
   },
   {
    "duration": 26,
    "start_time": "2022-04-16T12:06:15.885Z"
   },
   {
    "duration": 13,
    "start_time": "2022-04-16T12:06:15.916Z"
   },
   {
    "duration": 21,
    "start_time": "2022-04-16T12:06:15.931Z"
   },
   {
    "duration": 472,
    "start_time": "2022-04-16T13:09:37.517Z"
   },
   {
    "duration": 4,
    "start_time": "2022-04-16T13:12:03.455Z"
   },
   {
    "duration": 352,
    "start_time": "2022-04-16T13:12:03.461Z"
   },
   {
    "duration": 27,
    "start_time": "2022-04-16T13:12:03.815Z"
   },
   {
    "duration": 53,
    "start_time": "2022-04-16T13:12:03.844Z"
   },
   {
    "duration": 5,
    "start_time": "2022-04-16T13:12:03.899Z"
   },
   {
    "duration": 13,
    "start_time": "2022-04-16T13:12:03.906Z"
   },
   {
    "duration": 10,
    "start_time": "2022-04-16T13:12:03.921Z"
   },
   {
    "duration": 66,
    "start_time": "2022-04-16T13:12:03.933Z"
   },
   {
    "duration": 45,
    "start_time": "2022-04-16T13:12:04.003Z"
   },
   {
    "duration": 46,
    "start_time": "2022-04-16T13:12:04.050Z"
   },
   {
    "duration": 122,
    "start_time": "2022-04-16T13:12:04.098Z"
   },
   {
    "duration": 113,
    "start_time": "2022-04-16T13:12:04.222Z"
   },
   {
    "duration": 101,
    "start_time": "2022-04-16T13:12:04.337Z"
   },
   {
    "duration": 62,
    "start_time": "2022-04-16T13:12:04.441Z"
   },
   {
    "duration": 4,
    "start_time": "2022-04-16T13:12:04.505Z"
   },
   {
    "duration": 17,
    "start_time": "2022-04-16T13:12:04.511Z"
   },
   {
    "duration": 74,
    "start_time": "2022-04-16T13:12:04.531Z"
   },
   {
    "duration": 47,
    "start_time": "2022-04-16T13:12:04.607Z"
   },
   {
    "duration": 66,
    "start_time": "2022-04-16T13:12:04.657Z"
   },
   {
    "duration": 6,
    "start_time": "2022-04-16T13:12:04.726Z"
   },
   {
    "duration": 48,
    "start_time": "2022-04-16T13:12:04.735Z"
   },
   {
    "duration": 19,
    "start_time": "2022-04-16T13:12:04.785Z"
   },
   {
    "duration": 19,
    "start_time": "2022-04-16T13:12:04.806Z"
   },
   {
    "duration": 18,
    "start_time": "2022-04-16T13:12:04.829Z"
   },
   {
    "duration": 22,
    "start_time": "2022-04-16T13:12:04.882Z"
   },
   {
    "duration": 20,
    "start_time": "2022-04-16T13:12:04.906Z"
   },
   {
    "duration": 12,
    "start_time": "2022-04-16T13:12:04.928Z"
   },
   {
    "duration": 49,
    "start_time": "2022-04-16T13:12:04.942Z"
   },
   {
    "duration": 12,
    "start_time": "2022-04-16T13:12:04.993Z"
   },
   {
    "duration": 6,
    "start_time": "2022-04-16T13:12:05.008Z"
   },
   {
    "duration": 32,
    "start_time": "2022-04-16T13:12:05.016Z"
   },
   {
    "duration": 42,
    "start_time": "2022-04-16T13:12:05.050Z"
   },
   {
    "duration": 23,
    "start_time": "2022-04-16T13:12:05.094Z"
   },
   {
    "duration": 16,
    "start_time": "2022-04-16T13:12:05.119Z"
   },
   {
    "duration": 45,
    "start_time": "2022-04-16T13:12:05.137Z"
   },
   {
    "duration": 7,
    "start_time": "2022-04-16T13:12:05.184Z"
   },
   {
    "duration": 9,
    "start_time": "2022-04-16T13:12:05.193Z"
   },
   {
    "duration": 6,
    "start_time": "2022-04-16T13:12:05.205Z"
   },
   {
    "duration": 51,
    "start_time": "2022-04-16T20:49:30.785Z"
   },
   {
    "duration": 400,
    "start_time": "2022-04-16T20:49:54.897Z"
   },
   {
    "duration": 317,
    "start_time": "2022-04-16T20:49:55.300Z"
   },
   {
    "duration": 18,
    "start_time": "2022-04-16T20:49:55.619Z"
   },
   {
    "duration": 31,
    "start_time": "2022-04-16T20:49:55.639Z"
   },
   {
    "duration": 4,
    "start_time": "2022-04-16T20:49:55.672Z"
   },
   {
    "duration": 11,
    "start_time": "2022-04-16T20:49:55.678Z"
   },
   {
    "duration": 4,
    "start_time": "2022-04-16T20:49:55.691Z"
   },
   {
    "duration": 57,
    "start_time": "2022-04-16T20:49:55.697Z"
   },
   {
    "duration": 35,
    "start_time": "2022-04-16T20:49:55.756Z"
   },
   {
    "duration": 40,
    "start_time": "2022-04-16T20:49:55.795Z"
   },
   {
    "duration": 71,
    "start_time": "2022-04-16T20:49:55.837Z"
   },
   {
    "duration": 89,
    "start_time": "2022-04-16T20:49:55.910Z"
   },
   {
    "duration": 75,
    "start_time": "2022-04-16T20:49:56.001Z"
   },
   {
    "duration": 40,
    "start_time": "2022-04-16T20:49:56.078Z"
   },
   {
    "duration": 13,
    "start_time": "2022-04-16T20:49:56.120Z"
   },
   {
    "duration": 10,
    "start_time": "2022-04-16T20:49:56.136Z"
   },
   {
    "duration": 41,
    "start_time": "2022-04-16T20:49:56.148Z"
   },
   {
    "duration": 13,
    "start_time": "2022-04-16T20:49:56.191Z"
   },
   {
    "duration": 14,
    "start_time": "2022-04-16T20:49:56.233Z"
   },
   {
    "duration": 4,
    "start_time": "2022-04-16T20:49:56.248Z"
   },
   {
    "duration": 23,
    "start_time": "2022-04-16T20:49:56.254Z"
   },
   {
    "duration": 16,
    "start_time": "2022-04-16T20:49:56.279Z"
   },
   {
    "duration": 45,
    "start_time": "2022-04-16T20:49:56.297Z"
   },
   {
    "duration": 15,
    "start_time": "2022-04-16T20:49:56.344Z"
   },
   {
    "duration": 18,
    "start_time": "2022-04-16T20:49:56.361Z"
   },
   {
    "duration": 16,
    "start_time": "2022-04-16T20:49:56.380Z"
   },
   {
    "duration": 9,
    "start_time": "2022-04-16T20:49:56.433Z"
   },
   {
    "duration": 11,
    "start_time": "2022-04-16T20:49:56.445Z"
   },
   {
    "duration": 9,
    "start_time": "2022-04-16T20:49:56.459Z"
   },
   {
    "duration": 6,
    "start_time": "2022-04-16T20:49:56.470Z"
   },
   {
    "duration": 25,
    "start_time": "2022-04-16T20:49:56.478Z"
   },
   {
    "duration": 37,
    "start_time": "2022-04-16T20:49:56.505Z"
   },
   {
    "duration": 17,
    "start_time": "2022-04-16T20:49:56.544Z"
   },
   {
    "duration": 12,
    "start_time": "2022-04-16T20:49:56.563Z"
   },
   {
    "duration": 9,
    "start_time": "2022-04-16T20:49:56.576Z"
   },
   {
    "duration": 5,
    "start_time": "2022-04-16T20:49:56.587Z"
   },
   {
    "duration": 41,
    "start_time": "2022-04-16T20:49:56.594Z"
   },
   {
    "duration": 7,
    "start_time": "2022-04-16T20:49:56.637Z"
   }
  ],
  "colab": {
   "collapsed_sections": [
    "E0vqbgi9ay0H",
    "VUC88oWjTJw2"
   ],
   "name": "yandex_music_project.ipynb",
   "provenance": []
  },
  "kernelspec": {
   "display_name": "Python 3 (ipykernel)",
   "language": "python",
   "name": "python3"
  },
  "language_info": {
   "codemirror_mode": {
    "name": "ipython",
    "version": 3
   },
   "file_extension": ".py",
   "mimetype": "text/x-python",
   "name": "python",
   "nbconvert_exporter": "python",
   "pygments_lexer": "ipython3",
   "version": "3.9.7"
  },
  "toc": {
   "base_numbering": 1,
   "nav_menu": {},
   "number_sections": true,
   "sideBar": true,
   "skip_h1_title": true,
   "title_cell": "Table of Contents",
   "title_sidebar": "Contents",
   "toc_cell": false,
   "toc_position": {},
   "toc_section_display": true,
   "toc_window_display": true
  }
 },
 "nbformat": 4,
 "nbformat_minor": 1
}
