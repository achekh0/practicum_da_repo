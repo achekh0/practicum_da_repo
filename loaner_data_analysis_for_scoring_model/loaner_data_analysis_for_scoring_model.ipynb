{
 "cells": [
  {
   "cell_type": "markdown",
   "id": "4f145a64",
   "metadata": {},
   "source": [
    "# Исследование надежности заемщиков, анализ статистики о платежеспособности клиентов банка."
   ]
  },
  {
   "cell_type": "markdown",
   "id": "8e3d51b2",
   "metadata": {},
   "source": [
    "**Описание задачи и имеющихся данных**\n",
    "\n",
    "Заказчик — кредитный отдел банка. \n",
    "\n",
    "Нужно разобраться, влияет ли семейное положение и количество детей клиента на факт погашения кредита в срок. Входные данные от банка — статистика о платёжеспособности клиентов.\n",
    "\n",
    "\n",
    "Результаты исследования будут учтены при построении модели кредитного скоринга — специальной системы, которая оценивает способность потенциального заёмщика вернуть кредит банку.\n"
   ]
  },
  {
   "cell_type": "markdown",
   "id": "acd975eb",
   "metadata": {},
   "source": [
    "### Шаг 1. Обзор данных"
   ]
  },
  {
   "cell_type": "code",
   "execution_count": 62,
   "id": "d5272891",
   "metadata": {},
   "outputs": [
    {
     "data": {
      "text/html": [
       "<div>\n",
       "<style scoped>\n",
       "    .dataframe tbody tr th:only-of-type {\n",
       "        vertical-align: middle;\n",
       "    }\n",
       "\n",
       "    .dataframe tbody tr th {\n",
       "        vertical-align: top;\n",
       "    }\n",
       "\n",
       "    .dataframe thead th {\n",
       "        text-align: right;\n",
       "    }\n",
       "</style>\n",
       "<table border=\"1\" class=\"dataframe\">\n",
       "  <thead>\n",
       "    <tr style=\"text-align: right;\">\n",
       "      <th></th>\n",
       "      <th>children</th>\n",
       "      <th>days_employed</th>\n",
       "      <th>dob_years</th>\n",
       "      <th>education</th>\n",
       "      <th>education_id</th>\n",
       "      <th>family_status</th>\n",
       "      <th>family_status_id</th>\n",
       "      <th>gender</th>\n",
       "      <th>income_type</th>\n",
       "      <th>debt</th>\n",
       "      <th>total_income</th>\n",
       "      <th>purpose</th>\n",
       "    </tr>\n",
       "  </thead>\n",
       "  <tbody>\n",
       "    <tr>\n",
       "      <th>0</th>\n",
       "      <td>1</td>\n",
       "      <td>-8437.673028</td>\n",
       "      <td>42</td>\n",
       "      <td>высшее</td>\n",
       "      <td>0</td>\n",
       "      <td>женат / замужем</td>\n",
       "      <td>0</td>\n",
       "      <td>F</td>\n",
       "      <td>сотрудник</td>\n",
       "      <td>0</td>\n",
       "      <td>253875.639453</td>\n",
       "      <td>покупка жилья</td>\n",
       "    </tr>\n",
       "    <tr>\n",
       "      <th>1</th>\n",
       "      <td>1</td>\n",
       "      <td>-4024.803754</td>\n",
       "      <td>36</td>\n",
       "      <td>среднее</td>\n",
       "      <td>1</td>\n",
       "      <td>женат / замужем</td>\n",
       "      <td>0</td>\n",
       "      <td>F</td>\n",
       "      <td>сотрудник</td>\n",
       "      <td>0</td>\n",
       "      <td>112080.014102</td>\n",
       "      <td>приобретение автомобиля</td>\n",
       "    </tr>\n",
       "    <tr>\n",
       "      <th>2</th>\n",
       "      <td>0</td>\n",
       "      <td>-5623.422610</td>\n",
       "      <td>33</td>\n",
       "      <td>Среднее</td>\n",
       "      <td>1</td>\n",
       "      <td>женат / замужем</td>\n",
       "      <td>0</td>\n",
       "      <td>M</td>\n",
       "      <td>сотрудник</td>\n",
       "      <td>0</td>\n",
       "      <td>145885.952297</td>\n",
       "      <td>покупка жилья</td>\n",
       "    </tr>\n",
       "    <tr>\n",
       "      <th>3</th>\n",
       "      <td>3</td>\n",
       "      <td>-4124.747207</td>\n",
       "      <td>32</td>\n",
       "      <td>среднее</td>\n",
       "      <td>1</td>\n",
       "      <td>женат / замужем</td>\n",
       "      <td>0</td>\n",
       "      <td>M</td>\n",
       "      <td>сотрудник</td>\n",
       "      <td>0</td>\n",
       "      <td>267628.550329</td>\n",
       "      <td>дополнительное образование</td>\n",
       "    </tr>\n",
       "    <tr>\n",
       "      <th>4</th>\n",
       "      <td>0</td>\n",
       "      <td>340266.072047</td>\n",
       "      <td>53</td>\n",
       "      <td>среднее</td>\n",
       "      <td>1</td>\n",
       "      <td>гражданский брак</td>\n",
       "      <td>1</td>\n",
       "      <td>F</td>\n",
       "      <td>пенсионер</td>\n",
       "      <td>0</td>\n",
       "      <td>158616.077870</td>\n",
       "      <td>сыграть свадьбу</td>\n",
       "    </tr>\n",
       "  </tbody>\n",
       "</table>\n",
       "</div>"
      ],
      "text/plain": [
       "   children  days_employed  dob_years education  education_id  \\\n",
       "0         1   -8437.673028         42    высшее             0   \n",
       "1         1   -4024.803754         36   среднее             1   \n",
       "2         0   -5623.422610         33   Среднее             1   \n",
       "3         3   -4124.747207         32   среднее             1   \n",
       "4         0  340266.072047         53   среднее             1   \n",
       "\n",
       "      family_status  family_status_id gender income_type  debt   total_income  \\\n",
       "0   женат / замужем                 0      F   сотрудник     0  253875.639453   \n",
       "1   женат / замужем                 0      F   сотрудник     0  112080.014102   \n",
       "2   женат / замужем                 0      M   сотрудник     0  145885.952297   \n",
       "3   женат / замужем                 0      M   сотрудник     0  267628.550329   \n",
       "4  гражданский брак                 1      F   пенсионер     0  158616.077870   \n",
       "\n",
       "                      purpose  \n",
       "0               покупка жилья  \n",
       "1     приобретение автомобиля  \n",
       "2               покупка жилья  \n",
       "3  дополнительное образование  \n",
       "4             сыграть свадьбу  "
      ]
     },
     "metadata": {},
     "output_type": "display_data"
    },
    {
     "name": "stdout",
     "output_type": "stream",
     "text": [
      "<class 'pandas.core.frame.DataFrame'>\n",
      "RangeIndex: 21525 entries, 0 to 21524\n",
      "Data columns (total 12 columns):\n",
      " #   Column            Non-Null Count  Dtype  \n",
      "---  ------            --------------  -----  \n",
      " 0   children          21525 non-null  int64  \n",
      " 1   days_employed     19351 non-null  float64\n",
      " 2   dob_years         21525 non-null  int64  \n",
      " 3   education         21525 non-null  object \n",
      " 4   education_id      21525 non-null  int64  \n",
      " 5   family_status     21525 non-null  object \n",
      " 6   family_status_id  21525 non-null  int64  \n",
      " 7   gender            21525 non-null  object \n",
      " 8   income_type       21525 non-null  object \n",
      " 9   debt              21525 non-null  int64  \n",
      " 10  total_income      19351 non-null  float64\n",
      " 11  purpose           21525 non-null  object \n",
      "dtypes: float64(2), int64(5), object(5)\n",
      "memory usage: 2.0+ MB\n"
     ]
    }
   ],
   "source": [
    "import pandas as pd\n",
    "df=pd.read_csv('/datasets/data.csv')\n",
    "display(df.head())\n",
    "\n",
    "df.info()\n"
   ]
  },
  {
   "cell_type": "markdown",
   "id": "1fc321cb",
   "metadata": {},
   "source": [
    "### Шаг 2.1 Заполнение пропусков"
   ]
  },
  {
   "cell_type": "code",
   "execution_count": 63,
   "id": "44020878",
   "metadata": {},
   "outputs": [
    {
     "data": {
      "text/html": [
       "<div>\n",
       "<style scoped>\n",
       "    .dataframe tbody tr th:only-of-type {\n",
       "        vertical-align: middle;\n",
       "    }\n",
       "\n",
       "    .dataframe tbody tr th {\n",
       "        vertical-align: top;\n",
       "    }\n",
       "\n",
       "    .dataframe thead th {\n",
       "        text-align: right;\n",
       "    }\n",
       "</style>\n",
       "<table border=\"1\" class=\"dataframe\">\n",
       "  <thead>\n",
       "    <tr style=\"text-align: right;\">\n",
       "      <th></th>\n",
       "      <th>children</th>\n",
       "      <th>days_employed</th>\n",
       "      <th>dob_years</th>\n",
       "      <th>education_id</th>\n",
       "      <th>family_status_id</th>\n",
       "      <th>debt</th>\n",
       "      <th>total_income</th>\n",
       "    </tr>\n",
       "  </thead>\n",
       "  <tbody>\n",
       "    <tr>\n",
       "      <th>count</th>\n",
       "      <td>21525.000000</td>\n",
       "      <td>19351.000000</td>\n",
       "      <td>21525.000000</td>\n",
       "      <td>21525.000000</td>\n",
       "      <td>21525.000000</td>\n",
       "      <td>21525.000000</td>\n",
       "      <td>1.935100e+04</td>\n",
       "    </tr>\n",
       "    <tr>\n",
       "      <th>mean</th>\n",
       "      <td>0.538908</td>\n",
       "      <td>63046.497661</td>\n",
       "      <td>43.293380</td>\n",
       "      <td>0.817236</td>\n",
       "      <td>0.972544</td>\n",
       "      <td>0.080883</td>\n",
       "      <td>1.674223e+05</td>\n",
       "    </tr>\n",
       "    <tr>\n",
       "      <th>std</th>\n",
       "      <td>1.381587</td>\n",
       "      <td>140827.311974</td>\n",
       "      <td>12.574584</td>\n",
       "      <td>0.548138</td>\n",
       "      <td>1.420324</td>\n",
       "      <td>0.272661</td>\n",
       "      <td>1.029716e+05</td>\n",
       "    </tr>\n",
       "    <tr>\n",
       "      <th>min</th>\n",
       "      <td>-1.000000</td>\n",
       "      <td>-18388.949901</td>\n",
       "      <td>0.000000</td>\n",
       "      <td>0.000000</td>\n",
       "      <td>0.000000</td>\n",
       "      <td>0.000000</td>\n",
       "      <td>2.066726e+04</td>\n",
       "    </tr>\n",
       "    <tr>\n",
       "      <th>25%</th>\n",
       "      <td>0.000000</td>\n",
       "      <td>-2747.423625</td>\n",
       "      <td>33.000000</td>\n",
       "      <td>1.000000</td>\n",
       "      <td>0.000000</td>\n",
       "      <td>0.000000</td>\n",
       "      <td>1.030532e+05</td>\n",
       "    </tr>\n",
       "    <tr>\n",
       "      <th>50%</th>\n",
       "      <td>0.000000</td>\n",
       "      <td>-1203.369529</td>\n",
       "      <td>42.000000</td>\n",
       "      <td>1.000000</td>\n",
       "      <td>0.000000</td>\n",
       "      <td>0.000000</td>\n",
       "      <td>1.450179e+05</td>\n",
       "    </tr>\n",
       "    <tr>\n",
       "      <th>75%</th>\n",
       "      <td>1.000000</td>\n",
       "      <td>-291.095954</td>\n",
       "      <td>53.000000</td>\n",
       "      <td>1.000000</td>\n",
       "      <td>1.000000</td>\n",
       "      <td>0.000000</td>\n",
       "      <td>2.034351e+05</td>\n",
       "    </tr>\n",
       "    <tr>\n",
       "      <th>max</th>\n",
       "      <td>20.000000</td>\n",
       "      <td>401755.400475</td>\n",
       "      <td>75.000000</td>\n",
       "      <td>4.000000</td>\n",
       "      <td>4.000000</td>\n",
       "      <td>1.000000</td>\n",
       "      <td>2.265604e+06</td>\n",
       "    </tr>\n",
       "  </tbody>\n",
       "</table>\n",
       "</div>"
      ],
      "text/plain": [
       "           children  days_employed     dob_years  education_id  \\\n",
       "count  21525.000000   19351.000000  21525.000000  21525.000000   \n",
       "mean       0.538908   63046.497661     43.293380      0.817236   \n",
       "std        1.381587  140827.311974     12.574584      0.548138   \n",
       "min       -1.000000  -18388.949901      0.000000      0.000000   \n",
       "25%        0.000000   -2747.423625     33.000000      1.000000   \n",
       "50%        0.000000   -1203.369529     42.000000      1.000000   \n",
       "75%        1.000000    -291.095954     53.000000      1.000000   \n",
       "max       20.000000  401755.400475     75.000000      4.000000   \n",
       "\n",
       "       family_status_id          debt  total_income  \n",
       "count      21525.000000  21525.000000  1.935100e+04  \n",
       "mean           0.972544      0.080883  1.674223e+05  \n",
       "std            1.420324      0.272661  1.029716e+05  \n",
       "min            0.000000      0.000000  2.066726e+04  \n",
       "25%            0.000000      0.000000  1.030532e+05  \n",
       "50%            0.000000      0.000000  1.450179e+05  \n",
       "75%            1.000000      0.000000  2.034351e+05  \n",
       "max            4.000000      1.000000  2.265604e+06  "
      ]
     },
     "metadata": {},
     "output_type": "display_data"
    },
    {
     "name": "stdout",
     "output_type": "stream",
     "text": [
      "Процент пропущенных значений в колонках days_employed и total_income: 10.099883855981417\n"
     ]
    }
   ],
   "source": [
    "display(df.describe())\n",
    "print('Процент пропущенных значений в колонках days_employed и total_income:',(21525-19351)/21525*100)\n",
    "\n",
    "df['total_income'] = df['total_income'].fillna(df.groupby('income_type')['total_income'].transform('median'))\n"
   ]
  },
  {
   "cell_type": "markdown",
   "id": "b61246ae",
   "metadata": {},
   "source": [
    "Пропущены числовые значения в столбцах с количеством рабочих дней и итоговым доходом в одних и тех же строках. Пропуск можно объяснить тем, что данные могли быть не предосавлены на этапе оформления кредита.\n",
    "Замену пропущенных числовых данных в столбце с итоговым доходом лучше выполнить на медианное значение с учетом категории дохода из столбца income_type.\n",
    "Среднее значение даст некорректный результат, поскольку в слобце есть очень высокие и очень низкие значения, которые могут исказить результат.\n"
   ]
  },
  {
   "cell_type": "markdown",
   "id": "60367b7e",
   "metadata": {},
   "source": [
    "### Шаг 2.2 Проверка данных на аномалии и исправления."
   ]
  },
  {
   "cell_type": "code",
   "execution_count": 64,
   "id": "d1f74fc2",
   "metadata": {
    "scrolled": false
   },
   "outputs": [
    {
     "name": "stdout",
     "output_type": "stream",
     "text": [
      " 0     14149\n",
      " 1      4818\n",
      " 2      2055\n",
      " 3       330\n",
      " 20       76\n",
      "-1        47\n",
      " 4        41\n",
      " 5         9\n",
      "Name: children, dtype: int64\n"
     ]
    }
   ],
   "source": [
    "print(df['children'].value_counts())\n"
   ]
  },
  {
   "cell_type": "markdown",
   "id": "9dfcb4c5",
   "metadata": {},
   "source": [
    "В столбце children имеются аномальные значения: \"20\" и \"-1\". Оба эти значения могли появиться из-за неправильного ввода данных (20 - это 2 с лишним нулем, -1 - это 1)\n",
    "Исправим эти значения методом .replace() на 2 и 1 соответсвенно."
   ]
  },
  {
   "cell_type": "code",
   "execution_count": 65,
   "id": "d51b6300",
   "metadata": {},
   "outputs": [
    {
     "data": {
      "text/plain": [
       "0    14149\n",
       "1     4865\n",
       "2     2131\n",
       "3      330\n",
       "4       41\n",
       "5        9\n",
       "Name: children, dtype: int64"
      ]
     },
     "execution_count": 65,
     "metadata": {},
     "output_type": "execute_result"
    }
   ],
   "source": [
    "df['children']=df['children'].replace(20,2)\n",
    "df['children']=df['children'].replace(-1,1)\n",
    "df['children'].value_counts()"
   ]
  },
  {
   "cell_type": "code",
   "execution_count": 66,
   "id": "be903349",
   "metadata": {},
   "outputs": [
    {
     "data": {
      "text/plain": [
       "count     19351.000000\n",
       "mean      63046.497661\n",
       "std      140827.311974\n",
       "min      -18388.949901\n",
       "25%       -2747.423625\n",
       "50%       -1203.369529\n",
       "75%        -291.095954\n",
       "max      401755.400475\n",
       "Name: days_employed, dtype: float64"
      ]
     },
     "metadata": {},
     "output_type": "display_data"
    }
   ],
   "source": [
    "display(df['days_employed'].describe())\n"
   ]
  },
  {
   "cell_type": "markdown",
   "id": "c9832428",
   "metadata": {},
   "source": [
    "В столбце days_employed помимо пропусков есть отрицательные и аномально высокие значения (1100 лет).\n",
    "Отрицательные значения заменим методом .abs()\n",
    "Сделаем срез по столбцу days_employed со значениями менее 60 лет и выведем общую информацию о нем методом .describe() и заменим значения более 60 лет и пропуски медианой этого среза"
   ]
  },
  {
   "cell_type": "code",
   "execution_count": 67,
   "id": "661a4250",
   "metadata": {},
   "outputs": [
    {
     "name": "stdout",
     "output_type": "stream",
     "text": [
      "count    15906.000000\n",
      "mean      2353.015932\n",
      "std       2304.243851\n",
      "min         24.141633\n",
      "25%        756.371964\n",
      "50%       1630.019381\n",
      "75%       3157.480084\n",
      "max      18388.949901\n",
      "Name: days_employed, dtype: float64\n"
     ]
    },
    {
     "data": {
      "text/plain": [
       "count    21525.000000\n",
       "mean      2164.281083\n",
       "std       2006.061675\n",
       "min         24.141633\n",
       "25%       1025.608174\n",
       "50%       1630.019381\n",
       "75%       2518.168900\n",
       "max      18388.949901\n",
       "Name: days_employed, dtype: float64"
      ]
     },
     "execution_count": 67,
     "metadata": {},
     "output_type": "execute_result"
    }
   ],
   "source": [
    "df['days_employed']=df['days_employed'].abs()\n",
    "print(df.loc[df['days_employed']<(60*365),'days_employed'].describe())\n",
    "df['days_employed']=df['days_employed'].where(\n",
    "    df['days_employed']<(60*365),df.loc[df['days_employed']<(60*365),'days_employed'].median()\n",
    ")\n",
    "df['days_employed'].describe()"
   ]
  },
  {
   "cell_type": "markdown",
   "id": "33911a44",
   "metadata": {},
   "source": [
    "В столбце dob_years 101 нулевое значение. Поскольку определить возраст заемщика по имеющимся данным не получится, удаляем строки с нулевым значением dob_years"
   ]
  },
  {
   "cell_type": "code",
   "execution_count": 68,
   "id": "ba0e5054",
   "metadata": {},
   "outputs": [
    {
     "name": "stdout",
     "output_type": "stream",
     "text": [
      "35    617\n",
      "40    609\n",
      "41    607\n",
      "34    603\n",
      "38    598\n",
      "42    597\n",
      "33    581\n",
      "39    573\n",
      "31    560\n",
      "36    555\n",
      "44    547\n",
      "29    545\n",
      "30    540\n",
      "48    538\n",
      "37    537\n",
      "50    514\n",
      "43    513\n",
      "32    510\n",
      "49    508\n",
      "28    503\n",
      "45    497\n",
      "27    493\n",
      "56    487\n",
      "52    484\n",
      "47    480\n",
      "54    479\n",
      "46    475\n",
      "58    461\n",
      "57    460\n",
      "53    459\n",
      "51    448\n",
      "59    444\n",
      "55    443\n",
      "26    408\n",
      "60    377\n",
      "25    357\n",
      "61    355\n",
      "62    352\n",
      "63    269\n",
      "64    265\n",
      "24    264\n",
      "23    254\n",
      "65    194\n",
      "66    183\n",
      "22    183\n",
      "67    167\n",
      "21    111\n",
      "0     101\n",
      "68     99\n",
      "69     85\n",
      "70     65\n",
      "71     58\n",
      "20     51\n",
      "72     33\n",
      "19     14\n",
      "73      8\n",
      "74      6\n",
      "75      1\n",
      "Name: dob_years, dtype: int64\n"
     ]
    }
   ],
   "source": [
    "print(df['dob_years'].sort_values().value_counts())\n",
    "df=df.loc[df['dob_years']!=0]\n",
    "\n"
   ]
  },
  {
   "cell_type": "markdown",
   "id": "85f569af",
   "metadata": {},
   "source": [
    "В столбцах education_id, family_status_id и debt аномальных значений не выявлено"
   ]
  },
  {
   "cell_type": "code",
   "execution_count": 69,
   "id": "2077ff51",
   "metadata": {},
   "outputs": [
    {
     "name": "stdout",
     "output_type": "stream",
     "text": [
      "1    15169\n",
      "0     5225\n",
      "2      742\n",
      "3      282\n",
      "4        6\n",
      "Name: education_id, dtype: int64\n",
      "\n",
      "0    12331\n",
      "1     4156\n",
      "4     2797\n",
      "3     1185\n",
      "2      955\n",
      "Name: family_status_id, dtype: int64\n",
      "\n",
      "0    19691\n",
      "1     1733\n",
      "Name: debt, dtype: int64\n"
     ]
    }
   ],
   "source": [
    "print(df['education_id'].value_counts())\n",
    "print()\n",
    "print(df['family_status_id'].value_counts())\n",
    "print()\n",
    "print (df['debt'].value_counts())\n"
   ]
  },
  {
   "cell_type": "markdown",
   "id": "5efaee61",
   "metadata": {},
   "source": [
    "### Шаг 2.3. Изменение типов данных."
   ]
  },
  {
   "cell_type": "markdown",
   "id": "b1c28e5a",
   "metadata": {},
   "source": [
    "Заменим вещественный тип данных в столбце total_income на целочисленный с помощью метода astype()"
   ]
  },
  {
   "cell_type": "code",
   "execution_count": 70,
   "id": "8c79efac",
   "metadata": {},
   "outputs": [
    {
     "name": "stdout",
     "output_type": "stream",
     "text": [
      "int64 int64\n"
     ]
    }
   ],
   "source": [
    "df['total_income']=df['total_income'].astype('int64')\n",
    "df['days_employed']=df['days_employed'].astype('int64')\n",
    "print(\n",
    "    df['total_income'].dtypes,\n",
    "    df['days_employed'].dtypes\n",
    ")"
   ]
  },
  {
   "cell_type": "markdown",
   "id": "db213a28",
   "metadata": {},
   "source": [
    "### Шаг 2.4. Удаление дубликатов"
   ]
  },
  {
   "cell_type": "markdown",
   "id": "92ba08b3",
   "metadata": {},
   "source": [
    "Проверим наличие строк-дупликатов методом .duplicated() и удалим найденные строки методом .drop_duplicates()"
   ]
  },
  {
   "cell_type": "code",
   "execution_count": 71,
   "id": "1d2d73bc",
   "metadata": {},
   "outputs": [
    {
     "name": "stdout",
     "output_type": "stream",
     "text": [
      "54\n"
     ]
    },
    {
     "data": {
      "text/plain": [
       "0"
      ]
     },
     "execution_count": 71,
     "metadata": {},
     "output_type": "execute_result"
    }
   ],
   "source": [
    "print(df.duplicated().sum())\n",
    "df=df.drop_duplicates()\n",
    "df.duplicated().sum()"
   ]
  },
  {
   "cell_type": "markdown",
   "id": "3845229a",
   "metadata": {},
   "source": [
    "Проверим наличие неявных дупликатов методом .value_counts()"
   ]
  },
  {
   "cell_type": "code",
   "execution_count": 72,
   "id": "3307efc0",
   "metadata": {},
   "outputs": [
    {
     "name": "stdout",
     "output_type": "stream",
     "text": [
      "среднее                13646\n",
      "высшее                  4678\n",
      "СРЕДНЕЕ                  770\n",
      "Среднее                  708\n",
      "неоконченное высшее      666\n",
      "ВЫСШЕЕ                   272\n",
      "Высшее                   266\n",
      "начальное                250\n",
      "Неоконченное высшее       47\n",
      "НЕОКОНЧЕННОЕ ВЫСШЕЕ       29\n",
      "НАЧАЛЬНОЕ                 17\n",
      "Начальное                 15\n",
      "ученая степень             4\n",
      "УЧЕНАЯ СТЕПЕНЬ             1\n",
      "Ученая степень             1\n",
      "Name: education, dtype: int64\n",
      "\n",
      "женат / замужем          12295\n",
      "гражданский брак          4142\n",
      "Не женат / не замужем     2794\n",
      "в разводе                 1185\n",
      "вдовец / вдова             954\n",
      "Name: family_status, dtype: int64\n",
      "\n",
      "F      14117\n",
      "M       7252\n",
      "XNA        1\n",
      "Name: gender, dtype: int64\n",
      "\n",
      "сотрудник          11036\n",
      "компаньон           5060\n",
      "пенсионер           3817\n",
      "госслужащий         1451\n",
      "безработный            2\n",
      "предприниматель        2\n",
      "студент                1\n",
      "в декрете              1\n",
      "Name: income_type, dtype: int64\n",
      "\n",
      "свадьба                                   788\n",
      "на проведение свадьбы                     769\n",
      "сыграть свадьбу                           764\n",
      "операции с недвижимостью                  672\n",
      "покупка коммерческой недвижимости         659\n",
      "покупка жилья для сдачи                   650\n",
      "операции с коммерческой недвижимостью     648\n",
      "операции с жильем                         646\n",
      "покупка жилья                             640\n",
      "жилье                                     640\n",
      "покупка жилья для семьи                   637\n",
      "строительство собственной недвижимости    633\n",
      "недвижимость                              629\n",
      "операции со своей недвижимостью           627\n",
      "строительство жилой недвижимости          622\n",
      "строительство недвижимости                619\n",
      "покупка своего жилья                      619\n",
      "покупка недвижимости                      618\n",
      "ремонт жилью                              605\n",
      "покупка жилой недвижимости                603\n",
      "на покупку своего автомобиля              502\n",
      "заняться высшим образованием              493\n",
      "автомобиль                                490\n",
      "сделка с подержанным автомобилем          484\n",
      "на покупку подержанного автомобиля        478\n",
      "свой автомобиль                           476\n",
      "автомобили                                476\n",
      "на покупку автомобиля                     467\n",
      "приобретение автомобиля                   459\n",
      "дополнительное образование                458\n",
      "сделка с автомобилем                      454\n",
      "высшее образование                        449\n",
      "получение дополнительного образования     445\n",
      "образование                               444\n",
      "получение образования                     441\n",
      "профильное образование                    435\n",
      "получение высшего образования             424\n",
      "заняться образованием                     407\n",
      "Name: purpose, dtype: int64\n"
     ]
    }
   ],
   "source": [
    "print(df['education'].value_counts())\n",
    "print()\n",
    "print(df['family_status'].value_counts())\n",
    "print()\n",
    "print(df['gender'].value_counts())\n",
    "print()\n",
    "print(df['income_type'].value_counts())\n",
    "print()\n",
    "print(df['purpose'].value_counts())"
   ]
  },
  {
   "cell_type": "markdown",
   "id": "a0859d7d",
   "metadata": {},
   "source": [
    "Удалим строку со значением 'XNA' в столбце gender"
   ]
  },
  {
   "cell_type": "code",
   "execution_count": 73,
   "id": "666c1b95",
   "metadata": {},
   "outputs": [
    {
     "data": {
      "text/plain": [
       "F    14117\n",
       "M     7252\n",
       "Name: gender, dtype: int64"
      ]
     },
     "execution_count": 73,
     "metadata": {},
     "output_type": "execute_result"
    }
   ],
   "source": [
    "df=df.loc[df['gender']!='XNA']\n",
    "df['gender'].value_counts()"
   ]
  },
  {
   "cell_type": "markdown",
   "id": "79632375",
   "metadata": {},
   "source": [
    "Избавимся от дубликатов в колонках education и family_status, приведя их значения к нижнему регистру методом .str.lower()"
   ]
  },
  {
   "cell_type": "code",
   "execution_count": 74,
   "id": "16193671",
   "metadata": {},
   "outputs": [
    {
     "name": "stdout",
     "output_type": "stream",
     "text": [
      "среднее                15124\n",
      "высшее                  5216\n",
      "неоконченное высшее      741\n",
      "начальное                282\n",
      "ученая степень             6\n",
      "Name: education, dtype: int64\n",
      "\n",
      "женат / замужем          12295\n",
      "гражданский брак          4141\n",
      "не женат / не замужем     2794\n",
      "в разводе                 1185\n",
      "вдовец / вдова             954\n",
      "Name: family_status, dtype: int64\n"
     ]
    }
   ],
   "source": [
    "df['education']=df['education'].str.lower()\n",
    "df['family_status']=df['family_status'].str.lower()\n",
    "print(df['education'].value_counts())\n",
    "print()\n",
    "print(df['family_status'].value_counts())"
   ]
  },
  {
   "cell_type": "code",
   "execution_count": null,
   "id": "e68e53c9",
   "metadata": {},
   "outputs": [],
   "source": []
  },
  {
   "cell_type": "markdown",
   "id": "11be624e",
   "metadata": {},
   "source": [
    "Причиной возникновения неявных дубликатов в виде данных, записанных в разном регистре может быть разница в том, как разные операторы набирают данные при внесении в базу или разница в настройках форм записи конкретного приложения.\n",
    "\n",
    "Повторим проверку на явные дубликаты."
   ]
  },
  {
   "cell_type": "code",
   "execution_count": 75,
   "id": "6cb8a3ba",
   "metadata": {},
   "outputs": [
    {
     "name": "stdout",
     "output_type": "stream",
     "text": [
      "17\n"
     ]
    },
    {
     "data": {
      "text/plain": [
       "0"
      ]
     },
     "execution_count": 75,
     "metadata": {},
     "output_type": "execute_result"
    }
   ],
   "source": [
    "print(df.duplicated().sum())\n",
    "df=df.drop_duplicates()\n",
    "df.duplicated().sum()"
   ]
  },
  {
   "cell_type": "markdown",
   "id": "0f04a1bd",
   "metadata": {},
   "source": [
    "### Шаг 2.5. Формирование дополнительных датафреймов словарей, декомпозиция исходного датафрейма."
   ]
  },
  {
   "cell_type": "markdown",
   "id": "3a337290",
   "metadata": {},
   "source": [
    "Cоздаем отдельные \"словари\" для идентификаторов значений колонок education и family_status.\n",
    "Удаляем соответсвующие столбцы из исходного датафрейма методом .drop()"
   ]
  },
  {
   "cell_type": "code",
   "execution_count": 76,
   "id": "fa271504",
   "metadata": {},
   "outputs": [
    {
     "data": {
      "text/html": [
       "<div>\n",
       "<style scoped>\n",
       "    .dataframe tbody tr th:only-of-type {\n",
       "        vertical-align: middle;\n",
       "    }\n",
       "\n",
       "    .dataframe tbody tr th {\n",
       "        vertical-align: top;\n",
       "    }\n",
       "\n",
       "    .dataframe thead th {\n",
       "        text-align: right;\n",
       "    }\n",
       "</style>\n",
       "<table border=\"1\" class=\"dataframe\">\n",
       "  <thead>\n",
       "    <tr style=\"text-align: right;\">\n",
       "      <th></th>\n",
       "      <th>education</th>\n",
       "      <th>education_id</th>\n",
       "    </tr>\n",
       "  </thead>\n",
       "  <tbody>\n",
       "    <tr>\n",
       "      <th>0</th>\n",
       "      <td>высшее</td>\n",
       "      <td>0</td>\n",
       "    </tr>\n",
       "    <tr>\n",
       "      <th>1</th>\n",
       "      <td>среднее</td>\n",
       "      <td>1</td>\n",
       "    </tr>\n",
       "    <tr>\n",
       "      <th>2</th>\n",
       "      <td>неоконченное высшее</td>\n",
       "      <td>2</td>\n",
       "    </tr>\n",
       "    <tr>\n",
       "      <th>3</th>\n",
       "      <td>начальное</td>\n",
       "      <td>3</td>\n",
       "    </tr>\n",
       "    <tr>\n",
       "      <th>4</th>\n",
       "      <td>ученая степень</td>\n",
       "      <td>4</td>\n",
       "    </tr>\n",
       "  </tbody>\n",
       "</table>\n",
       "</div>"
      ],
      "text/plain": [
       "             education  education_id\n",
       "0               высшее             0\n",
       "1              среднее             1\n",
       "2  неоконченное высшее             2\n",
       "3            начальное             3\n",
       "4       ученая степень             4"
      ]
     },
     "metadata": {},
     "output_type": "display_data"
    },
    {
     "data": {
      "text/html": [
       "<div>\n",
       "<style scoped>\n",
       "    .dataframe tbody tr th:only-of-type {\n",
       "        vertical-align: middle;\n",
       "    }\n",
       "\n",
       "    .dataframe tbody tr th {\n",
       "        vertical-align: top;\n",
       "    }\n",
       "\n",
       "    .dataframe thead th {\n",
       "        text-align: right;\n",
       "    }\n",
       "</style>\n",
       "<table border=\"1\" class=\"dataframe\">\n",
       "  <thead>\n",
       "    <tr style=\"text-align: right;\">\n",
       "      <th></th>\n",
       "      <th>family_status</th>\n",
       "      <th>family_status_id</th>\n",
       "    </tr>\n",
       "  </thead>\n",
       "  <tbody>\n",
       "    <tr>\n",
       "      <th>0</th>\n",
       "      <td>женат / замужем</td>\n",
       "      <td>0</td>\n",
       "    </tr>\n",
       "    <tr>\n",
       "      <th>1</th>\n",
       "      <td>гражданский брак</td>\n",
       "      <td>1</td>\n",
       "    </tr>\n",
       "    <tr>\n",
       "      <th>2</th>\n",
       "      <td>вдовец / вдова</td>\n",
       "      <td>2</td>\n",
       "    </tr>\n",
       "    <tr>\n",
       "      <th>3</th>\n",
       "      <td>в разводе</td>\n",
       "      <td>3</td>\n",
       "    </tr>\n",
       "    <tr>\n",
       "      <th>4</th>\n",
       "      <td>не женат / не замужем</td>\n",
       "      <td>4</td>\n",
       "    </tr>\n",
       "  </tbody>\n",
       "</table>\n",
       "</div>"
      ],
      "text/plain": [
       "           family_status  family_status_id\n",
       "0        женат / замужем                 0\n",
       "1       гражданский брак                 1\n",
       "2         вдовец / вдова                 2\n",
       "3              в разводе                 3\n",
       "4  не женат / не замужем                 4"
      ]
     },
     "metadata": {},
     "output_type": "display_data"
    },
    {
     "data": {
      "text/html": [
       "<div>\n",
       "<style scoped>\n",
       "    .dataframe tbody tr th:only-of-type {\n",
       "        vertical-align: middle;\n",
       "    }\n",
       "\n",
       "    .dataframe tbody tr th {\n",
       "        vertical-align: top;\n",
       "    }\n",
       "\n",
       "    .dataframe thead th {\n",
       "        text-align: right;\n",
       "    }\n",
       "</style>\n",
       "<table border=\"1\" class=\"dataframe\">\n",
       "  <thead>\n",
       "    <tr style=\"text-align: right;\">\n",
       "      <th></th>\n",
       "      <th>children</th>\n",
       "      <th>days_employed</th>\n",
       "      <th>dob_years</th>\n",
       "      <th>education_id</th>\n",
       "      <th>family_status_id</th>\n",
       "      <th>gender</th>\n",
       "      <th>income_type</th>\n",
       "      <th>debt</th>\n",
       "      <th>total_income</th>\n",
       "      <th>purpose</th>\n",
       "    </tr>\n",
       "  </thead>\n",
       "  <tbody>\n",
       "    <tr>\n",
       "      <th>0</th>\n",
       "      <td>1</td>\n",
       "      <td>8437</td>\n",
       "      <td>42</td>\n",
       "      <td>0</td>\n",
       "      <td>0</td>\n",
       "      <td>F</td>\n",
       "      <td>сотрудник</td>\n",
       "      <td>0</td>\n",
       "      <td>253875</td>\n",
       "      <td>покупка жилья</td>\n",
       "    </tr>\n",
       "    <tr>\n",
       "      <th>1</th>\n",
       "      <td>1</td>\n",
       "      <td>4024</td>\n",
       "      <td>36</td>\n",
       "      <td>1</td>\n",
       "      <td>0</td>\n",
       "      <td>F</td>\n",
       "      <td>сотрудник</td>\n",
       "      <td>0</td>\n",
       "      <td>112080</td>\n",
       "      <td>приобретение автомобиля</td>\n",
       "    </tr>\n",
       "    <tr>\n",
       "      <th>2</th>\n",
       "      <td>0</td>\n",
       "      <td>5623</td>\n",
       "      <td>33</td>\n",
       "      <td>1</td>\n",
       "      <td>0</td>\n",
       "      <td>M</td>\n",
       "      <td>сотрудник</td>\n",
       "      <td>0</td>\n",
       "      <td>145885</td>\n",
       "      <td>покупка жилья</td>\n",
       "    </tr>\n",
       "    <tr>\n",
       "      <th>3</th>\n",
       "      <td>3</td>\n",
       "      <td>4124</td>\n",
       "      <td>32</td>\n",
       "      <td>1</td>\n",
       "      <td>0</td>\n",
       "      <td>M</td>\n",
       "      <td>сотрудник</td>\n",
       "      <td>0</td>\n",
       "      <td>267628</td>\n",
       "      <td>дополнительное образование</td>\n",
       "    </tr>\n",
       "    <tr>\n",
       "      <th>4</th>\n",
       "      <td>0</td>\n",
       "      <td>1630</td>\n",
       "      <td>53</td>\n",
       "      <td>1</td>\n",
       "      <td>1</td>\n",
       "      <td>F</td>\n",
       "      <td>пенсионер</td>\n",
       "      <td>0</td>\n",
       "      <td>158616</td>\n",
       "      <td>сыграть свадьбу</td>\n",
       "    </tr>\n",
       "  </tbody>\n",
       "</table>\n",
       "</div>"
      ],
      "text/plain": [
       "   children  days_employed  dob_years  education_id  family_status_id gender  \\\n",
       "0         1           8437         42             0                 0      F   \n",
       "1         1           4024         36             1                 0      F   \n",
       "2         0           5623         33             1                 0      M   \n",
       "3         3           4124         32             1                 0      M   \n",
       "4         0           1630         53             1                 1      F   \n",
       "\n",
       "  income_type  debt  total_income                     purpose  \n",
       "0   сотрудник     0        253875               покупка жилья  \n",
       "1   сотрудник     0        112080     приобретение автомобиля  \n",
       "2   сотрудник     0        145885               покупка жилья  \n",
       "3   сотрудник     0        267628  дополнительное образование  \n",
       "4   пенсионер     0        158616             сыграть свадьбу  "
      ]
     },
     "execution_count": 76,
     "metadata": {},
     "output_type": "execute_result"
    }
   ],
   "source": [
    "education_dict=df[['education','education_id']].drop_duplicates().reset_index(drop=True)\n",
    "family_status_dict=df[['family_status','family_status_id']].drop_duplicates().reset_index(drop=True)\n",
    "display(education_dict,family_status_dict)\n",
    "\n",
    "df=df.drop(['education','family_status'],1)\n",
    "df.head()"
   ]
  },
  {
   "cell_type": "markdown",
   "id": "39897dab",
   "metadata": {},
   "source": [
    "### Шаг 2.6. Категоризация дохода."
   ]
  },
  {
   "cell_type": "markdown",
   "id": "c7a8f177",
   "metadata": {},
   "source": [
    "Пишем функцию total_income_category(), которая возвращает категории дохода в зависимости от его размера.\n",
    "Создаем в датафрейме новый столбец. С помощью метода apply() заполняем этот столбец значениями, которые вернула функция total_income_category со значением параметра из столбца total_income.\n"
   ]
  },
  {
   "cell_type": "code",
   "execution_count": 77,
   "id": "6195b078",
   "metadata": {},
   "outputs": [
    {
     "data": {
      "text/html": [
       "<div>\n",
       "<style scoped>\n",
       "    .dataframe tbody tr th:only-of-type {\n",
       "        vertical-align: middle;\n",
       "    }\n",
       "\n",
       "    .dataframe tbody tr th {\n",
       "        vertical-align: top;\n",
       "    }\n",
       "\n",
       "    .dataframe thead th {\n",
       "        text-align: right;\n",
       "    }\n",
       "</style>\n",
       "<table border=\"1\" class=\"dataframe\">\n",
       "  <thead>\n",
       "    <tr style=\"text-align: right;\">\n",
       "      <th></th>\n",
       "      <th>children</th>\n",
       "      <th>days_employed</th>\n",
       "      <th>dob_years</th>\n",
       "      <th>education_id</th>\n",
       "      <th>family_status_id</th>\n",
       "      <th>gender</th>\n",
       "      <th>income_type</th>\n",
       "      <th>debt</th>\n",
       "      <th>total_income</th>\n",
       "      <th>purpose</th>\n",
       "      <th>total_income_category</th>\n",
       "    </tr>\n",
       "  </thead>\n",
       "  <tbody>\n",
       "    <tr>\n",
       "      <th>0</th>\n",
       "      <td>1</td>\n",
       "      <td>8437</td>\n",
       "      <td>42</td>\n",
       "      <td>0</td>\n",
       "      <td>0</td>\n",
       "      <td>F</td>\n",
       "      <td>сотрудник</td>\n",
       "      <td>0</td>\n",
       "      <td>253875</td>\n",
       "      <td>покупка жилья</td>\n",
       "      <td>B</td>\n",
       "    </tr>\n",
       "    <tr>\n",
       "      <th>1</th>\n",
       "      <td>1</td>\n",
       "      <td>4024</td>\n",
       "      <td>36</td>\n",
       "      <td>1</td>\n",
       "      <td>0</td>\n",
       "      <td>F</td>\n",
       "      <td>сотрудник</td>\n",
       "      <td>0</td>\n",
       "      <td>112080</td>\n",
       "      <td>приобретение автомобиля</td>\n",
       "      <td>C</td>\n",
       "    </tr>\n",
       "    <tr>\n",
       "      <th>2</th>\n",
       "      <td>0</td>\n",
       "      <td>5623</td>\n",
       "      <td>33</td>\n",
       "      <td>1</td>\n",
       "      <td>0</td>\n",
       "      <td>M</td>\n",
       "      <td>сотрудник</td>\n",
       "      <td>0</td>\n",
       "      <td>145885</td>\n",
       "      <td>покупка жилья</td>\n",
       "      <td>C</td>\n",
       "    </tr>\n",
       "    <tr>\n",
       "      <th>3</th>\n",
       "      <td>3</td>\n",
       "      <td>4124</td>\n",
       "      <td>32</td>\n",
       "      <td>1</td>\n",
       "      <td>0</td>\n",
       "      <td>M</td>\n",
       "      <td>сотрудник</td>\n",
       "      <td>0</td>\n",
       "      <td>267628</td>\n",
       "      <td>дополнительное образование</td>\n",
       "      <td>B</td>\n",
       "    </tr>\n",
       "    <tr>\n",
       "      <th>4</th>\n",
       "      <td>0</td>\n",
       "      <td>1630</td>\n",
       "      <td>53</td>\n",
       "      <td>1</td>\n",
       "      <td>1</td>\n",
       "      <td>F</td>\n",
       "      <td>пенсионер</td>\n",
       "      <td>0</td>\n",
       "      <td>158616</td>\n",
       "      <td>сыграть свадьбу</td>\n",
       "      <td>C</td>\n",
       "    </tr>\n",
       "  </tbody>\n",
       "</table>\n",
       "</div>"
      ],
      "text/plain": [
       "   children  days_employed  dob_years  education_id  family_status_id gender  \\\n",
       "0         1           8437         42             0                 0      F   \n",
       "1         1           4024         36             1                 0      F   \n",
       "2         0           5623         33             1                 0      M   \n",
       "3         3           4124         32             1                 0      M   \n",
       "4         0           1630         53             1                 1      F   \n",
       "\n",
       "  income_type  debt  total_income                     purpose  \\\n",
       "0   сотрудник     0        253875               покупка жилья   \n",
       "1   сотрудник     0        112080     приобретение автомобиля   \n",
       "2   сотрудник     0        145885               покупка жилья   \n",
       "3   сотрудник     0        267628  дополнительное образование   \n",
       "4   пенсионер     0        158616             сыграть свадьбу   \n",
       "\n",
       "  total_income_category  \n",
       "0                     B  \n",
       "1                     C  \n",
       "2                     C  \n",
       "3                     B  \n",
       "4                     C  "
      ]
     },
     "execution_count": 77,
     "metadata": {},
     "output_type": "execute_result"
    }
   ],
   "source": [
    "def total_income_category(income):\n",
    "    if income <=30000:\n",
    "        return 'E'\n",
    "    if income <=50000:\n",
    "        return 'D'\n",
    "    if income <=200000:\n",
    "        return 'C'\n",
    "    if income <=1000000:\n",
    "        return 'B'\n",
    "    return 'A'\n",
    "df['total_income_category'] = df['total_income'].apply(total_income_category)\n",
    "df.head()"
   ]
  },
  {
   "cell_type": "markdown",
   "id": "686bcf82",
   "metadata": {},
   "source": [
    "### Шаг 2.7. Категоризация целей кредита."
   ]
  },
  {
   "cell_type": "markdown",
   "id": "3dcbb4dd",
   "metadata": {},
   "source": [
    "Для того чтобы добавить категории для цели кредита - пишем функцию purpose_category_func(row), которая возвращает значение категории в зависимости от значения в столбце purpose. \n",
    "Создаем столбец purpose_category и применяем к нему функцию методом .apply()"
   ]
  },
  {
   "cell_type": "code",
   "execution_count": 78,
   "id": "75306c56",
   "metadata": {},
   "outputs": [
    {
     "data": {
      "text/html": [
       "<div>\n",
       "<style scoped>\n",
       "    .dataframe tbody tr th:only-of-type {\n",
       "        vertical-align: middle;\n",
       "    }\n",
       "\n",
       "    .dataframe tbody tr th {\n",
       "        vertical-align: top;\n",
       "    }\n",
       "\n",
       "    .dataframe thead th {\n",
       "        text-align: right;\n",
       "    }\n",
       "</style>\n",
       "<table border=\"1\" class=\"dataframe\">\n",
       "  <thead>\n",
       "    <tr style=\"text-align: right;\">\n",
       "      <th></th>\n",
       "      <th>children</th>\n",
       "      <th>days_employed</th>\n",
       "      <th>dob_years</th>\n",
       "      <th>education_id</th>\n",
       "      <th>family_status_id</th>\n",
       "      <th>gender</th>\n",
       "      <th>income_type</th>\n",
       "      <th>debt</th>\n",
       "      <th>total_income</th>\n",
       "      <th>purpose</th>\n",
       "      <th>total_income_category</th>\n",
       "      <th>purpose_category</th>\n",
       "    </tr>\n",
       "  </thead>\n",
       "  <tbody>\n",
       "    <tr>\n",
       "      <th>0</th>\n",
       "      <td>1</td>\n",
       "      <td>8437</td>\n",
       "      <td>42</td>\n",
       "      <td>0</td>\n",
       "      <td>0</td>\n",
       "      <td>F</td>\n",
       "      <td>сотрудник</td>\n",
       "      <td>0</td>\n",
       "      <td>253875</td>\n",
       "      <td>покупка жилья</td>\n",
       "      <td>B</td>\n",
       "      <td>операции с недвижимостью</td>\n",
       "    </tr>\n",
       "    <tr>\n",
       "      <th>1</th>\n",
       "      <td>1</td>\n",
       "      <td>4024</td>\n",
       "      <td>36</td>\n",
       "      <td>1</td>\n",
       "      <td>0</td>\n",
       "      <td>F</td>\n",
       "      <td>сотрудник</td>\n",
       "      <td>0</td>\n",
       "      <td>112080</td>\n",
       "      <td>приобретение автомобиля</td>\n",
       "      <td>C</td>\n",
       "      <td>операции с автомобилем</td>\n",
       "    </tr>\n",
       "    <tr>\n",
       "      <th>2</th>\n",
       "      <td>0</td>\n",
       "      <td>5623</td>\n",
       "      <td>33</td>\n",
       "      <td>1</td>\n",
       "      <td>0</td>\n",
       "      <td>M</td>\n",
       "      <td>сотрудник</td>\n",
       "      <td>0</td>\n",
       "      <td>145885</td>\n",
       "      <td>покупка жилья</td>\n",
       "      <td>C</td>\n",
       "      <td>операции с недвижимостью</td>\n",
       "    </tr>\n",
       "    <tr>\n",
       "      <th>3</th>\n",
       "      <td>3</td>\n",
       "      <td>4124</td>\n",
       "      <td>32</td>\n",
       "      <td>1</td>\n",
       "      <td>0</td>\n",
       "      <td>M</td>\n",
       "      <td>сотрудник</td>\n",
       "      <td>0</td>\n",
       "      <td>267628</td>\n",
       "      <td>дополнительное образование</td>\n",
       "      <td>B</td>\n",
       "      <td>получение образования</td>\n",
       "    </tr>\n",
       "    <tr>\n",
       "      <th>4</th>\n",
       "      <td>0</td>\n",
       "      <td>1630</td>\n",
       "      <td>53</td>\n",
       "      <td>1</td>\n",
       "      <td>1</td>\n",
       "      <td>F</td>\n",
       "      <td>пенсионер</td>\n",
       "      <td>0</td>\n",
       "      <td>158616</td>\n",
       "      <td>сыграть свадьбу</td>\n",
       "      <td>C</td>\n",
       "      <td>проведение свадьбы</td>\n",
       "    </tr>\n",
       "  </tbody>\n",
       "</table>\n",
       "</div>"
      ],
      "text/plain": [
       "   children  days_employed  dob_years  education_id  family_status_id gender  \\\n",
       "0         1           8437         42             0                 0      F   \n",
       "1         1           4024         36             1                 0      F   \n",
       "2         0           5623         33             1                 0      M   \n",
       "3         3           4124         32             1                 0      M   \n",
       "4         0           1630         53             1                 1      F   \n",
       "\n",
       "  income_type  debt  total_income                     purpose  \\\n",
       "0   сотрудник     0        253875               покупка жилья   \n",
       "1   сотрудник     0        112080     приобретение автомобиля   \n",
       "2   сотрудник     0        145885               покупка жилья   \n",
       "3   сотрудник     0        267628  дополнительное образование   \n",
       "4   пенсионер     0        158616             сыграть свадьбу   \n",
       "\n",
       "  total_income_category          purpose_category  \n",
       "0                     B  операции с недвижимостью  \n",
       "1                     C    операции с автомобилем  \n",
       "2                     C  операции с недвижимостью  \n",
       "3                     B     получение образования  \n",
       "4                     C        проведение свадьбы  "
      ]
     },
     "execution_count": 78,
     "metadata": {},
     "output_type": "execute_result"
    }
   ],
   "source": [
    "def purpose_category_func(row):\n",
    "    if 'жиль' in row:\n",
    "        return 'операции с недвижимостью'\n",
    "    elif 'недвиж' in row:\n",
    "        return 'операции с недвижимостью'\n",
    "    elif 'свад' in row:\n",
    "        return 'проведение свадьбы'\n",
    "    elif 'авто' in row:\n",
    "        return 'операции с автомобилем'\n",
    "    else:\n",
    "        return 'получение образования'\n",
    "\n",
    "df['purpose_category'] = df['purpose'].apply(purpose_category_func)\n",
    "df.head()\n",
    "  "
   ]
  },
  {
   "cell_type": "markdown",
   "id": "d2ce24f9",
   "metadata": {},
   "source": [
    "### Ответы на вопросы."
   ]
  },
  {
   "cell_type": "markdown",
   "id": "8b5487bb",
   "metadata": {},
   "source": [
    "##### Вопрос 1: Есть ли зависимость между количеством детей и возвратом кредита в срок?"
   ]
  },
  {
   "cell_type": "code",
   "execution_count": 79,
   "id": "0aab6f50",
   "metadata": {},
   "outputs": [
    {
     "name": "stdout",
     "output_type": "stream",
     "text": [
      "0.08116335706257025\n"
     ]
    },
    {
     "data": {
      "text/html": [
       "<div>\n",
       "<style scoped>\n",
       "    .dataframe tbody tr th:only-of-type {\n",
       "        vertical-align: middle;\n",
       "    }\n",
       "\n",
       "    .dataframe tbody tr th {\n",
       "        vertical-align: top;\n",
       "    }\n",
       "\n",
       "    .dataframe thead tr th {\n",
       "        text-align: left;\n",
       "    }\n",
       "\n",
       "    .dataframe thead tr:last-of-type th {\n",
       "        text-align: right;\n",
       "    }\n",
       "</style>\n",
       "<table border=\"1\" class=\"dataframe\">\n",
       "  <thead>\n",
       "    <tr>\n",
       "      <th></th>\n",
       "      <th>count</th>\n",
       "      <th>sum</th>\n",
       "      <th>mean</th>\n",
       "    </tr>\n",
       "    <tr>\n",
       "      <th></th>\n",
       "      <th>debt</th>\n",
       "      <th>debt</th>\n",
       "      <th>debt</th>\n",
       "    </tr>\n",
       "    <tr>\n",
       "      <th>children</th>\n",
       "      <th></th>\n",
       "      <th></th>\n",
       "      <th></th>\n",
       "    </tr>\n",
       "  </thead>\n",
       "  <tbody>\n",
       "    <tr>\n",
       "      <th>0</th>\n",
       "      <td>14021</td>\n",
       "      <td>1058</td>\n",
       "      <td>0.075458</td>\n",
       "    </tr>\n",
       "    <tr>\n",
       "      <th>1</th>\n",
       "      <td>4839</td>\n",
       "      <td>442</td>\n",
       "      <td>0.091341</td>\n",
       "    </tr>\n",
       "    <tr>\n",
       "      <th>2</th>\n",
       "      <td>2114</td>\n",
       "      <td>202</td>\n",
       "      <td>0.095553</td>\n",
       "    </tr>\n",
       "    <tr>\n",
       "      <th>3</th>\n",
       "      <td>328</td>\n",
       "      <td>27</td>\n",
       "      <td>0.082317</td>\n",
       "    </tr>\n",
       "    <tr>\n",
       "      <th>4</th>\n",
       "      <td>41</td>\n",
       "      <td>4</td>\n",
       "      <td>0.097561</td>\n",
       "    </tr>\n",
       "    <tr>\n",
       "      <th>5</th>\n",
       "      <td>9</td>\n",
       "      <td>0</td>\n",
       "      <td>0.000000</td>\n",
       "    </tr>\n",
       "  </tbody>\n",
       "</table>\n",
       "</div>"
      ],
      "text/plain": [
       "          count   sum      mean\n",
       "           debt  debt      debt\n",
       "children                       \n",
       "0         14021  1058  0.075458\n",
       "1          4839   442  0.091341\n",
       "2          2114   202  0.095553\n",
       "3           328    27  0.082317\n",
       "4            41     4  0.097561\n",
       "5             9     0  0.000000"
      ]
     },
     "execution_count": 79,
     "metadata": {},
     "output_type": "execute_result"
    }
   ],
   "source": [
    "print(df['debt'].mean())\n",
    "def pivot(column):\n",
    "    return df.pivot_table(index=[column],values='debt',aggfunc=['count','sum','mean'])\n",
    "    \n",
    "    \n",
    "pivot('children')\n"
   ]
  },
  {
   "cell_type": "markdown",
   "id": "bad0a04a",
   "metadata": {},
   "source": [
    "##### Вывод 1:"
   ]
  },
  {
   "cell_type": "markdown",
   "id": "72db6b57",
   "metadata": {},
   "source": [
    "Из сводной таблицы по значениям 'debt' у заемщиков с различным количеством детей видно, что заемщики без детей в среднем реже не платят по кредиту."
   ]
  },
  {
   "cell_type": "markdown",
   "id": "31866be7",
   "metadata": {},
   "source": [
    "##### Вопрос 2: Есть ли зависимость между семейным положением и возвратом кредита в срок?"
   ]
  },
  {
   "cell_type": "code",
   "execution_count": 80,
   "id": "8925a465",
   "metadata": {},
   "outputs": [
    {
     "data": {
      "text/html": [
       "<div>\n",
       "<style scoped>\n",
       "    .dataframe tbody tr th:only-of-type {\n",
       "        vertical-align: middle;\n",
       "    }\n",
       "\n",
       "    .dataframe tbody tr th {\n",
       "        vertical-align: top;\n",
       "    }\n",
       "\n",
       "    .dataframe thead th {\n",
       "        text-align: right;\n",
       "    }\n",
       "</style>\n",
       "<table border=\"1\" class=\"dataframe\">\n",
       "  <thead>\n",
       "    <tr style=\"text-align: right;\">\n",
       "      <th></th>\n",
       "      <th>family_status</th>\n",
       "      <th>family_status_id</th>\n",
       "    </tr>\n",
       "  </thead>\n",
       "  <tbody>\n",
       "    <tr>\n",
       "      <th>0</th>\n",
       "      <td>женат / замужем</td>\n",
       "      <td>0</td>\n",
       "    </tr>\n",
       "    <tr>\n",
       "      <th>1</th>\n",
       "      <td>гражданский брак</td>\n",
       "      <td>1</td>\n",
       "    </tr>\n",
       "    <tr>\n",
       "      <th>2</th>\n",
       "      <td>вдовец / вдова</td>\n",
       "      <td>2</td>\n",
       "    </tr>\n",
       "    <tr>\n",
       "      <th>3</th>\n",
       "      <td>в разводе</td>\n",
       "      <td>3</td>\n",
       "    </tr>\n",
       "    <tr>\n",
       "      <th>4</th>\n",
       "      <td>не женат / не замужем</td>\n",
       "      <td>4</td>\n",
       "    </tr>\n",
       "  </tbody>\n",
       "</table>\n",
       "</div>"
      ],
      "text/plain": [
       "           family_status  family_status_id\n",
       "0        женат / замужем                 0\n",
       "1       гражданский брак                 1\n",
       "2         вдовец / вдова                 2\n",
       "3              в разводе                 3\n",
       "4  не женат / не замужем                 4"
      ]
     },
     "metadata": {},
     "output_type": "display_data"
    },
    {
     "data": {
      "text/html": [
       "<div>\n",
       "<style scoped>\n",
       "    .dataframe tbody tr th:only-of-type {\n",
       "        vertical-align: middle;\n",
       "    }\n",
       "\n",
       "    .dataframe tbody tr th {\n",
       "        vertical-align: top;\n",
       "    }\n",
       "\n",
       "    .dataframe thead tr th {\n",
       "        text-align: left;\n",
       "    }\n",
       "\n",
       "    .dataframe thead tr:last-of-type th {\n",
       "        text-align: right;\n",
       "    }\n",
       "</style>\n",
       "<table border=\"1\" class=\"dataframe\">\n",
       "  <thead>\n",
       "    <tr>\n",
       "      <th></th>\n",
       "      <th>count</th>\n",
       "      <th>sum</th>\n",
       "      <th>mean</th>\n",
       "    </tr>\n",
       "    <tr>\n",
       "      <th></th>\n",
       "      <th>debt</th>\n",
       "      <th>debt</th>\n",
       "      <th>debt</th>\n",
       "    </tr>\n",
       "    <tr>\n",
       "      <th>family_status_id</th>\n",
       "      <th></th>\n",
       "      <th></th>\n",
       "      <th></th>\n",
       "    </tr>\n",
       "  </thead>\n",
       "  <tbody>\n",
       "    <tr>\n",
       "      <th>0</th>\n",
       "      <td>12290</td>\n",
       "      <td>927</td>\n",
       "      <td>0.075427</td>\n",
       "    </tr>\n",
       "    <tr>\n",
       "      <th>1</th>\n",
       "      <td>4129</td>\n",
       "      <td>386</td>\n",
       "      <td>0.093485</td>\n",
       "    </tr>\n",
       "    <tr>\n",
       "      <th>2</th>\n",
       "      <td>954</td>\n",
       "      <td>62</td>\n",
       "      <td>0.064990</td>\n",
       "    </tr>\n",
       "    <tr>\n",
       "      <th>3</th>\n",
       "      <td>1185</td>\n",
       "      <td>85</td>\n",
       "      <td>0.071730</td>\n",
       "    </tr>\n",
       "    <tr>\n",
       "      <th>4</th>\n",
       "      <td>2794</td>\n",
       "      <td>273</td>\n",
       "      <td>0.097709</td>\n",
       "    </tr>\n",
       "  </tbody>\n",
       "</table>\n",
       "</div>"
      ],
      "text/plain": [
       "                  count  sum      mean\n",
       "                   debt debt      debt\n",
       "family_status_id                      \n",
       "0                 12290  927  0.075427\n",
       "1                  4129  386  0.093485\n",
       "2                   954   62  0.064990\n",
       "3                  1185   85  0.071730\n",
       "4                  2794  273  0.097709"
      ]
     },
     "execution_count": 80,
     "metadata": {},
     "output_type": "execute_result"
    }
   ],
   "source": [
    "display(family_status_dict)\n",
    "pivot('family_status_id')"
   ]
  },
  {
   "cell_type": "markdown",
   "id": "c22ed72c",
   "metadata": {},
   "source": [
    "##### Вывод 2: "
   ]
  },
  {
   "cell_type": "markdown",
   "id": "db0f0f9a",
   "metadata": {},
   "source": [
    "Из сводной таблицы по значениям 'debt' у заемщиков с различным семейным положением прослеживается связь: среднее количество невозвратов примерно на 2 % выше у заемщиков со статусами 'гражданский брак' и 'не женат / не замужем'"
   ]
  },
  {
   "cell_type": "markdown",
   "id": "c678d9da",
   "metadata": {},
   "source": [
    "##### Вопрос 3: Есть ли зависимость между уровнем дохода и возвратом кредита в срок?"
   ]
  },
  {
   "cell_type": "code",
   "execution_count": 81,
   "id": "3890a2e8",
   "metadata": {},
   "outputs": [
    {
     "data": {
      "text/html": [
       "<div>\n",
       "<style scoped>\n",
       "    .dataframe tbody tr th:only-of-type {\n",
       "        vertical-align: middle;\n",
       "    }\n",
       "\n",
       "    .dataframe tbody tr th {\n",
       "        vertical-align: top;\n",
       "    }\n",
       "\n",
       "    .dataframe thead tr th {\n",
       "        text-align: left;\n",
       "    }\n",
       "\n",
       "    .dataframe thead tr:last-of-type th {\n",
       "        text-align: right;\n",
       "    }\n",
       "</style>\n",
       "<table border=\"1\" class=\"dataframe\">\n",
       "  <thead>\n",
       "    <tr>\n",
       "      <th></th>\n",
       "      <th>count</th>\n",
       "      <th>sum</th>\n",
       "      <th>mean</th>\n",
       "    </tr>\n",
       "    <tr>\n",
       "      <th></th>\n",
       "      <th>debt</th>\n",
       "      <th>debt</th>\n",
       "      <th>debt</th>\n",
       "    </tr>\n",
       "    <tr>\n",
       "      <th>total_income_category</th>\n",
       "      <th></th>\n",
       "      <th></th>\n",
       "      <th></th>\n",
       "    </tr>\n",
       "  </thead>\n",
       "  <tbody>\n",
       "    <tr>\n",
       "      <th>A</th>\n",
       "      <td>25</td>\n",
       "      <td>2</td>\n",
       "      <td>0.080000</td>\n",
       "    </tr>\n",
       "    <tr>\n",
       "      <th>B</th>\n",
       "      <td>5015</td>\n",
       "      <td>355</td>\n",
       "      <td>0.070788</td>\n",
       "    </tr>\n",
       "    <tr>\n",
       "      <th>C</th>\n",
       "      <td>15942</td>\n",
       "      <td>1353</td>\n",
       "      <td>0.084870</td>\n",
       "    </tr>\n",
       "    <tr>\n",
       "      <th>D</th>\n",
       "      <td>348</td>\n",
       "      <td>21</td>\n",
       "      <td>0.060345</td>\n",
       "    </tr>\n",
       "    <tr>\n",
       "      <th>E</th>\n",
       "      <td>22</td>\n",
       "      <td>2</td>\n",
       "      <td>0.090909</td>\n",
       "    </tr>\n",
       "  </tbody>\n",
       "</table>\n",
       "</div>"
      ],
      "text/plain": [
       "                       count   sum      mean\n",
       "                        debt  debt      debt\n",
       "total_income_category                       \n",
       "A                         25     2  0.080000\n",
       "B                       5015   355  0.070788\n",
       "C                      15942  1353  0.084870\n",
       "D                        348    21  0.060345\n",
       "E                         22     2  0.090909"
      ]
     },
     "execution_count": 81,
     "metadata": {},
     "output_type": "execute_result"
    }
   ],
   "source": [
    "pivot('total_income_category')"
   ]
  },
  {
   "cell_type": "markdown",
   "id": "a9f24a75",
   "metadata": {},
   "source": [
    "##### Вывод 3:"
   ]
  },
  {
   "cell_type": "markdown",
   "id": "78502637",
   "metadata": {},
   "source": [
    "Из сводной таблицы по значениям 'debt' у заемщиков с различным уровнем дохода зависимость не прослеживается."
   ]
  },
  {
   "cell_type": "markdown",
   "id": "7269a4b6",
   "metadata": {},
   "source": [
    "##### Вопрос 4: Как разные цели кредита влияют на его возврат в срок?"
   ]
  },
  {
   "cell_type": "code",
   "execution_count": 82,
   "id": "f63d248d",
   "metadata": {},
   "outputs": [
    {
     "data": {
      "text/html": [
       "<div>\n",
       "<style scoped>\n",
       "    .dataframe tbody tr th:only-of-type {\n",
       "        vertical-align: middle;\n",
       "    }\n",
       "\n",
       "    .dataframe tbody tr th {\n",
       "        vertical-align: top;\n",
       "    }\n",
       "\n",
       "    .dataframe thead tr th {\n",
       "        text-align: left;\n",
       "    }\n",
       "\n",
       "    .dataframe thead tr:last-of-type th {\n",
       "        text-align: right;\n",
       "    }\n",
       "</style>\n",
       "<table border=\"1\" class=\"dataframe\">\n",
       "  <thead>\n",
       "    <tr>\n",
       "      <th></th>\n",
       "      <th>count</th>\n",
       "      <th>sum</th>\n",
       "      <th>mean</th>\n",
       "    </tr>\n",
       "    <tr>\n",
       "      <th></th>\n",
       "      <th>debt</th>\n",
       "      <th>debt</th>\n",
       "      <th>debt</th>\n",
       "    </tr>\n",
       "    <tr>\n",
       "      <th>purpose_category</th>\n",
       "      <th></th>\n",
       "      <th></th>\n",
       "      <th></th>\n",
       "    </tr>\n",
       "  </thead>\n",
       "  <tbody>\n",
       "    <tr>\n",
       "      <th>операции с автомобилем</th>\n",
       "      <td>4284</td>\n",
       "      <td>400</td>\n",
       "      <td>0.093371</td>\n",
       "    </tr>\n",
       "    <tr>\n",
       "      <th>операции с недвижимостью</th>\n",
       "      <td>10763</td>\n",
       "      <td>779</td>\n",
       "      <td>0.072378</td>\n",
       "    </tr>\n",
       "    <tr>\n",
       "      <th>получение образования</th>\n",
       "      <td>3995</td>\n",
       "      <td>370</td>\n",
       "      <td>0.092616</td>\n",
       "    </tr>\n",
       "    <tr>\n",
       "      <th>проведение свадьбы</th>\n",
       "      <td>2310</td>\n",
       "      <td>184</td>\n",
       "      <td>0.079654</td>\n",
       "    </tr>\n",
       "  </tbody>\n",
       "</table>\n",
       "</div>"
      ],
      "text/plain": [
       "                          count  sum      mean\n",
       "                           debt debt      debt\n",
       "purpose_category                              \n",
       "операции с автомобилем     4284  400  0.093371\n",
       "операции с недвижимостью  10763  779  0.072378\n",
       "получение образования      3995  370  0.092616\n",
       "проведение свадьбы         2310  184  0.079654"
      ]
     },
     "execution_count": 82,
     "metadata": {},
     "output_type": "execute_result"
    }
   ],
   "source": [
    "pivot('purpose_category')"
   ]
  },
  {
   "cell_type": "markdown",
   "id": "7da7886d",
   "metadata": {},
   "source": [
    "##### Вывод 4:"
   ]
  },
  {
   "cell_type": "markdown",
   "id": "f59b35c5",
   "metadata": {},
   "source": [
    "Из сводной таблицы по значениям 'debt' у заемщиков с различной целью кредита прослеживается зависимость - примерно на 2 % больше невозвратов у заемщиков, берущих кредиты на получение образования и покупку автомобиля."
   ]
  },
  {
   "cell_type": "markdown",
   "id": "c655b2d8",
   "metadata": {},
   "source": [
    "## Общий вывод:"
   ]
  },
  {
   "cell_type": "markdown",
   "id": "f3f3782c",
   "metadata": {},
   "source": [
    "Предлагалось определить, влияет ли семейное положение и количество детей клиента на факт погашения кредита в срок.\n",
    "\n",
    "Есть влияние семейного пложения на факт погашения кредита. В целом среднее количество невозвратов примерно на 2 % выше у заемщиков со статусами 'гражданский брак' и 'не женат / не замужем'.\n",
    "\n",
    "Также выявлено, что бездетные заемщики в среднем реже не платят по кредиту, чем люди с 1 ребенком и более.\n",
    "\n",
    "Также выявлены дополнительные факторы, способные повлиять на факт возврата кредита: у людей, берущих кредиты на недвижимость или свадьбу - доля невозвратов в среднем ниже. Также доля невозвратов больше среди людей с низким доходом.\n",
    "\n",
    "Таким образом портрет \"идеального\" заемщика был бы следующий: женатый бездетный человек с доходом от 50 000 рублей с целью кредита - операции с недвижимостью или проведение свадьбы.\n",
    "\n"
   ]
  }
 ],
 "metadata": {
  "ExecuteTimeLog": [
   {
    "duration": 524,
    "start_time": "2022-05-07T16:00:22.938Z"
   },
   {
    "duration": 74,
    "start_time": "2022-05-07T16:00:57.227Z"
   },
   {
    "duration": 74,
    "start_time": "2022-05-07T16:01:49.708Z"
   },
   {
    "duration": 9,
    "start_time": "2022-05-07T16:25:25.446Z"
   },
   {
    "duration": 100,
    "start_time": "2022-05-07T16:26:04.615Z"
   },
   {
    "duration": 21,
    "start_time": "2022-05-07T16:26:50.742Z"
   },
   {
    "duration": 84,
    "start_time": "2022-05-07T16:29:24.793Z"
   },
   {
    "duration": 18,
    "start_time": "2022-05-07T16:29:24.879Z"
   },
   {
    "duration": 30,
    "start_time": "2022-05-07T16:30:38.258Z"
   },
   {
    "duration": 6,
    "start_time": "2022-05-07T16:33:40.658Z"
   },
   {
    "duration": 8,
    "start_time": "2022-05-07T16:34:40.346Z"
   },
   {
    "duration": 5,
    "start_time": "2022-05-07T16:35:29.748Z"
   },
   {
    "duration": 28,
    "start_time": "2022-05-07T16:35:49.178Z"
   },
   {
    "duration": 5,
    "start_time": "2022-05-07T16:36:16.332Z"
   },
   {
    "duration": 80,
    "start_time": "2022-05-07T16:48:05.920Z"
   },
   {
    "duration": 5,
    "start_time": "2022-05-07T16:48:12.743Z"
   },
   {
    "duration": 5,
    "start_time": "2022-05-07T16:54:26.015Z"
   },
   {
    "duration": 6,
    "start_time": "2022-05-07T16:54:43.820Z"
   },
   {
    "duration": 5,
    "start_time": "2022-05-07T16:54:49.200Z"
   },
   {
    "duration": 7,
    "start_time": "2022-05-07T16:55:23.896Z"
   },
   {
    "duration": 5,
    "start_time": "2022-05-07T16:55:39.067Z"
   },
   {
    "duration": 5,
    "start_time": "2022-05-07T16:55:49.066Z"
   },
   {
    "duration": 5,
    "start_time": "2022-05-07T16:57:19.850Z"
   },
   {
    "duration": 79,
    "start_time": "2022-05-07T16:57:28.282Z"
   },
   {
    "duration": 4,
    "start_time": "2022-05-07T16:57:28.363Z"
   },
   {
    "duration": 142,
    "start_time": "2022-05-07T16:57:41.152Z"
   },
   {
    "duration": 109,
    "start_time": "2022-05-07T16:57:57.865Z"
   },
   {
    "duration": 139,
    "start_time": "2022-05-07T16:57:57.976Z"
   },
   {
    "duration": 139,
    "start_time": "2022-05-07T16:58:46.759Z"
   },
   {
    "duration": 6,
    "start_time": "2022-05-07T16:58:53.961Z"
   },
   {
    "duration": 8,
    "start_time": "2022-05-07T16:59:01.485Z"
   },
   {
    "duration": 6,
    "start_time": "2022-05-07T16:59:12.308Z"
   },
   {
    "duration": 6,
    "start_time": "2022-05-07T16:59:48.884Z"
   },
   {
    "duration": 84,
    "start_time": "2022-05-07T17:00:15.190Z"
   },
   {
    "duration": 14,
    "start_time": "2022-05-07T17:00:55.475Z"
   },
   {
    "duration": 11,
    "start_time": "2022-05-07T17:01:22.289Z"
   },
   {
    "duration": 15,
    "start_time": "2022-05-07T17:04:18.069Z"
   },
   {
    "duration": 10,
    "start_time": "2022-05-07T17:04:31.240Z"
   },
   {
    "duration": 29,
    "start_time": "2022-05-07T17:04:48.254Z"
   },
   {
    "duration": 6,
    "start_time": "2022-05-07T17:06:00.447Z"
   },
   {
    "duration": 7,
    "start_time": "2022-05-07T17:06:32.762Z"
   },
   {
    "duration": 7,
    "start_time": "2022-05-07T17:07:22.819Z"
   },
   {
    "duration": 8,
    "start_time": "2022-05-07T17:07:37.218Z"
   },
   {
    "duration": 8,
    "start_time": "2022-05-07T17:08:57.121Z"
   },
   {
    "duration": 8,
    "start_time": "2022-05-07T17:09:55.683Z"
   },
   {
    "duration": 3,
    "start_time": "2022-05-07T17:11:38.683Z"
   },
   {
    "duration": 6,
    "start_time": "2022-05-07T17:28:21.214Z"
   },
   {
    "duration": 114,
    "start_time": "2022-05-07T17:28:26.450Z"
   },
   {
    "duration": 6,
    "start_time": "2022-05-07T17:28:26.569Z"
   },
   {
    "duration": 505,
    "start_time": "2022-05-09T03:56:19.460Z"
   },
   {
    "duration": 5,
    "start_time": "2022-05-09T03:56:32.170Z"
   },
   {
    "duration": 63,
    "start_time": "2022-05-09T04:36:46.163Z"
   },
   {
    "duration": 74,
    "start_time": "2022-05-09T04:37:00.163Z"
   },
   {
    "duration": 4,
    "start_time": "2022-05-09T04:37:00.239Z"
   },
   {
    "duration": 15,
    "start_time": "2022-05-09T04:37:00.245Z"
   },
   {
    "duration": 5,
    "start_time": "2022-05-09T04:37:15.483Z"
   },
   {
    "duration": 5,
    "start_time": "2022-05-09T04:37:23.299Z"
   },
   {
    "duration": 5,
    "start_time": "2022-05-09T04:37:32.998Z"
   },
   {
    "duration": 5,
    "start_time": "2022-05-09T04:37:45.906Z"
   },
   {
    "duration": 4,
    "start_time": "2022-05-09T04:37:56.899Z"
   },
   {
    "duration": 8,
    "start_time": "2022-05-09T04:39:59.473Z"
   },
   {
    "duration": 5,
    "start_time": "2022-05-09T05:00:25.638Z"
   },
   {
    "duration": 72,
    "start_time": "2022-05-09T05:03:44.597Z"
   },
   {
    "duration": 5,
    "start_time": "2022-05-09T05:03:50.714Z"
   },
   {
    "duration": 4,
    "start_time": "2022-05-09T05:03:54.813Z"
   },
   {
    "duration": 104,
    "start_time": "2022-05-09T05:04:50.953Z"
   },
   {
    "duration": 10,
    "start_time": "2022-05-09T05:05:26.505Z"
   },
   {
    "duration": 22,
    "start_time": "2022-05-09T05:05:50.110Z"
   },
   {
    "duration": 6,
    "start_time": "2022-05-09T05:06:38.369Z"
   },
   {
    "duration": 4,
    "start_time": "2022-05-09T05:16:46.014Z"
   },
   {
    "duration": 8,
    "start_time": "2022-05-09T05:19:24.338Z"
   },
   {
    "duration": 5,
    "start_time": "2022-05-09T05:20:43.902Z"
   },
   {
    "duration": 7,
    "start_time": "2022-05-09T05:21:45.732Z"
   },
   {
    "duration": 7,
    "start_time": "2022-05-09T05:21:59.004Z"
   },
   {
    "duration": 18,
    "start_time": "2022-05-09T05:23:38.190Z"
   },
   {
    "duration": 26,
    "start_time": "2022-05-09T05:24:37.375Z"
   },
   {
    "duration": 7,
    "start_time": "2022-05-09T05:28:15.386Z"
   },
   {
    "duration": 1565,
    "start_time": "2022-05-09T05:28:31.178Z"
   },
   {
    "duration": 71,
    "start_time": "2022-05-09T09:02:37.897Z"
   },
   {
    "duration": 584,
    "start_time": "2022-05-09T09:02:50.501Z"
   },
   {
    "duration": 8,
    "start_time": "2022-05-09T09:02:51.088Z"
   },
   {
    "duration": 39,
    "start_time": "2022-05-09T09:02:51.098Z"
   },
   {
    "duration": 45,
    "start_time": "2022-05-09T09:27:23.966Z"
   },
   {
    "duration": 154,
    "start_time": "2022-05-09T09:31:25.549Z"
   },
   {
    "duration": 84,
    "start_time": "2022-05-09T09:31:41.516Z"
   },
   {
    "duration": 147,
    "start_time": "2022-05-09T09:33:09.214Z"
   },
   {
    "duration": 96,
    "start_time": "2022-05-09T10:32:38.813Z"
   },
   {
    "duration": 8,
    "start_time": "2022-05-09T10:32:45.924Z"
   },
   {
    "duration": 147,
    "start_time": "2022-05-09T10:32:51.139Z"
   },
   {
    "duration": 105,
    "start_time": "2022-05-09T10:39:54.299Z"
   },
   {
    "duration": 105,
    "start_time": "2022-05-09T10:40:12.838Z"
   },
   {
    "duration": 111,
    "start_time": "2022-05-09T10:40:17.756Z"
   },
   {
    "duration": 112,
    "start_time": "2022-05-09T10:40:31.889Z"
   },
   {
    "duration": 40,
    "start_time": "2022-05-09T10:41:46.120Z"
   },
   {
    "duration": 13,
    "start_time": "2022-05-09T10:41:59.990Z"
   },
   {
    "duration": 5,
    "start_time": "2022-05-09T10:42:49.591Z"
   },
   {
    "duration": 43,
    "start_time": "2022-05-09T10:44:31.185Z"
   },
   {
    "duration": 13,
    "start_time": "2022-05-09T10:46:03.036Z"
   },
   {
    "duration": 22,
    "start_time": "2022-05-09T10:47:10.453Z"
   },
   {
    "duration": 883,
    "start_time": "2022-05-15T16:39:51.662Z"
   },
   {
    "duration": 10,
    "start_time": "2022-05-15T16:39:52.549Z"
   },
   {
    "duration": 31,
    "start_time": "2022-05-15T16:39:52.561Z"
   },
   {
    "duration": 42,
    "start_time": "2022-05-15T16:39:52.599Z"
   },
   {
    "duration": 108,
    "start_time": "2022-05-15T16:45:07.646Z"
   },
   {
    "duration": 10,
    "start_time": "2022-05-15T16:45:16.905Z"
   },
   {
    "duration": 52,
    "start_time": "2022-05-15T16:51:30.624Z"
   },
   {
    "duration": 7,
    "start_time": "2022-05-15T16:53:05.300Z"
   },
   {
    "duration": 6,
    "start_time": "2022-05-15T16:53:34.159Z"
   },
   {
    "duration": 8,
    "start_time": "2022-05-15T16:55:03.247Z"
   },
   {
    "duration": 42,
    "start_time": "2022-05-15T16:55:18.742Z"
   },
   {
    "duration": 117,
    "start_time": "2022-05-15T16:55:50.142Z"
   },
   {
    "duration": 6,
    "start_time": "2022-05-15T16:55:50.262Z"
   },
   {
    "duration": 72,
    "start_time": "2022-05-15T16:55:50.270Z"
   },
   {
    "duration": 12,
    "start_time": "2022-05-15T16:57:26.440Z"
   },
   {
    "duration": 5,
    "start_time": "2022-05-15T16:57:46.470Z"
   },
   {
    "duration": 8,
    "start_time": "2022-05-15T16:58:02.542Z"
   },
   {
    "duration": 36,
    "start_time": "2022-05-15T16:59:49.834Z"
   },
   {
    "duration": 41,
    "start_time": "2022-05-15T17:00:13.601Z"
   },
   {
    "duration": 49,
    "start_time": "2022-05-15T17:00:38.826Z"
   },
   {
    "duration": 7,
    "start_time": "2022-05-15T17:10:52.020Z"
   },
   {
    "duration": 20,
    "start_time": "2022-05-15T17:13:53.468Z"
   },
   {
    "duration": 18,
    "start_time": "2022-05-15T17:14:02.246Z"
   },
   {
    "duration": 107,
    "start_time": "2022-05-15T17:14:27.430Z"
   },
   {
    "duration": 12,
    "start_time": "2022-05-15T17:15:15.756Z"
   },
   {
    "duration": 76,
    "start_time": "2022-05-15T19:36:54.029Z"
   },
   {
    "duration": 544,
    "start_time": "2022-05-15T19:37:03.201Z"
   },
   {
    "duration": 43,
    "start_time": "2022-05-15T19:37:03.749Z"
   },
   {
    "duration": 24,
    "start_time": "2022-05-15T19:37:03.794Z"
   },
   {
    "duration": 5,
    "start_time": "2022-05-15T19:37:39.833Z"
   },
   {
    "duration": 53,
    "start_time": "2022-05-15T19:50:27.434Z"
   },
   {
    "duration": 20,
    "start_time": "2022-05-15T19:50:44.174Z"
   },
   {
    "duration": 14,
    "start_time": "2022-05-15T19:51:26.375Z"
   },
   {
    "duration": 8,
    "start_time": "2022-05-15T19:51:36.658Z"
   },
   {
    "duration": 22,
    "start_time": "2022-05-15T19:52:03.550Z"
   },
   {
    "duration": 11,
    "start_time": "2022-05-15T19:52:25.894Z"
   },
   {
    "duration": 14,
    "start_time": "2022-05-15T20:23:59.568Z"
   },
   {
    "duration": 110,
    "start_time": "2022-05-15T20:24:23.521Z"
   },
   {
    "duration": 44,
    "start_time": "2022-05-15T20:24:23.633Z"
   },
   {
    "duration": 11,
    "start_time": "2022-05-15T20:24:23.679Z"
   },
   {
    "duration": 88,
    "start_time": "2022-05-15T20:31:17.599Z"
   },
   {
    "duration": 31,
    "start_time": "2022-05-15T20:31:17.689Z"
   },
   {
    "duration": 33,
    "start_time": "2022-05-15T20:31:17.722Z"
   },
   {
    "duration": 22,
    "start_time": "2022-05-15T20:31:17.757Z"
   },
   {
    "duration": 14,
    "start_time": "2022-05-15T20:32:19.157Z"
   },
   {
    "duration": 14,
    "start_time": "2022-05-15T20:32:58.824Z"
   },
   {
    "duration": 95,
    "start_time": "2022-05-15T20:33:13.231Z"
   },
   {
    "duration": 45,
    "start_time": "2022-05-15T20:33:13.328Z"
   },
   {
    "duration": 11,
    "start_time": "2022-05-15T20:33:13.375Z"
   },
   {
    "duration": 25,
    "start_time": "2022-05-15T20:33:13.388Z"
   },
   {
    "duration": 20,
    "start_time": "2022-05-15T20:35:00.405Z"
   },
   {
    "duration": 171,
    "start_time": "2022-05-15T20:36:08.170Z"
   },
   {
    "duration": 164,
    "start_time": "2022-05-15T20:36:42.552Z"
   },
   {
    "duration": 168,
    "start_time": "2022-05-15T20:37:02.035Z"
   },
   {
    "duration": 96,
    "start_time": "2022-05-15T20:37:08.867Z"
   },
   {
    "duration": 40,
    "start_time": "2022-05-15T20:37:08.966Z"
   },
   {
    "duration": 10,
    "start_time": "2022-05-15T20:37:09.008Z"
   },
   {
    "duration": 169,
    "start_time": "2022-05-15T20:37:09.019Z"
   },
   {
    "duration": 15,
    "start_time": "2022-05-15T20:37:23.095Z"
   },
   {
    "duration": 152,
    "start_time": "2022-05-15T20:37:45.359Z"
   },
   {
    "duration": 188,
    "start_time": "2022-05-15T20:38:42.329Z"
   },
   {
    "duration": 27,
    "start_time": "2022-05-15T20:39:08.737Z"
   },
   {
    "duration": 24,
    "start_time": "2022-05-15T20:39:36.436Z"
   },
   {
    "duration": 20,
    "start_time": "2022-05-15T20:41:29.071Z"
   },
   {
    "duration": 9,
    "start_time": "2022-05-15T20:43:48.363Z"
   },
   {
    "duration": 18,
    "start_time": "2022-05-15T20:50:55.791Z"
   },
   {
    "duration": 28,
    "start_time": "2022-05-15T20:51:23.553Z"
   },
   {
    "duration": 23,
    "start_time": "2022-05-15T20:56:53.509Z"
   },
   {
    "duration": 16,
    "start_time": "2022-05-15T21:01:27.263Z"
   },
   {
    "duration": 585,
    "start_time": "2022-05-16T02:44:27.804Z"
   },
   {
    "duration": 47,
    "start_time": "2022-05-16T02:44:28.391Z"
   },
   {
    "duration": 16,
    "start_time": "2022-05-16T02:44:28.456Z"
   },
   {
    "duration": 136,
    "start_time": "2022-05-16T02:44:28.475Z"
   },
   {
    "duration": 26,
    "start_time": "2022-05-16T02:46:10.933Z"
   },
   {
    "duration": 39,
    "start_time": "2022-05-16T02:46:59.206Z"
   },
   {
    "duration": 93,
    "start_time": "2022-05-16T02:49:10.110Z"
   },
   {
    "duration": 58,
    "start_time": "2022-05-16T02:49:10.206Z"
   },
   {
    "duration": 6,
    "start_time": "2022-05-16T02:49:10.266Z"
   },
   {
    "duration": 13,
    "start_time": "2022-05-16T02:49:10.275Z"
   },
   {
    "duration": 20,
    "start_time": "2022-05-16T02:50:27.969Z"
   },
   {
    "duration": 18,
    "start_time": "2022-05-16T02:52:38.734Z"
   },
   {
    "duration": 16,
    "start_time": "2022-05-16T02:53:04.288Z"
   },
   {
    "duration": 23,
    "start_time": "2022-05-16T02:53:36.602Z"
   },
   {
    "duration": 19,
    "start_time": "2022-05-16T02:53:50.904Z"
   },
   {
    "duration": 94,
    "start_time": "2022-05-16T02:54:56.499Z"
   },
   {
    "duration": 62,
    "start_time": "2022-05-16T02:54:56.595Z"
   },
   {
    "duration": 6,
    "start_time": "2022-05-16T02:54:56.659Z"
   },
   {
    "duration": 15,
    "start_time": "2022-05-16T02:54:56.667Z"
   },
   {
    "duration": 93,
    "start_time": "2022-05-16T02:55:10.234Z"
   },
   {
    "duration": 51,
    "start_time": "2022-05-16T02:55:10.329Z"
   },
   {
    "duration": 6,
    "start_time": "2022-05-16T02:55:10.382Z"
   },
   {
    "duration": 17,
    "start_time": "2022-05-16T02:55:10.391Z"
   },
   {
    "duration": 47,
    "start_time": "2022-05-16T02:55:10.410Z"
   },
   {
    "duration": 11,
    "start_time": "2022-05-16T03:02:16.123Z"
   },
   {
    "duration": 13,
    "start_time": "2022-05-16T03:06:25.374Z"
   },
   {
    "duration": 15,
    "start_time": "2022-05-16T03:06:40.291Z"
   },
   {
    "duration": 20,
    "start_time": "2022-05-16T03:08:30.148Z"
   },
   {
    "duration": 12,
    "start_time": "2022-05-16T03:10:35.919Z"
   },
   {
    "duration": 14,
    "start_time": "2022-05-16T03:15:17.956Z"
   },
   {
    "duration": 23,
    "start_time": "2022-05-16T03:16:36.331Z"
   },
   {
    "duration": 99,
    "start_time": "2022-05-16T03:16:54.031Z"
   },
   {
    "duration": 57,
    "start_time": "2022-05-16T03:16:54.133Z"
   },
   {
    "duration": 6,
    "start_time": "2022-05-16T03:16:54.192Z"
   },
   {
    "duration": 11,
    "start_time": "2022-05-16T03:16:54.201Z"
   },
   {
    "duration": 48,
    "start_time": "2022-05-16T03:16:54.214Z"
   },
   {
    "duration": 22,
    "start_time": "2022-05-16T03:16:54.264Z"
   },
   {
    "duration": 10,
    "start_time": "2022-05-16T03:22:43.749Z"
   },
   {
    "duration": 13,
    "start_time": "2022-05-16T03:22:56.792Z"
   },
   {
    "duration": 11,
    "start_time": "2022-05-16T03:23:38.882Z"
   },
   {
    "duration": 18,
    "start_time": "2022-05-16T03:24:30.896Z"
   },
   {
    "duration": 12,
    "start_time": "2022-05-16T03:26:28.585Z"
   },
   {
    "duration": 12,
    "start_time": "2022-05-16T03:26:40.704Z"
   },
   {
    "duration": 22,
    "start_time": "2022-05-16T03:27:03.041Z"
   },
   {
    "duration": 97,
    "start_time": "2022-05-16T03:28:30.098Z"
   },
   {
    "duration": 60,
    "start_time": "2022-05-16T03:28:30.198Z"
   },
   {
    "duration": 6,
    "start_time": "2022-05-16T03:28:30.261Z"
   },
   {
    "duration": 28,
    "start_time": "2022-05-16T03:28:30.269Z"
   },
   {
    "duration": 12,
    "start_time": "2022-05-16T03:28:30.300Z"
   },
   {
    "duration": 53,
    "start_time": "2022-05-16T03:28:30.314Z"
   },
   {
    "duration": 95,
    "start_time": "2022-05-16T03:29:17.719Z"
   },
   {
    "duration": 57,
    "start_time": "2022-05-16T03:29:17.817Z"
   },
   {
    "duration": 7,
    "start_time": "2022-05-16T03:29:17.877Z"
   },
   {
    "duration": 14,
    "start_time": "2022-05-16T03:29:17.887Z"
   },
   {
    "duration": 53,
    "start_time": "2022-05-16T03:29:17.905Z"
   },
   {
    "duration": 23,
    "start_time": "2022-05-16T03:29:17.961Z"
   },
   {
    "duration": 11,
    "start_time": "2022-05-16T03:32:31.189Z"
   },
   {
    "duration": 96,
    "start_time": "2022-05-16T03:32:40.951Z"
   },
   {
    "duration": 46,
    "start_time": "2022-05-16T03:32:41.056Z"
   },
   {
    "duration": 6,
    "start_time": "2022-05-16T03:32:41.105Z"
   },
   {
    "duration": 44,
    "start_time": "2022-05-16T03:32:41.114Z"
   },
   {
    "duration": 11,
    "start_time": "2022-05-16T03:32:41.160Z"
   },
   {
    "duration": 8,
    "start_time": "2022-05-16T03:40:03.638Z"
   },
   {
    "duration": 41,
    "start_time": "2022-05-16T03:40:36.467Z"
   },
   {
    "duration": 19,
    "start_time": "2022-05-16T03:40:54.069Z"
   },
   {
    "duration": 21,
    "start_time": "2022-05-16T03:41:22.404Z"
   },
   {
    "duration": 12,
    "start_time": "2022-05-16T03:41:50.861Z"
   },
   {
    "duration": 7,
    "start_time": "2022-05-16T03:42:50.087Z"
   },
   {
    "duration": 27,
    "start_time": "2022-05-16T03:47:27.507Z"
   },
   {
    "duration": 26,
    "start_time": "2022-05-16T03:47:45.250Z"
   },
   {
    "duration": 24,
    "start_time": "2022-05-16T03:48:07.500Z"
   },
   {
    "duration": 27,
    "start_time": "2022-05-16T03:48:19.460Z"
   },
   {
    "duration": 55,
    "start_time": "2022-05-16T03:49:00.396Z"
   },
   {
    "duration": 98,
    "start_time": "2022-05-16T04:07:34.493Z"
   },
   {
    "duration": 46,
    "start_time": "2022-05-16T04:07:34.594Z"
   },
   {
    "duration": 18,
    "start_time": "2022-05-16T04:07:34.642Z"
   },
   {
    "duration": 17,
    "start_time": "2022-05-16T04:07:34.662Z"
   },
   {
    "duration": 12,
    "start_time": "2022-05-16T04:07:34.682Z"
   },
   {
    "duration": 21,
    "start_time": "2022-05-16T04:07:34.696Z"
   },
   {
    "duration": 8,
    "start_time": "2022-05-16T04:07:34.756Z"
   },
   {
    "duration": 39,
    "start_time": "2022-05-16T04:07:34.766Z"
   },
   {
    "duration": 33,
    "start_time": "2022-05-16T04:08:03.257Z"
   },
   {
    "duration": 162,
    "start_time": "2022-05-16T04:08:37.987Z"
   },
   {
    "duration": 126,
    "start_time": "2022-05-16T04:08:53.536Z"
   },
   {
    "duration": 18,
    "start_time": "2022-05-16T04:09:03.570Z"
   },
   {
    "duration": 9,
    "start_time": "2022-05-16T04:11:53.258Z"
   },
   {
    "duration": 27,
    "start_time": "2022-05-16T04:12:17.060Z"
   },
   {
    "duration": 27,
    "start_time": "2022-05-16T04:13:02.659Z"
   },
   {
    "duration": 11,
    "start_time": "2022-05-16T04:13:26.948Z"
   },
   {
    "duration": 27,
    "start_time": "2022-05-16T04:13:32.689Z"
   },
   {
    "duration": 52,
    "start_time": "2022-05-16T04:13:50.873Z"
   },
   {
    "duration": 45,
    "start_time": "2022-05-16T04:15:45.292Z"
   },
   {
    "duration": 632,
    "start_time": "2022-05-16T20:41:24.052Z"
   },
   {
    "duration": 61,
    "start_time": "2022-05-16T20:41:24.686Z"
   },
   {
    "duration": 8,
    "start_time": "2022-05-16T20:41:24.755Z"
   },
   {
    "duration": 14,
    "start_time": "2022-05-16T20:41:24.766Z"
   },
   {
    "duration": 17,
    "start_time": "2022-05-16T20:41:24.784Z"
   },
   {
    "duration": 58,
    "start_time": "2022-05-16T20:41:24.803Z"
   },
   {
    "duration": 8,
    "start_time": "2022-05-16T20:41:24.864Z"
   },
   {
    "duration": 35,
    "start_time": "2022-05-16T20:41:24.875Z"
   },
   {
    "duration": 72,
    "start_time": "2022-05-16T20:41:47.093Z"
   },
   {
    "duration": 42,
    "start_time": "2022-05-16T20:42:48.698Z"
   },
   {
    "duration": 69,
    "start_time": "2022-05-16T20:43:54.173Z"
   },
   {
    "duration": 52,
    "start_time": "2022-05-16T20:44:23.359Z"
   },
   {
    "duration": 111,
    "start_time": "2022-05-16T20:44:39.080Z"
   },
   {
    "duration": 52,
    "start_time": "2022-05-16T20:44:39.193Z"
   },
   {
    "duration": 7,
    "start_time": "2022-05-16T20:44:39.249Z"
   },
   {
    "duration": 12,
    "start_time": "2022-05-16T20:44:39.259Z"
   },
   {
    "duration": 17,
    "start_time": "2022-05-16T20:44:39.278Z"
   },
   {
    "duration": 58,
    "start_time": "2022-05-16T20:44:39.298Z"
   },
   {
    "duration": 10,
    "start_time": "2022-05-16T20:44:39.358Z"
   },
   {
    "duration": 50,
    "start_time": "2022-05-16T20:44:39.370Z"
   },
   {
    "duration": 109,
    "start_time": "2022-05-16T20:44:58.908Z"
   },
   {
    "duration": 66,
    "start_time": "2022-05-16T20:44:59.019Z"
   },
   {
    "duration": 7,
    "start_time": "2022-05-16T20:44:59.087Z"
   },
   {
    "duration": 17,
    "start_time": "2022-05-16T20:44:59.097Z"
   },
   {
    "duration": 41,
    "start_time": "2022-05-16T20:44:59.116Z"
   },
   {
    "duration": 32,
    "start_time": "2022-05-16T20:44:59.160Z"
   },
   {
    "duration": 7,
    "start_time": "2022-05-16T20:44:59.195Z"
   },
   {
    "duration": 85,
    "start_time": "2022-05-16T20:44:59.204Z"
   },
   {
    "duration": 81,
    "start_time": "2022-05-16T20:47:29.924Z"
   },
   {
    "duration": 120,
    "start_time": "2022-05-16T20:47:36.051Z"
   },
   {
    "duration": 46,
    "start_time": "2022-05-16T20:47:36.176Z"
   },
   {
    "duration": 24,
    "start_time": "2022-05-16T20:47:36.225Z"
   },
   {
    "duration": 18,
    "start_time": "2022-05-16T20:47:36.252Z"
   },
   {
    "duration": 17,
    "start_time": "2022-05-16T20:47:36.274Z"
   },
   {
    "duration": 65,
    "start_time": "2022-05-16T20:47:36.293Z"
   },
   {
    "duration": 8,
    "start_time": "2022-05-16T20:47:36.361Z"
   },
   {
    "duration": 132,
    "start_time": "2022-05-16T20:47:36.372Z"
   },
   {
    "duration": 84,
    "start_time": "2022-05-16T20:52:40.403Z"
   },
   {
    "duration": 77,
    "start_time": "2022-05-16T20:53:08.136Z"
   },
   {
    "duration": 457,
    "start_time": "2022-05-17T02:32:11.298Z"
   },
   {
    "duration": 30,
    "start_time": "2022-05-17T02:32:11.757Z"
   },
   {
    "duration": 4,
    "start_time": "2022-05-17T02:32:11.789Z"
   },
   {
    "duration": 25,
    "start_time": "2022-05-17T02:32:11.795Z"
   },
   {
    "duration": 11,
    "start_time": "2022-05-17T02:32:11.822Z"
   },
   {
    "duration": 29,
    "start_time": "2022-05-17T02:32:11.835Z"
   },
   {
    "duration": 5,
    "start_time": "2022-05-17T02:32:11.865Z"
   },
   {
    "duration": 45,
    "start_time": "2022-05-17T02:32:11.872Z"
   },
   {
    "duration": 7,
    "start_time": "2022-05-17T02:32:18.636Z"
   },
   {
    "duration": 60,
    "start_time": "2022-05-17T02:32:54.587Z"
   },
   {
    "duration": 7,
    "start_time": "2022-05-17T02:33:00.664Z"
   },
   {
    "duration": 6,
    "start_time": "2022-05-17T02:36:24.779Z"
   },
   {
    "duration": 4,
    "start_time": "2022-05-17T02:36:37.234Z"
   },
   {
    "duration": 6,
    "start_time": "2022-05-17T02:36:48.813Z"
   },
   {
    "duration": 7,
    "start_time": "2022-05-17T02:37:05.501Z"
   },
   {
    "duration": 73,
    "start_time": "2022-05-17T02:37:10.627Z"
   },
   {
    "duration": 28,
    "start_time": "2022-05-17T02:37:10.702Z"
   },
   {
    "duration": 4,
    "start_time": "2022-05-17T02:37:10.732Z"
   },
   {
    "duration": 24,
    "start_time": "2022-05-17T02:37:10.738Z"
   },
   {
    "duration": 15,
    "start_time": "2022-05-17T02:37:10.764Z"
   },
   {
    "duration": 24,
    "start_time": "2022-05-17T02:37:10.780Z"
   },
   {
    "duration": 15,
    "start_time": "2022-05-17T02:37:10.806Z"
   },
   {
    "duration": 49,
    "start_time": "2022-05-17T02:37:10.823Z"
   },
   {
    "duration": 6,
    "start_time": "2022-05-17T02:37:10.874Z"
   },
   {
    "duration": 5,
    "start_time": "2022-05-17T02:37:35.002Z"
   },
   {
    "duration": 4,
    "start_time": "2022-05-17T02:37:59.759Z"
   },
   {
    "duration": 5,
    "start_time": "2022-05-17T02:38:08.416Z"
   },
   {
    "duration": 8,
    "start_time": "2022-05-17T02:41:27.013Z"
   },
   {
    "duration": 16,
    "start_time": "2022-05-17T02:42:27.516Z"
   },
   {
    "duration": 69,
    "start_time": "2022-05-17T03:14:19.715Z"
   },
   {
    "duration": 29,
    "start_time": "2022-05-17T03:14:19.785Z"
   },
   {
    "duration": 4,
    "start_time": "2022-05-17T03:14:19.816Z"
   },
   {
    "duration": 12,
    "start_time": "2022-05-17T03:14:19.821Z"
   },
   {
    "duration": 28,
    "start_time": "2022-05-17T03:14:19.835Z"
   },
   {
    "duration": 15,
    "start_time": "2022-05-17T03:14:19.864Z"
   },
   {
    "duration": 4,
    "start_time": "2022-05-17T03:14:19.881Z"
   },
   {
    "duration": 41,
    "start_time": "2022-05-17T03:14:19.886Z"
   },
   {
    "duration": 41,
    "start_time": "2022-05-17T03:14:19.929Z"
   },
   {
    "duration": 11,
    "start_time": "2022-05-17T03:14:19.971Z"
   },
   {
    "duration": 10,
    "start_time": "2022-05-17T03:16:01.218Z"
   },
   {
    "duration": 21,
    "start_time": "2022-05-17T03:17:56.987Z"
   },
   {
    "duration": 29,
    "start_time": "2022-05-17T03:18:25.994Z"
   },
   {
    "duration": 72,
    "start_time": "2022-05-17T03:51:47.887Z"
   },
   {
    "duration": 29,
    "start_time": "2022-05-17T03:51:47.961Z"
   },
   {
    "duration": 4,
    "start_time": "2022-05-17T03:51:47.991Z"
   },
   {
    "duration": 8,
    "start_time": "2022-05-17T03:51:47.997Z"
   },
   {
    "duration": 7,
    "start_time": "2022-05-17T03:51:48.007Z"
   },
   {
    "duration": 14,
    "start_time": "2022-05-17T03:51:48.015Z"
   },
   {
    "duration": 34,
    "start_time": "2022-05-17T03:51:48.031Z"
   },
   {
    "duration": 45,
    "start_time": "2022-05-17T03:51:48.067Z"
   },
   {
    "duration": 17,
    "start_time": "2022-05-17T03:51:48.113Z"
   },
   {
    "duration": 46,
    "start_time": "2022-05-17T03:51:48.132Z"
   },
   {
    "duration": 14,
    "start_time": "2022-05-17T03:51:48.180Z"
   },
   {
    "duration": 18,
    "start_time": "2022-05-17T03:53:09.090Z"
   },
   {
    "duration": 19,
    "start_time": "2022-05-17T03:54:20.738Z"
   },
   {
    "duration": 28,
    "start_time": "2022-05-17T03:56:40.432Z"
   },
   {
    "duration": 41,
    "start_time": "2022-05-17T03:58:24.292Z"
   },
   {
    "duration": 75,
    "start_time": "2022-05-17T03:58:28.656Z"
   },
   {
    "duration": 34,
    "start_time": "2022-05-17T03:58:28.733Z"
   },
   {
    "duration": 4,
    "start_time": "2022-05-17T03:58:28.769Z"
   },
   {
    "duration": 10,
    "start_time": "2022-05-17T03:58:28.774Z"
   },
   {
    "duration": 7,
    "start_time": "2022-05-17T03:58:28.787Z"
   },
   {
    "duration": 14,
    "start_time": "2022-05-17T03:58:28.796Z"
   },
   {
    "duration": 4,
    "start_time": "2022-05-17T03:58:28.812Z"
   },
   {
    "duration": 80,
    "start_time": "2022-05-17T03:58:28.817Z"
   },
   {
    "duration": 17,
    "start_time": "2022-05-17T03:58:28.898Z"
   },
   {
    "duration": 46,
    "start_time": "2022-05-17T03:58:28.916Z"
   },
   {
    "duration": 41,
    "start_time": "2022-05-17T03:58:28.964Z"
   },
   {
    "duration": 70,
    "start_time": "2022-05-17T04:00:38.741Z"
   },
   {
    "duration": 29,
    "start_time": "2022-05-17T04:00:38.813Z"
   },
   {
    "duration": 20,
    "start_time": "2022-05-17T04:00:38.844Z"
   },
   {
    "duration": 8,
    "start_time": "2022-05-17T04:00:38.866Z"
   },
   {
    "duration": 7,
    "start_time": "2022-05-17T04:00:38.875Z"
   },
   {
    "duration": 13,
    "start_time": "2022-05-17T04:00:38.884Z"
   },
   {
    "duration": 4,
    "start_time": "2022-05-17T04:00:38.898Z"
   },
   {
    "duration": 72,
    "start_time": "2022-05-17T04:00:38.904Z"
   },
   {
    "duration": 16,
    "start_time": "2022-05-17T04:00:38.978Z"
   },
   {
    "duration": 29,
    "start_time": "2022-05-17T04:00:38.996Z"
   },
   {
    "duration": 45,
    "start_time": "2022-05-17T04:00:39.027Z"
   },
   {
    "duration": 940,
    "start_time": "2022-05-17T19:59:30.799Z"
   },
   {
    "duration": 33,
    "start_time": "2022-05-17T19:59:31.740Z"
   },
   {
    "duration": 5,
    "start_time": "2022-05-17T19:59:31.775Z"
   },
   {
    "duration": 18,
    "start_time": "2022-05-17T19:59:31.782Z"
   },
   {
    "duration": 26,
    "start_time": "2022-05-17T19:59:31.802Z"
   },
   {
    "duration": 18,
    "start_time": "2022-05-17T19:59:31.830Z"
   },
   {
    "duration": 8,
    "start_time": "2022-05-17T19:59:31.850Z"
   },
   {
    "duration": 67,
    "start_time": "2022-05-17T19:59:31.860Z"
   },
   {
    "duration": 18,
    "start_time": "2022-05-17T19:59:31.930Z"
   },
   {
    "duration": 44,
    "start_time": "2022-05-17T19:59:31.950Z"
   },
   {
    "duration": 44,
    "start_time": "2022-05-17T19:59:31.996Z"
   },
   {
    "duration": 3,
    "start_time": "2022-05-17T19:59:32.042Z"
   },
   {
    "duration": 4,
    "start_time": "2022-05-17T19:59:57.035Z"
   },
   {
    "duration": 6,
    "start_time": "2022-05-17T20:00:02.904Z"
   },
   {
    "duration": 4,
    "start_time": "2022-05-17T20:00:13.028Z"
   },
   {
    "duration": 4,
    "start_time": "2022-05-17T20:00:23.868Z"
   },
   {
    "duration": 69,
    "start_time": "2022-05-17T20:09:27.296Z"
   },
   {
    "duration": 9,
    "start_time": "2022-05-17T20:09:38.759Z"
   },
   {
    "duration": 84,
    "start_time": "2022-05-17T20:09:46.048Z"
   },
   {
    "duration": 39,
    "start_time": "2022-05-17T20:09:46.134Z"
   },
   {
    "duration": 7,
    "start_time": "2022-05-17T20:09:46.175Z"
   },
   {
    "duration": 37,
    "start_time": "2022-05-17T20:09:46.186Z"
   },
   {
    "duration": 25,
    "start_time": "2022-05-17T20:09:46.226Z"
   },
   {
    "duration": 22,
    "start_time": "2022-05-17T20:09:46.253Z"
   },
   {
    "duration": 20,
    "start_time": "2022-05-17T20:09:46.276Z"
   },
   {
    "duration": 56,
    "start_time": "2022-05-17T20:09:46.298Z"
   },
   {
    "duration": 22,
    "start_time": "2022-05-17T20:09:46.356Z"
   },
   {
    "duration": 53,
    "start_time": "2022-05-17T20:09:46.381Z"
   },
   {
    "duration": 39,
    "start_time": "2022-05-17T20:09:46.437Z"
   },
   {
    "duration": 12,
    "start_time": "2022-05-17T20:09:46.478Z"
   },
   {
    "duration": 15,
    "start_time": "2022-05-17T20:10:00.705Z"
   },
   {
    "duration": 3,
    "start_time": "2022-05-17T20:20:06.341Z"
   },
   {
    "duration": 5,
    "start_time": "2022-05-17T20:20:59.381Z"
   },
   {
    "duration": 19,
    "start_time": "2022-05-17T20:27:31.006Z"
   },
   {
    "duration": 17,
    "start_time": "2022-05-17T20:32:07.934Z"
   },
   {
    "duration": 16,
    "start_time": "2022-05-17T20:33:29.773Z"
   },
   {
    "duration": 18,
    "start_time": "2022-05-17T20:34:27.068Z"
   },
   {
    "duration": 10,
    "start_time": "2022-05-17T20:34:44.778Z"
   },
   {
    "duration": 5,
    "start_time": "2022-05-17T20:35:16.946Z"
   },
   {
    "duration": 5,
    "start_time": "2022-05-17T20:37:31.434Z"
   },
   {
    "duration": 512,
    "start_time": "2022-05-18T20:18:06.663Z"
   },
   {
    "duration": 33,
    "start_time": "2022-05-18T20:18:07.176Z"
   },
   {
    "duration": 4,
    "start_time": "2022-05-18T20:18:07.211Z"
   },
   {
    "duration": 8,
    "start_time": "2022-05-18T20:18:07.219Z"
   },
   {
    "duration": 39,
    "start_time": "2022-05-18T20:18:07.228Z"
   },
   {
    "duration": 22,
    "start_time": "2022-05-18T20:18:07.269Z"
   },
   {
    "duration": 4,
    "start_time": "2022-05-18T20:18:07.292Z"
   },
   {
    "duration": 50,
    "start_time": "2022-05-18T20:18:07.298Z"
   },
   {
    "duration": 19,
    "start_time": "2022-05-18T20:18:07.350Z"
   },
   {
    "duration": 24,
    "start_time": "2022-05-18T20:18:07.371Z"
   },
   {
    "duration": 28,
    "start_time": "2022-05-18T20:18:07.397Z"
   },
   {
    "duration": 40,
    "start_time": "2022-05-18T20:18:07.426Z"
   },
   {
    "duration": 13,
    "start_time": "2022-05-18T20:18:07.467Z"
   },
   {
    "duration": 5,
    "start_time": "2022-05-18T20:18:45.259Z"
   },
   {
    "duration": 4,
    "start_time": "2022-05-18T20:19:44.309Z"
   },
   {
    "duration": 16,
    "start_time": "2022-05-18T20:20:03.705Z"
   },
   {
    "duration": 21,
    "start_time": "2022-05-18T20:20:28.576Z"
   },
   {
    "duration": 24,
    "start_time": "2022-05-18T20:21:14.364Z"
   },
   {
    "duration": 17,
    "start_time": "2022-05-18T20:22:19.007Z"
   },
   {
    "duration": 74,
    "start_time": "2022-05-18T20:33:36.667Z"
   },
   {
    "duration": 34,
    "start_time": "2022-05-18T20:33:36.743Z"
   },
   {
    "duration": 4,
    "start_time": "2022-05-18T20:33:36.778Z"
   },
   {
    "duration": 12,
    "start_time": "2022-05-18T20:33:36.784Z"
   },
   {
    "duration": 8,
    "start_time": "2022-05-18T20:33:36.797Z"
   },
   {
    "duration": 14,
    "start_time": "2022-05-18T20:33:36.807Z"
   },
   {
    "duration": 4,
    "start_time": "2022-05-18T20:33:36.823Z"
   },
   {
    "duration": 41,
    "start_time": "2022-05-18T20:33:36.852Z"
   },
   {
    "duration": 15,
    "start_time": "2022-05-18T20:33:36.894Z"
   },
   {
    "duration": 46,
    "start_time": "2022-05-18T20:33:36.911Z"
   },
   {
    "duration": 28,
    "start_time": "2022-05-18T20:33:36.958Z"
   },
   {
    "duration": 16,
    "start_time": "2022-05-18T20:33:36.987Z"
   },
   {
    "duration": 21,
    "start_time": "2022-05-18T20:33:37.004Z"
   },
   {
    "duration": 71,
    "start_time": "2022-05-18T20:37:10.426Z"
   },
   {
    "duration": 34,
    "start_time": "2022-05-18T20:37:10.499Z"
   },
   {
    "duration": 4,
    "start_time": "2022-05-18T20:37:10.552Z"
   },
   {
    "duration": 11,
    "start_time": "2022-05-18T20:37:10.558Z"
   },
   {
    "duration": 11,
    "start_time": "2022-05-18T20:37:10.571Z"
   },
   {
    "duration": 15,
    "start_time": "2022-05-18T20:37:10.583Z"
   },
   {
    "duration": 5,
    "start_time": "2022-05-18T20:37:10.599Z"
   },
   {
    "duration": 66,
    "start_time": "2022-05-18T20:37:10.605Z"
   },
   {
    "duration": 14,
    "start_time": "2022-05-18T20:37:10.672Z"
   },
   {
    "duration": 33,
    "start_time": "2022-05-18T20:37:10.688Z"
   },
   {
    "duration": 53,
    "start_time": "2022-05-18T20:37:10.723Z"
   },
   {
    "duration": 23,
    "start_time": "2022-05-18T20:37:10.778Z"
   },
   {
    "duration": 17,
    "start_time": "2022-05-18T20:37:10.803Z"
   },
   {
    "duration": 71,
    "start_time": "2022-05-18T20:37:46.523Z"
   },
   {
    "duration": 32,
    "start_time": "2022-05-18T20:37:46.596Z"
   },
   {
    "duration": 3,
    "start_time": "2022-05-18T20:37:46.629Z"
   },
   {
    "duration": 23,
    "start_time": "2022-05-18T20:37:46.634Z"
   },
   {
    "duration": 9,
    "start_time": "2022-05-18T20:37:46.658Z"
   },
   {
    "duration": 15,
    "start_time": "2022-05-18T20:37:46.669Z"
   },
   {
    "duration": 4,
    "start_time": "2022-05-18T20:37:46.685Z"
   },
   {
    "duration": 68,
    "start_time": "2022-05-18T20:37:46.690Z"
   },
   {
    "duration": 15,
    "start_time": "2022-05-18T20:37:46.759Z"
   },
   {
    "duration": 28,
    "start_time": "2022-05-18T20:37:46.777Z"
   },
   {
    "duration": 54,
    "start_time": "2022-05-18T20:37:46.807Z"
   },
   {
    "duration": 16,
    "start_time": "2022-05-18T20:37:46.862Z"
   },
   {
    "duration": 23,
    "start_time": "2022-05-18T20:37:46.879Z"
   },
   {
    "duration": 79,
    "start_time": "2022-05-18T20:39:40.054Z"
   },
   {
    "duration": 51,
    "start_time": "2022-05-18T20:39:40.135Z"
   },
   {
    "duration": 5,
    "start_time": "2022-05-18T20:39:40.187Z"
   },
   {
    "duration": 10,
    "start_time": "2022-05-18T20:39:40.193Z"
   },
   {
    "duration": 9,
    "start_time": "2022-05-18T20:39:40.206Z"
   },
   {
    "duration": 47,
    "start_time": "2022-05-18T20:39:40.217Z"
   },
   {
    "duration": 7,
    "start_time": "2022-05-18T20:39:40.265Z"
   },
   {
    "duration": 57,
    "start_time": "2022-05-18T20:39:40.274Z"
   },
   {
    "duration": 27,
    "start_time": "2022-05-18T20:39:40.333Z"
   },
   {
    "duration": 32,
    "start_time": "2022-05-18T20:39:40.362Z"
   },
   {
    "duration": 32,
    "start_time": "2022-05-18T20:39:40.396Z"
   },
   {
    "duration": 37,
    "start_time": "2022-05-18T20:39:40.430Z"
   },
   {
    "duration": 17,
    "start_time": "2022-05-18T20:39:40.469Z"
   },
   {
    "duration": 32,
    "start_time": "2022-05-18T20:48:25.777Z"
   },
   {
    "duration": 74,
    "start_time": "2022-05-18T20:50:59.567Z"
   },
   {
    "duration": 38,
    "start_time": "2022-05-18T20:51:21.523Z"
   },
   {
    "duration": 28,
    "start_time": "2022-05-18T20:54:10.201Z"
   },
   {
    "duration": 14,
    "start_time": "2022-05-18T20:55:10.360Z"
   },
   {
    "duration": 16,
    "start_time": "2022-05-18T20:55:26.721Z"
   },
   {
    "duration": 13,
    "start_time": "2022-05-18T20:58:40.443Z"
   },
   {
    "duration": 15,
    "start_time": "2022-05-18T20:59:14.795Z"
   },
   {
    "duration": 52,
    "start_time": "2022-05-18T20:59:49.447Z"
   },
   {
    "duration": 19,
    "start_time": "2022-05-18T21:01:14.089Z"
   },
   {
    "duration": 23,
    "start_time": "2022-05-18T21:01:46.899Z"
   },
   {
    "duration": 13,
    "start_time": "2022-05-18T21:02:47.557Z"
   },
   {
    "duration": 15,
    "start_time": "2022-05-18T21:03:00.587Z"
   },
   {
    "duration": 16,
    "start_time": "2022-05-18T21:05:27.516Z"
   },
   {
    "duration": 16,
    "start_time": "2022-05-18T21:10:44.264Z"
   },
   {
    "duration": 15,
    "start_time": "2022-05-18T21:12:55.912Z"
   },
   {
    "duration": 16,
    "start_time": "2022-05-18T21:13:02.496Z"
   },
   {
    "duration": 19,
    "start_time": "2022-05-18T21:13:13.894Z"
   },
   {
    "duration": 832,
    "start_time": "2022-05-19T20:44:01.889Z"
   },
   {
    "duration": 38,
    "start_time": "2022-05-19T20:44:02.724Z"
   },
   {
    "duration": 5,
    "start_time": "2022-05-19T20:44:02.764Z"
   },
   {
    "duration": 16,
    "start_time": "2022-05-19T20:44:02.771Z"
   },
   {
    "duration": 17,
    "start_time": "2022-05-19T20:44:02.790Z"
   },
   {
    "duration": 35,
    "start_time": "2022-05-19T20:44:02.809Z"
   },
   {
    "duration": 5,
    "start_time": "2022-05-19T20:44:02.846Z"
   },
   {
    "duration": 49,
    "start_time": "2022-05-19T20:44:02.853Z"
   },
   {
    "duration": 36,
    "start_time": "2022-05-19T20:44:02.904Z"
   },
   {
    "duration": 49,
    "start_time": "2022-05-19T20:44:02.943Z"
   },
   {
    "duration": 61,
    "start_time": "2022-05-19T20:44:02.994Z"
   },
   {
    "duration": 22,
    "start_time": "2022-05-19T20:44:03.057Z"
   },
   {
    "duration": 50,
    "start_time": "2022-05-19T20:44:03.081Z"
   },
   {
    "duration": 20,
    "start_time": "2022-05-19T20:44:03.135Z"
   },
   {
    "duration": 24,
    "start_time": "2022-05-19T20:44:03.157Z"
   },
   {
    "duration": 48,
    "start_time": "2022-05-19T20:44:03.183Z"
   },
   {
    "duration": 22,
    "start_time": "2022-05-19T20:50:26.552Z"
   },
   {
    "duration": 81,
    "start_time": "2022-05-19T20:53:55.812Z"
   },
   {
    "duration": 63,
    "start_time": "2022-05-19T20:53:55.897Z"
   },
   {
    "duration": 5,
    "start_time": "2022-05-19T20:53:55.962Z"
   },
   {
    "duration": 12,
    "start_time": "2022-05-19T20:53:55.970Z"
   },
   {
    "duration": 13,
    "start_time": "2022-05-19T20:53:55.984Z"
   },
   {
    "duration": 44,
    "start_time": "2022-05-19T20:53:55.999Z"
   },
   {
    "duration": 6,
    "start_time": "2022-05-19T20:53:56.045Z"
   },
   {
    "duration": 91,
    "start_time": "2022-05-19T20:53:56.053Z"
   },
   {
    "duration": 29,
    "start_time": "2022-05-19T20:53:56.147Z"
   },
   {
    "duration": 87,
    "start_time": "2022-05-19T20:53:56.180Z"
   },
   {
    "duration": 67,
    "start_time": "2022-05-19T20:53:56.270Z"
   },
   {
    "duration": 40,
    "start_time": "2022-05-19T20:53:56.339Z"
   },
   {
    "duration": 55,
    "start_time": "2022-05-19T20:53:56.382Z"
   },
   {
    "duration": 25,
    "start_time": "2022-05-19T20:53:56.440Z"
   },
   {
    "duration": 38,
    "start_time": "2022-05-19T20:53:56.467Z"
   },
   {
    "duration": 36,
    "start_time": "2022-05-19T20:53:56.507Z"
   },
   {
    "duration": 46,
    "start_time": "2022-05-19T20:53:56.544Z"
   },
   {
    "duration": 711,
    "start_time": "2022-05-20T11:25:20.060Z"
   },
   {
    "duration": 35,
    "start_time": "2022-05-20T11:25:20.773Z"
   },
   {
    "duration": 4,
    "start_time": "2022-05-20T11:25:20.810Z"
   },
   {
    "duration": 13,
    "start_time": "2022-05-20T11:25:20.817Z"
   },
   {
    "duration": 9,
    "start_time": "2022-05-20T11:25:20.831Z"
   },
   {
    "duration": 6,
    "start_time": "2022-05-20T11:25:36.757Z"
   },
   {
    "duration": 123,
    "start_time": "2022-05-20T14:28:36.677Z"
   },
   {
    "duration": 37,
    "start_time": "2022-05-20T14:28:36.803Z"
   },
   {
    "duration": 6,
    "start_time": "2022-05-20T14:28:36.842Z"
   },
   {
    "duration": 42,
    "start_time": "2022-05-20T14:28:36.850Z"
   },
   {
    "duration": 13,
    "start_time": "2022-05-20T14:28:36.895Z"
   },
   {
    "duration": 24,
    "start_time": "2022-05-20T14:28:38.344Z"
   },
   {
    "duration": 21,
    "start_time": "2022-05-20T14:28:53.283Z"
   },
   {
    "duration": 21,
    "start_time": "2022-05-20T14:31:51.683Z"
   },
   {
    "duration": 87,
    "start_time": "2022-05-24T21:07:18.280Z"
   },
   {
    "duration": 40,
    "start_time": "2022-05-24T21:07:32.369Z"
   },
   {
    "duration": 781,
    "start_time": "2022-05-25T03:14:15.444Z"
   },
   {
    "duration": 43,
    "start_time": "2022-05-25T03:14:16.232Z"
   },
   {
    "duration": 6,
    "start_time": "2022-05-25T03:14:16.277Z"
   },
   {
    "duration": 15,
    "start_time": "2022-05-25T03:14:16.285Z"
   },
   {
    "duration": 36,
    "start_time": "2022-05-25T03:14:16.302Z"
   },
   {
    "duration": 39,
    "start_time": "2022-05-25T03:14:16.339Z"
   },
   {
    "duration": 99,
    "start_time": "2022-05-25T03:14:16.380Z"
   },
   {
    "duration": 0,
    "start_time": "2022-05-25T03:14:16.481Z"
   },
   {
    "duration": 0,
    "start_time": "2022-05-25T03:14:16.484Z"
   },
   {
    "duration": 0,
    "start_time": "2022-05-25T03:14:16.485Z"
   },
   {
    "duration": 0,
    "start_time": "2022-05-25T03:14:16.486Z"
   },
   {
    "duration": 0,
    "start_time": "2022-05-25T03:14:16.488Z"
   },
   {
    "duration": 0,
    "start_time": "2022-05-25T03:14:16.489Z"
   },
   {
    "duration": 0,
    "start_time": "2022-05-25T03:14:16.490Z"
   },
   {
    "duration": 0,
    "start_time": "2022-05-25T03:14:16.491Z"
   },
   {
    "duration": 0,
    "start_time": "2022-05-25T03:14:16.494Z"
   },
   {
    "duration": 0,
    "start_time": "2022-05-25T03:14:16.495Z"
   },
   {
    "duration": 50,
    "start_time": "2022-05-25T03:16:09.519Z"
   },
   {
    "duration": 43,
    "start_time": "2022-05-25T03:16:29.512Z"
   },
   {
    "duration": 92,
    "start_time": "2022-05-25T03:17:59.790Z"
   },
   {
    "duration": 36,
    "start_time": "2022-05-25T03:17:59.884Z"
   },
   {
    "duration": 68,
    "start_time": "2022-05-25T03:18:41.228Z"
   },
   {
    "duration": 89,
    "start_time": "2022-05-25T03:19:15.341Z"
   },
   {
    "duration": 62,
    "start_time": "2022-05-25T03:19:15.437Z"
   },
   {
    "duration": 80,
    "start_time": "2022-05-25T03:19:56.605Z"
   },
   {
    "duration": 99,
    "start_time": "2022-05-25T03:25:01.877Z"
   },
   {
    "duration": 100,
    "start_time": "2022-05-25T03:25:01.978Z"
   },
   {
    "duration": 87,
    "start_time": "2022-05-25T03:25:44.416Z"
   },
   {
    "duration": 87,
    "start_time": "2022-05-25T03:25:44.505Z"
   },
   {
    "duration": 88,
    "start_time": "2022-05-25T03:27:19.989Z"
   },
   {
    "duration": 90,
    "start_time": "2022-05-25T03:27:29.423Z"
   },
   {
    "duration": 41,
    "start_time": "2022-05-25T03:27:32.007Z"
   },
   {
    "duration": 92,
    "start_time": "2022-05-25T03:30:16.757Z"
   },
   {
    "duration": 38,
    "start_time": "2022-05-25T03:30:16.852Z"
   },
   {
    "duration": 7,
    "start_time": "2022-05-25T03:37:17.593Z"
   },
   {
    "duration": 6,
    "start_time": "2022-05-25T03:43:41.445Z"
   },
   {
    "duration": 8,
    "start_time": "2022-05-25T03:44:08.886Z"
   },
   {
    "duration": 7,
    "start_time": "2022-05-25T03:45:02.766Z"
   },
   {
    "duration": 107,
    "start_time": "2022-05-25T04:13:29.465Z"
   },
   {
    "duration": 64,
    "start_time": "2022-05-25T04:13:29.577Z"
   },
   {
    "duration": 8,
    "start_time": "2022-05-25T04:13:29.646Z"
   },
   {
    "duration": 21,
    "start_time": "2022-05-25T04:13:29.656Z"
   },
   {
    "duration": 11,
    "start_time": "2022-05-25T04:13:29.678Z"
   },
   {
    "duration": 21,
    "start_time": "2022-05-25T04:13:29.691Z"
   },
   {
    "duration": 3,
    "start_time": "2022-05-25T04:13:29.713Z"
   },
   {
    "duration": 25,
    "start_time": "2022-05-25T04:13:29.717Z"
   },
   {
    "duration": 62,
    "start_time": "2022-05-25T04:13:29.744Z"
   },
   {
    "duration": 18,
    "start_time": "2022-05-25T04:13:29.809Z"
   },
   {
    "duration": 64,
    "start_time": "2022-05-25T04:13:29.828Z"
   },
   {
    "duration": 47,
    "start_time": "2022-05-25T04:13:29.894Z"
   },
   {
    "duration": 22,
    "start_time": "2022-05-25T04:13:29.946Z"
   },
   {
    "duration": 19,
    "start_time": "2022-05-25T04:13:29.970Z"
   },
   {
    "duration": 26,
    "start_time": "2022-05-25T04:13:29.992Z"
   },
   {
    "duration": 32,
    "start_time": "2022-05-25T04:13:30.020Z"
   },
   {
    "duration": 52,
    "start_time": "2022-05-25T04:13:30.053Z"
   },
   {
    "duration": 18,
    "start_time": "2022-05-25T04:13:30.107Z"
   },
   {
    "duration": 19,
    "start_time": "2022-05-25T04:15:11.680Z"
   },
   {
    "duration": 40,
    "start_time": "2022-05-25T04:15:57.683Z"
   },
   {
    "duration": 101,
    "start_time": "2022-05-25T04:16:09.515Z"
   },
   {
    "duration": 41,
    "start_time": "2022-05-25T04:16:09.617Z"
   },
   {
    "duration": 5,
    "start_time": "2022-05-25T04:16:09.660Z"
   },
   {
    "duration": 11,
    "start_time": "2022-05-25T04:16:09.668Z"
   },
   {
    "duration": 10,
    "start_time": "2022-05-25T04:16:09.681Z"
   },
   {
    "duration": 49,
    "start_time": "2022-05-25T04:16:09.693Z"
   },
   {
    "duration": 3,
    "start_time": "2022-05-25T04:16:09.747Z"
   },
   {
    "duration": 15,
    "start_time": "2022-05-25T04:16:09.751Z"
   },
   {
    "duration": 48,
    "start_time": "2022-05-25T04:16:09.768Z"
   },
   {
    "duration": 58,
    "start_time": "2022-05-25T04:16:09.818Z"
   },
   {
    "duration": 30,
    "start_time": "2022-05-25T04:16:09.879Z"
   },
   {
    "duration": 61,
    "start_time": "2022-05-25T04:16:09.910Z"
   },
   {
    "duration": 1075,
    "start_time": "2022-05-25T19:04:12.737Z"
   },
   {
    "duration": 41,
    "start_time": "2022-05-25T19:04:13.814Z"
   },
   {
    "duration": 3,
    "start_time": "2022-05-25T19:04:13.857Z"
   },
   {
    "duration": 9,
    "start_time": "2022-05-25T19:04:13.862Z"
   },
   {
    "duration": 8,
    "start_time": "2022-05-25T19:04:13.872Z"
   },
   {
    "duration": 17,
    "start_time": "2022-05-25T19:04:13.882Z"
   },
   {
    "duration": 24,
    "start_time": "2022-05-25T19:04:13.900Z"
   },
   {
    "duration": 2,
    "start_time": "2022-05-25T19:04:17.159Z"
   },
   {
    "duration": 6,
    "start_time": "2022-05-25T19:04:19.606Z"
   },
   {
    "duration": 13,
    "start_time": "2022-05-25T19:06:49.122Z"
   },
   {
    "duration": 73,
    "start_time": "2022-05-25T19:08:59.839Z"
   },
   {
    "duration": 12,
    "start_time": "2022-05-25T19:09:10.558Z"
   },
   {
    "duration": 11,
    "start_time": "2022-05-25T19:13:01.603Z"
   },
   {
    "duration": 8,
    "start_time": "2022-05-25T19:13:21.157Z"
   },
   {
    "duration": 10,
    "start_time": "2022-05-25T19:13:26.555Z"
   },
   {
    "duration": 9,
    "start_time": "2022-05-25T19:13:54.235Z"
   },
   {
    "duration": 9,
    "start_time": "2022-05-25T19:14:07.762Z"
   },
   {
    "duration": 10,
    "start_time": "2022-05-25T19:14:15.936Z"
   },
   {
    "duration": 6,
    "start_time": "2022-05-25T19:15:18.897Z"
   },
   {
    "duration": 7,
    "start_time": "2022-05-25T19:16:00.055Z"
   },
   {
    "duration": 14,
    "start_time": "2022-05-25T19:27:58.356Z"
   },
   {
    "duration": 23,
    "start_time": "2022-05-25T19:38:13.097Z"
   },
   {
    "duration": 15,
    "start_time": "2022-05-25T19:40:28.243Z"
   },
   {
    "duration": 6,
    "start_time": "2022-05-25T19:42:02.184Z"
   },
   {
    "duration": 12,
    "start_time": "2022-05-25T19:42:39.409Z"
   },
   {
    "duration": 5,
    "start_time": "2022-05-25T19:42:59.738Z"
   },
   {
    "duration": 7,
    "start_time": "2022-05-25T19:48:45.666Z"
   },
   {
    "duration": 9,
    "start_time": "2022-05-25T19:49:49.249Z"
   },
   {
    "duration": 12,
    "start_time": "2022-05-25T19:50:01.941Z"
   },
   {
    "duration": 12,
    "start_time": "2022-05-25T19:50:38.177Z"
   },
   {
    "duration": 8,
    "start_time": "2022-05-25T19:50:54.151Z"
   },
   {
    "duration": 9,
    "start_time": "2022-05-25T19:51:12.267Z"
   },
   {
    "duration": 9,
    "start_time": "2022-05-25T19:51:51.940Z"
   },
   {
    "duration": 332,
    "start_time": "2022-05-25T19:52:08.155Z"
   },
   {
    "duration": 37,
    "start_time": "2022-05-25T19:52:08.489Z"
   },
   {
    "duration": 6,
    "start_time": "2022-05-25T19:52:08.529Z"
   },
   {
    "duration": 19,
    "start_time": "2022-05-25T19:52:08.538Z"
   },
   {
    "duration": 10,
    "start_time": "2022-05-25T19:52:08.558Z"
   },
   {
    "duration": 18,
    "start_time": "2022-05-25T19:52:08.569Z"
   },
   {
    "duration": 2,
    "start_time": "2022-05-25T19:52:08.589Z"
   },
   {
    "duration": 41,
    "start_time": "2022-05-25T19:52:08.593Z"
   },
   {
    "duration": 6,
    "start_time": "2022-05-25T19:53:12.013Z"
   },
   {
    "duration": 6,
    "start_time": "2022-05-25T19:54:28.776Z"
   },
   {
    "duration": 5,
    "start_time": "2022-05-25T19:55:14.600Z"
   },
   {
    "duration": 7,
    "start_time": "2022-05-25T19:57:28.343Z"
   },
   {
    "duration": 9,
    "start_time": "2022-05-25T19:58:49.572Z"
   },
   {
    "duration": 8,
    "start_time": "2022-05-25T19:59:50.909Z"
   },
   {
    "duration": 9,
    "start_time": "2022-05-25T20:00:22.036Z"
   },
   {
    "duration": 9,
    "start_time": "2022-05-25T20:00:49.041Z"
   },
   {
    "duration": 519,
    "start_time": "2022-05-25T20:23:08.989Z"
   },
   {
    "duration": 129,
    "start_time": "2022-05-25T20:23:17.618Z"
   },
   {
    "duration": 37,
    "start_time": "2022-05-25T20:23:17.749Z"
   },
   {
    "duration": 4,
    "start_time": "2022-05-25T20:23:17.788Z"
   },
   {
    "duration": 34,
    "start_time": "2022-05-25T20:23:17.794Z"
   },
   {
    "duration": 13,
    "start_time": "2022-05-25T20:23:17.830Z"
   },
   {
    "duration": 20,
    "start_time": "2022-05-25T20:23:17.844Z"
   },
   {
    "duration": 11,
    "start_time": "2022-05-25T20:23:17.866Z"
   },
   {
    "duration": 8,
    "start_time": "2022-05-25T20:23:17.879Z"
   },
   {
    "duration": 554,
    "start_time": "2022-05-25T20:23:17.923Z"
   },
   {
    "duration": 0,
    "start_time": "2022-05-25T20:23:18.479Z"
   },
   {
    "duration": 437,
    "start_time": "2022-05-25T20:23:24.139Z"
   },
   {
    "duration": 349,
    "start_time": "2022-05-25T20:24:09.388Z"
   },
   {
    "duration": 323,
    "start_time": "2022-05-25T20:24:27.547Z"
   },
   {
    "duration": 398,
    "start_time": "2022-05-25T20:25:42.044Z"
   },
   {
    "duration": 465,
    "start_time": "2022-05-25T20:25:55.271Z"
   },
   {
    "duration": 7,
    "start_time": "2022-05-25T20:26:05.327Z"
   },
   {
    "duration": 5,
    "start_time": "2022-05-25T20:26:29.684Z"
   },
   {
    "duration": 42,
    "start_time": "2022-05-25T20:26:58.371Z"
   },
   {
    "duration": 65,
    "start_time": "2022-05-25T20:27:21.655Z"
   },
   {
    "duration": 5,
    "start_time": "2022-05-25T20:27:33.317Z"
   },
   {
    "duration": 98,
    "start_time": "2022-05-25T20:28:48.182Z"
   },
   {
    "duration": 47,
    "start_time": "2022-05-25T20:28:48.282Z"
   },
   {
    "duration": 6,
    "start_time": "2022-05-25T20:28:48.331Z"
   },
   {
    "duration": 8,
    "start_time": "2022-05-25T20:28:48.340Z"
   },
   {
    "duration": 8,
    "start_time": "2022-05-25T20:28:48.350Z"
   },
   {
    "duration": 14,
    "start_time": "2022-05-25T20:28:48.360Z"
   },
   {
    "duration": 8,
    "start_time": "2022-05-25T20:28:48.376Z"
   },
   {
    "duration": 45,
    "start_time": "2022-05-25T20:28:48.385Z"
   },
   {
    "duration": 15,
    "start_time": "2022-05-25T20:28:48.432Z"
   },
   {
    "duration": 6,
    "start_time": "2022-05-25T20:28:48.449Z"
   },
   {
    "duration": 43,
    "start_time": "2022-05-25T20:28:48.457Z"
   },
   {
    "duration": 30,
    "start_time": "2022-05-25T20:28:48.502Z"
   },
   {
    "duration": 33,
    "start_time": "2022-05-25T20:28:48.534Z"
   },
   {
    "duration": 58,
    "start_time": "2022-05-25T20:28:48.568Z"
   },
   {
    "duration": 30,
    "start_time": "2022-05-25T20:28:48.629Z"
   },
   {
    "duration": 14,
    "start_time": "2022-05-25T20:28:48.660Z"
   },
   {
    "duration": 17,
    "start_time": "2022-05-25T20:28:48.676Z"
   },
   {
    "duration": 48,
    "start_time": "2022-05-25T20:28:48.695Z"
   },
   {
    "duration": 18,
    "start_time": "2022-05-25T20:28:48.745Z"
   },
   {
    "duration": 15,
    "start_time": "2022-05-25T20:28:48.765Z"
   },
   {
    "duration": 15,
    "start_time": "2022-05-25T20:28:48.781Z"
   },
   {
    "duration": 396,
    "start_time": "2022-05-25T20:57:47.987Z"
   },
   {
    "duration": 88,
    "start_time": "2022-05-25T20:57:59.340Z"
   },
   {
    "duration": 37,
    "start_time": "2022-05-25T20:57:59.430Z"
   },
   {
    "duration": 4,
    "start_time": "2022-05-25T20:57:59.468Z"
   },
   {
    "duration": 10,
    "start_time": "2022-05-25T20:57:59.474Z"
   },
   {
    "duration": 11,
    "start_time": "2022-05-25T20:57:59.485Z"
   },
   {
    "duration": 34,
    "start_time": "2022-05-25T20:57:59.498Z"
   },
   {
    "duration": 8,
    "start_time": "2022-05-25T20:57:59.534Z"
   },
   {
    "duration": 11,
    "start_time": "2022-05-25T20:57:59.543Z"
   },
   {
    "duration": 377,
    "start_time": "2022-05-25T20:57:59.555Z"
   },
   {
    "duration": 0,
    "start_time": "2022-05-25T20:57:59.933Z"
   },
   {
    "duration": 0,
    "start_time": "2022-05-25T20:57:59.934Z"
   },
   {
    "duration": 0,
    "start_time": "2022-05-25T20:57:59.935Z"
   },
   {
    "duration": 0,
    "start_time": "2022-05-25T20:57:59.936Z"
   },
   {
    "duration": 0,
    "start_time": "2022-05-25T20:57:59.937Z"
   },
   {
    "duration": 0,
    "start_time": "2022-05-25T20:57:59.939Z"
   },
   {
    "duration": 0,
    "start_time": "2022-05-25T20:57:59.940Z"
   },
   {
    "duration": 0,
    "start_time": "2022-05-25T20:57:59.941Z"
   },
   {
    "duration": 0,
    "start_time": "2022-05-25T20:57:59.942Z"
   },
   {
    "duration": 0,
    "start_time": "2022-05-25T20:57:59.943Z"
   },
   {
    "duration": 0,
    "start_time": "2022-05-25T20:57:59.944Z"
   },
   {
    "duration": 0,
    "start_time": "2022-05-25T20:57:59.945Z"
   },
   {
    "duration": 19,
    "start_time": "2022-05-25T20:59:41.013Z"
   },
   {
    "duration": 85,
    "start_time": "2022-05-25T20:59:46.784Z"
   },
   {
    "duration": 34,
    "start_time": "2022-05-25T20:59:46.871Z"
   },
   {
    "duration": 4,
    "start_time": "2022-05-25T20:59:46.924Z"
   },
   {
    "duration": 16,
    "start_time": "2022-05-25T20:59:46.930Z"
   },
   {
    "duration": 11,
    "start_time": "2022-05-25T20:59:46.948Z"
   },
   {
    "duration": 16,
    "start_time": "2022-05-25T20:59:46.960Z"
   },
   {
    "duration": 7,
    "start_time": "2022-05-25T20:59:46.977Z"
   },
   {
    "duration": 12,
    "start_time": "2022-05-25T20:59:46.986Z"
   },
   {
    "duration": 24,
    "start_time": "2022-05-25T20:59:47.000Z"
   },
   {
    "duration": 39,
    "start_time": "2022-05-25T20:59:47.025Z"
   },
   {
    "duration": 17,
    "start_time": "2022-05-25T20:59:47.065Z"
   },
   {
    "duration": 53,
    "start_time": "2022-05-25T20:59:47.083Z"
   },
   {
    "duration": 46,
    "start_time": "2022-05-25T20:59:47.138Z"
   },
   {
    "duration": 53,
    "start_time": "2022-05-25T20:59:47.188Z"
   },
   {
    "duration": 16,
    "start_time": "2022-05-25T20:59:47.243Z"
   },
   {
    "duration": 17,
    "start_time": "2022-05-25T20:59:47.260Z"
   },
   {
    "duration": 18,
    "start_time": "2022-05-25T20:59:47.278Z"
   },
   {
    "duration": 44,
    "start_time": "2022-05-25T20:59:47.297Z"
   },
   {
    "duration": 15,
    "start_time": "2022-05-25T20:59:47.342Z"
   },
   {
    "duration": 15,
    "start_time": "2022-05-25T20:59:47.359Z"
   },
   {
    "duration": 10,
    "start_time": "2022-05-25T21:03:55.805Z"
   },
   {
    "duration": 92,
    "start_time": "2022-05-25T21:08:16.059Z"
   },
   {
    "duration": 44,
    "start_time": "2022-05-25T21:08:16.153Z"
   },
   {
    "duration": 4,
    "start_time": "2022-05-25T21:08:16.199Z"
   },
   {
    "duration": 8,
    "start_time": "2022-05-25T21:08:16.222Z"
   },
   {
    "duration": 14,
    "start_time": "2022-05-25T21:08:16.232Z"
   },
   {
    "duration": 16,
    "start_time": "2022-05-25T21:08:16.247Z"
   },
   {
    "duration": 8,
    "start_time": "2022-05-25T21:08:16.265Z"
   },
   {
    "duration": 7,
    "start_time": "2022-05-25T21:08:16.275Z"
   },
   {
    "duration": 40,
    "start_time": "2022-05-25T21:08:16.283Z"
   },
   {
    "duration": 41,
    "start_time": "2022-05-25T21:08:16.325Z"
   },
   {
    "duration": 16,
    "start_time": "2022-05-25T21:08:16.368Z"
   },
   {
    "duration": 12,
    "start_time": "2022-05-25T21:08:16.386Z"
   },
   {
    "duration": 52,
    "start_time": "2022-05-25T21:08:16.399Z"
   },
   {
    "duration": 46,
    "start_time": "2022-05-25T21:08:16.453Z"
   },
   {
    "duration": 49,
    "start_time": "2022-05-25T21:08:16.501Z"
   },
   {
    "duration": 16,
    "start_time": "2022-05-25T21:08:16.552Z"
   },
   {
    "duration": 73,
    "start_time": "2022-05-25T21:08:16.569Z"
   },
   {
    "duration": 23,
    "start_time": "2022-05-25T21:08:16.644Z"
   },
   {
    "duration": 17,
    "start_time": "2022-05-25T21:08:16.668Z"
   },
   {
    "duration": 15,
    "start_time": "2022-05-25T21:08:16.686Z"
   },
   {
    "duration": 16,
    "start_time": "2022-05-25T21:08:16.723Z"
   },
   {
    "duration": 16,
    "start_time": "2022-05-25T21:09:37.785Z"
   },
   {
    "duration": 1712,
    "start_time": "2022-05-26T02:34:50.793Z"
   },
   {
    "duration": 37,
    "start_time": "2022-05-26T02:34:52.507Z"
   },
   {
    "duration": 5,
    "start_time": "2022-05-26T02:34:52.546Z"
   },
   {
    "duration": 33,
    "start_time": "2022-05-26T02:34:52.557Z"
   },
   {
    "duration": 16,
    "start_time": "2022-05-26T02:34:52.591Z"
   },
   {
    "duration": 24,
    "start_time": "2022-05-26T02:34:52.609Z"
   },
   {
    "duration": 10,
    "start_time": "2022-05-26T02:34:52.635Z"
   },
   {
    "duration": 55,
    "start_time": "2022-05-26T02:34:52.646Z"
   },
   {
    "duration": 5,
    "start_time": "2022-05-26T02:34:52.703Z"
   },
   {
    "duration": 47,
    "start_time": "2022-05-26T02:34:52.711Z"
   },
   {
    "duration": 23,
    "start_time": "2022-05-26T02:34:52.764Z"
   },
   {
    "duration": 10,
    "start_time": "2022-05-26T02:34:52.789Z"
   },
   {
    "duration": 28,
    "start_time": "2022-05-26T02:34:52.801Z"
   },
   {
    "duration": 71,
    "start_time": "2022-05-26T02:34:52.831Z"
   },
   {
    "duration": 31,
    "start_time": "2022-05-26T02:34:52.904Z"
   },
   {
    "duration": 43,
    "start_time": "2022-05-26T02:34:52.937Z"
   },
   {
    "duration": 21,
    "start_time": "2022-05-26T02:34:52.982Z"
   },
   {
    "duration": 24,
    "start_time": "2022-05-26T02:34:57.101Z"
   },
   {
    "duration": 83,
    "start_time": "2022-05-26T02:37:05.776Z"
   },
   {
    "duration": 29,
    "start_time": "2022-05-26T02:38:35.749Z"
   },
   {
    "duration": 24,
    "start_time": "2022-05-26T02:38:58.620Z"
   },
   {
    "duration": 27,
    "start_time": "2022-05-26T02:40:04.073Z"
   },
   {
    "duration": 32,
    "start_time": "2022-05-26T02:43:42.814Z"
   },
   {
    "duration": 26,
    "start_time": "2022-05-26T02:57:31.597Z"
   },
   {
    "duration": 10,
    "start_time": "2022-05-26T02:59:36.525Z"
   },
   {
    "duration": 19,
    "start_time": "2022-05-26T02:59:50.631Z"
   },
   {
    "duration": 20,
    "start_time": "2022-05-26T03:00:26.516Z"
   },
   {
    "duration": 25,
    "start_time": "2022-05-26T03:03:53.279Z"
   },
   {
    "duration": 10,
    "start_time": "2022-05-26T03:18:21.828Z"
   },
   {
    "duration": 30,
    "start_time": "2022-05-26T03:19:36.440Z"
   },
   {
    "duration": 27,
    "start_time": "2022-05-26T03:20:06.363Z"
   },
   {
    "duration": 25,
    "start_time": "2022-05-26T03:20:39.093Z"
   },
   {
    "duration": 24,
    "start_time": "2022-05-26T03:22:19.187Z"
   },
   {
    "duration": 40,
    "start_time": "2022-05-26T03:22:27.052Z"
   },
   {
    "duration": 34,
    "start_time": "2022-05-26T03:26:16.229Z"
   },
   {
    "duration": 25,
    "start_time": "2022-05-26T03:27:54.695Z"
   },
   {
    "duration": 25,
    "start_time": "2022-05-26T03:28:46.233Z"
   },
   {
    "duration": 26,
    "start_time": "2022-05-26T03:29:25.077Z"
   },
   {
    "duration": 32,
    "start_time": "2022-05-26T03:30:55.644Z"
   },
   {
    "duration": 35,
    "start_time": "2022-05-26T03:31:53.839Z"
   },
   {
    "duration": 108,
    "start_time": "2022-05-26T03:32:10.632Z"
   },
   {
    "duration": 41,
    "start_time": "2022-05-26T03:32:10.742Z"
   },
   {
    "duration": 4,
    "start_time": "2022-05-26T03:32:10.785Z"
   },
   {
    "duration": 7,
    "start_time": "2022-05-26T03:32:10.792Z"
   },
   {
    "duration": 8,
    "start_time": "2022-05-26T03:32:10.801Z"
   },
   {
    "duration": 16,
    "start_time": "2022-05-26T03:32:10.810Z"
   },
   {
    "duration": 12,
    "start_time": "2022-05-26T03:32:10.852Z"
   },
   {
    "duration": 16,
    "start_time": "2022-05-26T03:32:10.875Z"
   },
   {
    "duration": 5,
    "start_time": "2022-05-26T03:32:10.893Z"
   },
   {
    "duration": 43,
    "start_time": "2022-05-26T03:32:10.901Z"
   },
   {
    "duration": 31,
    "start_time": "2022-05-26T03:32:10.945Z"
   },
   {
    "duration": 15,
    "start_time": "2022-05-26T03:32:10.978Z"
   },
   {
    "duration": 27,
    "start_time": "2022-05-26T03:32:10.994Z"
   },
   {
    "duration": 69,
    "start_time": "2022-05-26T03:32:11.023Z"
   },
   {
    "duration": 27,
    "start_time": "2022-05-26T03:32:11.094Z"
   },
   {
    "duration": 15,
    "start_time": "2022-05-26T03:32:11.122Z"
   },
   {
    "duration": 27,
    "start_time": "2022-05-26T03:32:11.158Z"
   },
   {
    "duration": 28,
    "start_time": "2022-05-26T03:32:11.186Z"
   },
   {
    "duration": 27,
    "start_time": "2022-05-26T03:32:11.215Z"
   },
   {
    "duration": 46,
    "start_time": "2022-05-26T03:32:11.244Z"
   },
   {
    "duration": 28,
    "start_time": "2022-05-26T03:32:11.292Z"
   },
   {
    "duration": 114,
    "start_time": "2022-05-26T04:22:01.346Z"
   },
   {
    "duration": 43,
    "start_time": "2022-05-26T04:22:01.462Z"
   },
   {
    "duration": 4,
    "start_time": "2022-05-26T04:22:01.507Z"
   },
   {
    "duration": 31,
    "start_time": "2022-05-26T04:22:01.513Z"
   },
   {
    "duration": 53,
    "start_time": "2022-05-26T04:22:01.545Z"
   },
   {
    "duration": 34,
    "start_time": "2022-05-26T04:22:01.599Z"
   },
   {
    "duration": 8,
    "start_time": "2022-05-26T04:22:01.634Z"
   },
   {
    "duration": 51,
    "start_time": "2022-05-26T04:22:01.644Z"
   },
   {
    "duration": 8,
    "start_time": "2022-05-26T04:22:01.696Z"
   },
   {
    "duration": 81,
    "start_time": "2022-05-26T04:22:01.706Z"
   },
   {
    "duration": 22,
    "start_time": "2022-05-26T04:22:01.790Z"
   },
   {
    "duration": 27,
    "start_time": "2022-05-26T04:22:01.814Z"
   },
   {
    "duration": 40,
    "start_time": "2022-05-26T04:22:01.842Z"
   },
   {
    "duration": 53,
    "start_time": "2022-05-26T04:22:01.884Z"
   },
   {
    "duration": 39,
    "start_time": "2022-05-26T04:22:01.938Z"
   },
   {
    "duration": 23,
    "start_time": "2022-05-26T04:22:01.979Z"
   },
   {
    "duration": 25,
    "start_time": "2022-05-26T04:22:02.003Z"
   },
   {
    "duration": 43,
    "start_time": "2022-05-26T04:22:02.030Z"
   },
   {
    "duration": 39,
    "start_time": "2022-05-26T04:22:02.075Z"
   },
   {
    "duration": 47,
    "start_time": "2022-05-26T04:22:02.115Z"
   },
   {
    "duration": 37,
    "start_time": "2022-05-26T04:22:02.163Z"
   }
  ],
  "kernelspec": {
   "display_name": "Python 3 (ipykernel)",
   "language": "python",
   "name": "python3"
  },
  "language_info": {
   "codemirror_mode": {
    "name": "ipython",
    "version": 3
   },
   "file_extension": ".py",
   "mimetype": "text/x-python",
   "name": "python",
   "nbconvert_exporter": "python",
   "pygments_lexer": "ipython3",
   "version": "3.9.7"
  },
  "toc": {
   "base_numbering": 1,
   "nav_menu": {},
   "number_sections": true,
   "sideBar": true,
   "skip_h1_title": true,
   "title_cell": "Table of Contents",
   "title_sidebar": "Contents",
   "toc_cell": false,
   "toc_position": {},
   "toc_section_display": true,
   "toc_window_display": false
  }
 },
 "nbformat": 4,
 "nbformat_minor": 5
}
