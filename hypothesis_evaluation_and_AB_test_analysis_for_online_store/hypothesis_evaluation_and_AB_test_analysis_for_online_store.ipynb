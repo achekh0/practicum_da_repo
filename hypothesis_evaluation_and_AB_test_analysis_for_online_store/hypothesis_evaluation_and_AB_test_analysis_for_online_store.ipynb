{
 "cells": [
  {
   "cell_type": "markdown",
   "id": "e7d9ac1c",
   "metadata": {},
   "source": [
    "# Приоритизация гипотез и анализ А/В-теста для интернет-магазина."
   ]
  },
  {
   "cell_type": "markdown",
   "id": "eefb1c4f",
   "metadata": {},
   "source": [
    "## Содержание:\n",
    " [Описание проекта](#1)\n",
    " \n",
    " [Часть 1. Приоритизация гипотез.](#2)\n",
    "* [1. Фреймворк ICE.](#3)\n",
    "* [2. Фреймворк RICE.](#4)\n",
    "* [3. Сравнение результатов. Выводы.](#5)\n",
    "\n",
    "[Часть 2. Анализ A/B-теста.](#6)\n",
    "* [1. График кумулятивной выручки по группам.](#7)\n",
    "* [2. График кумулятивного среднего чека по группам.](#8)\n",
    "* [3. График относительного изменения кумулятивного среднего чека группы B к группе A.](#9)\n",
    "* [4. График кумулятивного среднего количества заказов по группам.](#10)\n",
    "* [5. График относительного изменения кумулятивного среднего количества заказов группы B к группе A.](#11)\n",
    "* [6. Точечный график количества заказов по пользователям.](#12)\n",
    "* [7. Вычисление 95-го и 99-го перцентилей количества заказов на пользователя. Выбор границы для определения аномальных пользователей.](#13)\n",
    "* [8. Точечный график стоимостей заказов.](#14)\n",
    "* [9. Вычисление 95-го и 99-го перцентилей стоимости заказов. Выбор границы для определения аномальных заказов.](#15)\n",
    "* [10. Вычисление статистической значимости различий в среднем количестве заказов между группами по «сырым» данным.](#16)\n",
    "* [11. Вычисление статистической значимости различий в среднем чеке заказа между группами по «сырым» данным. ](#17)\n",
    "* [12. Вычисление статистической значимости различий в среднем количестве заказов между группами по «очищенным» данным.](#18)\n",
    "* [13. Вычисление статистической значимости различий в среднем чеке заказа между группами по «очищенным» данным.](#19)\n",
    "\n",
    "[Решение по результатам теста. Общие выводы](#20)"
   ]
  },
  {
   "cell_type": "markdown",
   "id": "a5851363",
   "metadata": {},
   "source": [
    "## Описание проекта <a class=\"anchor\" id=\"1\"></a>\n"
   ]
  },
  {
   "cell_type": "markdown",
   "id": "ed99ff01",
   "metadata": {},
   "source": [
    "В ходе проекта необходимо приоритизировать гипотезы, направленные на увеличение выручки крупного интернет-магазина, провести А/В тест и проанализировать его результаты. \n",
    "\n",
    "Проект выполняется в 2 частях: 1 - приоритизация гипотез, 2 - анализ А/В теста."
   ]
  },
  {
   "cell_type": "code",
   "execution_count": 128,
   "id": "455f617d",
   "metadata": {},
   "outputs": [],
   "source": [
    "import pandas as pd\n",
    "import matplotlib.pyplot as plt\n",
    "import numpy as np\n",
    "import datetime as dt\n",
    "import scipy.stats as stats"
   ]
  },
  {
   "cell_type": "markdown",
   "id": "646b5a62",
   "metadata": {},
   "source": [
    "## Часть 1. Приоритизация гипотез. <a class=\"anchor\" id=\"2\"></a>\n"
   ]
  },
  {
   "cell_type": "code",
   "execution_count": 129,
   "id": "ef93bfcc",
   "metadata": {},
   "outputs": [],
   "source": [
    "# загрузим файл с гипотезами и ознакомимся с данными\n",
    "try:\n",
    "    hypothesis = pd.read_csv('hypothesis.csv')\n",
    "except:\n",
    "    hypothesis = pd.read_csv('https://code.s3.yandex.net/datasets/hypothesis.csv')"
   ]
  },
  {
   "cell_type": "code",
   "execution_count": 130,
   "id": "75848172",
   "metadata": {},
   "outputs": [],
   "source": [
    "pd.options.display.max_colwidth = 130"
   ]
  },
  {
   "cell_type": "code",
   "execution_count": 131,
   "id": "166dc5b4",
   "metadata": {},
   "outputs": [
    {
     "data": {
      "text/html": [
       "<div>\n",
       "<style scoped>\n",
       "    .dataframe tbody tr th:only-of-type {\n",
       "        vertical-align: middle;\n",
       "    }\n",
       "\n",
       "    .dataframe tbody tr th {\n",
       "        vertical-align: top;\n",
       "    }\n",
       "\n",
       "    .dataframe thead th {\n",
       "        text-align: right;\n",
       "    }\n",
       "</style>\n",
       "<table border=\"1\" class=\"dataframe\">\n",
       "  <thead>\n",
       "    <tr style=\"text-align: right;\">\n",
       "      <th></th>\n",
       "      <th>Hypothesis</th>\n",
       "      <th>Reach</th>\n",
       "      <th>Impact</th>\n",
       "      <th>Confidence</th>\n",
       "      <th>Efforts</th>\n",
       "    </tr>\n",
       "  </thead>\n",
       "  <tbody>\n",
       "    <tr>\n",
       "      <th>0</th>\n",
       "      <td>Добавить два новых канала привлечения трафика, что позволит привлекать на 30% больше пользователей</td>\n",
       "      <td>3</td>\n",
       "      <td>10</td>\n",
       "      <td>8</td>\n",
       "      <td>6</td>\n",
       "    </tr>\n",
       "    <tr>\n",
       "      <th>1</th>\n",
       "      <td>Запустить собственную службу доставки, что сократит срок доставки заказов</td>\n",
       "      <td>2</td>\n",
       "      <td>5</td>\n",
       "      <td>4</td>\n",
       "      <td>10</td>\n",
       "    </tr>\n",
       "    <tr>\n",
       "      <th>2</th>\n",
       "      <td>Добавить блоки рекомендаций товаров на сайт интернет магазина, чтобы повысить конверсию и средний чек заказа</td>\n",
       "      <td>8</td>\n",
       "      <td>3</td>\n",
       "      <td>7</td>\n",
       "      <td>3</td>\n",
       "    </tr>\n",
       "    <tr>\n",
       "      <th>3</th>\n",
       "      <td>Изменить структура категорий, что увеличит конверсию, т.к. пользователи быстрее найдут нужный товар</td>\n",
       "      <td>8</td>\n",
       "      <td>3</td>\n",
       "      <td>3</td>\n",
       "      <td>8</td>\n",
       "    </tr>\n",
       "    <tr>\n",
       "      <th>4</th>\n",
       "      <td>Изменить цвет фона главной страницы, чтобы увеличить вовлеченность пользователей</td>\n",
       "      <td>3</td>\n",
       "      <td>1</td>\n",
       "      <td>1</td>\n",
       "      <td>1</td>\n",
       "    </tr>\n",
       "    <tr>\n",
       "      <th>5</th>\n",
       "      <td>Добавить страницу отзывов клиентов о магазине, что позволит увеличить количество заказов</td>\n",
       "      <td>3</td>\n",
       "      <td>2</td>\n",
       "      <td>2</td>\n",
       "      <td>3</td>\n",
       "    </tr>\n",
       "    <tr>\n",
       "      <th>6</th>\n",
       "      <td>Показать на главной странице баннеры с актуальными акциями и распродажами, чтобы увеличить конверсию</td>\n",
       "      <td>5</td>\n",
       "      <td>3</td>\n",
       "      <td>8</td>\n",
       "      <td>3</td>\n",
       "    </tr>\n",
       "    <tr>\n",
       "      <th>7</th>\n",
       "      <td>Добавить форму подписки на все основные страницы, чтобы собрать базу клиентов для email-рассылок</td>\n",
       "      <td>10</td>\n",
       "      <td>7</td>\n",
       "      <td>8</td>\n",
       "      <td>5</td>\n",
       "    </tr>\n",
       "    <tr>\n",
       "      <th>8</th>\n",
       "      <td>Запустить акцию, дающую скидку на товар в день рождения</td>\n",
       "      <td>1</td>\n",
       "      <td>9</td>\n",
       "      <td>9</td>\n",
       "      <td>5</td>\n",
       "    </tr>\n",
       "  </tbody>\n",
       "</table>\n",
       "</div>"
      ],
      "text/plain": [
       "                                                                                                     Hypothesis  \\\n",
       "0            Добавить два новых канала привлечения трафика, что позволит привлекать на 30% больше пользователей   \n",
       "1                                     Запустить собственную службу доставки, что сократит срок доставки заказов   \n",
       "2  Добавить блоки рекомендаций товаров на сайт интернет магазина, чтобы повысить конверсию и средний чек заказа   \n",
       "3           Изменить структура категорий, что увеличит конверсию, т.к. пользователи быстрее найдут нужный товар   \n",
       "4                              Изменить цвет фона главной страницы, чтобы увеличить вовлеченность пользователей   \n",
       "5                      Добавить страницу отзывов клиентов о магазине, что позволит увеличить количество заказов   \n",
       "6          Показать на главной странице баннеры с актуальными акциями и распродажами, чтобы увеличить конверсию   \n",
       "7              Добавить форму подписки на все основные страницы, чтобы собрать базу клиентов для email-рассылок   \n",
       "8                                                       Запустить акцию, дающую скидку на товар в день рождения   \n",
       "\n",
       "   Reach  Impact  Confidence  Efforts  \n",
       "0      3      10           8        6  \n",
       "1      2       5           4       10  \n",
       "2      8       3           7        3  \n",
       "3      8       3           3        8  \n",
       "4      3       1           1        1  \n",
       "5      3       2           2        3  \n",
       "6      5       3           8        3  \n",
       "7     10       7           8        5  \n",
       "8      1       9           9        5  "
      ]
     },
     "execution_count": 131,
     "metadata": {},
     "output_type": "execute_result"
    }
   ],
   "source": [
    "hypothesis"
   ]
  },
  {
   "cell_type": "markdown",
   "id": "14910013",
   "metadata": {},
   "source": [
    "### 1. Фреймворк ICE.<a class=\"anchor\" id=\"3\"></a>"
   ]
  },
  {
   "cell_type": "code",
   "execution_count": 132,
   "id": "649138a0",
   "metadata": {},
   "outputs": [],
   "source": [
    "hypothesis['ICE'] = round((\n",
    "    hypothesis['Impact']*\n",
    "    hypothesis['Confidence']/\n",
    "    hypothesis['Efforts']\n",
    "),2)"
   ]
  },
  {
   "cell_type": "code",
   "execution_count": 133,
   "id": "896dfb11",
   "metadata": {},
   "outputs": [
    {
     "name": "stdout",
     "output_type": "stream",
     "text": [
      "                                                                                                     Hypothesis  \\\n",
      "8                                                       Запустить акцию, дающую скидку на товар в день рождения   \n",
      "0            Добавить два новых канала привлечения трафика, что позволит привлекать на 30% больше пользователей   \n",
      "7              Добавить форму подписки на все основные страницы, чтобы собрать базу клиентов для email-рассылок   \n",
      "6          Показать на главной странице баннеры с актуальными акциями и распродажами, чтобы увеличить конверсию   \n",
      "2  Добавить блоки рекомендаций товаров на сайт интернет магазина, чтобы повысить конверсию и средний чек заказа   \n",
      "1                                     Запустить собственную службу доставки, что сократит срок доставки заказов   \n",
      "5                      Добавить страницу отзывов клиентов о магазине, что позволит увеличить количество заказов   \n",
      "3           Изменить структура категорий, что увеличит конверсию, т.к. пользователи быстрее найдут нужный товар   \n",
      "4                              Изменить цвет фона главной страницы, чтобы увеличить вовлеченность пользователей   \n",
      "\n",
      "     ICE  \n",
      "8  16.20  \n",
      "0  13.33  \n",
      "7  11.20  \n",
      "6   8.00  \n",
      "2   7.00  \n",
      "1   2.00  \n",
      "5   1.33  \n",
      "3   1.12  \n",
      "4   1.00  \n"
     ]
    }
   ],
   "source": [
    "print(hypothesis[['Hypothesis','ICE']].sort_values('ICE', ascending = False))"
   ]
  },
  {
   "cell_type": "code",
   "execution_count": 134,
   "id": "7727f95d",
   "metadata": {},
   "outputs": [
    {
     "name": "stdout",
     "output_type": "stream",
     "text": [
      "Расчет приоритета по методу ICE показал что наивысший рейтинг у гипотезы \"Запустить акцию, дающую скидку на товар в день рождения\".\n"
     ]
    }
   ],
   "source": [
    "print('Расчет приоритета по методу ICE показал что наивысший рейтинг у гипотезы \"{}\".'\n",
    "      .format(hypothesis['Hypothesis'][8]))"
   ]
  },
  {
   "cell_type": "markdown",
   "id": "89d302da",
   "metadata": {},
   "source": [
    "### 2. Фреймворк RICE.<a class=\"anchor\" id=\"4\"></a>"
   ]
  },
  {
   "cell_type": "code",
   "execution_count": 135,
   "id": "dc594765",
   "metadata": {},
   "outputs": [],
   "source": [
    "hypothesis['RICE']=(\n",
    "    hypothesis['Reach']*\n",
    "    hypothesis['Impact']*\n",
    "    hypothesis['Confidence']/\n",
    "    hypothesis['Efforts']\n",
    ")"
   ]
  },
  {
   "cell_type": "code",
   "execution_count": 136,
   "id": "d31abce6",
   "metadata": {},
   "outputs": [
    {
     "name": "stdout",
     "output_type": "stream",
     "text": [
      "                                                                                                     Hypothesis  \\\n",
      "7              Добавить форму подписки на все основные страницы, чтобы собрать базу клиентов для email-рассылок   \n",
      "2  Добавить блоки рекомендаций товаров на сайт интернет магазина, чтобы повысить конверсию и средний чек заказа   \n",
      "0            Добавить два новых канала привлечения трафика, что позволит привлекать на 30% больше пользователей   \n",
      "6          Показать на главной странице баннеры с актуальными акциями и распродажами, чтобы увеличить конверсию   \n",
      "8                                                       Запустить акцию, дающую скидку на товар в день рождения   \n",
      "3           Изменить структура категорий, что увеличит конверсию, т.к. пользователи быстрее найдут нужный товар   \n",
      "1                                     Запустить собственную службу доставки, что сократит срок доставки заказов   \n",
      "5                      Добавить страницу отзывов клиентов о магазине, что позволит увеличить количество заказов   \n",
      "4                              Изменить цвет фона главной страницы, чтобы увеличить вовлеченность пользователей   \n",
      "\n",
      "     ICE   RICE  \n",
      "7  11.20  112.0  \n",
      "2   7.00   56.0  \n",
      "0  13.33   40.0  \n",
      "6   8.00   40.0  \n",
      "8  16.20   16.2  \n",
      "3   1.12    9.0  \n",
      "1   2.00    4.0  \n",
      "5   1.33    4.0  \n",
      "4   1.00    3.0  \n"
     ]
    }
   ],
   "source": [
    "print(hypothesis[['Hypothesis','ICE','RICE']].sort_values('RICE', ascending = False)) #"
   ]
  },
  {
   "cell_type": "code",
   "execution_count": 137,
   "id": "2ef40615",
   "metadata": {},
   "outputs": [
    {
     "name": "stdout",
     "output_type": "stream",
     "text": [
      "Расчет приоритета по методу RICE показал что наивысший рейтинг у гипотезы \"Добавить форму подписки на все основные страницы, чтобы собрать базу клиентов для email-рассылок\".\n"
     ]
    }
   ],
   "source": [
    "print('Расчет приоритета по методу RICE показал что наивысший рейтинг у гипотезы \"{}\".'\n",
    "      .format(hypothesis['Hypothesis'][7]))"
   ]
  },
  {
   "cell_type": "markdown",
   "id": "32fa8554",
   "metadata": {},
   "source": [
    "### 3. Сравнение результатов. Выводы.<a class=\"anchor\" id=\"5\"></a>"
   ]
  },
  {
   "cell_type": "markdown",
   "id": "8353ad4e",
   "metadata": {},
   "source": [
    "Поскольку в фреймворке RICE  в расчете приоритета помимо показателей impact, confidence и efforts используется reach - охват, на первое место по показателю RICE вышла гипотеза \"Добавить форму подписки на все основные страницы, чтобы собрать базу клиентов для email-рассылок\".\n",
    "\n",
    "Без учета охвата эта гипотеза всего лишь на 3 месте."
   ]
  },
  {
   "cell_type": "markdown",
   "id": "a1479655",
   "metadata": {},
   "source": [
    "## Часть 2. Анализ A/B-теста. <a class=\"anchor\" id=\"6\"></a>"
   ]
  },
  {
   "cell_type": "code",
   "execution_count": 138,
   "id": "cf3e430b",
   "metadata": {},
   "outputs": [],
   "source": [
    "# загрузим и изучим данные. При необходимости проведем предобработку.\n",
    "try:\n",
    "    orders = pd.read_csv('orders.csv')\n",
    "    visitors = pd.read_csv('visitors.csv')\n",
    "except:\n",
    "    orders = pd.read_csv('https://code.s3.yandex.net/datasets/orders.csv')\n",
    "    visitors = pd.read_csv('https://code.s3.yandex.net/datasets/visitors.csv')"
   ]
  },
  {
   "cell_type": "code",
   "execution_count": 139,
   "id": "1e5c263e",
   "metadata": {},
   "outputs": [
    {
     "data": {
      "text/html": [
       "<div>\n",
       "<style scoped>\n",
       "    .dataframe tbody tr th:only-of-type {\n",
       "        vertical-align: middle;\n",
       "    }\n",
       "\n",
       "    .dataframe tbody tr th {\n",
       "        vertical-align: top;\n",
       "    }\n",
       "\n",
       "    .dataframe thead th {\n",
       "        text-align: right;\n",
       "    }\n",
       "</style>\n",
       "<table border=\"1\" class=\"dataframe\">\n",
       "  <thead>\n",
       "    <tr style=\"text-align: right;\">\n",
       "      <th></th>\n",
       "      <th>transactionId</th>\n",
       "      <th>visitorId</th>\n",
       "      <th>date</th>\n",
       "      <th>revenue</th>\n",
       "      <th>group</th>\n",
       "    </tr>\n",
       "  </thead>\n",
       "  <tbody>\n",
       "    <tr>\n",
       "      <th>0</th>\n",
       "      <td>3667963787</td>\n",
       "      <td>3312258926</td>\n",
       "      <td>2019-08-15</td>\n",
       "      <td>1650</td>\n",
       "      <td>B</td>\n",
       "    </tr>\n",
       "    <tr>\n",
       "      <th>1</th>\n",
       "      <td>2804400009</td>\n",
       "      <td>3642806036</td>\n",
       "      <td>2019-08-15</td>\n",
       "      <td>730</td>\n",
       "      <td>B</td>\n",
       "    </tr>\n",
       "    <tr>\n",
       "      <th>2</th>\n",
       "      <td>2961555356</td>\n",
       "      <td>4069496402</td>\n",
       "      <td>2019-08-15</td>\n",
       "      <td>400</td>\n",
       "      <td>A</td>\n",
       "    </tr>\n",
       "    <tr>\n",
       "      <th>3</th>\n",
       "      <td>3797467345</td>\n",
       "      <td>1196621759</td>\n",
       "      <td>2019-08-15</td>\n",
       "      <td>9759</td>\n",
       "      <td>B</td>\n",
       "    </tr>\n",
       "    <tr>\n",
       "      <th>4</th>\n",
       "      <td>2282983706</td>\n",
       "      <td>2322279887</td>\n",
       "      <td>2019-08-15</td>\n",
       "      <td>2308</td>\n",
       "      <td>B</td>\n",
       "    </tr>\n",
       "  </tbody>\n",
       "</table>\n",
       "</div>"
      ],
      "text/plain": [
       "   transactionId   visitorId        date  revenue group\n",
       "0     3667963787  3312258926  2019-08-15     1650     B\n",
       "1     2804400009  3642806036  2019-08-15      730     B\n",
       "2     2961555356  4069496402  2019-08-15      400     A\n",
       "3     3797467345  1196621759  2019-08-15     9759     B\n",
       "4     2282983706  2322279887  2019-08-15     2308     B"
      ]
     },
     "execution_count": 139,
     "metadata": {},
     "output_type": "execute_result"
    }
   ],
   "source": [
    "orders.head()"
   ]
  },
  {
   "cell_type": "code",
   "execution_count": 140,
   "id": "45e098ce",
   "metadata": {},
   "outputs": [
    {
     "data": {
      "text/html": [
       "<div>\n",
       "<style scoped>\n",
       "    .dataframe tbody tr th:only-of-type {\n",
       "        vertical-align: middle;\n",
       "    }\n",
       "\n",
       "    .dataframe tbody tr th {\n",
       "        vertical-align: top;\n",
       "    }\n",
       "\n",
       "    .dataframe thead th {\n",
       "        text-align: right;\n",
       "    }\n",
       "</style>\n",
       "<table border=\"1\" class=\"dataframe\">\n",
       "  <thead>\n",
       "    <tr style=\"text-align: right;\">\n",
       "      <th></th>\n",
       "      <th>date</th>\n",
       "      <th>group</th>\n",
       "      <th>visitors</th>\n",
       "    </tr>\n",
       "  </thead>\n",
       "  <tbody>\n",
       "    <tr>\n",
       "      <th>0</th>\n",
       "      <td>2019-08-01</td>\n",
       "      <td>A</td>\n",
       "      <td>719</td>\n",
       "    </tr>\n",
       "    <tr>\n",
       "      <th>1</th>\n",
       "      <td>2019-08-02</td>\n",
       "      <td>A</td>\n",
       "      <td>619</td>\n",
       "    </tr>\n",
       "    <tr>\n",
       "      <th>2</th>\n",
       "      <td>2019-08-03</td>\n",
       "      <td>A</td>\n",
       "      <td>507</td>\n",
       "    </tr>\n",
       "    <tr>\n",
       "      <th>3</th>\n",
       "      <td>2019-08-04</td>\n",
       "      <td>A</td>\n",
       "      <td>717</td>\n",
       "    </tr>\n",
       "    <tr>\n",
       "      <th>4</th>\n",
       "      <td>2019-08-05</td>\n",
       "      <td>A</td>\n",
       "      <td>756</td>\n",
       "    </tr>\n",
       "  </tbody>\n",
       "</table>\n",
       "</div>"
      ],
      "text/plain": [
       "         date group  visitors\n",
       "0  2019-08-01     A       719\n",
       "1  2019-08-02     A       619\n",
       "2  2019-08-03     A       507\n",
       "3  2019-08-04     A       717\n",
       "4  2019-08-05     A       756"
      ]
     },
     "execution_count": 140,
     "metadata": {},
     "output_type": "execute_result"
    }
   ],
   "source": [
    "visitors.head()"
   ]
  },
  {
   "cell_type": "code",
   "execution_count": 141,
   "id": "93a8d18f",
   "metadata": {},
   "outputs": [
    {
     "name": "stdout",
     "output_type": "stream",
     "text": [
      "<class 'pandas.core.frame.DataFrame'>\n",
      "RangeIndex: 1197 entries, 0 to 1196\n",
      "Data columns (total 5 columns):\n",
      " #   Column         Non-Null Count  Dtype \n",
      "---  ------         --------------  ----- \n",
      " 0   transactionId  1197 non-null   int64 \n",
      " 1   visitorId      1197 non-null   int64 \n",
      " 2   date           1197 non-null   object\n",
      " 3   revenue        1197 non-null   int64 \n",
      " 4   group          1197 non-null   object\n",
      "dtypes: int64(3), object(2)\n",
      "memory usage: 46.9+ KB\n",
      "None\n",
      "\n",
      "<class 'pandas.core.frame.DataFrame'>\n",
      "RangeIndex: 62 entries, 0 to 61\n",
      "Data columns (total 3 columns):\n",
      " #   Column    Non-Null Count  Dtype \n",
      "---  ------    --------------  ----- \n",
      " 0   date      62 non-null     object\n",
      " 1   group     62 non-null     object\n",
      " 2   visitors  62 non-null     int64 \n",
      "dtypes: int64(1), object(2)\n",
      "memory usage: 1.6+ KB\n",
      "None\n",
      "\n"
     ]
    }
   ],
   "source": [
    "for x in [orders, visitors]:\n",
    "    print(x.info())\n",
    "    print()"
   ]
  },
  {
   "cell_type": "code",
   "execution_count": 142,
   "id": "2450aead",
   "metadata": {},
   "outputs": [
    {
     "name": "stdout",
     "output_type": "stream",
     "text": [
      "0\n",
      "0\n"
     ]
    }
   ],
   "source": [
    "# проверим данные на дубликаты\n",
    "for x in [orders, visitors]:\n",
    "    print(x.duplicated().sum())"
   ]
  },
  {
   "cell_type": "code",
   "execution_count": 143,
   "id": "0c8a6da5",
   "metadata": {
    "scrolled": true
   },
   "outputs": [
    {
     "name": "stdout",
     "output_type": "stream",
     "text": [
      "['B' 'A']\n",
      "['A' 'B']\n"
     ]
    }
   ],
   "source": [
    "for x in [orders, visitors]:\n",
    "    print(x['group'].unique())"
   ]
  },
  {
   "cell_type": "code",
   "execution_count": 144,
   "id": "df6f3f95",
   "metadata": {},
   "outputs": [],
   "source": [
    "# приведем данные в колонках date  к типу данных datetime\n",
    "orders['date'] = orders['date'].map(lambda x: dt.datetime.strptime(x, '%Y-%m-%d'))\n",
    "visitors['date'] = visitors['date'].map(lambda x: dt.datetime.strptime(x, '%Y-%m-%d'))"
   ]
  },
  {
   "cell_type": "code",
   "execution_count": 145,
   "id": "38caba68",
   "metadata": {},
   "outputs": [
    {
     "data": {
      "text/html": [
       "<div>\n",
       "<style scoped>\n",
       "    .dataframe tbody tr th:only-of-type {\n",
       "        vertical-align: middle;\n",
       "    }\n",
       "\n",
       "    .dataframe tbody tr th {\n",
       "        vertical-align: top;\n",
       "    }\n",
       "\n",
       "    .dataframe thead tr th {\n",
       "        text-align: left;\n",
       "    }\n",
       "</style>\n",
       "<table border=\"1\" class=\"dataframe\">\n",
       "  <thead>\n",
       "    <tr>\n",
       "      <th></th>\n",
       "      <th colspan=\"2\" halign=\"left\">min</th>\n",
       "      <th colspan=\"2\" halign=\"left\">max</th>\n",
       "    </tr>\n",
       "    <tr>\n",
       "      <th>group</th>\n",
       "      <th>A</th>\n",
       "      <th>B</th>\n",
       "      <th>A</th>\n",
       "      <th>B</th>\n",
       "    </tr>\n",
       "  </thead>\n",
       "  <tbody>\n",
       "    <tr>\n",
       "      <th>date</th>\n",
       "      <td>2019-08-01</td>\n",
       "      <td>2019-08-01</td>\n",
       "      <td>2019-08-31</td>\n",
       "      <td>2019-08-31</td>\n",
       "    </tr>\n",
       "  </tbody>\n",
       "</table>\n",
       "</div>"
      ],
      "text/plain": [
       "             min                   max           \n",
       "group          A          B          A          B\n",
       "date  2019-08-01 2019-08-01 2019-08-31 2019-08-31"
      ]
     },
     "execution_count": 145,
     "metadata": {},
     "output_type": "execute_result"
    }
   ],
   "source": [
    "#проверим период времени за который доступны данные\n",
    "orders.pivot_table(columns = 'group',values='date', aggfunc= ['min','max'])"
   ]
  },
  {
   "cell_type": "code",
   "execution_count": 146,
   "id": "2fffeb41",
   "metadata": {},
   "outputs": [
    {
     "data": {
      "text/html": [
       "<div>\n",
       "<style scoped>\n",
       "    .dataframe tbody tr th:only-of-type {\n",
       "        vertical-align: middle;\n",
       "    }\n",
       "\n",
       "    .dataframe tbody tr th {\n",
       "        vertical-align: top;\n",
       "    }\n",
       "\n",
       "    .dataframe thead tr th {\n",
       "        text-align: left;\n",
       "    }\n",
       "</style>\n",
       "<table border=\"1\" class=\"dataframe\">\n",
       "  <thead>\n",
       "    <tr>\n",
       "      <th></th>\n",
       "      <th colspan=\"2\" halign=\"left\">min</th>\n",
       "      <th colspan=\"2\" halign=\"left\">max</th>\n",
       "    </tr>\n",
       "    <tr>\n",
       "      <th>group</th>\n",
       "      <th>A</th>\n",
       "      <th>B</th>\n",
       "      <th>A</th>\n",
       "      <th>B</th>\n",
       "    </tr>\n",
       "  </thead>\n",
       "  <tbody>\n",
       "    <tr>\n",
       "      <th>date</th>\n",
       "      <td>2019-08-01</td>\n",
       "      <td>2019-08-01</td>\n",
       "      <td>2019-08-31</td>\n",
       "      <td>2019-08-31</td>\n",
       "    </tr>\n",
       "  </tbody>\n",
       "</table>\n",
       "</div>"
      ],
      "text/plain": [
       "             min                   max           \n",
       "group          A          B          A          B\n",
       "date  2019-08-01 2019-08-01 2019-08-31 2019-08-31"
      ]
     },
     "execution_count": 146,
     "metadata": {},
     "output_type": "execute_result"
    }
   ],
   "source": [
    "visitors.pivot_table(columns = 'group',values='date', aggfunc= ['min','max'])"
   ]
  },
  {
   "cell_type": "code",
   "execution_count": 147,
   "id": "b0501996",
   "metadata": {},
   "outputs": [
    {
     "data": {
      "text/html": [
       "<div>\n",
       "<style scoped>\n",
       "    .dataframe tbody tr th:only-of-type {\n",
       "        vertical-align: middle;\n",
       "    }\n",
       "\n",
       "    .dataframe tbody tr th {\n",
       "        vertical-align: top;\n",
       "    }\n",
       "\n",
       "    .dataframe thead th {\n",
       "        text-align: right;\n",
       "    }\n",
       "</style>\n",
       "<table border=\"1\" class=\"dataframe\">\n",
       "  <thead>\n",
       "    <tr style=\"text-align: right;\">\n",
       "      <th></th>\n",
       "      <th>visitorId</th>\n",
       "    </tr>\n",
       "    <tr>\n",
       "      <th>group</th>\n",
       "      <th></th>\n",
       "    </tr>\n",
       "  </thead>\n",
       "  <tbody>\n",
       "    <tr>\n",
       "      <th>A</th>\n",
       "      <td>503</td>\n",
       "    </tr>\n",
       "    <tr>\n",
       "      <th>B</th>\n",
       "      <td>586</td>\n",
       "    </tr>\n",
       "  </tbody>\n",
       "</table>\n",
       "</div>"
      ],
      "text/plain": [
       "       visitorId\n",
       "group           \n",
       "A            503\n",
       "B            586"
      ]
     },
     "execution_count": 147,
     "metadata": {},
     "output_type": "execute_result"
    }
   ],
   "source": [
    "# проверим количество пользователей в каждой группе\n",
    "orders.groupby('group').agg({'visitorId':'nunique'})"
   ]
  },
  {
   "cell_type": "code",
   "execution_count": 148,
   "id": "691ceaf1",
   "metadata": {},
   "outputs": [],
   "source": [
    "# Проверим, есть ли пользователи, попавшие в обе группы\n",
    "orders['intersections']=orders.query('group ==\"A\"')['visitorId'].isin(orders.query('group ==\"B\"')['visitorId'])\n",
    "\n"
   ]
  },
  {
   "cell_type": "code",
   "execution_count": 149,
   "id": "fc513903",
   "metadata": {},
   "outputs": [
    {
     "data": {
      "text/plain": [
       "89"
      ]
     },
     "execution_count": 149,
     "metadata": {},
     "output_type": "execute_result"
    }
   ],
   "source": [
    "orders['intersections'].sum()"
   ]
  },
  {
   "cell_type": "code",
   "execution_count": 150,
   "id": "b7458d19",
   "metadata": {},
   "outputs": [
    {
     "data": {
      "text/plain": [
       "58"
      ]
     },
     "execution_count": 150,
     "metadata": {},
     "output_type": "execute_result"
    }
   ],
   "source": [
    "orders.query('intersections == True')['visitorId'].nunique()"
   ]
  },
  {
   "cell_type": "markdown",
   "id": "a53f6d2b",
   "metadata": {},
   "source": [
    "А/Б тест проводился в течение всего августа 2019 года. В группах 503 и 586 пользователей. При этом 58 пользователей попали в обе группы, что может негативно сказаться на достоверности результатов сравнения групп."
   ]
  },
  {
   "cell_type": "code",
   "execution_count": 151,
   "id": "84ac79cb",
   "metadata": {},
   "outputs": [
    {
     "data": {
      "text/html": [
       "<div>\n",
       "<style scoped>\n",
       "    .dataframe tbody tr th:only-of-type {\n",
       "        vertical-align: middle;\n",
       "    }\n",
       "\n",
       "    .dataframe tbody tr th {\n",
       "        vertical-align: top;\n",
       "    }\n",
       "\n",
       "    .dataframe thead th {\n",
       "        text-align: right;\n",
       "    }\n",
       "</style>\n",
       "<table border=\"1\" class=\"dataframe\">\n",
       "  <thead>\n",
       "    <tr style=\"text-align: right;\">\n",
       "      <th></th>\n",
       "      <th>date</th>\n",
       "      <th>group</th>\n",
       "      <th>orders</th>\n",
       "      <th>buyers</th>\n",
       "      <th>revenue</th>\n",
       "      <th>visitors</th>\n",
       "    </tr>\n",
       "  </thead>\n",
       "  <tbody>\n",
       "    <tr>\n",
       "      <th>0</th>\n",
       "      <td>2019-08-01</td>\n",
       "      <td>A</td>\n",
       "      <td>24</td>\n",
       "      <td>20</td>\n",
       "      <td>148579</td>\n",
       "      <td>719</td>\n",
       "    </tr>\n",
       "    <tr>\n",
       "      <th>1</th>\n",
       "      <td>2019-08-01</td>\n",
       "      <td>B</td>\n",
       "      <td>21</td>\n",
       "      <td>20</td>\n",
       "      <td>101217</td>\n",
       "      <td>713</td>\n",
       "    </tr>\n",
       "    <tr>\n",
       "      <th>2</th>\n",
       "      <td>2019-08-02</td>\n",
       "      <td>A</td>\n",
       "      <td>44</td>\n",
       "      <td>38</td>\n",
       "      <td>242401</td>\n",
       "      <td>1338</td>\n",
       "    </tr>\n",
       "    <tr>\n",
       "      <th>3</th>\n",
       "      <td>2019-08-02</td>\n",
       "      <td>B</td>\n",
       "      <td>45</td>\n",
       "      <td>43</td>\n",
       "      <td>266748</td>\n",
       "      <td>1294</td>\n",
       "    </tr>\n",
       "    <tr>\n",
       "      <th>4</th>\n",
       "      <td>2019-08-03</td>\n",
       "      <td>A</td>\n",
       "      <td>68</td>\n",
       "      <td>62</td>\n",
       "      <td>354874</td>\n",
       "      <td>1845</td>\n",
       "    </tr>\n",
       "  </tbody>\n",
       "</table>\n",
       "</div>"
      ],
      "text/plain": [
       "        date group  orders  buyers  revenue  visitors\n",
       "0 2019-08-01     A      24      20   148579       719\n",
       "1 2019-08-01     B      21      20   101217       713\n",
       "2 2019-08-02     A      44      38   242401      1338\n",
       "3 2019-08-02     B      45      43   266748      1294\n",
       "4 2019-08-03     A      68      62   354874      1845"
      ]
     },
     "execution_count": 151,
     "metadata": {},
     "output_type": "execute_result"
    }
   ],
   "source": [
    "# создаем массив уникальных пар значений дат и групп теста\n",
    "datesGroups = orders[['date','group']].drop_duplicates()\n",
    "\n",
    "# получаем агрегированные кумулятивные по дням данные о заказах \n",
    "ordersAggregated = (\n",
    "    datesGroups.apply(lambda x: orders[np.logical_and(orders['date'] <= x['date'], \n",
    "                                                      orders['group'] == x['group'])]\n",
    "                      .agg({'date' : 'max', 'group' : 'max', 'transactionId' : 'nunique', \n",
    "                            'visitorId' : 'nunique', 'revenue' : 'sum'}), axis=1)\n",
    "    .sort_values(by=['date','group'])\n",
    ")\n",
    "# получаем агрегированные кумулятивные по дням данные о посетителях интернет-магазина \n",
    "visitorsAggregated = (\n",
    "    datesGroups.apply(lambda x: visitors[np.logical_and(visitors['date'] <= x['date'], \n",
    "                                                        visitors['group'] == x['group'])]\n",
    "                      .agg({'date' : 'max', 'group' : 'max', 'visitors' : 'sum'}), axis=1)\n",
    "    .sort_values(by=['date','group'])\n",
    ")\n",
    "\n",
    "\n",
    "\n",
    "# объединяем кумулятивные данные в одной таблице и присваиваем ее столбцам понятные названия\n",
    "cumulativeData = (\n",
    "    ordersAggregated.merge(visitorsAggregated, left_on=['date', 'group'], right_on=['date', 'group'])\n",
    ")\n",
    "cumulativeData.columns = ['date', 'group', 'orders', 'buyers', 'revenue', 'visitors']\n",
    "\n",
    "cumulativeData.head(5)"
   ]
  },
  {
   "cell_type": "markdown",
   "id": "8641176b",
   "metadata": {},
   "source": [
    "### 1. График кумулятивной выручки по группам.<a class=\"anchor\" id=\"7\"></a>"
   ]
  },
  {
   "cell_type": "code",
   "execution_count": 152,
   "id": "0a2b362a",
   "metadata": {},
   "outputs": [],
   "source": [
    "# датафрейм с кумулятивным количеством заказов и кумулятивной выручкой по дням в группе А\n",
    "cumulativeRevenueA = cumulativeData[cumulativeData['group']=='A'][['date','revenue', 'orders', 'visitors']]\n",
    "\n",
    "# датафрейм с кумулятивным количеством заказов и кумулятивной выручкой по дням в группе B\n",
    "cumulativeRevenueB = cumulativeData[cumulativeData['group']=='B'][['date','revenue', 'orders','visitors']]\n",
    "\n",
    "\n"
   ]
  },
  {
   "cell_type": "code",
   "execution_count": 153,
   "id": "edaad881",
   "metadata": {},
   "outputs": [
    {
     "data": {
      "image/png": "[encoded data removed]",
      "text/plain": [
       "<Figure size 432x288 with 1 Axes>"
      ]
     },
     "metadata": {
      "needs_background": "light"
     },
     "output_type": "display_data"
    }
   ],
   "source": [
    "# Строим график выручки группы А\n",
    "plt.plot(cumulativeRevenueA['date'], cumulativeRevenueA['revenue'], label='A')\n",
    "\n",
    "# Строим график выручки группы B\n",
    "plt.plot(cumulativeRevenueB['date'], cumulativeRevenueB['revenue'], label='B')\n",
    "plt.xlabel('дни')\n",
    "plt.ylabel('выручка')\n",
    "plt.title('кумулятивная выручка по группам')\n",
    "plt.xticks(rotation=45)\n",
    "plt.legend()\n",
    "plt.show()"
   ]
  },
  {
   "cell_type": "markdown",
   "id": "0cbe71c0",
   "metadata": {},
   "source": [
    "Выручка в обеих группах стабильно растет, но в группе В 17 августа наблюдается резкий скачек, что скорее всего объясняется выбросами в коичестве покупок или среднему чеку."
   ]
  },
  {
   "cell_type": "markdown",
   "id": "3fc4c799",
   "metadata": {},
   "source": [
    "### 2. График кумулятивного среднего чека по группам.<a class=\"anchor\" id=\"8\"></a>"
   ]
  },
  {
   "cell_type": "code",
   "execution_count": 154,
   "id": "cbbf4afb",
   "metadata": {},
   "outputs": [
    {
     "data": {
      "image/png": "[encoded data removed]",
      "text/plain": [
       "<Figure size 432x288 with 1 Axes>"
      ]
     },
     "metadata": {
      "needs_background": "light"
     },
     "output_type": "display_data"
    }
   ],
   "source": [
    "# Строим график среднего чека группы А\n",
    "plt.plot(cumulativeRevenueA['date'], cumulativeRevenueA['revenue']/cumulativeRevenueA['orders'], label='A')\n",
    "# Строим график среднего чека группы В\n",
    "plt.plot(cumulativeRevenueB['date'], cumulativeRevenueB['revenue']/cumulativeRevenueB['orders'], label='B')\n",
    "plt.xlabel('дни')\n",
    "plt.ylabel('средний чек')\n",
    "plt.title('кумулятивная средний чек по группам')\n",
    "plt.xticks(rotation=45)\n",
    "plt.legend()\n",
    "plt.show()"
   ]
  },
  {
   "cell_type": "markdown",
   "id": "d8f93ee8",
   "metadata": {},
   "source": [
    "Графики среднего чека к концу эксперимента становятся более стабильными. 17 августа также заметен сильный скачек в группе B, что вероятно связано с отдельной экстремально большой покупкой."
   ]
  },
  {
   "cell_type": "markdown",
   "id": "1c91e5a2",
   "metadata": {},
   "source": [
    "### 3. График относительного изменения кумулятивного среднего чека группы B к группе A.<a class=\"anchor\" id=\"9\"></a>"
   ]
  },
  {
   "cell_type": "code",
   "execution_count": 155,
   "id": "aab7e21c",
   "metadata": {},
   "outputs": [
    {
     "data": {
      "image/png": "[encoded data removed]",
      "text/plain": [
       "<Figure size 432x288 with 1 Axes>"
      ]
     },
     "metadata": {
      "needs_background": "light"
     },
     "output_type": "display_data"
    }
   ],
   "source": [
    "# собираем данные в одном датафрейме\n",
    "mergedCumulativeRevenue =cumulativeRevenueA.merge(cumulativeRevenueB, left_on='date',right_on='date', how='left', suffixes=['A', 'B'])\n",
    "\n",
    "# cтроим отношение средних чеков\n",
    "plt.plot(mergedCumulativeRevenue['date'], (mergedCumulativeRevenue['revenueB']/mergedCumulativeRevenue['ordersB'])/(mergedCumulativeRevenue['revenueA']/mergedCumulativeRevenue['ordersA'])-1)\n",
    "plt.xlabel('дни')\n",
    "plt.ylabel('относительное изменение')\n",
    "plt.title('Относительное изменение кумулятивного среднего чека группы В к группе А')\n",
    "plt.xticks(rotation=45)\n",
    "# добавляем ось X\n",
    "plt.axhline(y=0, color='black', linestyle='--')\n",
    "plt.show()"
   ]
  },
  {
   "cell_type": "markdown",
   "id": "2bd54cbd",
   "metadata": {},
   "source": [
    "График относительного изменения кумулятивного среднего чека показывает в начале эксперимента нестабильность. Далее резкий выброс 17 августа, и постепенное последующее снижение отставания группы А. К концу эксперимента средний чек группы В выше примерно на 25%."
   ]
  },
  {
   "cell_type": "markdown",
   "id": "8c3fe025",
   "metadata": {},
   "source": [
    "### 4. График кумулятивного среднего количества заказов по группам.<a class=\"anchor\" id=\"10\"></a>"
   ]
  },
  {
   "cell_type": "code",
   "execution_count": 156,
   "id": "20160e93",
   "metadata": {},
   "outputs": [
    {
     "data": {
      "image/png": "[encoded data removed]",
      "text/plain": [
       "<Figure size 432x288 with 1 Axes>"
      ]
     },
     "metadata": {
      "needs_background": "light"
     },
     "output_type": "display_data"
    }
   ],
   "source": [
    "# Строим график среднего количества заказов группы А\n",
    "plt.plot(cumulativeRevenueA['date'], cumulativeRevenueA['orders']/cumulativeRevenueA['visitors'], label='A')\n",
    "\n",
    "# Строим график среднего количества заказов группы B\n",
    "plt.plot(cumulativeRevenueB['date'], cumulativeRevenueB['orders']/cumulativeRevenueB['visitors'], label='B')\n",
    "plt.xlabel('дни')\n",
    "plt.ylabel('среднее количество заказов')\n",
    "plt.title('Кумулятивное среднее количество заказов по группам')\n",
    "plt.xticks(rotation=45)\n",
    "plt.legend()\n",
    "plt.show()"
   ]
  },
  {
   "cell_type": "markdown",
   "id": "2c8c54ba",
   "metadata": {},
   "source": [
    "Графики среднего количесства заказов по группам показывают, что показатели группы В выше примерно на 5 заказов на каждую 1000 посещений."
   ]
  },
  {
   "cell_type": "markdown",
   "id": "905814b6",
   "metadata": {},
   "source": [
    "### 5. График относительного изменения кумулятивного среднего количества заказов группы B к группе A.<a class=\"anchor\" id=\"11\"></a>"
   ]
  },
  {
   "cell_type": "code",
   "execution_count": 157,
   "id": "6273bfa5",
   "metadata": {},
   "outputs": [
    {
     "data": {
      "image/png": "[encoded data removed]",
      "text/plain": [
       "<Figure size 432x288 with 1 Axes>"
      ]
     },
     "metadata": {
      "needs_background": "light"
     },
     "output_type": "display_data"
    }
   ],
   "source": [
    "\n",
    "# cтроим отношение среднего количества заказов\n",
    "plt.plot(mergedCumulativeRevenue['date'], ((mergedCumulativeRevenue['ordersB']/mergedCumulativeRevenue['visitorsB'])/(mergedCumulativeRevenue['ordersA']/mergedCumulativeRevenue['visitorsA'])-1))\n",
    "plt.xticks(rotation=45)\n",
    "plt.xlabel('дни')\n",
    "plt.ylabel('относительное изменение')\n",
    "plt.title('Относительное изменение кумулятивного среднего количества заказов группы B к группе A')\n",
    "# добавляем ось X\n",
    "plt.axhline(y=0, color='black', linestyle='--')\n",
    "plt.show()"
   ]
  },
  {
   "cell_type": "markdown",
   "id": "81db1117",
   "metadata": {},
   "source": [
    "График относительного изменения среднего количества заказов также показывает что начиная с середины эксперимента кумулятивное среднее у группы В выше примерно на 15%."
   ]
  },
  {
   "cell_type": "markdown",
   "id": "76a60fab",
   "metadata": {},
   "source": [
    "### 6. Точечный график количества заказов по пользователям.<a class=\"anchor\" id=\"12\"></a>"
   ]
  },
  {
   "cell_type": "code",
   "execution_count": 158,
   "id": "1f2aaf93",
   "metadata": {},
   "outputs": [],
   "source": [
    "# готовим данные для построения графика. Группируем таблицу с заказами по visitorId\n",
    "ordersByUsers = orders.groupby('visitorId', as_index=False).agg({'transactionId': 'nunique'})\n",
    "\n",
    "\n",
    "ordersByUsers.columns = ['visitorId', 'orders']\n"
   ]
  },
  {
   "cell_type": "code",
   "execution_count": 159,
   "id": "5caab006",
   "metadata": {},
   "outputs": [
    {
     "data": {
      "image/png": "[encoded data removed]",
      "text/plain": [
       "<Figure size 432x288 with 1 Axes>"
      ]
     },
     "metadata": {
      "needs_background": "light"
     },
     "output_type": "display_data"
    }
   ],
   "source": [
    "# строим точечный график\n",
    "x_values = pd.Series(range(0,len(ordersByUsers)))\n",
    "\n",
    "plt.scatter(x_values, ordersByUsers['orders']) \n",
    "plt.ylabel('количество заказов')\n",
    "plt.title('Количество заказов по пользователям')\n",
    "plt.show()"
   ]
  },
  {
   "cell_type": "markdown",
   "id": "f6c3a7de",
   "metadata": {},
   "source": [
    "Основная масса покупателей ограничивались 1-2 заказами. Также видны явные выбросы в 5, 8 ,9 и даже 11 заказов, что может повлиять на результат одной из групп. "
   ]
  },
  {
   "cell_type": "markdown",
   "id": "b568f1cc",
   "metadata": {},
   "source": [
    "### 7. Вычисление 95-го и 99-го перцентилей количества заказов на пользователя. Выбор границы для определения аномальных пользователей.<a class=\"anchor\" id=\"13\"></a>"
   ]
  },
  {
   "cell_type": "code",
   "execution_count": 160,
   "id": "3c16f9d1",
   "metadata": {},
   "outputs": [
    {
     "name": "stdout",
     "output_type": "stream",
     "text": [
      "[2. 4.]\n"
     ]
    }
   ],
   "source": [
    "print(np.percentile(ordersByUsers['orders'], [95, 99]))"
   ]
  },
  {
   "cell_type": "markdown",
   "id": "314c7c46",
   "metadata": {},
   "source": [
    "1% всех пользователей совершили более 4 покупок. В качестве границы для отсечения аномальных пользователей определим порог 3 покупки. Все что выше - будем считать аномалиями."
   ]
  },
  {
   "cell_type": "markdown",
   "id": "e853a552",
   "metadata": {},
   "source": [
    "### 8. Точечный график стоимостей заказов.<a class=\"anchor\" id=\"14\"></a>"
   ]
  },
  {
   "cell_type": "code",
   "execution_count": 161,
   "id": "32575c09",
   "metadata": {},
   "outputs": [
    {
     "data": {
      "image/png": "[encoded data removed]",
      "text/plain": [
       "<Figure size 432x288 with 1 Axes>"
      ]
     },
     "metadata": {
      "needs_background": "light"
     },
     "output_type": "display_data"
    }
   ],
   "source": [
    "x_values = pd.Series(range(0,len(orders['revenue'])))\n",
    "plt.scatter(x_values, orders['revenue'])\n",
    "plt.ylabel('стоимость заказов')\n",
    "plt.title('график стоимости заказов')\n",
    "plt.show()"
   ]
  },
  {
   "cell_type": "code",
   "execution_count": 162,
   "id": "3024c6ec",
   "metadata": {},
   "outputs": [
    {
     "data": {
      "image/png": "[encoded data removed]",
      "text/plain": [
       "<Figure size 432x288 with 1 Axes>"
      ]
     },
     "metadata": {
      "needs_background": "light"
     },
     "output_type": "display_data"
    }
   ],
   "source": [
    "x_values = pd.Series(range(0,len(orders['revenue'])))\n",
    "plt.scatter(x_values, orders['revenue'])\n",
    "plt.ylabel('стоимость заказов')\n",
    "plt.title('график стоимости заказов')\n",
    "plt.ylim([0,100000])\n",
    "plt.show()"
   ]
  },
  {
   "cell_type": "code",
   "execution_count": 163,
   "id": "dd205b86",
   "metadata": {},
   "outputs": [
    {
     "data": {
      "text/plain": [
       "425     1294500\n",
       "1196     202740\n",
       "858       93940\n",
       "1136      92550\n",
       "744       86620\n",
       "Name: revenue, dtype: int64"
      ]
     },
     "execution_count": 163,
     "metadata": {},
     "output_type": "execute_result"
    }
   ],
   "source": [
    "orders['revenue'].sort_values(ascending=False).head(5)"
   ]
  },
  {
   "cell_type": "markdown",
   "id": "f92126bc",
   "metadata": {},
   "source": [
    "На графике видно экстремальное значение около 1,3 млн, что примерно в 430 раз больше медианы, которая составляет около 3000. Эта экстемально высокая покупка видимо является причиной выбросов которые мы видели на графиках."
   ]
  },
  {
   "cell_type": "markdown",
   "id": "f5052ec2",
   "metadata": {},
   "source": [
    "### 9. Вычисление 95-го и 99-го перцентилей стоимости заказов. Выбор границы для определения аномальных заказов.<a class=\"anchor\" id=\"15\"></a>"
   ]
  },
  {
   "cell_type": "code",
   "execution_count": 164,
   "id": "48fddf9e",
   "metadata": {},
   "outputs": [
    {
     "name": "stdout",
     "output_type": "stream",
     "text": [
      "[ 2978.  28000.  58233.2]\n"
     ]
    }
   ],
   "source": [
    "print(np.percentile(orders['revenue'], [50, 95, 99]))"
   ]
  },
  {
   "cell_type": "markdown",
   "id": "eaf61daa",
   "metadata": {},
   "source": [
    "Только 5 % покупок дороже 28000 рублей. Покупки больше 30000 рублей будем считать аномалиями."
   ]
  },
  {
   "cell_type": "markdown",
   "id": "0176212d",
   "metadata": {},
   "source": [
    "### 10. Вычисление статистической значимости различий в среднем количестве заказов между группами по «сырым» данным.<a class=\"anchor\" id=\"16\"></a>"
   ]
  },
  {
   "cell_type": "markdown",
   "id": "845d0bbe",
   "metadata": {},
   "source": [
    "Здесь и далее будем сравнивать полученный уровень статистической значимости различий с пороговым значением alpha = 0.05.\n",
    "\n",
    "Сформулируем нулевую гипотезу - статистически значимых различий в среднем количестве заказов между группами по «сырым» данным нет.\n",
    "\n",
    "Альтернативная гипотеза - такие различия есть."
   ]
  },
  {
   "cell_type": "code",
   "execution_count": 165,
   "id": "8dd237dc",
   "metadata": {},
   "outputs": [
    {
     "data": {
      "text/html": [
       "<div>\n",
       "<style scoped>\n",
       "    .dataframe tbody tr th:only-of-type {\n",
       "        vertical-align: middle;\n",
       "    }\n",
       "\n",
       "    .dataframe tbody tr th {\n",
       "        vertical-align: top;\n",
       "    }\n",
       "\n",
       "    .dataframe thead th {\n",
       "        text-align: right;\n",
       "    }\n",
       "</style>\n",
       "<table border=\"1\" class=\"dataframe\">\n",
       "  <thead>\n",
       "    <tr style=\"text-align: right;\">\n",
       "      <th></th>\n",
       "      <th>date</th>\n",
       "      <th>ordersPerDateA</th>\n",
       "      <th>revenuePerDateA</th>\n",
       "      <th>ordersPerDateB</th>\n",
       "      <th>revenuePerDateB</th>\n",
       "      <th>ordersCummulativeA</th>\n",
       "      <th>revenueCummulativeA</th>\n",
       "      <th>ordersCummulativeB</th>\n",
       "      <th>revenueCummulativeB</th>\n",
       "      <th>visitorsPerDateA</th>\n",
       "      <th>visitorsPerDateB</th>\n",
       "      <th>visitorsCummulativeA</th>\n",
       "      <th>visitorsCummulativeB</th>\n",
       "    </tr>\n",
       "  </thead>\n",
       "  <tbody>\n",
       "    <tr>\n",
       "      <th>0</th>\n",
       "      <td>2019-08-01</td>\n",
       "      <td>24</td>\n",
       "      <td>148579</td>\n",
       "      <td>21</td>\n",
       "      <td>101217</td>\n",
       "      <td>24</td>\n",
       "      <td>148579</td>\n",
       "      <td>21</td>\n",
       "      <td>101217</td>\n",
       "      <td>719</td>\n",
       "      <td>713</td>\n",
       "      <td>719</td>\n",
       "      <td>713</td>\n",
       "    </tr>\n",
       "    <tr>\n",
       "      <th>1</th>\n",
       "      <td>2019-08-02</td>\n",
       "      <td>20</td>\n",
       "      <td>93822</td>\n",
       "      <td>24</td>\n",
       "      <td>165531</td>\n",
       "      <td>44</td>\n",
       "      <td>242401</td>\n",
       "      <td>45</td>\n",
       "      <td>266748</td>\n",
       "      <td>619</td>\n",
       "      <td>581</td>\n",
       "      <td>1338</td>\n",
       "      <td>1294</td>\n",
       "    </tr>\n",
       "    <tr>\n",
       "      <th>2</th>\n",
       "      <td>2019-08-03</td>\n",
       "      <td>24</td>\n",
       "      <td>112473</td>\n",
       "      <td>16</td>\n",
       "      <td>114248</td>\n",
       "      <td>68</td>\n",
       "      <td>354874</td>\n",
       "      <td>61</td>\n",
       "      <td>380996</td>\n",
       "      <td>507</td>\n",
       "      <td>509</td>\n",
       "      <td>1845</td>\n",
       "      <td>1803</td>\n",
       "    </tr>\n",
       "    <tr>\n",
       "      <th>3</th>\n",
       "      <td>2019-08-04</td>\n",
       "      <td>16</td>\n",
       "      <td>70825</td>\n",
       "      <td>17</td>\n",
       "      <td>108571</td>\n",
       "      <td>84</td>\n",
       "      <td>425699</td>\n",
       "      <td>78</td>\n",
       "      <td>489567</td>\n",
       "      <td>717</td>\n",
       "      <td>770</td>\n",
       "      <td>2562</td>\n",
       "      <td>2573</td>\n",
       "    </tr>\n",
       "    <tr>\n",
       "      <th>4</th>\n",
       "      <td>2019-08-05</td>\n",
       "      <td>25</td>\n",
       "      <td>124218</td>\n",
       "      <td>23</td>\n",
       "      <td>92428</td>\n",
       "      <td>109</td>\n",
       "      <td>549917</td>\n",
       "      <td>101</td>\n",
       "      <td>581995</td>\n",
       "      <td>756</td>\n",
       "      <td>707</td>\n",
       "      <td>3318</td>\n",
       "      <td>3280</td>\n",
       "    </tr>\n",
       "  </tbody>\n",
       "</table>\n",
       "</div>"
      ],
      "text/plain": [
       "        date  ordersPerDateA  revenuePerDateA  ordersPerDateB  \\\n",
       "0 2019-08-01              24           148579              21   \n",
       "1 2019-08-02              20            93822              24   \n",
       "2 2019-08-03              24           112473              16   \n",
       "3 2019-08-04              16            70825              17   \n",
       "4 2019-08-05              25           124218              23   \n",
       "\n",
       "   revenuePerDateB  ordersCummulativeA  revenueCummulativeA  \\\n",
       "0           101217                  24               148579   \n",
       "1           165531                  44               242401   \n",
       "2           114248                  68               354874   \n",
       "3           108571                  84               425699   \n",
       "4            92428                 109               549917   \n",
       "\n",
       "   ordersCummulativeB  revenueCummulativeB  visitorsPerDateA  \\\n",
       "0                  21               101217               719   \n",
       "1                  45               266748               619   \n",
       "2                  61               380996               507   \n",
       "3                  78               489567               717   \n",
       "4                 101               581995               756   \n",
       "\n",
       "   visitorsPerDateB  visitorsCummulativeA  visitorsCummulativeB  \n",
       "0               713                   719                   713  \n",
       "1               581                  1338                  1294  \n",
       "2               509                  1845                  1803  \n",
       "3               770                  2562                  2573  \n",
       "4               707                  3318                  3280  "
      ]
     },
     "execution_count": 165,
     "metadata": {},
     "output_type": "execute_result"
    }
   ],
   "source": [
    "# подготовим таблицу с данными о куммулятивной и простой суммах выручки,\n",
    "# заказов и количеству посетителей по дням для каждой группы\n",
    "\n",
    "visitorsADaily = visitors[visitors['group'] == 'A'][['date', 'visitors']]\n",
    "visitorsADaily.columns = ['date', 'visitorsPerDateA']\n",
    "\n",
    "visitorsACummulative = visitorsADaily.apply(\n",
    "    lambda x: visitorsADaily[visitorsADaily['date'] <= x['date']].agg(\n",
    "        {'date': 'max', 'visitorsPerDateA': 'sum'}\n",
    "    ),\n",
    "    axis=1,\n",
    ")\n",
    "visitorsACummulative.columns = ['date', 'visitorsCummulativeA']\n",
    "\n",
    "visitorsBDaily = visitors[visitors['group'] == 'B'][['date', 'visitors']]\n",
    "visitorsBDaily.columns = ['date', 'visitorsPerDateB']\n",
    "\n",
    "visitorsBCummulative = visitorsBDaily.apply(\n",
    "    lambda x: visitorsBDaily[visitorsBDaily['date'] <= x['date']].agg(\n",
    "        {'date': 'max', 'visitorsPerDateB': 'sum'}\n",
    "    ),\n",
    "    axis=1,\n",
    ")\n",
    "visitorsBCummulative.columns = ['date', 'visitorsCummulativeB']\n",
    "\n",
    "ordersADaily = (\n",
    "    orders[orders['group'] == 'A'][['date', 'transactionId', 'visitorId', 'revenue']]\n",
    "    .groupby('date', as_index=False)\n",
    "    .agg({'transactionId': pd.Series.nunique, 'revenue': 'sum'})\n",
    ")\n",
    "ordersADaily.columns = ['date', 'ordersPerDateA', 'revenuePerDateA']\n",
    "\n",
    "ordersACummulative = ordersADaily.apply(\n",
    "    lambda x: ordersADaily[ordersADaily['date'] <= x['date']].agg(\n",
    "        {'date': 'max', 'ordersPerDateA': 'sum', 'revenuePerDateA': 'sum'}\n",
    "    ),\n",
    "    axis=1,\n",
    ").sort_values(by=['date'])\n",
    "ordersACummulative.columns = [\n",
    "    'date',\n",
    "    'ordersCummulativeA',\n",
    "    'revenueCummulativeA',\n",
    "]\n",
    "\n",
    "ordersBDaily = (\n",
    "    orders[orders['group'] == 'B'][['date', 'transactionId', 'visitorId', 'revenue']]\n",
    "    .groupby('date', as_index=False)\n",
    "    .agg({'transactionId': pd.Series.nunique, 'revenue': 'sum'})\n",
    ")\n",
    "ordersBDaily.columns = ['date', 'ordersPerDateB', 'revenuePerDateB']\n",
    "\n",
    "ordersBCummulative = ordersBDaily.apply(\n",
    "    lambda x: ordersBDaily[ordersBDaily['date'] <= x['date']].agg(\n",
    "        {'date': 'max', 'ordersPerDateB': 'sum', 'revenuePerDateB': 'sum'}\n",
    "    ),\n",
    "    axis=1,\n",
    ").sort_values(by=['date'])\n",
    "ordersBCummulative.columns = [\n",
    "    'date',\n",
    "    'ordersCummulativeB',\n",
    "    'revenueCummulativeB',\n",
    "]\n",
    "\n",
    "data = (\n",
    "    ordersADaily.merge(\n",
    "        ordersBDaily, left_on='date', right_on='date', how='left'\n",
    "    )\n",
    "    .merge(ordersACummulative, left_on='date', right_on='date', how='left')\n",
    "    .merge(ordersBCummulative, left_on='date', right_on='date', how='left')\n",
    "    .merge(visitorsADaily, left_on='date', right_on='date', how='left')\n",
    "    .merge(visitorsBDaily, left_on='date', right_on='date', how='left')\n",
    "    .merge(visitorsACummulative, left_on='date', right_on='date', how='left')\n",
    "    .merge(visitorsBCummulative, left_on='date', right_on='date', how='left')\n",
    ")\n",
    "\n",
    "data.head()"
   ]
  },
  {
   "cell_type": "code",
   "execution_count": 166,
   "id": "d6381294",
   "metadata": {},
   "outputs": [
    {
     "name": "stdout",
     "output_type": "stream",
     "text": [
      "0.017\n",
      "0.138\n"
     ]
    }
   ],
   "source": [
    "ordersByUsersA = (\n",
    "    orders[orders['group'] == 'A']\n",
    "    .groupby('visitorId', as_index=False)\n",
    "    .agg({'transactionId': pd.Series.nunique})\n",
    ")\n",
    "ordersByUsersA.columns = ['userId', 'orders']\n",
    "\n",
    "ordersByUsersB = (\n",
    "    orders[orders['group'] == 'B']\n",
    "    .groupby('visitorId', as_index=False)\n",
    "    .agg({'transactionId': pd.Series.nunique})\n",
    ")\n",
    "ordersByUsersB.columns = ['userId', 'orders']\n",
    "\n",
    "sampleA = pd.concat(\n",
    "    [\n",
    "        ordersByUsersA['orders'],\n",
    "        pd.Series(\n",
    "            0,\n",
    "            index=np.arange(\n",
    "                data['visitorsPerDateA'].sum() - len(ordersByUsersA['orders'])\n",
    "            ),\n",
    "            name='orders',\n",
    "        ),\n",
    "    ],\n",
    "    axis=0,\n",
    ")\n",
    "\n",
    "sampleB = pd.concat(\n",
    "    [\n",
    "        ordersByUsersB['orders'],\n",
    "        pd.Series(\n",
    "            0,\n",
    "            index=np.arange(\n",
    "                data['visitorsPerDateB'].sum() - len(ordersByUsersB['orders'])\n",
    "            ),\n",
    "            name='orders',\n",
    "        ),\n",
    "    ],\n",
    "    axis=0,\n",
    ")\n",
    "\n",
    "print(\"{0:.3f}\".format(stats.mannwhitneyu(sampleA, sampleB)[1]))\n",
    "\n",
    "print(\"{0:.3f}\".format(sampleB.mean() / sampleA.mean() - 1))\n"
   ]
  },
  {
   "cell_type": "markdown",
   "id": "ab684f6d",
   "metadata": {},
   "source": [
    "P-value значительно ниже порогового значения, отвергаем нулевую гипотезу, то есть данные по количеству покупок в гуппе В отличаются от данных, полученных в группе А. Среднее количество покупок в группе В на 13,8%  выше. "
   ]
  },
  {
   "cell_type": "markdown",
   "id": "7a0247d8",
   "metadata": {},
   "source": [
    "### 11. Вычисление статистической значимости различий в среднем чеке заказа между группами по «сырым» данным.<a class=\"anchor\" id=\"17\"></a>"
   ]
  },
  {
   "cell_type": "markdown",
   "id": "55f0b3ee",
   "metadata": {},
   "source": [
    "Сформулируем нулевую гипотезу - статистически значимых различий в среднем чеке заказа между группами по «сырым» данным нет.\n",
    "\n",
    "Альтернативная гипотеза - такие различия есть."
   ]
  },
  {
   "cell_type": "code",
   "execution_count": 167,
   "id": "608a02e4",
   "metadata": {},
   "outputs": [
    {
     "name": "stdout",
     "output_type": "stream",
     "text": [
      "0.729\n",
      "0.259\n"
     ]
    }
   ],
   "source": [
    "print('{0:.3f}'.format(stats.mannwhitneyu(orders[orders['group']=='A']['revenue'], orders[orders['group']=='B']['revenue'])[1]))\n",
    "print('{0:.3f}'.format(orders[orders['group']=='B']['revenue'].mean()/orders[orders['group']=='A']['revenue'].mean()-1))"
   ]
  },
  {
   "cell_type": "markdown",
   "id": "27133265",
   "metadata": {},
   "source": [
    "P-value 0,729 - не получилось отвергнуть нулевую гипотезу. Статистически значимых различий в данных о среднем чеке нет. Однако средний чек в группе В выше на 25%. По результатам построения точесного рафика среднего чека мы поняли то в данных присутсвуют сильные выбросы."
   ]
  },
  {
   "cell_type": "markdown",
   "id": "07ba8ade",
   "metadata": {},
   "source": [
    "### 12. Вычисление статистической значимости различий в среднем количестве заказов между группами по «очищенным» данным.<a class=\"anchor\" id=\"18\"></a>"
   ]
  },
  {
   "cell_type": "markdown",
   "id": "6e8bb6aa",
   "metadata": {},
   "source": [
    "Сформулируем нулевую гипотезу - статистически значимых различий в среднем количестве заказов между группами по «очищенным» данным нет.\n",
    "\n",
    "Альтернативная гипотеза - такие различия есть."
   ]
  },
  {
   "cell_type": "code",
   "execution_count": 168,
   "id": "6613547f",
   "metadata": {},
   "outputs": [
    {
     "name": "stdout",
     "output_type": "stream",
     "text": [
      "100\n"
     ]
    },
    {
     "data": {
      "text/plain": [
       "703       8300375\n",
       "1099    148427295\n",
       "18      199603092\n",
       "928     204675465\n",
       "1013    232979603\n",
       "dtype: int64"
      ]
     },
     "execution_count": 168,
     "metadata": {},
     "output_type": "execute_result"
    }
   ],
   "source": [
    "# выведем \"ненормальных\" пользователей в отдельный датафрейм\n",
    "# в качестве \"ненормальных\" возьмем пользователей, совершивших более 3 заказов \n",
    "# и пользователей, купивших более чем на 30000, а также тех, кто попал сразу в обе группы\n",
    "usersWithManyOrders = pd.concat(\n",
    "    [\n",
    "        ordersByUsersA[ordersByUsersA['orders'] > 3]['userId'],\n",
    "        ordersByUsersB[ordersByUsersB['orders'] > 3]['userId'],\n",
    "    ],\n",
    "    axis=0,\n",
    ")\n",
    "usersWithExpensiveOrders = orders[orders['revenue'] > 30000]['visitorId']\n",
    "\n",
    "usersInBothGroups = orders[orders['intersections']==True]['visitorId']\n",
    "\n",
    "abnormalUsers = (\n",
    "    pd.concat([usersWithManyOrders, usersWithExpensiveOrders,usersInBothGroups], axis=0)\n",
    "    .drop_duplicates()\n",
    "    .sort_values()\n",
    ")\n",
    "print(abnormalUsers.shape[0])\n",
    "abnormalUsers.head()"
   ]
  },
  {
   "cell_type": "code",
   "execution_count": 169,
   "id": "9810e87c",
   "metadata": {},
   "outputs": [],
   "source": [
    "sampleAFiltered = pd.concat(\n",
    "    [\n",
    "        ordersByUsersA[\n",
    "            np.logical_not(ordersByUsersA['userId'].isin(abnormalUsers))\n",
    "        ]['orders'],\n",
    "        pd.Series(\n",
    "            0,\n",
    "            index=np.arange(\n",
    "                data['visitorsPerDateA'].sum() - len(ordersByUsersA['orders'])\n",
    "            ),\n",
    "            name='orders',\n",
    "        ),\n",
    "    ],\n",
    "    axis=0,\n",
    ")\n",
    "\n",
    "sampleBFiltered = pd.concat(\n",
    "    [\n",
    "        ordersByUsersB[\n",
    "            np.logical_not(ordersByUsersB['userId'].isin(abnormalUsers))\n",
    "        ]['orders'],\n",
    "        pd.Series(\n",
    "            0,\n",
    "            index=np.arange(\n",
    "                data['visitorsPerDateB'].sum() - len(ordersByUsersB['orders'])\n",
    "            ),\n",
    "            name='orders',\n",
    "        ),\n",
    "    ],\n",
    "    axis=0,\n",
    ")"
   ]
  },
  {
   "cell_type": "code",
   "execution_count": 170,
   "id": "0520c728",
   "metadata": {},
   "outputs": [
    {
     "name": "stdout",
     "output_type": "stream",
     "text": [
      "0.013\n",
      "0.161\n"
     ]
    }
   ],
   "source": [
    "print('{0:.3f}'.format(stats.mannwhitneyu(sampleAFiltered, sampleBFiltered)[1]))\n",
    "print('{0:.3f}'.format(sampleBFiltered.mean()/sampleAFiltered.mean()-1))"
   ]
  },
  {
   "cell_type": "markdown",
   "id": "23fb8377",
   "metadata": {},
   "source": [
    "Данные после отчистки от аномальных пользователей принципиально не изменились. По прежнему отвергаем нулевую гипотезу. Группы отличаются по среднему количеству заказов. \n",
    "\n",
    "После отчистки лидерство группы бы урепилоль. Среднее количество заказов в ней больше на 16% по сравнению с группой А"
   ]
  },
  {
   "cell_type": "markdown",
   "id": "fa4d78e1",
   "metadata": {},
   "source": [
    "### 13. Вычисление статистической значимости различий в среднем чеке заказа между группами по «очищенным» данным.<a class=\"anchor\" id=\"19\"></a>"
   ]
  },
  {
   "cell_type": "markdown",
   "id": "00d8f585",
   "metadata": {},
   "source": [
    "Сформулируем нулевую гипотезу - статистически значимых различий в среднем чеке заказа между группами по «очищенным» данным нет.\n",
    "\n",
    "Альтернативная гипотеза - такие различия есть."
   ]
  },
  {
   "cell_type": "code",
   "execution_count": 171,
   "id": "7bbcd153",
   "metadata": {},
   "outputs": [
    {
     "name": "stdout",
     "output_type": "stream",
     "text": [
      "0.842\n",
      "-0.031\n"
     ]
    }
   ],
   "source": [
    "print(\n",
    "    '{0:.3f}'.format(\n",
    "        stats.mannwhitneyu(\n",
    "            orders[\n",
    "                np.logical_and(\n",
    "                    orders['group'] == 'A',\n",
    "                    np.logical_not(orders['visitorId'].isin(abnormalUsers)),\n",
    "                )\n",
    "            ]['revenue'],\n",
    "            orders[\n",
    "                np.logical_and(\n",
    "                    orders['group'] == 'B',\n",
    "                    np.logical_not(orders['visitorId'].isin(abnormalUsers)),\n",
    "                )\n",
    "            ]['revenue'],\n",
    "        )[1]\n",
    "    )\n",
    ")\n",
    "\n",
    "print(\n",
    "    \"{0:.3f}\".format(\n",
    "        orders[\n",
    "            np.logical_and(\n",
    "                orders['group'] == 'B',\n",
    "                np.logical_not(orders['visitorId'].isin(abnormalUsers)),\n",
    "            )\n",
    "        ]['revenue'].mean()\n",
    "        / orders[\n",
    "            np.logical_and(\n",
    "                orders['group'] == 'A',\n",
    "                np.logical_not(orders['visitorId'].isin(abnormalUsers)),\n",
    "            )\n",
    "        ]['revenue'].mean()\n",
    "        - 1\n",
    "    )\n",
    ")"
   ]
  },
  {
   "cell_type": "markdown",
   "id": "72438afa",
   "metadata": {},
   "source": [
    "Удаление аномальных значений позволило однозначно сделать вывод о том, что различий по среднему чеку медну группами нет. "
   ]
  },
  {
   "cell_type": "markdown",
   "id": "7b818046",
   "metadata": {},
   "source": [
    "## Решение по результатам теста. Общие выводы.<a class=\"anchor\" id=\"20\"></a>"
   ]
  },
  {
   "cell_type": "markdown",
   "id": "e92ba436",
   "metadata": {},
   "source": [
    "Для анализа было представлено набор данных по заказам и посещениям пользователей в период августа 2019 года. Пользователи были разделены на 2 группы, для одной (группа В) применялись изменения в рамках тестируемой гипотезы. Группа А выступала контрольной. Задачей исследования являлось установить - успешен ли проведенный тест. Исть ли статистически значимые улочшения по бизнес параметрам в группе В по сравнению с группой А.\n",
    "\n",
    "По проведенному анализу результатов теста можно сделать следующие выводы: тест необходимо остановить, зафиксировать победу группы В.\n",
    "Анализ показал что среднее количество заказов в группе В больше на 16 %.\n",
    "\n",
    "По результатам сравнения групп по среднему количеству заказов, с использованием критерия Манна-Уитни установлено статистически-значимое различие групп. \n",
    "\n",
    "Различий по размеру среднего чеку у групп не зафиксированно.\n",
    "\n",
    "По результатам проведенного ислледования можно дать рекомендацию внедрить изменения тестировавшиеся на группе В в продукт, это вероятно позволит повысить среднее количество заказов и выручку."
   ]
  }
 ],
 "metadata": {
  "ExecuteTimeLog": [
   {
    "duration": 1006,
    "start_time": "2022-11-08T06:48:39.220Z"
   },
   {
    "duration": 65,
    "start_time": "2022-11-08T06:48:40.228Z"
   },
   {
    "duration": 10,
    "start_time": "2022-11-08T06:48:40.295Z"
   },
   {
    "duration": 19,
    "start_time": "2022-11-08T06:48:40.307Z"
   },
   {
    "duration": 40,
    "start_time": "2022-11-08T06:48:40.328Z"
   },
   {
    "duration": 60,
    "start_time": "2022-11-08T06:48:40.370Z"
   },
   {
    "duration": 43,
    "start_time": "2022-11-08T06:48:40.432Z"
   },
   {
    "duration": 27,
    "start_time": "2022-11-08T06:48:40.477Z"
   },
   {
    "duration": 67,
    "start_time": "2022-11-08T06:48:40.506Z"
   },
   {
    "duration": 152,
    "start_time": "2022-11-08T06:48:40.577Z"
   },
   {
    "duration": 8,
    "start_time": "2022-11-08T06:48:40.730Z"
   },
   {
    "duration": 56,
    "start_time": "2022-11-08T06:48:40.740Z"
   },
   {
    "duration": 60,
    "start_time": "2022-11-08T06:48:40.798Z"
   },
   {
    "duration": 34,
    "start_time": "2022-11-08T06:48:40.859Z"
   },
   {
    "duration": 39,
    "start_time": "2022-11-08T06:48:40.895Z"
   },
   {
    "duration": 44,
    "start_time": "2022-11-08T06:48:40.935Z"
   },
   {
    "duration": 69,
    "start_time": "2022-11-08T06:48:40.981Z"
   },
   {
    "duration": 61,
    "start_time": "2022-11-08T06:48:41.052Z"
   },
   {
    "duration": 41,
    "start_time": "2022-11-08T06:48:41.115Z"
   },
   {
    "duration": 36,
    "start_time": "2022-11-08T06:48:41.157Z"
   },
   {
    "duration": 34,
    "start_time": "2022-11-08T06:48:41.195Z"
   },
   {
    "duration": 278,
    "start_time": "2022-11-08T06:48:41.231Z"
   },
   {
    "duration": 6,
    "start_time": "2022-11-08T06:48:41.510Z"
   },
   {
    "duration": 273,
    "start_time": "2022-11-08T06:48:41.518Z"
   },
   {
    "duration": 222,
    "start_time": "2022-11-08T06:48:41.793Z"
   },
   {
    "duration": 269,
    "start_time": "2022-11-08T06:48:42.016Z"
   },
   {
    "duration": 238,
    "start_time": "2022-11-08T06:48:42.287Z"
   },
   {
    "duration": 329,
    "start_time": "2022-11-08T06:48:42.529Z"
   },
   {
    "duration": 7,
    "start_time": "2022-11-08T06:48:42.860Z"
   },
   {
    "duration": 125,
    "start_time": "2022-11-08T06:48:42.868Z"
   },
   {
    "duration": 5,
    "start_time": "2022-11-08T06:48:42.994Z"
   },
   {
    "duration": 139,
    "start_time": "2022-11-08T06:48:43.001Z"
   },
   {
    "duration": 5,
    "start_time": "2022-11-08T06:48:43.142Z"
   },
   {
    "duration": 10,
    "start_time": "2022-11-08T06:48:43.148Z"
   },
   {
    "duration": 224,
    "start_time": "2022-11-08T06:48:43.159Z"
   },
   {
    "duration": 159,
    "start_time": "2022-11-08T06:48:43.385Z"
   },
   {
    "duration": 10,
    "start_time": "2022-11-08T06:48:43.546Z"
   },
   {
    "duration": 24,
    "start_time": "2022-11-08T06:48:43.557Z"
   },
   {
    "duration": 24,
    "start_time": "2022-11-08T06:48:43.582Z"
   },
   {
    "duration": 26,
    "start_time": "2022-11-08T06:48:43.607Z"
   },
   {
    "duration": 13,
    "start_time": "2022-11-08T06:48:43.635Z"
   },
   {
    "duration": 5,
    "start_time": "2022-11-08T07:42:35.837Z"
   },
   {
    "duration": 5,
    "start_time": "2022-11-08T07:42:41.769Z"
   }
  ],
  "kernelspec": {
   "display_name": "Python 3 (ipykernel)",
   "language": "python",
   "name": "python3"
  },
  "language_info": {
   "codemirror_mode": {
    "name": "ipython",
    "version": 3
   },
   "file_extension": ".py",
   "mimetype": "text/x-python",
   "name": "python",
   "nbconvert_exporter": "python",
   "pygments_lexer": "ipython3",
   "version": "3.9.7"
  },
  "toc": {
   "base_numbering": 1,
   "nav_menu": {},
   "number_sections": true,
   "sideBar": true,
   "skip_h1_title": true,
   "title_cell": "Table of Contents",
   "title_sidebar": "Contents",
   "toc_cell": false,
   "toc_position": {},
   "toc_section_display": true,
   "toc_window_display": false
  }
 },
 "nbformat": 4,
 "nbformat_minor": 5
}
