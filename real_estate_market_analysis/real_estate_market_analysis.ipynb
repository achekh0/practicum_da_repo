{
 "cells": [
  {
   "cell_type": "markdown",
   "metadata": {
    "toc": true
   },
   "source": [
    "<h1>Содержание<span class=\"tocSkip\"></span></h1>\n",
    "<div class=\"toc\"><ul class=\"toc-item\"><li><span><a href=\"#Изучение-данных-из-файла\" data-toc-modified-id=\"Изучение-данных-из-файла-1\"><span class=\"toc-item-num\">1&nbsp;&nbsp;</span>Изучение данных из файла</a></span><ul class=\"toc-item\"><li><span><a href=\"#Вывод\" data-toc-modified-id=\"Вывод-1.1\"><span class=\"toc-item-num\">1.1&nbsp;&nbsp;</span>Вывод</a></span></li></ul></li><li><span><a href=\"#Предобработка-данных\" data-toc-modified-id=\"Предобработка-данных-2\"><span class=\"toc-item-num\">2&nbsp;&nbsp;</span>Предобработка данных</a></span></li><li><span><a href=\"#Расчёты-и-добавление-результатов-в-таблицу\" data-toc-modified-id=\"Расчёты-и-добавление-результатов-в-таблицу-3\"><span class=\"toc-item-num\">3&nbsp;&nbsp;</span>Расчёты и добавление результатов в таблицу</a></span></li><li><span><a href=\"#Исследовательский-анализ-данных\" data-toc-modified-id=\"Исследовательский-анализ-данных-4\"><span class=\"toc-item-num\">4&nbsp;&nbsp;</span>Исследовательский анализ данных</a></span></li><li><span><a href=\"#Общий-вывод\" data-toc-modified-id=\"Общий-вывод-5\"><span class=\"toc-item-num\">5&nbsp;&nbsp;</span>Общий вывод</a></span></li><li><span><a href=\"#Чек-лист-готовности-проекта\" data-toc-modified-id=\"Чек-лист-готовности-проекта-6\"><span class=\"toc-item-num\">6&nbsp;&nbsp;</span>Чек-лист готовности проекта</a></span></li></ul></div>"
   ]
  },
  {
   "cell_type": "markdown",
   "metadata": {},
   "source": [
    "# Исследование рынка недвижимости на примере данных сервиса Яндекс Недвижимость\n",
    "\n",
    "Для анализа имеются данные сервиса Яндекc Недвижимость — архив объявлений о продаже квартир в Санкт-Петербурге и соседних населённых пунктах за несколько лет. Задача исследования — установить параметры, позволяющие определять рыночную стоимость объектов недвижимости. \n",
    "\n",
    "По каждой квартире на продажу доступны два вида данных. Первые вписаны пользователем, вторые получены автоматически на основе картографических данных. Например, расстояние до центра, аэропорта, ближайшего парка и водоёма. "
   ]
  },
  {
   "cell_type": "markdown",
   "metadata": {},
   "source": [
    "## Изучение данных из файла"
   ]
  },
  {
   "cell_type": "markdown",
   "metadata": {},
   "source": [
    "Изучим данные, применяя методы .head(),info() и .describe()"
   ]
  },
  {
   "cell_type": "code",
   "execution_count": 1,
   "metadata": {},
   "outputs": [
    {
     "data": {
      "text/html": [
       "<div>\n",
       "<style scoped>\n",
       "    .dataframe tbody tr th:only-of-type {\n",
       "        vertical-align: middle;\n",
       "    }\n",
       "\n",
       "    .dataframe tbody tr th {\n",
       "        vertical-align: top;\n",
       "    }\n",
       "\n",
       "    .dataframe thead th {\n",
       "        text-align: right;\n",
       "    }\n",
       "</style>\n",
       "<table border=\"1\" class=\"dataframe\">\n",
       "  <thead>\n",
       "    <tr style=\"text-align: right;\">\n",
       "      <th></th>\n",
       "      <th>total_images</th>\n",
       "      <th>last_price</th>\n",
       "      <th>total_area</th>\n",
       "      <th>first_day_exposition</th>\n",
       "      <th>rooms</th>\n",
       "      <th>ceiling_height</th>\n",
       "      <th>floors_total</th>\n",
       "      <th>living_area</th>\n",
       "      <th>floor</th>\n",
       "      <th>is_apartment</th>\n",
       "      <th>...</th>\n",
       "      <th>kitchen_area</th>\n",
       "      <th>balcony</th>\n",
       "      <th>locality_name</th>\n",
       "      <th>airports_nearest</th>\n",
       "      <th>cityCenters_nearest</th>\n",
       "      <th>parks_around3000</th>\n",
       "      <th>parks_nearest</th>\n",
       "      <th>ponds_around3000</th>\n",
       "      <th>ponds_nearest</th>\n",
       "      <th>days_exposition</th>\n",
       "    </tr>\n",
       "  </thead>\n",
       "  <tbody>\n",
       "    <tr>\n",
       "      <th>0</th>\n",
       "      <td>20</td>\n",
       "      <td>13000000.0</td>\n",
       "      <td>108.0</td>\n",
       "      <td>2019-03-07T00:00:00</td>\n",
       "      <td>3</td>\n",
       "      <td>2.70</td>\n",
       "      <td>16.0</td>\n",
       "      <td>51.0</td>\n",
       "      <td>8</td>\n",
       "      <td>NaN</td>\n",
       "      <td>...</td>\n",
       "      <td>25.0</td>\n",
       "      <td>NaN</td>\n",
       "      <td>Санкт-Петербург</td>\n",
       "      <td>18863.0</td>\n",
       "      <td>16028.0</td>\n",
       "      <td>1.0</td>\n",
       "      <td>482.0</td>\n",
       "      <td>2.0</td>\n",
       "      <td>755.0</td>\n",
       "      <td>NaN</td>\n",
       "    </tr>\n",
       "    <tr>\n",
       "      <th>1</th>\n",
       "      <td>7</td>\n",
       "      <td>3350000.0</td>\n",
       "      <td>40.4</td>\n",
       "      <td>2018-12-04T00:00:00</td>\n",
       "      <td>1</td>\n",
       "      <td>NaN</td>\n",
       "      <td>11.0</td>\n",
       "      <td>18.6</td>\n",
       "      <td>1</td>\n",
       "      <td>NaN</td>\n",
       "      <td>...</td>\n",
       "      <td>11.0</td>\n",
       "      <td>2.0</td>\n",
       "      <td>посёлок Шушары</td>\n",
       "      <td>12817.0</td>\n",
       "      <td>18603.0</td>\n",
       "      <td>0.0</td>\n",
       "      <td>NaN</td>\n",
       "      <td>0.0</td>\n",
       "      <td>NaN</td>\n",
       "      <td>81.0</td>\n",
       "    </tr>\n",
       "    <tr>\n",
       "      <th>2</th>\n",
       "      <td>10</td>\n",
       "      <td>5196000.0</td>\n",
       "      <td>56.0</td>\n",
       "      <td>2015-08-20T00:00:00</td>\n",
       "      <td>2</td>\n",
       "      <td>NaN</td>\n",
       "      <td>5.0</td>\n",
       "      <td>34.3</td>\n",
       "      <td>4</td>\n",
       "      <td>NaN</td>\n",
       "      <td>...</td>\n",
       "      <td>8.3</td>\n",
       "      <td>0.0</td>\n",
       "      <td>Санкт-Петербург</td>\n",
       "      <td>21741.0</td>\n",
       "      <td>13933.0</td>\n",
       "      <td>1.0</td>\n",
       "      <td>90.0</td>\n",
       "      <td>2.0</td>\n",
       "      <td>574.0</td>\n",
       "      <td>558.0</td>\n",
       "    </tr>\n",
       "    <tr>\n",
       "      <th>3</th>\n",
       "      <td>0</td>\n",
       "      <td>64900000.0</td>\n",
       "      <td>159.0</td>\n",
       "      <td>2015-07-24T00:00:00</td>\n",
       "      <td>3</td>\n",
       "      <td>NaN</td>\n",
       "      <td>14.0</td>\n",
       "      <td>NaN</td>\n",
       "      <td>9</td>\n",
       "      <td>NaN</td>\n",
       "      <td>...</td>\n",
       "      <td>NaN</td>\n",
       "      <td>0.0</td>\n",
       "      <td>Санкт-Петербург</td>\n",
       "      <td>28098.0</td>\n",
       "      <td>6800.0</td>\n",
       "      <td>2.0</td>\n",
       "      <td>84.0</td>\n",
       "      <td>3.0</td>\n",
       "      <td>234.0</td>\n",
       "      <td>424.0</td>\n",
       "    </tr>\n",
       "    <tr>\n",
       "      <th>4</th>\n",
       "      <td>2</td>\n",
       "      <td>10000000.0</td>\n",
       "      <td>100.0</td>\n",
       "      <td>2018-06-19T00:00:00</td>\n",
       "      <td>2</td>\n",
       "      <td>3.03</td>\n",
       "      <td>14.0</td>\n",
       "      <td>32.0</td>\n",
       "      <td>13</td>\n",
       "      <td>NaN</td>\n",
       "      <td>...</td>\n",
       "      <td>41.0</td>\n",
       "      <td>NaN</td>\n",
       "      <td>Санкт-Петербург</td>\n",
       "      <td>31856.0</td>\n",
       "      <td>8098.0</td>\n",
       "      <td>2.0</td>\n",
       "      <td>112.0</td>\n",
       "      <td>1.0</td>\n",
       "      <td>48.0</td>\n",
       "      <td>121.0</td>\n",
       "    </tr>\n",
       "  </tbody>\n",
       "</table>\n",
       "<p>5 rows × 22 columns</p>\n",
       "</div>"
      ],
      "text/plain": [
       "   total_images  last_price  total_area first_day_exposition  rooms  \\\n",
       "0            20  13000000.0       108.0  2019-03-07T00:00:00      3   \n",
       "1             7   3350000.0        40.4  2018-12-04T00:00:00      1   \n",
       "2            10   5196000.0        56.0  2015-08-20T00:00:00      2   \n",
       "3             0  64900000.0       159.0  2015-07-24T00:00:00      3   \n",
       "4             2  10000000.0       100.0  2018-06-19T00:00:00      2   \n",
       "\n",
       "   ceiling_height  floors_total  living_area  floor is_apartment  ...  \\\n",
       "0            2.70          16.0         51.0      8          NaN  ...   \n",
       "1             NaN          11.0         18.6      1          NaN  ...   \n",
       "2             NaN           5.0         34.3      4          NaN  ...   \n",
       "3             NaN          14.0          NaN      9          NaN  ...   \n",
       "4            3.03          14.0         32.0     13          NaN  ...   \n",
       "\n",
       "   kitchen_area  balcony    locality_name  airports_nearest  \\\n",
       "0          25.0      NaN  Санкт-Петербург           18863.0   \n",
       "1          11.0      2.0   посёлок Шушары           12817.0   \n",
       "2           8.3      0.0  Санкт-Петербург           21741.0   \n",
       "3           NaN      0.0  Санкт-Петербург           28098.0   \n",
       "4          41.0      NaN  Санкт-Петербург           31856.0   \n",
       "\n",
       "  cityCenters_nearest  parks_around3000  parks_nearest  ponds_around3000  \\\n",
       "0             16028.0               1.0          482.0               2.0   \n",
       "1             18603.0               0.0            NaN               0.0   \n",
       "2             13933.0               1.0           90.0               2.0   \n",
       "3              6800.0               2.0           84.0               3.0   \n",
       "4              8098.0               2.0          112.0               1.0   \n",
       "\n",
       "   ponds_nearest  days_exposition  \n",
       "0          755.0              NaN  \n",
       "1            NaN             81.0  \n",
       "2          574.0            558.0  \n",
       "3          234.0            424.0  \n",
       "4           48.0            121.0  \n",
       "\n",
       "[5 rows x 22 columns]"
      ]
     },
     "execution_count": 1,
     "metadata": {},
     "output_type": "execute_result"
    }
   ],
   "source": [
    "import pandas as pd\n",
    "import numpy as np\n",
    "import seaborn as sns\n",
    "import matplotlib.pyplot as plt\n",
    "\n",
    "df=pd.read_csv('real_estate_data.csv',sep='\\t')\n",
    "df.head()"
   ]
  },
  {
   "cell_type": "code",
   "execution_count": 2,
   "metadata": {},
   "outputs": [
    {
     "name": "stdout",
     "output_type": "stream",
     "text": [
      "<class 'pandas.core.frame.DataFrame'>\n",
      "RangeIndex: 23699 entries, 0 to 23698\n",
      "Data columns (total 22 columns):\n",
      " #   Column                Non-Null Count  Dtype  \n",
      "---  ------                --------------  -----  \n",
      " 0   total_images          23699 non-null  int64  \n",
      " 1   last_price            23699 non-null  float64\n",
      " 2   total_area            23699 non-null  float64\n",
      " 3   first_day_exposition  23699 non-null  object \n",
      " 4   rooms                 23699 non-null  int64  \n",
      " 5   ceiling_height        14504 non-null  float64\n",
      " 6   floors_total          23613 non-null  float64\n",
      " 7   living_area           21796 non-null  float64\n",
      " 8   floor                 23699 non-null  int64  \n",
      " 9   is_apartment          2775 non-null   object \n",
      " 10  studio                23699 non-null  bool   \n",
      " 11  open_plan             23699 non-null  bool   \n",
      " 12  kitchen_area          21421 non-null  float64\n",
      " 13  balcony               12180 non-null  float64\n",
      " 14  locality_name         23650 non-null  object \n",
      " 15  airports_nearest      18157 non-null  float64\n",
      " 16  cityCenters_nearest   18180 non-null  float64\n",
      " 17  parks_around3000      18181 non-null  float64\n",
      " 18  parks_nearest         8079 non-null   float64\n",
      " 19  ponds_around3000      18181 non-null  float64\n",
      " 20  ponds_nearest         9110 non-null   float64\n",
      " 21  days_exposition       20518 non-null  float64\n",
      "dtypes: bool(2), float64(14), int64(3), object(3)\n",
      "memory usage: 3.7+ MB\n"
     ]
    }
   ],
   "source": [
    "df.info()"
   ]
  },
  {
   "cell_type": "code",
   "execution_count": 3,
   "metadata": {},
   "outputs": [
    {
     "data": {
      "text/html": [
       "<div>\n",
       "<style scoped>\n",
       "    .dataframe tbody tr th:only-of-type {\n",
       "        vertical-align: middle;\n",
       "    }\n",
       "\n",
       "    .dataframe tbody tr th {\n",
       "        vertical-align: top;\n",
       "    }\n",
       "\n",
       "    .dataframe thead th {\n",
       "        text-align: right;\n",
       "    }\n",
       "</style>\n",
       "<table border=\"1\" class=\"dataframe\">\n",
       "  <thead>\n",
       "    <tr style=\"text-align: right;\">\n",
       "      <th></th>\n",
       "      <th>total_images</th>\n",
       "      <th>last_price</th>\n",
       "      <th>total_area</th>\n",
       "      <th>rooms</th>\n",
       "      <th>ceiling_height</th>\n",
       "      <th>floors_total</th>\n",
       "      <th>living_area</th>\n",
       "      <th>floor</th>\n",
       "      <th>kitchen_area</th>\n",
       "      <th>balcony</th>\n",
       "      <th>airports_nearest</th>\n",
       "      <th>cityCenters_nearest</th>\n",
       "      <th>parks_around3000</th>\n",
       "      <th>parks_nearest</th>\n",
       "      <th>ponds_around3000</th>\n",
       "      <th>ponds_nearest</th>\n",
       "      <th>days_exposition</th>\n",
       "    </tr>\n",
       "  </thead>\n",
       "  <tbody>\n",
       "    <tr>\n",
       "      <th>count</th>\n",
       "      <td>23699.000000</td>\n",
       "      <td>2.369900e+04</td>\n",
       "      <td>23699.000000</td>\n",
       "      <td>23699.000000</td>\n",
       "      <td>14504.000000</td>\n",
       "      <td>23613.000000</td>\n",
       "      <td>21796.000000</td>\n",
       "      <td>23699.000000</td>\n",
       "      <td>21421.000000</td>\n",
       "      <td>12180.000000</td>\n",
       "      <td>18157.000000</td>\n",
       "      <td>18180.000000</td>\n",
       "      <td>18181.000000</td>\n",
       "      <td>8079.000000</td>\n",
       "      <td>18181.000000</td>\n",
       "      <td>9110.000000</td>\n",
       "      <td>20518.000000</td>\n",
       "    </tr>\n",
       "    <tr>\n",
       "      <th>mean</th>\n",
       "      <td>9.858475</td>\n",
       "      <td>6.541549e+06</td>\n",
       "      <td>60.348651</td>\n",
       "      <td>2.070636</td>\n",
       "      <td>2.771499</td>\n",
       "      <td>10.673824</td>\n",
       "      <td>34.457852</td>\n",
       "      <td>5.892358</td>\n",
       "      <td>10.569807</td>\n",
       "      <td>1.150082</td>\n",
       "      <td>28793.672193</td>\n",
       "      <td>14191.277833</td>\n",
       "      <td>0.611408</td>\n",
       "      <td>490.804555</td>\n",
       "      <td>0.770255</td>\n",
       "      <td>517.980900</td>\n",
       "      <td>180.888634</td>\n",
       "    </tr>\n",
       "    <tr>\n",
       "      <th>std</th>\n",
       "      <td>5.682529</td>\n",
       "      <td>1.088701e+07</td>\n",
       "      <td>35.654083</td>\n",
       "      <td>1.078405</td>\n",
       "      <td>1.261056</td>\n",
       "      <td>6.597173</td>\n",
       "      <td>22.030445</td>\n",
       "      <td>4.885249</td>\n",
       "      <td>5.905438</td>\n",
       "      <td>1.071300</td>\n",
       "      <td>12630.880622</td>\n",
       "      <td>8608.386210</td>\n",
       "      <td>0.802074</td>\n",
       "      <td>342.317995</td>\n",
       "      <td>0.938346</td>\n",
       "      <td>277.720643</td>\n",
       "      <td>219.727988</td>\n",
       "    </tr>\n",
       "    <tr>\n",
       "      <th>min</th>\n",
       "      <td>0.000000</td>\n",
       "      <td>1.219000e+04</td>\n",
       "      <td>12.000000</td>\n",
       "      <td>0.000000</td>\n",
       "      <td>1.000000</td>\n",
       "      <td>1.000000</td>\n",
       "      <td>2.000000</td>\n",
       "      <td>1.000000</td>\n",
       "      <td>1.300000</td>\n",
       "      <td>0.000000</td>\n",
       "      <td>0.000000</td>\n",
       "      <td>181.000000</td>\n",
       "      <td>0.000000</td>\n",
       "      <td>1.000000</td>\n",
       "      <td>0.000000</td>\n",
       "      <td>13.000000</td>\n",
       "      <td>1.000000</td>\n",
       "    </tr>\n",
       "    <tr>\n",
       "      <th>25%</th>\n",
       "      <td>6.000000</td>\n",
       "      <td>3.400000e+06</td>\n",
       "      <td>40.000000</td>\n",
       "      <td>1.000000</td>\n",
       "      <td>2.520000</td>\n",
       "      <td>5.000000</td>\n",
       "      <td>18.600000</td>\n",
       "      <td>2.000000</td>\n",
       "      <td>7.000000</td>\n",
       "      <td>0.000000</td>\n",
       "      <td>18585.000000</td>\n",
       "      <td>9238.000000</td>\n",
       "      <td>0.000000</td>\n",
       "      <td>288.000000</td>\n",
       "      <td>0.000000</td>\n",
       "      <td>294.000000</td>\n",
       "      <td>45.000000</td>\n",
       "    </tr>\n",
       "    <tr>\n",
       "      <th>50%</th>\n",
       "      <td>9.000000</td>\n",
       "      <td>4.650000e+06</td>\n",
       "      <td>52.000000</td>\n",
       "      <td>2.000000</td>\n",
       "      <td>2.650000</td>\n",
       "      <td>9.000000</td>\n",
       "      <td>30.000000</td>\n",
       "      <td>4.000000</td>\n",
       "      <td>9.100000</td>\n",
       "      <td>1.000000</td>\n",
       "      <td>26726.000000</td>\n",
       "      <td>13098.500000</td>\n",
       "      <td>0.000000</td>\n",
       "      <td>455.000000</td>\n",
       "      <td>1.000000</td>\n",
       "      <td>502.000000</td>\n",
       "      <td>95.000000</td>\n",
       "    </tr>\n",
       "    <tr>\n",
       "      <th>75%</th>\n",
       "      <td>14.000000</td>\n",
       "      <td>6.800000e+06</td>\n",
       "      <td>69.900000</td>\n",
       "      <td>3.000000</td>\n",
       "      <td>2.800000</td>\n",
       "      <td>16.000000</td>\n",
       "      <td>42.300000</td>\n",
       "      <td>8.000000</td>\n",
       "      <td>12.000000</td>\n",
       "      <td>2.000000</td>\n",
       "      <td>37273.000000</td>\n",
       "      <td>16293.000000</td>\n",
       "      <td>1.000000</td>\n",
       "      <td>612.000000</td>\n",
       "      <td>1.000000</td>\n",
       "      <td>729.000000</td>\n",
       "      <td>232.000000</td>\n",
       "    </tr>\n",
       "    <tr>\n",
       "      <th>max</th>\n",
       "      <td>50.000000</td>\n",
       "      <td>7.630000e+08</td>\n",
       "      <td>900.000000</td>\n",
       "      <td>19.000000</td>\n",
       "      <td>100.000000</td>\n",
       "      <td>60.000000</td>\n",
       "      <td>409.700000</td>\n",
       "      <td>33.000000</td>\n",
       "      <td>112.000000</td>\n",
       "      <td>5.000000</td>\n",
       "      <td>84869.000000</td>\n",
       "      <td>65968.000000</td>\n",
       "      <td>3.000000</td>\n",
       "      <td>3190.000000</td>\n",
       "      <td>3.000000</td>\n",
       "      <td>1344.000000</td>\n",
       "      <td>1580.000000</td>\n",
       "    </tr>\n",
       "  </tbody>\n",
       "</table>\n",
       "</div>"
      ],
      "text/plain": [
       "       total_images    last_price    total_area         rooms  ceiling_height  \\\n",
       "count  23699.000000  2.369900e+04  23699.000000  23699.000000    14504.000000   \n",
       "mean       9.858475  6.541549e+06     60.348651      2.070636        2.771499   \n",
       "std        5.682529  1.088701e+07     35.654083      1.078405        1.261056   \n",
       "min        0.000000  1.219000e+04     12.000000      0.000000        1.000000   \n",
       "25%        6.000000  3.400000e+06     40.000000      1.000000        2.520000   \n",
       "50%        9.000000  4.650000e+06     52.000000      2.000000        2.650000   \n",
       "75%       14.000000  6.800000e+06     69.900000      3.000000        2.800000   \n",
       "max       50.000000  7.630000e+08    900.000000     19.000000      100.000000   \n",
       "\n",
       "       floors_total   living_area         floor  kitchen_area       balcony  \\\n",
       "count  23613.000000  21796.000000  23699.000000  21421.000000  12180.000000   \n",
       "mean      10.673824     34.457852      5.892358     10.569807      1.150082   \n",
       "std        6.597173     22.030445      4.885249      5.905438      1.071300   \n",
       "min        1.000000      2.000000      1.000000      1.300000      0.000000   \n",
       "25%        5.000000     18.600000      2.000000      7.000000      0.000000   \n",
       "50%        9.000000     30.000000      4.000000      9.100000      1.000000   \n",
       "75%       16.000000     42.300000      8.000000     12.000000      2.000000   \n",
       "max       60.000000    409.700000     33.000000    112.000000      5.000000   \n",
       "\n",
       "       airports_nearest  cityCenters_nearest  parks_around3000  parks_nearest  \\\n",
       "count      18157.000000         18180.000000      18181.000000    8079.000000   \n",
       "mean       28793.672193         14191.277833          0.611408     490.804555   \n",
       "std        12630.880622          8608.386210          0.802074     342.317995   \n",
       "min            0.000000           181.000000          0.000000       1.000000   \n",
       "25%        18585.000000          9238.000000          0.000000     288.000000   \n",
       "50%        26726.000000         13098.500000          0.000000     455.000000   \n",
       "75%        37273.000000         16293.000000          1.000000     612.000000   \n",
       "max        84869.000000         65968.000000          3.000000    3190.000000   \n",
       "\n",
       "       ponds_around3000  ponds_nearest  days_exposition  \n",
       "count      18181.000000    9110.000000     20518.000000  \n",
       "mean           0.770255     517.980900       180.888634  \n",
       "std            0.938346     277.720643       219.727988  \n",
       "min            0.000000      13.000000         1.000000  \n",
       "25%            0.000000     294.000000        45.000000  \n",
       "50%            1.000000     502.000000        95.000000  \n",
       "75%            1.000000     729.000000       232.000000  \n",
       "max            3.000000    1344.000000      1580.000000  "
      ]
     },
     "execution_count": 3,
     "metadata": {},
     "output_type": "execute_result"
    }
   ],
   "source": [
    "df.describe()"
   ]
  },
  {
   "cell_type": "code",
   "execution_count": 4,
   "metadata": {},
   "outputs": [
    {
     "data": {
      "text/plain": [
       "total_images                0\n",
       "last_price                  0\n",
       "total_area                  0\n",
       "first_day_exposition        0\n",
       "rooms                       0\n",
       "ceiling_height           9195\n",
       "floors_total               86\n",
       "living_area              1903\n",
       "floor                       0\n",
       "is_apartment            20924\n",
       "studio                      0\n",
       "open_plan                   0\n",
       "kitchen_area             2278\n",
       "balcony                 11519\n",
       "locality_name              49\n",
       "airports_nearest         5542\n",
       "cityCenters_nearest      5519\n",
       "parks_around3000         5518\n",
       "parks_nearest           15620\n",
       "ponds_around3000         5518\n",
       "ponds_nearest           14589\n",
       "days_exposition          3181\n",
       "dtype: int64"
      ]
     },
     "execution_count": 4,
     "metadata": {},
     "output_type": "execute_result"
    }
   ],
   "source": [
    "df.isna().sum()\n"
   ]
  },
  {
   "cell_type": "code",
   "execution_count": 5,
   "metadata": {},
   "outputs": [
    {
     "data": {
      "text/html": [
       "<style type=\"text/css\">\n",
       "#T_5f35e_row0_col0, #T_5f35e_row1_col0, #T_5f35e_row2_col0, #T_5f35e_row3_col0, #T_5f35e_row4_col0, #T_5f35e_row8_col0, #T_5f35e_row10_col0, #T_5f35e_row11_col0, #T_5f35e_row14_col0 {\n",
       "  background-color: #3b4cc0;\n",
       "  color: #f1f1f1;\n",
       "}\n",
       "#T_5f35e_row5_col0 {\n",
       "  background-color: #ccd9ed;\n",
       "  color: #000000;\n",
       "}\n",
       "#T_5f35e_row6_col0 {\n",
       "  background-color: #3c4ec2;\n",
       "  color: #f1f1f1;\n",
       "}\n",
       "#T_5f35e_row7_col0 {\n",
       "  background-color: #5673e0;\n",
       "  color: #f1f1f1;\n",
       "}\n",
       "#T_5f35e_row9_col0 {\n",
       "  background-color: #b40426;\n",
       "  color: #f1f1f1;\n",
       "}\n",
       "#T_5f35e_row12_col0 {\n",
       "  background-color: #5b7ae5;\n",
       "  color: #f1f1f1;\n",
       "}\n",
       "#T_5f35e_row13_col0 {\n",
       "  background-color: #e9d5cb;\n",
       "  color: #000000;\n",
       "}\n",
       "#T_5f35e_row15_col0, #T_5f35e_row16_col0, #T_5f35e_row17_col0, #T_5f35e_row19_col0 {\n",
       "  background-color: #92b4fe;\n",
       "  color: #000000;\n",
       "}\n",
       "#T_5f35e_row18_col0 {\n",
       "  background-color: #f49a7b;\n",
       "  color: #000000;\n",
       "}\n",
       "#T_5f35e_row20_col0 {\n",
       "  background-color: #f7ad90;\n",
       "  color: #000000;\n",
       "}\n",
       "#T_5f35e_row21_col0 {\n",
       "  background-color: #6a8bef;\n",
       "  color: #f1f1f1;\n",
       "}\n",
       "</style>\n",
       "<table id=\"T_5f35e_\">\n",
       "  <thead>\n",
       "    <tr>\n",
       "      <th class=\"blank level0\" >&nbsp;</th>\n",
       "      <th class=\"col_heading level0 col0\" >NaNs, %</th>\n",
       "    </tr>\n",
       "  </thead>\n",
       "  <tbody>\n",
       "    <tr>\n",
       "      <th id=\"T_5f35e_level0_row0\" class=\"row_heading level0 row0\" >total_images</th>\n",
       "      <td id=\"T_5f35e_row0_col0\" class=\"data row0 col0\" >0.00</td>\n",
       "    </tr>\n",
       "    <tr>\n",
       "      <th id=\"T_5f35e_level0_row1\" class=\"row_heading level0 row1\" >last_price</th>\n",
       "      <td id=\"T_5f35e_row1_col0\" class=\"data row1 col0\" >0.00</td>\n",
       "    </tr>\n",
       "    <tr>\n",
       "      <th id=\"T_5f35e_level0_row2\" class=\"row_heading level0 row2\" >total_area</th>\n",
       "      <td id=\"T_5f35e_row2_col0\" class=\"data row2 col0\" >0.00</td>\n",
       "    </tr>\n",
       "    <tr>\n",
       "      <th id=\"T_5f35e_level0_row3\" class=\"row_heading level0 row3\" >first_day_exposition</th>\n",
       "      <td id=\"T_5f35e_row3_col0\" class=\"data row3 col0\" >0.00</td>\n",
       "    </tr>\n",
       "    <tr>\n",
       "      <th id=\"T_5f35e_level0_row4\" class=\"row_heading level0 row4\" >rooms</th>\n",
       "      <td id=\"T_5f35e_row4_col0\" class=\"data row4 col0\" >0.00</td>\n",
       "    </tr>\n",
       "    <tr>\n",
       "      <th id=\"T_5f35e_level0_row5\" class=\"row_heading level0 row5\" >ceiling_height</th>\n",
       "      <td id=\"T_5f35e_row5_col0\" class=\"data row5 col0\" >38.80</td>\n",
       "    </tr>\n",
       "    <tr>\n",
       "      <th id=\"T_5f35e_level0_row6\" class=\"row_heading level0 row6\" >floors_total</th>\n",
       "      <td id=\"T_5f35e_row6_col0\" class=\"data row6 col0\" >0.36</td>\n",
       "    </tr>\n",
       "    <tr>\n",
       "      <th id=\"T_5f35e_level0_row7\" class=\"row_heading level0 row7\" >living_area</th>\n",
       "      <td id=\"T_5f35e_row7_col0\" class=\"data row7 col0\" >8.03</td>\n",
       "    </tr>\n",
       "    <tr>\n",
       "      <th id=\"T_5f35e_level0_row8\" class=\"row_heading level0 row8\" >floor</th>\n",
       "      <td id=\"T_5f35e_row8_col0\" class=\"data row8 col0\" >0.00</td>\n",
       "    </tr>\n",
       "    <tr>\n",
       "      <th id=\"T_5f35e_level0_row9\" class=\"row_heading level0 row9\" >is_apartment</th>\n",
       "      <td id=\"T_5f35e_row9_col0\" class=\"data row9 col0\" >88.29</td>\n",
       "    </tr>\n",
       "    <tr>\n",
       "      <th id=\"T_5f35e_level0_row10\" class=\"row_heading level0 row10\" >studio</th>\n",
       "      <td id=\"T_5f35e_row10_col0\" class=\"data row10 col0\" >0.00</td>\n",
       "    </tr>\n",
       "    <tr>\n",
       "      <th id=\"T_5f35e_level0_row11\" class=\"row_heading level0 row11\" >open_plan</th>\n",
       "      <td id=\"T_5f35e_row11_col0\" class=\"data row11 col0\" >0.00</td>\n",
       "    </tr>\n",
       "    <tr>\n",
       "      <th id=\"T_5f35e_level0_row12\" class=\"row_heading level0 row12\" >kitchen_area</th>\n",
       "      <td id=\"T_5f35e_row12_col0\" class=\"data row12 col0\" >9.61</td>\n",
       "    </tr>\n",
       "    <tr>\n",
       "      <th id=\"T_5f35e_level0_row13\" class=\"row_heading level0 row13\" >balcony</th>\n",
       "      <td id=\"T_5f35e_row13_col0\" class=\"data row13 col0\" >48.61</td>\n",
       "    </tr>\n",
       "    <tr>\n",
       "      <th id=\"T_5f35e_level0_row14\" class=\"row_heading level0 row14\" >locality_name</th>\n",
       "      <td id=\"T_5f35e_row14_col0\" class=\"data row14 col0\" >0.21</td>\n",
       "    </tr>\n",
       "    <tr>\n",
       "      <th id=\"T_5f35e_level0_row15\" class=\"row_heading level0 row15\" >airports_nearest</th>\n",
       "      <td id=\"T_5f35e_row15_col0\" class=\"data row15 col0\" >23.38</td>\n",
       "    </tr>\n",
       "    <tr>\n",
       "      <th id=\"T_5f35e_level0_row16\" class=\"row_heading level0 row16\" >cityCenters_nearest</th>\n",
       "      <td id=\"T_5f35e_row16_col0\" class=\"data row16 col0\" >23.29</td>\n",
       "    </tr>\n",
       "    <tr>\n",
       "      <th id=\"T_5f35e_level0_row17\" class=\"row_heading level0 row17\" >parks_around3000</th>\n",
       "      <td id=\"T_5f35e_row17_col0\" class=\"data row17 col0\" >23.28</td>\n",
       "    </tr>\n",
       "    <tr>\n",
       "      <th id=\"T_5f35e_level0_row18\" class=\"row_heading level0 row18\" >parks_nearest</th>\n",
       "      <td id=\"T_5f35e_row18_col0\" class=\"data row18 col0\" >65.91</td>\n",
       "    </tr>\n",
       "    <tr>\n",
       "      <th id=\"T_5f35e_level0_row19\" class=\"row_heading level0 row19\" >ponds_around3000</th>\n",
       "      <td id=\"T_5f35e_row19_col0\" class=\"data row19 col0\" >23.28</td>\n",
       "    </tr>\n",
       "    <tr>\n",
       "      <th id=\"T_5f35e_level0_row20\" class=\"row_heading level0 row20\" >ponds_nearest</th>\n",
       "      <td id=\"T_5f35e_row20_col0\" class=\"data row20 col0\" >61.56</td>\n",
       "    </tr>\n",
       "    <tr>\n",
       "      <th id=\"T_5f35e_level0_row21\" class=\"row_heading level0 row21\" >days_exposition</th>\n",
       "      <td id=\"T_5f35e_row21_col0\" class=\"data row21 col0\" >13.42</td>\n",
       "    </tr>\n",
       "  </tbody>\n",
       "</table>\n"
      ],
      "text/plain": [
       "<pandas.io.formats.style.Styler at 0x7fd86419ef70>"
      ]
     },
     "metadata": {},
     "output_type": "display_data"
    }
   ],
   "source": [
    "display(pd.DataFrame(round((df.isna().mean()*100),2), columns=['NaNs, %']).style.format(\n",
    "    '{:.2f}').background_gradient('coolwarm'))"
   ]
  },
  {
   "cell_type": "markdown",
   "metadata": {},
   "source": [
    "### Вывод"
   ]
  },
  {
   "cell_type": "markdown",
   "metadata": {},
   "source": [
    "Датасет состоит из 23699 строк и 22 столбцов\n",
    "\n",
    "В столбцах 12 столбцах есть пропущенные значения:\n",
    "\n",
    "ceiling_height, \n",
    "\n",
    "floors_total, \n",
    "\n",
    "living_area, \n",
    "\n",
    "is_apartment, \n",
    "\n",
    "kitchen_area, \n",
    "\n",
    "balcony,\n",
    "\n",
    "locality_name, \n",
    "\n",
    "airports_nearest, \n",
    "\n",
    "cityCenters_nearest, \n",
    "\n",
    "parks_around3000, \n",
    "\n",
    "ponds_nearest, \n",
    "\n",
    "days_exposition\n",
    "\n",
    "\n"
   ]
  },
  {
   "cell_type": "markdown",
   "metadata": {},
   "source": [
    "## Предобработка данных"
   ]
  },
  {
   "cell_type": "markdown",
   "metadata": {},
   "source": [
    "Приведем название столбца cityCenters_nearest к змеиному регистру."
   ]
  },
  {
   "cell_type": "code",
   "execution_count": 6,
   "metadata": {},
   "outputs": [],
   "source": [
    "df.rename(columns={'cityCenters_nearest': 'citycenters_nearest'}, inplace=True)"
   ]
  },
  {
   "cell_type": "markdown",
   "metadata": {},
   "source": [
    "**ceiling_height - работа с пропусками**"
   ]
  },
  {
   "cell_type": "markdown",
   "metadata": {},
   "source": [
    "В столбце отсутсвует около 40 % данных. Причиной пропусков может быть незополнение соответсвующих данных продавцами при размещении бъявления (возможно это поле не было обязательным для заполнения). Данных, позволяющих точно определить отсутсвующие значения высоты потолков нет. Поскольку строк с пропусками по этому столбцу около 40% от всего датафрейма, а высота потолков это тот параметр, который потенциально может влиять на стоимость квартиры, то лучшеза полнить пропуски медианным значением. \n"
   ]
  },
  {
   "cell_type": "code",
   "execution_count": 7,
   "metadata": {},
   "outputs": [],
   "source": [
    "df['ceiling_height'] = df['ceiling_height'].fillna(df['ceiling_height'].median())\n"
   ]
  },
  {
   "cell_type": "code",
   "execution_count": 8,
   "metadata": {},
   "outputs": [
    {
     "data": {
      "text/plain": [
       "0"
      ]
     },
     "execution_count": 8,
     "metadata": {},
     "output_type": "execute_result"
    }
   ],
   "source": [
    "df['ceiling_height'].isnull().sum()"
   ]
  },
  {
   "cell_type": "markdown",
   "metadata": {},
   "source": [
    "**floors_total - работа с пропусками**"
   ]
  },
  {
   "cell_type": "markdown",
   "metadata": {},
   "source": [
    "В датафрейме 86 пропусков в колонке с общей этажностью. Поскольку данных для точного определения количества этажей нет, воспользуемся лучшими доступными данными - заменим пропуски значением этажа, на котором расположена квартира."
   ]
  },
  {
   "cell_type": "code",
   "execution_count": 9,
   "metadata": {},
   "outputs": [
    {
     "data": {
      "text/plain": [
       "0"
      ]
     },
     "execution_count": 9,
     "metadata": {},
     "output_type": "execute_result"
    }
   ],
   "source": [
    "df['floors_total']=df['floors_total'].fillna(df['floor'])\n",
    "df['floors_total'].isnull().sum()"
   ]
  },
  {
   "cell_type": "markdown",
   "metadata": {},
   "source": [
    "**living_area - работа с пропусками**"
   ]
  },
  {
   "cell_type": "markdown",
   "metadata": {},
   "source": [
    "Заполнить пропуски можно с использованием медианного значения отношения жилой площади к общей"
   ]
  },
  {
   "cell_type": "code",
   "execution_count": 10,
   "metadata": {},
   "outputs": [],
   "source": [
    "df['living_area']=df['living_area'].fillna(((df['living_area']/df['total_area']).median())*df['total_area'])"
   ]
  },
  {
   "cell_type": "code",
   "execution_count": 11,
   "metadata": {},
   "outputs": [
    {
     "data": {
      "text/plain": [
       "0"
      ]
     },
     "execution_count": 11,
     "metadata": {},
     "output_type": "execute_result"
    }
   ],
   "source": [
    "df['living_area'].isnull().sum()"
   ]
  },
  {
   "cell_type": "markdown",
   "metadata": {},
   "source": [
    "**is_apartment - работа с пропусками**"
   ]
  },
  {
   "cell_type": "markdown",
   "metadata": {},
   "source": [
    "В столбце is_apartment заменим пропуски значениями False"
   ]
  },
  {
   "cell_type": "code",
   "execution_count": 12,
   "metadata": {},
   "outputs": [
    {
     "data": {
      "text/plain": [
       "False    2725\n",
       "True       50\n",
       "Name: is_apartment, dtype: int64"
      ]
     },
     "execution_count": 12,
     "metadata": {},
     "output_type": "execute_result"
    }
   ],
   "source": [
    "df['is_apartment'].value_counts()"
   ]
  },
  {
   "cell_type": "code",
   "execution_count": 13,
   "metadata": {},
   "outputs": [
    {
     "data": {
      "text/plain": [
       "0"
      ]
     },
     "execution_count": 13,
     "metadata": {},
     "output_type": "execute_result"
    }
   ],
   "source": [
    "df['is_apartment'] = df['is_apartment'].fillna(value = False)\n",
    "df['is_apartment'].isnull().sum()"
   ]
  },
  {
   "cell_type": "code",
   "execution_count": 14,
   "metadata": {},
   "outputs": [
    {
     "data": {
      "text/plain": [
       "False    23649\n",
       "True        50\n",
       "Name: is_apartment, dtype: int64"
      ]
     },
     "execution_count": 14,
     "metadata": {},
     "output_type": "execute_result"
    }
   ],
   "source": [
    "df['is_apartment'].value_counts()"
   ]
  },
  {
   "cell_type": "markdown",
   "metadata": {},
   "source": [
    "**kitchen_area - работа с пропусками**"
   ]
  },
  {
   "cell_type": "markdown",
   "metadata": {},
   "source": [
    "По аналогии с жилой площадью - вычислим значения в пропущенных ячейках с помощью медианного отношения кухни к общей площади."
   ]
  },
  {
   "cell_type": "code",
   "execution_count": 15,
   "metadata": {},
   "outputs": [],
   "source": [
    "df['kitchen_area']=df['kitchen_area'].fillna(((df['kitchen_area']/df['total_area']).median())*df['total_area'])"
   ]
  },
  {
   "cell_type": "code",
   "execution_count": 16,
   "metadata": {},
   "outputs": [
    {
     "data": {
      "text/plain": [
       "0"
      ]
     },
     "execution_count": 16,
     "metadata": {},
     "output_type": "execute_result"
    }
   ],
   "source": [
    "df['kitchen_area'].isnull().sum()"
   ]
  },
  {
   "cell_type": "markdown",
   "metadata": {},
   "source": [
    "**balcony - работа с пропусками**"
   ]
  },
  {
   "cell_type": "markdown",
   "metadata": {},
   "source": [
    "Пропуски в столбце balcony вероятнее всего говорят об отсутсвии балкона. Заменим пропуски на 0."
   ]
  },
  {
   "cell_type": "code",
   "execution_count": 17,
   "metadata": {},
   "outputs": [
    {
     "data": {
      "text/plain": [
       "0"
      ]
     },
     "execution_count": 17,
     "metadata": {},
     "output_type": "execute_result"
    }
   ],
   "source": [
    "df['balcony'] = df['balcony'].fillna(0) \n",
    "df['balcony'].isnull().sum()"
   ]
  },
  {
   "cell_type": "markdown",
   "metadata": {},
   "source": [
    "**locality_name - работа с пропусками**"
   ]
  },
  {
   "cell_type": "markdown",
   "metadata": {},
   "source": [
    "Узнать населенный пункт не получится, поэтому вместо пропусков вставляем 'unknown'"
   ]
  },
  {
   "cell_type": "code",
   "execution_count": 18,
   "metadata": {},
   "outputs": [],
   "source": [
    "df['locality_name']=df['locality_name'].fillna('unknown')"
   ]
  },
  {
   "cell_type": "code",
   "execution_count": 19,
   "metadata": {},
   "outputs": [
    {
     "data": {
      "text/plain": [
       "0"
      ]
     },
     "execution_count": 19,
     "metadata": {},
     "output_type": "execute_result"
    }
   ],
   "source": [
    "df['locality_name'].isnull().sum()"
   ]
  },
  {
   "cell_type": "markdown",
   "metadata": {},
   "source": [
    "**airports_nearest, \n",
    "citycenters_nearest, \n",
    "parks_around3000,\n",
    "ponds_around3000,\n",
    "ponds_nearest,\n",
    "parks_nearest - работа с пропусками**"
   ]
  },
  {
   "cell_type": "markdown",
   "metadata": {},
   "source": [
    "Данные, отсутсвующие в столбцах с расстоянием до аэропорта, центра города, пруда, а также о количестве парков поблизости, вероятнее всего не были введены продавцом при размещении объявления.\n",
    "\n",
    "Их целесообразно заполнить нулями."
   ]
  },
  {
   "cell_type": "code",
   "execution_count": 20,
   "metadata": {},
   "outputs": [],
   "source": [
    "df['airports_nearest']=df['airports_nearest'].fillna(0)"
   ]
  },
  {
   "cell_type": "code",
   "execution_count": 21,
   "metadata": {},
   "outputs": [
    {
     "data": {
      "text/plain": [
       "0"
      ]
     },
     "execution_count": 21,
     "metadata": {},
     "output_type": "execute_result"
    }
   ],
   "source": [
    "df['airports_nearest'].isnull().sum()"
   ]
  },
  {
   "cell_type": "code",
   "execution_count": 22,
   "metadata": {},
   "outputs": [],
   "source": [
    "df['citycenters_nearest']=df['citycenters_nearest'].fillna(0)"
   ]
  },
  {
   "cell_type": "code",
   "execution_count": 23,
   "metadata": {},
   "outputs": [
    {
     "data": {
      "text/plain": [
       "0"
      ]
     },
     "execution_count": 23,
     "metadata": {},
     "output_type": "execute_result"
    }
   ],
   "source": [
    "df['citycenters_nearest'].isnull().sum()"
   ]
  },
  {
   "cell_type": "code",
   "execution_count": 24,
   "metadata": {},
   "outputs": [],
   "source": [
    "df['parks_around3000']=df['parks_around3000'].fillna(0)"
   ]
  },
  {
   "cell_type": "code",
   "execution_count": 25,
   "metadata": {},
   "outputs": [
    {
     "data": {
      "text/plain": [
       "0"
      ]
     },
     "execution_count": 25,
     "metadata": {},
     "output_type": "execute_result"
    }
   ],
   "source": [
    "df['parks_around3000'].isnull().sum()"
   ]
  },
  {
   "cell_type": "code",
   "execution_count": 26,
   "metadata": {},
   "outputs": [],
   "source": [
    "df['ponds_around3000']=df['parks_around3000'].fillna(0)"
   ]
  },
  {
   "cell_type": "code",
   "execution_count": 27,
   "metadata": {},
   "outputs": [
    {
     "data": {
      "text/plain": [
       "0"
      ]
     },
     "execution_count": 27,
     "metadata": {},
     "output_type": "execute_result"
    }
   ],
   "source": [
    "df['ponds_around3000'].isnull().sum()"
   ]
  },
  {
   "cell_type": "code",
   "execution_count": 28,
   "metadata": {},
   "outputs": [],
   "source": [
    "df['ponds_nearest']=df['ponds_nearest'].fillna(0)"
   ]
  },
  {
   "cell_type": "code",
   "execution_count": 29,
   "metadata": {},
   "outputs": [
    {
     "data": {
      "text/plain": [
       "0"
      ]
     },
     "execution_count": 29,
     "metadata": {},
     "output_type": "execute_result"
    }
   ],
   "source": [
    "df['ponds_nearest'].isnull().sum()"
   ]
  },
  {
   "cell_type": "code",
   "execution_count": 30,
   "metadata": {},
   "outputs": [],
   "source": [
    "df['parks_nearest']=df['ponds_nearest'].fillna(0)"
   ]
  },
  {
   "cell_type": "code",
   "execution_count": 31,
   "metadata": {},
   "outputs": [
    {
     "data": {
      "text/plain": [
       "0"
      ]
     },
     "execution_count": 31,
     "metadata": {},
     "output_type": "execute_result"
    }
   ],
   "source": [
    "df['parks_nearest'].isnull().sum()"
   ]
  },
  {
   "cell_type": "markdown",
   "metadata": {},
   "source": [
    "**days_exposition - работа с пропусками**"
   ]
  },
  {
   "cell_type": "markdown",
   "metadata": {},
   "source": [
    "Пропуски в столбце с количеством дней размещения объявления могут быть по причине того, что объявление не было снято на момент выгрузки или вследствии ошибки в базе данных. Заполнять эти пропуски нулями или средним/медианным значением нельзя, поскольку результаты анализа в таком случае могут быть искажены. \n",
    "\n",
    "Поэтому оставляем эти пропуски."
   ]
  },
  {
   "cell_type": "markdown",
   "metadata": {},
   "source": [
    "**Изменение типов данных**"
   ]
  },
  {
   "cell_type": "markdown",
   "metadata": {},
   "source": [
    "В столбцах floors_total, balcony, parks_around3000, ponds_around3000 тип данных следует заменить на цельночисловой, поскольку это соответсвует логике содержащихся в них данных"
   ]
  },
  {
   "cell_type": "code",
   "execution_count": 32,
   "metadata": {},
   "outputs": [],
   "source": [
    "df['floors_total'] = df['floors_total'].astype(int)"
   ]
  },
  {
   "cell_type": "code",
   "execution_count": 33,
   "metadata": {},
   "outputs": [],
   "source": [
    "df['balcony'] = df['balcony'].astype(int)"
   ]
  },
  {
   "cell_type": "code",
   "execution_count": 34,
   "metadata": {},
   "outputs": [],
   "source": [
    "df['parks_around3000'] = df['parks_around3000'].astype(int)"
   ]
  },
  {
   "cell_type": "code",
   "execution_count": 35,
   "metadata": {},
   "outputs": [],
   "source": [
    "df['ponds_around3000'] = df['ponds_around3000'].astype(int)"
   ]
  },
  {
   "cell_type": "markdown",
   "metadata": {},
   "source": [
    "Приведем столбец first_day_exposition к типу данных datetime."
   ]
  },
  {
   "cell_type": "code",
   "execution_count": 36,
   "metadata": {},
   "outputs": [
    {
     "data": {
      "text/plain": [
       "0   2019-03-07\n",
       "1   2018-12-04\n",
       "2   2015-08-20\n",
       "3   2015-07-24\n",
       "4   2018-06-19\n",
       "Name: first_day_exposition, dtype: datetime64[ns]"
      ]
     },
     "execution_count": 36,
     "metadata": {},
     "output_type": "execute_result"
    }
   ],
   "source": [
    "df['first_day_exposition'] = pd.to_datetime(df['first_day_exposition'])\n",
    "df['first_day_exposition'].head()\n"
   ]
  },
  {
   "cell_type": "code",
   "execution_count": 37,
   "metadata": {},
   "outputs": [
    {
     "name": "stdout",
     "output_type": "stream",
     "text": [
      "<class 'pandas.core.frame.DataFrame'>\n",
      "RangeIndex: 23699 entries, 0 to 23698\n",
      "Data columns (total 22 columns):\n",
      " #   Column                Non-Null Count  Dtype         \n",
      "---  ------                --------------  -----         \n",
      " 0   total_images          23699 non-null  int64         \n",
      " 1   last_price            23699 non-null  float64       \n",
      " 2   total_area            23699 non-null  float64       \n",
      " 3   first_day_exposition  23699 non-null  datetime64[ns]\n",
      " 4   rooms                 23699 non-null  int64         \n",
      " 5   ceiling_height        23699 non-null  float64       \n",
      " 6   floors_total          23699 non-null  int64         \n",
      " 7   living_area           23699 non-null  float64       \n",
      " 8   floor                 23699 non-null  int64         \n",
      " 9   is_apartment          23699 non-null  bool          \n",
      " 10  studio                23699 non-null  bool          \n",
      " 11  open_plan             23699 non-null  bool          \n",
      " 12  kitchen_area          23699 non-null  float64       \n",
      " 13  balcony               23699 non-null  int64         \n",
      " 14  locality_name         23699 non-null  object        \n",
      " 15  airports_nearest      23699 non-null  float64       \n",
      " 16  citycenters_nearest   23699 non-null  float64       \n",
      " 17  parks_around3000      23699 non-null  int64         \n",
      " 18  parks_nearest         23699 non-null  float64       \n",
      " 19  ponds_around3000      23699 non-null  int64         \n",
      " 20  ponds_nearest         23699 non-null  float64       \n",
      " 21  days_exposition       20518 non-null  float64       \n",
      "dtypes: bool(3), datetime64[ns](1), float64(10), int64(7), object(1)\n",
      "memory usage: 3.5+ MB\n"
     ]
    }
   ],
   "source": [
    "df.info()"
   ]
  },
  {
   "cell_type": "markdown",
   "metadata": {},
   "source": [
    "## Расчёты и добавление результатов в таблицу"
   ]
  },
  {
   "cell_type": "markdown",
   "metadata": {},
   "source": [
    "**Добавление столбца с ценой квадратного метра**"
   ]
  },
  {
   "cell_type": "code",
   "execution_count": 38,
   "metadata": {},
   "outputs": [
    {
     "data": {
      "text/plain": [
       "0    120370.370370\n",
       "1     82920.792079\n",
       "2     92785.714286\n",
       "3    408176.100629\n",
       "4    100000.000000\n",
       "Name: square_meter_price, dtype: float64"
      ]
     },
     "execution_count": 38,
     "metadata": {},
     "output_type": "execute_result"
    }
   ],
   "source": [
    "df['square_meter_price']=df['last_price']/df['total_area']\n",
    "df['square_meter_price'].head()"
   ]
  },
  {
   "cell_type": "markdown",
   "metadata": {},
   "source": [
    "**Добавление столбцов с днем недели, месяцем и годом публикации объявления**"
   ]
  },
  {
   "cell_type": "code",
   "execution_count": 39,
   "metadata": {},
   "outputs": [
    {
     "name": "stdout",
     "output_type": "stream",
     "text": [
      "0    3\n",
      "1    1\n",
      "2    3\n",
      "3    4\n",
      "4    1\n",
      "Name: weekday_exposition, dtype: int64\n",
      "0     3\n",
      "1    12\n",
      "2     8\n",
      "3     7\n",
      "4     6\n",
      "Name: month_exposition, dtype: int64\n",
      "0    2019\n",
      "1    2018\n",
      "2    2015\n",
      "3    2015\n",
      "4    2018\n",
      "Name: year_exposition, dtype: int64\n"
     ]
    }
   ],
   "source": [
    "df['weekday_exposition']=df['first_day_exposition'].dt.dayofweek\n",
    "print(df['weekday_exposition'].head())\n",
    "df['month_exposition']=df['first_day_exposition'].dt.month\n",
    "print(df['month_exposition'].head())\n",
    "df['year_exposition']=df['first_day_exposition'].dt.year\n",
    "print(df['year_exposition'].head())"
   ]
  },
  {
   "cell_type": "markdown",
   "metadata": {},
   "source": [
    "**Добавление столбца с этажем квартиры; варианты — первый, последний, другой**"
   ]
  },
  {
   "cell_type": "code",
   "execution_count": 40,
   "metadata": {},
   "outputs": [
    {
     "data": {
      "text/plain": [
       "0    other\n",
       "1    first\n",
       "2    other\n",
       "3    other\n",
       "4    other\n",
       "Name: floor_type, dtype: object"
      ]
     },
     "execution_count": 40,
     "metadata": {},
     "output_type": "execute_result"
    }
   ],
   "source": [
    "df['floor_type'] = ['other']*len(df)\n",
    "df.loc[df['floor'] == 1, 'floor_type'] = 'first'\n",
    "df.loc[df['floor'] == df['floors_total'], 'floor_type'] = 'last'\n",
    "df['floor_type'].head()"
   ]
  },
  {
   "cell_type": "markdown",
   "metadata": {},
   "source": [
    "**Добавление столбцов с соотношением жилой и общей площади, а также отношением площади кухни к общей**"
   ]
  },
  {
   "cell_type": "code",
   "execution_count": 41,
   "metadata": {},
   "outputs": [
    {
     "data": {
      "text/html": [
       "<div>\n",
       "<style scoped>\n",
       "    .dataframe tbody tr th:only-of-type {\n",
       "        vertical-align: middle;\n",
       "    }\n",
       "\n",
       "    .dataframe tbody tr th {\n",
       "        vertical-align: top;\n",
       "    }\n",
       "\n",
       "    .dataframe thead th {\n",
       "        text-align: right;\n",
       "    }\n",
       "</style>\n",
       "<table border=\"1\" class=\"dataframe\">\n",
       "  <thead>\n",
       "    <tr style=\"text-align: right;\">\n",
       "      <th></th>\n",
       "      <th>living_area_ratio</th>\n",
       "      <th>kitchen_area_ratio</th>\n",
       "    </tr>\n",
       "  </thead>\n",
       "  <tbody>\n",
       "    <tr>\n",
       "      <th>0</th>\n",
       "      <td>0.472222</td>\n",
       "      <td>0.231481</td>\n",
       "    </tr>\n",
       "    <tr>\n",
       "      <th>1</th>\n",
       "      <td>0.460396</td>\n",
       "      <td>0.272277</td>\n",
       "    </tr>\n",
       "    <tr>\n",
       "      <th>2</th>\n",
       "      <td>0.612500</td>\n",
       "      <td>0.148214</td>\n",
       "    </tr>\n",
       "    <tr>\n",
       "      <th>3</th>\n",
       "      <td>0.567860</td>\n",
       "      <td>0.172414</td>\n",
       "    </tr>\n",
       "    <tr>\n",
       "      <th>4</th>\n",
       "      <td>0.320000</td>\n",
       "      <td>0.410000</td>\n",
       "    </tr>\n",
       "  </tbody>\n",
       "</table>\n",
       "</div>"
      ],
      "text/plain": [
       "   living_area_ratio  kitchen_area_ratio\n",
       "0           0.472222            0.231481\n",
       "1           0.460396            0.272277\n",
       "2           0.612500            0.148214\n",
       "3           0.567860            0.172414\n",
       "4           0.320000            0.410000"
      ]
     },
     "execution_count": 41,
     "metadata": {},
     "output_type": "execute_result"
    }
   ],
   "source": [
    "df['living_area_ratio']=df['living_area']/df['total_area']\n",
    "df['kitchen_area_ratio']=df['kitchen_area']/df['total_area']\n",
    "df[['living_area_ratio','kitchen_area_ratio']].head()"
   ]
  },
  {
   "cell_type": "code",
   "execution_count": 42,
   "metadata": {},
   "outputs": [
    {
     "data": {
      "text/html": [
       "<div>\n",
       "<style scoped>\n",
       "    .dataframe tbody tr th:only-of-type {\n",
       "        vertical-align: middle;\n",
       "    }\n",
       "\n",
       "    .dataframe tbody tr th {\n",
       "        vertical-align: top;\n",
       "    }\n",
       "\n",
       "    .dataframe thead th {\n",
       "        text-align: right;\n",
       "    }\n",
       "</style>\n",
       "<table border=\"1\" class=\"dataframe\">\n",
       "  <thead>\n",
       "    <tr style=\"text-align: right;\">\n",
       "      <th></th>\n",
       "      <th>total_images</th>\n",
       "      <th>last_price</th>\n",
       "      <th>total_area</th>\n",
       "      <th>rooms</th>\n",
       "      <th>ceiling_height</th>\n",
       "      <th>floors_total</th>\n",
       "      <th>living_area</th>\n",
       "      <th>floor</th>\n",
       "      <th>kitchen_area</th>\n",
       "      <th>balcony</th>\n",
       "      <th>...</th>\n",
       "      <th>parks_nearest</th>\n",
       "      <th>ponds_around3000</th>\n",
       "      <th>ponds_nearest</th>\n",
       "      <th>days_exposition</th>\n",
       "      <th>square_meter_price</th>\n",
       "      <th>weekday_exposition</th>\n",
       "      <th>month_exposition</th>\n",
       "      <th>year_exposition</th>\n",
       "      <th>living_area_ratio</th>\n",
       "      <th>kitchen_area_ratio</th>\n",
       "    </tr>\n",
       "  </thead>\n",
       "  <tbody>\n",
       "    <tr>\n",
       "      <th>count</th>\n",
       "      <td>23699.000000</td>\n",
       "      <td>2.369900e+04</td>\n",
       "      <td>23699.000000</td>\n",
       "      <td>23699.000000</td>\n",
       "      <td>23699.000000</td>\n",
       "      <td>23699.000000</td>\n",
       "      <td>23699.000000</td>\n",
       "      <td>23699.000000</td>\n",
       "      <td>23699.000000</td>\n",
       "      <td>23699.000000</td>\n",
       "      <td>...</td>\n",
       "      <td>23699.000000</td>\n",
       "      <td>23699.000000</td>\n",
       "      <td>23699.000000</td>\n",
       "      <td>20518.000000</td>\n",
       "      <td>2.369900e+04</td>\n",
       "      <td>23699.000000</td>\n",
       "      <td>23699.000000</td>\n",
       "      <td>23699.000000</td>\n",
       "      <td>23699.000000</td>\n",
       "      <td>23699.000000</td>\n",
       "    </tr>\n",
       "    <tr>\n",
       "      <th>mean</th>\n",
       "      <td>9.858475</td>\n",
       "      <td>6.541549e+06</td>\n",
       "      <td>60.348651</td>\n",
       "      <td>2.070636</td>\n",
       "      <td>2.724358</td>\n",
       "      <td>10.671463</td>\n",
       "      <td>34.578214</td>\n",
       "      <td>5.892358</td>\n",
       "      <td>10.491431</td>\n",
       "      <td>0.591080</td>\n",
       "      <td>...</td>\n",
       "      <td>199.114140</td>\n",
       "      <td>0.469049</td>\n",
       "      <td>199.114140</td>\n",
       "      <td>180.888634</td>\n",
       "      <td>9.942166e+04</td>\n",
       "      <td>2.569307</td>\n",
       "      <td>6.400101</td>\n",
       "      <td>2017.367146</td>\n",
       "      <td>0.565014</td>\n",
       "      <td>0.185919</td>\n",
       "    </tr>\n",
       "    <tr>\n",
       "      <th>std</th>\n",
       "      <td>5.682529</td>\n",
       "      <td>1.088701e+07</td>\n",
       "      <td>35.654083</td>\n",
       "      <td>1.078405</td>\n",
       "      <td>0.988298</td>\n",
       "      <td>6.595802</td>\n",
       "      <td>22.340665</td>\n",
       "      <td>4.885249</td>\n",
       "      <td>6.029020</td>\n",
       "      <td>0.959298</td>\n",
       "      <td>...</td>\n",
       "      <td>305.188777</td>\n",
       "      <td>0.748534</td>\n",
       "      <td>305.188777</td>\n",
       "      <td>219.727988</td>\n",
       "      <td>5.030680e+04</td>\n",
       "      <td>1.789082</td>\n",
       "      <td>3.491561</td>\n",
       "      <td>1.039771</td>\n",
       "      <td>0.101053</td>\n",
       "      <td>0.069512</td>\n",
       "    </tr>\n",
       "    <tr>\n",
       "      <th>min</th>\n",
       "      <td>0.000000</td>\n",
       "      <td>1.219000e+04</td>\n",
       "      <td>12.000000</td>\n",
       "      <td>0.000000</td>\n",
       "      <td>1.000000</td>\n",
       "      <td>1.000000</td>\n",
       "      <td>2.000000</td>\n",
       "      <td>1.000000</td>\n",
       "      <td>1.300000</td>\n",
       "      <td>0.000000</td>\n",
       "      <td>...</td>\n",
       "      <td>0.000000</td>\n",
       "      <td>0.000000</td>\n",
       "      <td>0.000000</td>\n",
       "      <td>1.000000</td>\n",
       "      <td>1.118349e+02</td>\n",
       "      <td>0.000000</td>\n",
       "      <td>1.000000</td>\n",
       "      <td>2014.000000</td>\n",
       "      <td>0.021583</td>\n",
       "      <td>0.025381</td>\n",
       "    </tr>\n",
       "    <tr>\n",
       "      <th>25%</th>\n",
       "      <td>6.000000</td>\n",
       "      <td>3.400000e+06</td>\n",
       "      <td>40.000000</td>\n",
       "      <td>1.000000</td>\n",
       "      <td>2.600000</td>\n",
       "      <td>5.000000</td>\n",
       "      <td>19.000000</td>\n",
       "      <td>2.000000</td>\n",
       "      <td>7.000000</td>\n",
       "      <td>0.000000</td>\n",
       "      <td>...</td>\n",
       "      <td>0.000000</td>\n",
       "      <td>0.000000</td>\n",
       "      <td>0.000000</td>\n",
       "      <td>45.000000</td>\n",
       "      <td>7.658547e+04</td>\n",
       "      <td>1.000000</td>\n",
       "      <td>3.000000</td>\n",
       "      <td>2017.000000</td>\n",
       "      <td>0.500000</td>\n",
       "      <td>0.136859</td>\n",
       "    </tr>\n",
       "    <tr>\n",
       "      <th>50%</th>\n",
       "      <td>9.000000</td>\n",
       "      <td>4.650000e+06</td>\n",
       "      <td>52.000000</td>\n",
       "      <td>2.000000</td>\n",
       "      <td>2.650000</td>\n",
       "      <td>9.000000</td>\n",
       "      <td>30.000000</td>\n",
       "      <td>4.000000</td>\n",
       "      <td>9.000000</td>\n",
       "      <td>0.000000</td>\n",
       "      <td>...</td>\n",
       "      <td>0.000000</td>\n",
       "      <td>0.000000</td>\n",
       "      <td>0.000000</td>\n",
       "      <td>95.000000</td>\n",
       "      <td>9.500000e+04</td>\n",
       "      <td>3.000000</td>\n",
       "      <td>6.000000</td>\n",
       "      <td>2017.000000</td>\n",
       "      <td>0.567860</td>\n",
       "      <td>0.172414</td>\n",
       "    </tr>\n",
       "    <tr>\n",
       "      <th>75%</th>\n",
       "      <td>14.000000</td>\n",
       "      <td>6.800000e+06</td>\n",
       "      <td>69.900000</td>\n",
       "      <td>3.000000</td>\n",
       "      <td>2.700000</td>\n",
       "      <td>16.000000</td>\n",
       "      <td>42.100000</td>\n",
       "      <td>8.000000</td>\n",
       "      <td>12.000000</td>\n",
       "      <td>1.000000</td>\n",
       "      <td>...</td>\n",
       "      <td>389.000000</td>\n",
       "      <td>1.000000</td>\n",
       "      <td>389.000000</td>\n",
       "      <td>232.000000</td>\n",
       "      <td>1.142563e+05</td>\n",
       "      <td>4.000000</td>\n",
       "      <td>10.000000</td>\n",
       "      <td>2018.000000</td>\n",
       "      <td>0.631579</td>\n",
       "      <td>0.223717</td>\n",
       "    </tr>\n",
       "    <tr>\n",
       "      <th>max</th>\n",
       "      <td>50.000000</td>\n",
       "      <td>7.630000e+08</td>\n",
       "      <td>900.000000</td>\n",
       "      <td>19.000000</td>\n",
       "      <td>100.000000</td>\n",
       "      <td>60.000000</td>\n",
       "      <td>409.700000</td>\n",
       "      <td>33.000000</td>\n",
       "      <td>112.000000</td>\n",
       "      <td>5.000000</td>\n",
       "      <td>...</td>\n",
       "      <td>1344.000000</td>\n",
       "      <td>3.000000</td>\n",
       "      <td>1344.000000</td>\n",
       "      <td>1580.000000</td>\n",
       "      <td>1.907500e+06</td>\n",
       "      <td>6.000000</td>\n",
       "      <td>12.000000</td>\n",
       "      <td>2019.000000</td>\n",
       "      <td>1.000000</td>\n",
       "      <td>0.787879</td>\n",
       "    </tr>\n",
       "  </tbody>\n",
       "</table>\n",
       "<p>8 rows × 23 columns</p>\n",
       "</div>"
      ],
      "text/plain": [
       "       total_images    last_price    total_area         rooms  ceiling_height  \\\n",
       "count  23699.000000  2.369900e+04  23699.000000  23699.000000    23699.000000   \n",
       "mean       9.858475  6.541549e+06     60.348651      2.070636        2.724358   \n",
       "std        5.682529  1.088701e+07     35.654083      1.078405        0.988298   \n",
       "min        0.000000  1.219000e+04     12.000000      0.000000        1.000000   \n",
       "25%        6.000000  3.400000e+06     40.000000      1.000000        2.600000   \n",
       "50%        9.000000  4.650000e+06     52.000000      2.000000        2.650000   \n",
       "75%       14.000000  6.800000e+06     69.900000      3.000000        2.700000   \n",
       "max       50.000000  7.630000e+08    900.000000     19.000000      100.000000   \n",
       "\n",
       "       floors_total   living_area         floor  kitchen_area       balcony  \\\n",
       "count  23699.000000  23699.000000  23699.000000  23699.000000  23699.000000   \n",
       "mean      10.671463     34.578214      5.892358     10.491431      0.591080   \n",
       "std        6.595802     22.340665      4.885249      6.029020      0.959298   \n",
       "min        1.000000      2.000000      1.000000      1.300000      0.000000   \n",
       "25%        5.000000     19.000000      2.000000      7.000000      0.000000   \n",
       "50%        9.000000     30.000000      4.000000      9.000000      0.000000   \n",
       "75%       16.000000     42.100000      8.000000     12.000000      1.000000   \n",
       "max       60.000000    409.700000     33.000000    112.000000      5.000000   \n",
       "\n",
       "       ...  parks_nearest  ponds_around3000  ponds_nearest  days_exposition  \\\n",
       "count  ...   23699.000000      23699.000000   23699.000000     20518.000000   \n",
       "mean   ...     199.114140          0.469049     199.114140       180.888634   \n",
       "std    ...     305.188777          0.748534     305.188777       219.727988   \n",
       "min    ...       0.000000          0.000000       0.000000         1.000000   \n",
       "25%    ...       0.000000          0.000000       0.000000        45.000000   \n",
       "50%    ...       0.000000          0.000000       0.000000        95.000000   \n",
       "75%    ...     389.000000          1.000000     389.000000       232.000000   \n",
       "max    ...    1344.000000          3.000000    1344.000000      1580.000000   \n",
       "\n",
       "       square_meter_price  weekday_exposition  month_exposition  \\\n",
       "count        2.369900e+04        23699.000000      23699.000000   \n",
       "mean         9.942166e+04            2.569307          6.400101   \n",
       "std          5.030680e+04            1.789082          3.491561   \n",
       "min          1.118349e+02            0.000000          1.000000   \n",
       "25%          7.658547e+04            1.000000          3.000000   \n",
       "50%          9.500000e+04            3.000000          6.000000   \n",
       "75%          1.142563e+05            4.000000         10.000000   \n",
       "max          1.907500e+06            6.000000         12.000000   \n",
       "\n",
       "       year_exposition  living_area_ratio  kitchen_area_ratio  \n",
       "count     23699.000000       23699.000000        23699.000000  \n",
       "mean       2017.367146           0.565014            0.185919  \n",
       "std           1.039771           0.101053            0.069512  \n",
       "min        2014.000000           0.021583            0.025381  \n",
       "25%        2017.000000           0.500000            0.136859  \n",
       "50%        2017.000000           0.567860            0.172414  \n",
       "75%        2018.000000           0.631579            0.223717  \n",
       "max        2019.000000           1.000000            0.787879  \n",
       "\n",
       "[8 rows x 23 columns]"
      ]
     },
     "execution_count": 42,
     "metadata": {},
     "output_type": "execute_result"
    }
   ],
   "source": [
    "df.describe()"
   ]
  },
  {
   "cell_type": "markdown",
   "metadata": {},
   "source": [
    "## Исследовательский анализ данных"
   ]
  },
  {
   "cell_type": "markdown",
   "metadata": {},
   "source": [
    "**Исследование площади, цены, числа комнат, высоты потолков, построение гистрограмм, удаление редких и выбивающихся значений**"
   ]
  },
  {
   "cell_type": "markdown",
   "metadata": {},
   "source": [
    "Создаем функцию для построения диаграмм"
   ]
  },
  {
   "cell_type": "code",
   "execution_count": 43,
   "metadata": {},
   "outputs": [],
   "source": [
    "def hist(x):\n",
    "    plt.figure()\n",
    "    plt.hist(x, edgecolor=\"black\",bins=100)\n",
    "    plt.grid()\n",
    "def box (x):\n",
    "    plt.figure()\n",
    "    plt.boxplot(x)\n",
    "    plt.grid()\n",
    "    \n"
   ]
  },
  {
   "cell_type": "code",
   "execution_count": 44,
   "metadata": {},
   "outputs": [
    {
     "data": {
      "text/plain": [
       "count    23699.000000\n",
       "mean        60.348651\n",
       "std         35.654083\n",
       "min         12.000000\n",
       "25%         40.000000\n",
       "50%         52.000000\n",
       "75%         69.900000\n",
       "max        900.000000\n",
       "Name: total_area, dtype: float64"
      ]
     },
     "execution_count": 44,
     "metadata": {},
     "output_type": "execute_result"
    }
   ],
   "source": [
    "df['total_area'].describe()"
   ]
  },
  {
   "cell_type": "code",
   "execution_count": 45,
   "metadata": {},
   "outputs": [
    {
     "data": {
      "image/png": "[encoded data removed]",
      "text/plain": [
       "<Figure size 432x288 with 1 Axes>"
      ]
     },
     "metadata": {
      "needs_background": "light"
     },
     "output_type": "display_data"
    }
   ],
   "source": [
    "hist(df['total_area'])"
   ]
  },
  {
   "cell_type": "markdown",
   "metadata": {},
   "source": [
    "Максимальное значение 900 метров сильно отличается от третьего квантиля, что указывает на то, что имеется небольшое количество аномально высоких значений"
   ]
  },
  {
   "cell_type": "markdown",
   "metadata": {},
   "source": [
    "Создадим дополнительный датафрейм df_adjusted, где будем отсекать редкие и выбивающиеся значения.\n",
    "С помощью диаграммы boxplot и метода np.nanquantile определим редкие и выбивающиеся значения и отбросим их для того чтобы они не влияли на последующий анализ"
   ]
  },
  {
   "cell_type": "code",
   "execution_count": 46,
   "metadata": {},
   "outputs": [
    {
     "data": {
      "image/png": "[encoded data removed]",
      "text/plain": [
       "<Figure size 432x288 with 1 Axes>"
      ]
     },
     "metadata": {
      "needs_background": "light"
     },
     "output_type": "display_data"
    }
   ],
   "source": [
    "box(df['total_area'])\n"
   ]
  },
  {
   "cell_type": "code",
   "execution_count": 47,
   "metadata": {},
   "outputs": [],
   "source": [
    "threshold=np.nanquantile(df['total_area'], 0.99)"
   ]
  },
  {
   "cell_type": "code",
   "execution_count": 48,
   "metadata": {},
   "outputs": [
    {
     "data": {
      "image/png": "[encoded data removed]",
      "text/plain": [
       "<Figure size 432x288 with 1 Axes>"
      ]
     },
     "metadata": {
      "needs_background": "light"
     },
     "output_type": "display_data"
    }
   ],
   "source": [
    "hist(df[df['total_area'] < threshold]['total_area'])\n"
   ]
  },
  {
   "cell_type": "markdown",
   "metadata": {},
   "source": [
    "Вероятнее всего значения выше порога - реальные единичные объявления о продаже элитной недвижимости, однако, поскольку такие высокие значения могут повлиять на качество последующего анализа - лучше их отбросить."
   ]
  },
  {
   "cell_type": "code",
   "execution_count": 49,
   "metadata": {},
   "outputs": [],
   "source": [
    "df_adjusted=df[df['total_area'] < threshold]\n"
   ]
  },
  {
   "cell_type": "code",
   "execution_count": 50,
   "metadata": {},
   "outputs": [
    {
     "data": {
      "text/plain": [
       "count    2.346200e+04\n",
       "mean     6.017209e+06\n",
       "std      6.217892e+06\n",
       "min      1.219000e+04\n",
       "25%      3.400000e+06\n",
       "50%      4.600000e+06\n",
       "75%      6.700000e+06\n",
       "max      3.300000e+08\n",
       "Name: last_price, dtype: float64"
      ]
     },
     "execution_count": 50,
     "metadata": {},
     "output_type": "execute_result"
    }
   ],
   "source": [
    "df_adjusted['last_price'].describe()"
   ]
  },
  {
   "cell_type": "code",
   "execution_count": 51,
   "metadata": {},
   "outputs": [
    {
     "data": {
      "image/png": "[encoded data removed]",
      "text/plain": [
       "<Figure size 432x288 with 1 Axes>"
      ]
     },
     "metadata": {
      "needs_background": "light"
     },
     "output_type": "display_data"
    },
    {
     "data": {
      "image/png": "[encoded data removed]",
      "text/plain": [
       "<Figure size 432x288 with 1 Axes>"
      ]
     },
     "metadata": {
      "needs_background": "light"
     },
     "output_type": "display_data"
    }
   ],
   "source": [
    "hist(df_adjusted['last_price'])\n",
    "box(df_adjusted['last_price'])"
   ]
  },
  {
   "cell_type": "code",
   "execution_count": 52,
   "metadata": {},
   "outputs": [
    {
     "data": {
      "text/plain": [
       "27530107.999999955"
      ]
     },
     "execution_count": 52,
     "metadata": {},
     "output_type": "execute_result"
    }
   ],
   "source": [
    "np.nanquantile(df_adjusted['last_price'],0.99)"
   ]
  },
  {
   "cell_type": "markdown",
   "metadata": {},
   "source": [
    "Анализ столбца last_price после удаления экстремально высоких значений столбца с площадью показал, что в датафрейме имеется несколько дорогих квартир (27,5 - 33 млн после 99-го квантиля). \n",
    "\n",
    "Поскольку эти значения в целом похожи на реальные (с учетом того, что в датафрейме остались квартиры площадью до 200 м2), удалять их не будем."
   ]
  },
  {
   "cell_type": "code",
   "execution_count": 53,
   "metadata": {},
   "outputs": [
    {
     "data": {
      "text/plain": [
       "count    23462.000000\n",
       "mean         2.033671\n",
       "std          0.994623\n",
       "min          0.000000\n",
       "25%          1.000000\n",
       "50%          2.000000\n",
       "75%          3.000000\n",
       "max         11.000000\n",
       "Name: rooms, dtype: float64"
      ]
     },
     "execution_count": 53,
     "metadata": {},
     "output_type": "execute_result"
    }
   ],
   "source": [
    "df_adjusted['rooms'].describe()"
   ]
  },
  {
   "cell_type": "code",
   "execution_count": 54,
   "metadata": {},
   "outputs": [
    {
     "data": {
      "image/png": "[encoded data removed]",
      "text/plain": [
       "<Figure size 432x288 with 1 Axes>"
      ]
     },
     "metadata": {
      "needs_background": "light"
     },
     "output_type": "display_data"
    },
    {
     "data": {
      "image/png": "[encoded data removed]",
      "text/plain": [
       "<Figure size 432x288 with 1 Axes>"
      ]
     },
     "metadata": {
      "needs_background": "light"
     },
     "output_type": "display_data"
    }
   ],
   "source": [
    "hist(df_adjusted['rooms'])\n",
    "box(df_adjusted['rooms'])"
   ]
  },
  {
   "cell_type": "code",
   "execution_count": 55,
   "metadata": {},
   "outputs": [
    {
     "data": {
      "text/plain": [
       "count    196.000000\n",
       "mean      27.536276\n",
       "std        8.368574\n",
       "min       15.500000\n",
       "25%       24.037500\n",
       "50%       26.025000\n",
       "75%       28.325000\n",
       "max       98.400000\n",
       "Name: total_area, dtype: float64"
      ]
     },
     "execution_count": 55,
     "metadata": {},
     "output_type": "execute_result"
    }
   ],
   "source": [
    "df_adjusted.query('rooms==0')['total_area'].describe()"
   ]
  },
  {
   "cell_type": "code",
   "execution_count": 56,
   "metadata": {},
   "outputs": [
    {
     "data": {
      "text/plain": [
       "3.0"
      ]
     },
     "execution_count": 56,
     "metadata": {},
     "output_type": "execute_result"
    }
   ],
   "source": [
    "np.nanquantile(df_adjusted['rooms'],0.90)"
   ]
  },
  {
   "cell_type": "markdown",
   "metadata": {},
   "source": [
    "В столбце с количеством комнат 196 строк с нулевым значением, что, судя по метражу, может означать студии. Имеется небольшое количество многокомнатных квартир (максимум 11) что похоже на правду."
   ]
  },
  {
   "cell_type": "code",
   "execution_count": 57,
   "metadata": {},
   "outputs": [
    {
     "data": {
      "text/plain": [
       "count    23462.000000\n",
       "mean         2.720183\n",
       "std          0.990786\n",
       "min          1.000000\n",
       "25%          2.600000\n",
       "50%          2.650000\n",
       "75%          2.700000\n",
       "max        100.000000\n",
       "Name: ceiling_height, dtype: float64"
      ]
     },
     "execution_count": 57,
     "metadata": {},
     "output_type": "execute_result"
    }
   ],
   "source": [
    "df_adjusted['ceiling_height'].describe()"
   ]
  },
  {
   "cell_type": "code",
   "execution_count": 58,
   "metadata": {},
   "outputs": [
    {
     "data": {
      "image/png": "[encoded data removed]",
      "text/plain": [
       "<Figure size 432x288 with 1 Axes>"
      ]
     },
     "metadata": {
      "needs_background": "light"
     },
     "output_type": "display_data"
    },
    {
     "data": {
      "image/png": "[encoded data removed]",
      "text/plain": [
       "<Figure size 432x288 with 1 Axes>"
      ]
     },
     "metadata": {
      "needs_background": "light"
     },
     "output_type": "display_data"
    }
   ],
   "source": [
    "hist(df_adjusted['ceiling_height'])\n",
    "box(df_adjusted['ceiling_height'])"
   ]
  },
  {
   "cell_type": "code",
   "execution_count": 59,
   "metadata": {},
   "outputs": [
    {
     "data": {
      "text/plain": [
       "3.55"
      ]
     },
     "execution_count": 59,
     "metadata": {},
     "output_type": "execute_result"
    }
   ],
   "source": [
    "top_threshold=np.nanquantile(df_adjusted['ceiling_height'],0.99)\n",
    "top_threshold"
   ]
  },
  {
   "cell_type": "code",
   "execution_count": 60,
   "metadata": {},
   "outputs": [
    {
     "data": {
      "text/plain": [
       "2.5"
      ]
     },
     "execution_count": 60,
     "metadata": {},
     "output_type": "execute_result"
    }
   ],
   "source": [
    "bottom_threshold=np.nanquantile(df_adjusted['ceiling_height'],0.01)\n",
    "bottom_threshold"
   ]
  },
  {
   "cell_type": "markdown",
   "metadata": {},
   "source": [
    "Отбросим крайние значения ниже 2,5 метров и выше 3,55 метров"
   ]
  },
  {
   "cell_type": "code",
   "execution_count": 61,
   "metadata": {},
   "outputs": [
    {
     "data": {
      "text/plain": [
       "count    19631.000000\n",
       "mean         2.715191\n",
       "std          0.168789\n",
       "min          2.510000\n",
       "25%          2.650000\n",
       "50%          2.650000\n",
       "75%          2.700000\n",
       "max          3.540000\n",
       "Name: ceiling_height, dtype: float64"
      ]
     },
     "execution_count": 61,
     "metadata": {},
     "output_type": "execute_result"
    }
   ],
   "source": [
    "df_adjusted=df_adjusted[df_adjusted['ceiling_height']<top_threshold]\n",
    "df_adjusted=df_adjusted[df_adjusted['ceiling_height']>bottom_threshold]\n",
    "df_adjusted['ceiling_height'].describe()"
   ]
  },
  {
   "cell_type": "markdown",
   "metadata": {},
   "source": [
    "**Изучение данных в колонке days_exposition**"
   ]
  },
  {
   "cell_type": "code",
   "execution_count": 62,
   "metadata": {},
   "outputs": [
    {
     "data": {
      "text/plain": [
       "count    17196.000000\n",
       "mean       181.602756\n",
       "std        220.050602\n",
       "min          2.000000\n",
       "25%         45.000000\n",
       "50%         96.000000\n",
       "75%        232.000000\n",
       "max       1572.000000\n",
       "Name: days_exposition, dtype: float64"
      ]
     },
     "execution_count": 62,
     "metadata": {},
     "output_type": "execute_result"
    }
   ],
   "source": [
    "df_adjusted['days_exposition'].describe()"
   ]
  },
  {
   "cell_type": "code",
   "execution_count": 63,
   "metadata": {},
   "outputs": [
    {
     "data": {
      "image/png": "[encoded data removed]",
      "text/plain": [
       "<Figure size 432x288 with 1 Axes>"
      ]
     },
     "metadata": {
      "needs_background": "light"
     },
     "output_type": "display_data"
    }
   ],
   "source": [
    "hist(df_adjusted['days_exposition'])\n"
   ]
  },
  {
   "cell_type": "markdown",
   "metadata": {},
   "source": [
    "Нормальные значения для срока продажи квартиры - диапазон между 1 и 3 квартилями. То есть ситуации, когда квартира продается быстрее, чем за 45 дней или дольше, чем за 232 дня можно назвать нетипичными."
   ]
  },
  {
   "cell_type": "markdown",
   "metadata": {},
   "source": [
    "**Исследование факторов, влияющих на стоимость квартиры**"
   ]
  },
  {
   "cell_type": "markdown",
   "metadata": {},
   "source": [
    "Для проверки на наличие корреляции, построим диаграммы рессеяния по значениям столбцов 'square_meter_price','total_area','rooms','citycenters_nearest'"
   ]
  },
  {
   "cell_type": "code",
   "execution_count": 64,
   "metadata": {},
   "outputs": [],
   "source": [
    "df_for_scatters=df_adjusted[['square_meter_price','total_area','rooms','citycenters_nearest']]"
   ]
  },
  {
   "cell_type": "code",
   "execution_count": 65,
   "metadata": {},
   "outputs": [
    {
     "data": {
      "text/plain": [
       "array([[<AxesSubplot:xlabel='square_meter_price', ylabel='square_meter_price'>,\n",
       "        <AxesSubplot:xlabel='total_area', ylabel='square_meter_price'>,\n",
       "        <AxesSubplot:xlabel='rooms', ylabel='square_meter_price'>,\n",
       "        <AxesSubplot:xlabel='citycenters_nearest', ylabel='square_meter_price'>],\n",
       "       [<AxesSubplot:xlabel='square_meter_price', ylabel='total_area'>,\n",
       "        <AxesSubplot:xlabel='total_area', ylabel='total_area'>,\n",
       "        <AxesSubplot:xlabel='rooms', ylabel='total_area'>,\n",
       "        <AxesSubplot:xlabel='citycenters_nearest', ylabel='total_area'>],\n",
       "       [<AxesSubplot:xlabel='square_meter_price', ylabel='rooms'>,\n",
       "        <AxesSubplot:xlabel='total_area', ylabel='rooms'>,\n",
       "        <AxesSubplot:xlabel='rooms', ylabel='rooms'>,\n",
       "        <AxesSubplot:xlabel='citycenters_nearest', ylabel='rooms'>],\n",
       "       [<AxesSubplot:xlabel='square_meter_price', ylabel='citycenters_nearest'>,\n",
       "        <AxesSubplot:xlabel='total_area', ylabel='citycenters_nearest'>,\n",
       "        <AxesSubplot:xlabel='rooms', ylabel='citycenters_nearest'>,\n",
       "        <AxesSubplot:xlabel='citycenters_nearest', ylabel='citycenters_nearest'>]],\n",
       "      dtype=object)"
      ]
     },
     "execution_count": 65,
     "metadata": {},
     "output_type": "execute_result"
    },
    {
     "data": {
      "image/png": "[encoded data removed]",
      "text/plain": [
       "<Figure size 648x648 with 16 Axes>"
      ]
     },
     "metadata": {
      "needs_background": "light"
     },
     "output_type": "display_data"
    }
   ],
   "source": [
    "pd.plotting.scatter_matrix(df_for_scatters, figsize=(9, 9))"
   ]
  },
  {
   "cell_type": "code",
   "execution_count": 66,
   "metadata": {},
   "outputs": [
    {
     "data": {
      "text/plain": [
       "0.24758331860790755"
      ]
     },
     "execution_count": 66,
     "metadata": {},
     "output_type": "execute_result"
    }
   ],
   "source": [
    "df_adjusted['square_meter_price'].corr(df_adjusted['total_area'])"
   ]
  },
  {
   "cell_type": "code",
   "execution_count": 67,
   "metadata": {},
   "outputs": [
    {
     "data": {
      "text/plain": [
       "0.008691948985361518"
      ]
     },
     "execution_count": 67,
     "metadata": {},
     "output_type": "execute_result"
    }
   ],
   "source": [
    "df_adjusted['square_meter_price'].corr(df_adjusted['rooms'])"
   ]
  },
  {
   "cell_type": "code",
   "execution_count": 68,
   "metadata": {},
   "outputs": [
    {
     "data": {
      "text/plain": [
       "0.03773556640719708"
      ]
     },
     "execution_count": 68,
     "metadata": {},
     "output_type": "execute_result"
    }
   ],
   "source": [
    "df_adjusted['square_meter_price'].corr(df_adjusted['citycenters_nearest'])"
   ]
  },
  {
   "cell_type": "markdown",
   "metadata": {},
   "source": [
    "Построим отдельные диаграммы рассеяния по отношению цены к общей площади и близости к центру города. Добавим параметр прозрачности.\n",
    "\n",
    "Также построим диаграмму изменения цены у квартир с разным количествои комнат."
   ]
  },
  {
   "cell_type": "code",
   "execution_count": 69,
   "metadata": {},
   "outputs": [
    {
     "data": {
      "text/plain": [
       "<AxesSubplot:xlabel='total_area', ylabel='square_meter_price'>"
      ]
     },
     "execution_count": 69,
     "metadata": {},
     "output_type": "execute_result"
    },
    {
     "data": {
      "image/png": "[encoded data removed]",
      "text/plain": [
       "<Figure size 432x288 with 1 Axes>"
      ]
     },
     "metadata": {
      "needs_background": "light"
     },
     "output_type": "display_data"
    }
   ],
   "source": [
    "df_total_area = pd.DataFrame(df_adjusted.groupby('total_area')['square_meter_price'].median()).reset_index()\n",
    "df_total_area.plot(x='total_area', y='square_meter_price', kind='scatter',alpha=0.2)"
   ]
  },
  {
   "cell_type": "markdown",
   "metadata": {},
   "source": [
    "Явной зависимоти площади и цены не прослеживается, однако видно, что чем меньше площадь, тем меньше разброс в цене и большинство выпадающих значений цены у квартир с площадью от 100 м2 и более."
   ]
  },
  {
   "cell_type": "code",
   "execution_count": 70,
   "metadata": {
    "scrolled": true
   },
   "outputs": [
    {
     "data": {
      "text/plain": [
       "<AxesSubplot:xlabel='citycenters_nearest', ylabel='square_meter_price'>"
      ]
     },
     "execution_count": 70,
     "metadata": {},
     "output_type": "execute_result"
    },
    {
     "data": {
      "image/png": "[encoded data removed]",
      "text/plain": [
       "<Figure size 432x288 with 1 Axes>"
      ]
     },
     "metadata": {
      "needs_background": "light"
     },
     "output_type": "display_data"
    }
   ],
   "source": [
    "df_citycenters_nearest = pd.DataFrame(df_adjusted.groupby\\\n",
    "('citycenters_nearest')['square_meter_price'].median()).reset_index()\n",
    "df_citycenters_nearest.plot(x='citycenters_nearest', y='square_meter_price', kind='scatter',alpha=0.2)"
   ]
  },
  {
   "cell_type": "markdown",
   "metadata": {},
   "source": [
    "Корелляция расстояния от центра и цены не прослеживается, хотя по диаграмме рассеяния видно, что большая чать дороих квартир (250000 за метр и более) находятся в пределах 10 км от центра. "
   ]
  },
  {
   "cell_type": "code",
   "execution_count": 71,
   "metadata": {},
   "outputs": [
    {
     "data": {
      "text/plain": [
       "<AxesSubplot:xlabel='rooms'>"
      ]
     },
     "execution_count": 71,
     "metadata": {},
     "output_type": "execute_result"
    },
    {
     "data": {
      "image/png": "[encoded data removed]",
      "text/plain": [
       "<Figure size 432x288 with 1 Axes>"
      ]
     },
     "metadata": {
      "needs_background": "light"
     },
     "output_type": "display_data"
    }
   ],
   "source": [
    "df_rooms = pd.DataFrame(df_adjusted.groupby('rooms')['square_meter_price'].median()).reset_index()\n",
    "df_rooms.plot(x='rooms', y='square_meter_price')"
   ]
  },
  {
   "cell_type": "markdown",
   "metadata": {},
   "source": [
    "Цена падает при увеличении количества комнат с ноля до трех, после чего тренд сменяется на противоположный. Это может объясняться тем, что квартиры до 3 комнат - массовый сегмент (в нашем датафрейме их 90%). Квартиры с большим количеством комнат скорее можно отнести к элитному жилью, где действует другая логика ценообразования (в нашем датафрейме таких 10 %)"
   ]
  },
  {
   "cell_type": "markdown",
   "metadata": {},
   "source": [
    "**Зависимость цены от этажа, дня недели, месяца и года**"
   ]
  },
  {
   "cell_type": "markdown",
   "metadata": {},
   "source": [
    "Найдем медианные значения цены за квадратный метр по каждой категории, а также построим диаграммы."
   ]
  },
  {
   "cell_type": "code",
   "execution_count": 72,
   "metadata": {},
   "outputs": [
    {
     "data": {
      "text/plain": [
       "floor_type\n",
       "first    81993.569132\n",
       "last     88948.787062\n",
       "other    99540.581930\n",
       "Name: square_meter_price, dtype: float64"
      ]
     },
     "execution_count": 72,
     "metadata": {},
     "output_type": "execute_result"
    }
   ],
   "source": [
    "df_adjusted.groupby('floor_type')['square_meter_price'].median()"
   ]
  },
  {
   "cell_type": "code",
   "execution_count": 73,
   "metadata": {},
   "outputs": [
    {
     "data": {
      "text/plain": [
       "<AxesSubplot:xlabel='floor_type'>"
      ]
     },
     "execution_count": 73,
     "metadata": {},
     "output_type": "execute_result"
    },
    {
     "data": {
      "image/png": "[encoded data removed]",
      "text/plain": [
       "<Figure size 432x288 with 1 Axes>"
      ]
     },
     "metadata": {
      "needs_background": "light"
     },
     "output_type": "display_data"
    }
   ],
   "source": [
    "df_floor = pd.DataFrame(df_adjusted.groupby('floor_type')['square_meter_price'].median()).reset_index()\n",
    "df_floor.plot(x='floor_type', y='square_meter_price')"
   ]
  },
  {
   "cell_type": "markdown",
   "metadata": {},
   "source": [
    "Зависимость цены квартиры и этажа, на котором она расположена есть: самые дешевые - квартиры на первых этажах, далее - на последних и выше всего цена у прочих квартир."
   ]
  },
  {
   "cell_type": "code",
   "execution_count": 74,
   "metadata": {},
   "outputs": [
    {
     "data": {
      "text/plain": [
       "weekday_exposition\n",
       "0    96296.296296\n",
       "1    96760.259179\n",
       "2    96451.612903\n",
       "3    96482.412060\n",
       "4    95555.555556\n",
       "5    95029.239766\n",
       "6    95264.017420\n",
       "Name: square_meter_price, dtype: float64"
      ]
     },
     "execution_count": 74,
     "metadata": {},
     "output_type": "execute_result"
    }
   ],
   "source": [
    "df_adjusted.groupby('weekday_exposition')['square_meter_price'].median()"
   ]
  },
  {
   "cell_type": "code",
   "execution_count": 75,
   "metadata": {},
   "outputs": [
    {
     "data": {
      "text/plain": [
       "<AxesSubplot:xlabel='weekday_exposition'>"
      ]
     },
     "execution_count": 75,
     "metadata": {},
     "output_type": "execute_result"
    },
    {
     "data": {
      "image/png": "[encoded data removed]",
      "text/plain": [
       "<Figure size 432x288 with 1 Axes>"
      ]
     },
     "metadata": {
      "needs_background": "light"
     },
     "output_type": "display_data"
    }
   ],
   "source": [
    "df_weekday_exposition = pd.DataFrame(df_adjusted.groupby\\\n",
    "('weekday_exposition')['square_meter_price'].median()).reset_index()\n",
    "df_weekday_exposition.plot(x='weekday_exposition', y='square_meter_price')"
   ]
  },
  {
   "cell_type": "markdown",
   "metadata": {},
   "source": [
    "День недели, в который было размещено объявление, на цену не влияет."
   ]
  },
  {
   "cell_type": "code",
   "execution_count": 76,
   "metadata": {},
   "outputs": [
    {
     "data": {
      "text/plain": [
       "month_exposition\n",
       "1     96764.677895\n",
       "2     95833.333333\n",
       "3     97222.222222\n",
       "4     97402.597403\n",
       "5     93750.000000\n",
       "6     93777.777778\n",
       "7     96244.131455\n",
       "8     97174.479084\n",
       "9     97222.222222\n",
       "10    95526.315789\n",
       "11    96250.000000\n",
       "12    95384.615385\n",
       "Name: square_meter_price, dtype: float64"
      ]
     },
     "execution_count": 76,
     "metadata": {},
     "output_type": "execute_result"
    }
   ],
   "source": [
    "df_adjusted.groupby('month_exposition')['square_meter_price'].median()"
   ]
  },
  {
   "cell_type": "code",
   "execution_count": 77,
   "metadata": {},
   "outputs": [
    {
     "data": {
      "text/plain": [
       "<AxesSubplot:xlabel='month_exposition'>"
      ]
     },
     "execution_count": 77,
     "metadata": {},
     "output_type": "execute_result"
    },
    {
     "data": {
      "image/png": "[encoded data removed]",
      "text/plain": [
       "<Figure size 432x288 with 1 Axes>"
      ]
     },
     "metadata": {
      "needs_background": "light"
     },
     "output_type": "display_data"
    }
   ],
   "source": [
    "df_month_exposition = pd.DataFrame(df_adjusted.groupby\\\n",
    "('month_exposition')['square_meter_price'].median()).reset_index()\n",
    "df_month_exposition.plot(x='month_exposition', y='square_meter_price')"
   ]
  },
  {
   "cell_type": "markdown",
   "metadata": {},
   "source": [
    "Месяц, в который было размещено объявление, на цену не влияет."
   ]
  },
  {
   "cell_type": "code",
   "execution_count": 78,
   "metadata": {},
   "outputs": [
    {
     "data": {
      "text/plain": [
       "year_exposition\n",
       "2014    113774.238965\n",
       "2015     93647.887324\n",
       "2016     92857.142857\n",
       "2017     93551.740326\n",
       "2018     97466.666667\n",
       "2019    105820.105820\n",
       "Name: square_meter_price, dtype: float64"
      ]
     },
     "execution_count": 78,
     "metadata": {},
     "output_type": "execute_result"
    }
   ],
   "source": [
    "df_adjusted.groupby('year_exposition')['square_meter_price'].median()"
   ]
  },
  {
   "cell_type": "code",
   "execution_count": 79,
   "metadata": {},
   "outputs": [
    {
     "data": {
      "text/plain": [
       "<AxesSubplot:xlabel='year_exposition'>"
      ]
     },
     "execution_count": 79,
     "metadata": {},
     "output_type": "execute_result"
    },
    {
     "data": {
      "image/png": "[encoded data removed]",
      "text/plain": [
       "<Figure size 432x288 with 1 Axes>"
      ]
     },
     "metadata": {
      "needs_background": "light"
     },
     "output_type": "display_data"
    }
   ],
   "source": [
    "df_year_exposition = pd.DataFrame(df_adjusted.groupby('year_exposition')['square_meter_price'].median()).reset_index()\n",
    "df_year_exposition.plot(x='year_exposition', y='square_meter_price')"
   ]
  },
  {
   "cell_type": "markdown",
   "metadata": {},
   "source": [
    "От года размещения зависит цена за квадратный метр. В масштабе года становится заметна динамика изменения цен: резкий спад после 2014 года и последующий постепенный рост. "
   ]
  },
  {
   "cell_type": "markdown",
   "metadata": {},
   "source": [
    "**Анализ десяти населённых пунктов с наибольшим числом объявлений**"
   ]
  },
  {
   "cell_type": "code",
   "execution_count": 80,
   "metadata": {},
   "outputs": [
    {
     "data": {
      "text/html": [
       "<div>\n",
       "<style scoped>\n",
       "    .dataframe tbody tr th:only-of-type {\n",
       "        vertical-align: middle;\n",
       "    }\n",
       "\n",
       "    .dataframe tbody tr th {\n",
       "        vertical-align: top;\n",
       "    }\n",
       "\n",
       "    .dataframe thead tr th {\n",
       "        text-align: left;\n",
       "    }\n",
       "\n",
       "    .dataframe thead tr:last-of-type th {\n",
       "        text-align: right;\n",
       "    }\n",
       "</style>\n",
       "<table border=\"1\" class=\"dataframe\">\n",
       "  <thead>\n",
       "    <tr>\n",
       "      <th></th>\n",
       "      <th>count</th>\n",
       "      <th>mean</th>\n",
       "    </tr>\n",
       "    <tr>\n",
       "      <th></th>\n",
       "      <th>square_meter_price</th>\n",
       "      <th>square_meter_price</th>\n",
       "    </tr>\n",
       "    <tr>\n",
       "      <th>locality_name</th>\n",
       "      <th></th>\n",
       "      <th></th>\n",
       "    </tr>\n",
       "  </thead>\n",
       "  <tbody>\n",
       "    <tr>\n",
       "      <th>Санкт-Петербург</th>\n",
       "      <td>13158</td>\n",
       "      <td>115145.719728</td>\n",
       "    </tr>\n",
       "    <tr>\n",
       "      <th>Пушкин</th>\n",
       "      <td>280</td>\n",
       "      <td>104383.996638</td>\n",
       "    </tr>\n",
       "    <tr>\n",
       "      <th>деревня Кудрово</th>\n",
       "      <td>298</td>\n",
       "      <td>92455.349950</td>\n",
       "    </tr>\n",
       "    <tr>\n",
       "      <th>посёлок Парголово</th>\n",
       "      <td>311</td>\n",
       "      <td>90272.963303</td>\n",
       "    </tr>\n",
       "    <tr>\n",
       "      <th>посёлок Мурино</th>\n",
       "      <td>512</td>\n",
       "      <td>85642.107405</td>\n",
       "    </tr>\n",
       "    <tr>\n",
       "      <th>посёлок Шушары</th>\n",
       "      <td>410</td>\n",
       "      <td>78630.463087</td>\n",
       "    </tr>\n",
       "    <tr>\n",
       "      <th>Колпино</th>\n",
       "      <td>233</td>\n",
       "      <td>75222.483947</td>\n",
       "    </tr>\n",
       "    <tr>\n",
       "      <th>Гатчина</th>\n",
       "      <td>234</td>\n",
       "      <td>69060.076053</td>\n",
       "    </tr>\n",
       "    <tr>\n",
       "      <th>Всеволожск</th>\n",
       "      <td>364</td>\n",
       "      <td>69036.456119</td>\n",
       "    </tr>\n",
       "    <tr>\n",
       "      <th>Выборг</th>\n",
       "      <td>191</td>\n",
       "      <td>58589.656678</td>\n",
       "    </tr>\n",
       "  </tbody>\n",
       "</table>\n",
       "</div>"
      ],
      "text/plain": [
       "                               count               mean\n",
       "                  square_meter_price square_meter_price\n",
       "locality_name                                          \n",
       "Санкт-Петербург                13158      115145.719728\n",
       "Пушкин                           280      104383.996638\n",
       "деревня Кудрово                  298       92455.349950\n",
       "посёлок Парголово                311       90272.963303\n",
       "посёлок Мурино                   512       85642.107405\n",
       "посёлок Шушары                   410       78630.463087\n",
       "Колпино                          233       75222.483947\n",
       "Гатчина                          234       69060.076053\n",
       "Всеволожск                       364       69036.456119\n",
       "Выборг                           191       58589.656678"
      ]
     },
     "execution_count": 80,
     "metadata": {},
     "output_type": "execute_result"
    }
   ],
   "source": [
    "df_rating = df_adjusted.pivot_table(index='locality_name', values='square_meter_price',\\\n",
    "aggfunc=['count', 'mean']).sort_values(by=('count', 'square_meter_price'), ascending=False).head(10)\n",
    "df_rating=df_rating.sort_values(by=('mean', 'square_meter_price'), ascending=False)\n",
    "df_rating"
   ]
  },
  {
   "cell_type": "markdown",
   "metadata": {},
   "source": [
    "Топ 10 населенных пунктов по цене среди первой десятки по общему количеству объявлений возглавляет Санкт_петербург - 115145  руб, на последнем месте в списке Выборг 58589 руб."
   ]
  },
  {
   "cell_type": "markdown",
   "metadata": {},
   "source": [
    "**Анализ изменения цены по степени удалённости от центра**"
   ]
  },
  {
   "cell_type": "code",
   "execution_count": 81,
   "metadata": {},
   "outputs": [],
   "source": [
    "df_adjusted['citycenters_nearest_km']=df_adjusted['citycenters_nearest']/1000"
   ]
  },
  {
   "cell_type": "code",
   "execution_count": 82,
   "metadata": {},
   "outputs": [
    {
     "data": {
      "text/html": [
       "<div>\n",
       "<style scoped>\n",
       "    .dataframe tbody tr th:only-of-type {\n",
       "        vertical-align: middle;\n",
       "    }\n",
       "\n",
       "    .dataframe tbody tr th {\n",
       "        vertical-align: top;\n",
       "    }\n",
       "\n",
       "    .dataframe thead th {\n",
       "        text-align: right;\n",
       "    }\n",
       "</style>\n",
       "<table border=\"1\" class=\"dataframe\">\n",
       "  <thead>\n",
       "    <tr style=\"text-align: right;\">\n",
       "      <th></th>\n",
       "      <th>citycenters_nearest</th>\n",
       "      <th>citycenters_nearest_km</th>\n",
       "    </tr>\n",
       "  </thead>\n",
       "  <tbody>\n",
       "    <tr>\n",
       "      <th>0</th>\n",
       "      <td>16028.0</td>\n",
       "      <td>16</td>\n",
       "    </tr>\n",
       "    <tr>\n",
       "      <th>1</th>\n",
       "      <td>18603.0</td>\n",
       "      <td>18</td>\n",
       "    </tr>\n",
       "    <tr>\n",
       "      <th>2</th>\n",
       "      <td>13933.0</td>\n",
       "      <td>13</td>\n",
       "    </tr>\n",
       "    <tr>\n",
       "      <th>3</th>\n",
       "      <td>6800.0</td>\n",
       "      <td>6</td>\n",
       "    </tr>\n",
       "    <tr>\n",
       "      <th>4</th>\n",
       "      <td>8098.0</td>\n",
       "      <td>8</td>\n",
       "    </tr>\n",
       "  </tbody>\n",
       "</table>\n",
       "</div>"
      ],
      "text/plain": [
       "   citycenters_nearest  citycenters_nearest_km\n",
       "0              16028.0                      16\n",
       "1              18603.0                      18\n",
       "2              13933.0                      13\n",
       "3               6800.0                       6\n",
       "4               8098.0                       8"
      ]
     },
     "execution_count": 82,
     "metadata": {},
     "output_type": "execute_result"
    }
   ],
   "source": [
    "df_adjusted['citycenters_nearest_km']=df_adjusted['citycenters_nearest_km'].astype(int)\n",
    "df_adjusted[['citycenters_nearest','citycenters_nearest_km']].head()"
   ]
  },
  {
   "cell_type": "code",
   "execution_count": 83,
   "metadata": {},
   "outputs": [
    {
     "data": {
      "text/plain": [
       "count               13158\n",
       "unique                  1\n",
       "top       Санкт-Петербург\n",
       "freq                13158\n",
       "Name: locality_name, dtype: object"
      ]
     },
     "execution_count": 83,
     "metadata": {},
     "output_type": "execute_result"
    }
   ],
   "source": [
    "df_spb=df_adjusted[df_adjusted['locality_name']=='Санкт-Петербург']\n",
    "df_spb['locality_name'].describe()"
   ]
  },
  {
   "cell_type": "code",
   "execution_count": 84,
   "metadata": {},
   "outputs": [
    {
     "name": "stdout",
     "output_type": "stream",
     "text": [
      "    square_meter_price  citycenters_nearest_km\n",
      "0        159607.789879                       0\n",
      "1        162071.655912                       1\n",
      "2        135962.712684                       2\n",
      "3        122263.636752                       3\n",
      "4        135729.732589                       4\n",
      "5        144160.797848                       5\n",
      "6        150673.656665                       6\n",
      "7        141603.542316                       7\n",
      "8        121249.946359                       8\n",
      "9        111773.967497                       9\n",
      "10       113596.525029                      10\n",
      "11       107474.920683                      11\n",
      "12       109252.716380                      12\n",
      "13       108161.826421                      13\n",
      "14       106109.296114                      14\n",
      "15       103585.105371                      15\n",
      "16       102008.517845                      16\n",
      "17        95189.025548                      17\n",
      "18        96735.692342                      18\n",
      "19        95024.279439                      19\n",
      "20       108521.101038                      20\n",
      "21        91330.769016                      21\n",
      "22        88671.840590                      22\n",
      "23        90203.469305                      23\n",
      "24        82440.343912                      24\n",
      "25        91182.163331                      25\n",
      "26        55118.977673                      26\n",
      "27       132115.709459                      27\n",
      "28        82057.341826                      28\n",
      "29        65460.203079                      29\n"
     ]
    },
    {
     "data": {
      "text/plain": [
       "<AxesSubplot:xlabel='citycenters_nearest_km'>"
      ]
     },
     "execution_count": 84,
     "metadata": {},
     "output_type": "execute_result"
    },
    {
     "data": {
      "image/png": "[encoded data removed]",
      "text/plain": [
       "<Figure size 432x288 with 1 Axes>"
      ]
     },
     "metadata": {
      "needs_background": "light"
     },
     "output_type": "display_data"
    }
   ],
   "source": [
    "price_per_km_citycenter = df_spb.pivot_table\\\n",
    "(index='citycenters_nearest_km', values='square_meter_price', aggfunc='mean')\n",
    "price_per_km_citycenter['citycenters_nearest_km']=price_per_km_citycenter.index\n",
    "price_per_km_citycenter.reset_index(drop=True, inplace=True)\n",
    "print(price_per_km_citycenter)\n",
    "\n",
    "price_per_km_citycenter.plot(x='citycenters_nearest_km',y='square_meter_price', grid=True)"
   ]
  },
  {
   "cell_type": "markdown",
   "metadata": {},
   "source": [
    "На графике видно, что по мере отдаления от центра средняя цена за квадратный метр падает до расстояния 3 километров, после чего тренд меняется на противоположный. Можно предположить что начиная с расстояния от центра Санкт-Петербурга в 3 км и выше близость к центру уже не так сильно влияет на цену. Таким образом центральную часть города можно ограничить 3 километрами от центра."
   ]
  },
  {
   "cell_type": "markdown",
   "metadata": {},
   "source": [
    "**Сравнение выводов по квартирам в центре и общих выводов по всей базе**"
   ]
  },
  {
   "cell_type": "code",
   "execution_count": 85,
   "metadata": {},
   "outputs": [],
   "source": [
    "df_spb_center=df_spb[df_spb['citycenters_nearest_km']<=3]\n"
   ]
  },
  {
   "cell_type": "code",
   "execution_count": 86,
   "metadata": {},
   "outputs": [
    {
     "name": "stdout",
     "output_type": "stream",
     "text": [
      "count    1032.000000\n",
      "mean       87.233702\n",
      "std        37.319641\n",
      "min        12.000000\n",
      "25%        60.000000\n",
      "50%        80.650000\n",
      "75%       109.175000\n",
      "max       197.000000\n",
      "Name: total_area, dtype: float64\n"
     ]
    },
    {
     "data": {
      "image/png": "[encoded data removed]",
      "text/plain": [
       "<Figure size 432x288 with 1 Axes>"
      ]
     },
     "metadata": {
      "needs_background": "light"
     },
     "output_type": "display_data"
    },
    {
     "data": {
      "image/png": "[encoded data removed]",
      "text/plain": [
       "<Figure size 432x288 with 1 Axes>"
      ]
     },
     "metadata": {
      "needs_background": "light"
     },
     "output_type": "display_data"
    }
   ],
   "source": [
    "print(df_spb_center['total_area'].describe())\n",
    "hist(df_spb_center['total_area'])\n",
    "box(df_spb_center['total_area'])\n",
    "\n"
   ]
  },
  {
   "cell_type": "code",
   "execution_count": 87,
   "metadata": {},
   "outputs": [
    {
     "name": "stdout",
     "output_type": "stream",
     "text": [
      "count    1.032000e+03\n",
      "mean     1.235730e+07\n",
      "std      1.656661e+07\n",
      "min      2.100000e+06\n",
      "25%      6.780000e+06\n",
      "50%      9.000000e+06\n",
      "75%      1.300000e+07\n",
      "max      3.300000e+08\n",
      "Name: last_price, dtype: float64\n"
     ]
    },
    {
     "data": {
      "image/png": "[encoded data removed]",
      "text/plain": [
       "<Figure size 432x288 with 1 Axes>"
      ]
     },
     "metadata": {
      "needs_background": "light"
     },
     "output_type": "display_data"
    },
    {
     "data": {
      "image/png": "[encoded data removed]",
      "text/plain": [
       "<Figure size 432x288 with 1 Axes>"
      ]
     },
     "metadata": {
      "needs_background": "light"
     },
     "output_type": "display_data"
    }
   ],
   "source": [
    "print(df_spb_center['last_price'].describe())\n",
    "hist(df_spb_center['last_price'])\n",
    "box(df_spb_center['last_price'])\n",
    "\n"
   ]
  },
  {
   "cell_type": "code",
   "execution_count": 88,
   "metadata": {},
   "outputs": [
    {
     "name": "stdout",
     "output_type": "stream",
     "text": [
      "count    1032.000000\n",
      "mean        2.924419\n",
      "std         1.343918\n",
      "min         0.000000\n",
      "25%         2.000000\n",
      "50%         3.000000\n",
      "75%         4.000000\n",
      "max        11.000000\n",
      "Name: rooms, dtype: float64\n"
     ]
    },
    {
     "data": {
      "image/png": "[encoded data removed]",
      "text/plain": [
       "<Figure size 432x288 with 1 Axes>"
      ]
     },
     "metadata": {
      "needs_background": "light"
     },
     "output_type": "display_data"
    },
    {
     "data": {
      "image/png": "[encoded data removed]",
      "text/plain": [
       "<Figure size 432x288 with 1 Axes>"
      ]
     },
     "metadata": {
      "needs_background": "light"
     },
     "output_type": "display_data"
    }
   ],
   "source": [
    "print(df_spb_center['rooms'].describe())\n",
    "hist(df_spb_center['rooms'])\n",
    "box(df_spb_center['rooms'])\n",
    "\n"
   ]
  },
  {
   "cell_type": "code",
   "execution_count": 89,
   "metadata": {},
   "outputs": [
    {
     "name": "stdout",
     "output_type": "stream",
     "text": [
      "count    1032.000000\n",
      "mean        2.932665\n",
      "std         0.285410\n",
      "min         2.550000\n",
      "25%         2.650000\n",
      "50%         2.900000\n",
      "75%         3.200000\n",
      "max         3.540000\n",
      "Name: ceiling_height, dtype: float64\n"
     ]
    },
    {
     "data": {
      "image/png": "[encoded data removed]",
      "text/plain": [
       "<Figure size 432x288 with 1 Axes>"
      ]
     },
     "metadata": {
      "needs_background": "light"
     },
     "output_type": "display_data"
    },
    {
     "data": {
      "image/png": "[encoded data removed]",
      "text/plain": [
       "<Figure size 432x288 with 1 Axes>"
      ]
     },
     "metadata": {
      "needs_background": "light"
     },
     "output_type": "display_data"
    }
   ],
   "source": [
    "print(df_spb_center['ceiling_height'].describe())\n",
    "hist(df_spb_center['ceiling_height'])\n",
    "box(df_spb_center['ceiling_height'])\n",
    "\n"
   ]
  },
  {
   "cell_type": "code",
   "execution_count": 90,
   "metadata": {},
   "outputs": [],
   "source": [
    "spb_center_rooms = pd.DataFrame(df_spb_center.groupby('rooms')['square_meter_price'].median()).reset_index()"
   ]
  },
  {
   "cell_type": "code",
   "execution_count": 91,
   "metadata": {},
   "outputs": [
    {
     "data": {
      "text/plain": [
       "count    1032.000000\n",
       "mean        2.924419\n",
       "std         1.343918\n",
       "min         0.000000\n",
       "25%         2.000000\n",
       "50%         3.000000\n",
       "75%         4.000000\n",
       "max        11.000000\n",
       "Name: rooms, dtype: float64"
      ]
     },
     "execution_count": 91,
     "metadata": {},
     "output_type": "execute_result"
    }
   ],
   "source": [
    "df_spb_center['rooms'].describe()"
   ]
  },
  {
   "cell_type": "code",
   "execution_count": 92,
   "metadata": {},
   "outputs": [
    {
     "data": {
      "text/plain": [
       "5.0"
      ]
     },
     "execution_count": 92,
     "metadata": {},
     "output_type": "execute_result"
    }
   ],
   "source": [
    "np.nanquantile(df_spb_center['rooms'],0.95)"
   ]
  },
  {
   "cell_type": "code",
   "execution_count": 93,
   "metadata": {},
   "outputs": [],
   "source": [
    "spb_center_floor = pd.DataFrame(df_spb_center.groupby\\\n",
    "('floor_type')['square_meter_price'].median()).reset_index()\n",
    "#spb_center_floor.plot(x='floor_type', y='square_meter_price')"
   ]
  },
  {
   "cell_type": "code",
   "execution_count": 94,
   "metadata": {},
   "outputs": [],
   "source": [
    "spb_center_citycenters_nearest_km = pd.DataFrame\\\n",
    "(df_spb_center.groupby('citycenters_nearest_km')['square_meter_price'].median()).reset_index()"
   ]
  },
  {
   "cell_type": "code",
   "execution_count": 95,
   "metadata": {},
   "outputs": [],
   "source": [
    "spb_center_year_exposition = pd.DataFrame\\\n",
    "(df_spb_center.groupby('year_exposition')['square_meter_price'].median()).reset_index()"
   ]
  },
  {
   "cell_type": "code",
   "execution_count": 96,
   "metadata": {},
   "outputs": [
    {
     "data": {
      "image/png": "[encoded data removed]",
      "text/plain": [
       "<Figure size 1080x1080 with 4 Axes>"
      ]
     },
     "metadata": {
      "needs_background": "light"
     },
     "output_type": "display_data"
    }
   ],
   "source": [
    "\n",
    "fig,ax=plt.subplots(2,2,figsize=(15,15),sharey=False)\n",
    "\n",
    "ax[0,0].set_title('число комнат')\n",
    "ax[0,0].plot(spb_center_rooms['rooms'], spb_center_rooms['square_meter_price'],color='C0',label = 'центр СПБ')\n",
    "ax[0,0].plot(df_rooms['rooms'],df_rooms['square_meter_price'],color='C1',label = 'общая база')\n",
    "ax[0,0].grid()\n",
    "ax[0,0].legend()\n",
    "\n",
    "ax[0,1].set_title('этаж')\n",
    "ax[0,1].plot(spb_center_floor['floor_type'],spb_center_floor['square_meter_price'],color='C0',label = 'центр СПБ')\n",
    "ax[0,1].plot(df_floor['floor_type'],df_floor['square_meter_price'],color='C1',label = 'общая база')\n",
    "ax[0,1].grid()\n",
    "ax[0,1].legend()\n",
    "\n",
    "ax[1,0].set_title('расстояние от центра')\n",
    "ax[1,0].plot(spb_center_citycenters_nearest_km['citycenters_nearest_km'],spb_center_citycenters_nearest_km['square_meter_price'],color='C0',label = 'центр СПБ')\n",
    "ax[1,0].plot(price_per_km_citycenter['citycenters_nearest_km'],price_per_km_citycenter['square_meter_price'],color='C1',label = 'общая база')\n",
    "ax[1,0].grid()\n",
    "ax[1,0].legend()\n",
    "\n",
    "ax[1,1].set_title('год размещения')\n",
    "ax[1,1].plot(spb_center_year_exposition['year_exposition'],spb_center_year_exposition['square_meter_price'],color='C0',label = 'центр СПБ')\n",
    "ax[1,1].plot(df_year_exposition['year_exposition'],df_year_exposition['square_meter_price'],color='C1',label = 'общая база')\n",
    "ax[1,1].grid()\n",
    "ax[1,1].legend()\n",
    "plt.show()"
   ]
  },
  {
   "cell_type": "markdown",
   "metadata": {},
   "source": [
    "Как и в основном датафрейме цена за метр падает с увеличением количества комнат, но в отличие от основного датафрейма не до 3, а до 5(95% всех квартир имеют до 5 комнат). "
   ]
  },
  {
   "cell_type": "markdown",
   "metadata": {},
   "source": [
    "В данных по центру Санкт-Петербурга, как и в общей базе самый большой дисконт по сравнению с квартирами из категории \"не первый и не последний этаж\" у квартир на первом этаже, далее - на последнем."
   ]
  },
  {
   "cell_type": "markdown",
   "metadata": {},
   "source": [
    "У квартир в центральной части Санкт-Петербурга наблюдается отрицательная зависимость цены и удаленности от центра. На общем датафрейме такой зависимости нет."
   ]
  },
  {
   "cell_type": "markdown",
   "metadata": {},
   "source": [
    "Как и в общем датафрейме - в данных по центраьному Санкт-Петербургу есть цена зависит от года - после 2014 года наблюдается резкий спад и постепенное восстановление начиная с 2015 года."
   ]
  },
  {
   "cell_type": "markdown",
   "metadata": {},
   "source": [
    "## Общий вывод"
   ]
  },
  {
   "cell_type": "markdown",
   "metadata": {},
   "source": [
    "Общими факторами, влияющими на цену квартиры, характерными как для всех квартир в базе, так и квартир, расположенных в центре Санкт-Петербурга являются:\n",
    "\n",
    "    - год продажи - средняя цена повтряет общие тенденции рынка (кризис 2014 года и постепенное восстановление);\n",
    "    \n",
    "    - последний этаж снижает цену в примерно на 5 %, первый до 10% от цены за метр квартир на средних этажах;\n",
    "    \n",
    "    - увеличение количества комнат в массовом сегменте (примерно для 90% квартир) сопровождается снижением цены за квадратный метр.\n",
    "    \n",
    "Для квартир в центра Санкт-Петербурга также прослеживается отрицательная зависимость цены и удаленногсти от центра примерно до 3 км от центра. В общей базе такой зависимости не прослеживается."
   ]
  }
 ],
 "metadata": {
  "ExecuteTimeLog": [
   {
    "duration": 723,
    "start_time": "2022-05-26T19:13:26.784Z"
   },
   {
    "duration": 95,
    "start_time": "2022-05-26T19:13:48.239Z"
   },
   {
    "duration": 37,
    "start_time": "2022-05-26T19:16:35.507Z"
   },
   {
    "duration": 82,
    "start_time": "2022-05-26T19:19:25.737Z"
   },
   {
    "duration": 116,
    "start_time": "2022-05-26T19:20:00.933Z"
   },
   {
    "duration": 100,
    "start_time": "2022-05-26T19:23:22.803Z"
   },
   {
    "duration": 102,
    "start_time": "2022-05-26T19:24:28.874Z"
   },
   {
    "duration": 114,
    "start_time": "2022-05-26T19:24:59.371Z"
   },
   {
    "duration": 183,
    "start_time": "2022-05-26T20:08:53.342Z"
   },
   {
    "duration": 183,
    "start_time": "2022-05-27T03:54:08.011Z"
   },
   {
    "duration": 9,
    "start_time": "2022-05-27T03:54:12.776Z"
   },
   {
    "duration": 2,
    "start_time": "2022-05-27T04:20:28.533Z"
   },
   {
    "duration": 660,
    "start_time": "2022-05-27T09:30:04.255Z"
   },
   {
    "duration": 10,
    "start_time": "2022-05-27T09:30:04.916Z"
   },
   {
    "duration": 17883,
    "start_time": "2022-05-27T09:30:08.931Z"
   },
   {
    "duration": 59,
    "start_time": "2022-05-27T19:25:26.985Z"
   },
   {
    "duration": 1003,
    "start_time": "2022-05-27T19:25:31.100Z"
   },
   {
    "duration": 8,
    "start_time": "2022-05-27T19:25:32.105Z"
   },
   {
    "duration": 336,
    "start_time": "2022-05-27T19:25:32.114Z"
   },
   {
    "duration": 9,
    "start_time": "2022-05-27T19:25:33.138Z"
   },
   {
    "duration": 11,
    "start_time": "2022-05-27T19:30:08.263Z"
   },
   {
    "duration": 48,
    "start_time": "2022-05-27T19:30:16.725Z"
   },
   {
    "duration": 26,
    "start_time": "2022-05-27T19:30:43.416Z"
   },
   {
    "duration": 3,
    "start_time": "2022-05-27T19:59:44.813Z"
   },
   {
    "duration": 37,
    "start_time": "2022-05-27T19:59:47.201Z"
   },
   {
    "duration": 5,
    "start_time": "2022-05-27T20:25:46.993Z"
   },
   {
    "duration": 10,
    "start_time": "2022-05-27T20:26:09.615Z"
   },
   {
    "duration": 9,
    "start_time": "2022-05-27T20:28:19.499Z"
   },
   {
    "duration": 31,
    "start_time": "2022-05-27T20:28:29.558Z"
   },
   {
    "duration": 51,
    "start_time": "2022-05-27T20:29:25.816Z"
   },
   {
    "duration": 1685,
    "start_time": "2022-05-29T07:22:39.955Z"
   },
   {
    "duration": 16,
    "start_time": "2022-05-29T07:22:41.642Z"
   },
   {
    "duration": 51,
    "start_time": "2022-05-29T07:22:41.660Z"
   },
   {
    "duration": 43,
    "start_time": "2022-05-29T07:22:41.713Z"
   },
   {
    "duration": 1965,
    "start_time": "2022-05-29T10:17:49.645Z"
   },
   {
    "duration": 29,
    "start_time": "2022-05-29T10:17:51.945Z"
   },
   {
    "duration": 116,
    "start_time": "2022-05-29T10:17:56.175Z"
   },
   {
    "duration": 14,
    "start_time": "2022-05-29T10:17:57.823Z"
   },
   {
    "duration": 72,
    "start_time": "2022-05-29T10:17:58.974Z"
   },
   {
    "duration": 4,
    "start_time": "2022-05-29T10:19:33.282Z"
   },
   {
    "duration": 141,
    "start_time": "2022-05-29T10:22:06.679Z"
   },
   {
    "duration": 33,
    "start_time": "2022-05-29T10:22:20.381Z"
   },
   {
    "duration": 13,
    "start_time": "2022-05-29T10:23:51.772Z"
   },
   {
    "duration": 39,
    "start_time": "2022-05-29T10:24:07.503Z"
   },
   {
    "duration": 43,
    "start_time": "2022-05-29T10:30:31.047Z"
   },
   {
    "duration": 25,
    "start_time": "2022-05-29T10:32:24.688Z"
   },
   {
    "duration": 11641,
    "start_time": "2022-05-29T10:52:18.787Z"
   },
   {
    "duration": 6,
    "start_time": "2022-05-29T10:56:51.370Z"
   },
   {
    "duration": 8,
    "start_time": "2022-05-29T10:58:23.899Z"
   },
   {
    "duration": 10,
    "start_time": "2022-05-29T10:58:30.317Z"
   },
   {
    "duration": 157,
    "start_time": "2022-05-29T10:58:45.107Z"
   },
   {
    "duration": 26,
    "start_time": "2022-05-29T10:58:45.271Z"
   },
   {
    "duration": 111,
    "start_time": "2022-05-29T10:58:45.299Z"
   },
   {
    "duration": 12,
    "start_time": "2022-05-29T10:58:45.412Z"
   },
   {
    "duration": 11,
    "start_time": "2022-05-29T10:58:45.427Z"
   },
   {
    "duration": 80,
    "start_time": "2022-05-29T10:58:45.440Z"
   },
   {
    "duration": 10,
    "start_time": "2022-05-29T10:58:45.523Z"
   },
   {
    "duration": 51,
    "start_time": "2022-05-29T10:58:45.535Z"
   },
   {
    "duration": 110,
    "start_time": "2022-05-29T11:45:24.758Z"
   },
   {
    "duration": 14,
    "start_time": "2022-05-29T11:45:27.408Z"
   },
   {
    "duration": 85,
    "start_time": "2022-05-29T11:45:28.781Z"
   },
   {
    "duration": 10,
    "start_time": "2022-05-29T11:45:30.966Z"
   },
   {
    "duration": 4,
    "start_time": "2022-05-29T11:45:38.599Z"
   },
   {
    "duration": 27,
    "start_time": "2022-05-29T11:45:41.813Z"
   },
   {
    "duration": 8,
    "start_time": "2022-05-29T11:45:46.433Z"
   },
   {
    "duration": 26,
    "start_time": "2022-05-29T11:45:54.322Z"
   },
   {
    "duration": 8,
    "start_time": "2022-05-29T11:46:05.752Z"
   },
   {
    "duration": 6,
    "start_time": "2022-05-29T11:46:50.425Z"
   },
   {
    "duration": 28,
    "start_time": "2022-05-29T11:46:52.207Z"
   },
   {
    "duration": 110,
    "start_time": "2022-05-29T11:47:10.557Z"
   },
   {
    "duration": 15,
    "start_time": "2022-05-29T11:47:10.669Z"
   },
   {
    "duration": 90,
    "start_time": "2022-05-29T11:47:10.686Z"
   },
   {
    "duration": 10,
    "start_time": "2022-05-29T11:47:10.778Z"
   },
   {
    "duration": 3,
    "start_time": "2022-05-29T11:47:10.790Z"
   },
   {
    "duration": 29,
    "start_time": "2022-05-29T11:47:10.795Z"
   },
   {
    "duration": 27,
    "start_time": "2022-05-29T11:47:10.825Z"
   },
   {
    "duration": 26,
    "start_time": "2022-05-29T11:47:10.853Z"
   },
   {
    "duration": 17,
    "start_time": "2022-05-29T11:47:45.826Z"
   },
   {
    "duration": 7,
    "start_time": "2022-05-29T11:49:50.172Z"
   },
   {
    "duration": 23,
    "start_time": "2022-05-29T11:49:52.612Z"
   },
   {
    "duration": 6,
    "start_time": "2022-05-29T11:50:06.424Z"
   },
   {
    "duration": 4,
    "start_time": "2022-05-29T11:50:15.891Z"
   },
   {
    "duration": 5,
    "start_time": "2022-05-29T11:50:35.490Z"
   },
   {
    "duration": 4,
    "start_time": "2022-05-29T11:50:36.788Z"
   },
   {
    "duration": 10,
    "start_time": "2022-05-29T11:52:09.002Z"
   },
   {
    "duration": 12,
    "start_time": "2022-05-29T11:52:36.691Z"
   },
   {
    "duration": 20,
    "start_time": "2022-05-29T11:54:28.630Z"
   },
   {
    "duration": 105,
    "start_time": "2022-05-29T11:54:34.779Z"
   },
   {
    "duration": 12,
    "start_time": "2022-05-29T11:54:34.886Z"
   },
   {
    "duration": 85,
    "start_time": "2022-05-29T11:54:34.899Z"
   },
   {
    "duration": 8,
    "start_time": "2022-05-29T11:54:34.985Z"
   },
   {
    "duration": 4,
    "start_time": "2022-05-29T11:54:34.995Z"
   },
   {
    "duration": 28,
    "start_time": "2022-05-29T11:54:35.000Z"
   },
   {
    "duration": 15,
    "start_time": "2022-05-29T11:55:01.092Z"
   },
   {
    "duration": 5,
    "start_time": "2022-05-29T11:55:35.964Z"
   },
   {
    "duration": 5,
    "start_time": "2022-05-29T11:55:37.496Z"
   },
   {
    "duration": 5,
    "start_time": "2022-05-29T11:56:40.968Z"
   },
   {
    "duration": 5,
    "start_time": "2022-05-29T11:57:02.434Z"
   },
   {
    "duration": 6,
    "start_time": "2022-05-29T11:57:20.662Z"
   },
   {
    "duration": 6,
    "start_time": "2022-05-29T11:57:31.693Z"
   },
   {
    "duration": 6,
    "start_time": "2022-05-29T11:57:41.605Z"
   },
   {
    "duration": 110,
    "start_time": "2022-05-29T11:59:38.689Z"
   },
   {
    "duration": 14,
    "start_time": "2022-05-29T11:59:38.800Z"
   },
   {
    "duration": 96,
    "start_time": "2022-05-29T11:59:38.816Z"
   },
   {
    "duration": 8,
    "start_time": "2022-05-29T11:59:38.914Z"
   },
   {
    "duration": 3,
    "start_time": "2022-05-29T11:59:38.924Z"
   },
   {
    "duration": 30,
    "start_time": "2022-05-29T11:59:38.929Z"
   },
   {
    "duration": 11,
    "start_time": "2022-05-29T11:59:50.752Z"
   },
   {
    "duration": 9,
    "start_time": "2022-05-29T12:00:45.287Z"
   },
   {
    "duration": 4,
    "start_time": "2022-05-29T12:01:38.978Z"
   },
   {
    "duration": 9,
    "start_time": "2022-05-29T12:08:25.967Z"
   },
   {
    "duration": 456,
    "start_time": "2022-05-29T12:14:22.340Z"
   },
   {
    "duration": 5,
    "start_time": "2022-05-29T12:14:23.115Z"
   },
   {
    "duration": 5,
    "start_time": "2022-05-29T12:14:39.078Z"
   },
   {
    "duration": 8,
    "start_time": "2022-05-29T12:14:42.651Z"
   },
   {
    "duration": 5,
    "start_time": "2022-05-29T12:39:52.402Z"
   },
   {
    "duration": 4,
    "start_time": "2022-05-29T12:40:06.422Z"
   },
   {
    "duration": 5,
    "start_time": "2022-05-29T12:40:20.757Z"
   },
   {
    "duration": 30,
    "start_time": "2022-05-29T12:40:45.228Z"
   },
   {
    "duration": 4,
    "start_time": "2022-05-29T12:47:25.938Z"
   },
   {
    "duration": 5,
    "start_time": "2022-05-29T12:47:28.090Z"
   },
   {
    "duration": 12,
    "start_time": "2022-05-29T12:47:30.450Z"
   },
   {
    "duration": 33,
    "start_time": "2022-05-29T12:47:37.476Z"
   },
   {
    "duration": 374,
    "start_time": "2022-05-29T13:01:45.162Z"
   },
   {
    "duration": 303,
    "start_time": "2022-05-29T13:02:14.488Z"
   },
   {
    "duration": 13,
    "start_time": "2022-05-29T13:02:14.793Z"
   },
   {
    "duration": 73,
    "start_time": "2022-05-29T13:02:14.807Z"
   },
   {
    "duration": 9,
    "start_time": "2022-05-29T13:02:14.882Z"
   },
   {
    "duration": 17,
    "start_time": "2022-05-29T13:02:14.892Z"
   },
   {
    "duration": 3,
    "start_time": "2022-05-29T13:02:14.910Z"
   },
   {
    "duration": 15,
    "start_time": "2022-05-29T13:02:14.915Z"
   },
   {
    "duration": 21,
    "start_time": "2022-05-29T13:02:14.932Z"
   },
   {
    "duration": 10,
    "start_time": "2022-05-29T13:02:14.954Z"
   },
   {
    "duration": 26,
    "start_time": "2022-05-29T13:05:19.589Z"
   },
   {
    "duration": 34,
    "start_time": "2022-05-29T13:05:52.045Z"
   },
   {
    "duration": 322,
    "start_time": "2022-05-29T13:05:58.917Z"
   },
   {
    "duration": 15,
    "start_time": "2022-05-29T13:05:59.241Z"
   },
   {
    "duration": 72,
    "start_time": "2022-05-29T13:05:59.264Z"
   },
   {
    "duration": 18,
    "start_time": "2022-05-29T13:05:59.338Z"
   },
   {
    "duration": 14,
    "start_time": "2022-05-29T13:05:59.358Z"
   },
   {
    "duration": 7,
    "start_time": "2022-05-29T13:05:59.374Z"
   },
   {
    "duration": 9,
    "start_time": "2022-05-29T13:05:59.383Z"
   },
   {
    "duration": 6,
    "start_time": "2022-05-29T13:05:59.394Z"
   },
   {
    "duration": 74,
    "start_time": "2022-05-29T13:05:59.402Z"
   },
   {
    "duration": 23,
    "start_time": "2022-05-29T13:06:01.377Z"
   },
   {
    "duration": 4,
    "start_time": "2022-05-29T13:06:29.948Z"
   },
   {
    "duration": 5,
    "start_time": "2022-05-29T13:07:13.816Z"
   },
   {
    "duration": 10,
    "start_time": "2022-05-29T13:17:59.308Z"
   },
   {
    "duration": 8,
    "start_time": "2022-05-29T13:18:16.100Z"
   },
   {
    "duration": 6,
    "start_time": "2022-05-29T13:18:45.166Z"
   },
   {
    "duration": 6,
    "start_time": "2022-05-29T13:18:53.978Z"
   },
   {
    "duration": 7,
    "start_time": "2022-05-29T13:19:03.212Z"
   },
   {
    "duration": 10,
    "start_time": "2022-05-29T13:20:05.185Z"
   },
   {
    "duration": 5,
    "start_time": "2022-05-29T13:22:41.943Z"
   },
   {
    "duration": 8,
    "start_time": "2022-05-29T13:22:48.566Z"
   },
   {
    "duration": 6,
    "start_time": "2022-05-29T13:22:49.726Z"
   },
   {
    "duration": 4,
    "start_time": "2022-05-29T13:23:17.143Z"
   },
   {
    "duration": 6,
    "start_time": "2022-05-29T13:28:34.046Z"
   },
   {
    "duration": 51,
    "start_time": "2022-05-29T13:29:40.923Z"
   },
   {
    "duration": 47,
    "start_time": "2022-05-29T13:29:49.191Z"
   },
   {
    "duration": 43,
    "start_time": "2022-05-29T13:30:06.124Z"
   },
   {
    "duration": 117,
    "start_time": "2022-05-29T13:30:10.370Z"
   },
   {
    "duration": 13,
    "start_time": "2022-05-29T13:30:10.489Z"
   },
   {
    "duration": 109,
    "start_time": "2022-05-29T13:30:10.504Z"
   },
   {
    "duration": 12,
    "start_time": "2022-05-29T13:30:10.616Z"
   },
   {
    "duration": 40,
    "start_time": "2022-05-29T13:30:10.631Z"
   },
   {
    "duration": 3,
    "start_time": "2022-05-29T13:30:10.672Z"
   },
   {
    "duration": 14,
    "start_time": "2022-05-29T13:30:10.677Z"
   },
   {
    "duration": 13,
    "start_time": "2022-05-29T13:30:10.693Z"
   },
   {
    "duration": 23,
    "start_time": "2022-05-29T13:30:10.708Z"
   },
   {
    "duration": 8,
    "start_time": "2022-05-29T13:30:10.733Z"
   },
   {
    "duration": 31,
    "start_time": "2022-05-29T13:30:10.742Z"
   },
   {
    "duration": 29,
    "start_time": "2022-05-29T13:30:10.775Z"
   },
   {
    "duration": 32,
    "start_time": "2022-05-29T13:30:12.945Z"
   },
   {
    "duration": 7,
    "start_time": "2022-05-29T13:30:51.486Z"
   },
   {
    "duration": 7,
    "start_time": "2022-05-29T13:32:19.168Z"
   },
   {
    "duration": 7,
    "start_time": "2022-05-29T13:33:08.501Z"
   },
   {
    "duration": 6,
    "start_time": "2022-05-29T13:33:09.472Z"
   },
   {
    "duration": 6,
    "start_time": "2022-05-29T13:33:52.546Z"
   },
   {
    "duration": 109,
    "start_time": "2022-05-29T13:34:57.805Z"
   },
   {
    "duration": 15,
    "start_time": "2022-05-29T13:34:57.916Z"
   },
   {
    "duration": 91,
    "start_time": "2022-05-29T13:34:57.932Z"
   },
   {
    "duration": 12,
    "start_time": "2022-05-29T13:34:58.025Z"
   },
   {
    "duration": 33,
    "start_time": "2022-05-29T13:34:58.039Z"
   },
   {
    "duration": 3,
    "start_time": "2022-05-29T13:34:58.075Z"
   },
   {
    "duration": 11,
    "start_time": "2022-05-29T13:34:58.080Z"
   },
   {
    "duration": 9,
    "start_time": "2022-05-29T13:34:58.093Z"
   },
   {
    "duration": 17,
    "start_time": "2022-05-29T13:34:58.104Z"
   },
   {
    "duration": 20,
    "start_time": "2022-05-29T13:34:58.124Z"
   },
   {
    "duration": 9,
    "start_time": "2022-05-29T13:34:58.146Z"
   },
   {
    "duration": 7,
    "start_time": "2022-05-29T13:35:01.660Z"
   },
   {
    "duration": 9,
    "start_time": "2022-05-29T13:35:31.917Z"
   },
   {
    "duration": 7,
    "start_time": "2022-05-29T13:35:47.850Z"
   },
   {
    "duration": 5,
    "start_time": "2022-05-29T13:36:20.268Z"
   },
   {
    "duration": 6,
    "start_time": "2022-05-29T13:36:23.009Z"
   },
   {
    "duration": 6,
    "start_time": "2022-05-29T13:37:19.027Z"
   },
   {
    "duration": 5,
    "start_time": "2022-05-29T13:37:41.164Z"
   },
   {
    "duration": 7,
    "start_time": "2022-05-29T13:37:41.975Z"
   },
   {
    "duration": 10,
    "start_time": "2022-05-29T13:37:50.752Z"
   },
   {
    "duration": 5,
    "start_time": "2022-05-29T13:37:51.883Z"
   },
   {
    "duration": 129,
    "start_time": "2022-05-29T13:39:39.694Z"
   },
   {
    "duration": 14,
    "start_time": "2022-05-29T13:39:39.826Z"
   },
   {
    "duration": 91,
    "start_time": "2022-05-29T13:39:39.841Z"
   },
   {
    "duration": 21,
    "start_time": "2022-05-29T13:39:39.933Z"
   },
   {
    "duration": 26,
    "start_time": "2022-05-29T13:39:39.957Z"
   },
   {
    "duration": 4,
    "start_time": "2022-05-29T13:39:39.985Z"
   },
   {
    "duration": 16,
    "start_time": "2022-05-29T13:39:39.990Z"
   },
   {
    "duration": 8,
    "start_time": "2022-05-29T13:39:40.009Z"
   },
   {
    "duration": 10,
    "start_time": "2022-05-29T13:39:40.019Z"
   },
   {
    "duration": 24,
    "start_time": "2022-05-29T13:39:40.031Z"
   },
   {
    "duration": 6,
    "start_time": "2022-05-29T13:39:40.056Z"
   },
   {
    "duration": 14,
    "start_time": "2022-05-29T13:39:40.064Z"
   },
   {
    "duration": 15,
    "start_time": "2022-05-29T13:39:40.079Z"
   },
   {
    "duration": 10,
    "start_time": "2022-05-29T13:39:40.097Z"
   },
   {
    "duration": 37,
    "start_time": "2022-05-29T14:11:43.917Z"
   },
   {
    "duration": 7,
    "start_time": "2022-05-29T14:13:00.524Z"
   },
   {
    "duration": 8,
    "start_time": "2022-05-29T14:13:19.593Z"
   },
   {
    "duration": 6,
    "start_time": "2022-05-29T14:15:51.857Z"
   },
   {
    "duration": 5,
    "start_time": "2022-05-29T14:16:57.761Z"
   },
   {
    "duration": 6,
    "start_time": "2022-05-29T14:18:34.853Z"
   },
   {
    "duration": 6,
    "start_time": "2022-05-29T14:20:33.982Z"
   },
   {
    "duration": 4,
    "start_time": "2022-05-29T14:22:46.160Z"
   },
   {
    "duration": 6,
    "start_time": "2022-05-29T14:24:47.196Z"
   },
   {
    "duration": 6,
    "start_time": "2022-05-29T16:37:43.957Z"
   },
   {
    "duration": 59,
    "start_time": "2022-05-29T16:38:47.312Z"
   },
   {
    "duration": 8,
    "start_time": "2022-05-29T16:47:13.092Z"
   },
   {
    "duration": 4,
    "start_time": "2022-05-29T16:50:27.829Z"
   },
   {
    "duration": 5,
    "start_time": "2022-05-29T16:50:34.860Z"
   },
   {
    "duration": 103,
    "start_time": "2022-05-29T16:54:18.612Z"
   },
   {
    "duration": 13,
    "start_time": "2022-05-29T16:54:18.717Z"
   },
   {
    "duration": 89,
    "start_time": "2022-05-29T16:54:18.731Z"
   },
   {
    "duration": 8,
    "start_time": "2022-05-29T16:54:18.822Z"
   },
   {
    "duration": 30,
    "start_time": "2022-05-29T16:54:18.831Z"
   },
   {
    "duration": 3,
    "start_time": "2022-05-29T16:54:18.862Z"
   },
   {
    "duration": 7,
    "start_time": "2022-05-29T16:54:18.867Z"
   },
   {
    "duration": 7,
    "start_time": "2022-05-29T16:54:18.875Z"
   },
   {
    "duration": 8,
    "start_time": "2022-05-29T16:54:18.883Z"
   },
   {
    "duration": 5,
    "start_time": "2022-05-29T16:54:18.893Z"
   },
   {
    "duration": 5,
    "start_time": "2022-05-29T16:54:18.900Z"
   },
   {
    "duration": 10,
    "start_time": "2022-05-29T16:54:18.907Z"
   },
   {
    "duration": 34,
    "start_time": "2022-05-29T16:54:18.919Z"
   },
   {
    "duration": 6,
    "start_time": "2022-05-29T16:54:18.954Z"
   },
   {
    "duration": 8,
    "start_time": "2022-05-29T16:54:18.961Z"
   },
   {
    "duration": 4,
    "start_time": "2022-05-29T16:54:18.971Z"
   },
   {
    "duration": 6,
    "start_time": "2022-05-29T16:54:18.977Z"
   },
   {
    "duration": 6,
    "start_time": "2022-05-29T16:54:18.986Z"
   },
   {
    "duration": 8,
    "start_time": "2022-05-29T16:54:18.994Z"
   }
  ],
  "kernelspec": {
   "display_name": "Python 3 (ipykernel)",
   "language": "python",
   "name": "python3"
  },
  "language_info": {
   "codemirror_mode": {
    "name": "ipython",
    "version": 3
   },
   "file_extension": ".py",
   "mimetype": "text/x-python",
   "name": "python",
   "nbconvert_exporter": "python",
   "pygments_lexer": "ipython3",
   "version": "3.9.7"
  },
  "toc": {
   "base_numbering": 1,
   "nav_menu": {},
   "number_sections": true,
   "sideBar": true,
   "skip_h1_title": true,
   "title_cell": "Содержание",
   "title_sidebar": "Contents",
   "toc_cell": true,
   "toc_position": {},
   "toc_section_display": true,
   "toc_window_display": true
  }
 },
 "nbformat": 4,
 "nbformat_minor": 4
}
