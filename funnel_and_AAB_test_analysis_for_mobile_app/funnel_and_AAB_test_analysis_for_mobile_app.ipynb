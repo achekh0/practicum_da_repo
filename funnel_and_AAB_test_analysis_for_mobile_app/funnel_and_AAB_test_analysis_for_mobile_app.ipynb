{
 "cells": [
  {
   "cell_type": "markdown",
   "id": "92146214",
   "metadata": {},
   "source": [
    "# Анализ воронки продаж мобильного приложения. Анализ результатов А/А/В-эксперимента по внедрению новых шрифтов."
   ]
  },
  {
   "cell_type": "markdown",
   "id": "877844c9",
   "metadata": {},
   "source": [
    "## Содержание:\n",
    "* [Описание проекта.](#0)\n",
    "* [1. Общая информация.](#1)\n",
    "* [2. Предварительная подготовка данных.](#2)\n",
    "* [3. Изучение и проверка данных.](#3)\n",
    "* [4. Изучение воронки событий.](#4)\n",
    "* [5. Анализ результатов эксперимента.](#5)\n",
    "* [6. Выводы исследования.](#6)"
   ]
  },
  {
   "cell_type": "markdown",
   "id": "86a1d5ab",
   "metadata": {},
   "source": [
    "## Описание проекта <a class=\"anchor\" id=\"0\"></a>"
   ]
  },
  {
   "cell_type": "markdown",
   "id": "0a5b67b8",
   "metadata": {},
   "source": [
    "Цель исследования - проанализировать поведение пользователей мобильного приложения, изучив воронку продаж, обратив внимание на этапы, на которых могут застревать пользователи. А также изучить результаты проведенного А/А/В-эксперимента по внедрению новых шрифтов, выяснив, какой из них лучше."
   ]
  },
  {
   "cell_type": "markdown",
   "id": "4051e637",
   "metadata": {},
   "source": [
    "## 1. Общая информация. <a class=\"anchor\" id=\"1\"></a>"
   ]
  },
  {
   "cell_type": "code",
   "execution_count": 47,
   "id": "ef8ed616",
   "metadata": {},
   "outputs": [],
   "source": [
    "import pandas as pd\n",
    "import matplotlib.pyplot as plt\n",
    "import numpy as np\n",
    "import datetime as dt\n",
    "from datetime import date\n",
    "import scipy.stats as stats\n",
    "from plotly import graph_objects as go\n",
    "import math as mth"
   ]
  },
  {
   "cell_type": "code",
   "execution_count": 48,
   "id": "a02aa4a8",
   "metadata": {},
   "outputs": [],
   "source": [
    "try:\n",
    "    data = pd.read_csv('logs_exp.csv', sep='\\t')\n",
    "except:\n",
    "    data = pd.read_csv('https://code.s3.yandex.net/datasets/logs_exp.csv', sep='\\t')"
   ]
  },
  {
   "cell_type": "code",
   "execution_count": 49,
   "id": "bb2a7e4e",
   "metadata": {},
   "outputs": [
    {
     "data": {
      "text/html": [
       "<div>\n",
       "<style scoped>\n",
       "    .dataframe tbody tr th:only-of-type {\n",
       "        vertical-align: middle;\n",
       "    }\n",
       "\n",
       "    .dataframe tbody tr th {\n",
       "        vertical-align: top;\n",
       "    }\n",
       "\n",
       "    .dataframe thead th {\n",
       "        text-align: right;\n",
       "    }\n",
       "</style>\n",
       "<table border=\"1\" class=\"dataframe\">\n",
       "  <thead>\n",
       "    <tr style=\"text-align: right;\">\n",
       "      <th></th>\n",
       "      <th>EventName</th>\n",
       "      <th>DeviceIDHash</th>\n",
       "      <th>EventTimestamp</th>\n",
       "      <th>ExpId</th>\n",
       "    </tr>\n",
       "  </thead>\n",
       "  <tbody>\n",
       "    <tr>\n",
       "      <th>0</th>\n",
       "      <td>MainScreenAppear</td>\n",
       "      <td>4575588528974610257</td>\n",
       "      <td>1564029816</td>\n",
       "      <td>246</td>\n",
       "    </tr>\n",
       "    <tr>\n",
       "      <th>1</th>\n",
       "      <td>MainScreenAppear</td>\n",
       "      <td>7416695313311560658</td>\n",
       "      <td>1564053102</td>\n",
       "      <td>246</td>\n",
       "    </tr>\n",
       "    <tr>\n",
       "      <th>2</th>\n",
       "      <td>PaymentScreenSuccessful</td>\n",
       "      <td>3518123091307005509</td>\n",
       "      <td>1564054127</td>\n",
       "      <td>248</td>\n",
       "    </tr>\n",
       "    <tr>\n",
       "      <th>3</th>\n",
       "      <td>CartScreenAppear</td>\n",
       "      <td>3518123091307005509</td>\n",
       "      <td>1564054127</td>\n",
       "      <td>248</td>\n",
       "    </tr>\n",
       "    <tr>\n",
       "      <th>4</th>\n",
       "      <td>PaymentScreenSuccessful</td>\n",
       "      <td>6217807653094995999</td>\n",
       "      <td>1564055322</td>\n",
       "      <td>248</td>\n",
       "    </tr>\n",
       "  </tbody>\n",
       "</table>\n",
       "</div>"
      ],
      "text/plain": [
       "                 EventName         DeviceIDHash  EventTimestamp  ExpId\n",
       "0         MainScreenAppear  4575588528974610257      1564029816    246\n",
       "1         MainScreenAppear  7416695313311560658      1564053102    246\n",
       "2  PaymentScreenSuccessful  3518123091307005509      1564054127    248\n",
       "3         CartScreenAppear  3518123091307005509      1564054127    248\n",
       "4  PaymentScreenSuccessful  6217807653094995999      1564055322    248"
      ]
     },
     "execution_count": 49,
     "metadata": {},
     "output_type": "execute_result"
    }
   ],
   "source": [
    "data.head()"
   ]
  },
  {
   "cell_type": "markdown",
   "id": "76d0401e",
   "metadata": {},
   "source": [
    "## 2. Предварительная подготовка данных.<a class=\"anchor\" id=\"2\"></a>"
   ]
  },
  {
   "cell_type": "markdown",
   "id": "451664ae",
   "metadata": {},
   "source": [
    "#### Замена названий столбцов.\n",
    "\n"
   ]
  },
  {
   "cell_type": "code",
   "execution_count": 50,
   "id": "21736cee",
   "metadata": {},
   "outputs": [],
   "source": [
    "data.rename(\n",
    "    columns = {'EventName':'event',\n",
    "               'DeviceIDHash':'user_id',\n",
    "               'EventTimestamp':'timestamp',\n",
    "               'ExpId':'group'}, inplace = True\n",
    ")"
   ]
  },
  {
   "cell_type": "markdown",
   "id": "9498523e",
   "metadata": {},
   "source": [
    "#### Проверка на пропуски и соответсвие типов данных."
   ]
  },
  {
   "cell_type": "code",
   "execution_count": 51,
   "id": "ea340bb5",
   "metadata": {},
   "outputs": [
    {
     "name": "stdout",
     "output_type": "stream",
     "text": [
      "<class 'pandas.core.frame.DataFrame'>\n",
      "RangeIndex: 244126 entries, 0 to 244125\n",
      "Data columns (total 4 columns):\n",
      " #   Column     Non-Null Count   Dtype \n",
      "---  ------     --------------   ----- \n",
      " 0   event      244126 non-null  object\n",
      " 1   user_id    244126 non-null  int64 \n",
      " 2   timestamp  244126 non-null  int64 \n",
      " 3   group      244126 non-null  int64 \n",
      "dtypes: int64(3), object(1)\n",
      "memory usage: 7.5+ MB\n"
     ]
    }
   ],
   "source": [
    "# проверяем на пропуски и смотрим типы данных методом .info()\n",
    "data.info()"
   ]
  },
  {
   "cell_type": "code",
   "execution_count": 52,
   "id": "5492af90",
   "metadata": {},
   "outputs": [
    {
     "data": {
      "text/plain": [
       "413"
      ]
     },
     "execution_count": 52,
     "metadata": {},
     "output_type": "execute_result"
    }
   ],
   "source": [
    "# проверяем на дубликаты\n",
    "data.duplicated().sum()"
   ]
  },
  {
   "cell_type": "code",
   "execution_count": 53,
   "id": "2f189699",
   "metadata": {},
   "outputs": [],
   "source": [
    "# удаляем дубликаты\n",
    "data.drop_duplicates(inplace=True)"
   ]
  },
  {
   "cell_type": "code",
   "execution_count": 54,
   "id": "272e18b8",
   "metadata": {},
   "outputs": [
    {
     "data": {
      "text/plain": [
       "0"
      ]
     },
     "execution_count": 54,
     "metadata": {},
     "output_type": "execute_result"
    }
   ],
   "source": [
    "data.duplicated().sum()"
   ]
  },
  {
   "cell_type": "code",
   "execution_count": 55,
   "id": "874e75f8",
   "metadata": {},
   "outputs": [
    {
     "data": {
      "text/plain": [
       "array(['MainScreenAppear', 'PaymentScreenSuccessful', 'CartScreenAppear',\n",
       "       'OffersScreenAppear', 'Tutorial'], dtype=object)"
      ]
     },
     "execution_count": 55,
     "metadata": {},
     "output_type": "execute_result"
    }
   ],
   "source": [
    "data['event'].unique()"
   ]
  },
  {
   "cell_type": "code",
   "execution_count": 56,
   "id": "05c533ff",
   "metadata": {},
   "outputs": [
    {
     "data": {
      "text/plain": [
       "array([246, 248, 247])"
      ]
     },
     "execution_count": 56,
     "metadata": {},
     "output_type": "execute_result"
    }
   ],
   "source": [
    "data['group'].unique()"
   ]
  },
  {
   "cell_type": "code",
   "execution_count": 57,
   "id": "227ab96f",
   "metadata": {},
   "outputs": [
    {
     "data": {
      "text/html": [
       "<div>\n",
       "<style scoped>\n",
       "    .dataframe tbody tr th:only-of-type {\n",
       "        vertical-align: middle;\n",
       "    }\n",
       "\n",
       "    .dataframe tbody tr th {\n",
       "        vertical-align: top;\n",
       "    }\n",
       "\n",
       "    .dataframe thead th {\n",
       "        text-align: right;\n",
       "    }\n",
       "</style>\n",
       "<table border=\"1\" class=\"dataframe\">\n",
       "  <thead>\n",
       "    <tr style=\"text-align: right;\">\n",
       "      <th></th>\n",
       "      <th>event</th>\n",
       "    </tr>\n",
       "    <tr>\n",
       "      <th>group</th>\n",
       "      <th></th>\n",
       "    </tr>\n",
       "  </thead>\n",
       "  <tbody>\n",
       "    <tr>\n",
       "      <th>246</th>\n",
       "      <td>80181</td>\n",
       "    </tr>\n",
       "    <tr>\n",
       "      <th>247</th>\n",
       "      <td>77950</td>\n",
       "    </tr>\n",
       "    <tr>\n",
       "      <th>248</th>\n",
       "      <td>85582</td>\n",
       "    </tr>\n",
       "  </tbody>\n",
       "</table>\n",
       "</div>"
      ],
      "text/plain": [
       "       event\n",
       "group       \n",
       "246    80181\n",
       "247    77950\n",
       "248    85582"
      ]
     },
     "execution_count": 57,
     "metadata": {},
     "output_type": "execute_result"
    }
   ],
   "source": [
    "data.groupby('group').agg({'event':'count'})"
   ]
  },
  {
   "cell_type": "markdown",
   "id": "003737b4",
   "metadata": {},
   "source": [
    "#### Добавление столбцов с датой, а также с датой и временем."
   ]
  },
  {
   "cell_type": "code",
   "execution_count": 58,
   "id": "729813c2",
   "metadata": {},
   "outputs": [],
   "source": [
    "# добавляем столбец с датой и временем\n",
    "data['datetime'] = pd.to_datetime(data['timestamp'], unit = 's')\n",
    "# и отдельный столбец с датой\n",
    "data['date'] = data['datetime'].dt.date"
   ]
  },
  {
   "cell_type": "code",
   "execution_count": 59,
   "id": "f62f61e1",
   "metadata": {},
   "outputs": [
    {
     "data": {
      "text/html": [
       "<div>\n",
       "<style scoped>\n",
       "    .dataframe tbody tr th:only-of-type {\n",
       "        vertical-align: middle;\n",
       "    }\n",
       "\n",
       "    .dataframe tbody tr th {\n",
       "        vertical-align: top;\n",
       "    }\n",
       "\n",
       "    .dataframe thead th {\n",
       "        text-align: right;\n",
       "    }\n",
       "</style>\n",
       "<table border=\"1\" class=\"dataframe\">\n",
       "  <thead>\n",
       "    <tr style=\"text-align: right;\">\n",
       "      <th></th>\n",
       "      <th>event</th>\n",
       "      <th>user_id</th>\n",
       "      <th>timestamp</th>\n",
       "      <th>group</th>\n",
       "      <th>datetime</th>\n",
       "      <th>date</th>\n",
       "    </tr>\n",
       "  </thead>\n",
       "  <tbody>\n",
       "    <tr>\n",
       "      <th>0</th>\n",
       "      <td>MainScreenAppear</td>\n",
       "      <td>4575588528974610257</td>\n",
       "      <td>1564029816</td>\n",
       "      <td>246</td>\n",
       "      <td>2019-07-25 04:43:36</td>\n",
       "      <td>2019-07-25</td>\n",
       "    </tr>\n",
       "    <tr>\n",
       "      <th>1</th>\n",
       "      <td>MainScreenAppear</td>\n",
       "      <td>7416695313311560658</td>\n",
       "      <td>1564053102</td>\n",
       "      <td>246</td>\n",
       "      <td>2019-07-25 11:11:42</td>\n",
       "      <td>2019-07-25</td>\n",
       "    </tr>\n",
       "    <tr>\n",
       "      <th>2</th>\n",
       "      <td>PaymentScreenSuccessful</td>\n",
       "      <td>3518123091307005509</td>\n",
       "      <td>1564054127</td>\n",
       "      <td>248</td>\n",
       "      <td>2019-07-25 11:28:47</td>\n",
       "      <td>2019-07-25</td>\n",
       "    </tr>\n",
       "    <tr>\n",
       "      <th>3</th>\n",
       "      <td>CartScreenAppear</td>\n",
       "      <td>3518123091307005509</td>\n",
       "      <td>1564054127</td>\n",
       "      <td>248</td>\n",
       "      <td>2019-07-25 11:28:47</td>\n",
       "      <td>2019-07-25</td>\n",
       "    </tr>\n",
       "    <tr>\n",
       "      <th>4</th>\n",
       "      <td>PaymentScreenSuccessful</td>\n",
       "      <td>6217807653094995999</td>\n",
       "      <td>1564055322</td>\n",
       "      <td>248</td>\n",
       "      <td>2019-07-25 11:48:42</td>\n",
       "      <td>2019-07-25</td>\n",
       "    </tr>\n",
       "  </tbody>\n",
       "</table>\n",
       "</div>"
      ],
      "text/plain": [
       "                     event              user_id   timestamp  group  \\\n",
       "0         MainScreenAppear  4575588528974610257  1564029816    246   \n",
       "1         MainScreenAppear  7416695313311560658  1564053102    246   \n",
       "2  PaymentScreenSuccessful  3518123091307005509  1564054127    248   \n",
       "3         CartScreenAppear  3518123091307005509  1564054127    248   \n",
       "4  PaymentScreenSuccessful  6217807653094995999  1564055322    248   \n",
       "\n",
       "             datetime        date  \n",
       "0 2019-07-25 04:43:36  2019-07-25  \n",
       "1 2019-07-25 11:11:42  2019-07-25  \n",
       "2 2019-07-25 11:28:47  2019-07-25  \n",
       "3 2019-07-25 11:28:47  2019-07-25  \n",
       "4 2019-07-25 11:48:42  2019-07-25  "
      ]
     },
     "execution_count": 59,
     "metadata": {},
     "output_type": "execute_result"
    }
   ],
   "source": [
    "data.head()"
   ]
  },
  {
   "cell_type": "markdown",
   "id": "4c9e7a51",
   "metadata": {},
   "source": [
    "## 3. Изучение и проверка данных.<a class=\"anchor\" id=\"3\"></a>"
   ]
  },
  {
   "cell_type": "markdown",
   "id": "461d5dec",
   "metadata": {},
   "source": [
    "#### Сколько всего событий в логе."
   ]
  },
  {
   "cell_type": "code",
   "execution_count": 60,
   "id": "fba38835",
   "metadata": {},
   "outputs": [
    {
     "data": {
      "text/plain": [
       "243713"
      ]
     },
     "execution_count": 60,
     "metadata": {},
     "output_type": "execute_result"
    }
   ],
   "source": [
    "len(data)"
   ]
  },
  {
   "cell_type": "markdown",
   "id": "938ced0c",
   "metadata": {},
   "source": [
    "#### Сколько всего пользователей в логе."
   ]
  },
  {
   "cell_type": "code",
   "execution_count": 61,
   "id": "31709b9d",
   "metadata": {},
   "outputs": [
    {
     "data": {
      "text/plain": [
       "7551"
      ]
     },
     "execution_count": 61,
     "metadata": {},
     "output_type": "execute_result"
    }
   ],
   "source": [
    "data['user_id'].nunique()"
   ]
  },
  {
   "cell_type": "markdown",
   "id": "23b56509",
   "metadata": {},
   "source": [
    "#### Среднее количество событий на пользователя."
   ]
  },
  {
   "cell_type": "code",
   "execution_count": 62,
   "id": "72a21842",
   "metadata": {},
   "outputs": [
    {
     "data": {
      "text/plain": [
       "count    7551.000000\n",
       "mean       32.275593\n",
       "std        65.154219\n",
       "min         1.000000\n",
       "25%         9.000000\n",
       "50%        20.000000\n",
       "75%        37.000000\n",
       "max      2307.000000\n",
       "Name: event, dtype: float64"
      ]
     },
     "execution_count": 62,
     "metadata": {},
     "output_type": "execute_result"
    }
   ],
   "source": [
    "data.groupby('user_id').agg({'event':'count'})['event'].describe()"
   ]
  },
  {
   "cell_type": "code",
   "execution_count": 63,
   "id": "3f75d9ed",
   "metadata": {},
   "outputs": [
    {
     "data": {
      "image/png": "[encoded data removed]",
      "text/plain": [
       "<Figure size 432x288 with 1 Axes>"
      ]
     },
     "metadata": {
      "needs_background": "light"
     },
     "output_type": "display_data"
    }
   ],
   "source": [
    "# посмотрим выбросы на графике boxplot\n",
    "plt.boxplot(data.groupby('user_id').agg({'event':'count'})['event'])\n",
    "\n",
    "plt.ylabel('количество событий')\n",
    "plt.title('График boxplot количества событий на одного пользователя')\n",
    "\n",
    "plt.show()"
   ]
  },
  {
   "cell_type": "markdown",
   "id": "b62ec947",
   "metadata": {},
   "source": [
    "Среднее количество событий на пользователя - 32, медиана - 20. В данных есть выбросы c экстремальными значениями с сотнями и даже тысячами событий."
   ]
  },
  {
   "cell_type": "code",
   "execution_count": 64,
   "id": "602b3ec8",
   "metadata": {},
   "outputs": [
    {
     "data": {
      "text/plain": [
       "Text(0.5, 0, '')"
      ]
     },
     "execution_count": 64,
     "metadata": {},
     "output_type": "execute_result"
    },
    {
     "data": {
      "image/png": "[encoded data removed]",
      "text/plain": [
       "<Figure size 432x576 with 2 Axes>"
      ]
     },
     "metadata": {
      "needs_background": "light"
     },
     "output_type": "display_data"
    }
   ],
   "source": [
    "#CODE REVIEW\n",
    "# И еще хорошо расммотреть в разрезе групп\n",
    "event_cnts = data.groupby(['group', 'user_id'], as_index=False).agg({'event':'count'})\n",
    "\n",
    "fig, axes = plt.subplots(nrows=2, figsize=(6, 8))\n",
    "ax = axes[0]\n",
    "event_cnts[['group', 'event']].boxplot(by='group', ax=ax)\n",
    "ax.set_xlabel(\"\")\n",
    "\n",
    "ax = axes[1]\n",
    "event_cnts[['group', 'event']].boxplot(by='group', showmeans=True, showfliers=False, ax=ax)\n",
    "ax.set_title(\"\")\n",
    "ax.set_xlabel(\"\")"
   ]
  },
  {
   "cell_type": "markdown",
   "id": "53d07dd5",
   "metadata": {},
   "source": [
    "#### Определение периода, за который есть данные. \n",
    "Максимальная и минимальная даты. Построение гистограммы по дате и времени. \n",
    "\n",
    "Можно ли быть уверенным, что в наличии одинаково полные данные за весь период? Технически в логи новых дней по некоторым пользователям могут «доезжать» события из прошлого — это может «перекашивать данные». Необходимо определить, с какого момента данные полные и отбросить более старые. После этого определить реальный период, за который есть данные. \n",
    "\n"
   ]
  },
  {
   "cell_type": "code",
   "execution_count": 65,
   "id": "00f71116",
   "metadata": {},
   "outputs": [
    {
     "data": {
      "text/html": [
       "<div>\n",
       "<style scoped>\n",
       "    .dataframe tbody tr th:only-of-type {\n",
       "        vertical-align: middle;\n",
       "    }\n",
       "\n",
       "    .dataframe tbody tr th {\n",
       "        vertical-align: top;\n",
       "    }\n",
       "\n",
       "    .dataframe thead th {\n",
       "        text-align: right;\n",
       "    }\n",
       "</style>\n",
       "<table border=\"1\" class=\"dataframe\">\n",
       "  <thead>\n",
       "    <tr style=\"text-align: right;\">\n",
       "      <th></th>\n",
       "      <th>date</th>\n",
       "    </tr>\n",
       "  </thead>\n",
       "  <tbody>\n",
       "    <tr>\n",
       "      <th>min</th>\n",
       "      <td>2019-07-25</td>\n",
       "    </tr>\n",
       "    <tr>\n",
       "      <th>max</th>\n",
       "      <td>2019-08-07</td>\n",
       "    </tr>\n",
       "  </tbody>\n",
       "</table>\n",
       "</div>"
      ],
      "text/plain": [
       "           date\n",
       "min  2019-07-25\n",
       "max  2019-08-07"
      ]
     },
     "execution_count": 65,
     "metadata": {},
     "output_type": "execute_result"
    }
   ],
   "source": [
    "data.agg({'date':['min','max']})"
   ]
  },
  {
   "cell_type": "code",
   "execution_count": 66,
   "id": "b28905d9",
   "metadata": {},
   "outputs": [
    {
     "data": {
      "text/plain": [
       "14"
      ]
     },
     "execution_count": 66,
     "metadata": {},
     "output_type": "execute_result"
    }
   ],
   "source": [
    "data['date'].nunique()"
   ]
  },
  {
   "cell_type": "markdown",
   "id": "555d18d4",
   "metadata": {},
   "source": [
    "Имеются данные за 14 дней. Минимальная дата - 25 июля 2019, максимальная - 7 августа 2019"
   ]
  },
  {
   "cell_type": "code",
   "execution_count": 67,
   "id": "863acbe2",
   "metadata": {},
   "outputs": [
    {
     "data": {
      "image/png": "[encoded data removed]",
      "text/plain": [
       "<Figure size 432x288 with 1 Axes>"
      ]
     },
     "metadata": {
      "needs_background": "light"
     },
     "output_type": "display_data"
    }
   ],
   "source": [
    "# построим диаграмму, показывающее распределение событий по дням\n",
    "plt.hist(data['date'],bins = 14)\n",
    "plt.ylabel('количество событий')\n",
    "plt.xlabel('дни')\n",
    "plt.title('Распределение событий по дням')\n",
    "\n",
    "plt.xticks(rotation=45)\n",
    "plt.show()"
   ]
  },
  {
   "cell_type": "code",
   "execution_count": 68,
   "id": "0ca1d75c",
   "metadata": {},
   "outputs": [
    {
     "data": {
      "image/png": "[encoded data removed]",
      "text/plain": [
       "<Figure size 432x288 with 1 Axes>"
      ]
     },
     "metadata": {
      "needs_background": "light"
     },
     "output_type": "display_data"
    }
   ],
   "source": [
    "\n",
    "plt.plot(data.groupby('date').agg({'user_id':'count'}))\n",
    "plt.ylabel('количество событий')\n",
    "plt.xlabel('дни')\n",
    "plt.title('Распределение событий по дням')\n",
    "\n",
    "plt.xticks(rotation=45)\n",
    "plt.show()\n",
    "\n"
   ]
  },
  {
   "cell_type": "code",
   "execution_count": 69,
   "id": "8c95861d",
   "metadata": {},
   "outputs": [
    {
     "data": {
      "text/html": [
       "<div>\n",
       "<style scoped>\n",
       "    .dataframe tbody tr th:only-of-type {\n",
       "        vertical-align: middle;\n",
       "    }\n",
       "\n",
       "    .dataframe tbody tr th {\n",
       "        vertical-align: top;\n",
       "    }\n",
       "\n",
       "    .dataframe thead th {\n",
       "        text-align: right;\n",
       "    }\n",
       "</style>\n",
       "<table border=\"1\" class=\"dataframe\">\n",
       "  <thead>\n",
       "    <tr style=\"text-align: right;\">\n",
       "      <th></th>\n",
       "      <th>date</th>\n",
       "      <th>user_id</th>\n",
       "    </tr>\n",
       "  </thead>\n",
       "  <tbody>\n",
       "    <tr>\n",
       "      <th>0</th>\n",
       "      <td>2019-07-25</td>\n",
       "      <td>9</td>\n",
       "    </tr>\n",
       "    <tr>\n",
       "      <th>1</th>\n",
       "      <td>2019-07-26</td>\n",
       "      <td>31</td>\n",
       "    </tr>\n",
       "    <tr>\n",
       "      <th>2</th>\n",
       "      <td>2019-07-27</td>\n",
       "      <td>55</td>\n",
       "    </tr>\n",
       "    <tr>\n",
       "      <th>3</th>\n",
       "      <td>2019-07-28</td>\n",
       "      <td>105</td>\n",
       "    </tr>\n",
       "    <tr>\n",
       "      <th>4</th>\n",
       "      <td>2019-07-29</td>\n",
       "      <td>184</td>\n",
       "    </tr>\n",
       "    <tr>\n",
       "      <th>5</th>\n",
       "      <td>2019-07-30</td>\n",
       "      <td>412</td>\n",
       "    </tr>\n",
       "    <tr>\n",
       "      <th>6</th>\n",
       "      <td>2019-07-31</td>\n",
       "      <td>2030</td>\n",
       "    </tr>\n",
       "    <tr>\n",
       "      <th>7</th>\n",
       "      <td>2019-08-01</td>\n",
       "      <td>36141</td>\n",
       "    </tr>\n",
       "    <tr>\n",
       "      <th>8</th>\n",
       "      <td>2019-08-02</td>\n",
       "      <td>35554</td>\n",
       "    </tr>\n",
       "    <tr>\n",
       "      <th>9</th>\n",
       "      <td>2019-08-03</td>\n",
       "      <td>33282</td>\n",
       "    </tr>\n",
       "    <tr>\n",
       "      <th>10</th>\n",
       "      <td>2019-08-04</td>\n",
       "      <td>32968</td>\n",
       "    </tr>\n",
       "    <tr>\n",
       "      <th>11</th>\n",
       "      <td>2019-08-05</td>\n",
       "      <td>36058</td>\n",
       "    </tr>\n",
       "    <tr>\n",
       "      <th>12</th>\n",
       "      <td>2019-08-06</td>\n",
       "      <td>35788</td>\n",
       "    </tr>\n",
       "    <tr>\n",
       "      <th>13</th>\n",
       "      <td>2019-08-07</td>\n",
       "      <td>31096</td>\n",
       "    </tr>\n",
       "  </tbody>\n",
       "</table>\n",
       "</div>"
      ],
      "text/plain": [
       "          date  user_id\n",
       "0   2019-07-25        9\n",
       "1   2019-07-26       31\n",
       "2   2019-07-27       55\n",
       "3   2019-07-28      105\n",
       "4   2019-07-29      184\n",
       "5   2019-07-30      412\n",
       "6   2019-07-31     2030\n",
       "7   2019-08-01    36141\n",
       "8   2019-08-02    35554\n",
       "9   2019-08-03    33282\n",
       "10  2019-08-04    32968\n",
       "11  2019-08-05    36058\n",
       "12  2019-08-06    35788\n",
       "13  2019-08-07    31096"
      ]
     },
     "execution_count": 69,
     "metadata": {},
     "output_type": "execute_result"
    }
   ],
   "source": [
    "data.groupby('date').agg({'user_id':'count'}).reset_index()"
   ]
  },
  {
   "cell_type": "markdown",
   "id": "78682f59",
   "metadata": {},
   "source": [
    "Начиная с 1 августа в день насчитывается не менее 31 000 событий, до этой даты количество событий не превышает 2030. Реальным периодом, за который имеются данные, явлется 01.08.19 - 07.08.19. Данные о событиях до 1 августа необходимо отбросить."
   ]
  },
  {
   "cell_type": "code",
   "execution_count": 70,
   "id": "d666b698",
   "metadata": {},
   "outputs": [],
   "source": [
    "data_real = data[data['date']>dt.date(2019, 7, 31)]"
   ]
  },
  {
   "cell_type": "code",
   "execution_count": 71,
   "id": "e3fc6a8e",
   "metadata": {},
   "outputs": [
    {
     "data": {
      "image/png": "[encoded data removed]",
      "text/plain": [
       "<Figure size 432x288 with 1 Axes>"
      ]
     },
     "metadata": {
      "needs_background": "light"
     },
     "output_type": "display_data"
    }
   ],
   "source": [
    "# построим новую диаграмму распределения заказов по дням после того, как отбросили данные до 1 августа\n",
    "plt.hist(data_real['date'],bins = 7)\n",
    "plt.ylabel('количество событий')\n",
    "plt.xlabel('дни')\n",
    "plt.title('Распределение событий по дням после среза')\n",
    "\n",
    "plt.xticks(rotation=45)\n",
    "plt.show()\n"
   ]
  },
  {
   "cell_type": "markdown",
   "id": "e53c70e4",
   "metadata": {},
   "source": [
    "#### Сколько событий и пользователей потеряно после того как отбросили старые данные."
   ]
  },
  {
   "cell_type": "code",
   "execution_count": 72,
   "id": "c2ef1be0",
   "metadata": {},
   "outputs": [
    {
     "data": {
      "text/plain": [
       "2826"
      ]
     },
     "execution_count": 72,
     "metadata": {},
     "output_type": "execute_result"
    }
   ],
   "source": [
    "# количество отброшенных событий\n",
    "data['event'].count()-data_real['event'].count()"
   ]
  },
  {
   "cell_type": "code",
   "execution_count": 73,
   "id": "629fbb30",
   "metadata": {},
   "outputs": [
    {
     "data": {
      "text/plain": [
       "1.159560630741897"
      ]
     },
     "execution_count": 73,
     "metadata": {},
     "output_type": "execute_result"
    }
   ],
   "source": [
    "# процент отброшенных событий\n",
    "(data['event'].count()-data_real['event'].count())/data['event'].count()*100"
   ]
  },
  {
   "cell_type": "code",
   "execution_count": 74,
   "id": "703c86fb",
   "metadata": {},
   "outputs": [
    {
     "name": "stdout",
     "output_type": "stream",
     "text": [
      "Процент отфильтрованных событий: 1.16%\n"
     ]
    }
   ],
   "source": [
    "print(f\"Процент отфильтрованных событий: {(data['event'].count()-data_real['event'].count())/data['event'].count():.2%}\")"
   ]
  },
  {
   "cell_type": "code",
   "execution_count": 75,
   "id": "a63e2859",
   "metadata": {},
   "outputs": [
    {
     "data": {
      "text/plain": [
       "17"
      ]
     },
     "execution_count": 75,
     "metadata": {},
     "output_type": "execute_result"
    }
   ],
   "source": [
    "# количество отброшенных пользователей\n",
    "data['user_id'].nunique()-data_real['user_id'].nunique()"
   ]
  },
  {
   "cell_type": "code",
   "execution_count": 76,
   "id": "923f273f",
   "metadata": {},
   "outputs": [
    {
     "data": {
      "text/plain": [
       "0.22513574361011784"
      ]
     },
     "execution_count": 76,
     "metadata": {},
     "output_type": "execute_result"
    }
   ],
   "source": [
    "# процент отброшенных пользователей\n",
    "(data['user_id'].nunique()-data_real['user_id'].nunique())/data['user_id'].nunique()*100"
   ]
  },
  {
   "cell_type": "markdown",
   "id": "76385b82",
   "metadata": {},
   "source": [
    "В результате в скорректированных данных оказалось на 17 пользователей (на 0,2%) и на 2826 событий (на 1,2%) меньше, чем в исходных."
   ]
  },
  {
   "cell_type": "markdown",
   "id": "30412688",
   "metadata": {},
   "source": [
    "#### Проверка на наличие пользователей из всех трех экспериментальных групп."
   ]
  },
  {
   "cell_type": "code",
   "execution_count": 77,
   "id": "e3e1d28c",
   "metadata": {},
   "outputs": [
    {
     "data": {
      "text/html": [
       "<div>\n",
       "<style scoped>\n",
       "    .dataframe tbody tr th:only-of-type {\n",
       "        vertical-align: middle;\n",
       "    }\n",
       "\n",
       "    .dataframe tbody tr th {\n",
       "        vertical-align: top;\n",
       "    }\n",
       "\n",
       "    .dataframe thead th {\n",
       "        text-align: right;\n",
       "    }\n",
       "</style>\n",
       "<table border=\"1\" class=\"dataframe\">\n",
       "  <thead>\n",
       "    <tr style=\"text-align: right;\">\n",
       "      <th></th>\n",
       "      <th>user_id</th>\n",
       "    </tr>\n",
       "    <tr>\n",
       "      <th>group</th>\n",
       "      <th></th>\n",
       "    </tr>\n",
       "  </thead>\n",
       "  <tbody>\n",
       "    <tr>\n",
       "      <th>246</th>\n",
       "      <td>2484</td>\n",
       "    </tr>\n",
       "    <tr>\n",
       "      <th>247</th>\n",
       "      <td>2513</td>\n",
       "    </tr>\n",
       "    <tr>\n",
       "      <th>248</th>\n",
       "      <td>2537</td>\n",
       "    </tr>\n",
       "  </tbody>\n",
       "</table>\n",
       "</div>"
      ],
      "text/plain": [
       "       user_id\n",
       "group         \n",
       "246       2484\n",
       "247       2513\n",
       "248       2537"
      ]
     },
     "execution_count": 77,
     "metadata": {},
     "output_type": "execute_result"
    }
   ],
   "source": [
    "data_real.groupby('group').agg({'user_id':'nunique'})"
   ]
  },
  {
   "cell_type": "markdown",
   "id": "509790c3",
   "metadata": {},
   "source": [
    "Во всех 3 группах примерно по 2,5 тыс пользователей."
   ]
  },
  {
   "cell_type": "markdown",
   "id": "0be5eba1",
   "metadata": {},
   "source": [
    "## 4. Изучение воронки событий.<a class=\"anchor\" id=\"4\"></a>"
   ]
  },
  {
   "cell_type": "code",
   "execution_count": 78,
   "id": "a1cdf202",
   "metadata": {},
   "outputs": [
    {
     "data": {
      "text/html": [
       "<div>\n",
       "<style scoped>\n",
       "    .dataframe tbody tr th:only-of-type {\n",
       "        vertical-align: middle;\n",
       "    }\n",
       "\n",
       "    .dataframe tbody tr th {\n",
       "        vertical-align: top;\n",
       "    }\n",
       "\n",
       "    .dataframe thead th {\n",
       "        text-align: right;\n",
       "    }\n",
       "</style>\n",
       "<table border=\"1\" class=\"dataframe\">\n",
       "  <thead>\n",
       "    <tr style=\"text-align: right;\">\n",
       "      <th></th>\n",
       "      <th>event</th>\n",
       "      <th>events_cnt</th>\n",
       "      <th>unique_users</th>\n",
       "      <th>usr_share</th>\n",
       "    </tr>\n",
       "  </thead>\n",
       "  <tbody>\n",
       "    <tr>\n",
       "      <th>0</th>\n",
       "      <td>MainScreenAppear</td>\n",
       "      <td>117328</td>\n",
       "      <td>7419</td>\n",
       "      <td>98.5</td>\n",
       "    </tr>\n",
       "    <tr>\n",
       "      <th>1</th>\n",
       "      <td>OffersScreenAppear</td>\n",
       "      <td>46333</td>\n",
       "      <td>4593</td>\n",
       "      <td>61.0</td>\n",
       "    </tr>\n",
       "    <tr>\n",
       "      <th>2</th>\n",
       "      <td>CartScreenAppear</td>\n",
       "      <td>42303</td>\n",
       "      <td>3734</td>\n",
       "      <td>49.6</td>\n",
       "    </tr>\n",
       "    <tr>\n",
       "      <th>3</th>\n",
       "      <td>PaymentScreenSuccessful</td>\n",
       "      <td>33918</td>\n",
       "      <td>3539</td>\n",
       "      <td>47.0</td>\n",
       "    </tr>\n",
       "    <tr>\n",
       "      <th>4</th>\n",
       "      <td>Tutorial</td>\n",
       "      <td>1005</td>\n",
       "      <td>840</td>\n",
       "      <td>11.1</td>\n",
       "    </tr>\n",
       "  </tbody>\n",
       "</table>\n",
       "</div>"
      ],
      "text/plain": [
       "                     event  events_cnt  unique_users  usr_share\n",
       "0         MainScreenAppear      117328          7419       98.5\n",
       "1       OffersScreenAppear       46333          4593       61.0\n",
       "2         CartScreenAppear       42303          3734       49.6\n",
       "3  PaymentScreenSuccessful       33918          3539       47.0\n",
       "4                 Tutorial        1005           840       11.1"
      ]
     },
     "execution_count": 78,
     "metadata": {},
     "output_type": "execute_result"
    }
   ],
   "source": [
    "# сгруппируем данные по событиям и посчитаем их общее количество, количество и долю уникальных пользователей\n",
    "data_by_events = (\n",
    "    data_real.groupby('event')\n",
    "    .agg({'timestamp':'count','user_id':'nunique'})\n",
    "    .sort_values(by=['user_id','timestamp'], ascending = False).reset_index()\n",
    ")\n",
    "data_by_events.columns=('event','events_cnt','unique_users')\n",
    "data_by_events['usr_share'] = round(data_by_events['unique_users']/data_real['user_id'].nunique()*100,1)\n",
    "data_by_events"
   ]
  },
  {
   "cell_type": "markdown",
   "id": "1d1a506c",
   "metadata": {},
   "source": [
    "Всего в датасете 5 видов событий: \n",
    "* MainScreenAppear - открытие главной страницы - самое популярное событие, на главную страницу хоты бы раз заходил практически каждый пользователь;\n",
    "* OffersScreenAppear - открытие страницы с товарами - второе по популярностти событие, 61% пользователей хоть раз открывал эту сраницу;\n",
    "* CartScreenAppear - открытие корзины покупок \t\n",
    "* PaymentScreenSuccessful - экран успешной оплаты\n",
    "* Tutorial - открытие экрана с обучением - видимо это означает прохождения обучения по использованию сервиса. Небольшая доля пользователей открывали этот экран.\n",
    "\n",
    "Из последовательной цепочки событий выбивается обучение, которое очевидно является необязательным,поэтому его можно исключить из анализа целевых действий.\n",
    "\n",
    "Таким образом последовательность действий пользователя, которую будем учитывать для расчета воронки, следующая: MainScreenAppear - OffersScreenAppear - CartScreenAppear - PaymentScreenSuccessful."
   ]
  },
  {
   "cell_type": "code",
   "execution_count": 79,
   "id": "71362949",
   "metadata": {},
   "outputs": [
    {
     "data": {
      "text/html": [
       "<div>\n",
       "<style scoped>\n",
       "    .dataframe tbody tr th:only-of-type {\n",
       "        vertical-align: middle;\n",
       "    }\n",
       "\n",
       "    .dataframe tbody tr th {\n",
       "        vertical-align: top;\n",
       "    }\n",
       "\n",
       "    .dataframe thead th {\n",
       "        text-align: right;\n",
       "    }\n",
       "</style>\n",
       "<table border=\"1\" class=\"dataframe\">\n",
       "  <thead>\n",
       "    <tr style=\"text-align: right;\">\n",
       "      <th></th>\n",
       "      <th>event</th>\n",
       "      <th>events_cnt</th>\n",
       "      <th>unique_users</th>\n",
       "      <th>usr_share</th>\n",
       "    </tr>\n",
       "  </thead>\n",
       "  <tbody>\n",
       "    <tr>\n",
       "      <th>0</th>\n",
       "      <td>MainScreenAppear</td>\n",
       "      <td>117328</td>\n",
       "      <td>7419</td>\n",
       "      <td>98.5</td>\n",
       "    </tr>\n",
       "    <tr>\n",
       "      <th>1</th>\n",
       "      <td>OffersScreenAppear</td>\n",
       "      <td>46333</td>\n",
       "      <td>4593</td>\n",
       "      <td>61.0</td>\n",
       "    </tr>\n",
       "    <tr>\n",
       "      <th>2</th>\n",
       "      <td>CartScreenAppear</td>\n",
       "      <td>42303</td>\n",
       "      <td>3734</td>\n",
       "      <td>49.6</td>\n",
       "    </tr>\n",
       "    <tr>\n",
       "      <th>3</th>\n",
       "      <td>PaymentScreenSuccessful</td>\n",
       "      <td>33918</td>\n",
       "      <td>3539</td>\n",
       "      <td>47.0</td>\n",
       "    </tr>\n",
       "    <tr>\n",
       "      <th>4</th>\n",
       "      <td>Tutorial</td>\n",
       "      <td>1005</td>\n",
       "      <td>840</td>\n",
       "      <td>11.1</td>\n",
       "    </tr>\n",
       "  </tbody>\n",
       "</table>\n",
       "</div>"
      ],
      "text/plain": [
       "                     event  events_cnt  unique_users  usr_share\n",
       "0         MainScreenAppear      117328          7419       98.5\n",
       "1       OffersScreenAppear       46333          4593       61.0\n",
       "2         CartScreenAppear       42303          3734       49.6\n",
       "3  PaymentScreenSuccessful       33918          3539       47.0\n",
       "4                 Tutorial        1005           840       11.1"
      ]
     },
     "execution_count": 79,
     "metadata": {},
     "output_type": "execute_result"
    }
   ],
   "source": [
    "data_by_events"
   ]
  },
  {
   "cell_type": "code",
   "execution_count": 80,
   "id": "e41ec871",
   "metadata": {},
   "outputs": [],
   "source": [
    "conversion_main_to_offer = round(data_by_events['unique_users'][1]/data_by_events['unique_users'][0]*100, 1)\n",
    "# подсчитываем конверсию в сбор корзины,\n",
    "conversion_offer_to_cart = round(data_by_events['unique_users'][2]/data_by_events['unique_users'][1]*100, 1)\n",
    "# конверсию из корзины в покупку,\n",
    "conversion_cart_to_pay = round(data_by_events['unique_users'][3]/data_by_events['unique_users'][2]*100, 1) \n",
    "# и конверсию из визита в покупку\n",
    "conversion_main_to_pay = round(data_by_events['unique_users'][3]/data_by_events['unique_users'][0]*100, 1)"
   ]
  },
  {
   "cell_type": "code",
   "execution_count": 81,
   "id": "b012836f",
   "metadata": {},
   "outputs": [
    {
     "name": "stdout",
     "output_type": "stream",
     "text": [
      "Отношение количества пользователей, открывших страницу с товарами к количеству пользователей, посетивших главную страницу 61.9%.\n",
      "Отношение количества пользователей, добавивших товар в корзину к количеству пользователей, открывших страницу с товарами 81.3%.\n",
      "Отношение количества пользователей, совершивших покупку к количеству пользователей,добавивших товар в корзину 94.8%.\n",
      "Отношение количества пользователей, совершивших покупку к количеству пользователей,посетивших главную страницу 47.7%.\n"
     ]
    }
   ],
   "source": [
    "print(\n",
    "    'Отношение количества пользователей, открывших страницу с товарами к количеству пользователей, посетивших главную страницу {}%.'\n",
    "    .format(conversion_main_to_offer)\n",
    ")\n",
    "\n",
    "print(\n",
    "    'Отношение количества пользователей, добавивших товар в корзину к количеству пользователей, открывших страницу с товарами {}%.'\n",
    "    .format(conversion_offer_to_cart)\n",
    ")\n",
    "print(\n",
    "    'Отношение количества пользователей, совершивших покупку к количеству пользователей,добавивших товар в корзину {}%.'\n",
    "    .format(conversion_cart_to_pay)\n",
    ")\n",
    "print(\n",
    "    'Отношение количества пользователей, совершивших покупку к количеству пользователей,посетивших главную страницу {}%.'\n",
    "    .format(conversion_main_to_pay)\n",
    ")"
   ]
  },
  {
   "cell_type": "code",
   "execution_count": 82,
   "id": "3c98c774",
   "metadata": {},
   "outputs": [
    {
     "data": {
      "application/vnd.plotly.v1+json": {
       "config": {
        "plotlyServerURL": "https://plot.ly"
       },
       "data": [
        {
         "type": "funnel",
         "x": [
          7419,
          4593,
          3734,
          3539
         ],
         "y": [
          "Главная страница",
          "Страница с товарами",
          "Корзина покупок",
          "Успешная оплата"
         ]
        }
       ],
       "layout": {
        "template": {
         "data": {
          "bar": [
           {
            "error_x": {
             "color": "#2a3f5f"
            },
            "error_y": {
             "color": "#2a3f5f"
            },
            "marker": {
             "line": {
              "color": "#E5ECF6",
              "width": 0.5
             },
             "pattern": {
              "fillmode": "overlay",
              "size": 10,
              "solidity": 0.2
             }
            },
            "type": "bar"
           }
          ],
          "barpolar": [
           {
            "marker": {
             "line": {
              "color": "#E5ECF6",
              "width": 0.5
             },
             "pattern": {
              "fillmode": "overlay",
              "size": 10,
              "solidity": 0.2
             }
            },
            "type": "barpolar"
           }
          ],
          "carpet": [
           {
            "aaxis": {
             "endlinecolor": "#2a3f5f",
             "gridcolor": "white",
             "linecolor": "white",
             "minorgridcolor": "white",
             "startlinecolor": "#2a3f5f"
            },
            "baxis": {
             "endlinecolor": "#2a3f5f",
             "gridcolor": "white",
             "linecolor": "white",
             "minorgridcolor": "white",
             "startlinecolor": "#2a3f5f"
            },
            "type": "carpet"
           }
          ],
          "choropleth": [
           {
            "colorbar": {
             "outlinewidth": 0,
             "ticks": ""
            },
            "type": "choropleth"
           }
          ],
          "contour": [
           {
            "colorbar": {
             "outlinewidth": 0,
             "ticks": ""
            },
            "colorscale": [
             [
              0,
              "#0d0887"
             ],
             [
              0.1111111111111111,
              "#46039f"
             ],
             [
              0.2222222222222222,
              "#7201a8"
             ],
             [
              0.3333333333333333,
              "#9c179e"
             ],
             [
              0.4444444444444444,
              "#bd3786"
             ],
             [
              0.5555555555555556,
              "#d8576b"
             ],
             [
              0.6666666666666666,
              "#ed7953"
             ],
             [
              0.7777777777777778,
              "#fb9f3a"
             ],
             [
              0.8888888888888888,
              "#fdca26"
             ],
             [
              1,
              "#f0f921"
             ]
            ],
            "type": "contour"
           }
          ],
          "contourcarpet": [
           {
            "colorbar": {
             "outlinewidth": 0,
             "ticks": ""
            },
            "type": "contourcarpet"
           }
          ],
          "heatmap": [
           {
            "colorbar": {
             "outlinewidth": 0,
             "ticks": ""
            },
            "colorscale": [
             [
              0,
              "#0d0887"
             ],
             [
              0.1111111111111111,
              "#46039f"
             ],
             [
              0.2222222222222222,
              "#7201a8"
             ],
             [
              0.3333333333333333,
              "#9c179e"
             ],
             [
              0.4444444444444444,
              "#bd3786"
             ],
             [
              0.5555555555555556,
              "#d8576b"
             ],
             [
              0.6666666666666666,
              "#ed7953"
             ],
             [
              0.7777777777777778,
              "#fb9f3a"
             ],
             [
              0.8888888888888888,
              "#fdca26"
             ],
             [
              1,
              "#f0f921"
             ]
            ],
            "type": "heatmap"
           }
          ],
          "heatmapgl": [
           {
            "colorbar": {
             "outlinewidth": 0,
             "ticks": ""
            },
            "colorscale": [
             [
              0,
              "#0d0887"
             ],
             [
              0.1111111111111111,
              "#46039f"
             ],
             [
              0.2222222222222222,
              "#7201a8"
             ],
             [
              0.3333333333333333,
              "#9c179e"
             ],
             [
              0.4444444444444444,
              "#bd3786"
             ],
             [
              0.5555555555555556,
              "#d8576b"
             ],
             [
              0.6666666666666666,
              "#ed7953"
             ],
             [
              0.7777777777777778,
              "#fb9f3a"
             ],
             [
              0.8888888888888888,
              "#fdca26"
             ],
             [
              1,
              "#f0f921"
             ]
            ],
            "type": "heatmapgl"
           }
          ],
          "histogram": [
           {
            "marker": {
             "pattern": {
              "fillmode": "overlay",
              "size": 10,
              "solidity": 0.2
             }
            },
            "type": "histogram"
           }
          ],
          "histogram2d": [
           {
            "colorbar": {
             "outlinewidth": 0,
             "ticks": ""
            },
            "colorscale": [
             [
              0,
              "#0d0887"
             ],
             [
              0.1111111111111111,
              "#46039f"
             ],
             [
              0.2222222222222222,
              "#7201a8"
             ],
             [
              0.3333333333333333,
              "#9c179e"
             ],
             [
              0.4444444444444444,
              "#bd3786"
             ],
             [
              0.5555555555555556,
              "#d8576b"
             ],
             [
              0.6666666666666666,
              "#ed7953"
             ],
             [
              0.7777777777777778,
              "#fb9f3a"
             ],
             [
              0.8888888888888888,
              "#fdca26"
             ],
             [
              1,
              "#f0f921"
             ]
            ],
            "type": "histogram2d"
           }
          ],
          "histogram2dcontour": [
           {
            "colorbar": {
             "outlinewidth": 0,
             "ticks": ""
            },
            "colorscale": [
             [
              0,
              "#0d0887"
             ],
             [
              0.1111111111111111,
              "#46039f"
             ],
             [
              0.2222222222222222,
              "#7201a8"
             ],
             [
              0.3333333333333333,
              "#9c179e"
             ],
             [
              0.4444444444444444,
              "#bd3786"
             ],
             [
              0.5555555555555556,
              "#d8576b"
             ],
             [
              0.6666666666666666,
              "#ed7953"
             ],
             [
              0.7777777777777778,
              "#fb9f3a"
             ],
             [
              0.8888888888888888,
              "#fdca26"
             ],
             [
              1,
              "#f0f921"
             ]
            ],
            "type": "histogram2dcontour"
           }
          ],
          "mesh3d": [
           {
            "colorbar": {
             "outlinewidth": 0,
             "ticks": ""
            },
            "type": "mesh3d"
           }
          ],
          "parcoords": [
           {
            "line": {
             "colorbar": {
              "outlinewidth": 0,
              "ticks": ""
             }
            },
            "type": "parcoords"
           }
          ],
          "pie": [
           {
            "automargin": true,
            "type": "pie"
           }
          ],
          "scatter": [
           {
            "fillpattern": {
             "fillmode": "overlay",
             "size": 10,
             "solidity": 0.2
            },
            "type": "scatter"
           }
          ],
          "scatter3d": [
           {
            "line": {
             "colorbar": {
              "outlinewidth": 0,
              "ticks": ""
             }
            },
            "marker": {
             "colorbar": {
              "outlinewidth": 0,
              "ticks": ""
             }
            },
            "type": "scatter3d"
           }
          ],
          "scattercarpet": [
           {
            "marker": {
             "colorbar": {
              "outlinewidth": 0,
              "ticks": ""
             }
            },
            "type": "scattercarpet"
           }
          ],
          "scattergeo": [
           {
            "marker": {
             "colorbar": {
              "outlinewidth": 0,
              "ticks": ""
             }
            },
            "type": "scattergeo"
           }
          ],
          "scattergl": [
           {
            "marker": {
             "colorbar": {
              "outlinewidth": 0,
              "ticks": ""
             }
            },
            "type": "scattergl"
           }
          ],
          "scattermapbox": [
           {
            "marker": {
             "colorbar": {
              "outlinewidth": 0,
              "ticks": ""
             }
            },
            "type": "scattermapbox"
           }
          ],
          "scatterpolar": [
           {
            "marker": {
             "colorbar": {
              "outlinewidth": 0,
              "ticks": ""
             }
            },
            "type": "scatterpolar"
           }
          ],
          "scatterpolargl": [
           {
            "marker": {
             "colorbar": {
              "outlinewidth": 0,
              "ticks": ""
             }
            },
            "type": "scatterpolargl"
           }
          ],
          "scatterternary": [
           {
            "marker": {
             "colorbar": {
              "outlinewidth": 0,
              "ticks": ""
             }
            },
            "type": "scatterternary"
           }
          ],
          "surface": [
           {
            "colorbar": {
             "outlinewidth": 0,
             "ticks": ""
            },
            "colorscale": [
             [
              0,
              "#0d0887"
             ],
             [
              0.1111111111111111,
              "#46039f"
             ],
             [
              0.2222222222222222,
              "#7201a8"
             ],
             [
              0.3333333333333333,
              "#9c179e"
             ],
             [
              0.4444444444444444,
              "#bd3786"
             ],
             [
              0.5555555555555556,
              "#d8576b"
             ],
             [
              0.6666666666666666,
              "#ed7953"
             ],
             [
              0.7777777777777778,
              "#fb9f3a"
             ],
             [
              0.8888888888888888,
              "#fdca26"
             ],
             [
              1,
              "#f0f921"
             ]
            ],
            "type": "surface"
           }
          ],
          "table": [
           {
            "cells": {
             "fill": {
              "color": "#EBF0F8"
             },
             "line": {
              "color": "white"
             }
            },
            "header": {
             "fill": {
              "color": "#C8D4E3"
             },
             "line": {
              "color": "white"
             }
            },
            "type": "table"
           }
          ]
         },
         "layout": {
          "annotationdefaults": {
           "arrowcolor": "#2a3f5f",
           "arrowhead": 0,
           "arrowwidth": 1
          },
          "autotypenumbers": "strict",
          "coloraxis": {
           "colorbar": {
            "outlinewidth": 0,
            "ticks": ""
           }
          },
          "colorscale": {
           "diverging": [
            [
             0,
             "#8e0152"
            ],
            [
             0.1,
             "#c51b7d"
            ],
            [
             0.2,
             "#de77ae"
            ],
            [
             0.3,
             "#f1b6da"
            ],
            [
             0.4,
             "#fde0ef"
            ],
            [
             0.5,
             "#f7f7f7"
            ],
            [
             0.6,
             "#e6f5d0"
            ],
            [
             0.7,
             "#b8e186"
            ],
            [
             0.8,
             "#7fbc41"
            ],
            [
             0.9,
             "#4d9221"
            ],
            [
             1,
             "#276419"
            ]
           ],
           "sequential": [
            [
             0,
             "#0d0887"
            ],
            [
             0.1111111111111111,
             "#46039f"
            ],
            [
             0.2222222222222222,
             "#7201a8"
            ],
            [
             0.3333333333333333,
             "#9c179e"
            ],
            [
             0.4444444444444444,
             "#bd3786"
            ],
            [
             0.5555555555555556,
             "#d8576b"
            ],
            [
             0.6666666666666666,
             "#ed7953"
            ],
            [
             0.7777777777777778,
             "#fb9f3a"
            ],
            [
             0.8888888888888888,
             "#fdca26"
            ],
            [
             1,
             "#f0f921"
            ]
           ],
           "sequentialminus": [
            [
             0,
             "#0d0887"
            ],
            [
             0.1111111111111111,
             "#46039f"
            ],
            [
             0.2222222222222222,
             "#7201a8"
            ],
            [
             0.3333333333333333,
             "#9c179e"
            ],
            [
             0.4444444444444444,
             "#bd3786"
            ],
            [
             0.5555555555555556,
             "#d8576b"
            ],
            [
             0.6666666666666666,
             "#ed7953"
            ],
            [
             0.7777777777777778,
             "#fb9f3a"
            ],
            [
             0.8888888888888888,
             "#fdca26"
            ],
            [
             1,
             "#f0f921"
            ]
           ]
          },
          "colorway": [
           "#636efa",
           "#EF553B",
           "#00cc96",
           "#ab63fa",
           "#FFA15A",
           "#19d3f3",
           "#FF6692",
           "#B6E880",
           "#FF97FF",
           "#FECB52"
          ],
          "font": {
           "color": "#2a3f5f"
          },
          "geo": {
           "bgcolor": "white",
           "lakecolor": "white",
           "landcolor": "#E5ECF6",
           "showlakes": true,
           "showland": true,
           "subunitcolor": "white"
          },
          "hoverlabel": {
           "align": "left"
          },
          "hovermode": "closest",
          "mapbox": {
           "style": "light"
          },
          "paper_bgcolor": "white",
          "plot_bgcolor": "#E5ECF6",
          "polar": {
           "angularaxis": {
            "gridcolor": "white",
            "linecolor": "white",
            "ticks": ""
           },
           "bgcolor": "#E5ECF6",
           "radialaxis": {
            "gridcolor": "white",
            "linecolor": "white",
            "ticks": ""
           }
          },
          "scene": {
           "xaxis": {
            "backgroundcolor": "#E5ECF6",
            "gridcolor": "white",
            "gridwidth": 2,
            "linecolor": "white",
            "showbackground": true,
            "ticks": "",
            "zerolinecolor": "white"
           },
           "yaxis": {
            "backgroundcolor": "#E5ECF6",
            "gridcolor": "white",
            "gridwidth": 2,
            "linecolor": "white",
            "showbackground": true,
            "ticks": "",
            "zerolinecolor": "white"
           },
           "zaxis": {
            "backgroundcolor": "#E5ECF6",
            "gridcolor": "white",
            "gridwidth": 2,
            "linecolor": "white",
            "showbackground": true,
            "ticks": "",
            "zerolinecolor": "white"
           }
          },
          "shapedefaults": {
           "line": {
            "color": "#2a3f5f"
           }
          },
          "ternary": {
           "aaxis": {
            "gridcolor": "white",
            "linecolor": "white",
            "ticks": ""
           },
           "baxis": {
            "gridcolor": "white",
            "linecolor": "white",
            "ticks": ""
           },
           "bgcolor": "#E5ECF6",
           "caxis": {
            "gridcolor": "white",
            "linecolor": "white",
            "ticks": ""
           }
          },
          "title": {
           "x": 0.05
          },
          "xaxis": {
           "automargin": true,
           "gridcolor": "white",
           "linecolor": "white",
           "ticks": "",
           "title": {
            "standoff": 15
           },
           "zerolinecolor": "white",
           "zerolinewidth": 2
          },
          "yaxis": {
           "automargin": true,
           "gridcolor": "white",
           "linecolor": "white",
           "ticks": "",
           "title": {
            "standoff": 15
           },
           "zerolinecolor": "white",
           "zerolinewidth": 2
          }
         }
        }
       }
      },
      "text/html": [
       "<div>                            <div id=\"d1735adc-aa27-47b2-bb96-dd5c6de17792\" class=\"plotly-graph-div\" style=\"height:525px; width:100%;\"></div>            <script type=\"text/javascript\">                require([\"plotly\"], function(Plotly) {                    window.PLOTLYENV=window.PLOTLYENV || {};                                    if (document.getElementById(\"d1735adc-aa27-47b2-bb96-dd5c6de17792\")) {                    Plotly.newPlot(                        \"d1735adc-aa27-47b2-bb96-dd5c6de17792\",                        [{\"x\":[7419,4593,3734,3539],\"y\":[\"\\u0413\\u043b\\u0430\\u0432\\u043d\\u0430\\u044f \\u0441\\u0442\\u0440\\u0430\\u043d\\u0438\\u0446\\u0430\",\"\\u0421\\u0442\\u0440\\u0430\\u043d\\u0438\\u0446\\u0430 \\u0441 \\u0442\\u043e\\u0432\\u0430\\u0440\\u0430\\u043c\\u0438\",\"\\u041a\\u043e\\u0440\\u0437\\u0438\\u043d\\u0430 \\u043f\\u043e\\u043a\\u0443\\u043f\\u043e\\u043a\",\"\\u0423\\u0441\\u043f\\u0435\\u0448\\u043d\\u0430\\u044f \\u043e\\u043f\\u043b\\u0430\\u0442\\u0430\"],\"type\":\"funnel\"}],                        {\"template\":{\"data\":{\"histogram2dcontour\":[{\"type\":\"histogram2dcontour\",\"colorbar\":{\"outlinewidth\":0,\"ticks\":\"\"},\"colorscale\":[[0.0,\"#0d0887\"],[0.1111111111111111,\"#46039f\"],[0.2222222222222222,\"#7201a8\"],[0.3333333333333333,\"#9c179e\"],[0.4444444444444444,\"#bd3786\"],[0.5555555555555556,\"#d8576b\"],[0.6666666666666666,\"#ed7953\"],[0.7777777777777778,\"#fb9f3a\"],[0.8888888888888888,\"#fdca26\"],[1.0,\"#f0f921\"]]}],\"choropleth\":[{\"type\":\"choropleth\",\"colorbar\":{\"outlinewidth\":0,\"ticks\":\"\"}}],\"histogram2d\":[{\"type\":\"histogram2d\",\"colorbar\":{\"outlinewidth\":0,\"ticks\":\"\"},\"colorscale\":[[0.0,\"#0d0887\"],[0.1111111111111111,\"#46039f\"],[0.2222222222222222,\"#7201a8\"],[0.3333333333333333,\"#9c179e\"],[0.4444444444444444,\"#bd3786\"],[0.5555555555555556,\"#d8576b\"],[0.6666666666666666,\"#ed7953\"],[0.7777777777777778,\"#fb9f3a\"],[0.8888888888888888,\"#fdca26\"],[1.0,\"#f0f921\"]]}],\"heatmap\":[{\"type\":\"heatmap\",\"colorbar\":{\"outlinewidth\":0,\"ticks\":\"\"},\"colorscale\":[[0.0,\"#0d0887\"],[0.1111111111111111,\"#46039f\"],[0.2222222222222222,\"#7201a8\"],[0.3333333333333333,\"#9c179e\"],[0.4444444444444444,\"#bd3786\"],[0.5555555555555556,\"#d8576b\"],[0.6666666666666666,\"#ed7953\"],[0.7777777777777778,\"#fb9f3a\"],[0.8888888888888888,\"#fdca26\"],[1.0,\"#f0f921\"]]}],\"heatmapgl\":[{\"type\":\"heatmapgl\",\"colorbar\":{\"outlinewidth\":0,\"ticks\":\"\"},\"colorscale\":[[0.0,\"#0d0887\"],[0.1111111111111111,\"#46039f\"],[0.2222222222222222,\"#7201a8\"],[0.3333333333333333,\"#9c179e\"],[0.4444444444444444,\"#bd3786\"],[0.5555555555555556,\"#d8576b\"],[0.6666666666666666,\"#ed7953\"],[0.7777777777777778,\"#fb9f3a\"],[0.8888888888888888,\"#fdca26\"],[1.0,\"#f0f921\"]]}],\"contourcarpet\":[{\"type\":\"contourcarpet\",\"colorbar\":{\"outlinewidth\":0,\"ticks\":\"\"}}],\"contour\":[{\"type\":\"contour\",\"colorbar\":{\"outlinewidth\":0,\"ticks\":\"\"},\"colorscale\":[[0.0,\"#0d0887\"],[0.1111111111111111,\"#46039f\"],[0.2222222222222222,\"#7201a8\"],[0.3333333333333333,\"#9c179e\"],[0.4444444444444444,\"#bd3786\"],[0.5555555555555556,\"#d8576b\"],[0.6666666666666666,\"#ed7953\"],[0.7777777777777778,\"#fb9f3a\"],[0.8888888888888888,\"#fdca26\"],[1.0,\"#f0f921\"]]}],\"surface\":[{\"type\":\"surface\",\"colorbar\":{\"outlinewidth\":0,\"ticks\":\"\"},\"colorscale\":[[0.0,\"#0d0887\"],[0.1111111111111111,\"#46039f\"],[0.2222222222222222,\"#7201a8\"],[0.3333333333333333,\"#9c179e\"],[0.4444444444444444,\"#bd3786\"],[0.5555555555555556,\"#d8576b\"],[0.6666666666666666,\"#ed7953\"],[0.7777777777777778,\"#fb9f3a\"],[0.8888888888888888,\"#fdca26\"],[1.0,\"#f0f921\"]]}],\"mesh3d\":[{\"type\":\"mesh3d\",\"colorbar\":{\"outlinewidth\":0,\"ticks\":\"\"}}],\"scatter\":[{\"fillpattern\":{\"fillmode\":\"overlay\",\"size\":10,\"solidity\":0.2},\"type\":\"scatter\"}],\"parcoords\":[{\"type\":\"parcoords\",\"line\":{\"colorbar\":{\"outlinewidth\":0,\"ticks\":\"\"}}}],\"scatterpolargl\":[{\"type\":\"scatterpolargl\",\"marker\":{\"colorbar\":{\"outlinewidth\":0,\"ticks\":\"\"}}}],\"bar\":[{\"error_x\":{\"color\":\"#2a3f5f\"},\"error_y\":{\"color\":\"#2a3f5f\"},\"marker\":{\"line\":{\"color\":\"#E5ECF6\",\"width\":0.5},\"pattern\":{\"fillmode\":\"overlay\",\"size\":10,\"solidity\":0.2}},\"type\":\"bar\"}],\"scattergeo\":[{\"type\":\"scattergeo\",\"marker\":{\"colorbar\":{\"outlinewidth\":0,\"ticks\":\"\"}}}],\"scatterpolar\":[{\"type\":\"scatterpolar\",\"marker\":{\"colorbar\":{\"outlinewidth\":0,\"ticks\":\"\"}}}],\"histogram\":[{\"marker\":{\"pattern\":{\"fillmode\":\"overlay\",\"size\":10,\"solidity\":0.2}},\"type\":\"histogram\"}],\"scattergl\":[{\"type\":\"scattergl\",\"marker\":{\"colorbar\":{\"outlinewidth\":0,\"ticks\":\"\"}}}],\"scatter3d\":[{\"type\":\"scatter3d\",\"line\":{\"colorbar\":{\"outlinewidth\":0,\"ticks\":\"\"}},\"marker\":{\"colorbar\":{\"outlinewidth\":0,\"ticks\":\"\"}}}],\"scattermapbox\":[{\"type\":\"scattermapbox\",\"marker\":{\"colorbar\":{\"outlinewidth\":0,\"ticks\":\"\"}}}],\"scatterternary\":[{\"type\":\"scatterternary\",\"marker\":{\"colorbar\":{\"outlinewidth\":0,\"ticks\":\"\"}}}],\"scattercarpet\":[{\"type\":\"scattercarpet\",\"marker\":{\"colorbar\":{\"outlinewidth\":0,\"ticks\":\"\"}}}],\"carpet\":[{\"aaxis\":{\"endlinecolor\":\"#2a3f5f\",\"gridcolor\":\"white\",\"linecolor\":\"white\",\"minorgridcolor\":\"white\",\"startlinecolor\":\"#2a3f5f\"},\"baxis\":{\"endlinecolor\":\"#2a3f5f\",\"gridcolor\":\"white\",\"linecolor\":\"white\",\"minorgridcolor\":\"white\",\"startlinecolor\":\"#2a3f5f\"},\"type\":\"carpet\"}],\"table\":[{\"cells\":{\"fill\":{\"color\":\"#EBF0F8\"},\"line\":{\"color\":\"white\"}},\"header\":{\"fill\":{\"color\":\"#C8D4E3\"},\"line\":{\"color\":\"white\"}},\"type\":\"table\"}],\"barpolar\":[{\"marker\":{\"line\":{\"color\":\"#E5ECF6\",\"width\":0.5},\"pattern\":{\"fillmode\":\"overlay\",\"size\":10,\"solidity\":0.2}},\"type\":\"barpolar\"}],\"pie\":[{\"automargin\":true,\"type\":\"pie\"}]},\"layout\":{\"autotypenumbers\":\"strict\",\"colorway\":[\"#636efa\",\"#EF553B\",\"#00cc96\",\"#ab63fa\",\"#FFA15A\",\"#19d3f3\",\"#FF6692\",\"#B6E880\",\"#FF97FF\",\"#FECB52\"],\"font\":{\"color\":\"#2a3f5f\"},\"hovermode\":\"closest\",\"hoverlabel\":{\"align\":\"left\"},\"paper_bgcolor\":\"white\",\"plot_bgcolor\":\"#E5ECF6\",\"polar\":{\"bgcolor\":\"#E5ECF6\",\"angularaxis\":{\"gridcolor\":\"white\",\"linecolor\":\"white\",\"ticks\":\"\"},\"radialaxis\":{\"gridcolor\":\"white\",\"linecolor\":\"white\",\"ticks\":\"\"}},\"ternary\":{\"bgcolor\":\"#E5ECF6\",\"aaxis\":{\"gridcolor\":\"white\",\"linecolor\":\"white\",\"ticks\":\"\"},\"baxis\":{\"gridcolor\":\"white\",\"linecolor\":\"white\",\"ticks\":\"\"},\"caxis\":{\"gridcolor\":\"white\",\"linecolor\":\"white\",\"ticks\":\"\"}},\"coloraxis\":{\"colorbar\":{\"outlinewidth\":0,\"ticks\":\"\"}},\"colorscale\":{\"sequential\":[[0.0,\"#0d0887\"],[0.1111111111111111,\"#46039f\"],[0.2222222222222222,\"#7201a8\"],[0.3333333333333333,\"#9c179e\"],[0.4444444444444444,\"#bd3786\"],[0.5555555555555556,\"#d8576b\"],[0.6666666666666666,\"#ed7953\"],[0.7777777777777778,\"#fb9f3a\"],[0.8888888888888888,\"#fdca26\"],[1.0,\"#f0f921\"]],\"sequentialminus\":[[0.0,\"#0d0887\"],[0.1111111111111111,\"#46039f\"],[0.2222222222222222,\"#7201a8\"],[0.3333333333333333,\"#9c179e\"],[0.4444444444444444,\"#bd3786\"],[0.5555555555555556,\"#d8576b\"],[0.6666666666666666,\"#ed7953\"],[0.7777777777777778,\"#fb9f3a\"],[0.8888888888888888,\"#fdca26\"],[1.0,\"#f0f921\"]],\"diverging\":[[0,\"#8e0152\"],[0.1,\"#c51b7d\"],[0.2,\"#de77ae\"],[0.3,\"#f1b6da\"],[0.4,\"#fde0ef\"],[0.5,\"#f7f7f7\"],[0.6,\"#e6f5d0\"],[0.7,\"#b8e186\"],[0.8,\"#7fbc41\"],[0.9,\"#4d9221\"],[1,\"#276419\"]]},\"xaxis\":{\"gridcolor\":\"white\",\"linecolor\":\"white\",\"ticks\":\"\",\"title\":{\"standoff\":15},\"zerolinecolor\":\"white\",\"automargin\":true,\"zerolinewidth\":2},\"yaxis\":{\"gridcolor\":\"white\",\"linecolor\":\"white\",\"ticks\":\"\",\"title\":{\"standoff\":15},\"zerolinecolor\":\"white\",\"automargin\":true,\"zerolinewidth\":2},\"scene\":{\"xaxis\":{\"backgroundcolor\":\"#E5ECF6\",\"gridcolor\":\"white\",\"linecolor\":\"white\",\"showbackground\":true,\"ticks\":\"\",\"zerolinecolor\":\"white\",\"gridwidth\":2},\"yaxis\":{\"backgroundcolor\":\"#E5ECF6\",\"gridcolor\":\"white\",\"linecolor\":\"white\",\"showbackground\":true,\"ticks\":\"\",\"zerolinecolor\":\"white\",\"gridwidth\":2},\"zaxis\":{\"backgroundcolor\":\"#E5ECF6\",\"gridcolor\":\"white\",\"linecolor\":\"white\",\"showbackground\":true,\"ticks\":\"\",\"zerolinecolor\":\"white\",\"gridwidth\":2}},\"shapedefaults\":{\"line\":{\"color\":\"#2a3f5f\"}},\"annotationdefaults\":{\"arrowcolor\":\"#2a3f5f\",\"arrowhead\":0,\"arrowwidth\":1},\"geo\":{\"bgcolor\":\"white\",\"landcolor\":\"#E5ECF6\",\"subunitcolor\":\"white\",\"showland\":true,\"showlakes\":true,\"lakecolor\":\"white\"},\"title\":{\"x\":0.05},\"mapbox\":{\"style\":\"light\"}}}},                        {\"responsive\": true}                    ).then(function(){\n",
       "                            \n",
       "var gd = document.getElementById('d1735adc-aa27-47b2-bb96-dd5c6de17792');\n",
       "var x = new MutationObserver(function (mutations, observer) {{\n",
       "        var display = window.getComputedStyle(gd).display;\n",
       "        if (!display || display === 'none') {{\n",
       "            console.log([gd, 'removed!']);\n",
       "            Plotly.purge(gd);\n",
       "            observer.disconnect();\n",
       "        }}\n",
       "}});\n",
       "\n",
       "// Listen for the removal of the full notebook cells\n",
       "var notebookContainer = gd.closest('#notebook-container');\n",
       "if (notebookContainer) {{\n",
       "    x.observe(notebookContainer, {childList: true});\n",
       "}}\n",
       "\n",
       "// Listen for the clearing of the current output cell\n",
       "var outputEl = gd.closest('.output');\n",
       "if (outputEl) {{\n",
       "    x.observe(outputEl, {childList: true});\n",
       "}}\n",
       "\n",
       "                        })                };                });            </script>        </div>"
      ]
     },
     "metadata": {},
     "output_type": "display_data"
    }
   ],
   "source": [
    "# для наглядности построим график воронки с помощью библиотеки plotly\n",
    "from plotly import graph_objects as go\n",
    "\n",
    "fig = go.Figure(go.Funnel(\n",
    "    y = [\"Главная страница\", \"Страница с товарами\",\"Корзина покупок\", \"Успешная оплата\"],\n",
    "    x = [7419,4593, 3734, 3539])\n",
    ")\n",
    "\n",
    "\n",
    "fig.show()"
   ]
  },
  {
   "cell_type": "markdown",
   "id": "54deed0c",
   "metadata": {},
   "source": [
    "Больше всего пользователей теряется на первом шаге - на пути от открытия главной страницы до обзора экрана с товарами - 38,1%. Общая конверсия в успешную покупку составляет 47,7 %."
   ]
  },
  {
   "cell_type": "markdown",
   "id": "b57b4a91",
   "metadata": {},
   "source": [
    "<a class=\"anchor\" id=\"21-bullet\"></a>"
   ]
  },
  {
   "cell_type": "markdown",
   "id": "bfa04ea5",
   "metadata": {},
   "source": [
    "## 5. Анализ результатов эксперимента.<a class=\"anchor\" id=\"5\"></a>"
   ]
  },
  {
   "cell_type": "code",
   "execution_count": 83,
   "id": "9c51161f",
   "metadata": {},
   "outputs": [
    {
     "data": {
      "text/html": [
       "<div>\n",
       "<style scoped>\n",
       "    .dataframe tbody tr th:only-of-type {\n",
       "        vertical-align: middle;\n",
       "    }\n",
       "\n",
       "    .dataframe tbody tr th {\n",
       "        vertical-align: top;\n",
       "    }\n",
       "\n",
       "    .dataframe thead th {\n",
       "        text-align: right;\n",
       "    }\n",
       "</style>\n",
       "<table border=\"1\" class=\"dataframe\">\n",
       "  <thead>\n",
       "    <tr style=\"text-align: right;\">\n",
       "      <th></th>\n",
       "      <th>CartScreenAppear</th>\n",
       "      <th>MainScreenAppear</th>\n",
       "      <th>OffersScreenAppear</th>\n",
       "      <th>PaymentScreenSuccessful</th>\n",
       "      <th>user_id</th>\n",
       "    </tr>\n",
       "    <tr>\n",
       "      <th>group</th>\n",
       "      <th></th>\n",
       "      <th></th>\n",
       "      <th></th>\n",
       "      <th></th>\n",
       "      <th></th>\n",
       "    </tr>\n",
       "  </thead>\n",
       "  <tbody>\n",
       "    <tr>\n",
       "      <th>246</th>\n",
       "      <td>1266</td>\n",
       "      <td>2450</td>\n",
       "      <td>1542</td>\n",
       "      <td>1200</td>\n",
       "      <td>2484</td>\n",
       "    </tr>\n",
       "    <tr>\n",
       "      <th>247</th>\n",
       "      <td>1238</td>\n",
       "      <td>2476</td>\n",
       "      <td>1520</td>\n",
       "      <td>1158</td>\n",
       "      <td>2513</td>\n",
       "    </tr>\n",
       "    <tr>\n",
       "      <th>248</th>\n",
       "      <td>1230</td>\n",
       "      <td>2493</td>\n",
       "      <td>1531</td>\n",
       "      <td>1181</td>\n",
       "      <td>2537</td>\n",
       "    </tr>\n",
       "  </tbody>\n",
       "</table>\n",
       "</div>"
      ],
      "text/plain": [
       "       CartScreenAppear  MainScreenAppear  OffersScreenAppear  \\\n",
       "group                                                           \n",
       "246                1266              2450                1542   \n",
       "247                1238              2476                1520   \n",
       "248                1230              2493                1531   \n",
       "\n",
       "       PaymentScreenSuccessful  user_id  \n",
       "group                                    \n",
       "246                       1200     2484  \n",
       "247                       1158     2513  \n",
       "248                       1181     2537  "
      ]
     },
     "execution_count": 83,
     "metadata": {},
     "output_type": "execute_result"
    }
   ],
   "source": [
    "# создадим сводную таблицу с количеством пользователей на каждом шаге по группам\n",
    "users_by_group = (\n",
    "    data_real.pivot_table(index = 'group', columns = 'event', values = 'user_id', aggfunc = 'nunique')\n",
    "    .merge(data_real.groupby('group')\n",
    "    .agg({'user_id':'nunique'}),left_on='group', right_on='group')\n",
    "    .drop(['Tutorial'], axis=1)\n",
    "    \n",
    ")\n",
    "users_by_group"
   ]
  },
  {
   "cell_type": "code",
   "execution_count": 84,
   "id": "228e12bb",
   "metadata": {},
   "outputs": [],
   "source": [
    "# зададим названия столбцов, к которым потом будет удобно обращаться при сравнении групп\n",
    "users_by_group=(\n",
    "    users_by_group\n",
    "    .rename(columns=\n",
    "            {'CartScreenAppear':'cart','MainScreenAppear':'main','OffersScreenAppear':'offers','PaymentScreenSuccessful':'purchase','user_id':'total'})\n",
    ")"
   ]
  },
  {
   "cell_type": "code",
   "execution_count": 85,
   "id": "3a83cd38",
   "metadata": {},
   "outputs": [
    {
     "data": {
      "text/html": [
       "<div>\n",
       "<style scoped>\n",
       "    .dataframe tbody tr th:only-of-type {\n",
       "        vertical-align: middle;\n",
       "    }\n",
       "\n",
       "    .dataframe tbody tr th {\n",
       "        vertical-align: top;\n",
       "    }\n",
       "\n",
       "    .dataframe thead th {\n",
       "        text-align: right;\n",
       "    }\n",
       "</style>\n",
       "<table border=\"1\" class=\"dataframe\">\n",
       "  <thead>\n",
       "    <tr style=\"text-align: right;\">\n",
       "      <th></th>\n",
       "      <th>cart</th>\n",
       "      <th>main</th>\n",
       "      <th>offers</th>\n",
       "      <th>purchase</th>\n",
       "      <th>total</th>\n",
       "    </tr>\n",
       "    <tr>\n",
       "      <th>group</th>\n",
       "      <th></th>\n",
       "      <th></th>\n",
       "      <th></th>\n",
       "      <th></th>\n",
       "      <th></th>\n",
       "    </tr>\n",
       "  </thead>\n",
       "  <tbody>\n",
       "    <tr>\n",
       "      <th>246</th>\n",
       "      <td>1266</td>\n",
       "      <td>2450</td>\n",
       "      <td>1542</td>\n",
       "      <td>1200</td>\n",
       "      <td>2484</td>\n",
       "    </tr>\n",
       "    <tr>\n",
       "      <th>247</th>\n",
       "      <td>1238</td>\n",
       "      <td>2476</td>\n",
       "      <td>1520</td>\n",
       "      <td>1158</td>\n",
       "      <td>2513</td>\n",
       "    </tr>\n",
       "    <tr>\n",
       "      <th>248</th>\n",
       "      <td>1230</td>\n",
       "      <td>2493</td>\n",
       "      <td>1531</td>\n",
       "      <td>1181</td>\n",
       "      <td>2537</td>\n",
       "    </tr>\n",
       "    <tr>\n",
       "      <th>both</th>\n",
       "      <td>2504</td>\n",
       "      <td>4926</td>\n",
       "      <td>3062</td>\n",
       "      <td>2358</td>\n",
       "      <td>4997</td>\n",
       "    </tr>\n",
       "  </tbody>\n",
       "</table>\n",
       "</div>"
      ],
      "text/plain": [
       "       cart  main  offers  purchase  total\n",
       "group                                     \n",
       "246    1266  2450    1542      1200   2484\n",
       "247    1238  2476    1520      1158   2513\n",
       "248    1230  2493    1531      1181   2537\n",
       "both   2504  4926    3062      2358   4997"
      ]
     },
     "execution_count": 85,
     "metadata": {},
     "output_type": "execute_result"
    }
   ],
   "source": [
    "# добавим в сводную таблицу строку с суммарным количеством пользователей у двух контрольных групп\n",
    "users_by_group.loc['both']=users_by_group.head(2).agg('sum').to_list()\n",
    "users_by_group"
   ]
  },
  {
   "cell_type": "code",
   "execution_count": 86,
   "id": "9e60fd8b",
   "metadata": {},
   "outputs": [
    {
     "data": {
      "text/html": [
       "<div>\n",
       "<style scoped>\n",
       "    .dataframe tbody tr th:only-of-type {\n",
       "        vertical-align: middle;\n",
       "    }\n",
       "\n",
       "    .dataframe tbody tr th {\n",
       "        vertical-align: top;\n",
       "    }\n",
       "\n",
       "    .dataframe thead th {\n",
       "        text-align: right;\n",
       "    }\n",
       "</style>\n",
       "<table border=\"1\" class=\"dataframe\">\n",
       "  <thead>\n",
       "    <tr style=\"text-align: right;\">\n",
       "      <th></th>\n",
       "      <th>step</th>\n",
       "      <th>group_a</th>\n",
       "      <th>group_b</th>\n",
       "    </tr>\n",
       "  </thead>\n",
       "  <tbody>\n",
       "    <tr>\n",
       "      <th>0</th>\n",
       "      <td>main</td>\n",
       "      <td>246</td>\n",
       "      <td>247</td>\n",
       "    </tr>\n",
       "    <tr>\n",
       "      <th>1</th>\n",
       "      <td>cart</td>\n",
       "      <td>246</td>\n",
       "      <td>247</td>\n",
       "    </tr>\n",
       "    <tr>\n",
       "      <th>2</th>\n",
       "      <td>purchase</td>\n",
       "      <td>246</td>\n",
       "      <td>247</td>\n",
       "    </tr>\n",
       "    <tr>\n",
       "      <th>3</th>\n",
       "      <td>main</td>\n",
       "      <td>246</td>\n",
       "      <td>248</td>\n",
       "    </tr>\n",
       "    <tr>\n",
       "      <th>4</th>\n",
       "      <td>main</td>\n",
       "      <td>247</td>\n",
       "      <td>248</td>\n",
       "    </tr>\n",
       "    <tr>\n",
       "      <th>5</th>\n",
       "      <td>main</td>\n",
       "      <td>both</td>\n",
       "      <td>248</td>\n",
       "    </tr>\n",
       "    <tr>\n",
       "      <th>6</th>\n",
       "      <td>offers</td>\n",
       "      <td>246</td>\n",
       "      <td>248</td>\n",
       "    </tr>\n",
       "    <tr>\n",
       "      <th>7</th>\n",
       "      <td>offers</td>\n",
       "      <td>247</td>\n",
       "      <td>248</td>\n",
       "    </tr>\n",
       "    <tr>\n",
       "      <th>8</th>\n",
       "      <td>offers</td>\n",
       "      <td>both</td>\n",
       "      <td>248</td>\n",
       "    </tr>\n",
       "    <tr>\n",
       "      <th>9</th>\n",
       "      <td>cart</td>\n",
       "      <td>246</td>\n",
       "      <td>248</td>\n",
       "    </tr>\n",
       "    <tr>\n",
       "      <th>10</th>\n",
       "      <td>cart</td>\n",
       "      <td>247</td>\n",
       "      <td>248</td>\n",
       "    </tr>\n",
       "    <tr>\n",
       "      <th>11</th>\n",
       "      <td>cart</td>\n",
       "      <td>both</td>\n",
       "      <td>248</td>\n",
       "    </tr>\n",
       "    <tr>\n",
       "      <th>12</th>\n",
       "      <td>purchase</td>\n",
       "      <td>246</td>\n",
       "      <td>248</td>\n",
       "    </tr>\n",
       "    <tr>\n",
       "      <th>13</th>\n",
       "      <td>purchase</td>\n",
       "      <td>247</td>\n",
       "      <td>248</td>\n",
       "    </tr>\n",
       "    <tr>\n",
       "      <th>14</th>\n",
       "      <td>purchase</td>\n",
       "      <td>both</td>\n",
       "      <td>248</td>\n",
       "    </tr>\n",
       "  </tbody>\n",
       "</table>\n",
       "</div>"
      ],
      "text/plain": [
       "        step group_a  group_b\n",
       "0       main     246      247\n",
       "1       cart     246      247\n",
       "2   purchase     246      247\n",
       "3       main     246      248\n",
       "4       main     247      248\n",
       "5       main    both      248\n",
       "6     offers     246      248\n",
       "7     offers     247      248\n",
       "8     offers    both      248\n",
       "9       cart     246      248\n",
       "10      cart     247      248\n",
       "11      cart    both      248\n",
       "12  purchase     246      248\n",
       "13  purchase     247      248\n",
       "14  purchase    both      248"
      ]
     },
     "execution_count": 86,
     "metadata": {},
     "output_type": "execute_result"
    }
   ],
   "source": [
    "# перечислим все планируемые эксперименты в отдельной таблице в форме [шаг, группа а, группа б]\n",
    "experiments = pd.DataFrame(\n",
    "    [['main',246,247],\n",
    "     ['cart',246,247],\n",
    "     ['purchase',246,247],\n",
    "     ['main',246,248],\n",
    "     ['main',247,248],\n",
    "     ['main','both',248],\n",
    "     ['offers',246,248],\n",
    "     ['offers',247,248],\n",
    "     ['offers','both',248],\n",
    "     ['cart',246,248],\n",
    "     ['cart',247,248],\n",
    "     ['cart','both',248],\n",
    "     ['purchase',246,248],\n",
    "     ['purchase',247,248],\n",
    "     ['purchase','both',248]],\n",
    "    columns = ['step','group_a','group_b']\n",
    "\n",
    ")\n",
    "experiments"
   ]
  },
  {
   "cell_type": "markdown",
   "id": "6502ac68",
   "metadata": {},
   "source": [
    "Проверим, находят ли статистические критерии разницу между выборками 246 и 247. Здесь и далее используем Z-тест. Зададим значение альфа - 0.05.\n",
    "\n",
    "Гипотезы для этого и всех последующих тестов:\n",
    "\n",
    "Нулевая - между пропорциями пользователей нет статистически значимой разницы.\n",
    "Альтернативная - пропорции пользователей различаются.\n",
    "\n"
   ]
  },
  {
   "cell_type": "code",
   "execution_count": 87,
   "id": "a829fa08",
   "metadata": {},
   "outputs": [
    {
     "name": "stdout",
     "output_type": "stream",
     "text": [
      "пропорция успехов в первой группе: 0.4971\n",
      "пропорция успехов в первой группе: 0.5029\n",
      "p-значение:  0.5617972322745155\n",
      "Не получилось отвергнуть нулевую гипотезу, нет оснований считать доли разными\n"
     ]
    }
   ],
   "source": [
    "# проверка, находят ли статистические критерии разницу между выборками 246 и 247\n",
    "alpha = 0.05 # критический уровень статистической значимости\n",
    "\n",
    "successes = np.array([2484, 2513])\n",
    "trials = np.array([4997, 4997])\n",
    "\n",
    "# пропорция успехов в первой группе:\n",
    "p1 = successes[0]/trials[0]\n",
    "\n",
    "# пропорция успехов во второй группе:\n",
    "p2 = successes[1]/trials[1]\n",
    "\n",
    "# пропорция успехов в комбинированном датасете:\n",
    "p_combined = (successes[0] + successes[1]) / (trials[0] + trials[1])\n",
    "\n",
    "# разница пропорций в датасетах\n",
    "difference = p1 - p2 \n",
    "\n",
    "# считаем статистику в ст.отклонениях стандартного нормального распределения\n",
    "z_value = difference / mth.sqrt(p_combined * (1 - p_combined) * (1/trials[0] + 1/trials[1]))\n",
    "\n",
    "# задаем стандартное нормальное распределение (среднее 0, ст.отклонение 1)\n",
    "distr = stats.norm(0, 1)  \n",
    "\n",
    "p_value = (1 - distr.cdf(abs(z_value))) * 2\n",
    "    \n",
    "print(f'пропорция успехов в первой группе: {p1:.4f}')\n",
    "print(f'пропорция успехов в первой группе: {p2:.4f}')\n",
    "\n",
    "print('p-значение: ', p_value)\n",
    "\n",
    "if p_value < alpha:\n",
    "    print('Отвергаем нулевую гипотезу: между долями есть значимая разница')\n",
    "else:\n",
    "    print('Не получилось отвергнуть нулевую гипотезу, нет оснований считать доли разными') "
   ]
  },
  {
   "cell_type": "markdown",
   "id": "d9531079",
   "metadata": {},
   "source": [
    "Для удобства дальнейших расчетов зададим функцию."
   ]
  },
  {
   "cell_type": "code",
   "execution_count": 88,
   "id": "fda8399e",
   "metadata": {},
   "outputs": [],
   "source": [
    "# зададим размер порогового значения уровня значимости\n",
    "# скорректируем на порпавку Бонферрони с учетом количества тестов\n",
    "bonferroni_correction = len(experiments)\n",
    "bonferroni_alpha = 0.05/bonferroni_correction\n"
   ]
  },
  {
   "cell_type": "code",
   "execution_count": 89,
   "id": "5415045d",
   "metadata": {},
   "outputs": [],
   "source": [
    "# проверка статистической достоверности различия между долями пользователей,\n",
    "# хотя бы раз совершавших целевое действие\n",
    "def z_test(step, group_a, group_b):\n",
    "    alpha = bonferroni_alpha # критический уровень статистической значимости\n",
    "\n",
    "    successes = np.array([users_by_group[step][group_a], users_by_group[step][group_b]])\n",
    "    trials = np.array([users_by_group['total'][group_a], users_by_group['total'][group_b]])\n",
    "\n",
    "    # пропорция успехов в первой группе:\n",
    "    p1 = successes[0]/trials[0]\n",
    "\n",
    "    # пропорция успехов во второй группе:\n",
    "    p2 = successes[1]/trials[1]\n",
    "\n",
    "    # пропорция успехов в комбинированном датасете:\n",
    "    p_combined = (successes[0] + successes[1]) / (trials[0] + trials[1])\n",
    "\n",
    "    # разница пропорций в датасетах\n",
    "    difference = p1 - p2 \n",
    "\n",
    "    # считаем статистику в ст.отклонениях стандартного нормального распределения\n",
    "    z_value = difference / mth.sqrt(p_combined * (1 - p_combined) * (1/trials[0] + 1/trials[1]))\n",
    "\n",
    "    # задаем стандартное нормальное распределение (среднее 0, ст.отклонение 1)\n",
    "    distr = stats.norm(0, 1)  \n",
    "\n",
    "    p_value = (1 - distr.cdf(abs(z_value))) * 2\n",
    "    \n",
    "    print(f'Сравнение пропорции пользователей на стадии {step} с общим количеством пользователей у групп {group_a} и {group_b}.')\n",
    "    \n",
    "    print(f'пропорция успехов в первой группе: {p1:.4f}')\n",
    "    print(f'пропорция успехов в первой группе: {p2:.4f}')\n",
    "\n",
    "    print('p-значение: ', p_value)\n",
    "\n",
    "    if p_value < alpha:\n",
    "        print('Отвергаем нулевую гипотезу: между долями есть значимая разница')\n",
    "    else:\n",
    "        print('Не получилось отвергнуть нулевую гипотезу, нет оснований считать доли разными') \n",
    "    print()"
   ]
  },
  {
   "cell_type": "code",
   "execution_count": 90,
   "id": "c1b382f5",
   "metadata": {},
   "outputs": [
    {
     "name": "stdout",
     "output_type": "stream",
     "text": [
      "Тест № 1\n",
      "Сравнение пропорции пользователей на стадии main с общим количеством пользователей у групп 246 и 247.\n",
      "пропорция успехов в первой группе: 0.9863\n",
      "пропорция успехов в первой группе: 0.9853\n",
      "p-значение:  0.7570597232046099\n",
      "Не получилось отвергнуть нулевую гипотезу, нет оснований считать доли разными\n",
      "\n",
      "Тест № 2\n",
      "Сравнение пропорции пользователей на стадии cart с общим количеством пользователей у групп 246 и 247.\n",
      "пропорция успехов в первой группе: 0.5097\n",
      "пропорция успехов в первой группе: 0.4926\n",
      "p-значение:  0.22883372237997213\n",
      "Не получилось отвергнуть нулевую гипотезу, нет оснований считать доли разными\n",
      "\n",
      "Тест № 3\n",
      "Сравнение пропорции пользователей на стадии purchase с общим количеством пользователей у групп 246 и 247.\n",
      "пропорция успехов в первой группе: 0.4831\n",
      "пропорция успехов в первой группе: 0.4608\n",
      "p-значение:  0.11456679313141849\n",
      "Не получилось отвергнуть нулевую гипотезу, нет оснований считать доли разными\n",
      "\n",
      "Тест № 4\n",
      "Сравнение пропорции пользователей на стадии main с общим количеством пользователей у групп 246 и 248.\n",
      "пропорция успехов в первой группе: 0.9863\n",
      "пропорция успехов в первой группе: 0.9827\n",
      "p-значение:  0.2949721933554552\n",
      "Не получилось отвергнуть нулевую гипотезу, нет оснований считать доли разными\n",
      "\n",
      "Тест № 5\n",
      "Сравнение пропорции пользователей на стадии main с общим количеством пользователей у групп 247 и 248.\n",
      "пропорция успехов в первой группе: 0.9853\n",
      "пропорция успехов в первой группе: 0.9827\n",
      "p-значение:  0.4587053616621515\n",
      "Не получилось отвергнуть нулевую гипотезу, нет оснований считать доли разными\n",
      "\n",
      "Тест № 6\n",
      "Сравнение пропорции пользователей на стадии main с общим количеством пользователей у групп both и 248.\n",
      "пропорция успехов в первой группе: 0.9858\n",
      "пропорция успехов в первой группе: 0.9827\n",
      "p-значение:  0.29424526837179577\n",
      "Не получилось отвергнуть нулевую гипотезу, нет оснований считать доли разными\n",
      "\n",
      "Тест № 7\n",
      "Сравнение пропорции пользователей на стадии offers с общим количеством пользователей у групп 246 и 248.\n",
      "пропорция успехов в первой группе: 0.6208\n",
      "пропорция успехов в первой группе: 0.6035\n",
      "p-значение:  0.20836205402738917\n",
      "Не получилось отвергнуть нулевую гипотезу, нет оснований считать доли разными\n",
      "\n",
      "Тест № 8\n",
      "Сравнение пропорции пользователей на стадии offers с общим количеством пользователей у групп 247 и 248.\n",
      "пропорция успехов в первой группе: 0.6049\n",
      "пропорция успехов в первой группе: 0.6035\n",
      "p-значение:  0.9197817830592261\n",
      "Не получилось отвергнуть нулевую гипотезу, нет оснований считать доли разными\n",
      "\n",
      "Тест № 9\n",
      "Сравнение пропорции пользователей на стадии offers с общим количеством пользователей у групп both и 248.\n",
      "пропорция успехов в первой группе: 0.6128\n",
      "пропорция успехов в первой группе: 0.6035\n",
      "p-значение:  0.43425549655188256\n",
      "Не получилось отвергнуть нулевую гипотезу, нет оснований считать доли разными\n",
      "\n",
      "Тест № 10\n",
      "Сравнение пропорции пользователей на стадии cart с общим количеством пользователей у групп 246 и 248.\n",
      "пропорция успехов в первой группе: 0.5097\n",
      "пропорция успехов в первой группе: 0.4848\n",
      "p-значение:  0.07842923237520116\n",
      "Не получилось отвергнуть нулевую гипотезу, нет оснований считать доли разными\n",
      "\n",
      "Тест № 11\n",
      "Сравнение пропорции пользователей на стадии cart с общим количеством пользователей у групп 247 и 248.\n",
      "пропорция успехов в первой группе: 0.4926\n",
      "пропорция успехов в первой группе: 0.4848\n",
      "p-значение:  0.5786197879539783\n",
      "Не получилось отвергнуть нулевую гипотезу, нет оснований считать доли разными\n",
      "\n",
      "Тест № 12\n",
      "Сравнение пропорции пользователей на стадии cart с общим количеством пользователей у групп both и 248.\n",
      "пропорция успехов в первой группе: 0.5011\n",
      "пропорция успехов в первой группе: 0.4848\n",
      "p-значение:  0.18175875284404386\n",
      "Не получилось отвергнуть нулевую гипотезу, нет оснований считать доли разными\n",
      "\n",
      "Тест № 13\n",
      "Сравнение пропорции пользователей на стадии purchase с общим количеством пользователей у групп 246 и 248.\n",
      "пропорция успехов в первой группе: 0.4831\n",
      "пропорция успехов в первой группе: 0.4655\n",
      "p-значение:  0.2122553275697796\n",
      "Не получилось отвергнуть нулевую гипотезу, нет оснований считать доли разными\n",
      "\n",
      "Тест № 14\n",
      "Сравнение пропорции пользователей на стадии purchase с общим количеством пользователей у групп 247 и 248.\n",
      "пропорция успехов в первой группе: 0.4608\n",
      "пропорция успехов в первой группе: 0.4655\n",
      "p-значение:  0.7373415053803964\n",
      "Не получилось отвергнуть нулевую гипотезу, нет оснований считать доли разными\n",
      "\n",
      "Тест № 15\n",
      "Сравнение пропорции пользователей на стадии purchase с общим количеством пользователей у групп both и 248.\n",
      "пропорция успехов в первой группе: 0.4719\n",
      "пропорция успехов в первой группе: 0.4655\n",
      "p-значение:  0.6004294282308704\n",
      "Не получилось отвергнуть нулевую гипотезу, нет оснований считать доли разными\n",
      "\n"
     ]
    }
   ],
   "source": [
    "# проведем тест для каждого элемента из таблицы с экспериментами\n",
    "for x in range(len(experiments)):\n",
    "    print(f'Тест № {x+1}')\n",
    "    z_test(experiments['step'][x], experiments['group_a'][x], experiments['group_b'][x])"
   ]
  },
  {
   "cell_type": "markdown",
   "id": "85da9fc3",
   "metadata": {},
   "source": [
    "#### Сравнение показателей контрольных групп."
   ]
  },
  {
   "cell_type": "markdown",
   "id": "850c689b",
   "metadata": {},
   "source": [
    "После проведенных рассчетов можно заключить, что разбиение по группам работает корректно: статистически значимых отличий между контрольными группами не выявлено."
   ]
  },
  {
   "cell_type": "markdown",
   "id": "b6b114a8",
   "metadata": {},
   "source": [
    "#### Сравнение показателей экспериментальной группы с контрольными."
   ]
  },
  {
   "cell_type": "markdown",
   "id": "1018b290",
   "metadata": {},
   "source": [
    "Сравнив экспериментальную группу по каждому действию поочередно с каждой из контрольных групп и с объединенной контрольной группой статистически значимых различий между ними не найдено.\n",
    "\n",
    "Результаты сравнения доли пользователей, совершивших целевое действие в экспериментальной и контрольных группах показало, что статистически заничимые различия отсутсвуют. Изменение шрифтов никак не повлияло на продажи.\n",
    "\n",
    "Изначально заданное пороговое значение уровня статистической значимости 0.05 скорректировано на поправку Бонферрони по количеству проведенных тестов - 15. Таким образом значение альфа 0.003.\n",
    "\n"
   ]
  },
  {
   "cell_type": "markdown",
   "id": "6c67004b",
   "metadata": {},
   "source": [
    "## 6. Выводы исследования.<a class=\"anchor\" id=\"6\"></a>"
   ]
  },
  {
   "cell_type": "markdown",
   "id": "dad23e26",
   "metadata": {},
   "source": [
    "Целью проекта был анализ поведения пользователей мобильного приложения для заказа продуктов. \n",
    "\n",
    "Необходимо было проанализировать воронку продаж и определить на каких этапах воронки отсеиваются пользователи.\n",
    "Также нужно было проанализировать результаты А/А/В теста и определить, какое влияние на поведение пользователей оказала смена шрифтов в приложении.\n",
    "\n",
    "Для анализа доступны данные о 7551 пользователях и 243713 событиях за неделю с 01.08.19 по 07.08.19. Пользователи разделены на 3 группы, две из которых контрольные, а третья - экспериментальная.\n",
    "\n",
    "#### Анализ воронки продаж показал:\n",
    "\n",
    "Больше всего пользователей теряется на первом шаге - на пути от открытия главной страницы до обзора экрана с товарами - 38,1%. Общая конверсия в успешную покупку составляет 47,7 %.\n",
    "\n",
    "#### Анализ результатов теста:\n",
    "\n",
    "Изменение шрифтов не оказало ни негативного, ни позитивного влияния на поведение пользователей, которое повлекло бы статистически значимые различия в поведении пользователей экспериментальной и контрольных групп. Новые шрифты можно внедрять, не опасаясь, что это приведет к негативному эффекту."
   ]
  }
 ],
 "metadata": {
  "ExecuteTimeLog": [
   {
    "duration": 1215,
    "start_time": "2022-11-20T06:11:23.876Z"
   },
   {
    "duration": 762,
    "start_time": "2022-11-20T06:11:25.093Z"
   },
   {
    "duration": 15,
    "start_time": "2022-11-20T06:11:25.859Z"
   },
   {
    "duration": 23,
    "start_time": "2022-11-20T06:11:25.880Z"
   },
   {
    "duration": 64,
    "start_time": "2022-11-20T06:11:25.905Z"
   },
   {
    "duration": 89,
    "start_time": "2022-11-20T06:11:25.971Z"
   },
   {
    "duration": 85,
    "start_time": "2022-11-20T06:11:26.062Z"
   },
   {
    "duration": 55,
    "start_time": "2022-11-20T06:11:26.151Z"
   },
   {
    "duration": 29,
    "start_time": "2022-11-20T06:11:26.207Z"
   },
   {
    "duration": 6,
    "start_time": "2022-11-20T06:11:26.243Z"
   },
   {
    "duration": 22,
    "start_time": "2022-11-20T06:11:26.250Z"
   },
   {
    "duration": 101,
    "start_time": "2022-11-20T06:11:26.274Z"
   },
   {
    "duration": 10,
    "start_time": "2022-11-20T06:11:26.378Z"
   },
   {
    "duration": 7,
    "start_time": "2022-11-20T06:11:26.390Z"
   },
   {
    "duration": 31,
    "start_time": "2022-11-20T06:11:26.400Z"
   },
   {
    "duration": 33,
    "start_time": "2022-11-20T06:11:26.439Z"
   },
   {
    "duration": 119,
    "start_time": "2022-11-20T06:11:26.474Z"
   },
   {
    "duration": 61,
    "start_time": "2022-11-20T06:11:26.595Z"
   },
   {
    "duration": 42,
    "start_time": "2022-11-20T06:11:26.658Z"
   },
   {
    "duration": 614,
    "start_time": "2022-11-20T06:11:26.702Z"
   },
   {
    "duration": 39,
    "start_time": "2022-11-20T06:11:27.323Z"
   },
   {
    "duration": 43,
    "start_time": "2022-11-20T06:11:27.364Z"
   },
   {
    "duration": 438,
    "start_time": "2022-11-20T06:11:27.409Z"
   },
   {
    "duration": 25,
    "start_time": "2022-11-20T06:11:27.848Z"
   },
   {
    "duration": 54,
    "start_time": "2022-11-20T06:11:27.875Z"
   },
   {
    "duration": 16,
    "start_time": "2022-11-20T06:11:27.930Z"
   },
   {
    "duration": 16,
    "start_time": "2022-11-20T06:11:27.948Z"
   },
   {
    "duration": 33,
    "start_time": "2022-11-20T06:11:27.967Z"
   },
   {
    "duration": 86,
    "start_time": "2022-11-20T06:11:28.001Z"
   },
   {
    "duration": 3,
    "start_time": "2022-11-20T06:11:28.089Z"
   },
   {
    "duration": 14,
    "start_time": "2022-11-20T06:11:28.094Z"
   },
   {
    "duration": 231,
    "start_time": "2022-11-20T06:11:28.109Z"
   },
   {
    "duration": 148,
    "start_time": "2022-11-20T06:11:28.341Z"
   },
   {
    "duration": 7,
    "start_time": "2022-11-20T06:11:28.522Z"
   },
   {
    "duration": 26,
    "start_time": "2022-11-20T06:11:28.531Z"
   },
   {
    "duration": 14,
    "start_time": "2022-11-20T06:11:28.559Z"
   },
   {
    "duration": 12,
    "start_time": "2022-11-20T06:11:28.575Z"
   },
   {
    "duration": 7,
    "start_time": "2022-11-20T06:11:28.588Z"
   },
   {
    "duration": 8,
    "start_time": "2022-11-20T06:11:28.596Z"
   },
   {
    "duration": 42,
    "start_time": "2022-11-20T06:11:28.606Z"
   },
   {
    "duration": 328,
    "start_time": "2022-11-20T06:21:16.694Z"
   },
   {
    "duration": 227,
    "start_time": "2022-11-20T06:21:23.567Z"
   },
   {
    "duration": 103,
    "start_time": "2022-11-20T06:21:33.476Z"
   },
   {
    "duration": 141,
    "start_time": "2022-11-20T06:21:49.584Z"
   },
   {
    "duration": 142,
    "start_time": "2022-11-20T06:22:18.424Z"
   },
   {
    "duration": 4,
    "start_time": "2022-11-20T06:22:28.595Z"
   },
   {
    "duration": 129,
    "start_time": "2022-11-20T06:22:44.948Z"
   },
   {
    "duration": 138,
    "start_time": "2022-11-20T06:22:50.048Z"
   },
   {
    "duration": 130,
    "start_time": "2022-11-20T06:22:58.731Z"
   },
   {
    "duration": 126,
    "start_time": "2022-11-20T06:23:05.038Z"
   },
   {
    "duration": 14,
    "start_time": "2022-11-20T06:23:18.959Z"
   },
   {
    "duration": 7,
    "start_time": "2022-11-20T06:23:24.693Z"
   },
   {
    "duration": 148,
    "start_time": "2022-11-20T06:24:46.076Z"
   },
   {
    "duration": 199,
    "start_time": "2022-11-20T06:25:06.935Z"
   },
   {
    "duration": 228,
    "start_time": "2022-11-20T06:25:36.355Z"
   },
   {
    "duration": 344,
    "start_time": "2022-11-20T06:25:43.701Z"
   },
   {
    "duration": 295,
    "start_time": "2022-11-20T06:26:35.721Z"
   },
   {
    "duration": 268,
    "start_time": "2022-11-20T06:27:03.724Z"
   },
   {
    "duration": 255,
    "start_time": "2022-11-20T06:27:22.311Z"
   },
   {
    "duration": 1176,
    "start_time": "2022-11-20T09:26:12.913Z"
   },
   {
    "duration": 1943,
    "start_time": "2022-11-20T09:26:14.093Z"
   },
   {
    "duration": 12,
    "start_time": "2022-11-20T09:26:16.037Z"
   },
   {
    "duration": 6,
    "start_time": "2022-11-20T09:26:16.051Z"
   },
   {
    "duration": 23,
    "start_time": "2022-11-20T09:26:16.059Z"
   },
   {
    "duration": 76,
    "start_time": "2022-11-20T09:26:16.084Z"
   },
   {
    "duration": 61,
    "start_time": "2022-11-20T09:26:16.161Z"
   },
   {
    "duration": 53,
    "start_time": "2022-11-20T09:26:16.224Z"
   },
   {
    "duration": 18,
    "start_time": "2022-11-20T09:26:16.278Z"
   },
   {
    "duration": 26,
    "start_time": "2022-11-20T09:26:16.299Z"
   },
   {
    "duration": 24,
    "start_time": "2022-11-20T09:26:16.326Z"
   },
   {
    "duration": 87,
    "start_time": "2022-11-20T09:26:16.351Z"
   },
   {
    "duration": 9,
    "start_time": "2022-11-20T09:26:16.440Z"
   },
   {
    "duration": 6,
    "start_time": "2022-11-20T09:26:16.450Z"
   },
   {
    "duration": 10,
    "start_time": "2022-11-20T09:26:16.457Z"
   },
   {
    "duration": 23,
    "start_time": "2022-11-20T09:26:16.469Z"
   },
   {
    "duration": 130,
    "start_time": "2022-11-20T09:26:16.494Z"
   },
   {
    "duration": 289,
    "start_time": "2022-11-20T09:26:16.626Z"
   },
   {
    "duration": 30,
    "start_time": "2022-11-20T09:26:16.921Z"
   },
   {
    "duration": 29,
    "start_time": "2022-11-20T09:26:16.952Z"
   },
   {
    "duration": 461,
    "start_time": "2022-11-20T09:26:16.983Z"
   },
   {
    "duration": 23,
    "start_time": "2022-11-20T09:26:17.445Z"
   },
   {
    "duration": 25,
    "start_time": "2022-11-20T09:26:17.469Z"
   },
   {
    "duration": 384,
    "start_time": "2022-11-20T09:26:17.495Z"
   },
   {
    "duration": 17,
    "start_time": "2022-11-20T09:26:17.881Z"
   },
   {
    "duration": 36,
    "start_time": "2022-11-20T09:26:17.900Z"
   },
   {
    "duration": 10,
    "start_time": "2022-11-20T09:26:17.938Z"
   },
   {
    "duration": 13,
    "start_time": "2022-11-20T09:26:17.950Z"
   },
   {
    "duration": 35,
    "start_time": "2022-11-20T09:26:17.965Z"
   },
   {
    "duration": 66,
    "start_time": "2022-11-20T09:26:18.022Z"
   },
   {
    "duration": 5,
    "start_time": "2022-11-20T09:26:18.089Z"
   },
   {
    "duration": 10,
    "start_time": "2022-11-20T09:26:18.095Z"
   },
   {
    "duration": 199,
    "start_time": "2022-11-20T09:26:18.122Z"
   },
   {
    "duration": 153,
    "start_time": "2022-11-20T09:26:18.323Z"
   },
   {
    "duration": 3,
    "start_time": "2022-11-20T09:26:18.477Z"
   },
   {
    "duration": 15,
    "start_time": "2022-11-20T09:26:18.482Z"
   },
   {
    "duration": 26,
    "start_time": "2022-11-20T09:26:18.499Z"
   },
   {
    "duration": 8,
    "start_time": "2022-11-20T09:26:18.526Z"
   },
   {
    "duration": 7,
    "start_time": "2022-11-20T09:26:18.535Z"
   },
   {
    "duration": 6,
    "start_time": "2022-11-20T09:26:18.544Z"
   },
   {
    "duration": 29,
    "start_time": "2022-11-20T09:26:18.551Z"
   },
   {
    "duration": 4,
    "start_time": "2022-11-20T09:57:51.705Z"
   },
   {
    "duration": 1298,
    "start_time": "2022-11-21T04:46:52.932Z"
   },
   {
    "duration": 486,
    "start_time": "2022-11-21T04:46:54.232Z"
   },
   {
    "duration": 11,
    "start_time": "2022-11-21T04:46:54.720Z"
   },
   {
    "duration": 29,
    "start_time": "2022-11-21T04:46:54.733Z"
   },
   {
    "duration": 38,
    "start_time": "2022-11-21T04:46:54.764Z"
   },
   {
    "duration": 64,
    "start_time": "2022-11-21T04:46:54.803Z"
   },
   {
    "duration": 53,
    "start_time": "2022-11-21T04:46:54.869Z"
   },
   {
    "duration": 71,
    "start_time": "2022-11-21T04:46:54.924Z"
   },
   {
    "duration": 23,
    "start_time": "2022-11-21T04:46:54.997Z"
   },
   {
    "duration": 40,
    "start_time": "2022-11-21T04:46:55.024Z"
   },
   {
    "duration": 53,
    "start_time": "2022-11-21T04:46:55.066Z"
   },
   {
    "duration": 98,
    "start_time": "2022-11-21T04:46:55.121Z"
   },
   {
    "duration": 10,
    "start_time": "2022-11-21T04:46:55.221Z"
   },
   {
    "duration": 53,
    "start_time": "2022-11-21T04:46:55.233Z"
   },
   {
    "duration": 25,
    "start_time": "2022-11-21T04:46:55.288Z"
   },
   {
    "duration": 45,
    "start_time": "2022-11-21T04:46:55.315Z"
   },
   {
    "duration": 154,
    "start_time": "2022-11-21T04:46:55.362Z"
   },
   {
    "duration": 295,
    "start_time": "2022-11-21T04:46:55.518Z"
   },
   {
    "duration": 50,
    "start_time": "2022-11-21T04:46:55.815Z"
   },
   {
    "duration": 41,
    "start_time": "2022-11-21T04:46:55.866Z"
   },
   {
    "duration": 497,
    "start_time": "2022-11-21T04:46:55.909Z"
   },
   {
    "duration": 192,
    "start_time": "2022-11-21T04:46:56.408Z"
   },
   {
    "duration": 25,
    "start_time": "2022-11-21T04:46:56.602Z"
   },
   {
    "duration": 40,
    "start_time": "2022-11-21T04:46:56.628Z"
   },
   {
    "duration": 405,
    "start_time": "2022-11-21T04:46:56.670Z"
   },
   {
    "duration": 22,
    "start_time": "2022-11-21T04:46:57.076Z"
   },
   {
    "duration": 30,
    "start_time": "2022-11-21T04:46:57.099Z"
   },
   {
    "duration": 30,
    "start_time": "2022-11-21T04:46:57.156Z"
   },
   {
    "duration": 11,
    "start_time": "2022-11-21T04:46:57.189Z"
   },
   {
    "duration": 13,
    "start_time": "2022-11-21T04:46:57.202Z"
   },
   {
    "duration": 61,
    "start_time": "2022-11-21T04:46:57.216Z"
   },
   {
    "duration": 78,
    "start_time": "2022-11-21T04:46:57.278Z"
   },
   {
    "duration": 12,
    "start_time": "2022-11-21T04:46:57.358Z"
   },
   {
    "duration": 6,
    "start_time": "2022-11-21T04:46:57.373Z"
   },
   {
    "duration": 7,
    "start_time": "2022-11-21T04:46:57.381Z"
   },
   {
    "duration": 252,
    "start_time": "2022-11-21T04:46:57.390Z"
   },
   {
    "duration": 157,
    "start_time": "2022-11-21T04:46:57.644Z"
   },
   {
    "duration": 4,
    "start_time": "2022-11-21T04:46:57.802Z"
   },
   {
    "duration": 32,
    "start_time": "2022-11-21T04:46:57.807Z"
   },
   {
    "duration": 31,
    "start_time": "2022-11-21T04:46:57.841Z"
   },
   {
    "duration": 23,
    "start_time": "2022-11-21T04:46:57.873Z"
   },
   {
    "duration": 34,
    "start_time": "2022-11-21T04:46:57.898Z"
   },
   {
    "duration": 34,
    "start_time": "2022-11-21T04:46:57.934Z"
   },
   {
    "duration": 130,
    "start_time": "2022-11-21T04:46:57.970Z"
   },
   {
    "duration": 1221,
    "start_time": "2022-11-22T05:13:47.077Z"
   },
   {
    "duration": 642,
    "start_time": "2022-11-22T05:13:48.299Z"
   },
   {
    "duration": 16,
    "start_time": "2022-11-22T05:13:48.944Z"
   },
   {
    "duration": 35,
    "start_time": "2022-11-22T05:13:48.963Z"
   },
   {
    "duration": 52,
    "start_time": "2022-11-22T05:13:49.000Z"
   },
   {
    "duration": 79,
    "start_time": "2022-11-22T05:13:49.054Z"
   },
   {
    "duration": 70,
    "start_time": "2022-11-22T05:13:49.135Z"
   },
   {
    "duration": 86,
    "start_time": "2022-11-22T05:13:49.207Z"
   },
   {
    "duration": 19,
    "start_time": "2022-11-22T05:13:49.295Z"
   },
   {
    "duration": 47,
    "start_time": "2022-11-22T05:13:49.316Z"
   },
   {
    "duration": 62,
    "start_time": "2022-11-22T05:13:49.364Z"
   },
   {
    "duration": 113,
    "start_time": "2022-11-22T05:13:49.427Z"
   },
   {
    "duration": 15,
    "start_time": "2022-11-22T05:13:49.541Z"
   },
   {
    "duration": 24,
    "start_time": "2022-11-22T05:13:49.558Z"
   },
   {
    "duration": 35,
    "start_time": "2022-11-22T05:13:49.584Z"
   },
   {
    "duration": 40,
    "start_time": "2022-11-22T05:13:49.622Z"
   },
   {
    "duration": 134,
    "start_time": "2022-11-22T05:13:49.664Z"
   },
   {
    "duration": 300,
    "start_time": "2022-11-22T05:13:49.801Z"
   },
   {
    "duration": 52,
    "start_time": "2022-11-22T05:13:50.103Z"
   },
   {
    "duration": 59,
    "start_time": "2022-11-22T05:13:50.157Z"
   },
   {
    "duration": 541,
    "start_time": "2022-11-22T05:13:50.218Z"
   },
   {
    "duration": 202,
    "start_time": "2022-11-22T05:13:50.761Z"
   },
   {
    "duration": 25,
    "start_time": "2022-11-22T05:13:50.965Z"
   },
   {
    "duration": 47,
    "start_time": "2022-11-22T05:13:50.992Z"
   },
   {
    "duration": 428,
    "start_time": "2022-11-22T05:13:51.045Z"
   },
   {
    "duration": 22,
    "start_time": "2022-11-22T05:13:51.475Z"
   },
   {
    "duration": 76,
    "start_time": "2022-11-22T05:13:51.499Z"
   },
   {
    "duration": 49,
    "start_time": "2022-11-22T05:13:51.578Z"
   },
   {
    "duration": 63,
    "start_time": "2022-11-22T05:13:51.629Z"
   },
   {
    "duration": 66,
    "start_time": "2022-11-22T05:13:51.693Z"
   },
   {
    "duration": 61,
    "start_time": "2022-11-22T05:13:51.761Z"
   },
   {
    "duration": 75,
    "start_time": "2022-11-22T05:13:51.824Z"
   },
   {
    "duration": 8,
    "start_time": "2022-11-22T05:13:51.901Z"
   },
   {
    "duration": 16,
    "start_time": "2022-11-22T05:13:51.910Z"
   },
   {
    "duration": 36,
    "start_time": "2022-11-22T05:13:51.927Z"
   },
   {
    "duration": 353,
    "start_time": "2022-11-22T05:13:51.965Z"
   },
   {
    "duration": 166,
    "start_time": "2022-11-22T05:13:52.319Z"
   },
   {
    "duration": 7,
    "start_time": "2022-11-22T05:13:52.487Z"
   },
   {
    "duration": 78,
    "start_time": "2022-11-22T05:13:52.496Z"
   },
   {
    "duration": 55,
    "start_time": "2022-11-22T05:13:52.576Z"
   },
   {
    "duration": 30,
    "start_time": "2022-11-22T05:13:52.633Z"
   },
   {
    "duration": 54,
    "start_time": "2022-11-22T05:13:52.665Z"
   },
   {
    "duration": 42,
    "start_time": "2022-11-22T05:13:52.721Z"
   },
   {
    "duration": 101,
    "start_time": "2022-11-22T05:13:52.765Z"
   }
  ],
  "kernelspec": {
   "display_name": "Python 3 (ipykernel)",
   "language": "python",
   "name": "python3"
  },
  "language_info": {
   "codemirror_mode": {
    "name": "ipython",
    "version": 3
   },
   "file_extension": ".py",
   "mimetype": "text/x-python",
   "name": "python",
   "nbconvert_exporter": "python",
   "pygments_lexer": "ipython3",
   "version": "3.9.7"
  },
  "toc": {
   "base_numbering": 1,
   "nav_menu": {},
   "number_sections": true,
   "sideBar": true,
   "skip_h1_title": true,
   "title_cell": "Table of Contents",
   "title_sidebar": "Contents",
   "toc_cell": false,
   "toc_position": {},
   "toc_section_display": true,
   "toc_window_display": false
  }
 },
 "nbformat": 4,
 "nbformat_minor": 5
}
